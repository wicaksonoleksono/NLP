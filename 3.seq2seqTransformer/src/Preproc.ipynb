{
 "cells": [
  {
   "cell_type": "code",
   "execution_count": 4,
   "metadata": {},
   "outputs": [],
   "source": [
    "from datasets import load_dataset\n",
    "from preprocessing import Aggregate,create_dictionary\n",
    "import os\n",
    "dataset = load_dataset(\"indonlp/NusaX-MT\")\n",
    "pth = \"dataset\"\n",
    "l_1=\"min\"\n",
    "l_2=\"eng\"\n",
    "agg = Aggregate(pth,dataset)\n",
    "saved_folder = agg(l_1,l_2)\n",
    "input_dic, output_dic,_,_=create_dictionary(source_lang=l_1, target_lang=l_2,data_path=pth)"
   ]
  },
  {
   "cell_type": "code",
   "execution_count": null,
   "metadata": {},
   "outputs": [
    {
     "name": "stdout",
     "output_type": "stream",
     "text": [
      "Index to word mapping (first 10):\n",
      "0 PAD\n",
      "1 SOS\n",
      "2 EOS\n",
      "3 UNK\n",
      "4 nikmati\n",
      "5 cicilan\n",
      "6 sampai\n",
      "7 bulan\n",
      "8 untuak\n",
      "9 pamasanan\n",
      "10 tiket\n",
      "11 pisawat\n",
      "12 air\n",
      "13 asia\n",
      "14 jo\n",
      "15 kartu\n",
      "16 kredit\n",
      "17 bni\n",
      "18 !\n",
      "19 kue\n",
      "20 nan\n",
      "21 disajian\n",
      "22 mambuek\n",
      "23 awak\n",
      "24 takana\n",
      "25 masa\n",
      "26 lalu\n",
      "27 .\n",
      "Index to word mapping (first 10):\n",
      "0 PAD\n",
      "1 SOS\n",
      "2 EOS\n",
      "3 UNK\n",
      "4 enjoy\n",
      "5 instalment\n",
      "6 for\n",
      "7 up\n",
      "8 to\n",
      "9 months\n",
      "10 when\n",
      "11 ordering\n",
      "12 an\n",
      "13 air\n",
      "14 asia\n",
      "15 plane\n",
      "16 ticket\n",
      "17 with\n",
      "18 bni\n",
      "19 credit\n",
      "20 card\n",
      "21 !\n",
      "22 the\n",
      "23 cakes\n",
      "24 give\n",
      "25 me\n",
      "26 massive\n",
      "27 nostalgia\n"
     ]
    }
   ],
   "source": [
    "print(\"Index to word mapping (first 10):\")\n",
    "for i in range(28):\n",
    "    print(i, input_dic.index2word[i])\n",
    "print(\"Index to word mapping (first 10):\")\n",
    "\n"
   ]
  },
  {
   "cell_type": "code",
   "execution_count": 10,
   "metadata": {},
   "outputs": [
    {
     "name": "stdout",
     "output_type": "stream",
     "text": [
      "0 PAD\n",
      "1 SOS\n",
      "2 EOS\n",
      "3 UNK\n",
      "4 enjoy\n",
      "5 instalment\n",
      "6 for\n",
      "7 up\n",
      "8 to\n",
      "9 months\n",
      "10 when\n",
      "11 ordering\n",
      "12 an\n",
      "13 air\n",
      "14 asia\n",
      "15 plane\n",
      "16 ticket\n",
      "17 with\n",
      "18 bni\n",
      "19 credit\n",
      "20 card\n",
      "21 !\n",
      "22 the\n",
      "23 cakes\n",
      "24 give\n",
      "25 me\n",
      "26 massive\n",
      "27 nostalgia\n"
     ]
    }
   ],
   "source": [
    "for i in range(28):\n",
    "    print(i, output_dic.index2word[i])"
   ]
  },
  {
   "cell_type": "code",
   "execution_count": null,
   "metadata": {},
   "outputs": [],
   "source": []
  }
 ],
 "metadata": {
  "kernelspec": {
   "display_name": "torch_env",
   "language": "python",
   "name": "python3"
  },
  "language_info": {
   "codemirror_mode": {
    "name": "ipython",
    "version": 3
   },
   "file_extension": ".py",
   "mimetype": "text/x-python",
   "name": "python",
   "nbconvert_exporter": "python",
   "pygments_lexer": "ipython3",
   "version": "3.10.16"
  }
 },
 "nbformat": 4,
 "nbformat_minor": 2
}

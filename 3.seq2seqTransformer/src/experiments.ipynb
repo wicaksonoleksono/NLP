{
 "cells": [
  {
   "cell_type": "code",
   "execution_count": 1,
   "metadata": {},
   "outputs": [
    {
     "name": "stderr",
     "output_type": "stream",
     "text": [
      "[nltk_data] Downloading package punkt to\n",
      "[nltk_data]     /home/wicaksonolxn/nltk_data...\n",
      "[nltk_data]   Package punkt is already up-to-date!\n"
     ]
    }
   ],
   "source": [
    "import os\n",
    "import torch\n",
    "import torch.nn as nn\n",
    "import torch.optim as optim\n",
    "from tqdm import tqdm\n",
    "from dataloader import get_dataloaders\n",
    "import nltk\n",
    "from nltk.translate.bleu_score import sentence_bleu, SmoothingFunction\n",
    "from transformer import Transformer,TransformerEncoder,TransformerDecoder\n",
    "import utils\n",
    "import pickle\n",
    "nltk.download('punkt')  \n",
    "device = torch.device('cuda' if torch.cuda.is_available() else 'cpu')"
   ]
  },
  {
   "cell_type": "code",
   "execution_count": null,
   "metadata": {},
   "outputs": [
    {
     "name": "stdout",
     "output_type": "stream",
     "text": [
      "Number of examples in train_dataset,train origin,train_raw: 799 799 799\n",
      "Number of examples in valid_dataset: 100\n",
      "Number of examples in test_dataset: 100\n",
      "Model initialized on: cuda\n"
     ]
    }
   ],
   "source": [
    "BATCH_SIZE = 64 # butuh lebih banyak update \n",
    "DATA_PATH = \"dataset/\"  \n",
    "train_loader, val_loader, test_loader = get_dataloaders(\n",
    "    data_path=DATA_PATH, \n",
    "    source_lang=\"min\", \n",
    "    target_lang=\"eng\", \n",
    "    batch_size=BATCH_SIZE, \n",
    "    device=device\n",
    ")\n",
    "SRC_VOCAB_SIZE = 5000\n",
    "TGT_VOCAB_SIZE = 5000\n",
    "N_LAYERS = 4\n",
    "N_HEADS = 4\n",
    "D_MODEL = 64\n",
    "FFN_HIDDEN = 64\n",
    "DROPOUT = 0.1\n",
    "EPOCHS = 100\n",
    "SAVE_DIR = \"saved\"\n",
    "encoder = TransformerEncoder(SRC_VOCAB_SIZE,D_MODEL,N_LAYERS,N_HEADS,FFN_HIDDEN,DROPOUT,device)\n",
    "decoder = TransformerDecoder(TGT_VOCAB_SIZE,D_MODEL,N_LAYERS,N_HEADS,FFN_HIDDEN,DROPOUT,device)\n",
    "model = Transformer(encoder,decoder,device,utils.PAD_TOKEN).to(device)\n",
    "optimizer = optim.Adam(model.parameters(), lr=5e-4)\n",
    "criterion = nn.CrossEntropyLoss(ignore_index=utils.PAD_TOKEN) \n",
    "print(\"Model initialized on:\", device)\n"
   ]
  },
  {
   "cell_type": "code",
   "execution_count": 3,
   "metadata": {},
   "outputs": [
    {
     "name": "stdout",
     "output_type": "stream",
     "text": [
      "torch.Size([64, 102]) torch.Size([64, 102])\n",
      "Padding: 0\n",
      "Start of Sequence: 1\n",
      "End of Sequence: 2\n",
      "Unknown: 3\n"
     ]
    }
   ],
   "source": [
    "tokens = {\n",
    "    \"Padding\": utils.PAD_TOKEN,\n",
    "    \"Start of Sequence\": utils.SOS_TOKEN,\n",
    "    \"End of Sequence\": utils.EOS_TOKEN,\n",
    "    \"Unknown\": utils.UNK_TOKEN\n",
    "}\n",
    "for i, batch in enumerate(train_loader):\n",
    "    if i < 8:\n",
    "        src = batch[\"src\"]\n",
    "        tgt = batch[\"tgt\"]\n",
    "        ss,fss=src[0,:],src.shape\n",
    "        st,fst=tgt[0,:],tgt.shape\n",
    "        print(fss,fst)\n",
    "    for name, token in tokens.items():\n",
    "        print(f\"{name}: {token}\")\n",
    "    else:\n",
    "        break\n"
   ]
  },
  {
   "cell_type": "markdown",
   "metadata": {},
   "source": [
    "testing input , is it correct"
   ]
  },
  {
   "cell_type": "code",
   "execution_count": 4,
   "metadata": {},
   "outputs": [
    {
     "name": "stdout",
     "output_type": "stream",
     "text": [
      "torch.Size([64, 102])\n",
      "torch.Size([64, 102])\n",
      "torch.Size([64, 102])\n",
      "torch.Size([64, 102])\n",
      "torch.Size([64, 102])\n",
      "torch.Size([64, 102])\n",
      "torch.Size([64, 102])\n"
     ]
    }
   ],
   "source": [
    "data_iter = iter(train_loader)\n",
    "for i in range(7):\n",
    "    batch = next(data_iter)\n",
    "    print(batch[\"src\"].shape)\n"
   ]
  },
  {
   "cell_type": "code",
   "execution_count": 5,
   "metadata": {},
   "outputs": [
    {
     "name": "stdout",
     "output_type": "stream",
     "text": [
      "tensor([315,  28, 174,  ...,   0,   0,   0], device='cuda:0')\n"
     ]
    }
   ],
   "source": [
    "for i,batch in enumerate(train_loader):\n",
    "    if i <1:\n",
    "        src_batch = batch['src'].to(device)\n",
    "        tgt_batch = batch['tgt'].to(device)\n",
    "        output, _ = model(src_batch, tgt_batch[:, :-1]) \n",
    "        output_dim = output.shape[-1]\n",
    "        output = output.reshape(-1, output_dim)\n",
    "        tgt_y = tgt_batch[:,1:].contiguous().view(-1)\n",
    "        print(tgt_y)"
   ]
  },
  {
   "cell_type": "code",
   "execution_count": null,
   "metadata": {},
   "outputs": [
    {
     "name": "stdout",
     "output_type": "stream",
     "text": [
      "Epoch 1/100\n"
     ]
    },
    {
     "name": "stderr",
     "output_type": "stream",
     "text": [
      "🚀 Training: 100%|██████████| 13/13 [00:00<00:00, 35.01it/s, loss=8.5886]\n",
      "🚀 Validation: 100%|██████████| 2/2 [00:00<00:00, 112.06it/s, loss=8.5642]\n"
     ]
    },
    {
     "name": "stdout",
     "output_type": "stream",
     "text": [
      "[Epoch 1] Train Loss: 8.6214 | Val Loss: 8.5780\n",
      "  -> New best model saved at saved/best.pt\n",
      "Epoch 2/100\n"
     ]
    },
    {
     "name": "stderr",
     "output_type": "stream",
     "text": [
      "🚀 Training: 100%|██████████| 13/13 [00:00<00:00, 40.44it/s, loss=8.3608]\n",
      "🚀 Validation: 100%|██████████| 2/2 [00:00<00:00, 81.77it/s, loss=8.3769]\n"
     ]
    },
    {
     "name": "stdout",
     "output_type": "stream",
     "text": [
      "[Epoch 2] Train Loss: 8.4420 | Val Loss: 8.3999\n",
      "  -> New best model saved at saved/best.pt\n",
      "Epoch 3/100\n"
     ]
    },
    {
     "name": "stderr",
     "output_type": "stream",
     "text": [
      "🚀 Training: 100%|██████████| 13/13 [00:00<00:00, 35.80it/s, loss=7.9965]\n",
      "🚀 Validation: 100%|██████████| 2/2 [00:00<00:00, 101.43it/s, loss=8.0231]\n"
     ]
    },
    {
     "name": "stdout",
     "output_type": "stream",
     "text": [
      "[Epoch 3] Train Loss: 8.1553 | Val Loss: 8.0608\n",
      "  -> New best model saved at saved/best.pt\n",
      "Epoch 4/100\n"
     ]
    },
    {
     "name": "stderr",
     "output_type": "stream",
     "text": [
      "🚀 Training: 100%|██████████| 13/13 [00:00<00:00, 37.87it/s, loss=7.3983]\n",
      "🚀 Validation: 100%|██████████| 2/2 [00:00<00:00, 97.96it/s, loss=7.5052]\n"
     ]
    },
    {
     "name": "stdout",
     "output_type": "stream",
     "text": [
      "[Epoch 4] Train Loss: 7.6737 | Val Loss: 7.5540\n",
      "  -> New best model saved at saved/best.pt\n",
      "Epoch 5/100\n"
     ]
    },
    {
     "name": "stderr",
     "output_type": "stream",
     "text": [
      "🚀 Training: 100%|██████████| 13/13 [00:00<00:00, 36.53it/s, loss=6.9234]\n",
      "🚀 Validation: 100%|██████████| 2/2 [00:00<00:00, 93.36it/s, loss=7.0984]\n"
     ]
    },
    {
     "name": "stdout",
     "output_type": "stream",
     "text": [
      "[Epoch 5] Train Loss: 7.1478 | Val Loss: 7.1547\n",
      "  -> New best model saved at saved/best.pt\n",
      "Epoch 6/100\n"
     ]
    },
    {
     "name": "stderr",
     "output_type": "stream",
     "text": [
      "🚀 Training: 100%|██████████| 13/13 [00:00<00:00, 34.46it/s, loss=6.5575]\n",
      "🚀 Validation: 100%|██████████| 2/2 [00:00<00:00, 76.65it/s, loss=6.8625]\n"
     ]
    },
    {
     "name": "stdout",
     "output_type": "stream",
     "text": [
      "[Epoch 6] Train Loss: 6.7832 | Val Loss: 6.9266\n",
      "  -> New best model saved at saved/best.pt\n",
      "Epoch 7/100\n"
     ]
    },
    {
     "name": "stderr",
     "output_type": "stream",
     "text": [
      "🚀 Training: 100%|██████████| 13/13 [00:00<00:00, 29.46it/s, loss=6.5129]\n",
      "🚀 Validation: 100%|██████████| 2/2 [00:00<00:00, 82.97it/s, loss=6.7410]\n"
     ]
    },
    {
     "name": "stdout",
     "output_type": "stream",
     "text": [
      "[Epoch 7] Train Loss: 6.5758 | Val Loss: 6.8123\n",
      "  -> New best model saved at saved/best.pt\n",
      "Epoch 8/100\n"
     ]
    },
    {
     "name": "stderr",
     "output_type": "stream",
     "text": [
      "🚀 Training: 100%|██████████| 13/13 [00:00<00:00, 32.04it/s, loss=6.4282]\n",
      "🚀 Validation: 100%|██████████| 2/2 [00:00<00:00, 89.67it/s, loss=6.6889]\n"
     ]
    },
    {
     "name": "stdout",
     "output_type": "stream",
     "text": [
      "[Epoch 8] Train Loss: 6.4578 | Val Loss: 6.7652\n",
      "  -> New best model saved at saved/best.pt\n",
      "Epoch 9/100\n"
     ]
    },
    {
     "name": "stderr",
     "output_type": "stream",
     "text": [
      "🚀 Training: 100%|██████████| 13/13 [00:00<00:00, 33.00it/s, loss=6.2929]\n",
      "🚀 Validation: 100%|██████████| 2/2 [00:00<00:00, 95.80it/s, loss=6.6627]\n"
     ]
    },
    {
     "name": "stdout",
     "output_type": "stream",
     "text": [
      "[Epoch 9] Train Loss: 6.3934 | Val Loss: 6.7447\n",
      "  -> New best model saved at saved/best.pt\n",
      "Epoch 10/100\n"
     ]
    },
    {
     "name": "stderr",
     "output_type": "stream",
     "text": [
      "🚀 Training: 100%|██████████| 13/13 [00:00<00:00, 35.37it/s, loss=6.3308]\n",
      "🚀 Validation: 100%|██████████| 2/2 [00:00<00:00, 91.92it/s, loss=6.6563]\n"
     ]
    },
    {
     "name": "stdout",
     "output_type": "stream",
     "text": [
      "[Epoch 10] Train Loss: 6.3554 | Val Loss: 6.7390\n",
      "  -> New best model saved at saved/best.pt\n",
      "Epoch 11/100\n"
     ]
    },
    {
     "name": "stderr",
     "output_type": "stream",
     "text": [
      "🚀 Training: 100%|██████████| 13/13 [00:00<00:00, 34.10it/s, loss=6.2549]\n",
      "🚀 Validation: 100%|██████████| 2/2 [00:00<00:00, 92.17it/s, loss=6.6552]\n"
     ]
    },
    {
     "name": "stdout",
     "output_type": "stream",
     "text": [
      "[Epoch 11] Train Loss: 6.3227 | Val Loss: 6.7377\n",
      "  -> New best model saved at saved/best.pt\n",
      "Epoch 12/100\n"
     ]
    },
    {
     "name": "stderr",
     "output_type": "stream",
     "text": [
      "🚀 Training: 100%|██████████| 13/13 [00:00<00:00, 28.79it/s, loss=6.3050]\n",
      "🚀 Validation: 100%|██████████| 2/2 [00:00<00:00, 62.48it/s, loss=6.6467]\n"
     ]
    },
    {
     "name": "stdout",
     "output_type": "stream",
     "text": [
      "[Epoch 12] Train Loss: 6.2918 | Val Loss: 6.7295\n",
      "  -> New best model saved at saved/best.pt\n",
      "Epoch 13/100\n"
     ]
    },
    {
     "name": "stderr",
     "output_type": "stream",
     "text": [
      "🚀 Training: 100%|██████████| 13/13 [00:00<00:00, 29.69it/s, loss=6.3327]\n",
      "🚀 Validation: 100%|██████████| 2/2 [00:00<00:00, 82.11it/s, loss=6.6324]\n"
     ]
    },
    {
     "name": "stdout",
     "output_type": "stream",
     "text": [
      "[Epoch 13] Train Loss: 6.2659 | Val Loss: 6.7179\n",
      "  -> New best model saved at saved/best.pt\n",
      "Epoch 14/100\n"
     ]
    },
    {
     "name": "stderr",
     "output_type": "stream",
     "text": [
      "🚀 Training: 100%|██████████| 13/13 [00:00<00:00, 30.99it/s, loss=6.1624]\n",
      "🚀 Validation: 100%|██████████| 2/2 [00:00<00:00, 84.01it/s, loss=6.6131]\n"
     ]
    },
    {
     "name": "stdout",
     "output_type": "stream",
     "text": [
      "[Epoch 14] Train Loss: 6.2310 | Val Loss: 6.7032\n",
      "  -> New best model saved at saved/best.pt\n",
      "Epoch 15/100\n"
     ]
    },
    {
     "name": "stderr",
     "output_type": "stream",
     "text": [
      "🚀 Training: 100%|██████████| 13/13 [00:00<00:00, 33.23it/s, loss=6.2820]\n",
      "🚀 Validation: 100%|██████████| 2/2 [00:00<00:00, 80.99it/s, loss=6.6012]\n"
     ]
    },
    {
     "name": "stdout",
     "output_type": "stream",
     "text": [
      "[Epoch 15] Train Loss: 6.2032 | Val Loss: 6.6918\n",
      "  -> New best model saved at saved/best.pt\n",
      "Epoch 16/100\n"
     ]
    },
    {
     "name": "stderr",
     "output_type": "stream",
     "text": [
      "🚀 Training: 100%|██████████| 13/13 [00:00<00:00, 31.65it/s, loss=6.1728]\n",
      "🚀 Validation: 100%|██████████| 2/2 [00:00<00:00, 88.34it/s, loss=6.5895]\n"
     ]
    },
    {
     "name": "stdout",
     "output_type": "stream",
     "text": [
      "[Epoch 16] Train Loss: 6.1647 | Val Loss: 6.6835\n",
      "  -> New best model saved at saved/best.pt\n",
      "Epoch 17/100\n"
     ]
    },
    {
     "name": "stderr",
     "output_type": "stream",
     "text": [
      "🚀 Training: 100%|██████████| 13/13 [00:00<00:00, 32.58it/s, loss=6.1380]\n",
      "🚀 Validation: 100%|██████████| 2/2 [00:00<00:00, 82.79it/s, loss=6.5758]\n"
     ]
    },
    {
     "name": "stdout",
     "output_type": "stream",
     "text": [
      "[Epoch 17] Train Loss: 6.1374 | Val Loss: 6.6722\n",
      "  -> New best model saved at saved/best.pt\n",
      "Epoch 18/100\n"
     ]
    },
    {
     "name": "stderr",
     "output_type": "stream",
     "text": [
      "🚀 Training: 100%|██████████| 13/13 [00:00<00:00, 32.63it/s, loss=6.0503]\n",
      "🚀 Validation: 100%|██████████| 2/2 [00:00<00:00, 86.34it/s, loss=6.5665]\n"
     ]
    },
    {
     "name": "stdout",
     "output_type": "stream",
     "text": [
      "[Epoch 18] Train Loss: 6.0982 | Val Loss: 6.6665\n",
      "  -> New best model saved at saved/best.pt\n",
      "Epoch 19/100\n"
     ]
    },
    {
     "name": "stderr",
     "output_type": "stream",
     "text": [
      "🚀 Training: 100%|██████████| 13/13 [00:00<00:00, 33.36it/s, loss=6.0224]\n",
      "🚀 Validation: 100%|██████████| 2/2 [00:00<00:00, 84.00it/s, loss=6.5498]\n"
     ]
    },
    {
     "name": "stdout",
     "output_type": "stream",
     "text": [
      "[Epoch 19] Train Loss: 6.0676 | Val Loss: 6.6501\n",
      "  -> New best model saved at saved/best.pt\n",
      "Epoch 20/100\n"
     ]
    },
    {
     "name": "stderr",
     "output_type": "stream",
     "text": [
      "🚀 Training: 100%|██████████| 13/13 [00:00<00:00, 33.12it/s, loss=6.0062]\n",
      "🚀 Validation: 100%|██████████| 2/2 [00:00<00:00, 96.17it/s, loss=6.5377]\n"
     ]
    },
    {
     "name": "stdout",
     "output_type": "stream",
     "text": [
      "[Epoch 20] Train Loss: 6.0287 | Val Loss: 6.6397\n",
      "  -> New best model saved at saved/best.pt\n",
      "Epoch 21/100\n"
     ]
    },
    {
     "name": "stderr",
     "output_type": "stream",
     "text": [
      "🚀 Training: 100%|██████████| 13/13 [00:00<00:00, 38.02it/s, loss=6.0189]\n",
      "🚀 Validation: 100%|██████████| 2/2 [00:00<00:00, 93.22it/s, loss=6.5254]\n"
     ]
    },
    {
     "name": "stdout",
     "output_type": "stream",
     "text": [
      "[Epoch 21] Train Loss: 6.0011 | Val Loss: 6.6310\n",
      "  -> New best model saved at saved/best.pt\n",
      "Epoch 22/100\n"
     ]
    },
    {
     "name": "stderr",
     "output_type": "stream",
     "text": [
      "🚀 Training: 100%|██████████| 13/13 [00:00<00:00, 37.10it/s, loss=5.9641]\n",
      "🚀 Validation: 100%|██████████| 2/2 [00:00<00:00, 103.59it/s, loss=6.5101]\n"
     ]
    },
    {
     "name": "stdout",
     "output_type": "stream",
     "text": [
      "[Epoch 22] Train Loss: 5.9572 | Val Loss: 6.6163\n",
      "  -> New best model saved at saved/best.pt\n",
      "Epoch 23/100\n"
     ]
    },
    {
     "name": "stderr",
     "output_type": "stream",
     "text": [
      "🚀 Training: 100%|██████████| 13/13 [00:00<00:00, 36.07it/s, loss=5.9625]\n",
      "🚀 Validation: 100%|██████████| 2/2 [00:00<00:00, 86.76it/s, loss=6.5010]\n"
     ]
    },
    {
     "name": "stdout",
     "output_type": "stream",
     "text": [
      "[Epoch 23] Train Loss: 5.9240 | Val Loss: 6.6097\n",
      "  -> New best model saved at saved/best.pt\n",
      "Epoch 24/100\n"
     ]
    },
    {
     "name": "stderr",
     "output_type": "stream",
     "text": [
      "🚀 Training: 100%|██████████| 13/13 [00:00<00:00, 34.22it/s, loss=5.9805]\n",
      "🚀 Validation: 100%|██████████| 2/2 [00:00<00:00, 88.07it/s, loss=6.4842]\n"
     ]
    },
    {
     "name": "stdout",
     "output_type": "stream",
     "text": [
      "[Epoch 24] Train Loss: 5.8895 | Val Loss: 6.5939\n",
      "  -> New best model saved at saved/best.pt\n",
      "Epoch 25/100\n"
     ]
    },
    {
     "name": "stderr",
     "output_type": "stream",
     "text": [
      "🚀 Training: 100%|██████████| 13/13 [00:00<00:00, 33.62it/s, loss=5.7267]\n",
      "🚀 Validation: 100%|██████████| 2/2 [00:00<00:00, 77.88it/s, loss=6.4767]\n"
     ]
    },
    {
     "name": "stdout",
     "output_type": "stream",
     "text": [
      "[Epoch 25] Train Loss: 5.8423 | Val Loss: 6.5849\n",
      "  -> New best model saved at saved/best.pt\n",
      "Epoch 26/100\n"
     ]
    },
    {
     "name": "stderr",
     "output_type": "stream",
     "text": [
      "🚀 Training: 100%|██████████| 13/13 [00:00<00:00, 31.47it/s, loss=5.9002]\n",
      "🚀 Validation: 100%|██████████| 2/2 [00:00<00:00, 88.84it/s, loss=6.4702]\n"
     ]
    },
    {
     "name": "stdout",
     "output_type": "stream",
     "text": [
      "[Epoch 26] Train Loss: 5.8120 | Val Loss: 6.5764\n",
      "  -> New best model saved at saved/best.pt\n",
      "Epoch 27/100\n"
     ]
    },
    {
     "name": "stderr",
     "output_type": "stream",
     "text": [
      "🚀 Training: 100%|██████████| 13/13 [00:00<00:00, 33.00it/s, loss=5.8561]\n",
      "🚀 Validation: 100%|██████████| 2/2 [00:00<00:00, 86.12it/s, loss=6.4598]\n"
     ]
    },
    {
     "name": "stdout",
     "output_type": "stream",
     "text": [
      "[Epoch 27] Train Loss: 5.7745 | Val Loss: 6.5681\n",
      "  -> New best model saved at saved/best.pt\n",
      "Epoch 28/100\n"
     ]
    },
    {
     "name": "stderr",
     "output_type": "stream",
     "text": [
      "🚀 Training: 100%|██████████| 13/13 [00:00<00:00, 33.27it/s, loss=5.6537]\n",
      "🚀 Validation: 100%|██████████| 2/2 [00:00<00:00, 88.70it/s, loss=6.4507]\n"
     ]
    },
    {
     "name": "stdout",
     "output_type": "stream",
     "text": [
      "[Epoch 28] Train Loss: 5.7281 | Val Loss: 6.5599\n",
      "  -> New best model saved at saved/best.pt\n",
      "Epoch 29/100\n"
     ]
    },
    {
     "name": "stderr",
     "output_type": "stream",
     "text": [
      "🚀 Training: 100%|██████████| 13/13 [00:00<00:00, 32.44it/s, loss=5.6202]\n",
      "🚀 Validation: 100%|██████████| 2/2 [00:00<00:00, 79.20it/s, loss=6.4438]\n"
     ]
    },
    {
     "name": "stdout",
     "output_type": "stream",
     "text": [
      "[Epoch 29] Train Loss: 5.6912 | Val Loss: 6.5525\n",
      "  -> New best model saved at saved/best.pt\n",
      "Epoch 30/100\n"
     ]
    },
    {
     "name": "stderr",
     "output_type": "stream",
     "text": [
      "🚀 Training: 100%|██████████| 13/13 [00:00<00:00, 31.35it/s, loss=5.5915]\n",
      "🚀 Validation: 100%|██████████| 2/2 [00:00<00:00, 84.09it/s, loss=6.4387]\n"
     ]
    },
    {
     "name": "stdout",
     "output_type": "stream",
     "text": [
      "[Epoch 30] Train Loss: 5.6512 | Val Loss: 6.5492\n",
      "  -> New best model saved at saved/best.pt\n",
      "Epoch 31/100\n"
     ]
    },
    {
     "name": "stderr",
     "output_type": "stream",
     "text": [
      "🚀 Training: 100%|██████████| 13/13 [00:00<00:00, 32.85it/s, loss=5.4416]\n",
      "🚀 Validation: 100%|██████████| 2/2 [00:00<00:00, 81.65it/s, loss=6.4285]\n"
     ]
    },
    {
     "name": "stdout",
     "output_type": "stream",
     "text": [
      "[Epoch 31] Train Loss: 5.6110 | Val Loss: 6.5368\n",
      "  -> New best model saved at saved/best.pt\n",
      "Epoch 32/100\n"
     ]
    },
    {
     "name": "stderr",
     "output_type": "stream",
     "text": [
      "🚀 Training: 100%|██████████| 13/13 [00:00<00:00, 32.55it/s, loss=5.5942]\n",
      "🚀 Validation: 100%|██████████| 2/2 [00:00<00:00, 77.89it/s, loss=6.4237]\n"
     ]
    },
    {
     "name": "stdout",
     "output_type": "stream",
     "text": [
      "[Epoch 32] Train Loss: 5.5804 | Val Loss: 6.5350\n",
      "  -> New best model saved at saved/best.pt\n",
      "Epoch 33/100\n"
     ]
    },
    {
     "name": "stderr",
     "output_type": "stream",
     "text": [
      "🚀 Training: 100%|██████████| 13/13 [00:00<00:00, 31.30it/s, loss=5.5829]\n",
      "🚀 Validation: 100%|██████████| 2/2 [00:00<00:00, 85.89it/s, loss=6.4233]\n"
     ]
    },
    {
     "name": "stdout",
     "output_type": "stream",
     "text": [
      "[Epoch 33] Train Loss: 5.5425 | Val Loss: 6.5332\n",
      "  -> New best model saved at saved/best.pt\n",
      "Epoch 34/100\n"
     ]
    },
    {
     "name": "stderr",
     "output_type": "stream",
     "text": [
      "🚀 Training: 100%|██████████| 13/13 [00:00<00:00, 33.24it/s, loss=5.4657]\n",
      "🚀 Validation: 100%|██████████| 2/2 [00:00<00:00, 82.78it/s, loss=6.4120]\n"
     ]
    },
    {
     "name": "stdout",
     "output_type": "stream",
     "text": [
      "[Epoch 34] Train Loss: 5.5042 | Val Loss: 6.5238\n",
      "  -> New best model saved at saved/best.pt\n",
      "Epoch 35/100\n"
     ]
    },
    {
     "name": "stderr",
     "output_type": "stream",
     "text": [
      "🚀 Training: 100%|██████████| 13/13 [00:00<00:00, 32.86it/s, loss=5.3469]\n",
      "🚀 Validation: 100%|██████████| 2/2 [00:00<00:00, 84.84it/s, loss=6.4068]\n"
     ]
    },
    {
     "name": "stdout",
     "output_type": "stream",
     "text": [
      "[Epoch 35] Train Loss: 5.4631 | Val Loss: 6.5193\n",
      "  -> New best model saved at saved/best.pt\n",
      "Epoch 36/100\n"
     ]
    },
    {
     "name": "stderr",
     "output_type": "stream",
     "text": [
      "🚀 Training: 100%|██████████| 13/13 [00:00<00:00, 31.95it/s, loss=5.4116]\n",
      "🚀 Validation: 100%|██████████| 2/2 [00:00<00:00, 81.82it/s, loss=6.3972]\n"
     ]
    },
    {
     "name": "stdout",
     "output_type": "stream",
     "text": [
      "[Epoch 36] Train Loss: 5.4357 | Val Loss: 6.5096\n",
      "  -> New best model saved at saved/best.pt\n",
      "Epoch 37/100\n"
     ]
    },
    {
     "name": "stderr",
     "output_type": "stream",
     "text": [
      "🚀 Training: 100%|██████████| 13/13 [00:00<00:00, 32.16it/s, loss=5.3115]\n",
      "🚀 Validation: 100%|██████████| 2/2 [00:00<00:00, 81.12it/s, loss=6.3952]\n"
     ]
    },
    {
     "name": "stdout",
     "output_type": "stream",
     "text": [
      "[Epoch 37] Train Loss: 5.3981 | Val Loss: 6.5085\n",
      "  -> New best model saved at saved/best.pt\n",
      "Epoch 38/100\n"
     ]
    },
    {
     "name": "stderr",
     "output_type": "stream",
     "text": [
      "🚀 Training: 100%|██████████| 13/13 [00:00<00:00, 32.38it/s, loss=5.3821]\n",
      "🚀 Validation: 100%|██████████| 2/2 [00:00<00:00, 70.43it/s, loss=6.3924]\n"
     ]
    },
    {
     "name": "stdout",
     "output_type": "stream",
     "text": [
      "[Epoch 38] Train Loss: 5.3629 | Val Loss: 6.5072\n",
      "  -> New best model saved at saved/best.pt\n",
      "Epoch 39/100\n"
     ]
    },
    {
     "name": "stderr",
     "output_type": "stream",
     "text": [
      "🚀 Training: 100%|██████████| 13/13 [00:00<00:00, 34.81it/s, loss=5.3405]\n",
      "🚀 Validation: 100%|██████████| 2/2 [00:00<00:00, 89.28it/s, loss=6.3965]\n"
     ]
    },
    {
     "name": "stdout",
     "output_type": "stream",
     "text": [
      "[Epoch 39] Train Loss: 5.3297 | Val Loss: 6.5121\n",
      "Epoch 40/100\n"
     ]
    },
    {
     "name": "stderr",
     "output_type": "stream",
     "text": [
      "🚀 Training: 100%|██████████| 13/13 [00:00<00:00, 35.28it/s, loss=5.3335]\n",
      "🚀 Validation: 100%|██████████| 2/2 [00:00<00:00, 99.62it/s, loss=6.3943]\n"
     ]
    },
    {
     "name": "stdout",
     "output_type": "stream",
     "text": [
      "[Epoch 40] Train Loss: 5.3003 | Val Loss: 6.5065\n",
      "  -> New best model saved at saved/best.pt\n",
      "Epoch 41/100\n"
     ]
    },
    {
     "name": "stderr",
     "output_type": "stream",
     "text": [
      "🚀 Training: 100%|██████████| 13/13 [00:00<00:00, 38.19it/s, loss=5.1292]\n",
      "🚀 Validation: 100%|██████████| 2/2 [00:00<00:00, 110.19it/s, loss=6.3960]\n"
     ]
    },
    {
     "name": "stdout",
     "output_type": "stream",
     "text": [
      "[Epoch 41] Train Loss: 5.2581 | Val Loss: 6.5061\n",
      "  -> New best model saved at saved/best.pt\n",
      "Epoch 42/100\n"
     ]
    },
    {
     "name": "stderr",
     "output_type": "stream",
     "text": [
      "🚀 Training: 100%|██████████| 13/13 [00:00<00:00, 37.47it/s, loss=5.1810]\n",
      "🚀 Validation: 100%|██████████| 2/2 [00:00<00:00, 88.59it/s, loss=6.3903]\n"
     ]
    },
    {
     "name": "stdout",
     "output_type": "stream",
     "text": [
      "[Epoch 42] Train Loss: 5.2279 | Val Loss: 6.5001\n",
      "  -> New best model saved at saved/best.pt\n",
      "Epoch 43/100\n"
     ]
    },
    {
     "name": "stderr",
     "output_type": "stream",
     "text": [
      "🚀 Training: 100%|██████████| 13/13 [00:00<00:00, 31.33it/s, loss=5.0915]\n",
      "🚀 Validation: 100%|██████████| 2/2 [00:00<00:00, 80.63it/s, loss=6.4024]\n"
     ]
    },
    {
     "name": "stdout",
     "output_type": "stream",
     "text": [
      "[Epoch 43] Train Loss: 5.1920 | Val Loss: 6.5113\n",
      "Epoch 44/100\n"
     ]
    },
    {
     "name": "stderr",
     "output_type": "stream",
     "text": [
      "🚀 Training: 100%|██████████| 13/13 [00:00<00:00, 33.77it/s, loss=5.2330]\n",
      "🚀 Validation: 100%|██████████| 2/2 [00:00<00:00, 94.64it/s, loss=6.3896]\n"
     ]
    },
    {
     "name": "stdout",
     "output_type": "stream",
     "text": [
      "[Epoch 44] Train Loss: 5.1699 | Val Loss: 6.4970\n",
      "  -> New best model saved at saved/best.pt\n",
      "Epoch 45/100\n"
     ]
    },
    {
     "name": "stderr",
     "output_type": "stream",
     "text": [
      "🚀 Training: 100%|██████████| 13/13 [00:00<00:00, 34.20it/s, loss=5.1314]\n",
      "🚀 Validation: 100%|██████████| 2/2 [00:00<00:00, 95.98it/s, loss=6.3903]\n"
     ]
    },
    {
     "name": "stdout",
     "output_type": "stream",
     "text": [
      "[Epoch 45] Train Loss: 5.1331 | Val Loss: 6.4982\n",
      "Epoch 46/100\n"
     ]
    },
    {
     "name": "stderr",
     "output_type": "stream",
     "text": [
      "🚀 Training: 100%|██████████| 13/13 [00:00<00:00, 33.52it/s, loss=5.2121]\n",
      "🚀 Validation: 100%|██████████| 2/2 [00:00<00:00, 70.28it/s, loss=6.3928]\n"
     ]
    },
    {
     "name": "stdout",
     "output_type": "stream",
     "text": [
      "[Epoch 46] Train Loss: 5.1060 | Val Loss: 6.4994\n",
      "Epoch 47/100\n"
     ]
    },
    {
     "name": "stderr",
     "output_type": "stream",
     "text": [
      "🚀 Training: 100%|██████████| 13/13 [00:00<00:00, 30.48it/s, loss=4.9886]\n",
      "🚀 Validation: 100%|██████████| 2/2 [00:00<00:00, 75.98it/s, loss=6.3975]\n"
     ]
    },
    {
     "name": "stdout",
     "output_type": "stream",
     "text": [
      "[Epoch 47] Train Loss: 5.0711 | Val Loss: 6.5068\n",
      "Epoch 48/100\n"
     ]
    },
    {
     "name": "stderr",
     "output_type": "stream",
     "text": [
      "🚀 Training: 100%|██████████| 13/13 [00:00<00:00, 33.75it/s, loss=4.9526]\n",
      "🚀 Validation: 100%|██████████| 2/2 [00:00<00:00, 86.68it/s, loss=6.3928]\n"
     ]
    },
    {
     "name": "stdout",
     "output_type": "stream",
     "text": [
      "[Epoch 48] Train Loss: 5.0398 | Val Loss: 6.5022\n",
      "Epoch 49/100\n"
     ]
    },
    {
     "name": "stderr",
     "output_type": "stream",
     "text": [
      "🚀 Training: 100%|██████████| 13/13 [00:00<00:00, 37.83it/s, loss=4.9472]\n",
      "🚀 Validation: 100%|██████████| 2/2 [00:00<00:00, 108.80it/s, loss=6.3950]\n"
     ]
    },
    {
     "name": "stdout",
     "output_type": "stream",
     "text": [
      "[Epoch 49] Train Loss: 5.0084 | Val Loss: 6.5045\n",
      "Epoch 50/100\n"
     ]
    },
    {
     "name": "stderr",
     "output_type": "stream",
     "text": [
      "🚀 Training: 100%|██████████| 13/13 [00:00<00:00, 38.91it/s, loss=4.9598]\n",
      "🚀 Validation: 100%|██████████| 2/2 [00:00<00:00, 100.27it/s, loss=6.4014]\n"
     ]
    },
    {
     "name": "stdout",
     "output_type": "stream",
     "text": [
      "[Epoch 50] Train Loss: 4.9796 | Val Loss: 6.5102\n",
      "Epoch 51/100\n"
     ]
    },
    {
     "name": "stderr",
     "output_type": "stream",
     "text": [
      "🚀 Training: 100%|██████████| 13/13 [00:00<00:00, 38.43it/s, loss=4.9236]\n",
      "🚀 Validation: 100%|██████████| 2/2 [00:00<00:00, 102.09it/s, loss=6.4120]\n"
     ]
    },
    {
     "name": "stdout",
     "output_type": "stream",
     "text": [
      "[Epoch 51] Train Loss: 4.9531 | Val Loss: 6.5207\n",
      "Epoch 52/100\n"
     ]
    },
    {
     "name": "stderr",
     "output_type": "stream",
     "text": [
      "🚀 Training: 100%|██████████| 13/13 [00:00<00:00, 34.04it/s, loss=4.8599]\n",
      "🚀 Validation: 100%|██████████| 2/2 [00:00<00:00, 72.95it/s, loss=6.4121]\n"
     ]
    },
    {
     "name": "stdout",
     "output_type": "stream",
     "text": [
      "[Epoch 52] Train Loss: 4.9214 | Val Loss: 6.5205\n",
      "Epoch 53/100\n"
     ]
    },
    {
     "name": "stderr",
     "output_type": "stream",
     "text": [
      "🚀 Training: 100%|██████████| 13/13 [00:00<00:00, 33.58it/s, loss=4.9810]\n",
      "🚀 Validation: 100%|██████████| 2/2 [00:00<00:00, 92.92it/s, loss=6.4106]\n"
     ]
    },
    {
     "name": "stdout",
     "output_type": "stream",
     "text": [
      "[Epoch 53] Train Loss: 4.9028 | Val Loss: 6.5208\n",
      "Epoch 54/100\n"
     ]
    },
    {
     "name": "stderr",
     "output_type": "stream",
     "text": [
      "🚀 Training: 100%|██████████| 13/13 [00:00<00:00, 36.31it/s, loss=4.9189]\n",
      "🚀 Validation: 100%|██████████| 2/2 [00:00<00:00, 108.01it/s, loss=6.4208]\n"
     ]
    },
    {
     "name": "stdout",
     "output_type": "stream",
     "text": [
      "[Epoch 54] Train Loss: 4.8725 | Val Loss: 6.5293\n",
      "Epoch 55/100\n"
     ]
    },
    {
     "name": "stderr",
     "output_type": "stream",
     "text": [
      "🚀 Training: 100%|██████████| 13/13 [00:00<00:00, 40.38it/s, loss=4.9261]\n",
      "🚀 Validation: 100%|██████████| 2/2 [00:00<00:00, 117.74it/s, loss=6.4245]\n"
     ]
    },
    {
     "name": "stdout",
     "output_type": "stream",
     "text": [
      "[Epoch 55] Train Loss: 4.8485 | Val Loss: 6.5335\n",
      "Epoch 56/100\n"
     ]
    },
    {
     "name": "stderr",
     "output_type": "stream",
     "text": [
      "🚀 Training: 100%|██████████| 13/13 [00:00<00:00, 39.70it/s, loss=4.8031]\n",
      "🚀 Validation: 100%|██████████| 2/2 [00:00<00:00, 109.43it/s, loss=6.4282]\n"
     ]
    },
    {
     "name": "stdout",
     "output_type": "stream",
     "text": [
      "[Epoch 56] Train Loss: 4.8135 | Val Loss: 6.5362\n",
      "Epoch 57/100\n"
     ]
    },
    {
     "name": "stderr",
     "output_type": "stream",
     "text": [
      "🚀 Training: 100%|██████████| 13/13 [00:00<00:00, 39.89it/s, loss=4.9381]\n",
      "🚀 Validation: 100%|██████████| 2/2 [00:00<00:00, 116.60it/s, loss=6.4259]\n"
     ]
    },
    {
     "name": "stdout",
     "output_type": "stream",
     "text": [
      "[Epoch 57] Train Loss: 4.7989 | Val Loss: 6.5354\n",
      "Epoch 58/100\n"
     ]
    },
    {
     "name": "stderr",
     "output_type": "stream",
     "text": [
      "🚀 Training: 100%|██████████| 13/13 [00:00<00:00, 39.93it/s, loss=4.7681]\n",
      "🚀 Validation: 100%|██████████| 2/2 [00:00<00:00, 111.99it/s, loss=6.4331]\n"
     ]
    },
    {
     "name": "stdout",
     "output_type": "stream",
     "text": [
      "[Epoch 58] Train Loss: 4.7601 | Val Loss: 6.5433\n",
      "Epoch 59/100\n"
     ]
    },
    {
     "name": "stderr",
     "output_type": "stream",
     "text": [
      "🚀 Training: 100%|██████████| 13/13 [00:00<00:00, 40.02it/s, loss=4.7029]\n",
      "🚀 Validation: 100%|██████████| 2/2 [00:00<00:00, 101.60it/s, loss=6.4322]\n"
     ]
    },
    {
     "name": "stdout",
     "output_type": "stream",
     "text": [
      "[Epoch 59] Train Loss: 4.7371 | Val Loss: 6.5408\n",
      "Epoch 60/100\n"
     ]
    },
    {
     "name": "stderr",
     "output_type": "stream",
     "text": [
      "🚀 Training: 100%|██████████| 13/13 [00:00<00:00, 38.73it/s, loss=4.6805]\n",
      "🚀 Validation: 100%|██████████| 2/2 [00:00<00:00, 110.02it/s, loss=6.4330]\n"
     ]
    },
    {
     "name": "stdout",
     "output_type": "stream",
     "text": [
      "[Epoch 60] Train Loss: 4.7096 | Val Loss: 6.5423\n",
      "Epoch 61/100\n"
     ]
    },
    {
     "name": "stderr",
     "output_type": "stream",
     "text": [
      "🚀 Training: 100%|██████████| 13/13 [00:00<00:00, 40.87it/s, loss=4.5851]\n",
      "🚀 Validation: 100%|██████████| 2/2 [00:00<00:00, 94.74it/s, loss=6.4398]\n"
     ]
    },
    {
     "name": "stdout",
     "output_type": "stream",
     "text": [
      "[Epoch 61] Train Loss: 4.6839 | Val Loss: 6.5483\n",
      "Epoch 62/100\n"
     ]
    },
    {
     "name": "stderr",
     "output_type": "stream",
     "text": [
      "🚀 Training: 100%|██████████| 13/13 [00:00<00:00, 38.31it/s, loss=4.6182]\n",
      "🚀 Validation: 100%|██████████| 2/2 [00:00<00:00, 86.78it/s, loss=6.4462]\n"
     ]
    },
    {
     "name": "stdout",
     "output_type": "stream",
     "text": [
      "[Epoch 62] Train Loss: 4.6612 | Val Loss: 6.5571\n",
      "Epoch 63/100\n"
     ]
    },
    {
     "name": "stderr",
     "output_type": "stream",
     "text": [
      "🚀 Training: 100%|██████████| 13/13 [00:00<00:00, 40.42it/s, loss=4.6696]\n",
      "🚀 Validation: 100%|██████████| 2/2 [00:00<00:00, 106.53it/s, loss=6.4555]\n"
     ]
    },
    {
     "name": "stdout",
     "output_type": "stream",
     "text": [
      "[Epoch 63] Train Loss: 4.6357 | Val Loss: 6.5651\n",
      "Epoch 64/100\n"
     ]
    },
    {
     "name": "stderr",
     "output_type": "stream",
     "text": [
      "🚀 Training: 100%|██████████| 13/13 [00:00<00:00, 40.83it/s, loss=4.5865]\n",
      "🚀 Validation: 100%|██████████| 2/2 [00:00<00:00, 115.07it/s, loss=6.4515]\n"
     ]
    },
    {
     "name": "stdout",
     "output_type": "stream",
     "text": [
      "[Epoch 64] Train Loss: 4.6178 | Val Loss: 6.5613\n",
      "Epoch 65/100\n"
     ]
    },
    {
     "name": "stderr",
     "output_type": "stream",
     "text": [
      "🚀 Training: 100%|██████████| 13/13 [00:00<00:00, 40.78it/s, loss=4.6490]\n",
      "🚀 Validation: 100%|██████████| 2/2 [00:00<00:00, 110.97it/s, loss=6.4702]\n"
     ]
    },
    {
     "name": "stdout",
     "output_type": "stream",
     "text": [
      "[Epoch 65] Train Loss: 4.5948 | Val Loss: 6.5806\n",
      "Epoch 66/100\n"
     ]
    },
    {
     "name": "stderr",
     "output_type": "stream",
     "text": [
      "🚀 Training: 100%|██████████| 13/13 [00:00<00:00, 40.43it/s, loss=4.5738]\n",
      "🚀 Validation: 100%|██████████| 2/2 [00:00<00:00, 112.10it/s, loss=6.4718]\n"
     ]
    },
    {
     "name": "stdout",
     "output_type": "stream",
     "text": [
      "[Epoch 66] Train Loss: 4.5721 | Val Loss: 6.5850\n",
      "Epoch 67/100\n"
     ]
    },
    {
     "name": "stderr",
     "output_type": "stream",
     "text": [
      "🚀 Training: 100%|██████████| 13/13 [00:00<00:00, 39.05it/s, loss=4.5358]\n",
      "🚀 Validation: 100%|██████████| 2/2 [00:00<00:00, 101.46it/s, loss=6.4843]\n"
     ]
    },
    {
     "name": "stdout",
     "output_type": "stream",
     "text": [
      "[Epoch 67] Train Loss: 4.5459 | Val Loss: 6.5981\n",
      "Epoch 68/100\n"
     ]
    },
    {
     "name": "stderr",
     "output_type": "stream",
     "text": [
      "🚀 Training: 100%|██████████| 13/13 [00:00<00:00, 40.65it/s, loss=4.5318]\n",
      "🚀 Validation: 100%|██████████| 2/2 [00:00<00:00, 117.90it/s, loss=6.4853]\n"
     ]
    },
    {
     "name": "stdout",
     "output_type": "stream",
     "text": [
      "[Epoch 68] Train Loss: 4.5249 | Val Loss: 6.6024\n",
      "Epoch 69/100\n"
     ]
    },
    {
     "name": "stderr",
     "output_type": "stream",
     "text": [
      "🚀 Training: 100%|██████████| 13/13 [00:00<00:00, 40.33it/s, loss=4.5814]\n",
      "🚀 Validation: 100%|██████████| 2/2 [00:00<00:00, 117.01it/s, loss=6.4943]\n"
     ]
    },
    {
     "name": "stdout",
     "output_type": "stream",
     "text": [
      "[Epoch 69] Train Loss: 4.5091 | Val Loss: 6.6114\n",
      "Epoch 70/100\n"
     ]
    },
    {
     "name": "stderr",
     "output_type": "stream",
     "text": [
      "🚀 Training: 100%|██████████| 13/13 [00:00<00:00, 40.95it/s, loss=4.5103]\n",
      "🚀 Validation: 100%|██████████| 2/2 [00:00<00:00, 108.34it/s, loss=6.5090]\n"
     ]
    },
    {
     "name": "stdout",
     "output_type": "stream",
     "text": [
      "[Epoch 70] Train Loss: 4.4839 | Val Loss: 6.6243\n",
      "Epoch 71/100\n"
     ]
    },
    {
     "name": "stderr",
     "output_type": "stream",
     "text": [
      "🚀 Training: 100%|██████████| 13/13 [00:00<00:00, 38.75it/s, loss=4.5298]\n",
      "🚀 Validation: 100%|██████████| 2/2 [00:00<00:00, 106.45it/s, loss=6.5252]\n"
     ]
    },
    {
     "name": "stdout",
     "output_type": "stream",
     "text": [
      "[Epoch 71] Train Loss: 4.4661 | Val Loss: 6.6402\n",
      "Epoch 72/100\n"
     ]
    },
    {
     "name": "stderr",
     "output_type": "stream",
     "text": [
      "🚀 Training: 100%|██████████| 13/13 [00:00<00:00, 41.22it/s, loss=4.3757]\n",
      "🚀 Validation: 100%|██████████| 2/2 [00:00<00:00, 118.25it/s, loss=6.5269]\n"
     ]
    },
    {
     "name": "stdout",
     "output_type": "stream",
     "text": [
      "[Epoch 72] Train Loss: 4.4354 | Val Loss: 6.6414\n",
      "Epoch 73/100\n"
     ]
    },
    {
     "name": "stderr",
     "output_type": "stream",
     "text": [
      "🚀 Training: 100%|██████████| 13/13 [00:00<00:00, 41.11it/s, loss=4.3822]\n",
      "🚀 Validation: 100%|██████████| 2/2 [00:00<00:00, 106.67it/s, loss=6.5421]\n"
     ]
    },
    {
     "name": "stdout",
     "output_type": "stream",
     "text": [
      "[Epoch 73] Train Loss: 4.4195 | Val Loss: 6.6561\n",
      "Epoch 74/100\n"
     ]
    },
    {
     "name": "stderr",
     "output_type": "stream",
     "text": [
      "🚀 Training: 100%|██████████| 13/13 [00:00<00:00, 38.70it/s, loss=4.3970]\n",
      "🚀 Validation: 100%|██████████| 2/2 [00:00<00:00, 87.62it/s, loss=6.5441]\n"
     ]
    },
    {
     "name": "stdout",
     "output_type": "stream",
     "text": [
      "[Epoch 74] Train Loss: 4.3978 | Val Loss: 6.6563\n",
      "Epoch 75/100\n"
     ]
    },
    {
     "name": "stderr",
     "output_type": "stream",
     "text": [
      "🚀 Training:  31%|███       | 4/13 [00:00<00:00, 38.68it/s, loss=4.3877]"
     ]
    }
   ],
   "source": [
    "import os\n",
    "import torch\n",
    "from tqdm import tqdm\n",
    "os.makedirs(SAVE_DIR, exist_ok=True)\n",
    "best_val_loss = float(\"inf\") \n",
    "best_model_path = None\n",
    "for epoch in range(1, EPOCHS + 1):\n",
    "    print(f\"Epoch {epoch}/{EPOCHS}\")\n",
    "    model.train()\n",
    "    total_train_loss = 0.0\n",
    "    train_bar = tqdm(train_loader, desc=\"🚀 Training\", \n",
    "                leave=True, total=len(train_loader))\n",
    "    for batch in train_bar:\n",
    "        optimizer.zero_grad()\n",
    "        src_batch = batch['src'].to(device)\n",
    "        tgt_batch = batch['tgt'].to(device)\n",
    "        \n",
    "        output, _ = model(src_batch, tgt_batch[:, :-1]) \n",
    "        output_dim = output.shape[-1]\n",
    "        output = output.reshape(-1, output_dim)\n",
    "        tgt_y = tgt_batch[:,1:].contiguous().view(-1)\n",
    "\n",
    "        loss = criterion(output, tgt_y)\n",
    "        loss.backward()\n",
    "        optimizer.step()\n",
    "        total_train_loss += loss.item()\n",
    "        train_bar.set_postfix(loss=f\"{loss.item():.4f}\")\n",
    "\n",
    "    avg_train_loss = total_train_loss / len(train_loader)\n",
    "    model.eval()\n",
    "    total_val_loss = 0.0\n",
    "    val_bar = tqdm(val_loader, desc=\"🚀 Validation\",\n",
    "              leave=True, total=len(val_loader))\n",
    "    with torch.no_grad():\n",
    "        for batch in val_bar:\n",
    "            src_batch = batch['src'].to(device)\n",
    "            tgt_batch = batch['tgt'].to(device)\n",
    "            \n",
    "            output, _ = model(src_batch, tgt_batch[:, :-1]) \n",
    "            output_dim = output.shape[-1]\n",
    "            output = output.reshape(-1, output_dim)\n",
    "            tgt_y = tgt_batch[:,1:].contiguous().view(-1)\n",
    "\n",
    "            loss = criterion(output, tgt_y)\n",
    "            total_val_loss += loss.item()\n",
    "            val_bar.set_postfix(loss=f\"{loss.item():.4f}\")\n",
    "    \n",
    "    avg_val_loss = total_val_loss / len(val_loader)\n",
    "    print(f\"[Epoch {epoch}] Train Loss: {avg_train_loss:.4f} | Val Loss: {avg_val_loss:.4f}\")\n",
    "    if avg_val_loss < best_val_loss:\n",
    "        if best_model_path and os.path.exists(best_model_path):\n",
    "            os.remove(best_model_path)\n",
    "        best_val_loss = avg_val_loss\n",
    "        best_model_path = os.path.join(SAVE_DIR, \"best.pt\")\n",
    "        torch.save(model.state_dict(), best_model_path)\n",
    "        print(f\"  -> New best model saved at {best_model_path}\")\n"
   ]
  },
  {
   "cell_type": "code",
   "execution_count": null,
   "metadata": {},
   "outputs": [],
   "source": []
  }
 ],
 "metadata": {
  "kernelspec": {
   "display_name": "torch_env",
   "language": "python",
   "name": "python3"
  },
  "language_info": {
   "codemirror_mode": {
    "name": "ipython",
    "version": 3
   },
   "file_extension": ".py",
   "mimetype": "text/x-python",
   "name": "python",
   "nbconvert_exporter": "python",
   "pygments_lexer": "ipython3",
   "version": "3.10.16"
  }
 },
 "nbformat": 4,
 "nbformat_minor": 2
}

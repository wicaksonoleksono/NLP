{
 "cells": [
  {
   "cell_type": "code",
   "execution_count": 1,
   "metadata": {},
   "outputs": [
    {
     "name": "stderr",
     "output_type": "stream",
     "text": [
      "[nltk_data] Downloading package punkt to\n",
      "[nltk_data]     /home/wicaksonolxn/nltk_data...\n",
      "[nltk_data]   Package punkt is already up-to-date!\n"
     ]
    }
   ],
   "source": [
    "import os\n",
    "import torch\n",
    "import torch.nn as nn\n",
    "import torch.optim as optim\n",
    "from tqdm import tqdm\n",
    "from dataloader import get_dataloaders\n",
    "import nltk\n",
    "from nltk.translate.bleu_score import sentence_bleu, SmoothingFunction\n",
    "from transformer import Transformer,TransformerEncoder,TransformerDecoder\n",
    "import utils\n",
    "import pickle\n",
    "nltk.download('punkt')  \n",
    "device = torch.device('cuda' if torch.cuda.is_available() else 'cpu')"
   ]
  },
  {
   "cell_type": "code",
   "execution_count": 7,
   "metadata": {},
   "outputs": [
    {
     "ename": "RuntimeError",
     "evalue": "CUDA error: device-side assert triggered\nCUDA kernel errors might be asynchronously reported at some other API call, so the stacktrace below might be incorrect.\nFor debugging consider passing CUDA_LAUNCH_BLOCKING=1.\nCompile with `TORCH_USE_CUDA_DSA` to enable device-side assertions.\n",
     "output_type": "error",
     "traceback": [
      "\u001b[0;31m---------------------------------------------------------------------------\u001b[0m",
      "\u001b[0;31mRuntimeError\u001b[0m                              Traceback (most recent call last)",
      "Cell \u001b[0;32mIn[7], line 20\u001b[0m\n\u001b[1;32m     17\u001b[0m EPOCHS \u001b[38;5;241m=\u001b[39m \u001b[38;5;241m300\u001b[39m\n\u001b[1;32m     19\u001b[0m SAVE_DIR \u001b[38;5;241m=\u001b[39m \u001b[38;5;124m\"\u001b[39m\u001b[38;5;124msaved\u001b[39m\u001b[38;5;124m\"\u001b[39m\n\u001b[0;32m---> 20\u001b[0m encoder \u001b[38;5;241m=\u001b[39m \u001b[43mTransformerEncoder\u001b[49m\u001b[43m(\u001b[49m\u001b[43mSRC_VOCAB_SIZE\u001b[49m\u001b[43m,\u001b[49m\u001b[43mD_MODEL\u001b[49m\u001b[43m,\u001b[49m\u001b[43mN_LAYERS\u001b[49m\u001b[43m,\u001b[49m\u001b[43mN_HEADS\u001b[49m\u001b[43m,\u001b[49m\u001b[43mFFN_HIDDEN\u001b[49m\u001b[43m,\u001b[49m\u001b[43mDROPOUT\u001b[49m\u001b[43m,\u001b[49m\u001b[43mdevice\u001b[49m\u001b[43m)\u001b[49m\n\u001b[1;32m     21\u001b[0m decoder \u001b[38;5;241m=\u001b[39m TransformerDecoder(TGT_VOCAB_SIZE,D_MODEL,N_LAYERS,N_HEADS,FFN_HIDDEN,DROPOUT,device)\n\u001b[1;32m     22\u001b[0m model \u001b[38;5;241m=\u001b[39m Transformer(encoder,decoder,device,utils\u001b[38;5;241m.\u001b[39mPAD_TOKEN)\u001b[38;5;241m.\u001b[39mto(device)\n",
      "File \u001b[0;32m~/Documents/learnNLP/3.seq2seqTransformer/src/transformer/encoder.py:66\u001b[0m, in \u001b[0;36mTransformerEncoder.__init__\u001b[0;34m(self, src_vocab_size, dim_model, num_layers, num_heads, dim_feedforward, dropout, device, MAX_LENGTH)\u001b[0m\n\u001b[1;32m     63\u001b[0m \u001b[38;5;28mself\u001b[39m\u001b[38;5;241m.\u001b[39mdim_model \u001b[38;5;241m=\u001b[39m dim_model\n\u001b[1;32m     65\u001b[0m \u001b[38;5;28mself\u001b[39m\u001b[38;5;241m.\u001b[39mword_embedding \u001b[38;5;241m=\u001b[39m nn\u001b[38;5;241m.\u001b[39mEmbedding(src_vocab_size, dim_model)\n\u001b[0;32m---> 66\u001b[0m \u001b[38;5;28mself\u001b[39m\u001b[38;5;241m.\u001b[39mcoefficient \u001b[38;5;241m=\u001b[39m \u001b[43mtorch\u001b[49m\u001b[38;5;241;43m.\u001b[39;49m\u001b[43msqrt\u001b[49m\u001b[43m(\u001b[49m\u001b[43mtorch\u001b[49m\u001b[38;5;241;43m.\u001b[39;49m\u001b[43mFloatTensor\u001b[49m\u001b[43m(\u001b[49m\u001b[43m[\u001b[49m\u001b[38;5;28;43mself\u001b[39;49m\u001b[38;5;241;43m.\u001b[39;49m\u001b[43mdim_model\u001b[49m\u001b[43m]\u001b[49m\u001b[43m)\u001b[49m\u001b[43m)\u001b[49m\u001b[38;5;241;43m.\u001b[39;49m\u001b[43mto\u001b[49m\u001b[43m(\u001b[49m\u001b[43mdevice\u001b[49m\u001b[43m)\u001b[49m\n\u001b[1;32m     67\u001b[0m \u001b[38;5;28mself\u001b[39m\u001b[38;5;241m.\u001b[39mposition_encoding \u001b[38;5;241m=\u001b[39m PositionalEncoding()\n\u001b[1;32m     69\u001b[0m \u001b[38;5;28mself\u001b[39m\u001b[38;5;241m.\u001b[39mdropout \u001b[38;5;241m=\u001b[39m nn\u001b[38;5;241m.\u001b[39mDropout(dropout)\n",
      "\u001b[0;31mRuntimeError\u001b[0m: CUDA error: device-side assert triggered\nCUDA kernel errors might be asynchronously reported at some other API call, so the stacktrace below might be incorrect.\nFor debugging consider passing CUDA_LAUNCH_BLOCKING=1.\nCompile with `TORCH_USE_CUDA_DSA` to enable device-side assertions.\n"
     ]
    }
   ],
   "source": [
    "BATCH_SIZE = 64 # butuh lebih banyak update \n",
    "DATA_PATH = \"dataset/\"  \n",
    "train_loader, val_loader, test_loader = get_dataloaders(\n",
    "    data_path=DATA_PATH, \n",
    "    source_lang=\"min\", \n",
    "    target_lang=\"eng\", \n",
    "    batch_size=BATCH_SIZE, \n",
    "    device=device\n",
    ")\n",
    "SRC_VOCAB_SIZE = 1000\n",
    "TGT_VOCAB_SIZE = 1000\n",
    "N_LAYERS = 2\n",
    "N_HEADS = 2\n",
    "D_MODEL = 32\n",
    "FFN_HIDDEN = 64\n",
    "DROPOUT = 0.1\n",
    "EPOCHS = 300\n",
    "\n",
    "SAVE_DIR = \"saved\"\n",
    "encoder = TransformerEncoder(SRC_VOCAB_SIZE,D_MODEL,N_LAYERS,N_HEADS,FFN_HIDDEN,DROPOUT,device)\n",
    "decoder = TransformerDecoder(TGT_VOCAB_SIZE,D_MODEL,N_LAYERS,N_HEADS,FFN_HIDDEN,DROPOUT,device)\n",
    "model = Transformer(encoder,decoder,device,utils.PAD_TOKEN).to(device)\n",
    "optimizer = optim.Adam(model.parameters(), lr=5e-4)\n",
    "criterion = nn.CrossEntropyLoss(ignore_index=utils.PAD_TOKEN) \n",
    "print(\"Model initialized on:\", device)\n"
   ]
  },
  {
   "cell_type": "code",
   "execution_count": 8,
   "metadata": {},
   "outputs": [
    {
     "name": "stdout",
     "output_type": "stream",
     "text": [
      "torch.Size([64, 52]) tensor([   1,   32,  822, 2102,    6,  623,  440,  433,  255,  140,   45, 2179,\n",
      "        2180,   37,  300,  252,   67,   41,    2,    0,    0,    0,    0,    0,\n",
      "           0,    0,    0,    0,    0,    0,    0,    0,    0,    0,    0,    0,\n",
      "           0,    0,    0,    0,    0,    0,    0,    0,    0,    0,    0,    0,\n",
      "           0,    0,    0,    0])\n",
      "Padding: 0\n",
      "Start of Sequence: 1\n",
      "End of Sequence: 2\n",
      "Unknown: 3\n"
     ]
    },
    {
     "name": "stderr",
     "output_type": "stream",
     "text": [
      "/home/wicaksonolxn/Documents/learnNLP/3.seq2seqTransformer/src/dataloader/_collate_fn.py:5: UserWarning: To copy construct from a tensor, it is recommended to use sourceTensor.clone().detach() or sourceTensor.clone().detach().requires_grad_(True), rather than torch.tensor(sourceTensor).\n",
      "  src_batch = [torch.tensor(item['src'], dtype=torch.long) for item in batch]\n",
      "/home/wicaksonolxn/Documents/learnNLP/3.seq2seqTransformer/src/dataloader/_collate_fn.py:6: UserWarning: To copy construct from a tensor, it is recommended to use sourceTensor.clone().detach() or sourceTensor.clone().detach().requires_grad_(True), rather than torch.tensor(sourceTensor).\n",
      "  tgt_batch = [torch.tensor(item['tgt'], dtype=torch.long) for item in batch]\n"
     ]
    }
   ],
   "source": [
    "tokens = {\n",
    "    \"Padding\": utils.PAD_TOKEN,\n",
    "    \"Start of Sequence\": utils.SOS_TOKEN,\n",
    "    \"End of Sequence\": utils.EOS_TOKEN,\n",
    "    \"Unknown\": utils.UNK_TOKEN\n",
    "}\n",
    "for i, batch in enumerate(train_loader):\n",
    "    if i < 1:\n",
    "        src = batch[\"src\"]\n",
    "        tgt = batch[\"tgt\"]\n",
    "        ss,fss=src[0,:],src.shape\n",
    "        st,fst=tgt[0,:],tgt.shape\n",
    "        print(fss,ss)\n",
    "    for name, token in tokens.items():\n",
    "        print(f\"{name}: {token}\")\n",
    "    else:\n",
    "        break\n"
   ]
  },
  {
   "cell_type": "markdown",
   "metadata": {},
   "source": [
    "testing input , is it correct"
   ]
  },
  {
   "cell_type": "code",
   "execution_count": 4,
   "metadata": {},
   "outputs": [
    {
     "name": "stderr",
     "output_type": "stream",
     "text": [
      "/opt/conda/conda-bld/pytorch_1712608839953/work/aten/src/ATen/native/cuda/Indexing.cu:1289: indexSelectLargeIndex: block: [89,0,0], thread: [64,0,0] Assertion `srcIndex < srcSelectDimSize` failed.\n",
      "/opt/conda/conda-bld/pytorch_1712608839953/work/aten/src/ATen/native/cuda/Indexing.cu:1289: indexSelectLargeIndex: block: [89,0,0], thread: [65,0,0] Assertion `srcIndex < srcSelectDimSize` failed.\n",
      "/opt/conda/conda-bld/pytorch_1712608839953/work/aten/src/ATen/native/cuda/Indexing.cu:1289: indexSelectLargeIndex: block: [89,0,0], thread: [66,0,0] Assertion `srcIndex < srcSelectDimSize` failed.\n",
      "/opt/conda/conda-bld/pytorch_1712608839953/work/aten/src/ATen/native/cuda/Indexing.cu:1289: indexSelectLargeIndex: block: [89,0,0], thread: [67,0,0] Assertion `srcIndex < srcSelectDimSize` failed.\n",
      "/opt/conda/conda-bld/pytorch_1712608839953/work/aten/src/ATen/native/cuda/Indexing.cu:1289: indexSelectLargeIndex: block: [89,0,0], thread: [68,0,0] Assertion `srcIndex < srcSelectDimSize` failed.\n",
      "/opt/conda/conda-bld/pytorch_1712608839953/work/aten/src/ATen/native/cuda/Indexing.cu:1289: indexSelectLargeIndex: block: [89,0,0], thread: [69,0,0] Assertion `srcIndex < srcSelectDimSize` failed.\n",
      "/opt/conda/conda-bld/pytorch_1712608839953/work/aten/src/ATen/native/cuda/Indexing.cu:1289: indexSelectLargeIndex: block: [89,0,0], thread: [70,0,0] Assertion `srcIndex < srcSelectDimSize` failed.\n",
      "/opt/conda/conda-bld/pytorch_1712608839953/work/aten/src/ATen/native/cuda/Indexing.cu:1289: indexSelectLargeIndex: block: [89,0,0], thread: [71,0,0] Assertion `srcIndex < srcSelectDimSize` failed.\n",
      "/opt/conda/conda-bld/pytorch_1712608839953/work/aten/src/ATen/native/cuda/Indexing.cu:1289: indexSelectLargeIndex: block: [89,0,0], thread: [72,0,0] Assertion `srcIndex < srcSelectDimSize` failed.\n",
      "/opt/conda/conda-bld/pytorch_1712608839953/work/aten/src/ATen/native/cuda/Indexing.cu:1289: indexSelectLargeIndex: block: [89,0,0], thread: [73,0,0] Assertion `srcIndex < srcSelectDimSize` failed.\n",
      "/opt/conda/conda-bld/pytorch_1712608839953/work/aten/src/ATen/native/cuda/Indexing.cu:1289: indexSelectLargeIndex: block: [89,0,0], thread: [74,0,0] Assertion `srcIndex < srcSelectDimSize` failed.\n",
      "/opt/conda/conda-bld/pytorch_1712608839953/work/aten/src/ATen/native/cuda/Indexing.cu:1289: indexSelectLargeIndex: block: [89,0,0], thread: [75,0,0] Assertion `srcIndex < srcSelectDimSize` failed.\n",
      "/opt/conda/conda-bld/pytorch_1712608839953/work/aten/src/ATen/native/cuda/Indexing.cu:1289: indexSelectLargeIndex: block: [89,0,0], thread: [76,0,0] Assertion `srcIndex < srcSelectDimSize` failed.\n",
      "/opt/conda/conda-bld/pytorch_1712608839953/work/aten/src/ATen/native/cuda/Indexing.cu:1289: indexSelectLargeIndex: block: [89,0,0], thread: [77,0,0] Assertion `srcIndex < srcSelectDimSize` failed.\n",
      "/opt/conda/conda-bld/pytorch_1712608839953/work/aten/src/ATen/native/cuda/Indexing.cu:1289: indexSelectLargeIndex: block: [89,0,0], thread: [78,0,0] Assertion `srcIndex < srcSelectDimSize` failed.\n",
      "/opt/conda/conda-bld/pytorch_1712608839953/work/aten/src/ATen/native/cuda/Indexing.cu:1289: indexSelectLargeIndex: block: [89,0,0], thread: [79,0,0] Assertion `srcIndex < srcSelectDimSize` failed.\n",
      "/opt/conda/conda-bld/pytorch_1712608839953/work/aten/src/ATen/native/cuda/Indexing.cu:1289: indexSelectLargeIndex: block: [89,0,0], thread: [80,0,0] Assertion `srcIndex < srcSelectDimSize` failed.\n",
      "/opt/conda/conda-bld/pytorch_1712608839953/work/aten/src/ATen/native/cuda/Indexing.cu:1289: indexSelectLargeIndex: block: [89,0,0], thread: [81,0,0] Assertion `srcIndex < srcSelectDimSize` failed.\n",
      "/opt/conda/conda-bld/pytorch_1712608839953/work/aten/src/ATen/native/cuda/Indexing.cu:1289: indexSelectLargeIndex: block: [89,0,0], thread: [82,0,0] Assertion `srcIndex < srcSelectDimSize` failed.\n",
      "/opt/conda/conda-bld/pytorch_1712608839953/work/aten/src/ATen/native/cuda/Indexing.cu:1289: indexSelectLargeIndex: block: [89,0,0], thread: [83,0,0] Assertion `srcIndex < srcSelectDimSize` failed.\n",
      "/opt/conda/conda-bld/pytorch_1712608839953/work/aten/src/ATen/native/cuda/Indexing.cu:1289: indexSelectLargeIndex: block: [89,0,0], thread: [84,0,0] Assertion `srcIndex < srcSelectDimSize` failed.\n",
      "/opt/conda/conda-bld/pytorch_1712608839953/work/aten/src/ATen/native/cuda/Indexing.cu:1289: indexSelectLargeIndex: block: [89,0,0], thread: [85,0,0] Assertion `srcIndex < srcSelectDimSize` failed.\n",
      "/opt/conda/conda-bld/pytorch_1712608839953/work/aten/src/ATen/native/cuda/Indexing.cu:1289: indexSelectLargeIndex: block: [89,0,0], thread: [86,0,0] Assertion `srcIndex < srcSelectDimSize` failed.\n",
      "/opt/conda/conda-bld/pytorch_1712608839953/work/aten/src/ATen/native/cuda/Indexing.cu:1289: indexSelectLargeIndex: block: [89,0,0], thread: [87,0,0] Assertion `srcIndex < srcSelectDimSize` failed.\n",
      "/opt/conda/conda-bld/pytorch_1712608839953/work/aten/src/ATen/native/cuda/Indexing.cu:1289: indexSelectLargeIndex: block: [89,0,0], thread: [88,0,0] Assertion `srcIndex < srcSelectDimSize` failed.\n",
      "/opt/conda/conda-bld/pytorch_1712608839953/work/aten/src/ATen/native/cuda/Indexing.cu:1289: indexSelectLargeIndex: block: [89,0,0], thread: [89,0,0] Assertion `srcIndex < srcSelectDimSize` failed.\n",
      "/opt/conda/conda-bld/pytorch_1712608839953/work/aten/src/ATen/native/cuda/Indexing.cu:1289: indexSelectLargeIndex: block: [89,0,0], thread: [90,0,0] Assertion `srcIndex < srcSelectDimSize` failed.\n",
      "/opt/conda/conda-bld/pytorch_1712608839953/work/aten/src/ATen/native/cuda/Indexing.cu:1289: indexSelectLargeIndex: block: [89,0,0], thread: [91,0,0] Assertion `srcIndex < srcSelectDimSize` failed.\n",
      "/opt/conda/conda-bld/pytorch_1712608839953/work/aten/src/ATen/native/cuda/Indexing.cu:1289: indexSelectLargeIndex: block: [89,0,0], thread: [92,0,0] Assertion `srcIndex < srcSelectDimSize` failed.\n",
      "/opt/conda/conda-bld/pytorch_1712608839953/work/aten/src/ATen/native/cuda/Indexing.cu:1289: indexSelectLargeIndex: block: [89,0,0], thread: [93,0,0] Assertion `srcIndex < srcSelectDimSize` failed.\n",
      "/opt/conda/conda-bld/pytorch_1712608839953/work/aten/src/ATen/native/cuda/Indexing.cu:1289: indexSelectLargeIndex: block: [89,0,0], thread: [94,0,0] Assertion `srcIndex < srcSelectDimSize` failed.\n",
      "/opt/conda/conda-bld/pytorch_1712608839953/work/aten/src/ATen/native/cuda/Indexing.cu:1289: indexSelectLargeIndex: block: [89,0,0], thread: [95,0,0] Assertion `srcIndex < srcSelectDimSize` failed.\n",
      "/opt/conda/conda-bld/pytorch_1712608839953/work/aten/src/ATen/native/cuda/Indexing.cu:1289: indexSelectLargeIndex: block: [96,0,0], thread: [96,0,0] Assertion `srcIndex < srcSelectDimSize` failed.\n",
      "/opt/conda/conda-bld/pytorch_1712608839953/work/aten/src/ATen/native/cuda/Indexing.cu:1289: indexSelectLargeIndex: block: [96,0,0], thread: [97,0,0] Assertion `srcIndex < srcSelectDimSize` failed.\n",
      "/opt/conda/conda-bld/pytorch_1712608839953/work/aten/src/ATen/native/cuda/Indexing.cu:1289: indexSelectLargeIndex: block: [96,0,0], thread: [98,0,0] Assertion `srcIndex < srcSelectDimSize` failed.\n",
      "/opt/conda/conda-bld/pytorch_1712608839953/work/aten/src/ATen/native/cuda/Indexing.cu:1289: indexSelectLargeIndex: block: [96,0,0], thread: [99,0,0] Assertion `srcIndex < srcSelectDimSize` failed.\n",
      "/opt/conda/conda-bld/pytorch_1712608839953/work/aten/src/ATen/native/cuda/Indexing.cu:1289: indexSelectLargeIndex: block: [96,0,0], thread: [100,0,0] Assertion `srcIndex < srcSelectDimSize` failed.\n",
      "/opt/conda/conda-bld/pytorch_1712608839953/work/aten/src/ATen/native/cuda/Indexing.cu:1289: indexSelectLargeIndex: block: [96,0,0], thread: [101,0,0] Assertion `srcIndex < srcSelectDimSize` failed.\n",
      "/opt/conda/conda-bld/pytorch_1712608839953/work/aten/src/ATen/native/cuda/Indexing.cu:1289: indexSelectLargeIndex: block: [96,0,0], thread: [102,0,0] Assertion `srcIndex < srcSelectDimSize` failed.\n",
      "/opt/conda/conda-bld/pytorch_1712608839953/work/aten/src/ATen/native/cuda/Indexing.cu:1289: indexSelectLargeIndex: block: [96,0,0], thread: [103,0,0] Assertion `srcIndex < srcSelectDimSize` failed.\n",
      "/opt/conda/conda-bld/pytorch_1712608839953/work/aten/src/ATen/native/cuda/Indexing.cu:1289: indexSelectLargeIndex: block: [96,0,0], thread: [104,0,0] Assertion `srcIndex < srcSelectDimSize` failed.\n",
      "/opt/conda/conda-bld/pytorch_1712608839953/work/aten/src/ATen/native/cuda/Indexing.cu:1289: indexSelectLargeIndex: block: [96,0,0], thread: [105,0,0] Assertion `srcIndex < srcSelectDimSize` failed.\n",
      "/opt/conda/conda-bld/pytorch_1712608839953/work/aten/src/ATen/native/cuda/Indexing.cu:1289: indexSelectLargeIndex: block: [96,0,0], thread: [106,0,0] Assertion `srcIndex < srcSelectDimSize` failed.\n",
      "/opt/conda/conda-bld/pytorch_1712608839953/work/aten/src/ATen/native/cuda/Indexing.cu:1289: indexSelectLargeIndex: block: [96,0,0], thread: [107,0,0] Assertion `srcIndex < srcSelectDimSize` failed.\n",
      "/opt/conda/conda-bld/pytorch_1712608839953/work/aten/src/ATen/native/cuda/Indexing.cu:1289: indexSelectLargeIndex: block: [96,0,0], thread: [108,0,0] Assertion `srcIndex < srcSelectDimSize` failed.\n",
      "/opt/conda/conda-bld/pytorch_1712608839953/work/aten/src/ATen/native/cuda/Indexing.cu:1289: indexSelectLargeIndex: block: [96,0,0], thread: [109,0,0] Assertion `srcIndex < srcSelectDimSize` failed.\n",
      "/opt/conda/conda-bld/pytorch_1712608839953/work/aten/src/ATen/native/cuda/Indexing.cu:1289: indexSelectLargeIndex: block: [96,0,0], thread: [110,0,0] Assertion `srcIndex < srcSelectDimSize` failed.\n",
      "/opt/conda/conda-bld/pytorch_1712608839953/work/aten/src/ATen/native/cuda/Indexing.cu:1289: indexSelectLargeIndex: block: [96,0,0], thread: [111,0,0] Assertion `srcIndex < srcSelectDimSize` failed.\n",
      "/opt/conda/conda-bld/pytorch_1712608839953/work/aten/src/ATen/native/cuda/Indexing.cu:1289: indexSelectLargeIndex: block: [96,0,0], thread: [112,0,0] Assertion `srcIndex < srcSelectDimSize` failed.\n",
      "/opt/conda/conda-bld/pytorch_1712608839953/work/aten/src/ATen/native/cuda/Indexing.cu:1289: indexSelectLargeIndex: block: [96,0,0], thread: [113,0,0] Assertion `srcIndex < srcSelectDimSize` failed.\n",
      "/opt/conda/conda-bld/pytorch_1712608839953/work/aten/src/ATen/native/cuda/Indexing.cu:1289: indexSelectLargeIndex: block: [96,0,0], thread: [114,0,0] Assertion `srcIndex < srcSelectDimSize` failed.\n",
      "/opt/conda/conda-bld/pytorch_1712608839953/work/aten/src/ATen/native/cuda/Indexing.cu:1289: indexSelectLargeIndex: block: [96,0,0], thread: [115,0,0] Assertion `srcIndex < srcSelectDimSize` failed.\n",
      "/opt/conda/conda-bld/pytorch_1712608839953/work/aten/src/ATen/native/cuda/Indexing.cu:1289: indexSelectLargeIndex: block: [96,0,0], thread: [116,0,0] Assertion `srcIndex < srcSelectDimSize` failed.\n",
      "/opt/conda/conda-bld/pytorch_1712608839953/work/aten/src/ATen/native/cuda/Indexing.cu:1289: indexSelectLargeIndex: block: [96,0,0], thread: [117,0,0] Assertion `srcIndex < srcSelectDimSize` failed.\n",
      "/opt/conda/conda-bld/pytorch_1712608839953/work/aten/src/ATen/native/cuda/Indexing.cu:1289: indexSelectLargeIndex: block: [96,0,0], thread: [118,0,0] Assertion `srcIndex < srcSelectDimSize` failed.\n",
      "/opt/conda/conda-bld/pytorch_1712608839953/work/aten/src/ATen/native/cuda/Indexing.cu:1289: indexSelectLargeIndex: block: [96,0,0], thread: [119,0,0] Assertion `srcIndex < srcSelectDimSize` failed.\n",
      "/opt/conda/conda-bld/pytorch_1712608839953/work/aten/src/ATen/native/cuda/Indexing.cu:1289: indexSelectLargeIndex: block: [96,0,0], thread: [120,0,0] Assertion `srcIndex < srcSelectDimSize` failed.\n",
      "/opt/conda/conda-bld/pytorch_1712608839953/work/aten/src/ATen/native/cuda/Indexing.cu:1289: indexSelectLargeIndex: block: [96,0,0], thread: [121,0,0] Assertion `srcIndex < srcSelectDimSize` failed.\n",
      "/opt/conda/conda-bld/pytorch_1712608839953/work/aten/src/ATen/native/cuda/Indexing.cu:1289: indexSelectLargeIndex: block: [96,0,0], thread: [122,0,0] Assertion `srcIndex < srcSelectDimSize` failed.\n",
      "/opt/conda/conda-bld/pytorch_1712608839953/work/aten/src/ATen/native/cuda/Indexing.cu:1289: indexSelectLargeIndex: block: [96,0,0], thread: [123,0,0] Assertion `srcIndex < srcSelectDimSize` failed.\n",
      "/opt/conda/conda-bld/pytorch_1712608839953/work/aten/src/ATen/native/cuda/Indexing.cu:1289: indexSelectLargeIndex: block: [96,0,0], thread: [124,0,0] Assertion `srcIndex < srcSelectDimSize` failed.\n",
      "/opt/conda/conda-bld/pytorch_1712608839953/work/aten/src/ATen/native/cuda/Indexing.cu:1289: indexSelectLargeIndex: block: [96,0,0], thread: [125,0,0] Assertion `srcIndex < srcSelectDimSize` failed.\n",
      "/opt/conda/conda-bld/pytorch_1712608839953/work/aten/src/ATen/native/cuda/Indexing.cu:1289: indexSelectLargeIndex: block: [96,0,0], thread: [126,0,0] Assertion `srcIndex < srcSelectDimSize` failed.\n",
      "/opt/conda/conda-bld/pytorch_1712608839953/work/aten/src/ATen/native/cuda/Indexing.cu:1289: indexSelectLargeIndex: block: [96,0,0], thread: [127,0,0] Assertion `srcIndex < srcSelectDimSize` failed.\n",
      "/opt/conda/conda-bld/pytorch_1712608839953/work/aten/src/ATen/native/cuda/Indexing.cu:1289: indexSelectLargeIndex: block: [97,0,0], thread: [64,0,0] Assertion `srcIndex < srcSelectDimSize` failed.\n",
      "/opt/conda/conda-bld/pytorch_1712608839953/work/aten/src/ATen/native/cuda/Indexing.cu:1289: indexSelectLargeIndex: block: [97,0,0], thread: [65,0,0] Assertion `srcIndex < srcSelectDimSize` failed.\n",
      "/opt/conda/conda-bld/pytorch_1712608839953/work/aten/src/ATen/native/cuda/Indexing.cu:1289: indexSelectLargeIndex: block: [97,0,0], thread: [66,0,0] Assertion `srcIndex < srcSelectDimSize` failed.\n",
      "/opt/conda/conda-bld/pytorch_1712608839953/work/aten/src/ATen/native/cuda/Indexing.cu:1289: indexSelectLargeIndex: block: [97,0,0], thread: [67,0,0] Assertion `srcIndex < srcSelectDimSize` failed.\n",
      "/opt/conda/conda-bld/pytorch_1712608839953/work/aten/src/ATen/native/cuda/Indexing.cu:1289: indexSelectLargeIndex: block: [97,0,0], thread: [68,0,0] Assertion `srcIndex < srcSelectDimSize` failed.\n",
      "/opt/conda/conda-bld/pytorch_1712608839953/work/aten/src/ATen/native/cuda/Indexing.cu:1289: indexSelectLargeIndex: block: [97,0,0], thread: [69,0,0] Assertion `srcIndex < srcSelectDimSize` failed.\n",
      "/opt/conda/conda-bld/pytorch_1712608839953/work/aten/src/ATen/native/cuda/Indexing.cu:1289: indexSelectLargeIndex: block: [97,0,0], thread: [70,0,0] Assertion `srcIndex < srcSelectDimSize` failed.\n",
      "/opt/conda/conda-bld/pytorch_1712608839953/work/aten/src/ATen/native/cuda/Indexing.cu:1289: indexSelectLargeIndex: block: [97,0,0], thread: [71,0,0] Assertion `srcIndex < srcSelectDimSize` failed.\n",
      "/opt/conda/conda-bld/pytorch_1712608839953/work/aten/src/ATen/native/cuda/Indexing.cu:1289: indexSelectLargeIndex: block: [97,0,0], thread: [72,0,0] Assertion `srcIndex < srcSelectDimSize` failed.\n",
      "/opt/conda/conda-bld/pytorch_1712608839953/work/aten/src/ATen/native/cuda/Indexing.cu:1289: indexSelectLargeIndex: block: [97,0,0], thread: [73,0,0] Assertion `srcIndex < srcSelectDimSize` failed.\n",
      "/opt/conda/conda-bld/pytorch_1712608839953/work/aten/src/ATen/native/cuda/Indexing.cu:1289: indexSelectLargeIndex: block: [97,0,0], thread: [74,0,0] Assertion `srcIndex < srcSelectDimSize` failed.\n",
      "/opt/conda/conda-bld/pytorch_1712608839953/work/aten/src/ATen/native/cuda/Indexing.cu:1289: indexSelectLargeIndex: block: [97,0,0], thread: [75,0,0] Assertion `srcIndex < srcSelectDimSize` failed.\n",
      "/opt/conda/conda-bld/pytorch_1712608839953/work/aten/src/ATen/native/cuda/Indexing.cu:1289: indexSelectLargeIndex: block: [97,0,0], thread: [76,0,0] Assertion `srcIndex < srcSelectDimSize` failed.\n",
      "/opt/conda/conda-bld/pytorch_1712608839953/work/aten/src/ATen/native/cuda/Indexing.cu:1289: indexSelectLargeIndex: block: [97,0,0], thread: [77,0,0] Assertion `srcIndex < srcSelectDimSize` failed.\n",
      "/opt/conda/conda-bld/pytorch_1712608839953/work/aten/src/ATen/native/cuda/Indexing.cu:1289: indexSelectLargeIndex: block: [97,0,0], thread: [78,0,0] Assertion `srcIndex < srcSelectDimSize` failed.\n",
      "/opt/conda/conda-bld/pytorch_1712608839953/work/aten/src/ATen/native/cuda/Indexing.cu:1289: indexSelectLargeIndex: block: [97,0,0], thread: [79,0,0] Assertion `srcIndex < srcSelectDimSize` failed.\n",
      "/opt/conda/conda-bld/pytorch_1712608839953/work/aten/src/ATen/native/cuda/Indexing.cu:1289: indexSelectLargeIndex: block: [97,0,0], thread: [80,0,0] Assertion `srcIndex < srcSelectDimSize` failed.\n",
      "/opt/conda/conda-bld/pytorch_1712608839953/work/aten/src/ATen/native/cuda/Indexing.cu:1289: indexSelectLargeIndex: block: [97,0,0], thread: [81,0,0] Assertion `srcIndex < srcSelectDimSize` failed.\n",
      "/opt/conda/conda-bld/pytorch_1712608839953/work/aten/src/ATen/native/cuda/Indexing.cu:1289: indexSelectLargeIndex: block: [97,0,0], thread: [82,0,0] Assertion `srcIndex < srcSelectDimSize` failed.\n",
      "/opt/conda/conda-bld/pytorch_1712608839953/work/aten/src/ATen/native/cuda/Indexing.cu:1289: indexSelectLargeIndex: block: [97,0,0], thread: [83,0,0] Assertion `srcIndex < srcSelectDimSize` failed.\n",
      "/opt/conda/conda-bld/pytorch_1712608839953/work/aten/src/ATen/native/cuda/Indexing.cu:1289: indexSelectLargeIndex: block: [97,0,0], thread: [84,0,0] Assertion `srcIndex < srcSelectDimSize` failed.\n",
      "/opt/conda/conda-bld/pytorch_1712608839953/work/aten/src/ATen/native/cuda/Indexing.cu:1289: indexSelectLargeIndex: block: [97,0,0], thread: [85,0,0] Assertion `srcIndex < srcSelectDimSize` failed.\n",
      "/opt/conda/conda-bld/pytorch_1712608839953/work/aten/src/ATen/native/cuda/Indexing.cu:1289: indexSelectLargeIndex: block: [97,0,0], thread: [86,0,0] Assertion `srcIndex < srcSelectDimSize` failed.\n",
      "/opt/conda/conda-bld/pytorch_1712608839953/work/aten/src/ATen/native/cuda/Indexing.cu:1289: indexSelectLargeIndex: block: [97,0,0], thread: [87,0,0] Assertion `srcIndex < srcSelectDimSize` failed.\n",
      "/opt/conda/conda-bld/pytorch_1712608839953/work/aten/src/ATen/native/cuda/Indexing.cu:1289: indexSelectLargeIndex: block: [97,0,0], thread: [88,0,0] Assertion `srcIndex < srcSelectDimSize` failed.\n",
      "/opt/conda/conda-bld/pytorch_1712608839953/work/aten/src/ATen/native/cuda/Indexing.cu:1289: indexSelectLargeIndex: block: [97,0,0], thread: [89,0,0] Assertion `srcIndex < srcSelectDimSize` failed.\n",
      "/opt/conda/conda-bld/pytorch_1712608839953/work/aten/src/ATen/native/cuda/Indexing.cu:1289: indexSelectLargeIndex: block: [97,0,0], thread: [90,0,0] Assertion `srcIndex < srcSelectDimSize` failed.\n",
      "/opt/conda/conda-bld/pytorch_1712608839953/work/aten/src/ATen/native/cuda/Indexing.cu:1289: indexSelectLargeIndex: block: [97,0,0], thread: [91,0,0] Assertion `srcIndex < srcSelectDimSize` failed.\n",
      "/opt/conda/conda-bld/pytorch_1712608839953/work/aten/src/ATen/native/cuda/Indexing.cu:1289: indexSelectLargeIndex: block: [97,0,0], thread: [92,0,0] Assertion `srcIndex < srcSelectDimSize` failed.\n",
      "/opt/conda/conda-bld/pytorch_1712608839953/work/aten/src/ATen/native/cuda/Indexing.cu:1289: indexSelectLargeIndex: block: [97,0,0], thread: [93,0,0] Assertion `srcIndex < srcSelectDimSize` failed.\n",
      "/opt/conda/conda-bld/pytorch_1712608839953/work/aten/src/ATen/native/cuda/Indexing.cu:1289: indexSelectLargeIndex: block: [97,0,0], thread: [94,0,0] Assertion `srcIndex < srcSelectDimSize` failed.\n",
      "/opt/conda/conda-bld/pytorch_1712608839953/work/aten/src/ATen/native/cuda/Indexing.cu:1289: indexSelectLargeIndex: block: [97,0,0], thread: [95,0,0] Assertion `srcIndex < srcSelectDimSize` failed.\n",
      "/opt/conda/conda-bld/pytorch_1712608839953/work/aten/src/ATen/native/cuda/Indexing.cu:1289: indexSelectLargeIndex: block: [7,0,0], thread: [64,0,0] Assertion `srcIndex < srcSelectDimSize` failed.\n",
      "/opt/conda/conda-bld/pytorch_1712608839953/work/aten/src/ATen/native/cuda/Indexing.cu:1289: indexSelectLargeIndex: block: [7,0,0], thread: [65,0,0] Assertion `srcIndex < srcSelectDimSize` failed.\n",
      "/opt/conda/conda-bld/pytorch_1712608839953/work/aten/src/ATen/native/cuda/Indexing.cu:1289: indexSelectLargeIndex: block: [7,0,0], thread: [66,0,0] Assertion `srcIndex < srcSelectDimSize` failed.\n",
      "/opt/conda/conda-bld/pytorch_1712608839953/work/aten/src/ATen/native/cuda/Indexing.cu:1289: indexSelectLargeIndex: block: [7,0,0], thread: [67,0,0] Assertion `srcIndex < srcSelectDimSize` failed.\n",
      "/opt/conda/conda-bld/pytorch_1712608839953/work/aten/src/ATen/native/cuda/Indexing.cu:1289: indexSelectLargeIndex: block: [7,0,0], thread: [68,0,0] Assertion `srcIndex < srcSelectDimSize` failed.\n",
      "/opt/conda/conda-bld/pytorch_1712608839953/work/aten/src/ATen/native/cuda/Indexing.cu:1289: indexSelectLargeIndex: block: [7,0,0], thread: [69,0,0] Assertion `srcIndex < srcSelectDimSize` failed.\n",
      "/opt/conda/conda-bld/pytorch_1712608839953/work/aten/src/ATen/native/cuda/Indexing.cu:1289: indexSelectLargeIndex: block: [7,0,0], thread: [70,0,0] Assertion `srcIndex < srcSelectDimSize` failed.\n",
      "/opt/conda/conda-bld/pytorch_1712608839953/work/aten/src/ATen/native/cuda/Indexing.cu:1289: indexSelectLargeIndex: block: [7,0,0], thread: [71,0,0] Assertion `srcIndex < srcSelectDimSize` failed.\n",
      "/opt/conda/conda-bld/pytorch_1712608839953/work/aten/src/ATen/native/cuda/Indexing.cu:1289: indexSelectLargeIndex: block: [7,0,0], thread: [72,0,0] Assertion `srcIndex < srcSelectDimSize` failed.\n",
      "/opt/conda/conda-bld/pytorch_1712608839953/work/aten/src/ATen/native/cuda/Indexing.cu:1289: indexSelectLargeIndex: block: [7,0,0], thread: [73,0,0] Assertion `srcIndex < srcSelectDimSize` failed.\n",
      "/opt/conda/conda-bld/pytorch_1712608839953/work/aten/src/ATen/native/cuda/Indexing.cu:1289: indexSelectLargeIndex: block: [7,0,0], thread: [74,0,0] Assertion `srcIndex < srcSelectDimSize` failed.\n",
      "/opt/conda/conda-bld/pytorch_1712608839953/work/aten/src/ATen/native/cuda/Indexing.cu:1289: indexSelectLargeIndex: block: [7,0,0], thread: [75,0,0] Assertion `srcIndex < srcSelectDimSize` failed.\n",
      "/opt/conda/conda-bld/pytorch_1712608839953/work/aten/src/ATen/native/cuda/Indexing.cu:1289: indexSelectLargeIndex: block: [7,0,0], thread: [76,0,0] Assertion `srcIndex < srcSelectDimSize` failed.\n",
      "/opt/conda/conda-bld/pytorch_1712608839953/work/aten/src/ATen/native/cuda/Indexing.cu:1289: indexSelectLargeIndex: block: [7,0,0], thread: [77,0,0] Assertion `srcIndex < srcSelectDimSize` failed.\n",
      "/opt/conda/conda-bld/pytorch_1712608839953/work/aten/src/ATen/native/cuda/Indexing.cu:1289: indexSelectLargeIndex: block: [7,0,0], thread: [78,0,0] Assertion `srcIndex < srcSelectDimSize` failed.\n",
      "/opt/conda/conda-bld/pytorch_1712608839953/work/aten/src/ATen/native/cuda/Indexing.cu:1289: indexSelectLargeIndex: block: [7,0,0], thread: [79,0,0] Assertion `srcIndex < srcSelectDimSize` failed.\n",
      "/opt/conda/conda-bld/pytorch_1712608839953/work/aten/src/ATen/native/cuda/Indexing.cu:1289: indexSelectLargeIndex: block: [7,0,0], thread: [80,0,0] Assertion `srcIndex < srcSelectDimSize` failed.\n",
      "/opt/conda/conda-bld/pytorch_1712608839953/work/aten/src/ATen/native/cuda/Indexing.cu:1289: indexSelectLargeIndex: block: [7,0,0], thread: [81,0,0] Assertion `srcIndex < srcSelectDimSize` failed.\n",
      "/opt/conda/conda-bld/pytorch_1712608839953/work/aten/src/ATen/native/cuda/Indexing.cu:1289: indexSelectLargeIndex: block: [7,0,0], thread: [82,0,0] Assertion `srcIndex < srcSelectDimSize` failed.\n",
      "/opt/conda/conda-bld/pytorch_1712608839953/work/aten/src/ATen/native/cuda/Indexing.cu:1289: indexSelectLargeIndex: block: [7,0,0], thread: [83,0,0] Assertion `srcIndex < srcSelectDimSize` failed.\n",
      "/opt/conda/conda-bld/pytorch_1712608839953/work/aten/src/ATen/native/cuda/Indexing.cu:1289: indexSelectLargeIndex: block: [7,0,0], thread: [84,0,0] Assertion `srcIndex < srcSelectDimSize` failed.\n",
      "/opt/conda/conda-bld/pytorch_1712608839953/work/aten/src/ATen/native/cuda/Indexing.cu:1289: indexSelectLargeIndex: block: [7,0,0], thread: [85,0,0] Assertion `srcIndex < srcSelectDimSize` failed.\n",
      "/opt/conda/conda-bld/pytorch_1712608839953/work/aten/src/ATen/native/cuda/Indexing.cu:1289: indexSelectLargeIndex: block: [7,0,0], thread: [86,0,0] Assertion `srcIndex < srcSelectDimSize` failed.\n",
      "/opt/conda/conda-bld/pytorch_1712608839953/work/aten/src/ATen/native/cuda/Indexing.cu:1289: indexSelectLargeIndex: block: [7,0,0], thread: [87,0,0] Assertion `srcIndex < srcSelectDimSize` failed.\n",
      "/opt/conda/conda-bld/pytorch_1712608839953/work/aten/src/ATen/native/cuda/Indexing.cu:1289: indexSelectLargeIndex: block: [7,0,0], thread: [88,0,0] Assertion `srcIndex < srcSelectDimSize` failed.\n",
      "/opt/conda/conda-bld/pytorch_1712608839953/work/aten/src/ATen/native/cuda/Indexing.cu:1289: indexSelectLargeIndex: block: [7,0,0], thread: [89,0,0] Assertion `srcIndex < srcSelectDimSize` failed.\n",
      "/opt/conda/conda-bld/pytorch_1712608839953/work/aten/src/ATen/native/cuda/Indexing.cu:1289: indexSelectLargeIndex: block: [7,0,0], thread: [90,0,0] Assertion `srcIndex < srcSelectDimSize` failed.\n",
      "/opt/conda/conda-bld/pytorch_1712608839953/work/aten/src/ATen/native/cuda/Indexing.cu:1289: indexSelectLargeIndex: block: [7,0,0], thread: [91,0,0] Assertion `srcIndex < srcSelectDimSize` failed.\n",
      "/opt/conda/conda-bld/pytorch_1712608839953/work/aten/src/ATen/native/cuda/Indexing.cu:1289: indexSelectLargeIndex: block: [7,0,0], thread: [92,0,0] Assertion `srcIndex < srcSelectDimSize` failed.\n",
      "/opt/conda/conda-bld/pytorch_1712608839953/work/aten/src/ATen/native/cuda/Indexing.cu:1289: indexSelectLargeIndex: block: [7,0,0], thread: [93,0,0] Assertion `srcIndex < srcSelectDimSize` failed.\n",
      "/opt/conda/conda-bld/pytorch_1712608839953/work/aten/src/ATen/native/cuda/Indexing.cu:1289: indexSelectLargeIndex: block: [7,0,0], thread: [94,0,0] Assertion `srcIndex < srcSelectDimSize` failed.\n",
      "/opt/conda/conda-bld/pytorch_1712608839953/work/aten/src/ATen/native/cuda/Indexing.cu:1289: indexSelectLargeIndex: block: [7,0,0], thread: [95,0,0] Assertion `srcIndex < srcSelectDimSize` failed.\n"
     ]
    },
    {
     "ename": "RuntimeError",
     "evalue": "CUDA error: device-side assert triggered\nCUDA kernel errors might be asynchronously reported at some other API call, so the stacktrace below might be incorrect.\nFor debugging consider passing CUDA_LAUNCH_BLOCKING=1.\nCompile with `TORCH_USE_CUDA_DSA` to enable device-side assertions.\n",
     "output_type": "error",
     "traceback": [
      "\u001b[0;31m---------------------------------------------------------------------------\u001b[0m",
      "\u001b[0;31mRuntimeError\u001b[0m                              Traceback (most recent call last)",
      "Cell \u001b[0;32mIn[4], line 5\u001b[0m\n\u001b[1;32m      3\u001b[0m src_batch \u001b[38;5;241m=\u001b[39m batch[\u001b[38;5;124m'\u001b[39m\u001b[38;5;124msrc\u001b[39m\u001b[38;5;124m'\u001b[39m]\u001b[38;5;241m.\u001b[39mto(device)\n\u001b[1;32m      4\u001b[0m tgt_batch \u001b[38;5;241m=\u001b[39m batch[\u001b[38;5;124m'\u001b[39m\u001b[38;5;124mtgt\u001b[39m\u001b[38;5;124m'\u001b[39m]\u001b[38;5;241m.\u001b[39mto(device)\n\u001b[0;32m----> 5\u001b[0m output, _ \u001b[38;5;241m=\u001b[39m \u001b[43mmodel\u001b[49m\u001b[43m(\u001b[49m\u001b[43msrc_batch\u001b[49m\u001b[43m,\u001b[49m\u001b[43m \u001b[49m\u001b[43mtgt_batch\u001b[49m\u001b[43m[\u001b[49m\u001b[43m:\u001b[49m\u001b[43m,\u001b[49m\u001b[43m \u001b[49m\u001b[43m:\u001b[49m\u001b[38;5;241;43m-\u001b[39;49m\u001b[38;5;241;43m1\u001b[39;49m\u001b[43m]\u001b[49m\u001b[43m)\u001b[49m \n\u001b[1;32m      6\u001b[0m output_dim \u001b[38;5;241m=\u001b[39m output\u001b[38;5;241m.\u001b[39mshape[\u001b[38;5;241m-\u001b[39m\u001b[38;5;241m1\u001b[39m]\n\u001b[1;32m      7\u001b[0m output \u001b[38;5;241m=\u001b[39m output\u001b[38;5;241m.\u001b[39mreshape(\u001b[38;5;241m-\u001b[39m\u001b[38;5;241m1\u001b[39m, output_dim)\n",
      "File \u001b[0;32m~/miniconda3/envs/torch_env/lib/python3.10/site-packages/torch/nn/modules/module.py:1532\u001b[0m, in \u001b[0;36mModule._wrapped_call_impl\u001b[0;34m(self, *args, **kwargs)\u001b[0m\n\u001b[1;32m   1530\u001b[0m     \u001b[38;5;28;01mreturn\u001b[39;00m \u001b[38;5;28mself\u001b[39m\u001b[38;5;241m.\u001b[39m_compiled_call_impl(\u001b[38;5;241m*\u001b[39margs, \u001b[38;5;241m*\u001b[39m\u001b[38;5;241m*\u001b[39mkwargs)  \u001b[38;5;66;03m# type: ignore[misc]\u001b[39;00m\n\u001b[1;32m   1531\u001b[0m \u001b[38;5;28;01melse\u001b[39;00m:\n\u001b[0;32m-> 1532\u001b[0m     \u001b[38;5;28;01mreturn\u001b[39;00m \u001b[38;5;28;43mself\u001b[39;49m\u001b[38;5;241;43m.\u001b[39;49m\u001b[43m_call_impl\u001b[49m\u001b[43m(\u001b[49m\u001b[38;5;241;43m*\u001b[39;49m\u001b[43margs\u001b[49m\u001b[43m,\u001b[49m\u001b[43m \u001b[49m\u001b[38;5;241;43m*\u001b[39;49m\u001b[38;5;241;43m*\u001b[39;49m\u001b[43mkwargs\u001b[49m\u001b[43m)\u001b[49m\n",
      "File \u001b[0;32m~/miniconda3/envs/torch_env/lib/python3.10/site-packages/torch/nn/modules/module.py:1541\u001b[0m, in \u001b[0;36mModule._call_impl\u001b[0;34m(self, *args, **kwargs)\u001b[0m\n\u001b[1;32m   1536\u001b[0m \u001b[38;5;66;03m# If we don't have any hooks, we want to skip the rest of the logic in\u001b[39;00m\n\u001b[1;32m   1537\u001b[0m \u001b[38;5;66;03m# this function, and just call forward.\u001b[39;00m\n\u001b[1;32m   1538\u001b[0m \u001b[38;5;28;01mif\u001b[39;00m \u001b[38;5;129;01mnot\u001b[39;00m (\u001b[38;5;28mself\u001b[39m\u001b[38;5;241m.\u001b[39m_backward_hooks \u001b[38;5;129;01mor\u001b[39;00m \u001b[38;5;28mself\u001b[39m\u001b[38;5;241m.\u001b[39m_backward_pre_hooks \u001b[38;5;129;01mor\u001b[39;00m \u001b[38;5;28mself\u001b[39m\u001b[38;5;241m.\u001b[39m_forward_hooks \u001b[38;5;129;01mor\u001b[39;00m \u001b[38;5;28mself\u001b[39m\u001b[38;5;241m.\u001b[39m_forward_pre_hooks\n\u001b[1;32m   1539\u001b[0m         \u001b[38;5;129;01mor\u001b[39;00m _global_backward_pre_hooks \u001b[38;5;129;01mor\u001b[39;00m _global_backward_hooks\n\u001b[1;32m   1540\u001b[0m         \u001b[38;5;129;01mor\u001b[39;00m _global_forward_hooks \u001b[38;5;129;01mor\u001b[39;00m _global_forward_pre_hooks):\n\u001b[0;32m-> 1541\u001b[0m     \u001b[38;5;28;01mreturn\u001b[39;00m \u001b[43mforward_call\u001b[49m\u001b[43m(\u001b[49m\u001b[38;5;241;43m*\u001b[39;49m\u001b[43margs\u001b[49m\u001b[43m,\u001b[49m\u001b[43m \u001b[49m\u001b[38;5;241;43m*\u001b[39;49m\u001b[38;5;241;43m*\u001b[39;49m\u001b[43mkwargs\u001b[49m\u001b[43m)\u001b[49m\n\u001b[1;32m   1543\u001b[0m \u001b[38;5;28;01mtry\u001b[39;00m:\n\u001b[1;32m   1544\u001b[0m     result \u001b[38;5;241m=\u001b[39m \u001b[38;5;28;01mNone\u001b[39;00m\n",
      "File \u001b[0;32m~/Documents/learnNLP/3.seq2seqTransformer/src/transformer/transformer.py:32\u001b[0m, in \u001b[0;36mTransformer.forward\u001b[0;34m(self, src, tgt)\u001b[0m\n\u001b[1;32m     30\u001b[0m \u001b[38;5;28;01mdef\u001b[39;00m \u001b[38;5;21mforward\u001b[39m(\u001b[38;5;28mself\u001b[39m, src, tgt):\n\u001b[1;32m     31\u001b[0m \tsrc_mask \u001b[38;5;241m=\u001b[39m \u001b[38;5;28mself\u001b[39m\u001b[38;5;241m.\u001b[39mmake_input_mask(src)\n\u001b[0;32m---> 32\u001b[0m \tencoded_input \u001b[38;5;241m=\u001b[39m \u001b[38;5;28;43mself\u001b[39;49m\u001b[38;5;241;43m.\u001b[39;49m\u001b[43mencoder\u001b[49m\u001b[43m(\u001b[49m\u001b[43msrc\u001b[49m\u001b[43m,\u001b[49m\u001b[43m \u001b[49m\u001b[43msrc_mask\u001b[49m\u001b[43m)\u001b[49m\n\u001b[1;32m     33\u001b[0m \ttarget_mask \u001b[38;5;241m=\u001b[39m \u001b[38;5;28mself\u001b[39m\u001b[38;5;241m.\u001b[39mmake_target_mask(tgt)\n\u001b[1;32m     34\u001b[0m \toutput, attention \u001b[38;5;241m=\u001b[39m \u001b[38;5;28mself\u001b[39m\u001b[38;5;241m.\u001b[39mdecoder(tgt, encoded_input, target_mask, src_mask)\n",
      "File \u001b[0;32m~/miniconda3/envs/torch_env/lib/python3.10/site-packages/torch/nn/modules/module.py:1532\u001b[0m, in \u001b[0;36mModule._wrapped_call_impl\u001b[0;34m(self, *args, **kwargs)\u001b[0m\n\u001b[1;32m   1530\u001b[0m     \u001b[38;5;28;01mreturn\u001b[39;00m \u001b[38;5;28mself\u001b[39m\u001b[38;5;241m.\u001b[39m_compiled_call_impl(\u001b[38;5;241m*\u001b[39margs, \u001b[38;5;241m*\u001b[39m\u001b[38;5;241m*\u001b[39mkwargs)  \u001b[38;5;66;03m# type: ignore[misc]\u001b[39;00m\n\u001b[1;32m   1531\u001b[0m \u001b[38;5;28;01melse\u001b[39;00m:\n\u001b[0;32m-> 1532\u001b[0m     \u001b[38;5;28;01mreturn\u001b[39;00m \u001b[38;5;28;43mself\u001b[39;49m\u001b[38;5;241;43m.\u001b[39;49m\u001b[43m_call_impl\u001b[49m\u001b[43m(\u001b[49m\u001b[38;5;241;43m*\u001b[39;49m\u001b[43margs\u001b[49m\u001b[43m,\u001b[49m\u001b[43m \u001b[49m\u001b[38;5;241;43m*\u001b[39;49m\u001b[38;5;241;43m*\u001b[39;49m\u001b[43mkwargs\u001b[49m\u001b[43m)\u001b[49m\n",
      "File \u001b[0;32m~/miniconda3/envs/torch_env/lib/python3.10/site-packages/torch/nn/modules/module.py:1541\u001b[0m, in \u001b[0;36mModule._call_impl\u001b[0;34m(self, *args, **kwargs)\u001b[0m\n\u001b[1;32m   1536\u001b[0m \u001b[38;5;66;03m# If we don't have any hooks, we want to skip the rest of the logic in\u001b[39;00m\n\u001b[1;32m   1537\u001b[0m \u001b[38;5;66;03m# this function, and just call forward.\u001b[39;00m\n\u001b[1;32m   1538\u001b[0m \u001b[38;5;28;01mif\u001b[39;00m \u001b[38;5;129;01mnot\u001b[39;00m (\u001b[38;5;28mself\u001b[39m\u001b[38;5;241m.\u001b[39m_backward_hooks \u001b[38;5;129;01mor\u001b[39;00m \u001b[38;5;28mself\u001b[39m\u001b[38;5;241m.\u001b[39m_backward_pre_hooks \u001b[38;5;129;01mor\u001b[39;00m \u001b[38;5;28mself\u001b[39m\u001b[38;5;241m.\u001b[39m_forward_hooks \u001b[38;5;129;01mor\u001b[39;00m \u001b[38;5;28mself\u001b[39m\u001b[38;5;241m.\u001b[39m_forward_pre_hooks\n\u001b[1;32m   1539\u001b[0m         \u001b[38;5;129;01mor\u001b[39;00m _global_backward_pre_hooks \u001b[38;5;129;01mor\u001b[39;00m _global_backward_hooks\n\u001b[1;32m   1540\u001b[0m         \u001b[38;5;129;01mor\u001b[39;00m _global_forward_hooks \u001b[38;5;129;01mor\u001b[39;00m _global_forward_pre_hooks):\n\u001b[0;32m-> 1541\u001b[0m     \u001b[38;5;28;01mreturn\u001b[39;00m \u001b[43mforward_call\u001b[49m\u001b[43m(\u001b[49m\u001b[38;5;241;43m*\u001b[39;49m\u001b[43margs\u001b[49m\u001b[43m,\u001b[49m\u001b[43m \u001b[49m\u001b[38;5;241;43m*\u001b[39;49m\u001b[38;5;241;43m*\u001b[39;49m\u001b[43mkwargs\u001b[49m\u001b[43m)\u001b[49m\n\u001b[1;32m   1543\u001b[0m \u001b[38;5;28;01mtry\u001b[39;00m:\n\u001b[1;32m   1544\u001b[0m     result \u001b[38;5;241m=\u001b[39m \u001b[38;5;28;01mNone\u001b[39;00m\n",
      "File \u001b[0;32m~/Documents/learnNLP/3.seq2seqTransformer/src/transformer/encoder.py:79\u001b[0m, in \u001b[0;36mTransformerEncoder.forward\u001b[0;34m(self, src, mask)\u001b[0m\n\u001b[1;32m     76\u001b[0m \u001b[38;5;28;01mdef\u001b[39;00m \u001b[38;5;21mforward\u001b[39m(\u001b[38;5;28mself\u001b[39m, src, mask):\n\u001b[1;32m     77\u001b[0m \tinput_size \u001b[38;5;241m=\u001b[39m src\u001b[38;5;241m.\u001b[39mshape[\u001b[38;5;241m1\u001b[39m]\n\u001b[0;32m---> 79\u001b[0m \tsrc \u001b[38;5;241m=\u001b[39m \u001b[38;5;28mself\u001b[39m\u001b[38;5;241m.\u001b[39mdropout((\u001b[38;5;28;43mself\u001b[39;49m\u001b[38;5;241;43m.\u001b[39;49m\u001b[43mword_embedding\u001b[49m\u001b[43m(\u001b[49m\u001b[43msrc\u001b[49m\u001b[43m)\u001b[49m\u001b[43m \u001b[49m\u001b[38;5;241;43m*\u001b[39;49m\u001b[43m \u001b[49m\u001b[38;5;28;43mself\u001b[39;49m\u001b[38;5;241;43m.\u001b[39;49m\u001b[43mcoefficient\u001b[49m)\u001b[38;5;241m+\u001b[39m \u001b[38;5;28mself\u001b[39m\u001b[38;5;241m.\u001b[39mposition_encoding(input_size, \u001b[38;5;28mself\u001b[39m\u001b[38;5;241m.\u001b[39mdim_model, \u001b[38;5;28mself\u001b[39m\u001b[38;5;241m.\u001b[39mdevice))\n\u001b[1;32m     81\u001b[0m \t\u001b[38;5;28;01mfor\u001b[39;00m layer \u001b[38;5;129;01min\u001b[39;00m \u001b[38;5;28mself\u001b[39m\u001b[38;5;241m.\u001b[39mlayers:\n\u001b[1;32m     82\u001b[0m \t\tsrc \u001b[38;5;241m=\u001b[39m layer(src, mask)\n",
      "\u001b[0;31mRuntimeError\u001b[0m: CUDA error: device-side assert triggered\nCUDA kernel errors might be asynchronously reported at some other API call, so the stacktrace below might be incorrect.\nFor debugging consider passing CUDA_LAUNCH_BLOCKING=1.\nCompile with `TORCH_USE_CUDA_DSA` to enable device-side assertions.\n"
     ]
    }
   ],
   "source": [
    "for i,batch in enumerate(train_loader):\n",
    "    if i <1:\n",
    "        src_batch = batch['src'].to(device)\n",
    "        tgt_batch = batch['tgt'].to(device)\n",
    "        output, _ = model(src_batch, tgt_batch[:, :-1]) \n",
    "        output_dim = output.shape[-1]\n",
    "        output = output.reshape(-1, output_dim)\n",
    "        tgt_y = tgt_batch[:,1:].contiguous().view(-1)\n",
    "        print(tgt_y)"
   ]
  },
  {
   "cell_type": "code",
   "execution_count": null,
   "metadata": {},
   "outputs": [
    {
     "name": "stdout",
     "output_type": "stream",
     "text": [
      "Epoch 1/300\n"
     ]
    },
    {
     "name": "stderr",
     "output_type": "stream",
     "text": [
      "🚀 Validation: 100%|██████████| 3/3 [00:00<00:00, 161.84it/s, loss=8.7026]\n"
     ]
    },
    {
     "name": "stdout",
     "output_type": "stream",
     "text": [
      "[Epoch 1] Train Loss: 8.6938 | Val Loss: 8.7009\n",
      "  -> New best model saved at saved/best.pt\n",
      "Epoch 2/300\n"
     ]
    },
    {
     "name": "stderr",
     "output_type": "stream",
     "text": [
      "🚀 Validation: 100%|██████████| 3/3 [00:00<00:00, 164.97it/s, loss=8.7009]\n"
     ]
    },
    {
     "name": "stdout",
     "output_type": "stream",
     "text": [
      "[Epoch 2] Train Loss: 8.6877 | Val Loss: 8.6993\n",
      "  -> New best model saved at saved/best.pt\n",
      "Epoch 3/300\n"
     ]
    },
    {
     "name": "stderr",
     "output_type": "stream",
     "text": [
      "🚀 Validation: 100%|██████████| 3/3 [00:00<00:00, 148.44it/s, loss=8.6992]\n"
     ]
    },
    {
     "name": "stdout",
     "output_type": "stream",
     "text": [
      "[Epoch 3] Train Loss: 8.6876 | Val Loss: 8.6977\n",
      "  -> New best model saved at saved/best.pt\n",
      "Epoch 4/300\n"
     ]
    },
    {
     "name": "stderr",
     "output_type": "stream",
     "text": [
      "🚀 Validation: 100%|██████████| 3/3 [00:00<00:00, 188.81it/s, loss=8.6976]\n"
     ]
    },
    {
     "name": "stdout",
     "output_type": "stream",
     "text": [
      "[Epoch 4] Train Loss: 8.6812 | Val Loss: 8.6961\n",
      "  -> New best model saved at saved/best.pt\n",
      "Epoch 5/300\n"
     ]
    },
    {
     "name": "stderr",
     "output_type": "stream",
     "text": [
      "🚀 Validation: 100%|██████████| 3/3 [00:00<00:00, 156.05it/s, loss=8.6960]\n"
     ]
    },
    {
     "name": "stdout",
     "output_type": "stream",
     "text": [
      "[Epoch 5] Train Loss: 8.6835 | Val Loss: 8.6946\n",
      "  -> New best model saved at saved/best.pt\n",
      "Epoch 6/300\n"
     ]
    },
    {
     "name": "stderr",
     "output_type": "stream",
     "text": [
      "🚀 Validation: 100%|██████████| 3/3 [00:00<00:00, 196.20it/s, loss=8.6943]\n"
     ]
    },
    {
     "name": "stdout",
     "output_type": "stream",
     "text": [
      "[Epoch 6] Train Loss: 8.6746 | Val Loss: 8.6930\n",
      "  -> New best model saved at saved/best.pt\n",
      "Epoch 7/300\n"
     ]
    },
    {
     "name": "stderr",
     "output_type": "stream",
     "text": [
      "🚀 Validation: 100%|██████████| 3/3 [00:00<00:00, 152.39it/s, loss=8.6926]\n"
     ]
    },
    {
     "name": "stdout",
     "output_type": "stream",
     "text": [
      "[Epoch 7] Train Loss: 8.6769 | Val Loss: 8.6914\n",
      "  -> New best model saved at saved/best.pt\n",
      "Epoch 8/300\n"
     ]
    },
    {
     "name": "stderr",
     "output_type": "stream",
     "text": [
      "🚀 Validation: 100%|██████████| 3/3 [00:00<00:00, 186.57it/s, loss=8.6910]\n"
     ]
    },
    {
     "name": "stdout",
     "output_type": "stream",
     "text": [
      "[Epoch 8] Train Loss: 8.6786 | Val Loss: 8.6899\n",
      "  -> New best model saved at saved/best.pt\n",
      "Epoch 9/300\n"
     ]
    },
    {
     "name": "stderr",
     "output_type": "stream",
     "text": [
      "🚀 Validation: 100%|██████████| 3/3 [00:00<00:00, 100.53it/s, loss=8.6893]\n"
     ]
    },
    {
     "name": "stdout",
     "output_type": "stream",
     "text": [
      "[Epoch 9] Train Loss: 8.6682 | Val Loss: 8.6883\n",
      "  -> New best model saved at saved/best.pt\n",
      "Epoch 10/300\n"
     ]
    },
    {
     "name": "stderr",
     "output_type": "stream",
     "text": [
      "🚀 Validation: 100%|██████████| 3/3 [00:00<00:00, 185.42it/s, loss=8.6877]\n"
     ]
    },
    {
     "name": "stdout",
     "output_type": "stream",
     "text": [
      "[Epoch 10] Train Loss: 8.6730 | Val Loss: 8.6867\n",
      "  -> New best model saved at saved/best.pt\n",
      "Epoch 11/300\n"
     ]
    },
    {
     "name": "stderr",
     "output_type": "stream",
     "text": [
      "🚀 Validation: 100%|██████████| 3/3 [00:00<00:00, 186.29it/s, loss=8.6861]\n"
     ]
    },
    {
     "name": "stdout",
     "output_type": "stream",
     "text": [
      "[Epoch 11] Train Loss: 8.6685 | Val Loss: 8.6852\n",
      "  -> New best model saved at saved/best.pt\n",
      "Epoch 12/300\n"
     ]
    },
    {
     "name": "stderr",
     "output_type": "stream",
     "text": [
      "🚀 Validation: 100%|██████████| 3/3 [00:00<00:00, 126.59it/s, loss=8.6845]\n"
     ]
    },
    {
     "name": "stdout",
     "output_type": "stream",
     "text": [
      "[Epoch 12] Train Loss: 8.6659 | Val Loss: 8.6836\n",
      "  -> New best model saved at saved/best.pt\n",
      "Epoch 13/300\n"
     ]
    },
    {
     "name": "stderr",
     "output_type": "stream",
     "text": [
      "🚀 Validation: 100%|██████████| 3/3 [00:00<00:00, 168.48it/s, loss=8.6828]"
     ]
    },
    {
     "name": "stdout",
     "output_type": "stream",
     "text": [
      "[Epoch 13] Train Loss: 8.6667 | Val Loss: 8.6820\n",
      "  -> New best model saved at saved/best.pt\n",
      "Epoch 14/300\n"
     ]
    },
    {
     "name": "stderr",
     "output_type": "stream",
     "text": [
      "\n",
      "🚀 Validation: 100%|██████████| 3/3 [00:00<00:00, 180.21it/s, loss=8.6811]\n"
     ]
    },
    {
     "name": "stdout",
     "output_type": "stream",
     "text": [
      "[Epoch 14] Train Loss: 8.6628 | Val Loss: 8.6805\n",
      "  -> New best model saved at saved/best.pt\n",
      "Epoch 15/300\n"
     ]
    },
    {
     "name": "stderr",
     "output_type": "stream",
     "text": [
      "🚀 Validation: 100%|██████████| 3/3 [00:00<00:00, 177.51it/s, loss=8.6795]\n"
     ]
    },
    {
     "name": "stdout",
     "output_type": "stream",
     "text": [
      "[Epoch 15] Train Loss: 8.6658 | Val Loss: 8.6789\n",
      "  -> New best model saved at saved/best.pt\n",
      "Epoch 16/300\n"
     ]
    },
    {
     "name": "stderr",
     "output_type": "stream",
     "text": [
      "🚀 Validation: 100%|██████████| 3/3 [00:00<00:00, 163.20it/s, loss=8.6779]\n"
     ]
    },
    {
     "name": "stdout",
     "output_type": "stream",
     "text": [
      "[Epoch 16] Train Loss: 8.6558 | Val Loss: 8.6774\n",
      "  -> New best model saved at saved/best.pt\n",
      "Epoch 17/300\n"
     ]
    },
    {
     "name": "stderr",
     "output_type": "stream",
     "text": [
      "🚀 Validation: 100%|██████████| 3/3 [00:00<00:00, 141.51it/s, loss=8.6763]\n"
     ]
    },
    {
     "name": "stdout",
     "output_type": "stream",
     "text": [
      "[Epoch 17] Train Loss: 8.6582 | Val Loss: 8.6758\n",
      "  -> New best model saved at saved/best.pt\n",
      "Epoch 18/300\n"
     ]
    },
    {
     "name": "stderr",
     "output_type": "stream",
     "text": [
      "🚀 Validation: 100%|██████████| 3/3 [00:00<00:00, 220.57it/s, loss=8.6747]\n"
     ]
    },
    {
     "name": "stdout",
     "output_type": "stream",
     "text": [
      "[Epoch 18] Train Loss: 8.6587 | Val Loss: 8.6743\n",
      "  -> New best model saved at saved/best.pt\n",
      "Epoch 19/300\n"
     ]
    },
    {
     "name": "stderr",
     "output_type": "stream",
     "text": [
      "🚀 Validation: 100%|██████████| 3/3 [00:00<00:00, 177.27it/s, loss=8.6731]\n"
     ]
    },
    {
     "name": "stdout",
     "output_type": "stream",
     "text": [
      "[Epoch 19] Train Loss: 8.6549 | Val Loss: 8.6728\n",
      "  -> New best model saved at saved/best.pt\n",
      "Epoch 20/300\n"
     ]
    },
    {
     "name": "stderr",
     "output_type": "stream",
     "text": [
      "🚀 Validation: 100%|██████████| 3/3 [00:00<00:00, 212.51it/s, loss=8.6714]\n"
     ]
    },
    {
     "name": "stdout",
     "output_type": "stream",
     "text": [
      "[Epoch 20] Train Loss: 8.6487 | Val Loss: 8.6712\n",
      "  -> New best model saved at saved/best.pt\n",
      "Epoch 21/300\n"
     ]
    },
    {
     "name": "stderr",
     "output_type": "stream",
     "text": [
      "🚀 Validation: 100%|██████████| 3/3 [00:00<00:00, 187.31it/s, loss=8.6698]\n"
     ]
    },
    {
     "name": "stdout",
     "output_type": "stream",
     "text": [
      "[Epoch 21] Train Loss: 8.6509 | Val Loss: 8.6696\n",
      "  -> New best model saved at saved/best.pt\n",
      "Epoch 22/300\n"
     ]
    },
    {
     "name": "stderr",
     "output_type": "stream",
     "text": [
      "🚀 Validation: 100%|██████████| 3/3 [00:00<00:00, 126.56it/s, loss=8.6681]\n"
     ]
    },
    {
     "name": "stdout",
     "output_type": "stream",
     "text": [
      "[Epoch 22] Train Loss: 8.6440 | Val Loss: 8.6680\n",
      "  -> New best model saved at saved/best.pt\n",
      "Epoch 23/300\n"
     ]
    },
    {
     "name": "stderr",
     "output_type": "stream",
     "text": [
      "🚀 Validation: 100%|██████████| 3/3 [00:00<00:00, 191.17it/s, loss=8.6665]\n"
     ]
    },
    {
     "name": "stdout",
     "output_type": "stream",
     "text": [
      "[Epoch 23] Train Loss: 8.6434 | Val Loss: 8.6665\n",
      "  -> New best model saved at saved/best.pt\n",
      "Epoch 24/300\n"
     ]
    },
    {
     "name": "stderr",
     "output_type": "stream",
     "text": [
      "🚀 Validation: 100%|██████████| 3/3 [00:00<00:00, 225.10it/s, loss=8.6648]\n"
     ]
    },
    {
     "name": "stdout",
     "output_type": "stream",
     "text": [
      "[Epoch 24] Train Loss: 8.6369 | Val Loss: 8.6649\n",
      "  -> New best model saved at saved/best.pt\n",
      "Epoch 25/300\n"
     ]
    },
    {
     "name": "stderr",
     "output_type": "stream",
     "text": [
      "🚀 Validation: 100%|██████████| 3/3 [00:00<00:00, 190.93it/s, loss=8.6631]\n"
     ]
    },
    {
     "name": "stdout",
     "output_type": "stream",
     "text": [
      "[Epoch 25] Train Loss: 8.6419 | Val Loss: 8.6632\n",
      "  -> New best model saved at saved/best.pt\n",
      "Epoch 26/300\n"
     ]
    },
    {
     "name": "stderr",
     "output_type": "stream",
     "text": [
      "🚀 Validation: 100%|██████████| 3/3 [00:00<00:00, 166.08it/s, loss=8.6614]\n"
     ]
    },
    {
     "name": "stdout",
     "output_type": "stream",
     "text": [
      "[Epoch 26] Train Loss: 8.6364 | Val Loss: 8.6616\n",
      "  -> New best model saved at saved/best.pt\n",
      "Epoch 27/300\n"
     ]
    },
    {
     "name": "stderr",
     "output_type": "stream",
     "text": [
      "🚀 Validation: 100%|██████████| 3/3 [00:00<00:00, 179.97it/s, loss=8.6597]\n"
     ]
    },
    {
     "name": "stdout",
     "output_type": "stream",
     "text": [
      "[Epoch 27] Train Loss: 8.6336 | Val Loss: 8.6600\n",
      "  -> New best model saved at saved/best.pt\n",
      "Epoch 28/300\n"
     ]
    },
    {
     "name": "stderr",
     "output_type": "stream",
     "text": [
      "🚀 Validation: 100%|██████████| 3/3 [00:00<00:00, 194.20it/s, loss=8.6581]\n"
     ]
    },
    {
     "name": "stdout",
     "output_type": "stream",
     "text": [
      "[Epoch 28] Train Loss: 8.6347 | Val Loss: 8.6584\n",
      "  -> New best model saved at saved/best.pt\n",
      "Epoch 29/300\n"
     ]
    },
    {
     "name": "stderr",
     "output_type": "stream",
     "text": [
      "🚀 Validation: 100%|██████████| 3/3 [00:00<00:00, 196.57it/s, loss=8.6564]\n"
     ]
    },
    {
     "name": "stdout",
     "output_type": "stream",
     "text": [
      "[Epoch 29] Train Loss: 8.6306 | Val Loss: 8.6568\n",
      "  -> New best model saved at saved/best.pt\n",
      "Epoch 30/300\n"
     ]
    },
    {
     "name": "stderr",
     "output_type": "stream",
     "text": [
      "🚀 Validation: 100%|██████████| 3/3 [00:00<00:00, 191.90it/s, loss=8.6547]\n"
     ]
    },
    {
     "name": "stdout",
     "output_type": "stream",
     "text": [
      "[Epoch 30] Train Loss: 8.6288 | Val Loss: 8.6552\n",
      "  -> New best model saved at saved/best.pt\n",
      "Epoch 31/300\n"
     ]
    },
    {
     "name": "stderr",
     "output_type": "stream",
     "text": [
      "🚀 Validation: 100%|██████████| 3/3 [00:00<00:00, 207.88it/s, loss=8.6530]\n"
     ]
    },
    {
     "name": "stdout",
     "output_type": "stream",
     "text": [
      "[Epoch 31] Train Loss: 8.6251 | Val Loss: 8.6535\n",
      "  -> New best model saved at saved/best.pt\n",
      "Epoch 32/300\n"
     ]
    },
    {
     "name": "stderr",
     "output_type": "stream",
     "text": [
      "🚀 Validation: 100%|██████████| 3/3 [00:00<00:00, 219.23it/s, loss=8.6512]\n"
     ]
    },
    {
     "name": "stdout",
     "output_type": "stream",
     "text": [
      "[Epoch 32] Train Loss: 8.6229 | Val Loss: 8.6519\n",
      "  -> New best model saved at saved/best.pt\n",
      "Epoch 33/300\n"
     ]
    },
    {
     "name": "stderr",
     "output_type": "stream",
     "text": [
      "🚀 Validation: 100%|██████████| 3/3 [00:00<00:00, 177.58it/s, loss=8.6495]\n"
     ]
    },
    {
     "name": "stdout",
     "output_type": "stream",
     "text": [
      "[Epoch 33] Train Loss: 8.6240 | Val Loss: 8.6502\n",
      "  -> New best model saved at saved/best.pt\n",
      "Epoch 34/300\n"
     ]
    },
    {
     "name": "stderr",
     "output_type": "stream",
     "text": [
      "🚀 Validation: 100%|██████████| 3/3 [00:00<00:00, 175.52it/s, loss=8.6478]\n"
     ]
    },
    {
     "name": "stdout",
     "output_type": "stream",
     "text": [
      "[Epoch 34] Train Loss: 8.6165 | Val Loss: 8.6486\n",
      "  -> New best model saved at saved/best.pt\n",
      "Epoch 35/300\n"
     ]
    },
    {
     "name": "stderr",
     "output_type": "stream",
     "text": [
      "🚀 Validation: 100%|██████████| 3/3 [00:00<00:00, 151.84it/s, loss=8.6461]\n"
     ]
    },
    {
     "name": "stdout",
     "output_type": "stream",
     "text": [
      "[Epoch 35] Train Loss: 8.6224 | Val Loss: 8.6469\n",
      "  -> New best model saved at saved/best.pt\n",
      "Epoch 36/300\n"
     ]
    },
    {
     "name": "stderr",
     "output_type": "stream",
     "text": [
      "🚀 Validation: 100%|██████████| 3/3 [00:00<00:00, 211.00it/s, loss=8.6443]\n"
     ]
    },
    {
     "name": "stdout",
     "output_type": "stream",
     "text": [
      "[Epoch 36] Train Loss: 8.6150 | Val Loss: 8.6452\n",
      "  -> New best model saved at saved/best.pt\n",
      "Epoch 37/300\n"
     ]
    },
    {
     "name": "stderr",
     "output_type": "stream",
     "text": [
      "🚀 Validation: 100%|██████████| 3/3 [00:00<00:00, 118.08it/s, loss=8.6425]\n"
     ]
    },
    {
     "name": "stdout",
     "output_type": "stream",
     "text": [
      "[Epoch 37] Train Loss: 8.6105 | Val Loss: 8.6435\n",
      "  -> New best model saved at saved/best.pt\n",
      "Epoch 38/300\n"
     ]
    },
    {
     "name": "stderr",
     "output_type": "stream",
     "text": [
      "🚀 Validation: 100%|██████████| 3/3 [00:00<00:00, 229.28it/s, loss=8.6407]\n"
     ]
    },
    {
     "name": "stdout",
     "output_type": "stream",
     "text": [
      "[Epoch 38] Train Loss: 8.6139 | Val Loss: 8.6418\n",
      "  -> New best model saved at saved/best.pt\n",
      "Epoch 39/300\n"
     ]
    },
    {
     "name": "stderr",
     "output_type": "stream",
     "text": [
      "🚀 Validation: 100%|██████████| 3/3 [00:00<00:00, 160.49it/s, loss=8.6390]\n"
     ]
    },
    {
     "name": "stdout",
     "output_type": "stream",
     "text": [
      "[Epoch 39] Train Loss: 8.6068 | Val Loss: 8.6401\n",
      "  -> New best model saved at saved/best.pt\n",
      "Epoch 40/300\n"
     ]
    },
    {
     "name": "stderr",
     "output_type": "stream",
     "text": [
      "🚀 Validation: 100%|██████████| 3/3 [00:00<00:00, 204.33it/s, loss=8.6371]\n"
     ]
    },
    {
     "name": "stdout",
     "output_type": "stream",
     "text": [
      "[Epoch 40] Train Loss: 8.6057 | Val Loss: 8.6384\n",
      "  -> New best model saved at saved/best.pt\n",
      "Epoch 41/300\n"
     ]
    },
    {
     "name": "stderr",
     "output_type": "stream",
     "text": [
      "🚀 Validation: 100%|██████████| 3/3 [00:00<00:00, 182.26it/s, loss=8.6353]\n"
     ]
    },
    {
     "name": "stdout",
     "output_type": "stream",
     "text": [
      "[Epoch 41] Train Loss: 8.6041 | Val Loss: 8.6366\n",
      "  -> New best model saved at saved/best.pt\n",
      "Epoch 42/300\n"
     ]
    },
    {
     "name": "stderr",
     "output_type": "stream",
     "text": [
      "🚀 Validation: 100%|██████████| 3/3 [00:00<00:00, 179.79it/s, loss=8.6334]\n"
     ]
    },
    {
     "name": "stdout",
     "output_type": "stream",
     "text": [
      "[Epoch 42] Train Loss: 8.6042 | Val Loss: 8.6348\n",
      "  -> New best model saved at saved/best.pt\n",
      "Epoch 43/300\n"
     ]
    },
    {
     "name": "stderr",
     "output_type": "stream",
     "text": [
      "🚀 Validation: 100%|██████████| 3/3 [00:00<00:00, 176.53it/s, loss=8.6316]\n"
     ]
    },
    {
     "name": "stdout",
     "output_type": "stream",
     "text": [
      "[Epoch 43] Train Loss: 8.5941 | Val Loss: 8.6330\n",
      "  -> New best model saved at saved/best.pt\n",
      "Epoch 44/300\n"
     ]
    },
    {
     "name": "stderr",
     "output_type": "stream",
     "text": [
      "🚀 Validation: 100%|██████████| 3/3 [00:00<00:00, 203.28it/s, loss=8.6297]\n"
     ]
    },
    {
     "name": "stdout",
     "output_type": "stream",
     "text": [
      "[Epoch 44] Train Loss: 8.5967 | Val Loss: 8.6312\n",
      "  -> New best model saved at saved/best.pt\n",
      "Epoch 45/300\n"
     ]
    },
    {
     "name": "stderr",
     "output_type": "stream",
     "text": [
      "🚀 Validation: 100%|██████████| 3/3 [00:00<00:00, 149.42it/s, loss=8.6278]\n"
     ]
    },
    {
     "name": "stdout",
     "output_type": "stream",
     "text": [
      "[Epoch 45] Train Loss: 8.5919 | Val Loss: 8.6294\n",
      "  -> New best model saved at saved/best.pt\n",
      "Epoch 46/300\n"
     ]
    },
    {
     "name": "stderr",
     "output_type": "stream",
     "text": [
      "🚀 Validation: 100%|██████████| 3/3 [00:00<00:00, 188.93it/s, loss=8.6259]\n"
     ]
    },
    {
     "name": "stdout",
     "output_type": "stream",
     "text": [
      "[Epoch 46] Train Loss: 8.5873 | Val Loss: 8.6276\n",
      "  -> New best model saved at saved/best.pt\n",
      "Epoch 47/300\n"
     ]
    },
    {
     "name": "stderr",
     "output_type": "stream",
     "text": [
      "🚀 Validation: 100%|██████████| 3/3 [00:00<00:00, 146.45it/s, loss=8.6240]\n"
     ]
    },
    {
     "name": "stdout",
     "output_type": "stream",
     "text": [
      "[Epoch 47] Train Loss: 8.5921 | Val Loss: 8.6257\n",
      "  -> New best model saved at saved/best.pt\n",
      "Epoch 48/300\n"
     ]
    },
    {
     "name": "stderr",
     "output_type": "stream",
     "text": [
      "🚀 Validation: 100%|██████████| 3/3 [00:00<00:00, 221.15it/s, loss=8.6220]\n"
     ]
    },
    {
     "name": "stdout",
     "output_type": "stream",
     "text": [
      "[Epoch 48] Train Loss: 8.5881 | Val Loss: 8.6239\n",
      "  -> New best model saved at saved/best.pt\n",
      "Epoch 49/300\n"
     ]
    },
    {
     "name": "stderr",
     "output_type": "stream",
     "text": [
      "🚀 Validation: 100%|██████████| 3/3 [00:00<00:00, 168.13it/s, loss=8.6200]\n"
     ]
    },
    {
     "name": "stdout",
     "output_type": "stream",
     "text": [
      "[Epoch 49] Train Loss: 8.5855 | Val Loss: 8.6220\n",
      "  -> New best model saved at saved/best.pt\n",
      "Epoch 50/300\n"
     ]
    },
    {
     "name": "stderr",
     "output_type": "stream",
     "text": [
      "🚀 Validation: 100%|██████████| 3/3 [00:00<00:00, 200.53it/s, loss=8.6180]\n"
     ]
    },
    {
     "name": "stdout",
     "output_type": "stream",
     "text": [
      "[Epoch 50] Train Loss: 8.5763 | Val Loss: 8.6201\n",
      "  -> New best model saved at saved/best.pt\n",
      "Epoch 51/300\n"
     ]
    },
    {
     "name": "stderr",
     "output_type": "stream",
     "text": [
      "🚀 Validation: 100%|██████████| 3/3 [00:00<00:00, 138.18it/s, loss=8.6160]\n"
     ]
    },
    {
     "name": "stdout",
     "output_type": "stream",
     "text": [
      "[Epoch 51] Train Loss: 8.5811 | Val Loss: 8.6181\n",
      "  -> New best model saved at saved/best.pt\n",
      "Epoch 52/300\n"
     ]
    },
    {
     "name": "stderr",
     "output_type": "stream",
     "text": [
      "🚀 Validation: 100%|██████████| 3/3 [00:00<00:00, 179.74it/s, loss=8.6140]\n"
     ]
    },
    {
     "name": "stdout",
     "output_type": "stream",
     "text": [
      "[Epoch 52] Train Loss: 8.5709 | Val Loss: 8.6162\n",
      "  -> New best model saved at saved/best.pt\n",
      "Epoch 53/300\n"
     ]
    },
    {
     "name": "stderr",
     "output_type": "stream",
     "text": [
      "🚀 Validation: 100%|██████████| 3/3 [00:00<00:00, 157.87it/s, loss=8.6120]\n"
     ]
    },
    {
     "name": "stdout",
     "output_type": "stream",
     "text": [
      "[Epoch 53] Train Loss: 8.5754 | Val Loss: 8.6142\n",
      "  -> New best model saved at saved/best.pt\n",
      "Epoch 54/300\n"
     ]
    },
    {
     "name": "stderr",
     "output_type": "stream",
     "text": [
      "🚀 Validation: 100%|██████████| 3/3 [00:00<00:00, 187.84it/s, loss=8.6099]\n"
     ]
    },
    {
     "name": "stdout",
     "output_type": "stream",
     "text": [
      "[Epoch 54] Train Loss: 8.5730 | Val Loss: 8.6122\n",
      "  -> New best model saved at saved/best.pt\n",
      "Epoch 55/300\n"
     ]
    },
    {
     "name": "stderr",
     "output_type": "stream",
     "text": [
      "🚀 Validation: 100%|██████████| 3/3 [00:00<00:00, 175.98it/s, loss=8.6078]\n"
     ]
    },
    {
     "name": "stdout",
     "output_type": "stream",
     "text": [
      "[Epoch 55] Train Loss: 8.5657 | Val Loss: 8.6102\n",
      "  -> New best model saved at saved/best.pt\n",
      "Epoch 56/300\n"
     ]
    },
    {
     "name": "stderr",
     "output_type": "stream",
     "text": [
      "🚀 Validation: 100%|██████████| 3/3 [00:00<00:00, 203.70it/s, loss=8.6057]\n"
     ]
    },
    {
     "name": "stdout",
     "output_type": "stream",
     "text": [
      "[Epoch 56] Train Loss: 8.5654 | Val Loss: 8.6082\n",
      "  -> New best model saved at saved/best.pt\n",
      "Epoch 57/300\n"
     ]
    },
    {
     "name": "stderr",
     "output_type": "stream",
     "text": [
      "🚀 Validation: 100%|██████████| 3/3 [00:00<00:00, 179.53it/s, loss=8.6035]\n"
     ]
    },
    {
     "name": "stdout",
     "output_type": "stream",
     "text": [
      "[Epoch 57] Train Loss: 8.5665 | Val Loss: 8.6061\n",
      "  -> New best model saved at saved/best.pt\n",
      "Epoch 58/300\n"
     ]
    },
    {
     "name": "stderr",
     "output_type": "stream",
     "text": [
      "🚀 Validation: 100%|██████████| 3/3 [00:00<00:00, 187.84it/s, loss=8.6013]\n"
     ]
    },
    {
     "name": "stdout",
     "output_type": "stream",
     "text": [
      "[Epoch 58] Train Loss: 8.5546 | Val Loss: 8.6040\n",
      "  -> New best model saved at saved/best.pt\n",
      "Epoch 59/300\n"
     ]
    },
    {
     "name": "stderr",
     "output_type": "stream",
     "text": [
      "🚀 Validation: 100%|██████████| 3/3 [00:00<00:00, 164.86it/s, loss=8.5991]\n"
     ]
    },
    {
     "name": "stdout",
     "output_type": "stream",
     "text": [
      "[Epoch 59] Train Loss: 8.5556 | Val Loss: 8.6019\n",
      "  -> New best model saved at saved/best.pt\n",
      "Epoch 60/300\n"
     ]
    },
    {
     "name": "stderr",
     "output_type": "stream",
     "text": [
      "🚀 Validation: 100%|██████████| 3/3 [00:00<00:00, 185.34it/s, loss=8.5969]\n"
     ]
    },
    {
     "name": "stdout",
     "output_type": "stream",
     "text": [
      "[Epoch 60] Train Loss: 8.5482 | Val Loss: 8.5998\n",
      "  -> New best model saved at saved/best.pt\n",
      "Epoch 61/300\n"
     ]
    },
    {
     "name": "stderr",
     "output_type": "stream",
     "text": [
      "🚀 Validation: 100%|██████████| 3/3 [00:00<00:00, 150.58it/s, loss=8.5947]\n"
     ]
    },
    {
     "name": "stdout",
     "output_type": "stream",
     "text": [
      "[Epoch 61] Train Loss: 8.5566 | Val Loss: 8.5976\n",
      "  -> New best model saved at saved/best.pt\n",
      "Epoch 62/300\n"
     ]
    },
    {
     "name": "stderr",
     "output_type": "stream",
     "text": [
      "🚀 Validation: 100%|██████████| 3/3 [00:00<00:00, 155.94it/s, loss=8.5924]\n"
     ]
    },
    {
     "name": "stdout",
     "output_type": "stream",
     "text": [
      "[Epoch 62] Train Loss: 8.5518 | Val Loss: 8.5955\n",
      "  -> New best model saved at saved/best.pt\n",
      "Epoch 63/300\n"
     ]
    },
    {
     "name": "stderr",
     "output_type": "stream",
     "text": [
      "🚀 Validation: 100%|██████████| 3/3 [00:00<00:00, 157.82it/s, loss=8.5901]\n"
     ]
    },
    {
     "name": "stdout",
     "output_type": "stream",
     "text": [
      "[Epoch 63] Train Loss: 8.5444 | Val Loss: 8.5933\n",
      "  -> New best model saved at saved/best.pt\n",
      "Epoch 64/300\n"
     ]
    },
    {
     "name": "stderr",
     "output_type": "stream",
     "text": [
      "🚀 Validation: 100%|██████████| 3/3 [00:00<00:00, 178.85it/s, loss=8.5879]\n"
     ]
    },
    {
     "name": "stdout",
     "output_type": "stream",
     "text": [
      "[Epoch 64] Train Loss: 8.5429 | Val Loss: 8.5911\n",
      "  -> New best model saved at saved/best.pt\n",
      "Epoch 65/300\n"
     ]
    },
    {
     "name": "stderr",
     "output_type": "stream",
     "text": [
      "🚀 Validation: 100%|██████████| 3/3 [00:00<00:00, 155.11it/s, loss=8.5855]\n"
     ]
    },
    {
     "name": "stdout",
     "output_type": "stream",
     "text": [
      "[Epoch 65] Train Loss: 8.5397 | Val Loss: 8.5888\n",
      "  -> New best model saved at saved/best.pt\n",
      "Epoch 66/300\n"
     ]
    },
    {
     "name": "stderr",
     "output_type": "stream",
     "text": [
      "🚀 Validation: 100%|██████████| 3/3 [00:00<00:00, 192.71it/s, loss=8.5832]\n"
     ]
    },
    {
     "name": "stdout",
     "output_type": "stream",
     "text": [
      "[Epoch 66] Train Loss: 8.5349 | Val Loss: 8.5866\n",
      "  -> New best model saved at saved/best.pt\n",
      "Epoch 67/300\n"
     ]
    },
    {
     "name": "stderr",
     "output_type": "stream",
     "text": [
      "🚀 Validation: 100%|██████████| 3/3 [00:00<00:00, 166.08it/s, loss=8.5808]\n"
     ]
    },
    {
     "name": "stdout",
     "output_type": "stream",
     "text": [
      "[Epoch 67] Train Loss: 8.5366 | Val Loss: 8.5842\n",
      "  -> New best model saved at saved/best.pt\n",
      "Epoch 68/300\n"
     ]
    },
    {
     "name": "stderr",
     "output_type": "stream",
     "text": [
      "🚀 Validation: 100%|██████████| 3/3 [00:00<00:00, 185.53it/s, loss=8.5783]\n"
     ]
    },
    {
     "name": "stdout",
     "output_type": "stream",
     "text": [
      "[Epoch 68] Train Loss: 8.5322 | Val Loss: 8.5819\n",
      "  -> New best model saved at saved/best.pt\n",
      "Epoch 69/300\n"
     ]
    },
    {
     "name": "stderr",
     "output_type": "stream",
     "text": [
      "🚀 Validation: 100%|██████████| 3/3 [00:00<00:00, 174.57it/s, loss=8.5758]\n"
     ]
    },
    {
     "name": "stdout",
     "output_type": "stream",
     "text": [
      "[Epoch 69] Train Loss: 8.5312 | Val Loss: 8.5795\n",
      "  -> New best model saved at saved/best.pt\n",
      "Epoch 70/300\n"
     ]
    },
    {
     "name": "stderr",
     "output_type": "stream",
     "text": [
      "🚀 Validation: 100%|██████████| 3/3 [00:00<00:00, 172.42it/s, loss=8.5733]"
     ]
    },
    {
     "name": "stdout",
     "output_type": "stream",
     "text": [
      "[Epoch 70] Train Loss: 8.5254 | Val Loss: 8.5771\n"
     ]
    },
    {
     "name": "stderr",
     "output_type": "stream",
     "text": [
      "\n"
     ]
    },
    {
     "name": "stdout",
     "output_type": "stream",
     "text": [
      "  -> New best model saved at saved/best.pt\n",
      "Epoch 71/300\n"
     ]
    },
    {
     "name": "stderr",
     "output_type": "stream",
     "text": [
      "🚀 Validation: 100%|██████████| 3/3 [00:00<00:00, 119.32it/s, loss=8.5708]\n"
     ]
    },
    {
     "name": "stdout",
     "output_type": "stream",
     "text": [
      "[Epoch 71] Train Loss: 8.5186 | Val Loss: 8.5747\n",
      "  -> New best model saved at saved/best.pt\n",
      "Epoch 72/300\n"
     ]
    },
    {
     "name": "stderr",
     "output_type": "stream",
     "text": [
      "🚀 Validation: 100%|██████████| 3/3 [00:00<00:00, 155.86it/s, loss=8.5682]\n"
     ]
    },
    {
     "name": "stdout",
     "output_type": "stream",
     "text": [
      "[Epoch 72] Train Loss: 8.5184 | Val Loss: 8.5722\n",
      "  -> New best model saved at saved/best.pt\n",
      "Epoch 73/300\n"
     ]
    },
    {
     "name": "stderr",
     "output_type": "stream",
     "text": [
      "🚀 Validation: 100%|██████████| 3/3 [00:00<00:00, 133.06it/s, loss=8.5656]\n"
     ]
    },
    {
     "name": "stdout",
     "output_type": "stream",
     "text": [
      "[Epoch 73] Train Loss: 8.5133 | Val Loss: 8.5697\n",
      "  -> New best model saved at saved/best.pt\n",
      "Epoch 74/300\n"
     ]
    },
    {
     "name": "stderr",
     "output_type": "stream",
     "text": [
      "🚀 Validation: 100%|██████████| 3/3 [00:00<00:00, 187.70it/s, loss=8.5630]\n"
     ]
    },
    {
     "name": "stdout",
     "output_type": "stream",
     "text": [
      "[Epoch 74] Train Loss: 8.5087 | Val Loss: 8.5672\n",
      "  -> New best model saved at saved/best.pt\n",
      "Epoch 75/300\n"
     ]
    },
    {
     "name": "stderr",
     "output_type": "stream",
     "text": [
      "🚀 Validation: 100%|██████████| 3/3 [00:00<00:00, 168.51it/s, loss=8.5603]\n"
     ]
    },
    {
     "name": "stdout",
     "output_type": "stream",
     "text": [
      "[Epoch 75] Train Loss: 8.5097 | Val Loss: 8.5646\n",
      "  -> New best model saved at saved/best.pt\n",
      "Epoch 76/300\n"
     ]
    },
    {
     "name": "stderr",
     "output_type": "stream",
     "text": [
      "🚀 Validation: 100%|██████████| 3/3 [00:00<00:00, 190.74it/s, loss=8.5576]\n"
     ]
    },
    {
     "name": "stdout",
     "output_type": "stream",
     "text": [
      "[Epoch 76] Train Loss: 8.5072 | Val Loss: 8.5620\n",
      "  -> New best model saved at saved/best.pt\n",
      "Epoch 77/300\n"
     ]
    },
    {
     "name": "stderr",
     "output_type": "stream",
     "text": [
      "🚀 Validation: 100%|██████████| 3/3 [00:00<00:00, 163.79it/s, loss=8.5549]\n"
     ]
    },
    {
     "name": "stdout",
     "output_type": "stream",
     "text": [
      "[Epoch 77] Train Loss: 8.5054 | Val Loss: 8.5594\n",
      "  -> New best model saved at saved/best.pt\n",
      "Epoch 78/300\n"
     ]
    },
    {
     "name": "stderr",
     "output_type": "stream",
     "text": [
      "🚀 Validation: 100%|██████████| 3/3 [00:00<00:00, 195.11it/s, loss=8.5521]\n"
     ]
    },
    {
     "name": "stdout",
     "output_type": "stream",
     "text": [
      "[Epoch 78] Train Loss: 8.5018 | Val Loss: 8.5567\n",
      "  -> New best model saved at saved/best.pt\n",
      "Epoch 79/300\n"
     ]
    },
    {
     "name": "stderr",
     "output_type": "stream",
     "text": [
      "🚀 Validation: 100%|██████████| 3/3 [00:00<00:00, 175.81it/s, loss=8.5493]\n"
     ]
    },
    {
     "name": "stdout",
     "output_type": "stream",
     "text": [
      "[Epoch 79] Train Loss: 8.4948 | Val Loss: 8.5541\n",
      "  -> New best model saved at saved/best.pt\n",
      "Epoch 80/300\n"
     ]
    },
    {
     "name": "stderr",
     "output_type": "stream",
     "text": [
      "🚀 Validation: 100%|██████████| 3/3 [00:00<00:00, 151.22it/s, loss=8.5465]\n"
     ]
    },
    {
     "name": "stdout",
     "output_type": "stream",
     "text": [
      "[Epoch 80] Train Loss: 8.4899 | Val Loss: 8.5513\n",
      "  -> New best model saved at saved/best.pt\n",
      "Epoch 81/300\n"
     ]
    },
    {
     "name": "stderr",
     "output_type": "stream",
     "text": [
      "🚀 Validation: 100%|██████████| 3/3 [00:00<00:00, 130.32it/s, loss=8.5437]\n"
     ]
    },
    {
     "name": "stdout",
     "output_type": "stream",
     "text": [
      "[Epoch 81] Train Loss: 8.4860 | Val Loss: 8.5486\n",
      "  -> New best model saved at saved/best.pt\n",
      "Epoch 82/300\n"
     ]
    },
    {
     "name": "stderr",
     "output_type": "stream",
     "text": [
      "🚀 Validation: 100%|██████████| 3/3 [00:00<00:00, 188.71it/s, loss=8.5408]\n"
     ]
    },
    {
     "name": "stdout",
     "output_type": "stream",
     "text": [
      "[Epoch 82] Train Loss: 8.4830 | Val Loss: 8.5458\n",
      "  -> New best model saved at saved/best.pt\n",
      "Epoch 83/300\n"
     ]
    },
    {
     "name": "stderr",
     "output_type": "stream",
     "text": [
      "🚀 Validation: 100%|██████████| 3/3 [00:00<00:00, 121.47it/s, loss=8.5379]\n"
     ]
    },
    {
     "name": "stdout",
     "output_type": "stream",
     "text": [
      "[Epoch 83] Train Loss: 8.4808 | Val Loss: 8.5430\n",
      "  -> New best model saved at saved/best.pt\n",
      "Epoch 84/300\n"
     ]
    },
    {
     "name": "stderr",
     "output_type": "stream",
     "text": [
      "🚀 Validation: 100%|██████████| 3/3 [00:00<00:00, 191.40it/s, loss=8.5349]\n"
     ]
    },
    {
     "name": "stdout",
     "output_type": "stream",
     "text": [
      "[Epoch 84] Train Loss: 8.4773 | Val Loss: 8.5401\n",
      "  -> New best model saved at saved/best.pt\n",
      "Epoch 85/300\n"
     ]
    },
    {
     "name": "stderr",
     "output_type": "stream",
     "text": [
      "🚀 Validation: 100%|██████████| 3/3 [00:00<00:00, 165.50it/s, loss=8.5319]\n"
     ]
    },
    {
     "name": "stdout",
     "output_type": "stream",
     "text": [
      "[Epoch 85] Train Loss: 8.4766 | Val Loss: 8.5372\n",
      "  -> New best model saved at saved/best.pt\n",
      "Epoch 86/300\n"
     ]
    },
    {
     "name": "stderr",
     "output_type": "stream",
     "text": [
      "🚀 Validation: 100%|██████████| 3/3 [00:00<00:00, 198.17it/s, loss=8.5288]\n"
     ]
    },
    {
     "name": "stdout",
     "output_type": "stream",
     "text": [
      "[Epoch 86] Train Loss: 8.4739 | Val Loss: 8.5343\n",
      "  -> New best model saved at saved/best.pt\n",
      "Epoch 87/300\n"
     ]
    },
    {
     "name": "stderr",
     "output_type": "stream",
     "text": [
      "🚀 Validation: 100%|██████████| 3/3 [00:00<00:00, 180.53it/s, loss=8.5257]\n"
     ]
    },
    {
     "name": "stdout",
     "output_type": "stream",
     "text": [
      "[Epoch 87] Train Loss: 8.4704 | Val Loss: 8.5313\n",
      "  -> New best model saved at saved/best.pt\n",
      "Epoch 88/300\n"
     ]
    },
    {
     "name": "stderr",
     "output_type": "stream",
     "text": [
      "🚀 Validation: 100%|██████████| 3/3 [00:00<00:00, 206.43it/s, loss=8.5226]\n"
     ]
    },
    {
     "name": "stdout",
     "output_type": "stream",
     "text": [
      "[Epoch 88] Train Loss: 8.4617 | Val Loss: 8.5283\n",
      "  -> New best model saved at saved/best.pt\n",
      "Epoch 89/300\n"
     ]
    },
    {
     "name": "stderr",
     "output_type": "stream",
     "text": [
      "🚀 Validation: 100%|██████████| 3/3 [00:00<00:00, 184.11it/s, loss=8.5194]\n"
     ]
    },
    {
     "name": "stdout",
     "output_type": "stream",
     "text": [
      "[Epoch 89] Train Loss: 8.4578 | Val Loss: 8.5252\n",
      "  -> New best model saved at saved/best.pt\n",
      "Epoch 90/300\n"
     ]
    },
    {
     "name": "stderr",
     "output_type": "stream",
     "text": [
      "🚀 Validation: 100%|██████████| 3/3 [00:00<00:00, 183.30it/s, loss=8.5162]\n"
     ]
    },
    {
     "name": "stdout",
     "output_type": "stream",
     "text": [
      "[Epoch 90] Train Loss: 8.4567 | Val Loss: 8.5221\n",
      "  -> New best model saved at saved/best.pt\n",
      "Epoch 91/300\n"
     ]
    },
    {
     "name": "stderr",
     "output_type": "stream",
     "text": [
      "🚀 Validation: 100%|██████████| 3/3 [00:00<00:00, 140.20it/s, loss=8.5130]\n"
     ]
    },
    {
     "name": "stdout",
     "output_type": "stream",
     "text": [
      "[Epoch 91] Train Loss: 8.4498 | Val Loss: 8.5190\n",
      "  -> New best model saved at saved/best.pt\n",
      "Epoch 92/300\n"
     ]
    },
    {
     "name": "stderr",
     "output_type": "stream",
     "text": [
      "🚀 Validation: 100%|██████████| 3/3 [00:00<00:00, 195.31it/s, loss=8.5097]\n"
     ]
    },
    {
     "name": "stdout",
     "output_type": "stream",
     "text": [
      "[Epoch 92] Train Loss: 8.4473 | Val Loss: 8.5158\n",
      "  -> New best model saved at saved/best.pt\n",
      "Epoch 93/300\n"
     ]
    },
    {
     "name": "stderr",
     "output_type": "stream",
     "text": [
      "🚀 Validation: 100%|██████████| 3/3 [00:00<00:00, 181.99it/s, loss=8.5063]\n"
     ]
    },
    {
     "name": "stdout",
     "output_type": "stream",
     "text": [
      "[Epoch 93] Train Loss: 8.4443 | Val Loss: 8.5126\n",
      "  -> New best model saved at saved/best.pt\n",
      "Epoch 94/300\n"
     ]
    },
    {
     "name": "stderr",
     "output_type": "stream",
     "text": [
      "🚀 Validation: 100%|██████████| 3/3 [00:00<00:00, 172.76it/s, loss=8.5030]\n"
     ]
    },
    {
     "name": "stdout",
     "output_type": "stream",
     "text": [
      "[Epoch 94] Train Loss: 8.4434 | Val Loss: 8.5094\n",
      "  -> New best model saved at saved/best.pt\n",
      "Epoch 95/300\n"
     ]
    },
    {
     "name": "stderr",
     "output_type": "stream",
     "text": [
      "🚀 Validation: 100%|██████████| 3/3 [00:00<00:00, 196.15it/s, loss=8.4995]\n"
     ]
    },
    {
     "name": "stdout",
     "output_type": "stream",
     "text": [
      "[Epoch 95] Train Loss: 8.4381 | Val Loss: 8.5060\n",
      "  -> New best model saved at saved/best.pt\n",
      "Epoch 96/300\n"
     ]
    },
    {
     "name": "stderr",
     "output_type": "stream",
     "text": [
      "🚀 Validation: 100%|██████████| 3/3 [00:00<00:00, 180.15it/s, loss=8.4961]\n"
     ]
    },
    {
     "name": "stdout",
     "output_type": "stream",
     "text": [
      "[Epoch 96] Train Loss: 8.4305 | Val Loss: 8.5027\n",
      "  -> New best model saved at saved/best.pt\n",
      "Epoch 97/300\n"
     ]
    },
    {
     "name": "stderr",
     "output_type": "stream",
     "text": [
      "🚀 Validation: 100%|██████████| 3/3 [00:00<00:00, 93.78it/s, loss=8.4926]\n"
     ]
    },
    {
     "name": "stdout",
     "output_type": "stream",
     "text": [
      "[Epoch 97] Train Loss: 8.4270 | Val Loss: 8.4993\n",
      "  -> New best model saved at saved/best.pt\n",
      "Epoch 98/300\n"
     ]
    },
    {
     "name": "stderr",
     "output_type": "stream",
     "text": [
      "🚀 Validation: 100%|██████████| 3/3 [00:00<00:00, 151.45it/s, loss=8.4890]\n"
     ]
    },
    {
     "name": "stdout",
     "output_type": "stream",
     "text": [
      "[Epoch 98] Train Loss: 8.4236 | Val Loss: 8.4959\n",
      "  -> New best model saved at saved/best.pt\n",
      "Epoch 99/300\n"
     ]
    },
    {
     "name": "stderr",
     "output_type": "stream",
     "text": [
      "🚀 Validation: 100%|██████████| 3/3 [00:00<00:00, 160.91it/s, loss=8.4854]\n"
     ]
    },
    {
     "name": "stdout",
     "output_type": "stream",
     "text": [
      "[Epoch 99] Train Loss: 8.4165 | Val Loss: 8.4924\n",
      "  -> New best model saved at saved/best.pt\n",
      "Epoch 100/300\n"
     ]
    },
    {
     "name": "stderr",
     "output_type": "stream",
     "text": [
      "🚀 Validation: 100%|██████████| 3/3 [00:00<00:00, 193.71it/s, loss=8.4818]\n"
     ]
    },
    {
     "name": "stdout",
     "output_type": "stream",
     "text": [
      "[Epoch 100] Train Loss: 8.4152 | Val Loss: 8.4889\n",
      "  -> New best model saved at saved/best.pt\n",
      "Epoch 101/300\n"
     ]
    },
    {
     "name": "stderr",
     "output_type": "stream",
     "text": [
      "🚀 Validation: 100%|██████████| 3/3 [00:00<00:00, 166.84it/s, loss=8.4781]\n"
     ]
    },
    {
     "name": "stdout",
     "output_type": "stream",
     "text": [
      "[Epoch 101] Train Loss: 8.4044 | Val Loss: 8.4854\n",
      "  -> New best model saved at saved/best.pt\n",
      "Epoch 102/300\n"
     ]
    },
    {
     "name": "stderr",
     "output_type": "stream",
     "text": [
      "🚀 Validation: 100%|██████████| 3/3 [00:00<00:00, 200.62it/s, loss=8.4744]\n"
     ]
    },
    {
     "name": "stdout",
     "output_type": "stream",
     "text": [
      "[Epoch 102] Train Loss: 8.4083 | Val Loss: 8.4818\n",
      "  -> New best model saved at saved/best.pt\n",
      "Epoch 103/300\n"
     ]
    },
    {
     "name": "stderr",
     "output_type": "stream",
     "text": [
      "🚀 Validation: 100%|██████████| 3/3 [00:00<00:00, 173.37it/s, loss=8.4706]\n"
     ]
    },
    {
     "name": "stdout",
     "output_type": "stream",
     "text": [
      "[Epoch 103] Train Loss: 8.4047 | Val Loss: 8.4781\n",
      "  -> New best model saved at saved/best.pt\n",
      "Epoch 104/300\n"
     ]
    },
    {
     "name": "stderr",
     "output_type": "stream",
     "text": [
      "🚀 Validation: 100%|██████████| 3/3 [00:00<00:00, 200.30it/s, loss=8.4668]\n"
     ]
    },
    {
     "name": "stdout",
     "output_type": "stream",
     "text": [
      "[Epoch 104] Train Loss: 8.3978 | Val Loss: 8.4745\n",
      "  -> New best model saved at saved/best.pt\n",
      "Epoch 105/300\n"
     ]
    },
    {
     "name": "stderr",
     "output_type": "stream",
     "text": [
      "🚀 Validation: 100%|██████████| 3/3 [00:00<00:00, 182.73it/s, loss=8.4629]\n"
     ]
    },
    {
     "name": "stdout",
     "output_type": "stream",
     "text": [
      "[Epoch 105] Train Loss: 8.3955 | Val Loss: 8.4707\n",
      "  -> New best model saved at saved/best.pt\n",
      "Epoch 106/300\n"
     ]
    },
    {
     "name": "stderr",
     "output_type": "stream",
     "text": [
      "🚀 Validation: 100%|██████████| 3/3 [00:00<00:00, 193.35it/s, loss=8.4590]\n"
     ]
    },
    {
     "name": "stdout",
     "output_type": "stream",
     "text": [
      "[Epoch 106] Train Loss: 8.3907 | Val Loss: 8.4669\n",
      "  -> New best model saved at saved/best.pt\n",
      "Epoch 107/300\n"
     ]
    },
    {
     "name": "stderr",
     "output_type": "stream",
     "text": [
      "🚀 Validation: 100%|██████████| 3/3 [00:00<00:00, 192.07it/s, loss=8.4551]\n"
     ]
    },
    {
     "name": "stdout",
     "output_type": "stream",
     "text": [
      "[Epoch 107] Train Loss: 8.3862 | Val Loss: 8.4631\n",
      "  -> New best model saved at saved/best.pt\n",
      "Epoch 108/300\n"
     ]
    },
    {
     "name": "stderr",
     "output_type": "stream",
     "text": [
      "🚀 Validation: 100%|██████████| 3/3 [00:00<00:00, 190.62it/s, loss=8.4511]\n"
     ]
    },
    {
     "name": "stdout",
     "output_type": "stream",
     "text": [
      "[Epoch 108] Train Loss: 8.3736 | Val Loss: 8.4593\n",
      "  -> New best model saved at saved/best.pt\n",
      "Epoch 109/300\n"
     ]
    },
    {
     "name": "stderr",
     "output_type": "stream",
     "text": [
      "🚀 Validation: 100%|██████████| 3/3 [00:00<00:00, 184.23it/s, loss=8.4470]\n"
     ]
    },
    {
     "name": "stdout",
     "output_type": "stream",
     "text": [
      "[Epoch 109] Train Loss: 8.3746 | Val Loss: 8.4553\n",
      "  -> New best model saved at saved/best.pt\n",
      "Epoch 110/300\n"
     ]
    },
    {
     "name": "stderr",
     "output_type": "stream",
     "text": [
      "🚀 Validation: 100%|██████████| 3/3 [00:00<00:00, 197.18it/s, loss=8.4429]\n"
     ]
    },
    {
     "name": "stdout",
     "output_type": "stream",
     "text": [
      "[Epoch 110] Train Loss: 8.3659 | Val Loss: 8.4514\n",
      "  -> New best model saved at saved/best.pt\n",
      "Epoch 111/300\n"
     ]
    },
    {
     "name": "stderr",
     "output_type": "stream",
     "text": [
      "🚀 Validation: 100%|██████████| 3/3 [00:00<00:00, 167.66it/s, loss=8.4388]\n"
     ]
    },
    {
     "name": "stdout",
     "output_type": "stream",
     "text": [
      "[Epoch 111] Train Loss: 8.3640 | Val Loss: 8.4474\n",
      "  -> New best model saved at saved/best.pt\n",
      "Epoch 112/300\n"
     ]
    },
    {
     "name": "stderr",
     "output_type": "stream",
     "text": [
      "🚀 Validation: 100%|██████████| 3/3 [00:00<00:00, 194.47it/s, loss=8.4346]\n"
     ]
    },
    {
     "name": "stdout",
     "output_type": "stream",
     "text": [
      "[Epoch 112] Train Loss: 8.3601 | Val Loss: 8.4433\n",
      "  -> New best model saved at saved/best.pt\n",
      "Epoch 113/300\n"
     ]
    },
    {
     "name": "stderr",
     "output_type": "stream",
     "text": [
      "🚀 Validation: 100%|██████████| 3/3 [00:00<00:00, 107.38it/s, loss=8.4303]\n"
     ]
    },
    {
     "name": "stdout",
     "output_type": "stream",
     "text": [
      "[Epoch 113] Train Loss: 8.3563 | Val Loss: 8.4393\n",
      "  -> New best model saved at saved/best.pt\n",
      "Epoch 114/300\n"
     ]
    },
    {
     "name": "stderr",
     "output_type": "stream",
     "text": [
      "🚀 Validation: 100%|██████████| 3/3 [00:00<00:00, 141.62it/s, loss=8.4261]\n"
     ]
    },
    {
     "name": "stdout",
     "output_type": "stream",
     "text": [
      "[Epoch 114] Train Loss: 8.3505 | Val Loss: 8.4352\n",
      "  -> New best model saved at saved/best.pt\n",
      "Epoch 115/300\n"
     ]
    },
    {
     "name": "stderr",
     "output_type": "stream",
     "text": [
      "🚀 Validation: 100%|██████████| 3/3 [00:00<00:00, 161.73it/s, loss=8.4218]\n"
     ]
    },
    {
     "name": "stdout",
     "output_type": "stream",
     "text": [
      "[Epoch 115] Train Loss: 8.3453 | Val Loss: 8.4310\n",
      "  -> New best model saved at saved/best.pt\n",
      "Epoch 116/300\n"
     ]
    },
    {
     "name": "stderr",
     "output_type": "stream",
     "text": [
      "🚀 Validation: 100%|██████████| 3/3 [00:00<00:00, 115.60it/s, loss=8.4174]\n"
     ]
    },
    {
     "name": "stdout",
     "output_type": "stream",
     "text": [
      "[Epoch 116] Train Loss: 8.3419 | Val Loss: 8.4268\n",
      "  -> New best model saved at saved/best.pt\n",
      "Epoch 117/300\n"
     ]
    },
    {
     "name": "stderr",
     "output_type": "stream",
     "text": [
      "🚀 Validation: 100%|██████████| 3/3 [00:00<00:00, 188.09it/s, loss=8.4130]\n"
     ]
    },
    {
     "name": "stdout",
     "output_type": "stream",
     "text": [
      "[Epoch 117] Train Loss: 8.3395 | Val Loss: 8.4226\n",
      "  -> New best model saved at saved/best.pt\n",
      "Epoch 118/300\n"
     ]
    },
    {
     "name": "stderr",
     "output_type": "stream",
     "text": [
      "🚀 Validation: 100%|██████████| 3/3 [00:00<00:00, 211.71it/s, loss=8.4086]\n"
     ]
    },
    {
     "name": "stdout",
     "output_type": "stream",
     "text": [
      "[Epoch 118] Train Loss: 8.3284 | Val Loss: 8.4183\n",
      "  -> New best model saved at saved/best.pt\n",
      "Epoch 119/300\n"
     ]
    },
    {
     "name": "stderr",
     "output_type": "stream",
     "text": [
      "🚀 Validation: 100%|██████████| 3/3 [00:00<00:00, 178.63it/s, loss=8.4041]\n"
     ]
    },
    {
     "name": "stdout",
     "output_type": "stream",
     "text": [
      "[Epoch 119] Train Loss: 8.3263 | Val Loss: 8.4139\n",
      "  -> New best model saved at saved/best.pt\n",
      "Epoch 120/300\n"
     ]
    },
    {
     "name": "stderr",
     "output_type": "stream",
     "text": [
      "🚀 Validation: 100%|██████████| 3/3 [00:00<00:00, 204.55it/s, loss=8.3995]\n"
     ]
    },
    {
     "name": "stdout",
     "output_type": "stream",
     "text": [
      "[Epoch 120] Train Loss: 8.3217 | Val Loss: 8.4096\n",
      "  -> New best model saved at saved/best.pt\n",
      "Epoch 121/300\n"
     ]
    },
    {
     "name": "stderr",
     "output_type": "stream",
     "text": [
      "🚀 Validation: 100%|██████████| 3/3 [00:00<00:00, 180.56it/s, loss=8.3949]\n"
     ]
    },
    {
     "name": "stdout",
     "output_type": "stream",
     "text": [
      "[Epoch 121] Train Loss: 8.3149 | Val Loss: 8.4051\n",
      "  -> New best model saved at saved/best.pt\n",
      "Epoch 122/300\n"
     ]
    },
    {
     "name": "stderr",
     "output_type": "stream",
     "text": [
      "🚀 Validation: 100%|██████████| 3/3 [00:00<00:00, 185.97it/s, loss=8.3903]\n"
     ]
    },
    {
     "name": "stdout",
     "output_type": "stream",
     "text": [
      "[Epoch 122] Train Loss: 8.3111 | Val Loss: 8.4007\n",
      "  -> New best model saved at saved/best.pt\n",
      "Epoch 123/300\n"
     ]
    },
    {
     "name": "stderr",
     "output_type": "stream",
     "text": [
      "🚀 Validation: 100%|██████████| 3/3 [00:00<00:00, 121.88it/s, loss=8.3857]\n"
     ]
    },
    {
     "name": "stdout",
     "output_type": "stream",
     "text": [
      "[Epoch 123] Train Loss: 8.3056 | Val Loss: 8.3962\n",
      "  -> New best model saved at saved/best.pt\n",
      "Epoch 124/300\n"
     ]
    },
    {
     "name": "stderr",
     "output_type": "stream",
     "text": [
      "🚀 Validation: 100%|██████████| 3/3 [00:00<00:00, 190.81it/s, loss=8.3809]\n"
     ]
    },
    {
     "name": "stdout",
     "output_type": "stream",
     "text": [
      "[Epoch 124] Train Loss: 8.2982 | Val Loss: 8.3916\n",
      "  -> New best model saved at saved/best.pt\n",
      "Epoch 125/300\n"
     ]
    },
    {
     "name": "stderr",
     "output_type": "stream",
     "text": [
      "🚀 Validation: 100%|██████████| 3/3 [00:00<00:00, 170.65it/s, loss=8.3762]\n"
     ]
    },
    {
     "name": "stdout",
     "output_type": "stream",
     "text": [
      "[Epoch 125] Train Loss: 8.3028 | Val Loss: 8.3870\n",
      "  -> New best model saved at saved/best.pt\n",
      "Epoch 126/300\n"
     ]
    },
    {
     "name": "stderr",
     "output_type": "stream",
     "text": [
      "🚀 Validation: 100%|██████████| 3/3 [00:00<00:00, 120.82it/s, loss=8.3714]\n"
     ]
    },
    {
     "name": "stdout",
     "output_type": "stream",
     "text": [
      "[Epoch 126] Train Loss: 8.2815 | Val Loss: 8.3824\n",
      "  -> New best model saved at saved/best.pt\n",
      "Epoch 127/300\n"
     ]
    },
    {
     "name": "stderr",
     "output_type": "stream",
     "text": [
      "🚀 Validation: 100%|██████████| 3/3 [00:00<00:00, 138.27it/s, loss=8.3666]\n"
     ]
    },
    {
     "name": "stdout",
     "output_type": "stream",
     "text": [
      "[Epoch 127] Train Loss: 8.2812 | Val Loss: 8.3777\n",
      "  -> New best model saved at saved/best.pt\n",
      "Epoch 128/300\n"
     ]
    },
    {
     "name": "stderr",
     "output_type": "stream",
     "text": [
      "🚀 Validation: 100%|██████████| 3/3 [00:00<00:00, 189.02it/s, loss=8.3616]\n"
     ]
    },
    {
     "name": "stdout",
     "output_type": "stream",
     "text": [
      "[Epoch 128] Train Loss: 8.2750 | Val Loss: 8.3730\n",
      "  -> New best model saved at saved/best.pt\n",
      "Epoch 129/300\n"
     ]
    },
    {
     "name": "stderr",
     "output_type": "stream",
     "text": [
      "🚀 Validation: 100%|██████████| 3/3 [00:00<00:00, 172.17it/s, loss=8.3567]\n"
     ]
    },
    {
     "name": "stdout",
     "output_type": "stream",
     "text": [
      "[Epoch 129] Train Loss: 8.2751 | Val Loss: 8.3682\n",
      "  -> New best model saved at saved/best.pt\n",
      "Epoch 130/300\n"
     ]
    },
    {
     "name": "stderr",
     "output_type": "stream",
     "text": [
      "🚀 Validation: 100%|██████████| 3/3 [00:00<00:00, 196.64it/s, loss=8.3518]\n"
     ]
    },
    {
     "name": "stdout",
     "output_type": "stream",
     "text": [
      "[Epoch 130] Train Loss: 8.2633 | Val Loss: 8.3635\n",
      "  -> New best model saved at saved/best.pt\n",
      "Epoch 131/300\n"
     ]
    },
    {
     "name": "stderr",
     "output_type": "stream",
     "text": [
      "🚀 Validation: 100%|██████████| 3/3 [00:00<00:00, 160.52it/s, loss=8.3468]\n"
     ]
    },
    {
     "name": "stdout",
     "output_type": "stream",
     "text": [
      "[Epoch 131] Train Loss: 8.2564 | Val Loss: 8.3586\n",
      "  -> New best model saved at saved/best.pt\n",
      "Epoch 132/300\n"
     ]
    },
    {
     "name": "stderr",
     "output_type": "stream",
     "text": [
      "🚀 Validation: 100%|██████████| 3/3 [00:00<00:00, 179.53it/s, loss=8.3418]\n"
     ]
    },
    {
     "name": "stdout",
     "output_type": "stream",
     "text": [
      "[Epoch 132] Train Loss: 8.2511 | Val Loss: 8.3538\n",
      "  -> New best model saved at saved/best.pt\n",
      "Epoch 133/300\n"
     ]
    },
    {
     "name": "stderr",
     "output_type": "stream",
     "text": [
      "🚀 Validation: 100%|██████████| 3/3 [00:00<00:00, 133.09it/s, loss=8.3367]\n"
     ]
    },
    {
     "name": "stdout",
     "output_type": "stream",
     "text": [
      "[Epoch 133] Train Loss: 8.2534 | Val Loss: 8.3489\n",
      "  -> New best model saved at saved/best.pt\n",
      "Epoch 134/300\n"
     ]
    },
    {
     "name": "stderr",
     "output_type": "stream",
     "text": [
      "🚀 Validation: 100%|██████████| 3/3 [00:00<00:00, 195.11it/s, loss=8.3316]\n"
     ]
    },
    {
     "name": "stdout",
     "output_type": "stream",
     "text": [
      "[Epoch 134] Train Loss: 8.2455 | Val Loss: 8.3440\n",
      "  -> New best model saved at saved/best.pt\n",
      "Epoch 135/300\n"
     ]
    },
    {
     "name": "stderr",
     "output_type": "stream",
     "text": [
      "🚀 Validation: 100%|██████████| 3/3 [00:00<00:00, 169.83it/s, loss=8.3265]\n"
     ]
    },
    {
     "name": "stdout",
     "output_type": "stream",
     "text": [
      "[Epoch 135] Train Loss: 8.2421 | Val Loss: 8.3390\n",
      "  -> New best model saved at saved/best.pt\n",
      "Epoch 136/300\n"
     ]
    },
    {
     "name": "stderr",
     "output_type": "stream",
     "text": [
      "🚀 Validation: 100%|██████████| 3/3 [00:00<00:00, 185.36it/s, loss=8.3214]\n"
     ]
    },
    {
     "name": "stdout",
     "output_type": "stream",
     "text": [
      "[Epoch 136] Train Loss: 8.2364 | Val Loss: 8.3341\n",
      "  -> New best model saved at saved/best.pt\n",
      "Epoch 137/300\n"
     ]
    },
    {
     "name": "stderr",
     "output_type": "stream",
     "text": [
      "🚀 Validation: 100%|██████████| 3/3 [00:00<00:00, 180.86it/s, loss=8.3162]\n"
     ]
    },
    {
     "name": "stdout",
     "output_type": "stream",
     "text": [
      "[Epoch 137] Train Loss: 8.2276 | Val Loss: 8.3290\n",
      "  -> New best model saved at saved/best.pt\n",
      "Epoch 138/300\n"
     ]
    },
    {
     "name": "stderr",
     "output_type": "stream",
     "text": [
      "🚀 Validation: 100%|██████████| 3/3 [00:00<00:00, 214.15it/s, loss=8.3109]\n"
     ]
    },
    {
     "name": "stdout",
     "output_type": "stream",
     "text": [
      "[Epoch 138] Train Loss: 8.2220 | Val Loss: 8.3239\n",
      "  -> New best model saved at saved/best.pt\n",
      "Epoch 139/300\n"
     ]
    },
    {
     "name": "stderr",
     "output_type": "stream",
     "text": [
      "🚀 Validation: 100%|██████████| 3/3 [00:00<00:00, 158.58it/s, loss=8.3056]\n"
     ]
    },
    {
     "name": "stdout",
     "output_type": "stream",
     "text": [
      "[Epoch 139] Train Loss: 8.2123 | Val Loss: 8.3188\n",
      "  -> New best model saved at saved/best.pt\n",
      "Epoch 140/300\n"
     ]
    },
    {
     "name": "stderr",
     "output_type": "stream",
     "text": [
      "🚀 Validation: 100%|██████████| 3/3 [00:00<00:00, 194.90it/s, loss=8.3002]\n"
     ]
    },
    {
     "name": "stdout",
     "output_type": "stream",
     "text": [
      "[Epoch 140] Train Loss: 8.2122 | Val Loss: 8.3136\n",
      "  -> New best model saved at saved/best.pt\n",
      "Epoch 141/300\n"
     ]
    },
    {
     "name": "stderr",
     "output_type": "stream",
     "text": [
      "🚀 Validation: 100%|██████████| 3/3 [00:00<00:00, 163.93it/s, loss=8.2949]\n"
     ]
    },
    {
     "name": "stdout",
     "output_type": "stream",
     "text": [
      "[Epoch 141] Train Loss: 8.2053 | Val Loss: 8.3084\n",
      "  -> New best model saved at saved/best.pt\n",
      "Epoch 142/300\n"
     ]
    },
    {
     "name": "stderr",
     "output_type": "stream",
     "text": [
      "🚀 Validation: 100%|██████████| 3/3 [00:00<00:00, 171.91it/s, loss=8.2895]\n"
     ]
    },
    {
     "name": "stdout",
     "output_type": "stream",
     "text": [
      "[Epoch 142] Train Loss: 8.2052 | Val Loss: 8.3032\n",
      "  -> New best model saved at saved/best.pt\n",
      "Epoch 143/300\n"
     ]
    },
    {
     "name": "stderr",
     "output_type": "stream",
     "text": [
      "🚀 Validation: 100%|██████████| 3/3 [00:00<00:00, 152.59it/s, loss=8.2841]\n"
     ]
    },
    {
     "name": "stdout",
     "output_type": "stream",
     "text": [
      "[Epoch 143] Train Loss: 8.1900 | Val Loss: 8.2980\n",
      "  -> New best model saved at saved/best.pt\n",
      "Epoch 144/300\n"
     ]
    },
    {
     "name": "stderr",
     "output_type": "stream",
     "text": [
      "🚀 Validation: 100%|██████████| 3/3 [00:00<00:00, 205.20it/s, loss=8.2786]\n"
     ]
    },
    {
     "name": "stdout",
     "output_type": "stream",
     "text": [
      "[Epoch 144] Train Loss: 8.1859 | Val Loss: 8.2927\n",
      "  -> New best model saved at saved/best.pt\n",
      "Epoch 145/300\n"
     ]
    },
    {
     "name": "stderr",
     "output_type": "stream",
     "text": [
      "🚀 Validation: 100%|██████████| 3/3 [00:00<00:00, 162.16it/s, loss=8.2731]\n"
     ]
    },
    {
     "name": "stdout",
     "output_type": "stream",
     "text": [
      "[Epoch 145] Train Loss: 8.1840 | Val Loss: 8.2874\n",
      "  -> New best model saved at saved/best.pt\n",
      "Epoch 146/300\n"
     ]
    },
    {
     "name": "stderr",
     "output_type": "stream",
     "text": [
      "🚀 Validation: 100%|██████████| 3/3 [00:00<00:00, 211.87it/s, loss=8.2676]\n"
     ]
    },
    {
     "name": "stdout",
     "output_type": "stream",
     "text": [
      "[Epoch 146] Train Loss: 8.1730 | Val Loss: 8.2820\n",
      "  -> New best model saved at saved/best.pt\n",
      "Epoch 147/300\n"
     ]
    },
    {
     "name": "stderr",
     "output_type": "stream",
     "text": [
      "🚀 Validation: 100%|██████████| 3/3 [00:00<00:00, 107.71it/s, loss=8.2620]\n"
     ]
    },
    {
     "name": "stdout",
     "output_type": "stream",
     "text": [
      "[Epoch 147] Train Loss: 8.1691 | Val Loss: 8.2766\n",
      "  -> New best model saved at saved/best.pt\n",
      "Epoch 148/300\n"
     ]
    },
    {
     "name": "stderr",
     "output_type": "stream",
     "text": [
      "🚀 Validation: 100%|██████████| 3/3 [00:00<00:00, 98.06it/s, loss=8.2565]\n"
     ]
    },
    {
     "name": "stdout",
     "output_type": "stream",
     "text": [
      "[Epoch 148] Train Loss: 8.1601 | Val Loss: 8.2713\n",
      "  -> New best model saved at saved/best.pt\n",
      "Epoch 149/300\n"
     ]
    },
    {
     "name": "stderr",
     "output_type": "stream",
     "text": [
      "🚀 Validation: 100%|██████████| 3/3 [00:00<00:00, 152.33it/s, loss=8.2509]\n"
     ]
    },
    {
     "name": "stdout",
     "output_type": "stream",
     "text": [
      "[Epoch 149] Train Loss: 8.1553 | Val Loss: 8.2658\n",
      "  -> New best model saved at saved/best.pt\n",
      "Epoch 150/300\n"
     ]
    },
    {
     "name": "stderr",
     "output_type": "stream",
     "text": [
      "🚀 Validation: 100%|██████████| 3/3 [00:00<00:00, 156.39it/s, loss=8.2452]\n"
     ]
    },
    {
     "name": "stdout",
     "output_type": "stream",
     "text": [
      "[Epoch 150] Train Loss: 8.1560 | Val Loss: 8.2603\n",
      "  -> New best model saved at saved/best.pt\n",
      "Epoch 151/300\n"
     ]
    },
    {
     "name": "stderr",
     "output_type": "stream",
     "text": [
      "🚀 Validation: 100%|██████████| 3/3 [00:00<00:00, 119.70it/s, loss=8.2395]\n"
     ]
    },
    {
     "name": "stdout",
     "output_type": "stream",
     "text": [
      "[Epoch 151] Train Loss: 8.1459 | Val Loss: 8.2549\n",
      "  -> New best model saved at saved/best.pt\n",
      "Epoch 152/300\n"
     ]
    },
    {
     "name": "stderr",
     "output_type": "stream",
     "text": [
      "🚀 Validation: 100%|██████████| 3/3 [00:00<00:00, 151.88it/s, loss=8.2338]\n"
     ]
    },
    {
     "name": "stdout",
     "output_type": "stream",
     "text": [
      "[Epoch 152] Train Loss: 8.1416 | Val Loss: 8.2493\n",
      "  -> New best model saved at saved/best.pt\n",
      "Epoch 153/300\n"
     ]
    },
    {
     "name": "stderr",
     "output_type": "stream",
     "text": [
      "🚀 Validation: 100%|██████████| 3/3 [00:00<00:00, 116.94it/s, loss=8.2281]\n"
     ]
    },
    {
     "name": "stdout",
     "output_type": "stream",
     "text": [
      "[Epoch 153] Train Loss: 8.1318 | Val Loss: 8.2438\n",
      "  -> New best model saved at saved/best.pt\n",
      "Epoch 154/300\n"
     ]
    },
    {
     "name": "stderr",
     "output_type": "stream",
     "text": [
      "🚀 Validation: 100%|██████████| 3/3 [00:00<00:00, 112.98it/s, loss=8.2223]\n"
     ]
    },
    {
     "name": "stdout",
     "output_type": "stream",
     "text": [
      "[Epoch 154] Train Loss: 8.1200 | Val Loss: 8.2382\n",
      "  -> New best model saved at saved/best.pt\n",
      "Epoch 155/300\n"
     ]
    },
    {
     "name": "stderr",
     "output_type": "stream",
     "text": [
      "🚀 Validation: 100%|██████████| 3/3 [00:00<00:00, 129.03it/s, loss=8.2165]\n"
     ]
    },
    {
     "name": "stdout",
     "output_type": "stream",
     "text": [
      "[Epoch 155] Train Loss: 8.1172 | Val Loss: 8.2326\n",
      "  -> New best model saved at saved/best.pt\n",
      "Epoch 156/300\n"
     ]
    },
    {
     "name": "stderr",
     "output_type": "stream",
     "text": [
      "🚀 Validation: 100%|██████████| 3/3 [00:00<00:00, 129.83it/s, loss=8.2107]\n"
     ]
    },
    {
     "name": "stdout",
     "output_type": "stream",
     "text": [
      "[Epoch 156] Train Loss: 8.1194 | Val Loss: 8.2269\n",
      "  -> New best model saved at saved/best.pt\n",
      "Epoch 157/300\n"
     ]
    },
    {
     "name": "stderr",
     "output_type": "stream",
     "text": [
      "🚀 Validation: 100%|██████████| 3/3 [00:00<00:00, 116.69it/s, loss=8.2048]\n"
     ]
    },
    {
     "name": "stdout",
     "output_type": "stream",
     "text": [
      "[Epoch 157] Train Loss: 8.1102 | Val Loss: 8.2213\n",
      "  -> New best model saved at saved/best.pt\n",
      "Epoch 158/300\n"
     ]
    },
    {
     "name": "stderr",
     "output_type": "stream",
     "text": [
      "🚀 Validation: 100%|██████████| 3/3 [00:00<00:00, 149.32it/s, loss=8.1990]\n"
     ]
    },
    {
     "name": "stdout",
     "output_type": "stream",
     "text": [
      "[Epoch 158] Train Loss: 8.1025 | Val Loss: 8.2156\n",
      "  -> New best model saved at saved/best.pt\n",
      "Epoch 159/300\n"
     ]
    },
    {
     "name": "stderr",
     "output_type": "stream",
     "text": [
      "🚀 Validation: 100%|██████████| 3/3 [00:00<00:00, 123.26it/s, loss=8.1931]\n"
     ]
    },
    {
     "name": "stdout",
     "output_type": "stream",
     "text": [
      "[Epoch 159] Train Loss: 8.0914 | Val Loss: 8.2099\n",
      "  -> New best model saved at saved/best.pt\n",
      "Epoch 160/300\n"
     ]
    },
    {
     "name": "stderr",
     "output_type": "stream",
     "text": [
      "🚀 Validation: 100%|██████████| 3/3 [00:00<00:00, 131.19it/s, loss=8.1872]\n"
     ]
    },
    {
     "name": "stdout",
     "output_type": "stream",
     "text": [
      "[Epoch 160] Train Loss: 8.0881 | Val Loss: 8.2042\n",
      "  -> New best model saved at saved/best.pt\n",
      "Epoch 161/300\n"
     ]
    },
    {
     "name": "stderr",
     "output_type": "stream",
     "text": [
      "🚀 Validation: 100%|██████████| 3/3 [00:00<00:00, 132.51it/s, loss=8.1812]\n"
     ]
    },
    {
     "name": "stdout",
     "output_type": "stream",
     "text": [
      "[Epoch 161] Train Loss: 8.0784 | Val Loss: 8.1984\n",
      "  -> New best model saved at saved/best.pt\n",
      "Epoch 162/300\n"
     ]
    },
    {
     "name": "stderr",
     "output_type": "stream",
     "text": [
      "🚀 Validation: 100%|██████████| 3/3 [00:00<00:00, 96.23it/s, loss=8.1753]\n"
     ]
    },
    {
     "name": "stdout",
     "output_type": "stream",
     "text": [
      "[Epoch 162] Train Loss: 8.0724 | Val Loss: 8.1927\n",
      "  -> New best model saved at saved/best.pt\n",
      "Epoch 163/300\n"
     ]
    },
    {
     "name": "stderr",
     "output_type": "stream",
     "text": [
      "🚀 Validation: 100%|██████████| 3/3 [00:00<00:00, 122.93it/s, loss=8.1693]\n"
     ]
    },
    {
     "name": "stdout",
     "output_type": "stream",
     "text": [
      "[Epoch 163] Train Loss: 8.0697 | Val Loss: 8.1869\n",
      "  -> New best model saved at saved/best.pt\n",
      "Epoch 164/300\n"
     ]
    },
    {
     "name": "stderr",
     "output_type": "stream",
     "text": [
      "🚀 Validation: 100%|██████████| 3/3 [00:00<00:00, 161.29it/s, loss=8.1633]\n"
     ]
    },
    {
     "name": "stdout",
     "output_type": "stream",
     "text": [
      "[Epoch 164] Train Loss: 8.0554 | Val Loss: 8.1811\n",
      "  -> New best model saved at saved/best.pt\n",
      "Epoch 165/300\n"
     ]
    },
    {
     "name": "stderr",
     "output_type": "stream",
     "text": [
      "🚀 Validation: 100%|██████████| 3/3 [00:00<00:00, 150.76it/s, loss=8.1573]\n"
     ]
    },
    {
     "name": "stdout",
     "output_type": "stream",
     "text": [
      "[Epoch 165] Train Loss: 8.0515 | Val Loss: 8.1752\n",
      "  -> New best model saved at saved/best.pt\n",
      "Epoch 166/300\n"
     ]
    },
    {
     "name": "stderr",
     "output_type": "stream",
     "text": [
      "🚀 Validation: 100%|██████████| 3/3 [00:00<00:00, 110.36it/s, loss=8.1512]\n"
     ]
    },
    {
     "name": "stdout",
     "output_type": "stream",
     "text": [
      "[Epoch 166] Train Loss: 8.0454 | Val Loss: 8.1694\n",
      "  -> New best model saved at saved/best.pt\n",
      "Epoch 167/300\n"
     ]
    },
    {
     "name": "stderr",
     "output_type": "stream",
     "text": [
      "🚀 Validation: 100%|██████████| 3/3 [00:00<00:00, 154.71it/s, loss=8.1451]\n"
     ]
    },
    {
     "name": "stdout",
     "output_type": "stream",
     "text": [
      "[Epoch 167] Train Loss: 8.0435 | Val Loss: 8.1635\n",
      "  -> New best model saved at saved/best.pt\n",
      "Epoch 168/300\n"
     ]
    },
    {
     "name": "stderr",
     "output_type": "stream",
     "text": [
      "🚀 Validation: 100%|██████████| 3/3 [00:00<00:00, 192.86it/s, loss=8.1390]\n"
     ]
    },
    {
     "name": "stdout",
     "output_type": "stream",
     "text": [
      "[Epoch 168] Train Loss: 8.0327 | Val Loss: 8.1576\n",
      "  -> New best model saved at saved/best.pt\n",
      "Epoch 169/300\n"
     ]
    },
    {
     "name": "stderr",
     "output_type": "stream",
     "text": [
      "🚀 Validation: 100%|██████████| 3/3 [00:00<00:00, 136.92it/s, loss=8.1329]\n"
     ]
    },
    {
     "name": "stdout",
     "output_type": "stream",
     "text": [
      "[Epoch 169] Train Loss: 8.0284 | Val Loss: 8.1517\n",
      "  -> New best model saved at saved/best.pt\n",
      "Epoch 170/300\n"
     ]
    },
    {
     "name": "stderr",
     "output_type": "stream",
     "text": [
      "🚀 Validation: 100%|██████████| 3/3 [00:00<00:00, 163.54it/s, loss=8.1269]\n"
     ]
    },
    {
     "name": "stdout",
     "output_type": "stream",
     "text": [
      "[Epoch 170] Train Loss: 8.0181 | Val Loss: 8.1458\n",
      "  -> New best model saved at saved/best.pt\n",
      "Epoch 171/300\n"
     ]
    },
    {
     "name": "stderr",
     "output_type": "stream",
     "text": [
      "🚀 Validation: 100%|██████████| 3/3 [00:00<00:00, 151.49it/s, loss=8.1207]\n"
     ]
    },
    {
     "name": "stdout",
     "output_type": "stream",
     "text": [
      "[Epoch 171] Train Loss: 8.0075 | Val Loss: 8.1399\n",
      "  -> New best model saved at saved/best.pt\n",
      "Epoch 172/300\n"
     ]
    },
    {
     "name": "stderr",
     "output_type": "stream",
     "text": [
      "🚀 Validation: 100%|██████████| 3/3 [00:00<00:00, 142.11it/s, loss=8.1146]\n"
     ]
    },
    {
     "name": "stdout",
     "output_type": "stream",
     "text": [
      "[Epoch 172] Train Loss: 8.0055 | Val Loss: 8.1339\n",
      "  -> New best model saved at saved/best.pt\n",
      "Epoch 173/300\n"
     ]
    },
    {
     "name": "stderr",
     "output_type": "stream",
     "text": [
      "🚀 Validation: 100%|██████████| 3/3 [00:00<00:00, 134.86it/s, loss=8.1084]\n"
     ]
    },
    {
     "name": "stdout",
     "output_type": "stream",
     "text": [
      "[Epoch 173] Train Loss: 7.9958 | Val Loss: 8.1280\n",
      "  -> New best model saved at saved/best.pt\n",
      "Epoch 174/300\n"
     ]
    },
    {
     "name": "stderr",
     "output_type": "stream",
     "text": [
      "🚀 Validation: 100%|██████████| 3/3 [00:00<00:00, 158.60it/s, loss=8.1022]\n"
     ]
    },
    {
     "name": "stdout",
     "output_type": "stream",
     "text": [
      "[Epoch 174] Train Loss: 7.9931 | Val Loss: 8.1220\n",
      "  -> New best model saved at saved/best.pt\n",
      "Epoch 175/300\n"
     ]
    },
    {
     "name": "stderr",
     "output_type": "stream",
     "text": [
      "🚀 Validation: 100%|██████████| 3/3 [00:00<00:00, 176.27it/s, loss=8.0960]\n"
     ]
    },
    {
     "name": "stdout",
     "output_type": "stream",
     "text": [
      "[Epoch 175] Train Loss: 7.9931 | Val Loss: 8.1160\n",
      "  -> New best model saved at saved/best.pt\n",
      "Epoch 176/300\n"
     ]
    },
    {
     "name": "stderr",
     "output_type": "stream",
     "text": [
      "🚀 Validation: 100%|██████████| 3/3 [00:00<00:00, 174.57it/s, loss=8.0899]\n"
     ]
    },
    {
     "name": "stdout",
     "output_type": "stream",
     "text": [
      "[Epoch 176] Train Loss: 7.9847 | Val Loss: 8.1101\n",
      "  -> New best model saved at saved/best.pt\n",
      "Epoch 177/300\n"
     ]
    },
    {
     "name": "stderr",
     "output_type": "stream",
     "text": [
      "🚀 Validation: 100%|██████████| 3/3 [00:00<00:00, 178.99it/s, loss=8.0837]\n"
     ]
    },
    {
     "name": "stdout",
     "output_type": "stream",
     "text": [
      "[Epoch 177] Train Loss: 7.9790 | Val Loss: 8.1041\n",
      "  -> New best model saved at saved/best.pt\n",
      "Epoch 178/300\n"
     ]
    },
    {
     "name": "stderr",
     "output_type": "stream",
     "text": [
      "🚀 Validation: 100%|██████████| 3/3 [00:00<00:00, 196.11it/s, loss=8.0775]\n"
     ]
    },
    {
     "name": "stdout",
     "output_type": "stream",
     "text": [
      "[Epoch 178] Train Loss: 7.9709 | Val Loss: 8.0981\n",
      "  -> New best model saved at saved/best.pt\n",
      "Epoch 179/300\n"
     ]
    },
    {
     "name": "stderr",
     "output_type": "stream",
     "text": [
      "🚀 Validation: 100%|██████████| 3/3 [00:00<00:00, 158.34it/s, loss=8.0714]\n"
     ]
    },
    {
     "name": "stdout",
     "output_type": "stream",
     "text": [
      "[Epoch 179] Train Loss: 7.9642 | Val Loss: 8.0921\n",
      "  -> New best model saved at saved/best.pt\n",
      "Epoch 180/300\n"
     ]
    },
    {
     "name": "stderr",
     "output_type": "stream",
     "text": [
      "🚀 Validation: 100%|██████████| 3/3 [00:00<00:00, 185.09it/s, loss=8.0652]\n"
     ]
    },
    {
     "name": "stdout",
     "output_type": "stream",
     "text": [
      "[Epoch 180] Train Loss: 7.9548 | Val Loss: 8.0861\n",
      "  -> New best model saved at saved/best.pt\n",
      "Epoch 181/300\n"
     ]
    },
    {
     "name": "stderr",
     "output_type": "stream",
     "text": [
      "🚀 Validation: 100%|██████████| 3/3 [00:00<00:00, 167.22it/s, loss=8.0590]\n"
     ]
    },
    {
     "name": "stdout",
     "output_type": "stream",
     "text": [
      "[Epoch 181] Train Loss: 7.9432 | Val Loss: 8.0801\n",
      "  -> New best model saved at saved/best.pt\n",
      "Epoch 182/300\n"
     ]
    },
    {
     "name": "stderr",
     "output_type": "stream",
     "text": [
      "🚀 Validation: 100%|██████████| 3/3 [00:00<00:00, 146.41it/s, loss=8.0528]\n"
     ]
    },
    {
     "name": "stdout",
     "output_type": "stream",
     "text": [
      "[Epoch 182] Train Loss: 7.9421 | Val Loss: 8.0742\n",
      "  -> New best model saved at saved/best.pt\n",
      "Epoch 183/300\n"
     ]
    },
    {
     "name": "stderr",
     "output_type": "stream",
     "text": [
      "🚀 Validation: 100%|██████████| 3/3 [00:00<00:00, 175.67it/s, loss=8.0466]\n"
     ]
    },
    {
     "name": "stdout",
     "output_type": "stream",
     "text": [
      "[Epoch 183] Train Loss: 7.9335 | Val Loss: 8.0681\n",
      "  -> New best model saved at saved/best.pt\n",
      "Epoch 184/300\n"
     ]
    },
    {
     "name": "stderr",
     "output_type": "stream",
     "text": [
      "🚀 Validation: 100%|██████████| 3/3 [00:00<00:00, 139.50it/s, loss=8.0404]\n"
     ]
    },
    {
     "name": "stdout",
     "output_type": "stream",
     "text": [
      "[Epoch 184] Train Loss: 7.9207 | Val Loss: 8.0621\n",
      "  -> New best model saved at saved/best.pt\n",
      "Epoch 185/300\n"
     ]
    },
    {
     "name": "stderr",
     "output_type": "stream",
     "text": [
      "🚀 Validation: 100%|██████████| 3/3 [00:00<00:00, 85.75it/s, loss=8.0342]\n"
     ]
    },
    {
     "name": "stdout",
     "output_type": "stream",
     "text": [
      "[Epoch 185] Train Loss: 7.9222 | Val Loss: 8.0561\n",
      "  -> New best model saved at saved/best.pt\n",
      "Epoch 186/300\n"
     ]
    },
    {
     "name": "stderr",
     "output_type": "stream",
     "text": [
      "🚀 Validation: 100%|██████████| 3/3 [00:00<00:00, 135.13it/s, loss=8.0280]\n"
     ]
    },
    {
     "name": "stdout",
     "output_type": "stream",
     "text": [
      "[Epoch 186] Train Loss: 7.9125 | Val Loss: 8.0501\n",
      "  -> New best model saved at saved/best.pt\n",
      "Epoch 187/300\n"
     ]
    },
    {
     "name": "stderr",
     "output_type": "stream",
     "text": [
      "🚀 Validation: 100%|██████████| 3/3 [00:00<00:00, 117.42it/s, loss=8.0218]\n"
     ]
    },
    {
     "name": "stdout",
     "output_type": "stream",
     "text": [
      "[Epoch 187] Train Loss: 7.9040 | Val Loss: 8.0441\n",
      "  -> New best model saved at saved/best.pt\n",
      "Epoch 188/300\n"
     ]
    },
    {
     "name": "stderr",
     "output_type": "stream",
     "text": [
      "🚀 Validation: 100%|██████████| 3/3 [00:00<00:00, 156.60it/s, loss=8.0155]\n"
     ]
    },
    {
     "name": "stdout",
     "output_type": "stream",
     "text": [
      "[Epoch 188] Train Loss: 7.9120 | Val Loss: 8.0380\n",
      "  -> New best model saved at saved/best.pt\n",
      "Epoch 189/300\n"
     ]
    },
    {
     "name": "stderr",
     "output_type": "stream",
     "text": [
      "🚀 Validation: 100%|██████████| 3/3 [00:00<00:00, 136.07it/s, loss=8.0094]\n"
     ]
    },
    {
     "name": "stdout",
     "output_type": "stream",
     "text": [
      "[Epoch 189] Train Loss: 7.8886 | Val Loss: 8.0320\n",
      "  -> New best model saved at saved/best.pt\n",
      "Epoch 190/300\n"
     ]
    },
    {
     "name": "stderr",
     "output_type": "stream",
     "text": [
      "🚀 Validation: 100%|██████████| 3/3 [00:00<00:00, 188.13it/s, loss=8.0032]\n"
     ]
    },
    {
     "name": "stdout",
     "output_type": "stream",
     "text": [
      "[Epoch 190] Train Loss: 7.8863 | Val Loss: 8.0260\n",
      "  -> New best model saved at saved/best.pt\n",
      "Epoch 191/300\n"
     ]
    },
    {
     "name": "stderr",
     "output_type": "stream",
     "text": [
      "🚀 Validation: 100%|██████████| 3/3 [00:00<00:00, 194.89it/s, loss=7.9970]\n"
     ]
    },
    {
     "name": "stdout",
     "output_type": "stream",
     "text": [
      "[Epoch 191] Train Loss: 7.8809 | Val Loss: 8.0200\n",
      "  -> New best model saved at saved/best.pt\n",
      "Epoch 192/300\n"
     ]
    },
    {
     "name": "stderr",
     "output_type": "stream",
     "text": [
      "🚀 Validation: 100%|██████████| 3/3 [00:00<00:00, 189.91it/s, loss=7.9908]\n"
     ]
    },
    {
     "name": "stdout",
     "output_type": "stream",
     "text": [
      "[Epoch 192] Train Loss: 7.8680 | Val Loss: 8.0140\n",
      "  -> New best model saved at saved/best.pt\n",
      "Epoch 193/300\n"
     ]
    },
    {
     "name": "stderr",
     "output_type": "stream",
     "text": [
      "🚀 Validation: 100%|██████████| 3/3 [00:00<00:00, 177.56it/s, loss=7.9846]\n"
     ]
    },
    {
     "name": "stdout",
     "output_type": "stream",
     "text": [
      "[Epoch 193] Train Loss: 7.8658 | Val Loss: 8.0080\n",
      "  -> New best model saved at saved/best.pt\n",
      "Epoch 194/300\n"
     ]
    },
    {
     "name": "stderr",
     "output_type": "stream",
     "text": [
      "🚀 Validation: 100%|██████████| 3/3 [00:00<00:00, 213.69it/s, loss=7.9785]\n"
     ]
    },
    {
     "name": "stdout",
     "output_type": "stream",
     "text": [
      "[Epoch 194] Train Loss: 7.8610 | Val Loss: 8.0021\n",
      "  -> New best model saved at saved/best.pt\n",
      "Epoch 195/300\n"
     ]
    },
    {
     "name": "stderr",
     "output_type": "stream",
     "text": [
      "🚀 Validation: 100%|██████████| 3/3 [00:00<00:00, 193.12it/s, loss=7.9723]\n"
     ]
    },
    {
     "name": "stdout",
     "output_type": "stream",
     "text": [
      "[Epoch 195] Train Loss: 7.8542 | Val Loss: 7.9961\n",
      "  -> New best model saved at saved/best.pt\n",
      "Epoch 196/300\n"
     ]
    },
    {
     "name": "stderr",
     "output_type": "stream",
     "text": [
      "🚀 Validation: 100%|██████████| 3/3 [00:00<00:00, 205.82it/s, loss=7.9662]\n"
     ]
    },
    {
     "name": "stdout",
     "output_type": "stream",
     "text": [
      "[Epoch 196] Train Loss: 7.8463 | Val Loss: 7.9902\n",
      "  -> New best model saved at saved/best.pt\n",
      "Epoch 197/300\n"
     ]
    },
    {
     "name": "stderr",
     "output_type": "stream",
     "text": [
      "🚀 Validation: 100%|██████████| 3/3 [00:00<00:00, 184.25it/s, loss=7.9601]\n"
     ]
    },
    {
     "name": "stdout",
     "output_type": "stream",
     "text": [
      "[Epoch 197] Train Loss: 7.8431 | Val Loss: 7.9842\n",
      "  -> New best model saved at saved/best.pt\n",
      "Epoch 198/300\n"
     ]
    },
    {
     "name": "stderr",
     "output_type": "stream",
     "text": [
      "🚀 Validation: 100%|██████████| 3/3 [00:00<00:00, 203.38it/s, loss=7.9539]\n"
     ]
    },
    {
     "name": "stdout",
     "output_type": "stream",
     "text": [
      "[Epoch 198] Train Loss: 7.8378 | Val Loss: 7.9783\n",
      "  -> New best model saved at saved/best.pt\n",
      "Epoch 199/300\n"
     ]
    },
    {
     "name": "stderr",
     "output_type": "stream",
     "text": [
      "🚀 Validation: 100%|██████████| 3/3 [00:00<00:00, 147.59it/s, loss=7.9479]\n"
     ]
    },
    {
     "name": "stdout",
     "output_type": "stream",
     "text": [
      "[Epoch 199] Train Loss: 7.8204 | Val Loss: 7.9723\n",
      "  -> New best model saved at saved/best.pt\n",
      "Epoch 200/300\n"
     ]
    },
    {
     "name": "stderr",
     "output_type": "stream",
     "text": [
      "🚀 Validation: 100%|██████████| 3/3 [00:00<00:00, 198.99it/s, loss=7.9417]\n"
     ]
    },
    {
     "name": "stdout",
     "output_type": "stream",
     "text": [
      "[Epoch 200] Train Loss: 7.8190 | Val Loss: 7.9664\n",
      "  -> New best model saved at saved/best.pt\n",
      "Epoch 201/300\n"
     ]
    },
    {
     "name": "stderr",
     "output_type": "stream",
     "text": [
      "🚀 Validation: 100%|██████████| 3/3 [00:00<00:00, 186.07it/s, loss=7.9356]\n"
     ]
    },
    {
     "name": "stdout",
     "output_type": "stream",
     "text": [
      "[Epoch 201] Train Loss: 7.8159 | Val Loss: 7.9605\n",
      "  -> New best model saved at saved/best.pt\n",
      "Epoch 202/300\n"
     ]
    },
    {
     "name": "stderr",
     "output_type": "stream",
     "text": [
      "🚀 Validation: 100%|██████████| 3/3 [00:00<00:00, 178.08it/s, loss=7.9295]\n"
     ]
    },
    {
     "name": "stdout",
     "output_type": "stream",
     "text": [
      "[Epoch 202] Train Loss: 7.8030 | Val Loss: 7.9545\n",
      "  -> New best model saved at saved/best.pt\n",
      "Epoch 203/300\n"
     ]
    },
    {
     "name": "stderr",
     "output_type": "stream",
     "text": [
      "🚀 Validation: 100%|██████████| 3/3 [00:00<00:00, 164.14it/s, loss=7.9234]\n"
     ]
    },
    {
     "name": "stdout",
     "output_type": "stream",
     "text": [
      "[Epoch 203] Train Loss: 7.8055 | Val Loss: 7.9486\n",
      "  -> New best model saved at saved/best.pt\n",
      "Epoch 204/300\n"
     ]
    },
    {
     "name": "stderr",
     "output_type": "stream",
     "text": [
      "🚀 Validation: 100%|██████████| 3/3 [00:00<00:00, 203.21it/s, loss=7.9173]\n"
     ]
    },
    {
     "name": "stdout",
     "output_type": "stream",
     "text": [
      "[Epoch 204] Train Loss: 7.7921 | Val Loss: 7.9427\n",
      "  -> New best model saved at saved/best.pt\n",
      "Epoch 205/300\n"
     ]
    },
    {
     "name": "stderr",
     "output_type": "stream",
     "text": [
      "🚀 Validation: 100%|██████████| 3/3 [00:00<00:00, 137.26it/s, loss=7.9112]\n"
     ]
    },
    {
     "name": "stdout",
     "output_type": "stream",
     "text": [
      "[Epoch 205] Train Loss: 7.7926 | Val Loss: 7.9368\n",
      "  -> New best model saved at saved/best.pt\n",
      "Epoch 206/300\n"
     ]
    },
    {
     "name": "stderr",
     "output_type": "stream",
     "text": [
      "🚀 Validation: 100%|██████████| 3/3 [00:00<00:00, 199.98it/s, loss=7.9052]\n"
     ]
    },
    {
     "name": "stdout",
     "output_type": "stream",
     "text": [
      "[Epoch 206] Train Loss: 7.7800 | Val Loss: 7.9309\n",
      "  -> New best model saved at saved/best.pt\n",
      "Epoch 207/300\n"
     ]
    },
    {
     "name": "stderr",
     "output_type": "stream",
     "text": [
      "🚀 Validation: 100%|██████████| 3/3 [00:00<00:00, 186.80it/s, loss=7.8992]\n"
     ]
    },
    {
     "name": "stdout",
     "output_type": "stream",
     "text": [
      "[Epoch 207] Train Loss: 7.7727 | Val Loss: 7.9251\n",
      "  -> New best model saved at saved/best.pt\n",
      "Epoch 208/300\n"
     ]
    },
    {
     "name": "stderr",
     "output_type": "stream",
     "text": [
      "🚀 Validation: 100%|██████████| 3/3 [00:00<00:00, 133.32it/s, loss=7.8932]\n"
     ]
    },
    {
     "name": "stdout",
     "output_type": "stream",
     "text": [
      "[Epoch 208] Train Loss: 7.7601 | Val Loss: 7.9192\n",
      "  -> New best model saved at saved/best.pt\n",
      "Epoch 209/300\n"
     ]
    },
    {
     "name": "stderr",
     "output_type": "stream",
     "text": [
      "🚀 Validation: 100%|██████████| 3/3 [00:00<00:00, 190.29it/s, loss=7.8871]\n"
     ]
    },
    {
     "name": "stdout",
     "output_type": "stream",
     "text": [
      "[Epoch 209] Train Loss: 7.7618 | Val Loss: 7.9133\n",
      "  -> New best model saved at saved/best.pt\n",
      "Epoch 210/300\n"
     ]
    },
    {
     "name": "stderr",
     "output_type": "stream",
     "text": [
      "🚀 Validation: 100%|██████████| 3/3 [00:00<00:00, 208.94it/s, loss=7.8811]\n"
     ]
    },
    {
     "name": "stdout",
     "output_type": "stream",
     "text": [
      "[Epoch 210] Train Loss: 7.7538 | Val Loss: 7.9075\n",
      "  -> New best model saved at saved/best.pt\n",
      "Epoch 211/300\n"
     ]
    },
    {
     "name": "stderr",
     "output_type": "stream",
     "text": [
      "🚀 Validation: 100%|██████████| 3/3 [00:00<00:00, 175.29it/s, loss=7.8751]\n"
     ]
    },
    {
     "name": "stdout",
     "output_type": "stream",
     "text": [
      "[Epoch 211] Train Loss: 7.7499 | Val Loss: 7.9017\n",
      "  -> New best model saved at saved/best.pt\n",
      "Epoch 212/300\n"
     ]
    },
    {
     "name": "stderr",
     "output_type": "stream",
     "text": [
      "🚀 Validation: 100%|██████████| 3/3 [00:00<00:00, 189.68it/s, loss=7.8691]\n"
     ]
    },
    {
     "name": "stdout",
     "output_type": "stream",
     "text": [
      "[Epoch 212] Train Loss: 7.7432 | Val Loss: 7.8959\n",
      "  -> New best model saved at saved/best.pt\n",
      "Epoch 213/300\n"
     ]
    },
    {
     "name": "stderr",
     "output_type": "stream",
     "text": [
      "🚀 Validation: 100%|██████████| 3/3 [00:00<00:00, 181.31it/s, loss=7.8631]\n"
     ]
    },
    {
     "name": "stdout",
     "output_type": "stream",
     "text": [
      "[Epoch 213] Train Loss: 7.7385 | Val Loss: 7.8901\n",
      "  -> New best model saved at saved/best.pt\n",
      "Epoch 214/300\n"
     ]
    },
    {
     "name": "stderr",
     "output_type": "stream",
     "text": [
      "🚀 Validation: 100%|██████████| 3/3 [00:00<00:00, 215.55it/s, loss=7.8572]\n"
     ]
    },
    {
     "name": "stdout",
     "output_type": "stream",
     "text": [
      "[Epoch 214] Train Loss: 7.7250 | Val Loss: 7.8843\n",
      "  -> New best model saved at saved/best.pt\n",
      "Epoch 215/300\n"
     ]
    },
    {
     "name": "stderr",
     "output_type": "stream",
     "text": [
      "🚀 Validation: 100%|██████████| 3/3 [00:00<00:00, 181.69it/s, loss=7.8513]\n"
     ]
    },
    {
     "name": "stdout",
     "output_type": "stream",
     "text": [
      "[Epoch 215] Train Loss: 7.7203 | Val Loss: 7.8786\n",
      "  -> New best model saved at saved/best.pt\n",
      "Epoch 216/300\n"
     ]
    },
    {
     "name": "stderr",
     "output_type": "stream",
     "text": [
      "🚀 Validation: 100%|██████████| 3/3 [00:00<00:00, 199.59it/s, loss=7.8454]\n"
     ]
    },
    {
     "name": "stdout",
     "output_type": "stream",
     "text": [
      "[Epoch 216] Train Loss: 7.7158 | Val Loss: 7.8729\n",
      "  -> New best model saved at saved/best.pt\n",
      "Epoch 217/300\n"
     ]
    },
    {
     "name": "stderr",
     "output_type": "stream",
     "text": [
      "🚀 Validation: 100%|██████████| 3/3 [00:00<00:00, 195.78it/s, loss=7.8395]\n"
     ]
    },
    {
     "name": "stdout",
     "output_type": "stream",
     "text": [
      "[Epoch 217] Train Loss: 7.7035 | Val Loss: 7.8672\n",
      "  -> New best model saved at saved/best.pt\n",
      "Epoch 218/300\n"
     ]
    },
    {
     "name": "stderr",
     "output_type": "stream",
     "text": [
      "🚀 Validation: 100%|██████████| 3/3 [00:00<00:00, 182.50it/s, loss=7.8336]\n"
     ]
    },
    {
     "name": "stdout",
     "output_type": "stream",
     "text": [
      "[Epoch 218] Train Loss: 7.6990 | Val Loss: 7.8615\n",
      "  -> New best model saved at saved/best.pt\n",
      "Epoch 219/300\n"
     ]
    },
    {
     "name": "stderr",
     "output_type": "stream",
     "text": [
      "🚀 Validation: 100%|██████████| 3/3 [00:00<00:00, 189.68it/s, loss=7.8278]\n"
     ]
    },
    {
     "name": "stdout",
     "output_type": "stream",
     "text": [
      "[Epoch 219] Train Loss: 7.6940 | Val Loss: 7.8558\n",
      "  -> New best model saved at saved/best.pt\n",
      "Epoch 220/300\n"
     ]
    },
    {
     "name": "stderr",
     "output_type": "stream",
     "text": [
      "🚀 Validation: 100%|██████████| 3/3 [00:00<00:00, 204.27it/s, loss=7.8219]\n"
     ]
    },
    {
     "name": "stdout",
     "output_type": "stream",
     "text": [
      "[Epoch 220] Train Loss: 7.6883 | Val Loss: 7.8501\n",
      "  -> New best model saved at saved/best.pt\n",
      "Epoch 221/300\n"
     ]
    },
    {
     "name": "stderr",
     "output_type": "stream",
     "text": [
      "🚀 Validation: 100%|██████████| 3/3 [00:00<00:00, 97.11it/s, loss=7.8161]\n"
     ]
    },
    {
     "name": "stdout",
     "output_type": "stream",
     "text": [
      "[Epoch 221] Train Loss: 7.6857 | Val Loss: 7.8445\n",
      "  -> New best model saved at saved/best.pt\n",
      "Epoch 222/300\n"
     ]
    },
    {
     "name": "stderr",
     "output_type": "stream",
     "text": [
      "🚀 Validation: 100%|██████████| 3/3 [00:00<00:00, 173.05it/s, loss=7.8103]\n"
     ]
    },
    {
     "name": "stdout",
     "output_type": "stream",
     "text": [
      "[Epoch 222] Train Loss: 7.6741 | Val Loss: 7.8388\n",
      "  -> New best model saved at saved/best.pt\n",
      "Epoch 223/300\n"
     ]
    },
    {
     "name": "stderr",
     "output_type": "stream",
     "text": [
      "🚀 Validation: 100%|██████████| 3/3 [00:00<00:00, 177.89it/s, loss=7.8046]\n"
     ]
    },
    {
     "name": "stdout",
     "output_type": "stream",
     "text": [
      "[Epoch 223] Train Loss: 7.6706 | Val Loss: 7.8332\n",
      "  -> New best model saved at saved/best.pt\n",
      "Epoch 224/300\n"
     ]
    },
    {
     "name": "stderr",
     "output_type": "stream",
     "text": [
      "🚀 Validation: 100%|██████████| 3/3 [00:00<00:00, 211.60it/s, loss=7.7988]\n"
     ]
    },
    {
     "name": "stdout",
     "output_type": "stream",
     "text": [
      "[Epoch 224] Train Loss: 7.6631 | Val Loss: 7.8276\n",
      "  -> New best model saved at saved/best.pt\n",
      "Epoch 225/300\n"
     ]
    },
    {
     "name": "stderr",
     "output_type": "stream",
     "text": [
      "🚀 Validation: 100%|██████████| 3/3 [00:00<00:00, 164.91it/s, loss=7.7931]\n"
     ]
    },
    {
     "name": "stdout",
     "output_type": "stream",
     "text": [
      "[Epoch 225] Train Loss: 7.6595 | Val Loss: 7.8220\n",
      "  -> New best model saved at saved/best.pt\n",
      "Epoch 226/300\n"
     ]
    },
    {
     "name": "stderr",
     "output_type": "stream",
     "text": [
      "🚀 Validation: 100%|██████████| 3/3 [00:00<00:00, 194.93it/s, loss=7.7874]\n"
     ]
    },
    {
     "name": "stdout",
     "output_type": "stream",
     "text": [
      "[Epoch 226] Train Loss: 7.6484 | Val Loss: 7.8165\n",
      "  -> New best model saved at saved/best.pt\n",
      "Epoch 227/300\n"
     ]
    },
    {
     "name": "stderr",
     "output_type": "stream",
     "text": [
      "🚀 Validation: 100%|██████████| 3/3 [00:00<00:00, 185.60it/s, loss=7.7817]\n"
     ]
    },
    {
     "name": "stdout",
     "output_type": "stream",
     "text": [
      "[Epoch 227] Train Loss: 7.6470 | Val Loss: 7.8109\n",
      "  -> New best model saved at saved/best.pt\n",
      "Epoch 228/300\n"
     ]
    },
    {
     "name": "stderr",
     "output_type": "stream",
     "text": [
      "🚀 Validation: 100%|██████████| 3/3 [00:00<00:00, 191.55it/s, loss=7.7760]\n"
     ]
    },
    {
     "name": "stdout",
     "output_type": "stream",
     "text": [
      "[Epoch 228] Train Loss: 7.6375 | Val Loss: 7.8054\n",
      "  -> New best model saved at saved/best.pt\n",
      "Epoch 229/300\n"
     ]
    },
    {
     "name": "stderr",
     "output_type": "stream",
     "text": [
      "🚀 Validation: 100%|██████████| 3/3 [00:00<00:00, 191.98it/s, loss=7.7703]\n"
     ]
    },
    {
     "name": "stdout",
     "output_type": "stream",
     "text": [
      "[Epoch 229] Train Loss: 7.6302 | Val Loss: 7.7999\n",
      "  -> New best model saved at saved/best.pt\n",
      "Epoch 230/300\n"
     ]
    },
    {
     "name": "stderr",
     "output_type": "stream",
     "text": [
      "🚀 Validation: 100%|██████████| 3/3 [00:00<00:00, 213.68it/s, loss=7.7647]\n"
     ]
    },
    {
     "name": "stdout",
     "output_type": "stream",
     "text": [
      "[Epoch 230] Train Loss: 7.6261 | Val Loss: 7.7944\n",
      "  -> New best model saved at saved/best.pt\n",
      "Epoch 231/300\n"
     ]
    },
    {
     "name": "stderr",
     "output_type": "stream",
     "text": [
      "🚀 Validation: 100%|██████████| 3/3 [00:00<00:00, 116.47it/s, loss=7.7591]\n"
     ]
    },
    {
     "name": "stdout",
     "output_type": "stream",
     "text": [
      "[Epoch 231] Train Loss: 7.6213 | Val Loss: 7.7890\n",
      "  -> New best model saved at saved/best.pt\n",
      "Epoch 232/300\n"
     ]
    },
    {
     "name": "stderr",
     "output_type": "stream",
     "text": [
      "🚀 Validation: 100%|██████████| 3/3 [00:00<00:00, 207.43it/s, loss=7.7535]\n"
     ]
    },
    {
     "name": "stdout",
     "output_type": "stream",
     "text": [
      "[Epoch 232] Train Loss: 7.6207 | Val Loss: 7.7835\n",
      "  -> New best model saved at saved/best.pt\n",
      "Epoch 233/300\n"
     ]
    },
    {
     "name": "stderr",
     "output_type": "stream",
     "text": [
      "🚀 Validation: 100%|██████████| 3/3 [00:00<00:00, 193.95it/s, loss=7.7479]\n"
     ]
    },
    {
     "name": "stdout",
     "output_type": "stream",
     "text": [
      "[Epoch 233] Train Loss: 7.6006 | Val Loss: 7.7781\n",
      "  -> New best model saved at saved/best.pt\n",
      "Epoch 234/300\n"
     ]
    },
    {
     "name": "stderr",
     "output_type": "stream",
     "text": [
      "🚀 Validation: 100%|██████████| 3/3 [00:00<00:00, 175.68it/s, loss=7.7423]\n"
     ]
    },
    {
     "name": "stdout",
     "output_type": "stream",
     "text": [
      "[Epoch 234] Train Loss: 7.6022 | Val Loss: 7.7727\n",
      "  -> New best model saved at saved/best.pt\n",
      "Epoch 235/300\n"
     ]
    },
    {
     "name": "stderr",
     "output_type": "stream",
     "text": [
      "🚀 Validation: 100%|██████████| 3/3 [00:00<00:00, 184.22it/s, loss=7.7368]\n"
     ]
    },
    {
     "name": "stdout",
     "output_type": "stream",
     "text": [
      "[Epoch 235] Train Loss: 7.5970 | Val Loss: 7.7672\n",
      "  -> New best model saved at saved/best.pt\n",
      "Epoch 236/300\n"
     ]
    },
    {
     "name": "stderr",
     "output_type": "stream",
     "text": [
      "🚀 Validation: 100%|██████████| 3/3 [00:00<00:00, 213.31it/s, loss=7.7312]\n"
     ]
    },
    {
     "name": "stdout",
     "output_type": "stream",
     "text": [
      "[Epoch 236] Train Loss: 7.5860 | Val Loss: 7.7619\n",
      "  -> New best model saved at saved/best.pt\n",
      "Epoch 237/300\n"
     ]
    },
    {
     "name": "stderr",
     "output_type": "stream",
     "text": [
      "🚀 Validation: 100%|██████████| 3/3 [00:00<00:00, 186.58it/s, loss=7.7257]\n"
     ]
    },
    {
     "name": "stdout",
     "output_type": "stream",
     "text": [
      "[Epoch 237] Train Loss: 7.5833 | Val Loss: 7.7565\n",
      "  -> New best model saved at saved/best.pt\n",
      "Epoch 238/300\n"
     ]
    },
    {
     "name": "stderr",
     "output_type": "stream",
     "text": [
      "🚀 Validation: 100%|██████████| 3/3 [00:00<00:00, 199.22it/s, loss=7.7202]\n"
     ]
    },
    {
     "name": "stdout",
     "output_type": "stream",
     "text": [
      "[Epoch 238] Train Loss: 7.5729 | Val Loss: 7.7511\n",
      "  -> New best model saved at saved/best.pt\n",
      "Epoch 239/300\n"
     ]
    },
    {
     "name": "stderr",
     "output_type": "stream",
     "text": [
      "🚀 Validation: 100%|██████████| 3/3 [00:00<00:00, 197.15it/s, loss=7.7148]\n"
     ]
    },
    {
     "name": "stdout",
     "output_type": "stream",
     "text": [
      "[Epoch 239] Train Loss: 7.5742 | Val Loss: 7.7458\n",
      "  -> New best model saved at saved/best.pt\n",
      "Epoch 240/300\n"
     ]
    },
    {
     "name": "stderr",
     "output_type": "stream",
     "text": [
      "🚀 Validation: 100%|██████████| 3/3 [00:00<00:00, 210.88it/s, loss=7.7094]\n"
     ]
    },
    {
     "name": "stdout",
     "output_type": "stream",
     "text": [
      "[Epoch 240] Train Loss: 7.5662 | Val Loss: 7.7406\n",
      "  -> New best model saved at saved/best.pt\n",
      "Epoch 241/300\n"
     ]
    },
    {
     "name": "stderr",
     "output_type": "stream",
     "text": [
      "🚀 Validation: 100%|██████████| 3/3 [00:00<00:00, 171.41it/s, loss=7.7040]\n"
     ]
    },
    {
     "name": "stdout",
     "output_type": "stream",
     "text": [
      "[Epoch 241] Train Loss: 7.5649 | Val Loss: 7.7353\n",
      "  -> New best model saved at saved/best.pt\n",
      "Epoch 242/300\n"
     ]
    },
    {
     "name": "stderr",
     "output_type": "stream",
     "text": [
      "🚀 Validation: 100%|██████████| 3/3 [00:00<00:00, 185.54it/s, loss=7.6986]\n"
     ]
    },
    {
     "name": "stdout",
     "output_type": "stream",
     "text": [
      "[Epoch 242] Train Loss: 7.5559 | Val Loss: 7.7300\n",
      "  -> New best model saved at saved/best.pt\n",
      "Epoch 243/300\n"
     ]
    },
    {
     "name": "stderr",
     "output_type": "stream",
     "text": [
      "🚀 Validation: 100%|██████████| 3/3 [00:00<00:00, 172.83it/s, loss=7.6932]\n"
     ]
    },
    {
     "name": "stdout",
     "output_type": "stream",
     "text": [
      "[Epoch 243] Train Loss: 7.5549 | Val Loss: 7.7248\n",
      "  -> New best model saved at saved/best.pt\n",
      "Epoch 244/300\n"
     ]
    },
    {
     "name": "stderr",
     "output_type": "stream",
     "text": [
      "🚀 Validation: 100%|██████████| 3/3 [00:00<00:00, 177.16it/s, loss=7.6879]\n"
     ]
    },
    {
     "name": "stdout",
     "output_type": "stream",
     "text": [
      "[Epoch 244] Train Loss: 7.5369 | Val Loss: 7.7196\n",
      "  -> New best model saved at saved/best.pt\n",
      "Epoch 245/300\n"
     ]
    },
    {
     "name": "stderr",
     "output_type": "stream",
     "text": [
      "🚀 Validation: 100%|██████████| 3/3 [00:00<00:00, 174.93it/s, loss=7.6825]\n"
     ]
    },
    {
     "name": "stdout",
     "output_type": "stream",
     "text": [
      "[Epoch 245] Train Loss: 7.5401 | Val Loss: 7.7144\n",
      "  -> New best model saved at saved/best.pt\n",
      "Epoch 246/300\n"
     ]
    },
    {
     "name": "stderr",
     "output_type": "stream",
     "text": [
      "🚀 Validation: 100%|██████████| 3/3 [00:00<00:00, 203.71it/s, loss=7.6772]\n"
     ]
    },
    {
     "name": "stdout",
     "output_type": "stream",
     "text": [
      "[Epoch 246] Train Loss: 7.5308 | Val Loss: 7.7092\n",
      "  -> New best model saved at saved/best.pt\n",
      "Epoch 247/300\n"
     ]
    },
    {
     "name": "stderr",
     "output_type": "stream",
     "text": [
      "🚀 Validation: 100%|██████████| 3/3 [00:00<00:00, 118.93it/s, loss=7.6719]\n"
     ]
    },
    {
     "name": "stdout",
     "output_type": "stream",
     "text": [
      "[Epoch 247] Train Loss: 7.5277 | Val Loss: 7.7041\n",
      "  -> New best model saved at saved/best.pt\n",
      "Epoch 248/300\n"
     ]
    },
    {
     "name": "stderr",
     "output_type": "stream",
     "text": [
      "🚀 Validation: 100%|██████████| 3/3 [00:00<00:00, 192.23it/s, loss=7.6667]\n"
     ]
    },
    {
     "name": "stdout",
     "output_type": "stream",
     "text": [
      "[Epoch 248] Train Loss: 7.5228 | Val Loss: 7.6990\n",
      "  -> New best model saved at saved/best.pt\n",
      "Epoch 249/300\n"
     ]
    },
    {
     "name": "stderr",
     "output_type": "stream",
     "text": [
      "🚀 Validation: 100%|██████████| 3/3 [00:00<00:00, 177.79it/s, loss=7.6614]\n"
     ]
    },
    {
     "name": "stdout",
     "output_type": "stream",
     "text": [
      "[Epoch 249] Train Loss: 7.5065 | Val Loss: 7.6939\n",
      "  -> New best model saved at saved/best.pt\n",
      "Epoch 250/300\n"
     ]
    },
    {
     "name": "stderr",
     "output_type": "stream",
     "text": [
      "🚀 Validation: 100%|██████████| 3/3 [00:00<00:00, 210.01it/s, loss=7.6562]\n"
     ]
    },
    {
     "name": "stdout",
     "output_type": "stream",
     "text": [
      "[Epoch 250] Train Loss: 7.5091 | Val Loss: 7.6888\n",
      "  -> New best model saved at saved/best.pt\n",
      "Epoch 251/300\n"
     ]
    },
    {
     "name": "stderr",
     "output_type": "stream",
     "text": [
      "🚀 Validation: 100%|██████████| 3/3 [00:00<00:00, 134.21it/s, loss=7.6510]\n"
     ]
    },
    {
     "name": "stdout",
     "output_type": "stream",
     "text": [
      "[Epoch 251] Train Loss: 7.4990 | Val Loss: 7.6837\n",
      "  -> New best model saved at saved/best.pt\n",
      "Epoch 252/300\n"
     ]
    },
    {
     "name": "stderr",
     "output_type": "stream",
     "text": [
      "🚀 Validation: 100%|██████████| 3/3 [00:00<00:00, 204.58it/s, loss=7.6458]\n"
     ]
    },
    {
     "name": "stdout",
     "output_type": "stream",
     "text": [
      "[Epoch 252] Train Loss: 7.5020 | Val Loss: 7.6787\n",
      "  -> New best model saved at saved/best.pt\n",
      "Epoch 253/300\n"
     ]
    },
    {
     "name": "stderr",
     "output_type": "stream",
     "text": [
      "🚀 Validation: 100%|██████████| 3/3 [00:00<00:00, 194.81it/s, loss=7.6406]\n"
     ]
    },
    {
     "name": "stdout",
     "output_type": "stream",
     "text": [
      "[Epoch 253] Train Loss: 7.4873 | Val Loss: 7.6736\n",
      "  -> New best model saved at saved/best.pt\n",
      "Epoch 254/300\n"
     ]
    },
    {
     "name": "stderr",
     "output_type": "stream",
     "text": [
      "🚀 Validation: 100%|██████████| 3/3 [00:00<00:00, 146.32it/s, loss=7.6354]\n"
     ]
    },
    {
     "name": "stdout",
     "output_type": "stream",
     "text": [
      "[Epoch 254] Train Loss: 7.4768 | Val Loss: 7.6686\n",
      "  -> New best model saved at saved/best.pt\n",
      "Epoch 255/300\n"
     ]
    },
    {
     "name": "stderr",
     "output_type": "stream",
     "text": [
      "🚀 Validation: 100%|██████████| 3/3 [00:00<00:00, 191.50it/s, loss=7.6303]\n"
     ]
    },
    {
     "name": "stdout",
     "output_type": "stream",
     "text": [
      "[Epoch 255] Train Loss: 7.4812 | Val Loss: 7.6636\n",
      "  -> New best model saved at saved/best.pt\n",
      "Epoch 256/300\n"
     ]
    },
    {
     "name": "stderr",
     "output_type": "stream",
     "text": [
      "🚀 Validation: 100%|██████████| 3/3 [00:00<00:00, 218.61it/s, loss=7.6251]\n"
     ]
    },
    {
     "name": "stdout",
     "output_type": "stream",
     "text": [
      "[Epoch 256] Train Loss: 7.4695 | Val Loss: 7.6585\n",
      "  -> New best model saved at saved/best.pt\n",
      "Epoch 257/300\n"
     ]
    },
    {
     "name": "stderr",
     "output_type": "stream",
     "text": [
      "🚀 Validation: 100%|██████████| 3/3 [00:00<00:00, 196.53it/s, loss=7.6200]\n"
     ]
    },
    {
     "name": "stdout",
     "output_type": "stream",
     "text": [
      "[Epoch 257] Train Loss: 7.4708 | Val Loss: 7.6536\n",
      "  -> New best model saved at saved/best.pt\n",
      "Epoch 258/300\n"
     ]
    },
    {
     "name": "stderr",
     "output_type": "stream",
     "text": [
      "🚀 Validation: 100%|██████████| 3/3 [00:00<00:00, 189.39it/s, loss=7.6150]\n"
     ]
    },
    {
     "name": "stdout",
     "output_type": "stream",
     "text": [
      "[Epoch 258] Train Loss: 7.4653 | Val Loss: 7.6487\n",
      "  -> New best model saved at saved/best.pt\n",
      "Epoch 259/300\n"
     ]
    },
    {
     "name": "stderr",
     "output_type": "stream",
     "text": [
      "🚀 Validation: 100%|██████████| 3/3 [00:00<00:00, 197.34it/s, loss=7.6099]\n"
     ]
    },
    {
     "name": "stdout",
     "output_type": "stream",
     "text": [
      "[Epoch 259] Train Loss: 7.4571 | Val Loss: 7.6437\n",
      "  -> New best model saved at saved/best.pt\n",
      "Epoch 260/300\n"
     ]
    },
    {
     "name": "stderr",
     "output_type": "stream",
     "text": [
      "🚀 Validation: 100%|██████████| 3/3 [00:00<00:00, 215.62it/s, loss=7.6048]\n"
     ]
    },
    {
     "name": "stdout",
     "output_type": "stream",
     "text": [
      "[Epoch 260] Train Loss: 7.4522 | Val Loss: 7.6388\n",
      "  -> New best model saved at saved/best.pt\n",
      "Epoch 261/300\n"
     ]
    },
    {
     "name": "stderr",
     "output_type": "stream",
     "text": [
      "🚀 Validation: 100%|██████████| 3/3 [00:00<00:00, 198.40it/s, loss=7.5998]\n"
     ]
    },
    {
     "name": "stdout",
     "output_type": "stream",
     "text": [
      "[Epoch 261] Train Loss: 7.4421 | Val Loss: 7.6339\n",
      "  -> New best model saved at saved/best.pt\n",
      "Epoch 262/300\n"
     ]
    },
    {
     "name": "stderr",
     "output_type": "stream",
     "text": [
      "🚀 Validation: 100%|██████████| 3/3 [00:00<00:00, 204.05it/s, loss=7.5948]\n"
     ]
    },
    {
     "name": "stdout",
     "output_type": "stream",
     "text": [
      "[Epoch 262] Train Loss: 7.4377 | Val Loss: 7.6291\n",
      "  -> New best model saved at saved/best.pt\n",
      "Epoch 263/300\n"
     ]
    },
    {
     "name": "stderr",
     "output_type": "stream",
     "text": [
      "🚀 Validation: 100%|██████████| 3/3 [00:00<00:00, 189.87it/s, loss=7.5898]\n"
     ]
    },
    {
     "name": "stdout",
     "output_type": "stream",
     "text": [
      "[Epoch 263] Train Loss: 7.4364 | Val Loss: 7.6242\n",
      "  -> New best model saved at saved/best.pt\n",
      "Epoch 264/300\n"
     ]
    },
    {
     "name": "stderr",
     "output_type": "stream",
     "text": [
      "🚀 Validation: 100%|██████████| 3/3 [00:00<00:00, 216.33it/s, loss=7.5849]\n"
     ]
    },
    {
     "name": "stdout",
     "output_type": "stream",
     "text": [
      "[Epoch 264] Train Loss: 7.4240 | Val Loss: 7.6194\n",
      "  -> New best model saved at saved/best.pt\n",
      "Epoch 265/300\n"
     ]
    },
    {
     "name": "stderr",
     "output_type": "stream",
     "text": [
      "🚀 Validation: 100%|██████████| 3/3 [00:00<00:00, 205.59it/s, loss=7.5800]\n"
     ]
    },
    {
     "name": "stdout",
     "output_type": "stream",
     "text": [
      "[Epoch 265] Train Loss: 7.4238 | Val Loss: 7.6146\n",
      "  -> New best model saved at saved/best.pt\n",
      "Epoch 266/300\n"
     ]
    },
    {
     "name": "stderr",
     "output_type": "stream",
     "text": [
      "🚀 Validation: 100%|██████████| 3/3 [00:00<00:00, 201.83it/s, loss=7.5751]\n"
     ]
    },
    {
     "name": "stdout",
     "output_type": "stream",
     "text": [
      "[Epoch 266] Train Loss: 7.4047 | Val Loss: 7.6098\n",
      "  -> New best model saved at saved/best.pt\n",
      "Epoch 267/300\n"
     ]
    },
    {
     "name": "stderr",
     "output_type": "stream",
     "text": [
      "🚀 Validation: 100%|██████████| 3/3 [00:00<00:00, 200.29it/s, loss=7.5702]\n"
     ]
    },
    {
     "name": "stdout",
     "output_type": "stream",
     "text": [
      "[Epoch 267] Train Loss: 7.4091 | Val Loss: 7.6051\n",
      "  -> New best model saved at saved/best.pt\n",
      "Epoch 268/300\n"
     ]
    },
    {
     "name": "stderr",
     "output_type": "stream",
     "text": [
      "🚀 Validation: 100%|██████████| 3/3 [00:00<00:00, 197.31it/s, loss=7.5653]\n"
     ]
    },
    {
     "name": "stdout",
     "output_type": "stream",
     "text": [
      "[Epoch 268] Train Loss: 7.4138 | Val Loss: 7.6004\n",
      "  -> New best model saved at saved/best.pt\n",
      "Epoch 269/300\n"
     ]
    },
    {
     "name": "stderr",
     "output_type": "stream",
     "text": [
      "🚀 Validation: 100%|██████████| 3/3 [00:00<00:00, 111.42it/s, loss=7.5605]\n"
     ]
    },
    {
     "name": "stdout",
     "output_type": "stream",
     "text": [
      "[Epoch 269] Train Loss: 7.3997 | Val Loss: 7.5956\n",
      "  -> New best model saved at saved/best.pt\n",
      "Epoch 270/300\n"
     ]
    },
    {
     "name": "stderr",
     "output_type": "stream",
     "text": [
      "🚀 Validation: 100%|██████████| 3/3 [00:00<00:00, 212.10it/s, loss=7.5556]\n"
     ]
    },
    {
     "name": "stdout",
     "output_type": "stream",
     "text": [
      "[Epoch 270] Train Loss: 7.3908 | Val Loss: 7.5909\n",
      "  -> New best model saved at saved/best.pt\n",
      "Epoch 271/300\n"
     ]
    },
    {
     "name": "stderr",
     "output_type": "stream",
     "text": [
      "🚀 Validation: 100%|██████████| 3/3 [00:00<00:00, 196.48it/s, loss=7.5508]\n"
     ]
    },
    {
     "name": "stdout",
     "output_type": "stream",
     "text": [
      "[Epoch 271] Train Loss: 7.3899 | Val Loss: 7.5862\n",
      "  -> New best model saved at saved/best.pt\n",
      "Epoch 272/300\n"
     ]
    },
    {
     "name": "stderr",
     "output_type": "stream",
     "text": [
      "🚀 Validation: 100%|██████████| 3/3 [00:00<00:00, 218.99it/s, loss=7.5460]\n"
     ]
    },
    {
     "name": "stdout",
     "output_type": "stream",
     "text": [
      "[Epoch 272] Train Loss: 7.3911 | Val Loss: 7.5815\n",
      "  -> New best model saved at saved/best.pt\n",
      "Epoch 273/300\n"
     ]
    },
    {
     "name": "stderr",
     "output_type": "stream",
     "text": [
      "🚀 Validation: 100%|██████████| 3/3 [00:00<00:00, 186.19it/s, loss=7.5413]\n"
     ]
    },
    {
     "name": "stdout",
     "output_type": "stream",
     "text": [
      "[Epoch 273] Train Loss: 7.3815 | Val Loss: 7.5769\n",
      "  -> New best model saved at saved/best.pt\n",
      "Epoch 274/300\n"
     ]
    },
    {
     "name": "stderr",
     "output_type": "stream",
     "text": [
      "🚀 Validation: 100%|██████████| 3/3 [00:00<00:00, 210.47it/s, loss=7.5365]\n"
     ]
    },
    {
     "name": "stdout",
     "output_type": "stream",
     "text": [
      "[Epoch 274] Train Loss: 7.3743 | Val Loss: 7.5723\n",
      "  -> New best model saved at saved/best.pt\n",
      "Epoch 275/300\n"
     ]
    },
    {
     "name": "stderr",
     "output_type": "stream",
     "text": [
      "🚀 Validation: 100%|██████████| 3/3 [00:00<00:00, 194.69it/s, loss=7.5318]\n"
     ]
    },
    {
     "name": "stdout",
     "output_type": "stream",
     "text": [
      "[Epoch 275] Train Loss: 7.3590 | Val Loss: 7.5677\n",
      "  -> New best model saved at saved/best.pt\n",
      "Epoch 276/300\n"
     ]
    },
    {
     "name": "stderr",
     "output_type": "stream",
     "text": [
      "🚀 Validation: 100%|██████████| 3/3 [00:00<00:00, 196.23it/s, loss=7.5271]\n"
     ]
    },
    {
     "name": "stdout",
     "output_type": "stream",
     "text": [
      "[Epoch 276] Train Loss: 7.3638 | Val Loss: 7.5631\n",
      "  -> New best model saved at saved/best.pt\n",
      "Epoch 277/300\n"
     ]
    },
    {
     "name": "stderr",
     "output_type": "stream",
     "text": [
      "🚀 Validation: 100%|██████████| 3/3 [00:00<00:00, 197.34it/s, loss=7.5224]\n"
     ]
    },
    {
     "name": "stdout",
     "output_type": "stream",
     "text": [
      "[Epoch 277] Train Loss: 7.3652 | Val Loss: 7.5585\n",
      "  -> New best model saved at saved/best.pt\n",
      "Epoch 278/300\n"
     ]
    },
    {
     "name": "stderr",
     "output_type": "stream",
     "text": [
      "🚀 Validation: 100%|██████████| 3/3 [00:00<00:00, 222.62it/s, loss=7.5178]\n"
     ]
    },
    {
     "name": "stdout",
     "output_type": "stream",
     "text": [
      "[Epoch 278] Train Loss: 7.3534 | Val Loss: 7.5540\n",
      "  -> New best model saved at saved/best.pt\n",
      "Epoch 279/300\n"
     ]
    },
    {
     "name": "stderr",
     "output_type": "stream",
     "text": [
      "🚀 Validation: 100%|██████████| 3/3 [00:00<00:00, 190.30it/s, loss=7.5131]\n"
     ]
    },
    {
     "name": "stdout",
     "output_type": "stream",
     "text": [
      "[Epoch 279] Train Loss: 7.3507 | Val Loss: 7.5495\n",
      "  -> New best model saved at saved/best.pt\n",
      "Epoch 280/300\n"
     ]
    },
    {
     "name": "stderr",
     "output_type": "stream",
     "text": [
      "🚀 Validation: 100%|██████████| 3/3 [00:00<00:00, 196.09it/s, loss=7.5085]\n"
     ]
    },
    {
     "name": "stdout",
     "output_type": "stream",
     "text": [
      "[Epoch 280] Train Loss: 7.3471 | Val Loss: 7.5450\n",
      "  -> New best model saved at saved/best.pt\n",
      "Epoch 281/300\n"
     ]
    },
    {
     "name": "stderr",
     "output_type": "stream",
     "text": [
      "🚀 Validation: 100%|██████████| 3/3 [00:00<00:00, 195.07it/s, loss=7.5039]\n"
     ]
    },
    {
     "name": "stdout",
     "output_type": "stream",
     "text": [
      "[Epoch 281] Train Loss: 7.3398 | Val Loss: 7.5405\n",
      "  -> New best model saved at saved/best.pt\n",
      "Epoch 282/300\n"
     ]
    },
    {
     "name": "stderr",
     "output_type": "stream",
     "text": [
      "🚀 Validation: 100%|██████████| 3/3 [00:00<00:00, 215.84it/s, loss=7.4993]\n"
     ]
    },
    {
     "name": "stdout",
     "output_type": "stream",
     "text": [
      "[Epoch 282] Train Loss: 7.3331 | Val Loss: 7.5360\n",
      "  -> New best model saved at saved/best.pt\n",
      "Epoch 283/300\n"
     ]
    },
    {
     "name": "stderr",
     "output_type": "stream",
     "text": [
      "🚀 Validation: 100%|██████████| 3/3 [00:00<00:00, 172.04it/s, loss=7.4948]\n"
     ]
    },
    {
     "name": "stdout",
     "output_type": "stream",
     "text": [
      "[Epoch 283] Train Loss: 7.3345 | Val Loss: 7.5316\n",
      "  -> New best model saved at saved/best.pt\n",
      "Epoch 284/300\n"
     ]
    },
    {
     "name": "stderr",
     "output_type": "stream",
     "text": [
      "🚀 Validation: 100%|██████████| 3/3 [00:00<00:00, 196.70it/s, loss=7.4902]\n"
     ]
    },
    {
     "name": "stdout",
     "output_type": "stream",
     "text": [
      "[Epoch 284] Train Loss: 7.3197 | Val Loss: 7.5271\n",
      "  -> New best model saved at saved/best.pt\n",
      "Epoch 285/300\n"
     ]
    },
    {
     "name": "stderr",
     "output_type": "stream",
     "text": [
      "🚀 Validation: 100%|██████████| 3/3 [00:00<00:00, 181.53it/s, loss=7.4857]\n"
     ]
    },
    {
     "name": "stdout",
     "output_type": "stream",
     "text": [
      "[Epoch 285] Train Loss: 7.3180 | Val Loss: 7.5227\n",
      "  -> New best model saved at saved/best.pt\n",
      "Epoch 286/300\n"
     ]
    },
    {
     "name": "stderr",
     "output_type": "stream",
     "text": [
      "🚀 Validation: 100%|██████████| 3/3 [00:00<00:00, 226.60it/s, loss=7.4812]\n"
     ]
    },
    {
     "name": "stdout",
     "output_type": "stream",
     "text": [
      "[Epoch 286] Train Loss: 7.3093 | Val Loss: 7.5184\n",
      "  -> New best model saved at saved/best.pt\n",
      "Epoch 287/300\n"
     ]
    },
    {
     "name": "stderr",
     "output_type": "stream",
     "text": [
      "🚀 Validation: 100%|██████████| 3/3 [00:00<00:00, 128.61it/s, loss=7.4767]\n"
     ]
    },
    {
     "name": "stdout",
     "output_type": "stream",
     "text": [
      "[Epoch 287] Train Loss: 7.3075 | Val Loss: 7.5140\n",
      "  -> New best model saved at saved/best.pt\n",
      "Epoch 288/300\n"
     ]
    },
    {
     "name": "stderr",
     "output_type": "stream",
     "text": [
      "🚀 Validation: 100%|██████████| 3/3 [00:00<00:00, 208.18it/s, loss=7.4722]\n"
     ]
    },
    {
     "name": "stdout",
     "output_type": "stream",
     "text": [
      "[Epoch 288] Train Loss: 7.3047 | Val Loss: 7.5096\n",
      "  -> New best model saved at saved/best.pt\n",
      "Epoch 289/300\n"
     ]
    },
    {
     "name": "stderr",
     "output_type": "stream",
     "text": [
      "🚀 Validation: 100%|██████████| 3/3 [00:00<00:00, 201.78it/s, loss=7.4678]\n"
     ]
    },
    {
     "name": "stdout",
     "output_type": "stream",
     "text": [
      "[Epoch 289] Train Loss: 7.2975 | Val Loss: 7.5053\n",
      "  -> New best model saved at saved/best.pt\n",
      "Epoch 290/300\n"
     ]
    },
    {
     "name": "stderr",
     "output_type": "stream",
     "text": [
      "🚀 Validation: 100%|██████████| 3/3 [00:00<00:00, 212.68it/s, loss=7.4634]\n"
     ]
    },
    {
     "name": "stdout",
     "output_type": "stream",
     "text": [
      "[Epoch 290] Train Loss: 7.2920 | Val Loss: 7.5010\n",
      "  -> New best model saved at saved/best.pt\n",
      "Epoch 291/300\n"
     ]
    },
    {
     "name": "stderr",
     "output_type": "stream",
     "text": [
      "🚀 Validation: 100%|██████████| 3/3 [00:00<00:00, 113.62it/s, loss=7.4590]\n"
     ]
    },
    {
     "name": "stdout",
     "output_type": "stream",
     "text": [
      "[Epoch 291] Train Loss: 7.2862 | Val Loss: 7.4967\n",
      "  -> New best model saved at saved/best.pt\n",
      "Epoch 292/300\n"
     ]
    },
    {
     "name": "stderr",
     "output_type": "stream",
     "text": [
      "🚀 Validation: 100%|██████████| 3/3 [00:00<00:00, 212.14it/s, loss=7.4546]\n"
     ]
    },
    {
     "name": "stdout",
     "output_type": "stream",
     "text": [
      "[Epoch 292] Train Loss: 7.2798 | Val Loss: 7.4924\n",
      "  -> New best model saved at saved/best.pt\n",
      "Epoch 293/300\n"
     ]
    },
    {
     "name": "stderr",
     "output_type": "stream",
     "text": [
      "🚀 Validation: 100%|██████████| 3/3 [00:00<00:00, 201.81it/s, loss=7.4502]\n"
     ]
    },
    {
     "name": "stdout",
     "output_type": "stream",
     "text": [
      "[Epoch 293] Train Loss: 7.2778 | Val Loss: 7.4881\n",
      "  -> New best model saved at saved/best.pt\n",
      "Epoch 294/300\n"
     ]
    },
    {
     "name": "stderr",
     "output_type": "stream",
     "text": [
      "🚀 Validation: 100%|██████████| 3/3 [00:00<00:00, 221.83it/s, loss=7.4458]\n"
     ]
    },
    {
     "name": "stdout",
     "output_type": "stream",
     "text": [
      "[Epoch 294] Train Loss: 7.2740 | Val Loss: 7.4839\n",
      "  -> New best model saved at saved/best.pt\n",
      "Epoch 295/300\n"
     ]
    },
    {
     "name": "stderr",
     "output_type": "stream",
     "text": [
      "🚀 Validation: 100%|██████████| 3/3 [00:00<00:00, 128.93it/s, loss=7.4415]\n"
     ]
    },
    {
     "name": "stdout",
     "output_type": "stream",
     "text": [
      "[Epoch 295] Train Loss: 7.2677 | Val Loss: 7.4796\n",
      "  -> New best model saved at saved/best.pt\n",
      "Epoch 296/300\n"
     ]
    },
    {
     "name": "stderr",
     "output_type": "stream",
     "text": [
      "🚀 Validation: 100%|██████████| 3/3 [00:00<00:00, 210.00it/s, loss=7.4371]\n"
     ]
    },
    {
     "name": "stdout",
     "output_type": "stream",
     "text": [
      "[Epoch 296] Train Loss: 7.2779 | Val Loss: 7.4754\n",
      "  -> New best model saved at saved/best.pt\n",
      "Epoch 297/300\n"
     ]
    },
    {
     "name": "stderr",
     "output_type": "stream",
     "text": [
      "🚀 Validation: 100%|██████████| 3/3 [00:00<00:00, 187.90it/s, loss=7.4328]\n"
     ]
    },
    {
     "name": "stdout",
     "output_type": "stream",
     "text": [
      "[Epoch 297] Train Loss: 7.2569 | Val Loss: 7.4712\n",
      "  -> New best model saved at saved/best.pt\n",
      "Epoch 298/300\n"
     ]
    },
    {
     "name": "stderr",
     "output_type": "stream",
     "text": [
      "🚀 Validation: 100%|██████████| 3/3 [00:00<00:00, 218.54it/s, loss=7.4285]\n"
     ]
    },
    {
     "name": "stdout",
     "output_type": "stream",
     "text": [
      "[Epoch 298] Train Loss: 7.2557 | Val Loss: 7.4671\n",
      "  -> New best model saved at saved/best.pt\n",
      "Epoch 299/300\n"
     ]
    },
    {
     "name": "stderr",
     "output_type": "stream",
     "text": [
      "🚀 Validation: 100%|██████████| 3/3 [00:00<00:00, 173.48it/s, loss=7.4243]\n"
     ]
    },
    {
     "name": "stdout",
     "output_type": "stream",
     "text": [
      "[Epoch 299] Train Loss: 7.2510 | Val Loss: 7.4629\n",
      "  -> New best model saved at saved/best.pt\n",
      "Epoch 300/300\n"
     ]
    },
    {
     "name": "stderr",
     "output_type": "stream",
     "text": [
      "🚀 Validation: 100%|██████████| 3/3 [00:00<00:00, 201.64it/s, loss=7.4201]\n"
     ]
    },
    {
     "name": "stdout",
     "output_type": "stream",
     "text": [
      "[Epoch 300] Train Loss: 7.2440 | Val Loss: 7.4588\n",
      "  -> New best model saved at saved/best.pt\n"
     ]
    }
   ],
   "source": [
    "import os\n",
    "import torch\n",
    "from tqdm import tqdm\n",
    "os.makedirs(SAVE_DIR, exist_ok=True)\n",
    "best_val_loss = float(\"inf\")\n",
    "best_model_path = None\n",
    "for epoch in range(1, EPOCHS + 1):\n",
    "    print(f\"Epoch {epoch}/{EPOCHS}\")\n",
    "    model.train()\n",
    "    total_train_loss = 0.0\n",
    "    train_bar = tqdm(train_loader, desc=\"🚀 Training\", \n",
    "                leave=False, total=len(train_loader))\n",
    "    for batch in train_loader:\n",
    "        optimizer.zero_grad()\n",
    "        src_batch = batch['src'].to(device)\n",
    "        tgt_batch = batch['tgt'].to(device)\n",
    "        \n",
    "        output, _ = model(src_batch, tgt_batch[:, :-1]) \n",
    "        output_dim = output.shape[-1]\n",
    "        output = output.reshape(-1, output_dim)\n",
    "        tgt_y = tgt_batch[:,1:].contiguous().view(-1)\n",
    "\n",
    "        loss = criterion(output, tgt_y)\n",
    "        loss.backward()\n",
    "        optimizer.step()\n",
    "        total_train_loss += loss.item()\n",
    "        train_bar.set_postfix(loss=f\"{loss.item():.4f}\")\n",
    "\n",
    "    avg_train_loss = total_train_loss / len(train_loader)\n",
    "    model.eval()\n",
    "    total_val_loss = 0.0\n",
    "    val_bar = tqdm(val_loader, desc=\"🚀 Validation\",\n",
    "              leave=True, total=len(val_loader))\n",
    "    with torch.no_grad():\n",
    "        for batch in val_bar:\n",
    "            src_batch = batch['src'].to(device)\n",
    "            tgt_batch = batch['tgt'].to(device)\n",
    "            \n",
    "            output, _ = model(src_batch, tgt_batch[:, :-1]) \n",
    "            output_dim = output.shape[-1]\n",
    "            output = output.reshape(-1, output_dim)\n",
    "            tgt_y = tgt_batch[:,1:].contiguous().view(-1)\n",
    "\n",
    "            loss = criterion(output, tgt_y)\n",
    "            total_val_loss += loss.item()\n",
    "            val_bar.set_postfix(loss=f\"{loss.item():.4f}\")\n",
    "    \n",
    "    avg_val_loss = total_val_loss / len(val_loader)\n",
    "    print(f\"[Epoch {epoch}] Train Loss: {avg_train_loss:.4f} | Val Loss: {avg_val_loss:.4f}\")\n",
    "    if avg_val_loss < best_val_loss:\n",
    "        if best_model_path and os.path.exists(best_model_path):\n",
    "            os.remove(best_model_path)\n",
    "        best_val_loss = avg_val_loss\n",
    "        best_model_path = os.path.join(SAVE_DIR, \"best.pt\")\n",
    "        torch.save(model.state_dict(), best_model_path)\n",
    "        print(f\"  -> New best model saved at {best_model_path}\")\n"
   ]
  }
 ],
 "metadata": {
  "kernelspec": {
   "display_name": "torch_env",
   "language": "python",
   "name": "python3"
  },
  "language_info": {
   "codemirror_mode": {
    "name": "ipython",
    "version": 3
   },
   "file_extension": ".py",
   "mimetype": "text/x-python",
   "name": "python",
   "nbconvert_exporter": "python",
   "pygments_lexer": "ipython3",
   "version": "3.10.16"
  }
 },
 "nbformat": 4,
 "nbformat_minor": 2
}

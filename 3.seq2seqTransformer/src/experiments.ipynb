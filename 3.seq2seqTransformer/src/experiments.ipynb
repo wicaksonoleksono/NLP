{
 "cells": [
  {
   "cell_type": "code",
   "execution_count": 1,
   "metadata": {},
   "outputs": [
    {
     "name": "stderr",
     "output_type": "stream",
     "text": [
      "[nltk_data] Downloading package punkt to\n",
      "[nltk_data]     /home/wicaksonolxn/nltk_data...\n",
      "[nltk_data]   Package punkt is already up-to-date!\n"
     ]
    }
   ],
   "source": [
    "import os\n",
    "import torch\n",
    "import torch.nn as nn\n",
    "import torch.optim as optim\n",
    "from tqdm import tqdm\n",
    "from dataloader import get_dataloaders\n",
    "import nltk\n",
    "from nltk.translate.bleu_score import sentence_bleu, SmoothingFunction\n",
    "from transformer import Transformer,TransformerEncoder,TransformerDecoder\n",
    "import utils\n",
    "import pickle\n",
    "nltk.download('punkt')  \n",
    "device = torch.device('cuda' if torch.cuda.is_available() else 'cpu')"
   ]
  },
  {
   "cell_type": "code",
   "execution_count": null,
   "metadata": {},
   "outputs": [
    {
     "name": "stdout",
     "output_type": "stream",
     "text": [
      "Number of examples in train_dataset,train origin,train_raw: 799 799 799\n",
      "Number of examples in valid_dataset: 100\n",
      "Number of examples in test_dataset: 100\n",
      "Model initialized on: cuda\n"
     ]
    }
   ],
   "source": [
    "BATCH_SIZE = 64 # butuh lebih banyak update \n",
    "DATA_PATH = \"dataset/\"  \n",
    "train_loader, val_loader, test_loader = get_dataloaders(\n",
    "    data_path=DATA_PATH, \n",
    "    source_lang=\"min\", \n",
    "    target_lang=\"eng\", \n",
    "    batch_size=BATCH_SIZE, \n",
    "    device=device\n",
    ")\n",
    "SRC_VOCAB_SIZE = 5000\n",
    "TGT_VOCAB_SIZE = 5000\n",
    "N_LAYERS = 4\n",
    "N_HEADS = 2\n",
    "D_MODEL = 64\n",
    "FFN_HIDDEN = 32\n",
    "DROPOUT = 0.1\n",
    "EPOCHS = 100\n",
    "\n",
    "SAVE_DIR = \"saved\"\n",
    "encoder = TransformerEncoder(SRC_VOCAB_SIZE,D_MODEL,N_LAYERS,N_HEADS,FFN_HIDDEN,DROPOUT,device)\n",
    "decoder = TransformerDecoder(TGT_VOCAB_SIZE,D_MODEL,N_LAYERS,N_HEADS,FFN_HIDDEN,DROPOUT,device)\n",
    "model = Transformer(encoder,decoder,device,utils.PAD_TOKEN).to(device)\n",
    "optimizer = optim.Adam(model.parameters(), lr=5e-4)\n",
    "criterion = nn.CrossEntropyLoss(ignore_index=utils.PAD_TOKEN) \n",
    "print(\"Model initialized on:\", device)\n"
   ]
  },
  {
   "cell_type": "code",
   "execution_count": 3,
   "metadata": {},
   "outputs": [
    {
     "name": "stdout",
     "output_type": "stream",
     "text": [
      "torch.Size([64, 102]) torch.Size([64, 102])\n",
      "Padding: 0\n",
      "Start of Sequence: 1\n",
      "End of Sequence: 2\n",
      "Unknown: 3\n"
     ]
    }
   ],
   "source": [
    "tokens = {\n",
    "    \"Padding\": utils.PAD_TOKEN,\n",
    "    \"Start of Sequence\": utils.SOS_TOKEN,\n",
    "    \"End of Sequence\": utils.EOS_TOKEN,\n",
    "    \"Unknown\": utils.UNK_TOKEN\n",
    "}\n",
    "for i, batch in enumerate(train_loader):\n",
    "    if i < 8:\n",
    "        src = batch[\"src\"]\n",
    "        tgt = batch[\"tgt\"]\n",
    "        ss,fss=src[0,:],src.shape\n",
    "        st,fst=tgt[0,:],tgt.shape\n",
    "        print(fss,fst)\n",
    "    for name, token in tokens.items():\n",
    "        print(f\"{name}: {token}\")\n",
    "    else:\n",
    "        break\n"
   ]
  },
  {
   "cell_type": "markdown",
   "metadata": {},
   "source": [
    "testing input , is it correct"
   ]
  },
  {
   "cell_type": "code",
   "execution_count": 4,
   "metadata": {},
   "outputs": [
    {
     "name": "stdout",
     "output_type": "stream",
     "text": [
      "torch.Size([64, 102])\n",
      "torch.Size([64, 102])\n",
      "torch.Size([64, 102])\n",
      "torch.Size([64, 102])\n",
      "torch.Size([64, 102])\n",
      "torch.Size([64, 102])\n",
      "torch.Size([64, 102])\n"
     ]
    }
   ],
   "source": [
    "data_iter = iter(train_loader)\n",
    "for i in range(7):\n",
    "    batch = next(data_iter)\n",
    "    print(batch[\"src\"].shape)\n"
   ]
  },
  {
   "cell_type": "code",
   "execution_count": null,
   "metadata": {},
   "outputs": [
    {
     "name": "stdout",
     "output_type": "stream",
     "text": [
      "tensor([2097,  185, 1828,  ...,    0,    0,    0], device='cuda:0')\n"
     ]
    }
   ],
   "source": [
    "for i,batch in enumerate(train_loader):\n",
    "    if i <1:\n",
    "        src_batch = batch['src'].to(device)\n",
    "        tgt_batch = batch['tgt'].to(device)\n",
    "        output, _ = model(src_batch, tgt_batch[:, :-1]) \n",
    "        output_dim = output.shape[-1]\n",
    "        output = output.reshape(-1, output_dim)\n",
    "        tgt_y = tgt_batch[:,1:].contiguous().view(-1)\n",
    "        print(tgt_y)"
   ]
  },
  {
   "cell_type": "code",
   "execution_count": null,
   "metadata": {},
   "outputs": [
    {
     "name": "stdout",
     "output_type": "stream",
     "text": [
      "Epoch 1/100\n"
     ]
    },
    {
     "name": "stderr",
     "output_type": "stream",
     "text": [
      "🚀 Training: 100%|██████████| 13/13 [00:00<00:00, 14.16it/s, loss=7.8487]\n",
      "🚀 Validation: 100%|██████████| 2/2 [00:00<00:00, 49.31it/s, loss=7.6792]\n"
     ]
    },
    {
     "name": "stdout",
     "output_type": "stream",
     "text": [
      "[Epoch 1] Train Loss: 8.1965 | Val Loss: 7.7357\n",
      "  -> New best model saved at saved/best.pt\n",
      "Epoch 2/100\n"
     ]
    },
    {
     "name": "stderr",
     "output_type": "stream",
     "text": [
      "🚀 Training: 100%|██████████| 13/13 [00:00<00:00, 15.05it/s, loss=7.1096]\n",
      "🚀 Validation: 100%|██████████| 2/2 [00:00<00:00, 49.08it/s, loss=7.1270]\n"
     ]
    },
    {
     "name": "stdout",
     "output_type": "stream",
     "text": [
      "[Epoch 2] Train Loss: 7.3742 | Val Loss: 7.1893\n",
      "  -> New best model saved at saved/best.pt\n",
      "Epoch 3/100\n"
     ]
    },
    {
     "name": "stderr",
     "output_type": "stream",
     "text": [
      "🚀 Training: 100%|██████████| 13/13 [00:00<00:00, 15.11it/s, loss=6.7184]\n",
      "🚀 Validation: 100%|██████████| 2/2 [00:00<00:00, 49.49it/s, loss=6.7624]\n"
     ]
    },
    {
     "name": "stdout",
     "output_type": "stream",
     "text": [
      "[Epoch 3] Train Loss: 6.8396 | Val Loss: 6.8293\n",
      "  -> New best model saved at saved/best.pt\n",
      "Epoch 4/100\n"
     ]
    },
    {
     "name": "stderr",
     "output_type": "stream",
     "text": [
      "🚀 Training: 100%|██████████| 13/13 [00:00<00:00, 15.06it/s, loss=6.3670]\n",
      "🚀 Validation: 100%|██████████| 2/2 [00:00<00:00, 48.02it/s, loss=6.6424]\n"
     ]
    },
    {
     "name": "stdout",
     "output_type": "stream",
     "text": [
      "[Epoch 4] Train Loss: 6.5259 | Val Loss: 6.7171\n",
      "  -> New best model saved at saved/best.pt\n",
      "Epoch 5/100\n"
     ]
    },
    {
     "name": "stderr",
     "output_type": "stream",
     "text": [
      "🚀 Training: 100%|██████████| 13/13 [00:00<00:00, 15.05it/s, loss=6.3570]\n",
      "🚀 Validation: 100%|██████████| 2/2 [00:00<00:00, 50.12it/s, loss=6.6259]\n"
     ]
    },
    {
     "name": "stdout",
     "output_type": "stream",
     "text": [
      "[Epoch 5] Train Loss: 6.4158 | Val Loss: 6.7083\n",
      "  -> New best model saved at saved/best.pt\n",
      "Epoch 6/100\n"
     ]
    },
    {
     "name": "stderr",
     "output_type": "stream",
     "text": [
      "🚀 Training: 100%|██████████| 13/13 [00:00<00:00, 15.13it/s, loss=6.2457]\n",
      "🚀 Validation: 100%|██████████| 2/2 [00:00<00:00, 49.82it/s, loss=6.5963]\n"
     ]
    },
    {
     "name": "stdout",
     "output_type": "stream",
     "text": [
      "[Epoch 6] Train Loss: 6.3646 | Val Loss: 6.6893\n",
      "  -> New best model saved at saved/best.pt\n",
      "Epoch 7/100\n"
     ]
    },
    {
     "name": "stderr",
     "output_type": "stream",
     "text": [
      "🚀 Training: 100%|██████████| 13/13 [00:00<00:00, 15.10it/s, loss=6.2639]\n",
      "🚀 Validation: 100%|██████████| 2/2 [00:00<00:00, 49.99it/s, loss=6.5598]\n"
     ]
    },
    {
     "name": "stdout",
     "output_type": "stream",
     "text": [
      "[Epoch 7] Train Loss: 6.3196 | Val Loss: 6.6582\n",
      "  -> New best model saved at saved/best.pt\n",
      "Epoch 8/100\n"
     ]
    },
    {
     "name": "stderr",
     "output_type": "stream",
     "text": [
      "🚀 Training: 100%|██████████| 13/13 [00:00<00:00, 15.04it/s, loss=6.2793]\n",
      "🚀 Validation: 100%|██████████| 2/2 [00:00<00:00, 49.42it/s, loss=6.5231]\n"
     ]
    },
    {
     "name": "stdout",
     "output_type": "stream",
     "text": [
      "[Epoch 8] Train Loss: 6.2599 | Val Loss: 6.6250\n",
      "  -> New best model saved at saved/best.pt\n",
      "Epoch 9/100\n"
     ]
    },
    {
     "name": "stderr",
     "output_type": "stream",
     "text": [
      "🚀 Training: 100%|██████████| 13/13 [00:00<00:00, 15.02it/s, loss=6.0988]\n",
      "🚀 Validation: 100%|██████████| 2/2 [00:00<00:00, 48.83it/s, loss=6.4965]\n"
     ]
    },
    {
     "name": "stdout",
     "output_type": "stream",
     "text": [
      "[Epoch 9] Train Loss: 6.1857 | Val Loss: 6.6032\n",
      "  -> New best model saved at saved/best.pt\n",
      "Epoch 10/100\n"
     ]
    },
    {
     "name": "stderr",
     "output_type": "stream",
     "text": [
      "🚀 Training: 100%|██████████| 13/13 [00:00<00:00, 14.97it/s, loss=6.0542]\n",
      "🚀 Validation: 100%|██████████| 2/2 [00:00<00:00, 49.60it/s, loss=6.4415]\n"
     ]
    },
    {
     "name": "stdout",
     "output_type": "stream",
     "text": [
      "[Epoch 10] Train Loss: 6.1093 | Val Loss: 6.5485\n",
      "  -> New best model saved at saved/best.pt\n",
      "Epoch 11/100\n"
     ]
    },
    {
     "name": "stderr",
     "output_type": "stream",
     "text": [
      "🚀 Training: 100%|██████████| 13/13 [00:00<00:00, 15.00it/s, loss=5.8926]\n",
      "🚀 Validation: 100%|██████████| 2/2 [00:00<00:00, 49.39it/s, loss=6.4133]\n"
     ]
    },
    {
     "name": "stdout",
     "output_type": "stream",
     "text": [
      "[Epoch 11] Train Loss: 6.0242 | Val Loss: 6.5203\n",
      "  -> New best model saved at saved/best.pt\n",
      "Epoch 12/100\n"
     ]
    },
    {
     "name": "stderr",
     "output_type": "stream",
     "text": [
      "🚀 Training: 100%|██████████| 13/13 [00:00<00:00, 14.99it/s, loss=5.8752]\n",
      "🚀 Validation: 100%|██████████| 2/2 [00:00<00:00, 48.86it/s, loss=6.3915]\n"
     ]
    },
    {
     "name": "stdout",
     "output_type": "stream",
     "text": [
      "[Epoch 12] Train Loss: 5.9409 | Val Loss: 6.5013\n",
      "  -> New best model saved at saved/best.pt\n",
      "Epoch 13/100\n"
     ]
    },
    {
     "name": "stderr",
     "output_type": "stream",
     "text": [
      "🚀 Training: 100%|██████████| 13/13 [00:00<00:00, 14.98it/s, loss=5.6551]\n",
      "🚀 Validation: 100%|██████████| 2/2 [00:00<00:00, 48.32it/s, loss=6.3476]\n"
     ]
    },
    {
     "name": "stdout",
     "output_type": "stream",
     "text": [
      "[Epoch 13] Train Loss: 5.8504 | Val Loss: 6.4565\n",
      "  -> New best model saved at saved/best.pt\n",
      "Epoch 14/100\n"
     ]
    },
    {
     "name": "stderr",
     "output_type": "stream",
     "text": [
      "🚀 Training: 100%|██████████| 13/13 [00:00<00:00, 15.04it/s, loss=5.7657]\n",
      "🚀 Validation: 100%|██████████| 2/2 [00:00<00:00, 48.88it/s, loss=6.3254]\n"
     ]
    },
    {
     "name": "stdout",
     "output_type": "stream",
     "text": [
      "[Epoch 14] Train Loss: 5.7700 | Val Loss: 6.4278\n",
      "  -> New best model saved at saved/best.pt\n",
      "Epoch 15/100\n"
     ]
    },
    {
     "name": "stderr",
     "output_type": "stream",
     "text": [
      "🚀 Training: 100%|██████████| 13/13 [00:00<00:00, 15.00it/s, loss=5.7450]\n",
      "🚀 Validation: 100%|██████████| 2/2 [00:00<00:00, 49.26it/s, loss=6.2855]\n"
     ]
    },
    {
     "name": "stdout",
     "output_type": "stream",
     "text": [
      "[Epoch 15] Train Loss: 5.6814 | Val Loss: 6.3871\n",
      "  -> New best model saved at saved/best.pt\n",
      "Epoch 16/100\n"
     ]
    },
    {
     "name": "stderr",
     "output_type": "stream",
     "text": [
      "🚀 Training: 100%|██████████| 13/13 [00:00<00:00, 14.95it/s, loss=5.5820]\n",
      "🚀 Validation: 100%|██████████| 2/2 [00:00<00:00, 48.05it/s, loss=6.2469]\n"
     ]
    },
    {
     "name": "stdout",
     "output_type": "stream",
     "text": [
      "[Epoch 16] Train Loss: 5.5844 | Val Loss: 6.3530\n",
      "  -> New best model saved at saved/best.pt\n",
      "Epoch 17/100\n"
     ]
    },
    {
     "name": "stderr",
     "output_type": "stream",
     "text": [
      "🚀 Training: 100%|██████████| 13/13 [00:00<00:00, 14.94it/s, loss=5.3094]\n",
      "🚀 Validation: 100%|██████████| 2/2 [00:00<00:00, 49.05it/s, loss=6.2362]\n"
     ]
    },
    {
     "name": "stdout",
     "output_type": "stream",
     "text": [
      "[Epoch 17] Train Loss: 5.4823 | Val Loss: 6.3382\n",
      "  -> New best model saved at saved/best.pt\n",
      "Epoch 18/100\n"
     ]
    },
    {
     "name": "stderr",
     "output_type": "stream",
     "text": [
      "🚀 Training: 100%|██████████| 13/13 [00:00<00:00, 14.93it/s, loss=5.4613]\n",
      "🚀 Validation: 100%|██████████| 2/2 [00:00<00:00, 47.50it/s, loss=6.2035]\n"
     ]
    },
    {
     "name": "stdout",
     "output_type": "stream",
     "text": [
      "[Epoch 18] Train Loss: 5.3958 | Val Loss: 6.3046\n",
      "  -> New best model saved at saved/best.pt\n",
      "Epoch 19/100\n"
     ]
    },
    {
     "name": "stderr",
     "output_type": "stream",
     "text": [
      "🚀 Training: 100%|██████████| 13/13 [00:00<00:00, 14.93it/s, loss=5.3760]\n",
      "🚀 Validation: 100%|██████████| 2/2 [00:00<00:00, 48.79it/s, loss=6.1743]\n"
     ]
    },
    {
     "name": "stdout",
     "output_type": "stream",
     "text": [
      "[Epoch 19] Train Loss: 5.3083 | Val Loss: 6.2785\n",
      "  -> New best model saved at saved/best.pt\n",
      "Epoch 20/100\n"
     ]
    },
    {
     "name": "stderr",
     "output_type": "stream",
     "text": [
      "🚀 Training: 100%|██████████| 13/13 [00:00<00:00, 14.99it/s, loss=5.0683]\n",
      "🚀 Validation: 100%|██████████| 2/2 [00:00<00:00, 44.31it/s, loss=6.1570]\n"
     ]
    },
    {
     "name": "stdout",
     "output_type": "stream",
     "text": [
      "[Epoch 20] Train Loss: 5.2102 | Val Loss: 6.2541\n",
      "  -> New best model saved at saved/best.pt\n",
      "Epoch 21/100\n"
     ]
    },
    {
     "name": "stderr",
     "output_type": "stream",
     "text": [
      "🚀 Training: 100%|██████████| 13/13 [00:00<00:00, 14.96it/s, loss=5.0073]\n",
      "🚀 Validation: 100%|██████████| 2/2 [00:00<00:00, 47.72it/s, loss=6.1447]\n"
     ]
    },
    {
     "name": "stdout",
     "output_type": "stream",
     "text": [
      "[Epoch 21] Train Loss: 5.1272 | Val Loss: 6.2425\n",
      "  -> New best model saved at saved/best.pt\n",
      "Epoch 22/100\n"
     ]
    },
    {
     "name": "stderr",
     "output_type": "stream",
     "text": [
      "🚀 Training: 100%|██████████| 13/13 [00:00<00:00, 14.85it/s, loss=5.0957]\n",
      "🚀 Validation: 100%|██████████| 2/2 [00:00<00:00, 48.69it/s, loss=6.1317]\n"
     ]
    },
    {
     "name": "stdout",
     "output_type": "stream",
     "text": [
      "[Epoch 22] Train Loss: 5.0448 | Val Loss: 6.2329\n",
      "  -> New best model saved at saved/best.pt\n",
      "Epoch 23/100\n"
     ]
    },
    {
     "name": "stderr",
     "output_type": "stream",
     "text": [
      "🚀 Training: 100%|██████████| 13/13 [00:00<00:00, 14.88it/s, loss=5.0359]\n",
      "🚀 Validation: 100%|██████████| 2/2 [00:00<00:00, 48.49it/s, loss=6.1111]\n"
     ]
    },
    {
     "name": "stdout",
     "output_type": "stream",
     "text": [
      "[Epoch 23] Train Loss: 4.9679 | Val Loss: 6.2131\n",
      "  -> New best model saved at saved/best.pt\n",
      "Epoch 24/100\n"
     ]
    },
    {
     "name": "stderr",
     "output_type": "stream",
     "text": [
      "🚀 Training: 100%|██████████| 13/13 [00:00<00:00, 14.80it/s, loss=4.9169]\n",
      "🚀 Validation: 100%|██████████| 2/2 [00:00<00:00, 49.26it/s, loss=6.1129]\n"
     ]
    },
    {
     "name": "stdout",
     "output_type": "stream",
     "text": [
      "[Epoch 24] Train Loss: 4.8810 | Val Loss: 6.2117\n",
      "  -> New best model saved at saved/best.pt\n",
      "Epoch 25/100\n"
     ]
    },
    {
     "name": "stderr",
     "output_type": "stream",
     "text": [
      "🚀 Training: 100%|██████████| 13/13 [00:00<00:00, 14.90it/s, loss=4.6883]\n",
      "🚀 Validation: 100%|██████████| 2/2 [00:00<00:00, 47.35it/s, loss=6.1108]\n"
     ]
    },
    {
     "name": "stdout",
     "output_type": "stream",
     "text": [
      "[Epoch 25] Train Loss: 4.7942 | Val Loss: 6.2124\n",
      "Epoch 26/100\n"
     ]
    },
    {
     "name": "stderr",
     "output_type": "stream",
     "text": [
      "🚀 Training: 100%|██████████| 13/13 [00:00<00:00, 14.74it/s, loss=4.7553]\n",
      "🚀 Validation: 100%|██████████| 2/2 [00:00<00:00, 49.13it/s, loss=6.1086]\n"
     ]
    },
    {
     "name": "stdout",
     "output_type": "stream",
     "text": [
      "[Epoch 26] Train Loss: 4.7260 | Val Loss: 6.2162\n",
      "Epoch 27/100\n"
     ]
    },
    {
     "name": "stderr",
     "output_type": "stream",
     "text": [
      "🚀 Training: 100%|██████████| 13/13 [00:00<00:00, 14.83it/s, loss=4.6756]\n",
      "🚀 Validation: 100%|██████████| 2/2 [00:00<00:00, 48.88it/s, loss=6.1031]\n"
     ]
    },
    {
     "name": "stdout",
     "output_type": "stream",
     "text": [
      "[Epoch 27] Train Loss: 4.6564 | Val Loss: 6.2052\n",
      "  -> New best model saved at saved/best.pt\n",
      "Epoch 28/100\n"
     ]
    },
    {
     "name": "stderr",
     "output_type": "stream",
     "text": [
      "🚀 Training: 100%|██████████| 13/13 [00:00<00:00, 14.79it/s, loss=4.6141]\n",
      "🚀 Validation: 100%|██████████| 2/2 [00:00<00:00, 48.06it/s, loss=6.1202]\n"
     ]
    },
    {
     "name": "stdout",
     "output_type": "stream",
     "text": [
      "[Epoch 28] Train Loss: 4.5746 | Val Loss: 6.2260\n",
      "Epoch 29/100\n"
     ]
    },
    {
     "name": "stderr",
     "output_type": "stream",
     "text": [
      "🚀 Training: 100%|██████████| 13/13 [00:00<00:00, 14.84it/s, loss=4.4143]\n",
      "🚀 Validation: 100%|██████████| 2/2 [00:00<00:00, 48.43it/s, loss=6.0967]\n"
     ]
    },
    {
     "name": "stdout",
     "output_type": "stream",
     "text": [
      "[Epoch 29] Train Loss: 4.4912 | Val Loss: 6.2004\n",
      "  -> New best model saved at saved/best.pt\n",
      "Epoch 30/100\n"
     ]
    },
    {
     "name": "stderr",
     "output_type": "stream",
     "text": [
      "🚀 Training: 100%|██████████| 13/13 [00:00<00:00, 14.80it/s, loss=4.3874]\n",
      "🚀 Validation: 100%|██████████| 2/2 [00:00<00:00, 48.31it/s, loss=6.1066]\n"
     ]
    },
    {
     "name": "stdout",
     "output_type": "stream",
     "text": [
      "[Epoch 30] Train Loss: 4.4238 | Val Loss: 6.2109\n",
      "Epoch 31/100\n"
     ]
    },
    {
     "name": "stderr",
     "output_type": "stream",
     "text": [
      "🚀 Training: 100%|██████████| 13/13 [00:00<00:00, 14.80it/s, loss=4.3423]\n",
      "🚀 Validation: 100%|██████████| 2/2 [00:00<00:00, 48.43it/s, loss=6.0947]\n"
     ]
    },
    {
     "name": "stdout",
     "output_type": "stream",
     "text": [
      "[Epoch 31] Train Loss: 4.3508 | Val Loss: 6.1984\n",
      "  -> New best model saved at saved/best.pt\n",
      "Epoch 32/100\n"
     ]
    },
    {
     "name": "stderr",
     "output_type": "stream",
     "text": [
      "🚀 Training: 100%|██████████| 13/13 [00:00<00:00, 14.86it/s, loss=4.3285]\n",
      "🚀 Validation: 100%|██████████| 2/2 [00:00<00:00, 48.33it/s, loss=6.1061]\n"
     ]
    },
    {
     "name": "stdout",
     "output_type": "stream",
     "text": [
      "[Epoch 32] Train Loss: 4.2770 | Val Loss: 6.2140\n",
      "Epoch 33/100\n"
     ]
    },
    {
     "name": "stderr",
     "output_type": "stream",
     "text": [
      "🚀 Training: 100%|██████████| 13/13 [00:00<00:00, 14.81it/s, loss=4.2682]\n",
      "🚀 Validation: 100%|██████████| 2/2 [00:00<00:00, 47.81it/s, loss=6.1256]\n"
     ]
    },
    {
     "name": "stdout",
     "output_type": "stream",
     "text": [
      "[Epoch 33] Train Loss: 4.2047 | Val Loss: 6.2325\n",
      "Epoch 34/100\n"
     ]
    },
    {
     "name": "stderr",
     "output_type": "stream",
     "text": [
      "🚀 Training: 100%|██████████| 13/13 [00:00<00:00, 14.72it/s, loss=4.0358]\n",
      "🚀 Validation: 100%|██████████| 2/2 [00:00<00:00, 48.59it/s, loss=6.1169]\n"
     ]
    },
    {
     "name": "stdout",
     "output_type": "stream",
     "text": [
      "[Epoch 34] Train Loss: 4.1282 | Val Loss: 6.2348\n",
      "Epoch 35/100\n"
     ]
    },
    {
     "name": "stderr",
     "output_type": "stream",
     "text": [
      "🚀 Training: 100%|██████████| 13/13 [00:00<00:00, 14.85it/s, loss=4.0407]\n",
      "🚀 Validation: 100%|██████████| 2/2 [00:00<00:00, 48.94it/s, loss=6.1312]\n"
     ]
    },
    {
     "name": "stdout",
     "output_type": "stream",
     "text": [
      "[Epoch 35] Train Loss: 4.0689 | Val Loss: 6.2377\n",
      "Epoch 36/100\n"
     ]
    },
    {
     "name": "stderr",
     "output_type": "stream",
     "text": [
      "🚀 Training: 100%|██████████| 13/13 [00:00<00:00, 14.85it/s, loss=3.8959]\n",
      "🚀 Validation: 100%|██████████| 2/2 [00:00<00:00, 49.01it/s, loss=6.1576]\n"
     ]
    },
    {
     "name": "stdout",
     "output_type": "stream",
     "text": [
      "[Epoch 36] Train Loss: 3.9939 | Val Loss: 6.2624\n",
      "Epoch 37/100\n"
     ]
    },
    {
     "name": "stderr",
     "output_type": "stream",
     "text": [
      "🚀 Training: 100%|██████████| 13/13 [00:00<00:00, 14.82it/s, loss=3.9019]\n",
      "🚀 Validation: 100%|██████████| 2/2 [00:00<00:00, 47.86it/s, loss=6.1737]\n"
     ]
    },
    {
     "name": "stdout",
     "output_type": "stream",
     "text": [
      "[Epoch 37] Train Loss: 3.9253 | Val Loss: 6.2788\n",
      "Epoch 38/100\n"
     ]
    },
    {
     "name": "stderr",
     "output_type": "stream",
     "text": [
      "🚀 Training: 100%|██████████| 13/13 [00:00<00:00, 14.71it/s, loss=3.8803]\n",
      "🚀 Validation: 100%|██████████| 2/2 [00:00<00:00, 48.92it/s, loss=6.1647]\n"
     ]
    },
    {
     "name": "stdout",
     "output_type": "stream",
     "text": [
      "[Epoch 38] Train Loss: 3.8536 | Val Loss: 6.2787\n",
      "Epoch 39/100\n"
     ]
    },
    {
     "name": "stderr",
     "output_type": "stream",
     "text": [
      "🚀 Training: 100%|██████████| 13/13 [00:00<00:00, 14.79it/s, loss=3.6648]\n",
      "🚀 Validation: 100%|██████████| 2/2 [00:00<00:00, 48.52it/s, loss=6.1953]\n"
     ]
    },
    {
     "name": "stdout",
     "output_type": "stream",
     "text": [
      "[Epoch 39] Train Loss: 3.7738 | Val Loss: 6.3009\n",
      "Epoch 40/100\n"
     ]
    },
    {
     "name": "stderr",
     "output_type": "stream",
     "text": [
      "🚀 Training: 100%|██████████| 13/13 [00:00<00:00, 14.74it/s, loss=3.6326]\n",
      "🚀 Validation: 100%|██████████| 2/2 [00:00<00:00, 48.64it/s, loss=6.1931]\n"
     ]
    },
    {
     "name": "stdout",
     "output_type": "stream",
     "text": [
      "[Epoch 40] Train Loss: 3.7122 | Val Loss: 6.3093\n",
      "Epoch 41/100\n"
     ]
    },
    {
     "name": "stderr",
     "output_type": "stream",
     "text": [
      "🚀 Training: 100%|██████████| 13/13 [00:00<00:00, 14.73it/s, loss=3.6808]\n",
      "🚀 Validation: 100%|██████████| 2/2 [00:00<00:00, 46.19it/s, loss=6.2090]\n"
     ]
    },
    {
     "name": "stdout",
     "output_type": "stream",
     "text": [
      "[Epoch 41] Train Loss: 3.6647 | Val Loss: 6.3208\n",
      "Epoch 42/100\n"
     ]
    },
    {
     "name": "stderr",
     "output_type": "stream",
     "text": [
      "🚀 Training: 100%|██████████| 13/13 [00:00<00:00, 14.75it/s, loss=3.6973]\n",
      "🚀 Validation: 100%|██████████| 2/2 [00:00<00:00, 48.30it/s, loss=6.2413]\n"
     ]
    },
    {
     "name": "stdout",
     "output_type": "stream",
     "text": [
      "[Epoch 42] Train Loss: 3.5956 | Val Loss: 6.3506\n",
      "Epoch 43/100\n"
     ]
    },
    {
     "name": "stderr",
     "output_type": "stream",
     "text": [
      "🚀 Training: 100%|██████████| 13/13 [00:00<00:00, 14.77it/s, loss=3.5394]\n",
      "🚀 Validation: 100%|██████████| 2/2 [00:00<00:00, 48.72it/s, loss=6.2462]\n"
     ]
    },
    {
     "name": "stdout",
     "output_type": "stream",
     "text": [
      "[Epoch 43] Train Loss: 3.5230 | Val Loss: 6.3638\n",
      "Epoch 44/100\n"
     ]
    },
    {
     "name": "stderr",
     "output_type": "stream",
     "text": [
      "🚀 Training: 100%|██████████| 13/13 [00:00<00:00, 14.73it/s, loss=3.4339]\n",
      "🚀 Validation: 100%|██████████| 2/2 [00:00<00:00, 48.25it/s, loss=6.2659]\n"
     ]
    },
    {
     "name": "stdout",
     "output_type": "stream",
     "text": [
      "[Epoch 44] Train Loss: 3.4607 | Val Loss: 6.3689\n",
      "Epoch 45/100\n"
     ]
    },
    {
     "name": "stderr",
     "output_type": "stream",
     "text": [
      "🚀 Training: 100%|██████████| 13/13 [00:00<00:00, 14.72it/s, loss=3.4016]\n",
      "🚀 Validation: 100%|██████████| 2/2 [00:00<00:00, 48.35it/s, loss=6.2832]\n"
     ]
    },
    {
     "name": "stdout",
     "output_type": "stream",
     "text": [
      "[Epoch 45] Train Loss: 3.4057 | Val Loss: 6.3934\n",
      "Epoch 46/100\n"
     ]
    },
    {
     "name": "stderr",
     "output_type": "stream",
     "text": [
      "🚀 Training: 100%|██████████| 13/13 [00:00<00:00, 14.67it/s, loss=3.3257]\n",
      "🚀 Validation: 100%|██████████| 2/2 [00:00<00:00, 49.35it/s, loss=6.3135]\n"
     ]
    },
    {
     "name": "stdout",
     "output_type": "stream",
     "text": [
      "[Epoch 46] Train Loss: 3.3335 | Val Loss: 6.4235\n",
      "Epoch 47/100\n"
     ]
    },
    {
     "name": "stderr",
     "output_type": "stream",
     "text": [
      "🚀 Training: 100%|██████████| 13/13 [00:00<00:00, 14.67it/s, loss=3.2706]\n",
      "🚀 Validation: 100%|██████████| 2/2 [00:00<00:00, 47.21it/s, loss=6.3363]\n"
     ]
    },
    {
     "name": "stdout",
     "output_type": "stream",
     "text": [
      "[Epoch 47] Train Loss: 3.2695 | Val Loss: 6.4574\n",
      "Epoch 48/100\n"
     ]
    },
    {
     "name": "stderr",
     "output_type": "stream",
     "text": [
      "🚀 Training: 100%|██████████| 13/13 [00:00<00:00, 14.60it/s, loss=3.2517]\n",
      "🚀 Validation: 100%|██████████| 2/2 [00:00<00:00, 46.78it/s, loss=6.3621]\n"
     ]
    },
    {
     "name": "stdout",
     "output_type": "stream",
     "text": [
      "[Epoch 48] Train Loss: 3.2142 | Val Loss: 6.4712\n",
      "Epoch 49/100\n"
     ]
    },
    {
     "name": "stderr",
     "output_type": "stream",
     "text": [
      "🚀 Training: 100%|██████████| 13/13 [00:00<00:00, 14.66it/s, loss=3.2417]\n",
      "🚀 Validation: 100%|██████████| 2/2 [00:00<00:00, 48.84it/s, loss=6.3907]\n"
     ]
    },
    {
     "name": "stdout",
     "output_type": "stream",
     "text": [
      "[Epoch 49] Train Loss: 3.1544 | Val Loss: 6.5006\n",
      "Epoch 50/100\n"
     ]
    },
    {
     "name": "stderr",
     "output_type": "stream",
     "text": [
      "🚀 Training: 100%|██████████| 13/13 [00:00<00:00, 14.64it/s, loss=3.0801]\n",
      "🚀 Validation: 100%|██████████| 2/2 [00:00<00:00, 46.89it/s, loss=6.4089]\n"
     ]
    },
    {
     "name": "stdout",
     "output_type": "stream",
     "text": [
      "[Epoch 50] Train Loss: 3.0905 | Val Loss: 6.5256\n",
      "Epoch 51/100\n"
     ]
    },
    {
     "name": "stderr",
     "output_type": "stream",
     "text": [
      "🚀 Training: 100%|██████████| 13/13 [00:00<00:00, 14.56it/s, loss=3.0322]\n",
      "🚀 Validation: 100%|██████████| 2/2 [00:00<00:00, 47.54it/s, loss=6.4021]\n"
     ]
    },
    {
     "name": "stdout",
     "output_type": "stream",
     "text": [
      "[Epoch 51] Train Loss: 3.0278 | Val Loss: 6.5174\n",
      "Epoch 52/100\n"
     ]
    },
    {
     "name": "stderr",
     "output_type": "stream",
     "text": [
      "🚀 Training: 100%|██████████| 13/13 [00:00<00:00, 14.59it/s, loss=2.9479]\n",
      "🚀 Validation: 100%|██████████| 2/2 [00:00<00:00, 47.45it/s, loss=6.4397]\n"
     ]
    },
    {
     "name": "stdout",
     "output_type": "stream",
     "text": [
      "[Epoch 52] Train Loss: 2.9702 | Val Loss: 6.5572\n",
      "Epoch 53/100\n"
     ]
    },
    {
     "name": "stderr",
     "output_type": "stream",
     "text": [
      "🚀 Training: 100%|██████████| 13/13 [00:00<00:00, 14.52it/s, loss=2.9098]\n",
      "🚀 Validation: 100%|██████████| 2/2 [00:00<00:00, 45.85it/s, loss=6.4611]\n"
     ]
    },
    {
     "name": "stdout",
     "output_type": "stream",
     "text": [
      "[Epoch 53] Train Loss: 2.9141 | Val Loss: 6.5762\n",
      "Epoch 54/100\n"
     ]
    },
    {
     "name": "stderr",
     "output_type": "stream",
     "text": [
      "🚀 Training: 100%|██████████| 13/13 [00:00<00:00, 14.52it/s, loss=2.7736]\n",
      "🚀 Validation: 100%|██████████| 2/2 [00:00<00:00, 47.36it/s, loss=6.5217]\n"
     ]
    },
    {
     "name": "stdout",
     "output_type": "stream",
     "text": [
      "[Epoch 54] Train Loss: 2.8496 | Val Loss: 6.6285\n",
      "Epoch 55/100\n"
     ]
    },
    {
     "name": "stderr",
     "output_type": "stream",
     "text": [
      "🚀 Training: 100%|██████████| 13/13 [00:00<00:00, 14.65it/s, loss=2.7656]\n",
      "🚀 Validation: 100%|██████████| 2/2 [00:00<00:00, 47.56it/s, loss=6.5460]\n"
     ]
    },
    {
     "name": "stdout",
     "output_type": "stream",
     "text": [
      "[Epoch 55] Train Loss: 2.7948 | Val Loss: 6.6641\n",
      "Epoch 56/100\n"
     ]
    },
    {
     "name": "stderr",
     "output_type": "stream",
     "text": [
      "🚀 Training: 100%|██████████| 13/13 [00:00<00:00, 14.68it/s, loss=2.7458]\n",
      "🚀 Validation: 100%|██████████| 2/2 [00:00<00:00, 47.64it/s, loss=6.5377]\n"
     ]
    },
    {
     "name": "stdout",
     "output_type": "stream",
     "text": [
      "[Epoch 56] Train Loss: 2.7406 | Val Loss: 6.6710\n",
      "Epoch 57/100\n"
     ]
    },
    {
     "name": "stderr",
     "output_type": "stream",
     "text": [
      "🚀 Training: 100%|██████████| 13/13 [00:00<00:00, 14.60it/s, loss=2.5498]\n",
      "🚀 Validation: 100%|██████████| 2/2 [00:00<00:00, 48.12it/s, loss=6.5491]\n"
     ]
    },
    {
     "name": "stdout",
     "output_type": "stream",
     "text": [
      "[Epoch 57] Train Loss: 2.6804 | Val Loss: 6.6654\n",
      "Epoch 58/100\n"
     ]
    },
    {
     "name": "stderr",
     "output_type": "stream",
     "text": [
      "🚀 Training: 100%|██████████| 13/13 [00:00<00:00, 14.65it/s, loss=2.6229]\n",
      "🚀 Validation: 100%|██████████| 2/2 [00:00<00:00, 46.59it/s, loss=6.6025]\n"
     ]
    },
    {
     "name": "stdout",
     "output_type": "stream",
     "text": [
      "[Epoch 58] Train Loss: 2.6411 | Val Loss: 6.7085\n",
      "Epoch 59/100\n"
     ]
    },
    {
     "name": "stderr",
     "output_type": "stream",
     "text": [
      "🚀 Training: 100%|██████████| 13/13 [00:00<00:00, 14.58it/s, loss=2.5125]\n",
      "🚀 Validation: 100%|██████████| 2/2 [00:00<00:00, 46.20it/s, loss=6.6390]\n"
     ]
    },
    {
     "name": "stdout",
     "output_type": "stream",
     "text": [
      "[Epoch 59] Train Loss: 2.5830 | Val Loss: 6.7607\n",
      "Epoch 60/100\n"
     ]
    },
    {
     "name": "stderr",
     "output_type": "stream",
     "text": [
      "🚀 Training: 100%|██████████| 13/13 [00:00<00:00, 14.56it/s, loss=2.5438]\n",
      "🚀 Validation: 100%|██████████| 2/2 [00:00<00:00, 46.98it/s, loss=6.6590]\n"
     ]
    },
    {
     "name": "stdout",
     "output_type": "stream",
     "text": [
      "[Epoch 60] Train Loss: 2.5349 | Val Loss: 6.7718\n",
      "Epoch 61/100\n"
     ]
    },
    {
     "name": "stderr",
     "output_type": "stream",
     "text": [
      "🚀 Training: 100%|██████████| 13/13 [00:00<00:00, 14.50it/s, loss=2.4338]\n",
      "🚀 Validation: 100%|██████████| 2/2 [00:00<00:00, 47.40it/s, loss=6.6880]\n"
     ]
    },
    {
     "name": "stdout",
     "output_type": "stream",
     "text": [
      "[Epoch 61] Train Loss: 2.4870 | Val Loss: 6.8024\n",
      "Epoch 62/100\n"
     ]
    },
    {
     "name": "stderr",
     "output_type": "stream",
     "text": [
      "🚀 Training: 100%|██████████| 13/13 [00:00<00:00, 14.37it/s, loss=2.3519]\n",
      "🚀 Validation: 100%|██████████| 2/2 [00:00<00:00, 48.20it/s, loss=6.7278]\n"
     ]
    },
    {
     "name": "stdout",
     "output_type": "stream",
     "text": [
      "[Epoch 62] Train Loss: 2.4351 | Val Loss: 6.8319\n",
      "Epoch 63/100\n"
     ]
    },
    {
     "name": "stderr",
     "output_type": "stream",
     "text": [
      "🚀 Training: 100%|██████████| 13/13 [00:00<00:00, 14.58it/s, loss=2.4363]\n",
      "🚀 Validation: 100%|██████████| 2/2 [00:00<00:00, 48.47it/s, loss=6.7403]\n"
     ]
    },
    {
     "name": "stdout",
     "output_type": "stream",
     "text": [
      "[Epoch 63] Train Loss: 2.3914 | Val Loss: 6.8501\n",
      "Epoch 64/100\n"
     ]
    },
    {
     "name": "stderr",
     "output_type": "stream",
     "text": [
      "🚀 Training: 100%|██████████| 13/13 [00:00<00:00, 14.57it/s, loss=2.2410]\n",
      "🚀 Validation: 100%|██████████| 2/2 [00:00<00:00, 48.55it/s, loss=6.7743]\n"
     ]
    },
    {
     "name": "stdout",
     "output_type": "stream",
     "text": [
      "[Epoch 64] Train Loss: 2.3423 | Val Loss: 6.8829\n",
      "Epoch 65/100\n"
     ]
    },
    {
     "name": "stderr",
     "output_type": "stream",
     "text": [
      "🚀 Training: 100%|██████████| 13/13 [00:00<00:00, 14.62it/s, loss=2.3232]\n",
      "🚀 Validation: 100%|██████████| 2/2 [00:00<00:00, 46.81it/s, loss=6.7978]\n"
     ]
    },
    {
     "name": "stdout",
     "output_type": "stream",
     "text": [
      "[Epoch 65] Train Loss: 2.2944 | Val Loss: 6.8926\n",
      "Epoch 66/100\n"
     ]
    },
    {
     "name": "stderr",
     "output_type": "stream",
     "text": [
      "🚀 Training: 100%|██████████| 13/13 [00:00<00:00, 14.60it/s, loss=2.2153]\n",
      "🚀 Validation: 100%|██████████| 2/2 [00:00<00:00, 48.31it/s, loss=6.8145]\n"
     ]
    },
    {
     "name": "stdout",
     "output_type": "stream",
     "text": [
      "[Epoch 66] Train Loss: 2.2378 | Val Loss: 6.9200\n",
      "Epoch 67/100\n"
     ]
    },
    {
     "name": "stderr",
     "output_type": "stream",
     "text": [
      "🚀 Training: 100%|██████████| 13/13 [00:00<00:00, 14.57it/s, loss=2.2717]\n",
      "🚀 Validation: 100%|██████████| 2/2 [00:00<00:00, 47.31it/s, loss=6.8310]\n"
     ]
    },
    {
     "name": "stdout",
     "output_type": "stream",
     "text": [
      "[Epoch 67] Train Loss: 2.2035 | Val Loss: 6.9347\n",
      "Epoch 68/100\n"
     ]
    },
    {
     "name": "stderr",
     "output_type": "stream",
     "text": [
      "🚀 Training: 100%|██████████| 13/13 [00:00<00:00, 14.52it/s, loss=2.0575]\n",
      "🚀 Validation: 100%|██████████| 2/2 [00:00<00:00, 43.00it/s, loss=6.8700]\n"
     ]
    },
    {
     "name": "stdout",
     "output_type": "stream",
     "text": [
      "[Epoch 68] Train Loss: 2.1566 | Val Loss: 6.9771\n",
      "Epoch 69/100\n"
     ]
    },
    {
     "name": "stderr",
     "output_type": "stream",
     "text": [
      "🚀 Training: 100%|██████████| 13/13 [00:00<00:00, 14.56it/s, loss=2.1375]\n",
      "🚀 Validation: 100%|██████████| 2/2 [00:00<00:00, 47.18it/s, loss=6.8884]\n"
     ]
    },
    {
     "name": "stdout",
     "output_type": "stream",
     "text": [
      "[Epoch 69] Train Loss: 2.1161 | Val Loss: 6.9907\n",
      "Epoch 70/100\n"
     ]
    },
    {
     "name": "stderr",
     "output_type": "stream",
     "text": [
      "🚀 Training: 100%|██████████| 13/13 [00:00<00:00, 14.55it/s, loss=2.1625]\n",
      "🚀 Validation: 100%|██████████| 2/2 [00:00<00:00, 47.18it/s, loss=6.9079]\n"
     ]
    },
    {
     "name": "stdout",
     "output_type": "stream",
     "text": [
      "[Epoch 70] Train Loss: 2.0673 | Val Loss: 7.0291\n",
      "Epoch 71/100\n"
     ]
    },
    {
     "name": "stderr",
     "output_type": "stream",
     "text": [
      "🚀 Training: 100%|██████████| 13/13 [00:00<00:00, 14.41it/s, loss=2.1189]\n",
      "🚀 Validation: 100%|██████████| 2/2 [00:00<00:00, 47.51it/s, loss=6.9564]\n"
     ]
    },
    {
     "name": "stdout",
     "output_type": "stream",
     "text": [
      "[Epoch 71] Train Loss: 2.0387 | Val Loss: 7.0768\n",
      "Epoch 72/100\n"
     ]
    },
    {
     "name": "stderr",
     "output_type": "stream",
     "text": [
      "🚀 Training: 100%|██████████| 13/13 [00:00<00:00, 14.34it/s, loss=1.9689]\n",
      "🚀 Validation: 100%|██████████| 2/2 [00:00<00:00, 47.11it/s, loss=6.9822]\n"
     ]
    },
    {
     "name": "stdout",
     "output_type": "stream",
     "text": [
      "[Epoch 72] Train Loss: 2.0060 | Val Loss: 7.1045\n",
      "Epoch 73/100\n"
     ]
    },
    {
     "name": "stderr",
     "output_type": "stream",
     "text": [
      "🚀 Training: 100%|██████████| 13/13 [00:00<00:00, 14.53it/s, loss=1.8451]\n",
      "🚀 Validation: 100%|██████████| 2/2 [00:00<00:00, 47.41it/s, loss=7.0271]\n"
     ]
    },
    {
     "name": "stdout",
     "output_type": "stream",
     "text": [
      "[Epoch 73] Train Loss: 1.9472 | Val Loss: 7.1404\n",
      "Epoch 74/100\n"
     ]
    },
    {
     "name": "stderr",
     "output_type": "stream",
     "text": [
      "🚀 Training: 100%|██████████| 13/13 [00:00<00:00, 14.42it/s, loss=1.8856]\n",
      "🚀 Validation: 100%|██████████| 2/2 [00:00<00:00, 45.43it/s, loss=7.0484]\n"
     ]
    },
    {
     "name": "stdout",
     "output_type": "stream",
     "text": [
      "[Epoch 74] Train Loss: 1.9101 | Val Loss: 7.1427\n",
      "Epoch 75/100\n"
     ]
    },
    {
     "name": "stderr",
     "output_type": "stream",
     "text": [
      "🚀 Training: 100%|██████████| 13/13 [00:00<00:00, 14.40it/s, loss=2.0527]\n",
      "🚀 Validation: 100%|██████████| 2/2 [00:00<00:00, 44.89it/s, loss=7.0817]\n"
     ]
    },
    {
     "name": "stdout",
     "output_type": "stream",
     "text": [
      "[Epoch 75] Train Loss: 1.8848 | Val Loss: 7.1768\n",
      "Epoch 76/100\n"
     ]
    },
    {
     "name": "stderr",
     "output_type": "stream",
     "text": [
      "🚀 Training: 100%|██████████| 13/13 [00:00<00:00, 14.32it/s, loss=2.0093]\n",
      "🚀 Validation: 100%|██████████| 2/2 [00:00<00:00, 47.70it/s, loss=7.1118]\n"
     ]
    },
    {
     "name": "stdout",
     "output_type": "stream",
     "text": [
      "[Epoch 76] Train Loss: 1.8441 | Val Loss: 7.2231\n",
      "Epoch 77/100\n"
     ]
    },
    {
     "name": "stderr",
     "output_type": "stream",
     "text": [
      "🚀 Training: 100%|██████████| 13/13 [00:00<00:00, 14.40it/s, loss=1.8845]\n",
      "🚀 Validation: 100%|██████████| 2/2 [00:00<00:00, 47.47it/s, loss=7.1313]\n"
     ]
    },
    {
     "name": "stdout",
     "output_type": "stream",
     "text": [
      "[Epoch 77] Train Loss: 1.8081 | Val Loss: 7.2558\n",
      "Epoch 78/100\n"
     ]
    },
    {
     "name": "stderr",
     "output_type": "stream",
     "text": [
      "🚀 Training: 100%|██████████| 13/13 [00:00<00:00, 14.38it/s, loss=1.8386]\n",
      "🚀 Validation: 100%|██████████| 2/2 [00:00<00:00, 47.75it/s, loss=7.1717]\n"
     ]
    },
    {
     "name": "stdout",
     "output_type": "stream",
     "text": [
      "[Epoch 78] Train Loss: 1.7629 | Val Loss: 7.2819\n",
      "Epoch 79/100\n"
     ]
    },
    {
     "name": "stderr",
     "output_type": "stream",
     "text": [
      "🚀 Training: 100%|██████████| 13/13 [00:00<00:00, 14.35it/s, loss=1.7526]\n",
      "🚀 Validation: 100%|██████████| 2/2 [00:00<00:00, 47.63it/s, loss=7.1976]\n"
     ]
    },
    {
     "name": "stdout",
     "output_type": "stream",
     "text": [
      "[Epoch 79] Train Loss: 1.7334 | Val Loss: 7.3079\n",
      "Epoch 80/100\n"
     ]
    },
    {
     "name": "stderr",
     "output_type": "stream",
     "text": [
      "🚀 Training: 100%|██████████| 13/13 [00:00<00:00, 14.43it/s, loss=1.6953]\n",
      "🚀 Validation: 100%|██████████| 2/2 [00:00<00:00, 48.27it/s, loss=7.2247]\n"
     ]
    },
    {
     "name": "stdout",
     "output_type": "stream",
     "text": [
      "[Epoch 80] Train Loss: 1.7025 | Val Loss: 7.3482\n",
      "Epoch 81/100\n"
     ]
    },
    {
     "name": "stderr",
     "output_type": "stream",
     "text": [
      "🚀 Training: 100%|██████████| 13/13 [00:00<00:00, 14.46it/s, loss=1.8332]\n",
      "🚀 Validation: 100%|██████████| 2/2 [00:00<00:00, 45.76it/s, loss=7.2622]\n"
     ]
    },
    {
     "name": "stdout",
     "output_type": "stream",
     "text": [
      "[Epoch 81] Train Loss: 1.6845 | Val Loss: 7.3970\n",
      "Epoch 82/100\n"
     ]
    },
    {
     "name": "stderr",
     "output_type": "stream",
     "text": [
      "🚀 Training: 100%|██████████| 13/13 [00:00<00:00, 14.29it/s, loss=1.5738]\n",
      "🚀 Validation: 100%|██████████| 2/2 [00:00<00:00, 43.64it/s, loss=7.2528]\n"
     ]
    },
    {
     "name": "stdout",
     "output_type": "stream",
     "text": [
      "[Epoch 82] Train Loss: 1.6364 | Val Loss: 7.3801\n",
      "Epoch 83/100\n"
     ]
    },
    {
     "name": "stderr",
     "output_type": "stream",
     "text": [
      "🚀 Training: 100%|██████████| 13/13 [00:00<00:00, 14.42it/s, loss=1.5365]\n",
      "🚀 Validation: 100%|██████████| 2/2 [00:00<00:00, 48.51it/s, loss=7.3224]\n"
     ]
    },
    {
     "name": "stdout",
     "output_type": "stream",
     "text": [
      "[Epoch 83] Train Loss: 1.6086 | Val Loss: 7.4463\n",
      "Epoch 84/100\n"
     ]
    },
    {
     "name": "stderr",
     "output_type": "stream",
     "text": [
      "🚀 Training: 100%|██████████| 13/13 [00:00<00:00, 14.40it/s, loss=1.7300]\n",
      "🚀 Validation: 100%|██████████| 2/2 [00:00<00:00, 47.66it/s, loss=7.3358]\n"
     ]
    },
    {
     "name": "stdout",
     "output_type": "stream",
     "text": [
      "[Epoch 84] Train Loss: 1.5823 | Val Loss: 7.4516\n",
      "Epoch 85/100\n"
     ]
    },
    {
     "name": "stderr",
     "output_type": "stream",
     "text": [
      "🚀 Training: 100%|██████████| 13/13 [00:00<00:00, 14.34it/s, loss=1.5177]\n",
      "🚀 Validation: 100%|██████████| 2/2 [00:00<00:00, 46.57it/s, loss=7.3685]\n"
     ]
    },
    {
     "name": "stdout",
     "output_type": "stream",
     "text": [
      "[Epoch 85] Train Loss: 1.5547 | Val Loss: 7.4809\n",
      "Epoch 86/100\n"
     ]
    },
    {
     "name": "stderr",
     "output_type": "stream",
     "text": [
      "🚀 Training: 100%|██████████| 13/13 [00:00<00:00, 14.42it/s, loss=1.5248]\n",
      "🚀 Validation: 100%|██████████| 2/2 [00:00<00:00, 47.47it/s, loss=7.4171]\n"
     ]
    },
    {
     "name": "stdout",
     "output_type": "stream",
     "text": [
      "[Epoch 86] Train Loss: 1.5271 | Val Loss: 7.5355\n",
      "Epoch 87/100\n"
     ]
    },
    {
     "name": "stderr",
     "output_type": "stream",
     "text": [
      "🚀 Training: 100%|██████████| 13/13 [00:00<00:00, 14.33it/s, loss=1.4823]\n",
      "🚀 Validation: 100%|██████████| 2/2 [00:00<00:00, 47.56it/s, loss=7.4364]\n"
     ]
    },
    {
     "name": "stdout",
     "output_type": "stream",
     "text": [
      "[Epoch 87] Train Loss: 1.4869 | Val Loss: 7.5471\n",
      "Epoch 88/100\n"
     ]
    },
    {
     "name": "stderr",
     "output_type": "stream",
     "text": [
      "🚀 Training: 100%|██████████| 13/13 [00:00<00:00, 14.41it/s, loss=1.5078]\n",
      "🚀 Validation: 100%|██████████| 2/2 [00:00<00:00, 47.59it/s, loss=7.4564]\n"
     ]
    },
    {
     "name": "stdout",
     "output_type": "stream",
     "text": [
      "[Epoch 88] Train Loss: 1.4620 | Val Loss: 7.5879\n",
      "Epoch 89/100\n"
     ]
    },
    {
     "name": "stderr",
     "output_type": "stream",
     "text": [
      "🚀 Training: 100%|██████████| 13/13 [00:00<00:00, 14.37it/s, loss=1.5540]\n",
      "🚀 Validation: 100%|██████████| 2/2 [00:00<00:00, 45.88it/s, loss=7.4737]\n"
     ]
    },
    {
     "name": "stdout",
     "output_type": "stream",
     "text": [
      "[Epoch 89] Train Loss: 1.4516 | Val Loss: 7.6091\n",
      "Epoch 90/100\n"
     ]
    },
    {
     "name": "stderr",
     "output_type": "stream",
     "text": [
      "🚀 Training: 100%|██████████| 13/13 [00:00<00:00, 14.37it/s, loss=1.5261]\n",
      "🚀 Validation: 100%|██████████| 2/2 [00:00<00:00, 46.57it/s, loss=7.4760]\n"
     ]
    },
    {
     "name": "stdout",
     "output_type": "stream",
     "text": [
      "[Epoch 90] Train Loss: 1.4201 | Val Loss: 7.6086\n",
      "Epoch 91/100\n"
     ]
    },
    {
     "name": "stderr",
     "output_type": "stream",
     "text": [
      "🚀 Training: 100%|██████████| 13/13 [00:00<00:00, 14.35it/s, loss=1.4028]\n",
      "🚀 Validation: 100%|██████████| 2/2 [00:00<00:00, 44.51it/s, loss=7.5044]\n"
     ]
    },
    {
     "name": "stdout",
     "output_type": "stream",
     "text": [
      "[Epoch 91] Train Loss: 1.3889 | Val Loss: 7.6483\n",
      "Epoch 92/100\n"
     ]
    },
    {
     "name": "stderr",
     "output_type": "stream",
     "text": [
      "🚀 Training: 100%|██████████| 13/13 [00:00<00:00, 14.03it/s, loss=1.3948]\n",
      "🚀 Validation: 100%|██████████| 2/2 [00:00<00:00, 46.25it/s, loss=7.5168]\n"
     ]
    },
    {
     "name": "stdout",
     "output_type": "stream",
     "text": [
      "[Epoch 92] Train Loss: 1.3637 | Val Loss: 7.6594\n",
      "Epoch 93/100\n"
     ]
    },
    {
     "name": "stderr",
     "output_type": "stream",
     "text": [
      "🚀 Training: 100%|██████████| 13/13 [00:00<00:00, 14.30it/s, loss=1.2488]\n",
      "🚀 Validation: 100%|██████████| 2/2 [00:00<00:00, 46.95it/s, loss=7.5905]\n"
     ]
    },
    {
     "name": "stdout",
     "output_type": "stream",
     "text": [
      "[Epoch 93] Train Loss: 1.3347 | Val Loss: 7.7113\n",
      "Epoch 94/100\n"
     ]
    },
    {
     "name": "stderr",
     "output_type": "stream",
     "text": [
      "🚀 Training: 100%|██████████| 13/13 [00:00<00:00, 14.29it/s, loss=1.3157]\n",
      "🚀 Validation: 100%|██████████| 2/2 [00:00<00:00, 46.66it/s, loss=7.6291]\n"
     ]
    },
    {
     "name": "stdout",
     "output_type": "stream",
     "text": [
      "[Epoch 94] Train Loss: 1.3165 | Val Loss: 7.7437\n",
      "Epoch 95/100\n"
     ]
    },
    {
     "name": "stderr",
     "output_type": "stream",
     "text": [
      "🚀 Training: 100%|██████████| 13/13 [00:00<00:00, 14.24it/s, loss=1.3387]\n",
      "🚀 Validation: 100%|██████████| 2/2 [00:00<00:00, 46.33it/s, loss=7.6328]\n"
     ]
    },
    {
     "name": "stdout",
     "output_type": "stream",
     "text": [
      "[Epoch 95] Train Loss: 1.2949 | Val Loss: 7.7627\n",
      "Epoch 96/100\n"
     ]
    },
    {
     "name": "stderr",
     "output_type": "stream",
     "text": [
      "🚀 Training: 100%|██████████| 13/13 [00:00<00:00, 14.22it/s, loss=1.3237]\n",
      "🚀 Validation: 100%|██████████| 2/2 [00:00<00:00, 46.41it/s, loss=7.6379]\n"
     ]
    },
    {
     "name": "stdout",
     "output_type": "stream",
     "text": [
      "[Epoch 96] Train Loss: 1.2679 | Val Loss: 7.7801\n",
      "Epoch 97/100\n"
     ]
    },
    {
     "name": "stderr",
     "output_type": "stream",
     "text": [
      "🚀 Training:   0%|          | 0/13 [00:00<?, ?it/s]"
     ]
    }
   ],
   "source": [
    "import os\n",
    "import torch\n",
    "from tqdm import tqdm\n",
    "os.makedirs(SAVE_DIR, exist_ok=True)\n",
    "best_val_loss = float(\"inf\") \n",
    "best_model_path = None\n",
    "for epoch in range(1, EPOCHS + 1):\n",
    "    print(f\"Epoch {epoch}/{EPOCHS}\")\n",
    "    model.train()\n",
    "    total_train_loss = 0.0\n",
    "    train_bar = tqdm(train_loader, desc=\"🚀 Training\", \n",
    "                leave=True, total=len(train_loader))\n",
    "    for batch in train_bar:\n",
    "        optimizer.zero_grad()\n",
    "        src_batch = batch['src'].to(device)\n",
    "        tgt_batch = batch['tgt'].to(device)\n",
    "        \n",
    "        output, _ = model(src_batch, tgt_batch[:, :-1]) \n",
    "        output_dim = output.shape[-1]\n",
    "        output = output.reshape(-1, output_dim)\n",
    "        tgt_y = tgt_batch[:,1:].contiguous().view(-1)\n",
    "\n",
    "        loss = criterion(output, tgt_y)\n",
    "        loss.backward()\n",
    "        optimizer.step()\n",
    "        total_train_loss += loss.item()\n",
    "        train_bar.set_postfix(loss=f\"{loss.item():.4f}\")\n",
    "\n",
    "    avg_train_loss = total_train_loss / len(train_loader)\n",
    "    model.eval()\n",
    "    total_val_loss = 0.0\n",
    "    val_bar = tqdm(val_loader, desc=\"🚀 Validation\",\n",
    "              leave=True, total=len(val_loader))\n",
    "    with torch.no_grad():\n",
    "        for batch in val_bar:\n",
    "            src_batch = batch['src'].to(device)\n",
    "            tgt_batch = batch['tgt'].to(device)\n",
    "            \n",
    "            output, _ = model(src_batch, tgt_batch[:, :-1]) \n",
    "            output_dim = output.shape[-1]\n",
    "            output = output.reshape(-1, output_dim)\n",
    "            tgt_y = tgt_batch[:,1:].contiguous().view(-1)\n",
    "\n",
    "            loss = criterion(output, tgt_y)\n",
    "            total_val_loss += loss.item()\n",
    "            val_bar.set_postfix(loss=f\"{loss.item():.4f}\")\n",
    "    \n",
    "    avg_val_loss = total_val_loss / len(val_loader)\n",
    "    print(f\"[Epoch {epoch}] Train Loss: {avg_train_loss:.4f} | Val Loss: {avg_val_loss:.4f}\")\n",
    "    if avg_val_loss < best_val_loss:\n",
    "        if best_model_path and os.path.exists(best_model_path):\n",
    "            os.remove(best_model_path)\n",
    "        best_val_loss = avg_val_loss\n",
    "        best_model_path = os.path.join(SAVE_DIR, \"best.pt\")\n",
    "        torch.save(model.state_dict(), best_model_path)\n",
    "        print(f\"  -> New best model saved at {best_model_path}\")\n"
   ]
  },
  {
   "cell_type": "code",
   "execution_count": null,
   "metadata": {},
   "outputs": [],
   "source": []
  }
 ],
 "metadata": {
  "kernelspec": {
   "display_name": "torch_env",
   "language": "python",
   "name": "python3"
  },
  "language_info": {
   "codemirror_mode": {
    "name": "ipython",
    "version": 3
   },
   "file_extension": ".py",
   "mimetype": "text/x-python",
   "name": "python",
   "nbconvert_exporter": "python",
   "pygments_lexer": "ipython3",
   "version": "3.10.16"
  }
 },
 "nbformat": 4,
 "nbformat_minor": 2
}

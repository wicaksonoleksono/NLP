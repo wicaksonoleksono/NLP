{
 "cells": [
  {
   "cell_type": "code",
   "execution_count": 1,
   "metadata": {},
   "outputs": [
    {
     "name": "stderr",
     "output_type": "stream",
     "text": [
      "[nltk_data] Downloading package punkt to\n",
      "[nltk_data]     /home/wicaksonolxn/nltk_data...\n",
      "[nltk_data]   Package punkt is already up-to-date!\n"
     ]
    }
   ],
   "source": [
    "import os\n",
    "import torch\n",
    "import torch.nn as nn\n",
    "import torch.optim as optim\n",
    "from tqdm import tqdm\n",
    "from dataloader import get_dataloaders\n",
    "import nltk\n",
    "from nltk.translate.bleu_score import sentence_bleu, SmoothingFunction\n",
    "from transformer import Transformer,TransformerEncoder,TransformerDecoder\n",
    "import utils\n",
    "import pickle\n",
    "nltk.download('punkt')  \n",
    "device = torch.device('cuda' if torch.cuda.is_available() else 'cpu')"
   ]
  },
  {
   "cell_type": "code",
   "execution_count": 2,
   "metadata": {},
   "outputs": [],
   "source": [
    "BATCH_SIZE = 8 # butuh lebih banyak update \n",
    "DATA_PATH = \"dataset/\"  \n",
    "train_loader, val_loader, test_loader = get_dataloaders(\n",
    "    data_path=DATA_PATH, \n",
    "    source_lang=\"min\", \n",
    "    target_lang=\"eng\", \n",
    "    batch_size=BATCH_SIZE, \n",
    "    device=device\n",
    ")\n"
   ]
  },
  {
   "cell_type": "code",
   "execution_count": 3,
   "metadata": {},
   "outputs": [],
   "source": [
    "SRC_VOCAB_SIZE = 5000  \n",
    "TGT_VOCAB_SIZE = 5000  \n",
    "DROPOUT = 0.15      \n",
    "N_LAYERS = 2         \n",
    "N_HEADS = 2        \n",
    "FFN_HIDDEN = 256      \n",
    "D_MODEL = 128        \n",
    "\n",
    "encoder = TransformerEncoder(SRC_VOCAB_SIZE,D_MODEL,N_LAYERS,N_HEADS,FFN_HIDDEN,DROPOUT,device)\n",
    "decoder = TransformerDecoder(TGT_VOCAB_SIZE,D_MODEL,N_LAYERS,N_HEADS,FFN_HIDDEN,DROPOUT,device)\n",
    "model = Transformer(encoder,decoder,device,utils.PAD_TOKEN).to(device)\n"
   ]
  },
  {
   "cell_type": "code",
   "execution_count": 4,
   "metadata": {},
   "outputs": [
    {
     "name": "stdout",
     "output_type": "stream",
     "text": [
      "Model initialized on: cuda\n"
     ]
    }
   ],
   "source": [
    "optimizer = optim.Adam(model.parameters(), lr=1e-5)\n",
    "criterion = nn.CrossEntropyLoss(ignore_index=utils.PAD_TOKEN) \n",
    "print(\"Model initialized on:\", device)"
   ]
  },
  {
   "cell_type": "code",
   "execution_count": 5,
   "metadata": {},
   "outputs": [
    {
     "name": "stdout",
     "output_type": "stream",
     "text": [
      "src_batch type: <class 'torch.Tensor'>\n",
      "tgt_batch type: <class 'torch.Tensor'>\n",
      "src_batch shape: torch.Size([8, 52])\n",
      "tgt_batch shape: torch.Size([8, 52])\n"
     ]
    },
    {
     "name": "stderr",
     "output_type": "stream",
     "text": [
      "/home/wicaksonolxn/Documents/learnNLP/3.seq2seqTransformer/src/dataloader/_collate_fn.py:5: UserWarning: To copy construct from a tensor, it is recommended to use sourceTensor.clone().detach() or sourceTensor.clone().detach().requires_grad_(True), rather than torch.tensor(sourceTensor).\n",
      "  src_batch = [torch.tensor(item['src'], dtype=torch.long) for item in batch]\n",
      "/home/wicaksonolxn/Documents/learnNLP/3.seq2seqTransformer/src/dataloader/_collate_fn.py:6: UserWarning: To copy construct from a tensor, it is recommended to use sourceTensor.clone().detach() or sourceTensor.clone().detach().requires_grad_(True), rather than torch.tensor(sourceTensor).\n",
      "  tgt_batch = [torch.tensor(item['tgt'], dtype=torch.long) for item in batch]\n"
     ]
    }
   ],
   "source": [
    "\n",
    "for i, batch in enumerate(train_loader):\n",
    "    if i < 1:\n",
    "        print(\"src_batch type:\", type(batch['src']))  \n",
    "        print(\"tgt_batch type:\", type(batch['tgt']))  # Should be <class 'torch.Tensor'>\n",
    "        print(\"src_batch shape:\", batch['src'].shape)  \n",
    "        print(\"tgt_batch shape:\", batch['tgt'].shape)  \n",
    "    else:\n",
    "        break\n"
   ]
  },
  {
   "cell_type": "markdown",
   "metadata": {},
   "source": [
    "Checky checky ."
   ]
  },
  {
   "cell_type": "code",
   "execution_count": 8,
   "metadata": {},
   "outputs": [
    {
     "name": "stderr",
     "output_type": "stream",
     "text": [
      "/home/wicaksonolxn/Documents/learnNLP/3.seq2seqTransformer/src/dataloader/_collate_fn.py:5: UserWarning: To copy construct from a tensor, it is recommended to use sourceTensor.clone().detach() or sourceTensor.clone().detach().requires_grad_(True), rather than torch.tensor(sourceTensor).\n",
      "  src_batch = [torch.tensor(item['src'], dtype=torch.long) for item in batch]\n",
      "/home/wicaksonolxn/Documents/learnNLP/3.seq2seqTransformer/src/dataloader/_collate_fn.py:6: UserWarning: To copy construct from a tensor, it is recommended to use sourceTensor.clone().detach() or sourceTensor.clone().detach().requires_grad_(True), rather than torch.tensor(sourceTensor).\n",
      "  tgt_batch = [torch.tensor(item['tgt'], dtype=torch.long) for item in batch]\n"
     ]
    },
    {
     "ename": "KeyError",
     "evalue": "3317",
     "output_type": "error",
     "traceback": [
      "\u001b[0;31m---------------------------------------------------------------------------\u001b[0m",
      "\u001b[0;31mKeyError\u001b[0m                                  Traceback (most recent call last)",
      "Cell \u001b[0;32mIn[8], line 21\u001b[0m\n\u001b[1;32m     19\u001b[0m output \u001b[38;5;241m=\u001b[39m output\u001b[38;5;241m.\u001b[39mreshape(\u001b[38;5;241m-\u001b[39m\u001b[38;5;241m1\u001b[39m, output_dim)\n\u001b[1;32m     20\u001b[0m token_indices \u001b[38;5;241m=\u001b[39m torch\u001b[38;5;241m.\u001b[39margmax(output, dim\u001b[38;5;241m=\u001b[39m\u001b[38;5;241m1\u001b[39m)\u001b[38;5;241m.\u001b[39mcpu()\u001b[38;5;241m.\u001b[39mtolist()  \u001b[38;5;66;03m# Convert here\u001b[39;00m\n\u001b[0;32m---> 21\u001b[0m tt \u001b[38;5;241m=\u001b[39m \u001b[43mutils\u001b[49m\u001b[38;5;241;43m.\u001b[39;49m\u001b[43mdetokenize\u001b[49m\u001b[43m(\u001b[49m\u001b[43mtoken_indices\u001b[49m\u001b[43m,\u001b[49m\u001b[43m \u001b[49m\u001b[43moutput_dictionary\u001b[49m\u001b[43m)\u001b[49m\n\u001b[1;32m     22\u001b[0m \u001b[38;5;28mprint\u001b[39m(tt)\n\u001b[1;32m     23\u001b[0m \u001b[38;5;28mprint\u001b[39m(\u001b[38;5;124m\"\u001b[39m\u001b[38;5;124mMax index in output_dictionary:\u001b[39m\u001b[38;5;124m\"\u001b[39m, \u001b[38;5;28mmax\u001b[39m(output_dictionary\u001b[38;5;241m.\u001b[39mindex2word\u001b[38;5;241m.\u001b[39mkeys()))\n",
      "File \u001b[0;32m~/Documents/learnNLP/3.seq2seqTransformer/src/utils.py:84\u001b[0m, in \u001b[0;36mdetokenize\u001b[0;34m(x, vocab)\u001b[0m\n\u001b[1;32m     82\u001b[0m words \u001b[38;5;241m=\u001b[39m []\n\u001b[1;32m     83\u001b[0m \u001b[38;5;28;01mfor\u001b[39;00m i \u001b[38;5;129;01min\u001b[39;00m x:\n\u001b[0;32m---> 84\u001b[0m     word \u001b[38;5;241m=\u001b[39m \u001b[43mvocab\u001b[49m\u001b[38;5;241;43m.\u001b[39;49m\u001b[43mindex2word\u001b[49m\u001b[43m[\u001b[49m\u001b[43mi\u001b[49m\u001b[43m]\u001b[49m\n\u001b[1;32m     85\u001b[0m     \u001b[38;5;28;01mif\u001b[39;00m word \u001b[38;5;241m!=\u001b[39m \u001b[38;5;124m'\u001b[39m\u001b[38;5;124mEOS\u001b[39m\u001b[38;5;124m'\u001b[39m \u001b[38;5;129;01mand\u001b[39;00m word \u001b[38;5;241m!=\u001b[39m \u001b[38;5;124m'\u001b[39m\u001b[38;5;124mSOS\u001b[39m\u001b[38;5;124m'\u001b[39m \u001b[38;5;129;01mand\u001b[39;00m word \u001b[38;5;241m!=\u001b[39m \u001b[38;5;124m'\u001b[39m\u001b[38;5;124mPAD\u001b[39m\u001b[38;5;124m'\u001b[39m:\n\u001b[1;32m     86\u001b[0m         words\u001b[38;5;241m.\u001b[39mappend(word)\n",
      "\u001b[0;31mKeyError\u001b[0m: 3317"
     ]
    }
   ],
   "source": [
    "pth = \"dataset\"\n",
    "src = \"min\"\n",
    "tgt = \"eng\"\n",
    "tp  = os.path.join(pth,f\"{src}_{tgt}\")\n",
    "input_dic_path = os.path.join(tp, \"input_dic.pkl\")\n",
    "output_dic_path = os.path.join(tp, \"output_dic.pkl\")\n",
    "with open(input_dic_path, \"rb\") as f:\n",
    "    inp = pickle.load(f)\n",
    "with open(output_dic_path, \"rb\") as f:\n",
    "    output_dictionary = pickle.load(f)\n",
    "\n",
    "for i,batch in enumerate(train_loader):\n",
    "    if i <1:\n",
    "        src_batch = batch['src'].to(device)\n",
    "        tgt_batch = batch['tgt'].to(device)\n",
    "        output, _ = model(src_batch, tgt_batch[:, :-1]) \n",
    "\n",
    "        output_dim = output.shape[-1]\n",
    "        output = output.reshape(-1, output_dim)\n",
    "        token_indices = torch.argmax(output, dim=1).cpu().tolist()  # Convert here\n",
    "        tt = utils.detokenize(token_indices, output_dictionary)\n",
    "        print(tt)\n",
    "        print(\"Max index in output_dictionary:\", max(output_dictionary.index2word.keys()))\n",
    "        print(\"n_count:\", output_dictionary.n_count)"
   ]
  },
  {
   "cell_type": "markdown",
   "metadata": {},
   "source": [
    "\n",
    "        output,_= model(src_batch, tgt_batch)\n",
    "        output_dim = output.shape[-1]\n",
    "        output = output[:, :-1, :].reshape(-1, output_dim)\n",
    "        tgt_y  = tgt_batch[:, 1:].reshape(-1)"
   ]
  },
  {
   "cell_type": "code",
   "execution_count": null,
   "metadata": {},
   "outputs": [
    {
     "ename": "TypeError",
     "evalue": "detokenize() missing 1 required positional argument: 'vocab'",
     "output_type": "error",
     "traceback": [
      "\u001b[0;31m---------------------------------------------------------------------------\u001b[0m",
      "\u001b[0;31mTypeError\u001b[0m                                 Traceback (most recent call last)",
      "Cell \u001b[0;32mIn[13], line 8\u001b[0m\n\u001b[1;32m      6\u001b[0m output_dim \u001b[38;5;241m=\u001b[39m output\u001b[38;5;241m.\u001b[39mshape[\u001b[38;5;241m-\u001b[39m\u001b[38;5;241m1\u001b[39m]\n\u001b[1;32m      7\u001b[0m output \u001b[38;5;241m=\u001b[39m output\u001b[38;5;241m.\u001b[39mreshape(\u001b[38;5;241m-\u001b[39m\u001b[38;5;241m1\u001b[39m, output_dim)\n\u001b[0;32m----> 8\u001b[0m tt \u001b[38;5;241m=\u001b[39m \u001b[43mutils\u001b[49m\u001b[38;5;241;43m.\u001b[39;49m\u001b[43mdetokenize\u001b[49m\u001b[43m(\u001b[49m\u001b[43moutput\u001b[49m\u001b[43m,\u001b[49m\u001b[43m)\u001b[49m\n\u001b[1;32m      9\u001b[0m tgt_y \u001b[38;5;241m=\u001b[39m tgt_batch[:, :\u001b[38;5;241m-\u001b[39m\u001b[38;5;241m1\u001b[39m]\u001b[38;5;241m.\u001b[39mreshape(\u001b[38;5;241m-\u001b[39m\u001b[38;5;241m1\u001b[39m)\n\u001b[1;32m     10\u001b[0m \u001b[38;5;28mprint\u001b[39m(tt,tgt_y)\n",
      "\u001b[0;31mTypeError\u001b[0m: detokenize() missing 1 required positional argument: 'vocab'"
     ]
    }
   ],
   "source": []
  },
  {
   "cell_type": "code",
   "execution_count": null,
   "metadata": {},
   "outputs": [
    {
     "name": "stdout",
     "output_type": "stream",
     "text": [
      "Epoch 1/250\n"
     ]
    },
    {
     "name": "stderr",
     "output_type": "stream",
     "text": [
      "🚀 Training:   0%|          | 0/102 [00:00<?, ?it/s]/home/wicaksonolxn/Documents/learnNLP/3.seq2seqTransformer/src/dataloader/_collate_fn.py:5: UserWarning: To copy construct from a tensor, it is recommended to use sourceTensor.clone().detach() or sourceTensor.clone().detach().requires_grad_(True), rather than torch.tensor(sourceTensor).\n",
      "  src_batch = [torch.tensor(item['src'], dtype=torch.long) for item in batch]\n",
      "/home/wicaksonolxn/Documents/learnNLP/3.seq2seqTransformer/src/dataloader/_collate_fn.py:6: UserWarning: To copy construct from a tensor, it is recommended to use sourceTensor.clone().detach() or sourceTensor.clone().detach().requires_grad_(True), rather than torch.tensor(sourceTensor).\n",
      "  tgt_batch = [torch.tensor(item['tgt'], dtype=torch.long) for item in batch]\n",
      "🚀 Validation: 100%|██████████| 21/21 [00:00<00:00, 223.45it/s, loss=8.4977]\n"
     ]
    },
    {
     "name": "stdout",
     "output_type": "stream",
     "text": [
      "[Epoch 1] Train Loss: 8.5404 | Val Loss: 8.4775\n",
      "  -> New best model saved at saved/best.pt\n",
      "Epoch 2/250\n"
     ]
    },
    {
     "name": "stderr",
     "output_type": "stream",
     "text": [
      "🚀 Validation: 100%|██████████| 21/21 [00:00<00:00, 192.19it/s, loss=8.3446]\n"
     ]
    },
    {
     "name": "stdout",
     "output_type": "stream",
     "text": [
      "[Epoch 2] Train Loss: 8.4069 | Val Loss: 8.3251\n",
      "  -> New best model saved at saved/best.pt\n",
      "Epoch 3/250\n"
     ]
    },
    {
     "name": "stderr",
     "output_type": "stream",
     "text": [
      "🚀 Validation: 100%|██████████| 21/21 [00:00<00:00, 195.29it/s, loss=8.1851]\n"
     ]
    },
    {
     "name": "stdout",
     "output_type": "stream",
     "text": [
      "[Epoch 3] Train Loss: 8.2624 | Val Loss: 8.1664\n",
      "  -> New best model saved at saved/best.pt\n",
      "Epoch 4/250\n"
     ]
    },
    {
     "name": "stderr",
     "output_type": "stream",
     "text": [
      "🚀 Validation: 100%|██████████| 21/21 [00:00<00:00, 234.57it/s, loss=8.0126]\n"
     ]
    },
    {
     "name": "stdout",
     "output_type": "stream",
     "text": [
      "[Epoch 4] Train Loss: 8.1128 | Val Loss: 7.9952\n",
      "  -> New best model saved at saved/best.pt\n",
      "Epoch 5/250\n"
     ]
    },
    {
     "name": "stderr",
     "output_type": "stream",
     "text": [
      "🚀 Validation: 100%|██████████| 21/21 [00:00<00:00, 175.19it/s, loss=7.8293]\n"
     ]
    },
    {
     "name": "stdout",
     "output_type": "stream",
     "text": [
      "[Epoch 5] Train Loss: 7.9522 | Val Loss: 7.8127\n",
      "  -> New best model saved at saved/best.pt\n",
      "Epoch 6/250\n"
     ]
    },
    {
     "name": "stderr",
     "output_type": "stream",
     "text": [
      "🚀 Validation: 100%|██████████| 21/21 [00:00<00:00, 253.70it/s, loss=7.6374]\n"
     ]
    },
    {
     "name": "stdout",
     "output_type": "stream",
     "text": [
      "[Epoch 6] Train Loss: 7.7811 | Val Loss: 7.6222\n",
      "  -> New best model saved at saved/best.pt\n",
      "Epoch 7/250\n"
     ]
    },
    {
     "name": "stderr",
     "output_type": "stream",
     "text": [
      "🚀 Validation: 100%|██████████| 21/21 [00:00<00:00, 186.68it/s, loss=7.4410]\n"
     ]
    },
    {
     "name": "stdout",
     "output_type": "stream",
     "text": [
      "[Epoch 7] Train Loss: 7.6057 | Val Loss: 7.4270\n",
      "  -> New best model saved at saved/best.pt\n",
      "Epoch 8/250\n"
     ]
    },
    {
     "name": "stderr",
     "output_type": "stream",
     "text": [
      "🚀 Validation: 100%|██████████| 21/21 [00:00<00:00, 221.13it/s, loss=7.2448]\n"
     ]
    },
    {
     "name": "stdout",
     "output_type": "stream",
     "text": [
      "[Epoch 8] Train Loss: 7.4229 | Val Loss: 7.2311\n",
      "  -> New best model saved at saved/best.pt\n",
      "Epoch 9/250\n"
     ]
    },
    {
     "name": "stderr",
     "output_type": "stream",
     "text": [
      "🚀 Validation: 100%|██████████| 21/21 [00:00<00:00, 142.82it/s, loss=7.0521]\n"
     ]
    },
    {
     "name": "stdout",
     "output_type": "stream",
     "text": [
      "[Epoch 9] Train Loss: 7.2495 | Val Loss: 7.0389\n",
      "  -> New best model saved at saved/best.pt\n",
      "Epoch 10/250\n"
     ]
    },
    {
     "name": "stderr",
     "output_type": "stream",
     "text": [
      "🚀 Validation: 100%|██████████| 21/21 [00:00<00:00, 206.82it/s, loss=6.8673]\n"
     ]
    },
    {
     "name": "stdout",
     "output_type": "stream",
     "text": [
      "[Epoch 10] Train Loss: 7.0696 | Val Loss: 6.8542\n",
      "  -> New best model saved at saved/best.pt\n",
      "Epoch 11/250\n"
     ]
    },
    {
     "name": "stderr",
     "output_type": "stream",
     "text": [
      "🚀 Validation: 100%|██████████| 21/21 [00:00<00:00, 228.90it/s, loss=6.6900]\n"
     ]
    },
    {
     "name": "stdout",
     "output_type": "stream",
     "text": [
      "[Epoch 11] Train Loss: 6.8965 | Val Loss: 6.6773\n",
      "  -> New best model saved at saved/best.pt\n",
      "Epoch 12/250\n"
     ]
    },
    {
     "name": "stderr",
     "output_type": "stream",
     "text": [
      "🚀 Validation: 100%|██████████| 21/21 [00:00<00:00, 239.24it/s, loss=6.5236]\n"
     ]
    },
    {
     "name": "stdout",
     "output_type": "stream",
     "text": [
      "[Epoch 12] Train Loss: 6.7420 | Val Loss: 6.5115\n",
      "  -> New best model saved at saved/best.pt\n",
      "Epoch 13/250\n"
     ]
    },
    {
     "name": "stderr",
     "output_type": "stream",
     "text": [
      "🚀 Validation: 100%|██████████| 21/21 [00:00<00:00, 213.92it/s, loss=6.3668]\n"
     ]
    },
    {
     "name": "stdout",
     "output_type": "stream",
     "text": [
      "[Epoch 13] Train Loss: 6.5846 | Val Loss: 6.3550\n",
      "  -> New best model saved at saved/best.pt\n",
      "Epoch 14/250\n"
     ]
    },
    {
     "name": "stderr",
     "output_type": "stream",
     "text": [
      "🚀 Validation: 100%|██████████| 21/21 [00:00<00:00, 243.63it/s, loss=6.2182]\n"
     ]
    },
    {
     "name": "stdout",
     "output_type": "stream",
     "text": [
      "[Epoch 14] Train Loss: 6.4483 | Val Loss: 6.2069\n",
      "  -> New best model saved at saved/best.pt\n",
      "Epoch 15/250\n"
     ]
    },
    {
     "name": "stderr",
     "output_type": "stream",
     "text": [
      "🚀 Validation: 100%|██████████| 21/21 [00:00<00:00, 190.02it/s, loss=6.0787]\n"
     ]
    },
    {
     "name": "stdout",
     "output_type": "stream",
     "text": [
      "[Epoch 15] Train Loss: 6.3123 | Val Loss: 6.0677\n",
      "  -> New best model saved at saved/best.pt\n",
      "Epoch 16/250\n"
     ]
    },
    {
     "name": "stderr",
     "output_type": "stream",
     "text": [
      "🚀 Validation: 100%|██████████| 21/21 [00:00<00:00, 233.23it/s, loss=5.9451]\n"
     ]
    },
    {
     "name": "stdout",
     "output_type": "stream",
     "text": [
      "[Epoch 16] Train Loss: 6.1831 | Val Loss: 5.9345\n",
      "  -> New best model saved at saved/best.pt\n",
      "Epoch 17/250\n"
     ]
    },
    {
     "name": "stderr",
     "output_type": "stream",
     "text": [
      "🚀 Validation: 100%|██████████| 21/21 [00:00<00:00, 205.89it/s, loss=5.8186]\n"
     ]
    },
    {
     "name": "stdout",
     "output_type": "stream",
     "text": [
      "[Epoch 17] Train Loss: 6.0563 | Val Loss: 5.8079\n",
      "  -> New best model saved at saved/best.pt\n",
      "Epoch 18/250\n"
     ]
    },
    {
     "name": "stderr",
     "output_type": "stream",
     "text": [
      "🚀 Validation: 100%|██████████| 21/21 [00:00<00:00, 222.55it/s, loss=5.6974]\n"
     ]
    },
    {
     "name": "stdout",
     "output_type": "stream",
     "text": [
      "[Epoch 18] Train Loss: 5.9487 | Val Loss: 5.6871\n",
      "  -> New best model saved at saved/best.pt\n",
      "Epoch 19/250\n"
     ]
    },
    {
     "name": "stderr",
     "output_type": "stream",
     "text": [
      "🚀 Validation: 100%|██████████| 21/21 [00:00<00:00, 224.80it/s, loss=5.5831]\n"
     ]
    },
    {
     "name": "stdout",
     "output_type": "stream",
     "text": [
      "[Epoch 19] Train Loss: 5.8406 | Val Loss: 5.5735\n",
      "  -> New best model saved at saved/best.pt\n",
      "Epoch 20/250\n"
     ]
    },
    {
     "name": "stderr",
     "output_type": "stream",
     "text": [
      "🚀 Validation: 100%|██████████| 21/21 [00:00<00:00, 231.59it/s, loss=5.4732]\n"
     ]
    },
    {
     "name": "stdout",
     "output_type": "stream",
     "text": [
      "[Epoch 20] Train Loss: 5.7345 | Val Loss: 5.4633\n",
      "  -> New best model saved at saved/best.pt\n",
      "Epoch 21/250\n"
     ]
    },
    {
     "name": "stderr",
     "output_type": "stream",
     "text": [
      "🚀 Validation: 100%|██████████| 21/21 [00:00<00:00, 175.17it/s, loss=5.3675]\n"
     ]
    },
    {
     "name": "stdout",
     "output_type": "stream",
     "text": [
      "[Epoch 21] Train Loss: 5.6295 | Val Loss: 5.3582\n",
      "  -> New best model saved at saved/best.pt\n",
      "Epoch 22/250\n"
     ]
    },
    {
     "name": "stderr",
     "output_type": "stream",
     "text": [
      "🚀 Validation: 100%|██████████| 21/21 [00:00<00:00, 211.13it/s, loss=5.2678]\n"
     ]
    },
    {
     "name": "stdout",
     "output_type": "stream",
     "text": [
      "[Epoch 22] Train Loss: 5.5347 | Val Loss: 5.2584\n",
      "  -> New best model saved at saved/best.pt\n",
      "Epoch 23/250\n"
     ]
    },
    {
     "name": "stderr",
     "output_type": "stream",
     "text": [
      "🚀 Validation: 100%|██████████| 21/21 [00:00<00:00, 149.69it/s, loss=5.1721]\n"
     ]
    },
    {
     "name": "stdout",
     "output_type": "stream",
     "text": [
      "[Epoch 23] Train Loss: 5.4375 | Val Loss: 5.1626\n",
      "  -> New best model saved at saved/best.pt\n",
      "Epoch 24/250\n"
     ]
    },
    {
     "name": "stderr",
     "output_type": "stream",
     "text": [
      "🚀 Validation: 100%|██████████| 21/21 [00:00<00:00, 217.40it/s, loss=5.0797]\n"
     ]
    },
    {
     "name": "stdout",
     "output_type": "stream",
     "text": [
      "[Epoch 24] Train Loss: 5.3542 | Val Loss: 5.0705\n",
      "  -> New best model saved at saved/best.pt\n",
      "Epoch 25/250\n"
     ]
    },
    {
     "name": "stderr",
     "output_type": "stream",
     "text": [
      "🚀 Validation: 100%|██████████| 21/21 [00:00<00:00, 190.71it/s, loss=4.9917]\n"
     ]
    },
    {
     "name": "stdout",
     "output_type": "stream",
     "text": [
      "[Epoch 25] Train Loss: 5.2620 | Val Loss: 4.9831\n",
      "  -> New best model saved at saved/best.pt\n",
      "Epoch 26/250\n"
     ]
    },
    {
     "name": "stderr",
     "output_type": "stream",
     "text": [
      "🚀 Validation: 100%|██████████| 21/21 [00:00<00:00, 184.35it/s, loss=4.9059]\n"
     ]
    },
    {
     "name": "stdout",
     "output_type": "stream",
     "text": [
      "[Epoch 26] Train Loss: 5.1812 | Val Loss: 4.8969\n",
      "  -> New best model saved at saved/best.pt\n",
      "Epoch 27/250\n"
     ]
    },
    {
     "name": "stderr",
     "output_type": "stream",
     "text": [
      "🚀 Validation: 100%|██████████| 21/21 [00:00<00:00, 171.88it/s, loss=4.8246]\n"
     ]
    },
    {
     "name": "stdout",
     "output_type": "stream",
     "text": [
      "[Epoch 27] Train Loss: 5.0951 | Val Loss: 4.8156\n",
      "  -> New best model saved at saved/best.pt\n",
      "Epoch 28/250\n"
     ]
    },
    {
     "name": "stderr",
     "output_type": "stream",
     "text": [
      "🚀 Validation: 100%|██████████| 21/21 [00:00<00:00, 213.19it/s, loss=4.7458]\n"
     ]
    },
    {
     "name": "stdout",
     "output_type": "stream",
     "text": [
      "[Epoch 28] Train Loss: 5.0229 | Val Loss: 4.7369\n",
      "  -> New best model saved at saved/best.pt\n",
      "Epoch 29/250\n"
     ]
    },
    {
     "name": "stderr",
     "output_type": "stream",
     "text": [
      "🚀 Validation: 100%|██████████| 21/21 [00:00<00:00, 182.00it/s, loss=4.6683]\n"
     ]
    },
    {
     "name": "stdout",
     "output_type": "stream",
     "text": [
      "[Epoch 29] Train Loss: 4.9456 | Val Loss: 4.6602\n",
      "  -> New best model saved at saved/best.pt\n",
      "Epoch 30/250\n"
     ]
    },
    {
     "name": "stderr",
     "output_type": "stream",
     "text": [
      "🚀 Validation: 100%|██████████| 21/21 [00:00<00:00, 243.07it/s, loss=4.5947]\n"
     ]
    },
    {
     "name": "stdout",
     "output_type": "stream",
     "text": [
      "[Epoch 30] Train Loss: 4.8767 | Val Loss: 4.5871\n",
      "  -> New best model saved at saved/best.pt\n",
      "Epoch 31/250\n"
     ]
    },
    {
     "name": "stderr",
     "output_type": "stream",
     "text": [
      "🚀 Validation: 100%|██████████| 21/21 [00:00<00:00, 172.49it/s, loss=4.5227]\n"
     ]
    },
    {
     "name": "stdout",
     "output_type": "stream",
     "text": [
      "[Epoch 31] Train Loss: 4.8085 | Val Loss: 4.5156\n",
      "  -> New best model saved at saved/best.pt\n",
      "Epoch 32/250\n"
     ]
    },
    {
     "name": "stderr",
     "output_type": "stream",
     "text": [
      "🚀 Validation: 100%|██████████| 21/21 [00:00<00:00, 221.49it/s, loss=4.4536]\n"
     ]
    },
    {
     "name": "stdout",
     "output_type": "stream",
     "text": [
      "[Epoch 32] Train Loss: 4.7362 | Val Loss: 4.4462\n",
      "  -> New best model saved at saved/best.pt\n",
      "Epoch 33/250\n"
     ]
    },
    {
     "name": "stderr",
     "output_type": "stream",
     "text": [
      "🚀 Validation: 100%|██████████| 21/21 [00:00<00:00, 221.31it/s, loss=4.3848]\n"
     ]
    },
    {
     "name": "stdout",
     "output_type": "stream",
     "text": [
      "[Epoch 33] Train Loss: 4.6684 | Val Loss: 4.3787\n",
      "  -> New best model saved at saved/best.pt\n",
      "Epoch 34/250\n"
     ]
    },
    {
     "name": "stderr",
     "output_type": "stream",
     "text": [
      "🚀 Validation: 100%|██████████| 21/21 [00:00<00:00, 206.30it/s, loss=4.3197]\n"
     ]
    },
    {
     "name": "stdout",
     "output_type": "stream",
     "text": [
      "[Epoch 34] Train Loss: 4.6086 | Val Loss: 4.3140\n",
      "  -> New best model saved at saved/best.pt\n",
      "Epoch 35/250\n"
     ]
    },
    {
     "name": "stderr",
     "output_type": "stream",
     "text": [
      "🚀 Validation: 100%|██████████| 21/21 [00:00<00:00, 116.74it/s, loss=4.2563]\n"
     ]
    },
    {
     "name": "stdout",
     "output_type": "stream",
     "text": [
      "[Epoch 35] Train Loss: 4.5442 | Val Loss: 4.2510\n",
      "  -> New best model saved at saved/best.pt\n",
      "Epoch 36/250\n"
     ]
    },
    {
     "name": "stderr",
     "output_type": "stream",
     "text": [
      "🚀 Validation: 100%|██████████| 21/21 [00:00<00:00, 217.88it/s, loss=4.1947]\n"
     ]
    },
    {
     "name": "stdout",
     "output_type": "stream",
     "text": [
      "[Epoch 36] Train Loss: 4.4853 | Val Loss: 4.1904\n",
      "  -> New best model saved at saved/best.pt\n",
      "Epoch 37/250\n"
     ]
    },
    {
     "name": "stderr",
     "output_type": "stream",
     "text": [
      "🚀 Validation: 100%|██████████| 21/21 [00:00<00:00, 206.23it/s, loss=4.1346]\n"
     ]
    },
    {
     "name": "stdout",
     "output_type": "stream",
     "text": [
      "[Epoch 37] Train Loss: 4.4243 | Val Loss: 4.1312\n",
      "  -> New best model saved at saved/best.pt\n",
      "Epoch 38/250\n"
     ]
    },
    {
     "name": "stderr",
     "output_type": "stream",
     "text": [
      "🚀 Validation: 100%|██████████| 21/21 [00:00<00:00, 227.50it/s, loss=4.0769]\n"
     ]
    },
    {
     "name": "stdout",
     "output_type": "stream",
     "text": [
      "[Epoch 38] Train Loss: 4.3696 | Val Loss: 4.0740\n",
      "  -> New best model saved at saved/best.pt\n",
      "Epoch 39/250\n"
     ]
    },
    {
     "name": "stderr",
     "output_type": "stream",
     "text": [
      "🚀 Validation: 100%|██████████| 21/21 [00:00<00:00, 308.67it/s, loss=4.0210]\n"
     ]
    },
    {
     "name": "stdout",
     "output_type": "stream",
     "text": [
      "[Epoch 39] Train Loss: 4.3111 | Val Loss: 4.0192\n",
      "  -> New best model saved at saved/best.pt\n",
      "Epoch 40/250\n"
     ]
    },
    {
     "name": "stderr",
     "output_type": "stream",
     "text": [
      "🚀 Validation: 100%|██████████| 21/21 [00:00<00:00, 315.66it/s, loss=3.9644]\n"
     ]
    },
    {
     "name": "stdout",
     "output_type": "stream",
     "text": [
      "[Epoch 40] Train Loss: 4.2578 | Val Loss: 3.9640\n",
      "  -> New best model saved at saved/best.pt\n",
      "Epoch 41/250\n"
     ]
    },
    {
     "name": "stderr",
     "output_type": "stream",
     "text": [
      "🚀 Validation: 100%|██████████| 21/21 [00:00<00:00, 221.34it/s, loss=3.9114]\n"
     ]
    },
    {
     "name": "stdout",
     "output_type": "stream",
     "text": [
      "[Epoch 41] Train Loss: 4.2093 | Val Loss: 3.9113\n",
      "  -> New best model saved at saved/best.pt\n",
      "Epoch 42/250\n"
     ]
    },
    {
     "name": "stderr",
     "output_type": "stream",
     "text": [
      "🚀 Validation: 100%|██████████| 21/21 [00:00<00:00, 340.40it/s, loss=3.8589]\n"
     ]
    },
    {
     "name": "stdout",
     "output_type": "stream",
     "text": [
      "[Epoch 42] Train Loss: 4.1581 | Val Loss: 3.8598\n",
      "  -> New best model saved at saved/best.pt\n",
      "Epoch 43/250\n"
     ]
    },
    {
     "name": "stderr",
     "output_type": "stream",
     "text": [
      "🚀 Validation: 100%|██████████| 21/21 [00:00<00:00, 299.63it/s, loss=3.8090]\n"
     ]
    },
    {
     "name": "stdout",
     "output_type": "stream",
     "text": [
      "[Epoch 43] Train Loss: 4.1046 | Val Loss: 3.8103\n",
      "  -> New best model saved at saved/best.pt\n",
      "Epoch 44/250\n"
     ]
    },
    {
     "name": "stderr",
     "output_type": "stream",
     "text": [
      "🚀 Validation: 100%|██████████| 21/21 [00:00<00:00, 332.68it/s, loss=3.7594]\n"
     ]
    },
    {
     "name": "stdout",
     "output_type": "stream",
     "text": [
      "[Epoch 44] Train Loss: 4.0628 | Val Loss: 3.7618\n",
      "  -> New best model saved at saved/best.pt\n",
      "Epoch 45/250\n"
     ]
    },
    {
     "name": "stderr",
     "output_type": "stream",
     "text": [
      "🚀 Validation: 100%|██████████| 21/21 [00:00<00:00, 217.40it/s, loss=3.7112]\n"
     ]
    },
    {
     "name": "stdout",
     "output_type": "stream",
     "text": [
      "[Epoch 45] Train Loss: 4.0174 | Val Loss: 3.7143\n",
      "  -> New best model saved at saved/best.pt\n",
      "Epoch 46/250\n"
     ]
    },
    {
     "name": "stderr",
     "output_type": "stream",
     "text": [
      "🚀 Validation: 100%|██████████| 21/21 [00:00<00:00, 214.31it/s, loss=3.6637]\n"
     ]
    },
    {
     "name": "stdout",
     "output_type": "stream",
     "text": [
      "[Epoch 46] Train Loss: 3.9677 | Val Loss: 3.6676\n",
      "  -> New best model saved at saved/best.pt\n",
      "Epoch 47/250\n"
     ]
    },
    {
     "name": "stderr",
     "output_type": "stream",
     "text": [
      "🚀 Validation: 100%|██████████| 21/21 [00:00<00:00, 164.56it/s, loss=3.6168]\n"
     ]
    },
    {
     "name": "stdout",
     "output_type": "stream",
     "text": [
      "[Epoch 47] Train Loss: 3.9214 | Val Loss: 3.6211\n",
      "  -> New best model saved at saved/best.pt\n",
      "Epoch 48/250\n"
     ]
    },
    {
     "name": "stderr",
     "output_type": "stream",
     "text": [
      "🚀 Validation: 100%|██████████| 21/21 [00:00<00:00, 241.29it/s, loss=3.5719]\n"
     ]
    },
    {
     "name": "stdout",
     "output_type": "stream",
     "text": [
      "[Epoch 48] Train Loss: 3.8819 | Val Loss: 3.5767\n",
      "  -> New best model saved at saved/best.pt\n",
      "Epoch 49/250\n"
     ]
    },
    {
     "name": "stderr",
     "output_type": "stream",
     "text": [
      "🚀 Validation: 100%|██████████| 21/21 [00:00<00:00, 174.18it/s, loss=3.5282]\n"
     ]
    },
    {
     "name": "stdout",
     "output_type": "stream",
     "text": [
      "[Epoch 49] Train Loss: 3.8344 | Val Loss: 3.5339\n",
      "  -> New best model saved at saved/best.pt\n",
      "Epoch 50/250\n"
     ]
    },
    {
     "name": "stderr",
     "output_type": "stream",
     "text": [
      "🚀 Validation: 100%|██████████| 21/21 [00:00<00:00, 254.93it/s, loss=3.4834]\n"
     ]
    },
    {
     "name": "stdout",
     "output_type": "stream",
     "text": [
      "[Epoch 50] Train Loss: 3.7919 | Val Loss: 3.4900\n",
      "  -> New best model saved at saved/best.pt\n",
      "Epoch 51/250\n"
     ]
    },
    {
     "name": "stderr",
     "output_type": "stream",
     "text": [
      "🚀 Validation: 100%|██████████| 21/21 [00:00<00:00, 182.34it/s, loss=3.4406]\n"
     ]
    },
    {
     "name": "stdout",
     "output_type": "stream",
     "text": [
      "[Epoch 51] Train Loss: 3.7505 | Val Loss: 3.4482\n",
      "  -> New best model saved at saved/best.pt\n",
      "Epoch 52/250\n"
     ]
    },
    {
     "name": "stderr",
     "output_type": "stream",
     "text": [
      "🚀 Validation: 100%|██████████| 21/21 [00:00<00:00, 235.91it/s, loss=3.3988]\n"
     ]
    },
    {
     "name": "stdout",
     "output_type": "stream",
     "text": [
      "[Epoch 52] Train Loss: 3.7151 | Val Loss: 3.4070\n",
      "  -> New best model saved at saved/best.pt\n",
      "Epoch 53/250\n"
     ]
    },
    {
     "name": "stderr",
     "output_type": "stream",
     "text": [
      "🚀 Validation: 100%|██████████| 21/21 [00:00<00:00, 179.19it/s, loss=3.3573]\n"
     ]
    },
    {
     "name": "stdout",
     "output_type": "stream",
     "text": [
      "[Epoch 53] Train Loss: 3.6754 | Val Loss: 3.3666\n",
      "  -> New best model saved at saved/best.pt\n",
      "Epoch 54/250\n"
     ]
    },
    {
     "name": "stderr",
     "output_type": "stream",
     "text": [
      "🚀 Validation: 100%|██████████| 21/21 [00:00<00:00, 243.55it/s, loss=3.3174]\n"
     ]
    },
    {
     "name": "stdout",
     "output_type": "stream",
     "text": [
      "[Epoch 54] Train Loss: 3.6340 | Val Loss: 3.3272\n",
      "  -> New best model saved at saved/best.pt\n",
      "Epoch 55/250\n"
     ]
    },
    {
     "name": "stderr",
     "output_type": "stream",
     "text": [
      "🚀 Validation: 100%|██████████| 21/21 [00:00<00:00, 173.58it/s, loss=3.2767]\n"
     ]
    },
    {
     "name": "stdout",
     "output_type": "stream",
     "text": [
      "[Epoch 55] Train Loss: 3.6002 | Val Loss: 3.2873\n",
      "  -> New best model saved at saved/best.pt\n",
      "Epoch 56/250\n"
     ]
    },
    {
     "name": "stderr",
     "output_type": "stream",
     "text": [
      "🚀 Validation: 100%|██████████| 21/21 [00:00<00:00, 255.24it/s, loss=3.2381]\n"
     ]
    },
    {
     "name": "stdout",
     "output_type": "stream",
     "text": [
      "[Epoch 56] Train Loss: 3.5650 | Val Loss: 3.2494\n",
      "  -> New best model saved at saved/best.pt\n",
      "Epoch 57/250\n"
     ]
    },
    {
     "name": "stderr",
     "output_type": "stream",
     "text": [
      "🚀 Validation: 100%|██████████| 21/21 [00:00<00:00, 271.46it/s, loss=3.2000]\n"
     ]
    },
    {
     "name": "stdout",
     "output_type": "stream",
     "text": [
      "[Epoch 57] Train Loss: 3.5240 | Val Loss: 3.2122\n",
      "  -> New best model saved at saved/best.pt\n",
      "Epoch 58/250\n"
     ]
    },
    {
     "name": "stderr",
     "output_type": "stream",
     "text": [
      "🚀 Validation: 100%|██████████| 21/21 [00:00<00:00, 340.27it/s, loss=3.1615]\n"
     ]
    },
    {
     "name": "stdout",
     "output_type": "stream",
     "text": [
      "[Epoch 58] Train Loss: 3.4940 | Val Loss: 3.1746\n",
      "  -> New best model saved at saved/best.pt\n",
      "Epoch 59/250\n"
     ]
    },
    {
     "name": "stderr",
     "output_type": "stream",
     "text": [
      "🚀 Validation: 100%|██████████| 21/21 [00:00<00:00, 162.81it/s, loss=3.1241]\n"
     ]
    },
    {
     "name": "stdout",
     "output_type": "stream",
     "text": [
      "[Epoch 59] Train Loss: 3.4658 | Val Loss: 3.1380\n",
      "  -> New best model saved at saved/best.pt\n",
      "Epoch 60/250\n"
     ]
    },
    {
     "name": "stderr",
     "output_type": "stream",
     "text": [
      "🚀 Validation: 100%|██████████| 21/21 [00:00<00:00, 222.09it/s, loss=3.0880]\n"
     ]
    },
    {
     "name": "stdout",
     "output_type": "stream",
     "text": [
      "[Epoch 60] Train Loss: 3.4275 | Val Loss: 3.1028\n",
      "  -> New best model saved at saved/best.pt\n",
      "Epoch 61/250\n"
     ]
    },
    {
     "name": "stderr",
     "output_type": "stream",
     "text": [
      "🚀 Validation: 100%|██████████| 21/21 [00:00<00:00, 221.45it/s, loss=3.0517]\n"
     ]
    },
    {
     "name": "stdout",
     "output_type": "stream",
     "text": [
      "[Epoch 61] Train Loss: 3.3880 | Val Loss: 3.0672\n",
      "  -> New best model saved at saved/best.pt\n",
      "Epoch 62/250\n"
     ]
    },
    {
     "name": "stderr",
     "output_type": "stream",
     "text": [
      "🚀 Validation: 100%|██████████| 21/21 [00:00<00:00, 211.84it/s, loss=3.0162]\n"
     ]
    },
    {
     "name": "stdout",
     "output_type": "stream",
     "text": [
      "[Epoch 62] Train Loss: 3.3550 | Val Loss: 3.0324\n",
      "  -> New best model saved at saved/best.pt\n",
      "Epoch 63/250\n"
     ]
    },
    {
     "name": "stderr",
     "output_type": "stream",
     "text": [
      "🚀 Validation: 100%|██████████| 21/21 [00:00<00:00, 145.68it/s, loss=2.9806]\n"
     ]
    },
    {
     "name": "stdout",
     "output_type": "stream",
     "text": [
      "[Epoch 63] Train Loss: 3.3217 | Val Loss: 2.9976\n",
      "  -> New best model saved at saved/best.pt\n",
      "Epoch 64/250\n"
     ]
    },
    {
     "name": "stderr",
     "output_type": "stream",
     "text": [
      "🚀 Validation: 100%|██████████| 21/21 [00:00<00:00, 163.55it/s, loss=2.9459]\n"
     ]
    },
    {
     "name": "stdout",
     "output_type": "stream",
     "text": [
      "[Epoch 64] Train Loss: 3.2953 | Val Loss: 2.9639\n",
      "  -> New best model saved at saved/best.pt\n",
      "Epoch 65/250\n"
     ]
    },
    {
     "name": "stderr",
     "output_type": "stream",
     "text": [
      "🚀 Validation: 100%|██████████| 21/21 [00:00<00:00, 193.13it/s, loss=2.9122]\n"
     ]
    },
    {
     "name": "stdout",
     "output_type": "stream",
     "text": [
      "[Epoch 65] Train Loss: 3.2623 | Val Loss: 2.9308\n",
      "  -> New best model saved at saved/best.pt\n",
      "Epoch 66/250\n"
     ]
    },
    {
     "name": "stderr",
     "output_type": "stream",
     "text": [
      "🚀 Validation: 100%|██████████| 21/21 [00:00<00:00, 217.88it/s, loss=2.8789]\n"
     ]
    },
    {
     "name": "stdout",
     "output_type": "stream",
     "text": [
      "[Epoch 66] Train Loss: 3.2372 | Val Loss: 2.8979\n",
      "  -> New best model saved at saved/best.pt\n",
      "Epoch 67/250\n"
     ]
    },
    {
     "name": "stderr",
     "output_type": "stream",
     "text": [
      "🚀 Validation: 100%|██████████| 21/21 [00:00<00:00, 148.03it/s, loss=2.8453]\n"
     ]
    },
    {
     "name": "stdout",
     "output_type": "stream",
     "text": [
      "[Epoch 67] Train Loss: 3.1999 | Val Loss: 2.8651\n",
      "  -> New best model saved at saved/best.pt\n",
      "Epoch 68/250\n"
     ]
    },
    {
     "name": "stderr",
     "output_type": "stream",
     "text": [
      "🚀 Validation: 100%|██████████| 21/21 [00:00<00:00, 259.99it/s, loss=2.8111]\n"
     ]
    },
    {
     "name": "stdout",
     "output_type": "stream",
     "text": [
      "[Epoch 68] Train Loss: 3.1702 | Val Loss: 2.8316\n",
      "  -> New best model saved at saved/best.pt\n",
      "Epoch 69/250\n"
     ]
    },
    {
     "name": "stderr",
     "output_type": "stream",
     "text": [
      "🚀 Validation: 100%|██████████| 21/21 [00:00<00:00, 178.21it/s, loss=2.7791]\n"
     ]
    },
    {
     "name": "stdout",
     "output_type": "stream",
     "text": [
      "[Epoch 69] Train Loss: 3.1423 | Val Loss: 2.8001\n",
      "  -> New best model saved at saved/best.pt\n",
      "Epoch 70/250\n"
     ]
    },
    {
     "name": "stderr",
     "output_type": "stream",
     "text": [
      "🚀 Validation: 100%|██████████| 21/21 [00:00<00:00, 334.00it/s, loss=2.7482]\n"
     ]
    },
    {
     "name": "stdout",
     "output_type": "stream",
     "text": [
      "[Epoch 70] Train Loss: 3.1193 | Val Loss: 2.7698\n",
      "  -> New best model saved at saved/best.pt\n",
      "Epoch 71/250\n"
     ]
    },
    {
     "name": "stderr",
     "output_type": "stream",
     "text": [
      "🚀 Validation: 100%|██████████| 21/21 [00:00<00:00, 298.11it/s, loss=2.7170]\n"
     ]
    },
    {
     "name": "stdout",
     "output_type": "stream",
     "text": [
      "[Epoch 71] Train Loss: 3.0843 | Val Loss: 2.7390\n",
      "  -> New best model saved at saved/best.pt\n",
      "Epoch 72/250\n"
     ]
    },
    {
     "name": "stderr",
     "output_type": "stream",
     "text": [
      "🚀 Validation: 100%|██████████| 21/21 [00:00<00:00, 291.88it/s, loss=2.6847]\n"
     ]
    },
    {
     "name": "stdout",
     "output_type": "stream",
     "text": [
      "[Epoch 72] Train Loss: 3.0548 | Val Loss: 2.7079\n",
      "  -> New best model saved at saved/best.pt\n",
      "Epoch 73/250\n"
     ]
    },
    {
     "name": "stderr",
     "output_type": "stream",
     "text": [
      "🚀 Validation: 100%|██████████| 21/21 [00:00<00:00, 250.48it/s, loss=2.6541]\n"
     ]
    },
    {
     "name": "stdout",
     "output_type": "stream",
     "text": [
      "[Epoch 73] Train Loss: 3.0286 | Val Loss: 2.6779\n",
      "  -> New best model saved at saved/best.pt\n",
      "Epoch 74/250\n"
     ]
    },
    {
     "name": "stderr",
     "output_type": "stream",
     "text": [
      "🚀 Validation: 100%|██████████| 21/21 [00:00<00:00, 269.55it/s, loss=2.6228]\n"
     ]
    },
    {
     "name": "stdout",
     "output_type": "stream",
     "text": [
      "[Epoch 74] Train Loss: 3.0013 | Val Loss: 2.6470\n",
      "  -> New best model saved at saved/best.pt\n",
      "Epoch 75/250\n"
     ]
    },
    {
     "name": "stderr",
     "output_type": "stream",
     "text": [
      "🚀 Validation: 100%|██████████| 21/21 [00:00<00:00, 228.51it/s, loss=2.5930]\n"
     ]
    },
    {
     "name": "stdout",
     "output_type": "stream",
     "text": [
      "[Epoch 75] Train Loss: 2.9735 | Val Loss: 2.6182\n",
      "  -> New best model saved at saved/best.pt\n",
      "Epoch 76/250\n"
     ]
    },
    {
     "name": "stderr",
     "output_type": "stream",
     "text": [
      "🚀 Validation: 100%|██████████| 21/21 [00:00<00:00, 298.11it/s, loss=2.5628]\n"
     ]
    },
    {
     "name": "stdout",
     "output_type": "stream",
     "text": [
      "[Epoch 76] Train Loss: 2.9469 | Val Loss: 2.5881\n",
      "  -> New best model saved at saved/best.pt\n",
      "Epoch 77/250\n"
     ]
    },
    {
     "name": "stderr",
     "output_type": "stream",
     "text": [
      "🚀 Validation: 100%|██████████| 21/21 [00:00<00:00, 198.90it/s, loss=2.5328]\n"
     ]
    },
    {
     "name": "stdout",
     "output_type": "stream",
     "text": [
      "[Epoch 77] Train Loss: 2.9231 | Val Loss: 2.5589\n",
      "  -> New best model saved at saved/best.pt\n",
      "Epoch 78/250\n"
     ]
    },
    {
     "name": "stderr",
     "output_type": "stream",
     "text": [
      "🚀 Validation: 100%|██████████| 21/21 [00:00<00:00, 195.82it/s, loss=2.5043]\n"
     ]
    },
    {
     "name": "stdout",
     "output_type": "stream",
     "text": [
      "[Epoch 78] Train Loss: 2.8958 | Val Loss: 2.5309\n",
      "  -> New best model saved at saved/best.pt\n",
      "Epoch 79/250\n"
     ]
    },
    {
     "name": "stderr",
     "output_type": "stream",
     "text": [
      "🚀 Validation: 100%|██████████| 21/21 [00:00<00:00, 231.10it/s, loss=2.4765]\n"
     ]
    },
    {
     "name": "stdout",
     "output_type": "stream",
     "text": [
      "[Epoch 79] Train Loss: 2.8737 | Val Loss: 2.5037\n",
      "  -> New best model saved at saved/best.pt\n",
      "Epoch 80/250\n"
     ]
    },
    {
     "name": "stderr",
     "output_type": "stream",
     "text": [
      "🚀 Validation: 100%|██████████| 21/21 [00:00<00:00, 220.53it/s, loss=2.4471]\n"
     ]
    },
    {
     "name": "stdout",
     "output_type": "stream",
     "text": [
      "[Epoch 80] Train Loss: 2.8504 | Val Loss: 2.4749\n",
      "  -> New best model saved at saved/best.pt\n",
      "Epoch 81/250\n"
     ]
    },
    {
     "name": "stderr",
     "output_type": "stream",
     "text": [
      "🚀 Validation: 100%|██████████| 21/21 [00:00<00:00, 261.76it/s, loss=2.4204]\n"
     ]
    },
    {
     "name": "stdout",
     "output_type": "stream",
     "text": [
      "[Epoch 81] Train Loss: 2.8221 | Val Loss: 2.4485\n",
      "  -> New best model saved at saved/best.pt\n",
      "Epoch 82/250\n"
     ]
    },
    {
     "name": "stderr",
     "output_type": "stream",
     "text": [
      "🚀 Validation: 100%|██████████| 21/21 [00:00<00:00, 303.40it/s, loss=2.3923]\n"
     ]
    },
    {
     "name": "stdout",
     "output_type": "stream",
     "text": [
      "[Epoch 82] Train Loss: 2.8004 | Val Loss: 2.4208\n",
      "  -> New best model saved at saved/best.pt\n",
      "Epoch 83/250\n"
     ]
    },
    {
     "name": "stderr",
     "output_type": "stream",
     "text": [
      "🚀 Validation: 100%|██████████| 21/21 [00:00<00:00, 191.97it/s, loss=2.3649]\n"
     ]
    },
    {
     "name": "stdout",
     "output_type": "stream",
     "text": [
      "[Epoch 83] Train Loss: 2.7765 | Val Loss: 2.3941\n",
      "  -> New best model saved at saved/best.pt\n",
      "Epoch 84/250\n"
     ]
    },
    {
     "name": "stderr",
     "output_type": "stream",
     "text": [
      "🚀 Validation: 100%|██████████| 21/21 [00:00<00:00, 243.42it/s, loss=2.3374]\n"
     ]
    },
    {
     "name": "stdout",
     "output_type": "stream",
     "text": [
      "[Epoch 84] Train Loss: 2.7493 | Val Loss: 2.3669\n",
      "  -> New best model saved at saved/best.pt\n",
      "Epoch 85/250\n"
     ]
    },
    {
     "name": "stderr",
     "output_type": "stream",
     "text": [
      "🚀 Validation: 100%|██████████| 21/21 [00:00<00:00, 182.71it/s, loss=2.3106]\n"
     ]
    },
    {
     "name": "stdout",
     "output_type": "stream",
     "text": [
      "[Epoch 85] Train Loss: 2.7280 | Val Loss: 2.3404\n",
      "  -> New best model saved at saved/best.pt\n",
      "Epoch 86/250\n"
     ]
    },
    {
     "name": "stderr",
     "output_type": "stream",
     "text": [
      "🚀 Validation: 100%|██████████| 21/21 [00:00<00:00, 332.44it/s, loss=2.2823]\n"
     ]
    },
    {
     "name": "stdout",
     "output_type": "stream",
     "text": [
      "[Epoch 86] Train Loss: 2.7070 | Val Loss: 2.3123\n",
      "  -> New best model saved at saved/best.pt\n",
      "Epoch 87/250\n"
     ]
    },
    {
     "name": "stderr",
     "output_type": "stream",
     "text": [
      "🚀 Validation: 100%|██████████| 21/21 [00:00<00:00, 271.84it/s, loss=2.2570]\n"
     ]
    },
    {
     "name": "stdout",
     "output_type": "stream",
     "text": [
      "[Epoch 87] Train Loss: 2.6817 | Val Loss: 2.2872\n",
      "  -> New best model saved at saved/best.pt\n",
      "Epoch 88/250\n"
     ]
    },
    {
     "name": "stderr",
     "output_type": "stream",
     "text": [
      "🚀 Validation: 100%|██████████| 21/21 [00:00<00:00, 275.34it/s, loss=2.2309]\n"
     ]
    },
    {
     "name": "stdout",
     "output_type": "stream",
     "text": [
      "[Epoch 88] Train Loss: 2.6576 | Val Loss: 2.2614\n",
      "  -> New best model saved at saved/best.pt\n",
      "Epoch 89/250\n"
     ]
    },
    {
     "name": "stderr",
     "output_type": "stream",
     "text": [
      "🚀 Validation: 100%|██████████| 21/21 [00:00<00:00, 185.18it/s, loss=2.2078]\n"
     ]
    },
    {
     "name": "stdout",
     "output_type": "stream",
     "text": [
      "[Epoch 89] Train Loss: 2.6380 | Val Loss: 2.2388\n",
      "  -> New best model saved at saved/best.pt\n",
      "Epoch 90/250\n"
     ]
    },
    {
     "name": "stderr",
     "output_type": "stream",
     "text": [
      "🚀 Validation: 100%|██████████| 21/21 [00:00<00:00, 323.00it/s, loss=2.1818]\n"
     ]
    },
    {
     "name": "stdout",
     "output_type": "stream",
     "text": [
      "[Epoch 90] Train Loss: 2.6219 | Val Loss: 2.2128\n",
      "  -> New best model saved at saved/best.pt\n",
      "Epoch 91/250\n"
     ]
    },
    {
     "name": "stderr",
     "output_type": "stream",
     "text": [
      "🚀 Validation: 100%|██████████| 21/21 [00:00<00:00, 258.26it/s, loss=2.1566]\n"
     ]
    },
    {
     "name": "stdout",
     "output_type": "stream",
     "text": [
      "[Epoch 91] Train Loss: 2.5967 | Val Loss: 2.1880\n",
      "  -> New best model saved at saved/best.pt\n",
      "Epoch 92/250\n"
     ]
    },
    {
     "name": "stderr",
     "output_type": "stream",
     "text": [
      "🚀 Validation: 100%|██████████| 21/21 [00:00<00:00, 240.40it/s, loss=2.1315]\n"
     ]
    },
    {
     "name": "stdout",
     "output_type": "stream",
     "text": [
      "[Epoch 92] Train Loss: 2.5723 | Val Loss: 2.1630\n",
      "  -> New best model saved at saved/best.pt\n",
      "Epoch 93/250\n"
     ]
    },
    {
     "name": "stderr",
     "output_type": "stream",
     "text": [
      "🚀 Validation: 100%|██████████| 21/21 [00:00<00:00, 236.01it/s, loss=2.1080]\n"
     ]
    },
    {
     "name": "stdout",
     "output_type": "stream",
     "text": [
      "[Epoch 93] Train Loss: 2.5504 | Val Loss: 2.1397\n",
      "  -> New best model saved at saved/best.pt\n",
      "Epoch 94/250\n"
     ]
    },
    {
     "name": "stderr",
     "output_type": "stream",
     "text": [
      "🚀 Validation: 100%|██████████| 21/21 [00:00<00:00, 204.61it/s, loss=2.0835]\n"
     ]
    },
    {
     "name": "stdout",
     "output_type": "stream",
     "text": [
      "[Epoch 94] Train Loss: 2.5408 | Val Loss: 2.1152\n",
      "  -> New best model saved at saved/best.pt\n",
      "Epoch 95/250\n"
     ]
    },
    {
     "name": "stderr",
     "output_type": "stream",
     "text": [
      "🚀 Validation: 100%|██████████| 21/21 [00:00<00:00, 266.62it/s, loss=2.0606]\n"
     ]
    },
    {
     "name": "stdout",
     "output_type": "stream",
     "text": [
      "[Epoch 95] Train Loss: 2.5083 | Val Loss: 2.0921\n",
      "  -> New best model saved at saved/best.pt\n",
      "Epoch 96/250\n"
     ]
    },
    {
     "name": "stderr",
     "output_type": "stream",
     "text": [
      "🚀 Validation: 100%|██████████| 21/21 [00:00<00:00, 302.22it/s, loss=2.0369]\n"
     ]
    },
    {
     "name": "stdout",
     "output_type": "stream",
     "text": [
      "[Epoch 96] Train Loss: 2.4975 | Val Loss: 2.0691\n",
      "  -> New best model saved at saved/best.pt\n",
      "Epoch 97/250\n"
     ]
    },
    {
     "name": "stderr",
     "output_type": "stream",
     "text": [
      "🚀 Validation: 100%|██████████| 21/21 [00:00<00:00, 290.09it/s, loss=2.0122]\n"
     ]
    },
    {
     "name": "stdout",
     "output_type": "stream",
     "text": [
      "[Epoch 97] Train Loss: 2.4721 | Val Loss: 2.0443\n",
      "  -> New best model saved at saved/best.pt\n",
      "Epoch 98/250\n"
     ]
    },
    {
     "name": "stderr",
     "output_type": "stream",
     "text": [
      "🚀 Validation: 100%|██████████| 21/21 [00:00<00:00, 249.44it/s, loss=1.9893]\n"
     ]
    },
    {
     "name": "stdout",
     "output_type": "stream",
     "text": [
      "[Epoch 98] Train Loss: 2.4547 | Val Loss: 2.0212\n",
      "  -> New best model saved at saved/best.pt\n",
      "Epoch 99/250\n"
     ]
    },
    {
     "name": "stderr",
     "output_type": "stream",
     "text": [
      "🚀 Validation: 100%|██████████| 21/21 [00:00<00:00, 173.18it/s, loss=1.9668]\n"
     ]
    },
    {
     "name": "stdout",
     "output_type": "stream",
     "text": [
      "[Epoch 99] Train Loss: 2.4331 | Val Loss: 1.9989\n",
      "  -> New best model saved at saved/best.pt\n",
      "Epoch 100/250\n"
     ]
    },
    {
     "name": "stderr",
     "output_type": "stream",
     "text": [
      "🚀 Validation: 100%|██████████| 21/21 [00:00<00:00, 315.18it/s, loss=1.9451]\n"
     ]
    },
    {
     "name": "stdout",
     "output_type": "stream",
     "text": [
      "[Epoch 100] Train Loss: 2.4129 | Val Loss: 1.9771\n",
      "  -> New best model saved at saved/best.pt\n",
      "Epoch 101/250\n"
     ]
    },
    {
     "name": "stderr",
     "output_type": "stream",
     "text": [
      "🚀 Validation: 100%|██████████| 21/21 [00:00<00:00, 284.90it/s, loss=1.9237]\n"
     ]
    },
    {
     "name": "stdout",
     "output_type": "stream",
     "text": [
      "[Epoch 101] Train Loss: 2.3961 | Val Loss: 1.9556\n",
      "  -> New best model saved at saved/best.pt\n",
      "Epoch 102/250\n"
     ]
    },
    {
     "name": "stderr",
     "output_type": "stream",
     "text": [
      "🚀 Validation: 100%|██████████| 21/21 [00:00<00:00, 292.52it/s, loss=1.9021]\n"
     ]
    },
    {
     "name": "stdout",
     "output_type": "stream",
     "text": [
      "[Epoch 102] Train Loss: 2.3810 | Val Loss: 1.9342\n",
      "  -> New best model saved at saved/best.pt\n",
      "Epoch 103/250\n"
     ]
    },
    {
     "name": "stderr",
     "output_type": "stream",
     "text": [
      "🚀 Validation: 100%|██████████| 21/21 [00:00<00:00, 226.00it/s, loss=1.8784]\n"
     ]
    },
    {
     "name": "stdout",
     "output_type": "stream",
     "text": [
      "[Epoch 103] Train Loss: 2.3507 | Val Loss: 1.9106\n",
      "  -> New best model saved at saved/best.pt\n",
      "Epoch 104/250\n"
     ]
    },
    {
     "name": "stderr",
     "output_type": "stream",
     "text": [
      "🚀 Validation: 100%|██████████| 21/21 [00:00<00:00, 210.58it/s, loss=1.8548]\n"
     ]
    },
    {
     "name": "stdout",
     "output_type": "stream",
     "text": [
      "[Epoch 104] Train Loss: 2.3437 | Val Loss: 1.8871\n",
      "  -> New best model saved at saved/best.pt\n",
      "Epoch 105/250\n"
     ]
    },
    {
     "name": "stderr",
     "output_type": "stream",
     "text": [
      "🚀 Validation: 100%|██████████| 21/21 [00:00<00:00, 279.18it/s, loss=1.8337]\n"
     ]
    },
    {
     "name": "stdout",
     "output_type": "stream",
     "text": [
      "[Epoch 105] Train Loss: 2.3186 | Val Loss: 1.8659\n",
      "  -> New best model saved at saved/best.pt\n",
      "Epoch 106/250\n"
     ]
    },
    {
     "name": "stderr",
     "output_type": "stream",
     "text": [
      "🚀 Validation: 100%|██████████| 21/21 [00:00<00:00, 324.87it/s, loss=1.8119]\n"
     ]
    },
    {
     "name": "stdout",
     "output_type": "stream",
     "text": [
      "[Epoch 106] Train Loss: 2.3061 | Val Loss: 1.8438\n",
      "  -> New best model saved at saved/best.pt\n",
      "Epoch 107/250\n"
     ]
    },
    {
     "name": "stderr",
     "output_type": "stream",
     "text": [
      "🚀 Validation: 100%|██████████| 21/21 [00:00<00:00, 257.48it/s, loss=1.7912]\n"
     ]
    },
    {
     "name": "stdout",
     "output_type": "stream",
     "text": [
      "[Epoch 107] Train Loss: 2.2834 | Val Loss: 1.8228\n",
      "  -> New best model saved at saved/best.pt\n",
      "Epoch 108/250\n"
     ]
    },
    {
     "name": "stderr",
     "output_type": "stream",
     "text": [
      "🚀 Validation: 100%|██████████| 21/21 [00:00<00:00, 255.16it/s, loss=1.7681]\n"
     ]
    },
    {
     "name": "stdout",
     "output_type": "stream",
     "text": [
      "[Epoch 108] Train Loss: 2.2567 | Val Loss: 1.7997\n",
      "  -> New best model saved at saved/best.pt\n",
      "Epoch 109/250\n"
     ]
    },
    {
     "name": "stderr",
     "output_type": "stream",
     "text": [
      "🚀 Validation: 100%|██████████| 21/21 [00:00<00:00, 184.21it/s, loss=1.7462]\n"
     ]
    },
    {
     "name": "stdout",
     "output_type": "stream",
     "text": [
      "[Epoch 109] Train Loss: 2.2434 | Val Loss: 1.7774\n",
      "  -> New best model saved at saved/best.pt\n",
      "Epoch 110/250\n"
     ]
    },
    {
     "name": "stderr",
     "output_type": "stream",
     "text": [
      "🚀 Validation: 100%|██████████| 21/21 [00:00<00:00, 302.76it/s, loss=1.7240]\n"
     ]
    },
    {
     "name": "stdout",
     "output_type": "stream",
     "text": [
      "[Epoch 110] Train Loss: 2.2313 | Val Loss: 1.7545\n",
      "  -> New best model saved at saved/best.pt\n",
      "Epoch 111/250\n"
     ]
    },
    {
     "name": "stderr",
     "output_type": "stream",
     "text": [
      "🚀 Validation: 100%|██████████| 21/21 [00:00<00:00, 279.61it/s, loss=1.7017]\n"
     ]
    },
    {
     "name": "stdout",
     "output_type": "stream",
     "text": [
      "[Epoch 111] Train Loss: 2.2160 | Val Loss: 1.7319\n",
      "  -> New best model saved at saved/best.pt\n",
      "Epoch 112/250\n"
     ]
    },
    {
     "name": "stderr",
     "output_type": "stream",
     "text": [
      "🚀 Validation: 100%|██████████| 21/21 [00:00<00:00, 303.54it/s, loss=1.6809]\n"
     ]
    },
    {
     "name": "stdout",
     "output_type": "stream",
     "text": [
      "[Epoch 112] Train Loss: 2.1947 | Val Loss: 1.7112\n",
      "  -> New best model saved at saved/best.pt\n",
      "Epoch 113/250\n"
     ]
    },
    {
     "name": "stderr",
     "output_type": "stream",
     "text": [
      "🚀 Validation: 100%|██████████| 21/21 [00:00<00:00, 258.49it/s, loss=1.6597]\n"
     ]
    },
    {
     "name": "stdout",
     "output_type": "stream",
     "text": [
      "[Epoch 113] Train Loss: 2.1673 | Val Loss: 1.6897\n",
      "  -> New best model saved at saved/best.pt\n",
      "Epoch 114/250\n"
     ]
    },
    {
     "name": "stderr",
     "output_type": "stream",
     "text": [
      "🚀 Validation: 100%|██████████| 21/21 [00:00<00:00, 233.67it/s, loss=1.6395]\n"
     ]
    },
    {
     "name": "stdout",
     "output_type": "stream",
     "text": [
      "[Epoch 114] Train Loss: 2.1655 | Val Loss: 1.6694\n",
      "  -> New best model saved at saved/best.pt\n",
      "Epoch 115/250\n"
     ]
    },
    {
     "name": "stderr",
     "output_type": "stream",
     "text": [
      "🚀 Validation: 100%|██████████| 21/21 [00:00<00:00, 242.51it/s, loss=1.6185]\n"
     ]
    },
    {
     "name": "stdout",
     "output_type": "stream",
     "text": [
      "[Epoch 115] Train Loss: 2.1439 | Val Loss: 1.6483\n",
      "  -> New best model saved at saved/best.pt\n",
      "Epoch 116/250\n"
     ]
    },
    {
     "name": "stderr",
     "output_type": "stream",
     "text": [
      "🚀 Validation: 100%|██████████| 21/21 [00:00<00:00, 325.41it/s, loss=1.5991]\n"
     ]
    },
    {
     "name": "stdout",
     "output_type": "stream",
     "text": [
      "[Epoch 116] Train Loss: 2.1323 | Val Loss: 1.6285\n",
      "  -> New best model saved at saved/best.pt\n",
      "Epoch 117/250\n"
     ]
    },
    {
     "name": "stderr",
     "output_type": "stream",
     "text": [
      "🚀 Validation: 100%|██████████| 21/21 [00:00<00:00, 268.92it/s, loss=1.5797]\n"
     ]
    },
    {
     "name": "stdout",
     "output_type": "stream",
     "text": [
      "[Epoch 117] Train Loss: 2.1086 | Val Loss: 1.6084\n",
      "  -> New best model saved at saved/best.pt\n",
      "Epoch 118/250\n"
     ]
    },
    {
     "name": "stderr",
     "output_type": "stream",
     "text": [
      "🚀 Validation: 100%|██████████| 21/21 [00:00<00:00, 287.19it/s, loss=1.5598]\n"
     ]
    },
    {
     "name": "stdout",
     "output_type": "stream",
     "text": [
      "[Epoch 118] Train Loss: 2.0873 | Val Loss: 1.5883\n",
      "  -> New best model saved at saved/best.pt\n",
      "Epoch 119/250\n"
     ]
    },
    {
     "name": "stderr",
     "output_type": "stream",
     "text": [
      "🚀 Validation: 100%|██████████| 21/21 [00:00<00:00, 173.00it/s, loss=1.5412]\n"
     ]
    },
    {
     "name": "stdout",
     "output_type": "stream",
     "text": [
      "[Epoch 119] Train Loss: 2.0799 | Val Loss: 1.5695\n",
      "  -> New best model saved at saved/best.pt\n",
      "Epoch 120/250\n"
     ]
    },
    {
     "name": "stderr",
     "output_type": "stream",
     "text": [
      "🚀 Validation: 100%|██████████| 21/21 [00:00<00:00, 290.51it/s, loss=1.5213]\n"
     ]
    },
    {
     "name": "stdout",
     "output_type": "stream",
     "text": [
      "[Epoch 120] Train Loss: 2.0620 | Val Loss: 1.5496\n",
      "  -> New best model saved at saved/best.pt\n",
      "Epoch 121/250\n"
     ]
    },
    {
     "name": "stderr",
     "output_type": "stream",
     "text": [
      "🚀 Validation: 100%|██████████| 21/21 [00:00<00:00, 287.72it/s, loss=1.5034]\n"
     ]
    },
    {
     "name": "stdout",
     "output_type": "stream",
     "text": [
      "[Epoch 121] Train Loss: 2.0493 | Val Loss: 1.5313\n",
      "  -> New best model saved at saved/best.pt\n",
      "Epoch 122/250\n"
     ]
    },
    {
     "name": "stderr",
     "output_type": "stream",
     "text": [
      "🚀 Validation: 100%|██████████| 21/21 [00:00<00:00, 306.22it/s, loss=1.4852]\n"
     ]
    },
    {
     "name": "stdout",
     "output_type": "stream",
     "text": [
      "[Epoch 122] Train Loss: 2.0297 | Val Loss: 1.5129\n",
      "  -> New best model saved at saved/best.pt\n",
      "Epoch 123/250\n"
     ]
    },
    {
     "name": "stderr",
     "output_type": "stream",
     "text": [
      "🚀 Validation: 100%|██████████| 21/21 [00:00<00:00, 276.92it/s, loss=1.4681]\n"
     ]
    },
    {
     "name": "stdout",
     "output_type": "stream",
     "text": [
      "[Epoch 123] Train Loss: 2.0182 | Val Loss: 1.4955\n",
      "  -> New best model saved at saved/best.pt\n",
      "Epoch 124/250\n"
     ]
    },
    {
     "name": "stderr",
     "output_type": "stream",
     "text": [
      "🚀 Validation: 100%|██████████| 21/21 [00:00<00:00, 200.48it/s, loss=1.4486]\n"
     ]
    },
    {
     "name": "stdout",
     "output_type": "stream",
     "text": [
      "[Epoch 124] Train Loss: 2.0009 | Val Loss: 1.4757\n",
      "  -> New best model saved at saved/best.pt\n",
      "Epoch 125/250\n"
     ]
    },
    {
     "name": "stderr",
     "output_type": "stream",
     "text": [
      "🚀 Validation: 100%|██████████| 21/21 [00:00<00:00, 260.86it/s, loss=1.4313]\n"
     ]
    },
    {
     "name": "stdout",
     "output_type": "stream",
     "text": [
      "[Epoch 125] Train Loss: 1.9833 | Val Loss: 1.4583\n",
      "  -> New best model saved at saved/best.pt\n",
      "Epoch 126/250\n"
     ]
    },
    {
     "name": "stderr",
     "output_type": "stream",
     "text": [
      "🚀 Validation: 100%|██████████| 21/21 [00:00<00:00, 317.21it/s, loss=1.4141]\n"
     ]
    },
    {
     "name": "stdout",
     "output_type": "stream",
     "text": [
      "[Epoch 126] Train Loss: 1.9755 | Val Loss: 1.4411\n",
      "  -> New best model saved at saved/best.pt\n",
      "Epoch 127/250\n"
     ]
    },
    {
     "name": "stderr",
     "output_type": "stream",
     "text": [
      "🚀 Validation: 100%|██████████| 21/21 [00:00<00:00, 265.87it/s, loss=1.3956]\n"
     ]
    },
    {
     "name": "stdout",
     "output_type": "stream",
     "text": [
      "[Epoch 127] Train Loss: 1.9637 | Val Loss: 1.4222\n",
      "  -> New best model saved at saved/best.pt\n",
      "Epoch 128/250\n"
     ]
    },
    {
     "name": "stderr",
     "output_type": "stream",
     "text": [
      "🚀 Validation: 100%|██████████| 21/21 [00:00<00:00, 287.02it/s, loss=1.3797]\n"
     ]
    },
    {
     "name": "stdout",
     "output_type": "stream",
     "text": [
      "[Epoch 128] Train Loss: 1.9432 | Val Loss: 1.4057\n",
      "  -> New best model saved at saved/best.pt\n",
      "Epoch 129/250\n"
     ]
    },
    {
     "name": "stderr",
     "output_type": "stream",
     "text": [
      "🚀 Validation: 100%|██████████| 21/21 [00:00<00:00, 230.29it/s, loss=1.3626]\n"
     ]
    },
    {
     "name": "stdout",
     "output_type": "stream",
     "text": [
      "[Epoch 129] Train Loss: 1.9274 | Val Loss: 1.3884\n",
      "  -> New best model saved at saved/best.pt\n",
      "Epoch 130/250\n"
     ]
    },
    {
     "name": "stderr",
     "output_type": "stream",
     "text": [
      "🚀 Validation: 100%|██████████| 21/21 [00:00<00:00, 319.39it/s, loss=1.3449]\n"
     ]
    },
    {
     "name": "stdout",
     "output_type": "stream",
     "text": [
      "[Epoch 130] Train Loss: 1.9176 | Val Loss: 1.3705\n",
      "  -> New best model saved at saved/best.pt\n",
      "Epoch 131/250\n"
     ]
    },
    {
     "name": "stderr",
     "output_type": "stream",
     "text": [
      "🚀 Validation: 100%|██████████| 21/21 [00:00<00:00, 281.76it/s, loss=1.3289]\n"
     ]
    },
    {
     "name": "stdout",
     "output_type": "stream",
     "text": [
      "[Epoch 131] Train Loss: 1.8976 | Val Loss: 1.3543\n",
      "  -> New best model saved at saved/best.pt\n",
      "Epoch 132/250\n"
     ]
    },
    {
     "name": "stderr",
     "output_type": "stream",
     "text": [
      "🚀 Validation: 100%|██████████| 21/21 [00:00<00:00, 313.05it/s, loss=1.3133]\n"
     ]
    },
    {
     "name": "stdout",
     "output_type": "stream",
     "text": [
      "[Epoch 132] Train Loss: 1.8894 | Val Loss: 1.3383\n",
      "  -> New best model saved at saved/best.pt\n",
      "Epoch 133/250\n"
     ]
    },
    {
     "name": "stderr",
     "output_type": "stream",
     "text": [
      "🚀 Validation: 100%|██████████| 21/21 [00:00<00:00, 196.03it/s, loss=1.2966]\n"
     ]
    },
    {
     "name": "stdout",
     "output_type": "stream",
     "text": [
      "[Epoch 133] Train Loss: 1.8764 | Val Loss: 1.3216\n",
      "  -> New best model saved at saved/best.pt\n",
      "Epoch 134/250\n"
     ]
    },
    {
     "name": "stderr",
     "output_type": "stream",
     "text": [
      "🚀 Validation: 100%|██████████| 21/21 [00:00<00:00, 235.50it/s, loss=1.2809]\n"
     ]
    },
    {
     "name": "stdout",
     "output_type": "stream",
     "text": [
      "[Epoch 134] Train Loss: 1.8629 | Val Loss: 1.3056\n",
      "  -> New best model saved at saved/best.pt\n",
      "Epoch 135/250\n"
     ]
    },
    {
     "name": "stderr",
     "output_type": "stream",
     "text": [
      "🚀 Validation: 100%|██████████| 21/21 [00:00<00:00, 193.63it/s, loss=1.2653]\n"
     ]
    },
    {
     "name": "stdout",
     "output_type": "stream",
     "text": [
      "[Epoch 135] Train Loss: 1.8493 | Val Loss: 1.2899\n",
      "  -> New best model saved at saved/best.pt\n",
      "Epoch 136/250\n"
     ]
    },
    {
     "name": "stderr",
     "output_type": "stream",
     "text": [
      "🚀 Validation: 100%|██████████| 21/21 [00:00<00:00, 323.01it/s, loss=1.2494]\n"
     ]
    },
    {
     "name": "stdout",
     "output_type": "stream",
     "text": [
      "[Epoch 136] Train Loss: 1.8380 | Val Loss: 1.2739\n",
      "  -> New best model saved at saved/best.pt\n",
      "Epoch 137/250\n"
     ]
    },
    {
     "name": "stderr",
     "output_type": "stream",
     "text": [
      "🚀 Validation: 100%|██████████| 21/21 [00:00<00:00, 272.31it/s, loss=1.2344]\n"
     ]
    },
    {
     "name": "stdout",
     "output_type": "stream",
     "text": [
      "[Epoch 137] Train Loss: 1.8207 | Val Loss: 1.2585\n",
      "  -> New best model saved at saved/best.pt\n",
      "Epoch 138/250\n"
     ]
    },
    {
     "name": "stderr",
     "output_type": "stream",
     "text": [
      "🚀 Validation: 100%|██████████| 21/21 [00:00<00:00, 294.47it/s, loss=1.2208]\n"
     ]
    },
    {
     "name": "stdout",
     "output_type": "stream",
     "text": [
      "[Epoch 138] Train Loss: 1.8064 | Val Loss: 1.2446\n",
      "  -> New best model saved at saved/best.pt\n",
      "Epoch 139/250\n"
     ]
    },
    {
     "name": "stderr",
     "output_type": "stream",
     "text": [
      "🚀 Validation: 100%|██████████| 21/21 [00:00<00:00, 252.35it/s, loss=1.2044]\n"
     ]
    },
    {
     "name": "stdout",
     "output_type": "stream",
     "text": [
      "[Epoch 139] Train Loss: 1.7964 | Val Loss: 1.2280\n",
      "  -> New best model saved at saved/best.pt\n",
      "Epoch 140/250\n"
     ]
    },
    {
     "name": "stderr",
     "output_type": "stream",
     "text": [
      "🚀 Validation: 100%|██████████| 21/21 [00:00<00:00, 204.37it/s, loss=1.1903]\n"
     ]
    },
    {
     "name": "stdout",
     "output_type": "stream",
     "text": [
      "[Epoch 140] Train Loss: 1.7829 | Val Loss: 1.2137\n",
      "  -> New best model saved at saved/best.pt\n",
      "Epoch 141/250\n"
     ]
    },
    {
     "name": "stderr",
     "output_type": "stream",
     "text": [
      "🚀 Validation: 100%|██████████| 21/21 [00:00<00:00, 258.45it/s, loss=1.1762]\n"
     ]
    },
    {
     "name": "stdout",
     "output_type": "stream",
     "text": [
      "[Epoch 141] Train Loss: 1.7707 | Val Loss: 1.1994\n",
      "  -> New best model saved at saved/best.pt\n",
      "Epoch 142/250\n"
     ]
    },
    {
     "name": "stderr",
     "output_type": "stream",
     "text": [
      "🚀 Validation: 100%|██████████| 21/21 [00:00<00:00, 326.38it/s, loss=1.1614]\n"
     ]
    },
    {
     "name": "stdout",
     "output_type": "stream",
     "text": [
      "[Epoch 142] Train Loss: 1.7537 | Val Loss: 1.1844\n",
      "  -> New best model saved at saved/best.pt\n",
      "Epoch 143/250\n"
     ]
    },
    {
     "name": "stderr",
     "output_type": "stream",
     "text": [
      "🚀 Validation: 100%|██████████| 21/21 [00:00<00:00, 279.65it/s, loss=1.1483]\n"
     ]
    },
    {
     "name": "stdout",
     "output_type": "stream",
     "text": [
      "[Epoch 143] Train Loss: 1.7443 | Val Loss: 1.1711\n",
      "  -> New best model saved at saved/best.pt\n",
      "Epoch 144/250\n"
     ]
    },
    {
     "name": "stderr",
     "output_type": "stream",
     "text": [
      "🚀 Validation: 100%|██████████| 21/21 [00:00<00:00, 269.93it/s, loss=1.1341]\n"
     ]
    },
    {
     "name": "stdout",
     "output_type": "stream",
     "text": [
      "[Epoch 144] Train Loss: 1.7340 | Val Loss: 1.1565\n",
      "  -> New best model saved at saved/best.pt\n",
      "Epoch 145/250\n"
     ]
    },
    {
     "name": "stderr",
     "output_type": "stream",
     "text": [
      "🚀 Validation: 100%|██████████| 21/21 [00:00<00:00, 214.14it/s, loss=1.1205]\n"
     ]
    },
    {
     "name": "stdout",
     "output_type": "stream",
     "text": [
      "[Epoch 145] Train Loss: 1.7165 | Val Loss: 1.1429\n",
      "  -> New best model saved at saved/best.pt\n",
      "Epoch 146/250\n"
     ]
    },
    {
     "name": "stderr",
     "output_type": "stream",
     "text": [
      "🚀 Validation: 100%|██████████| 21/21 [00:00<00:00, 314.01it/s, loss=1.1069]\n"
     ]
    },
    {
     "name": "stdout",
     "output_type": "stream",
     "text": [
      "[Epoch 146] Train Loss: 1.7036 | Val Loss: 1.1291\n",
      "  -> New best model saved at saved/best.pt\n",
      "Epoch 147/250\n"
     ]
    },
    {
     "name": "stderr",
     "output_type": "stream",
     "text": [
      "🚀 Validation: 100%|██████████| 21/21 [00:00<00:00, 280.43it/s, loss=1.0945]\n"
     ]
    },
    {
     "name": "stdout",
     "output_type": "stream",
     "text": [
      "[Epoch 147] Train Loss: 1.7002 | Val Loss: 1.1162\n",
      "  -> New best model saved at saved/best.pt\n",
      "Epoch 148/250\n"
     ]
    },
    {
     "name": "stderr",
     "output_type": "stream",
     "text": [
      "🚀 Validation: 100%|██████████| 21/21 [00:00<00:00, 277.35it/s, loss=1.0819]\n"
     ]
    },
    {
     "name": "stdout",
     "output_type": "stream",
     "text": [
      "[Epoch 148] Train Loss: 1.6844 | Val Loss: 1.1034\n",
      "  -> New best model saved at saved/best.pt\n",
      "Epoch 149/250\n"
     ]
    },
    {
     "name": "stderr",
     "output_type": "stream",
     "text": [
      "🚀 Validation: 100%|██████████| 21/21 [00:00<00:00, 258.33it/s, loss=1.0694]\n"
     ]
    },
    {
     "name": "stdout",
     "output_type": "stream",
     "text": [
      "[Epoch 149] Train Loss: 1.6715 | Val Loss: 1.0909\n",
      "  -> New best model saved at saved/best.pt\n",
      "Epoch 150/250\n"
     ]
    },
    {
     "name": "stderr",
     "output_type": "stream",
     "text": [
      "🚀 Validation: 100%|██████████| 21/21 [00:00<00:00, 205.76it/s, loss=1.0566]\n"
     ]
    },
    {
     "name": "stdout",
     "output_type": "stream",
     "text": [
      "[Epoch 150] Train Loss: 1.6622 | Val Loss: 1.0779\n",
      "  -> New best model saved at saved/best.pt\n",
      "Epoch 151/250\n"
     ]
    },
    {
     "name": "stderr",
     "output_type": "stream",
     "text": [
      "🚀 Validation: 100%|██████████| 21/21 [00:00<00:00, 218.93it/s, loss=1.0452]\n"
     ]
    },
    {
     "name": "stdout",
     "output_type": "stream",
     "text": [
      "[Epoch 151] Train Loss: 1.6483 | Val Loss: 1.0664\n",
      "  -> New best model saved at saved/best.pt\n",
      "Epoch 152/250\n"
     ]
    },
    {
     "name": "stderr",
     "output_type": "stream",
     "text": [
      "🚀 Validation: 100%|██████████| 21/21 [00:00<00:00, 304.37it/s, loss=1.0334]\n"
     ]
    },
    {
     "name": "stdout",
     "output_type": "stream",
     "text": [
      "[Epoch 152] Train Loss: 1.6339 | Val Loss: 1.0544\n",
      "  -> New best model saved at saved/best.pt\n",
      "Epoch 153/250\n"
     ]
    },
    {
     "name": "stderr",
     "output_type": "stream",
     "text": [
      "🚀 Validation: 100%|██████████| 21/21 [00:00<00:00, 265.80it/s, loss=1.0210]\n"
     ]
    },
    {
     "name": "stdout",
     "output_type": "stream",
     "text": [
      "[Epoch 153] Train Loss: 1.6273 | Val Loss: 1.0419\n",
      "  -> New best model saved at saved/best.pt\n",
      "Epoch 154/250\n"
     ]
    },
    {
     "name": "stderr",
     "output_type": "stream",
     "text": [
      "🚀 Validation: 100%|██████████| 21/21 [00:00<00:00, 273.79it/s, loss=1.0101]\n"
     ]
    },
    {
     "name": "stdout",
     "output_type": "stream",
     "text": [
      "[Epoch 154] Train Loss: 1.6082 | Val Loss: 1.0308\n",
      "  -> New best model saved at saved/best.pt\n",
      "Epoch 155/250\n"
     ]
    },
    {
     "name": "stderr",
     "output_type": "stream",
     "text": [
      "🚀 Validation: 100%|██████████| 21/21 [00:00<00:00, 256.02it/s, loss=0.9985]\n"
     ]
    },
    {
     "name": "stdout",
     "output_type": "stream",
     "text": [
      "[Epoch 155] Train Loss: 1.6028 | Val Loss: 1.0191\n",
      "  -> New best model saved at saved/best.pt\n",
      "Epoch 156/250\n"
     ]
    },
    {
     "name": "stderr",
     "output_type": "stream",
     "text": [
      "🚀 Validation: 100%|██████████| 21/21 [00:00<00:00, 201.21it/s, loss=0.9877]\n"
     ]
    },
    {
     "name": "stdout",
     "output_type": "stream",
     "text": [
      "[Epoch 156] Train Loss: 1.5917 | Val Loss: 1.0079\n",
      "  -> New best model saved at saved/best.pt\n",
      "Epoch 157/250\n"
     ]
    },
    {
     "name": "stderr",
     "output_type": "stream",
     "text": [
      "🚀 Validation: 100%|██████████| 21/21 [00:00<00:00, 246.11it/s, loss=0.9766]\n"
     ]
    },
    {
     "name": "stdout",
     "output_type": "stream",
     "text": [
      "[Epoch 157] Train Loss: 1.5773 | Val Loss: 0.9968\n",
      "  -> New best model saved at saved/best.pt\n",
      "Epoch 158/250\n"
     ]
    },
    {
     "name": "stderr",
     "output_type": "stream",
     "text": [
      "🚀 Validation: 100%|██████████| 21/21 [00:00<00:00, 309.77it/s, loss=0.9655]\n"
     ]
    },
    {
     "name": "stdout",
     "output_type": "stream",
     "text": [
      "[Epoch 158] Train Loss: 1.5653 | Val Loss: 0.9856\n",
      "  -> New best model saved at saved/best.pt\n",
      "Epoch 159/250\n"
     ]
    },
    {
     "name": "stderr",
     "output_type": "stream",
     "text": [
      "🚀 Validation: 100%|██████████| 21/21 [00:00<00:00, 197.78it/s, loss=0.9547]\n"
     ]
    },
    {
     "name": "stdout",
     "output_type": "stream",
     "text": [
      "[Epoch 159] Train Loss: 1.5584 | Val Loss: 0.9743\n",
      "  -> New best model saved at saved/best.pt\n",
      "Epoch 160/250\n"
     ]
    },
    {
     "name": "stderr",
     "output_type": "stream",
     "text": [
      "🚀 Validation: 100%|██████████| 21/21 [00:00<00:00, 306.51it/s, loss=0.9441]\n"
     ]
    },
    {
     "name": "stdout",
     "output_type": "stream",
     "text": [
      "[Epoch 160] Train Loss: 1.5486 | Val Loss: 0.9637\n",
      "  -> New best model saved at saved/best.pt\n",
      "Epoch 161/250\n"
     ]
    },
    {
     "name": "stderr",
     "output_type": "stream",
     "text": [
      "🚀 Validation: 100%|██████████| 21/21 [00:00<00:00, 187.31it/s, loss=0.9340]\n"
     ]
    },
    {
     "name": "stdout",
     "output_type": "stream",
     "text": [
      "[Epoch 161] Train Loss: 1.5367 | Val Loss: 0.9536\n",
      "  -> New best model saved at saved/best.pt\n",
      "Epoch 162/250\n"
     ]
    },
    {
     "name": "stderr",
     "output_type": "stream",
     "text": [
      "🚀 Validation: 100%|██████████| 21/21 [00:00<00:00, 351.48it/s, loss=0.9236]\n"
     ]
    },
    {
     "name": "stdout",
     "output_type": "stream",
     "text": [
      "[Epoch 162] Train Loss: 1.5287 | Val Loss: 0.9430\n",
      "  -> New best model saved at saved/best.pt\n",
      "Epoch 163/250\n"
     ]
    },
    {
     "name": "stderr",
     "output_type": "stream",
     "text": [
      "🚀 Validation: 100%|██████████| 21/21 [00:00<00:00, 306.54it/s, loss=0.9131]\n"
     ]
    },
    {
     "name": "stdout",
     "output_type": "stream",
     "text": [
      "[Epoch 163] Train Loss: 1.5135 | Val Loss: 0.9326\n",
      "  -> New best model saved at saved/best.pt\n",
      "Epoch 164/250\n"
     ]
    },
    {
     "name": "stderr",
     "output_type": "stream",
     "text": [
      "🚀 Validation: 100%|██████████| 21/21 [00:00<00:00, 320.34it/s, loss=0.9036]\n"
     ]
    },
    {
     "name": "stdout",
     "output_type": "stream",
     "text": [
      "[Epoch 164] Train Loss: 1.5053 | Val Loss: 0.9229\n",
      "  -> New best model saved at saved/best.pt\n",
      "Epoch 165/250\n"
     ]
    },
    {
     "name": "stderr",
     "output_type": "stream",
     "text": [
      "🚀 Validation: 100%|██████████| 21/21 [00:00<00:00, 285.12it/s, loss=0.8937]\n"
     ]
    },
    {
     "name": "stdout",
     "output_type": "stream",
     "text": [
      "[Epoch 165] Train Loss: 1.4991 | Val Loss: 0.9130\n",
      "  -> New best model saved at saved/best.pt\n",
      "Epoch 166/250\n"
     ]
    },
    {
     "name": "stderr",
     "output_type": "stream",
     "text": [
      "🚀 Validation: 100%|██████████| 21/21 [00:00<00:00, 227.57it/s, loss=0.8838]\n"
     ]
    },
    {
     "name": "stdout",
     "output_type": "stream",
     "text": [
      "[Epoch 166] Train Loss: 1.4842 | Val Loss: 0.9032\n",
      "  -> New best model saved at saved/best.pt\n",
      "Epoch 167/250\n"
     ]
    },
    {
     "name": "stderr",
     "output_type": "stream",
     "text": [
      "🚀 Validation: 100%|██████████| 21/21 [00:00<00:00, 247.63it/s, loss=0.8747]\n"
     ]
    },
    {
     "name": "stdout",
     "output_type": "stream",
     "text": [
      "[Epoch 167] Train Loss: 1.4740 | Val Loss: 0.8940\n",
      "  -> New best model saved at saved/best.pt\n",
      "Epoch 168/250\n"
     ]
    },
    {
     "name": "stderr",
     "output_type": "stream",
     "text": [
      "🚀 Validation: 100%|██████████| 21/21 [00:00<00:00, 341.92it/s, loss=0.8653]\n"
     ]
    },
    {
     "name": "stdout",
     "output_type": "stream",
     "text": [
      "[Epoch 168] Train Loss: 1.4588 | Val Loss: 0.8846\n",
      "  -> New best model saved at saved/best.pt\n",
      "Epoch 169/250\n"
     ]
    },
    {
     "name": "stderr",
     "output_type": "stream",
     "text": [
      "🚀 Validation: 100%|██████████| 21/21 [00:00<00:00, 266.95it/s, loss=0.8560]\n"
     ]
    },
    {
     "name": "stdout",
     "output_type": "stream",
     "text": [
      "[Epoch 169] Train Loss: 1.4564 | Val Loss: 0.8754\n",
      "  -> New best model saved at saved/best.pt\n",
      "Epoch 170/250\n"
     ]
    },
    {
     "name": "stderr",
     "output_type": "stream",
     "text": [
      "🚀 Validation: 100%|██████████| 21/21 [00:00<00:00, 276.69it/s, loss=0.8469]\n"
     ]
    },
    {
     "name": "stdout",
     "output_type": "stream",
     "text": [
      "[Epoch 170] Train Loss: 1.4448 | Val Loss: 0.8663\n",
      "  -> New best model saved at saved/best.pt\n",
      "Epoch 171/250\n"
     ]
    },
    {
     "name": "stderr",
     "output_type": "stream",
     "text": [
      "🚀 Validation: 100%|██████████| 21/21 [00:00<00:00, 204.35it/s, loss=0.8382]\n"
     ]
    },
    {
     "name": "stdout",
     "output_type": "stream",
     "text": [
      "[Epoch 171] Train Loss: 1.4361 | Val Loss: 0.8577\n",
      "  -> New best model saved at saved/best.pt\n",
      "Epoch 172/250\n"
     ]
    },
    {
     "name": "stderr",
     "output_type": "stream",
     "text": [
      "🚀 Validation: 100%|██████████| 21/21 [00:00<00:00, 344.18it/s, loss=0.8294]\n"
     ]
    },
    {
     "name": "stdout",
     "output_type": "stream",
     "text": [
      "[Epoch 172] Train Loss: 1.4262 | Val Loss: 0.8488\n",
      "  -> New best model saved at saved/best.pt\n",
      "Epoch 173/250\n"
     ]
    },
    {
     "name": "stderr",
     "output_type": "stream",
     "text": [
      "🚀 Validation: 100%|██████████| 21/21 [00:00<00:00, 271.55it/s, loss=0.8210]\n"
     ]
    },
    {
     "name": "stdout",
     "output_type": "stream",
     "text": [
      "[Epoch 173] Train Loss: 1.4049 | Val Loss: 0.8400\n",
      "  -> New best model saved at saved/best.pt\n",
      "Epoch 174/250\n"
     ]
    },
    {
     "name": "stderr",
     "output_type": "stream",
     "text": [
      "🚀 Validation: 100%|██████████| 21/21 [00:00<00:00, 294.35it/s, loss=0.8122]\n"
     ]
    },
    {
     "name": "stdout",
     "output_type": "stream",
     "text": [
      "[Epoch 174] Train Loss: 1.4105 | Val Loss: 0.8314\n",
      "  -> New best model saved at saved/best.pt\n",
      "Epoch 175/250\n"
     ]
    },
    {
     "name": "stderr",
     "output_type": "stream",
     "text": [
      "🚀 Validation: 100%|██████████| 21/21 [00:00<00:00, 184.32it/s, loss=0.8041]\n"
     ]
    },
    {
     "name": "stdout",
     "output_type": "stream",
     "text": [
      "[Epoch 175] Train Loss: 1.3909 | Val Loss: 0.8232\n",
      "  -> New best model saved at saved/best.pt\n",
      "Epoch 176/250\n"
     ]
    },
    {
     "name": "stderr",
     "output_type": "stream",
     "text": [
      "🚀 Validation: 100%|██████████| 21/21 [00:00<00:00, 302.25it/s, loss=0.7958]\n"
     ]
    },
    {
     "name": "stdout",
     "output_type": "stream",
     "text": [
      "[Epoch 176] Train Loss: 1.3859 | Val Loss: 0.8149\n",
      "  -> New best model saved at saved/best.pt\n",
      "Epoch 177/250\n"
     ]
    },
    {
     "name": "stderr",
     "output_type": "stream",
     "text": [
      "🚀 Validation: 100%|██████████| 21/21 [00:00<00:00, 308.34it/s, loss=0.7877]\n"
     ]
    },
    {
     "name": "stdout",
     "output_type": "stream",
     "text": [
      "[Epoch 177] Train Loss: 1.3765 | Val Loss: 0.8068\n",
      "  -> New best model saved at saved/best.pt\n",
      "Epoch 178/250\n"
     ]
    },
    {
     "name": "stderr",
     "output_type": "stream",
     "text": [
      "🚀 Validation: 100%|██████████| 21/21 [00:00<00:00, 308.64it/s, loss=0.7796]\n"
     ]
    },
    {
     "name": "stdout",
     "output_type": "stream",
     "text": [
      "[Epoch 178] Train Loss: 1.3654 | Val Loss: 0.7989\n",
      "  -> New best model saved at saved/best.pt\n",
      "Epoch 179/250\n"
     ]
    },
    {
     "name": "stderr",
     "output_type": "stream",
     "text": [
      "🚀 Validation: 100%|██████████| 21/21 [00:00<00:00, 251.29it/s, loss=0.7720]\n"
     ]
    },
    {
     "name": "stdout",
     "output_type": "stream",
     "text": [
      "[Epoch 179] Train Loss: 1.3619 | Val Loss: 0.7911\n",
      "  -> New best model saved at saved/best.pt\n",
      "Epoch 180/250\n"
     ]
    },
    {
     "name": "stderr",
     "output_type": "stream",
     "text": [
      "🚀 Validation: 100%|██████████| 21/21 [00:00<00:00, 222.56it/s, loss=0.7642]\n"
     ]
    },
    {
     "name": "stdout",
     "output_type": "stream",
     "text": [
      "[Epoch 180] Train Loss: 1.3456 | Val Loss: 0.7832\n",
      "  -> New best model saved at saved/best.pt\n",
      "Epoch 181/250\n"
     ]
    },
    {
     "name": "stderr",
     "output_type": "stream",
     "text": [
      "🚀 Validation: 100%|██████████| 21/21 [00:00<00:00, 263.90it/s, loss=0.7563]\n"
     ]
    },
    {
     "name": "stdout",
     "output_type": "stream",
     "text": [
      "[Epoch 181] Train Loss: 1.3384 | Val Loss: 0.7757\n",
      "  -> New best model saved at saved/best.pt\n",
      "Epoch 182/250\n"
     ]
    },
    {
     "name": "stderr",
     "output_type": "stream",
     "text": [
      "🚀 Validation: 100%|██████████| 21/21 [00:00<00:00, 329.64it/s, loss=0.7489]\n"
     ]
    },
    {
     "name": "stdout",
     "output_type": "stream",
     "text": [
      "[Epoch 182] Train Loss: 1.3289 | Val Loss: 0.7682\n",
      "  -> New best model saved at saved/best.pt\n",
      "Epoch 183/250\n"
     ]
    },
    {
     "name": "stderr",
     "output_type": "stream",
     "text": [
      "🚀 Validation: 100%|██████████| 21/21 [00:00<00:00, 301.24it/s, loss=0.7415]\n"
     ]
    },
    {
     "name": "stdout",
     "output_type": "stream",
     "text": [
      "[Epoch 183] Train Loss: 1.3204 | Val Loss: 0.7607\n",
      "  -> New best model saved at saved/best.pt\n",
      "Epoch 184/250\n"
     ]
    },
    {
     "name": "stderr",
     "output_type": "stream",
     "text": [
      "🚀 Validation: 100%|██████████| 21/21 [00:00<00:00, 269.14it/s, loss=0.7343]\n"
     ]
    },
    {
     "name": "stdout",
     "output_type": "stream",
     "text": [
      "[Epoch 184] Train Loss: 1.3050 | Val Loss: 0.7534\n",
      "  -> New best model saved at saved/best.pt\n",
      "Epoch 185/250\n"
     ]
    },
    {
     "name": "stderr",
     "output_type": "stream",
     "text": [
      "🚀 Validation: 100%|██████████| 21/21 [00:00<00:00, 187.33it/s, loss=0.7272]\n"
     ]
    },
    {
     "name": "stdout",
     "output_type": "stream",
     "text": [
      "[Epoch 185] Train Loss: 1.3088 | Val Loss: 0.7464\n",
      "  -> New best model saved at saved/best.pt\n",
      "Epoch 186/250\n"
     ]
    },
    {
     "name": "stderr",
     "output_type": "stream",
     "text": [
      "🚀 Validation: 100%|██████████| 21/21 [00:00<00:00, 309.63it/s, loss=0.7197]\n"
     ]
    },
    {
     "name": "stdout",
     "output_type": "stream",
     "text": [
      "[Epoch 186] Train Loss: 1.2939 | Val Loss: 0.7393\n",
      "  -> New best model saved at saved/best.pt\n",
      "Epoch 187/250\n"
     ]
    },
    {
     "name": "stderr",
     "output_type": "stream",
     "text": [
      "🚀 Validation: 100%|██████████| 21/21 [00:00<00:00, 304.51it/s, loss=0.7132]\n"
     ]
    },
    {
     "name": "stdout",
     "output_type": "stream",
     "text": [
      "[Epoch 187] Train Loss: 1.2881 | Val Loss: 0.7324\n",
      "  -> New best model saved at saved/best.pt\n",
      "Epoch 188/250\n"
     ]
    },
    {
     "name": "stderr",
     "output_type": "stream",
     "text": [
      "🚀 Validation: 100%|██████████| 21/21 [00:00<00:00, 285.25it/s, loss=0.7059]\n"
     ]
    },
    {
     "name": "stdout",
     "output_type": "stream",
     "text": [
      "[Epoch 188] Train Loss: 1.2736 | Val Loss: 0.7254\n",
      "  -> New best model saved at saved/best.pt\n",
      "Epoch 189/250\n"
     ]
    },
    {
     "name": "stderr",
     "output_type": "stream",
     "text": [
      "🚀 Validation: 100%|██████████| 21/21 [00:00<00:00, 181.69it/s, loss=0.6993]\n"
     ]
    },
    {
     "name": "stdout",
     "output_type": "stream",
     "text": [
      "[Epoch 189] Train Loss: 1.2727 | Val Loss: 0.7186\n",
      "  -> New best model saved at saved/best.pt\n",
      "Epoch 190/250\n"
     ]
    },
    {
     "name": "stderr",
     "output_type": "stream",
     "text": [
      "🚀 Validation: 100%|██████████| 21/21 [00:00<00:00, 325.18it/s, loss=0.6927]\n"
     ]
    },
    {
     "name": "stdout",
     "output_type": "stream",
     "text": [
      "[Epoch 190] Train Loss: 1.2605 | Val Loss: 0.7118\n",
      "  -> New best model saved at saved/best.pt\n",
      "Epoch 191/250\n"
     ]
    },
    {
     "name": "stderr",
     "output_type": "stream",
     "text": [
      "🚀 Validation: 100%|██████████| 21/21 [00:00<00:00, 300.68it/s, loss=0.6859]\n"
     ]
    },
    {
     "name": "stdout",
     "output_type": "stream",
     "text": [
      "[Epoch 191] Train Loss: 1.2517 | Val Loss: 0.7052\n",
      "  -> New best model saved at saved/best.pt\n",
      "Epoch 192/250\n"
     ]
    },
    {
     "name": "stderr",
     "output_type": "stream",
     "text": [
      "🚀 Validation: 100%|██████████| 21/21 [00:00<00:00, 316.61it/s, loss=0.6792]\n"
     ]
    },
    {
     "name": "stdout",
     "output_type": "stream",
     "text": [
      "[Epoch 192] Train Loss: 1.2388 | Val Loss: 0.6985\n",
      "  -> New best model saved at saved/best.pt\n",
      "Epoch 193/250\n"
     ]
    },
    {
     "name": "stderr",
     "output_type": "stream",
     "text": [
      "🚀 Validation: 100%|██████████| 21/21 [00:00<00:00, 237.06it/s, loss=0.6728]\n"
     ]
    },
    {
     "name": "stdout",
     "output_type": "stream",
     "text": [
      "[Epoch 193] Train Loss: 1.2316 | Val Loss: 0.6921\n",
      "  -> New best model saved at saved/best.pt\n",
      "Epoch 194/250\n"
     ]
    },
    {
     "name": "stderr",
     "output_type": "stream",
     "text": [
      "🚀 Validation: 100%|██████████| 21/21 [00:00<00:00, 254.10it/s, loss=0.6660]\n"
     ]
    },
    {
     "name": "stdout",
     "output_type": "stream",
     "text": [
      "[Epoch 194] Train Loss: 1.2256 | Val Loss: 0.6854\n",
      "  -> New best model saved at saved/best.pt\n",
      "Epoch 195/250\n"
     ]
    },
    {
     "name": "stderr",
     "output_type": "stream",
     "text": [
      "🚀 Validation: 100%|██████████| 21/21 [00:00<00:00, 254.24it/s, loss=0.6602]\n"
     ]
    },
    {
     "name": "stdout",
     "output_type": "stream",
     "text": [
      "[Epoch 195] Train Loss: 1.2220 | Val Loss: 0.6793\n",
      "  -> New best model saved at saved/best.pt\n",
      "Epoch 196/250\n"
     ]
    },
    {
     "name": "stderr",
     "output_type": "stream",
     "text": [
      "🚀 Validation: 100%|██████████| 21/21 [00:00<00:00, 321.91it/s, loss=0.6537]\n"
     ]
    },
    {
     "name": "stdout",
     "output_type": "stream",
     "text": [
      "[Epoch 196] Train Loss: 1.2068 | Val Loss: 0.6730\n",
      "  -> New best model saved at saved/best.pt\n",
      "Epoch 197/250\n"
     ]
    },
    {
     "name": "stderr",
     "output_type": "stream",
     "text": [
      "🚀 Validation: 100%|██████████| 21/21 [00:00<00:00, 280.09it/s, loss=0.6480]\n"
     ]
    },
    {
     "name": "stdout",
     "output_type": "stream",
     "text": [
      "[Epoch 197] Train Loss: 1.1942 | Val Loss: 0.6670\n",
      "  -> New best model saved at saved/best.pt\n",
      "Epoch 198/250\n"
     ]
    },
    {
     "name": "stderr",
     "output_type": "stream",
     "text": [
      "🚀 Validation: 100%|██████████| 21/21 [00:00<00:00, 251.48it/s, loss=0.6416]\n"
     ]
    },
    {
     "name": "stdout",
     "output_type": "stream",
     "text": [
      "[Epoch 198] Train Loss: 1.1898 | Val Loss: 0.6608\n",
      "  -> New best model saved at saved/best.pt\n",
      "Epoch 199/250\n"
     ]
    },
    {
     "name": "stderr",
     "output_type": "stream",
     "text": [
      "🚀 Validation: 100%|██████████| 21/21 [00:00<00:00, 240.08it/s, loss=0.6358]\n"
     ]
    },
    {
     "name": "stdout",
     "output_type": "stream",
     "text": [
      "[Epoch 199] Train Loss: 1.1816 | Val Loss: 0.6549\n",
      "  -> New best model saved at saved/best.pt\n",
      "Epoch 200/250\n"
     ]
    },
    {
     "name": "stderr",
     "output_type": "stream",
     "text": [
      "🚀 Validation: 100%|██████████| 21/21 [00:00<00:00, 327.92it/s, loss=0.6297]\n"
     ]
    },
    {
     "name": "stdout",
     "output_type": "stream",
     "text": [
      "[Epoch 200] Train Loss: 1.1768 | Val Loss: 0.6491\n",
      "  -> New best model saved at saved/best.pt\n",
      "Epoch 201/250\n"
     ]
    },
    {
     "name": "stderr",
     "output_type": "stream",
     "text": [
      "🚀 Validation: 100%|██████████| 21/21 [00:00<00:00, 268.63it/s, loss=0.6239]\n"
     ]
    },
    {
     "name": "stdout",
     "output_type": "stream",
     "text": [
      "[Epoch 201] Train Loss: 1.1700 | Val Loss: 0.6431\n",
      "  -> New best model saved at saved/best.pt\n",
      "Epoch 202/250\n"
     ]
    },
    {
     "name": "stderr",
     "output_type": "stream",
     "text": [
      "🚀 Validation: 100%|██████████| 21/21 [00:00<00:00, 289.22it/s, loss=0.6180]\n"
     ]
    },
    {
     "name": "stdout",
     "output_type": "stream",
     "text": [
      "[Epoch 202] Train Loss: 1.1618 | Val Loss: 0.6373\n",
      "  -> New best model saved at saved/best.pt\n",
      "Epoch 203/250\n"
     ]
    },
    {
     "name": "stderr",
     "output_type": "stream",
     "text": [
      "🚀 Validation: 100%|██████████| 21/21 [00:00<00:00, 193.95it/s, loss=0.6117]\n"
     ]
    },
    {
     "name": "stdout",
     "output_type": "stream",
     "text": [
      "[Epoch 203] Train Loss: 1.1471 | Val Loss: 0.6312\n",
      "  -> New best model saved at saved/best.pt\n",
      "Epoch 204/250\n"
     ]
    },
    {
     "name": "stderr",
     "output_type": "stream",
     "text": [
      "🚀 Validation: 100%|██████████| 21/21 [00:00<00:00, 336.79it/s, loss=0.6062]\n"
     ]
    },
    {
     "name": "stdout",
     "output_type": "stream",
     "text": [
      "[Epoch 204] Train Loss: 1.1423 | Val Loss: 0.6255\n",
      "  -> New best model saved at saved/best.pt\n",
      "Epoch 205/250\n"
     ]
    },
    {
     "name": "stderr",
     "output_type": "stream",
     "text": [
      "🚀 Validation: 100%|██████████| 21/21 [00:00<00:00, 292.90it/s, loss=0.6004]\n"
     ]
    },
    {
     "name": "stdout",
     "output_type": "stream",
     "text": [
      "[Epoch 205] Train Loss: 1.1349 | Val Loss: 0.6200\n",
      "  -> New best model saved at saved/best.pt\n",
      "Epoch 206/250\n"
     ]
    },
    {
     "name": "stderr",
     "output_type": "stream",
     "text": [
      "🚀 Validation: 100%|██████████| 21/21 [00:00<00:00, 317.74it/s, loss=0.5946]\n"
     ]
    },
    {
     "name": "stdout",
     "output_type": "stream",
     "text": [
      "[Epoch 206] Train Loss: 1.1295 | Val Loss: 0.6144\n",
      "  -> New best model saved at saved/best.pt\n",
      "Epoch 207/250\n"
     ]
    },
    {
     "name": "stderr",
     "output_type": "stream",
     "text": [
      "🚀 Validation: 100%|██████████| 21/21 [00:00<00:00, 269.61it/s, loss=0.5895]\n"
     ]
    },
    {
     "name": "stdout",
     "output_type": "stream",
     "text": [
      "[Epoch 207] Train Loss: 1.1220 | Val Loss: 0.6090\n",
      "  -> New best model saved at saved/best.pt\n",
      "Epoch 208/250\n"
     ]
    },
    {
     "name": "stderr",
     "output_type": "stream",
     "text": [
      "🚀 Validation: 100%|██████████| 21/21 [00:00<00:00, 258.75it/s, loss=0.5839]\n"
     ]
    },
    {
     "name": "stdout",
     "output_type": "stream",
     "text": [
      "[Epoch 208] Train Loss: 1.1093 | Val Loss: 0.6035\n",
      "  -> New best model saved at saved/best.pt\n",
      "Epoch 209/250\n"
     ]
    },
    {
     "name": "stderr",
     "output_type": "stream",
     "text": [
      "🚀 Validation: 100%|██████████| 21/21 [00:00<00:00, 307.25it/s, loss=0.5785]\n"
     ]
    },
    {
     "name": "stdout",
     "output_type": "stream",
     "text": [
      "[Epoch 209] Train Loss: 1.1072 | Val Loss: 0.5980\n",
      "  -> New best model saved at saved/best.pt\n",
      "Epoch 210/250\n"
     ]
    },
    {
     "name": "stderr",
     "output_type": "stream",
     "text": [
      "🚀 Validation: 100%|██████████| 21/21 [00:00<00:00, 325.90it/s, loss=0.5733]\n"
     ]
    },
    {
     "name": "stdout",
     "output_type": "stream",
     "text": [
      "[Epoch 210] Train Loss: 1.0950 | Val Loss: 0.5926\n",
      "  -> New best model saved at saved/best.pt\n",
      "Epoch 211/250\n"
     ]
    },
    {
     "name": "stderr",
     "output_type": "stream",
     "text": [
      "🚀 Validation: 100%|██████████| 21/21 [00:00<00:00, 270.47it/s, loss=0.5681]\n"
     ]
    },
    {
     "name": "stdout",
     "output_type": "stream",
     "text": [
      "[Epoch 211] Train Loss: 1.0898 | Val Loss: 0.5873\n",
      "  -> New best model saved at saved/best.pt\n",
      "Epoch 212/250\n"
     ]
    },
    {
     "name": "stderr",
     "output_type": "stream",
     "text": [
      "🚀 Validation: 100%|██████████| 21/21 [00:00<00:00, 219.52it/s, loss=0.5625]\n"
     ]
    },
    {
     "name": "stdout",
     "output_type": "stream",
     "text": [
      "[Epoch 212] Train Loss: 1.0827 | Val Loss: 0.5819\n",
      "  -> New best model saved at saved/best.pt\n",
      "Epoch 213/250\n"
     ]
    },
    {
     "name": "stderr",
     "output_type": "stream",
     "text": [
      "🚀 Validation: 100%|██████████| 21/21 [00:00<00:00, 258.73it/s, loss=0.5572]\n"
     ]
    },
    {
     "name": "stdout",
     "output_type": "stream",
     "text": [
      "[Epoch 213] Train Loss: 1.0735 | Val Loss: 0.5767\n",
      "  -> New best model saved at saved/best.pt\n",
      "Epoch 214/250\n"
     ]
    },
    {
     "name": "stderr",
     "output_type": "stream",
     "text": [
      "🚀 Validation: 100%|██████████| 21/21 [00:00<00:00, 294.43it/s, loss=0.5519]\n"
     ]
    },
    {
     "name": "stdout",
     "output_type": "stream",
     "text": [
      "[Epoch 214] Train Loss: 1.0713 | Val Loss: 0.5715\n",
      "  -> New best model saved at saved/best.pt\n",
      "Epoch 215/250\n"
     ]
    },
    {
     "name": "stderr",
     "output_type": "stream",
     "text": [
      "🚀 Validation: 100%|██████████| 21/21 [00:00<00:00, 286.68it/s, loss=0.5466]\n"
     ]
    },
    {
     "name": "stdout",
     "output_type": "stream",
     "text": [
      "[Epoch 215] Train Loss: 1.0660 | Val Loss: 0.5665\n",
      "  -> New best model saved at saved/best.pt\n",
      "Epoch 216/250\n"
     ]
    },
    {
     "name": "stderr",
     "output_type": "stream",
     "text": [
      "🚀 Validation: 100%|██████████| 21/21 [00:00<00:00, 296.52it/s, loss=0.5416]\n"
     ]
    },
    {
     "name": "stdout",
     "output_type": "stream",
     "text": [
      "[Epoch 216] Train Loss: 1.0524 | Val Loss: 0.5614\n",
      "  -> New best model saved at saved/best.pt\n",
      "Epoch 217/250\n"
     ]
    },
    {
     "name": "stderr",
     "output_type": "stream",
     "text": [
      "🚀 Validation: 100%|██████████| 21/21 [00:00<00:00, 178.16it/s, loss=0.5366]\n"
     ]
    },
    {
     "name": "stdout",
     "output_type": "stream",
     "text": [
      "[Epoch 217] Train Loss: 1.0473 | Val Loss: 0.5564\n",
      "  -> New best model saved at saved/best.pt\n",
      "Epoch 218/250\n"
     ]
    },
    {
     "name": "stderr",
     "output_type": "stream",
     "text": [
      "🚀 Validation: 100%|██████████| 21/21 [00:00<00:00, 333.71it/s, loss=0.5315]\n"
     ]
    },
    {
     "name": "stdout",
     "output_type": "stream",
     "text": [
      "[Epoch 218] Train Loss: 1.0358 | Val Loss: 0.5513\n",
      "  -> New best model saved at saved/best.pt\n",
      "Epoch 219/250\n"
     ]
    },
    {
     "name": "stderr",
     "output_type": "stream",
     "text": [
      "🚀 Validation: 100%|██████████| 21/21 [00:00<00:00, 266.70it/s, loss=0.5265]\n"
     ]
    },
    {
     "name": "stdout",
     "output_type": "stream",
     "text": [
      "[Epoch 219] Train Loss: 1.0306 | Val Loss: 0.5464\n",
      "  -> New best model saved at saved/best.pt\n",
      "Epoch 220/250\n"
     ]
    },
    {
     "name": "stderr",
     "output_type": "stream",
     "text": [
      "🚀 Validation: 100%|██████████| 21/21 [00:00<00:00, 248.93it/s, loss=0.5213]\n"
     ]
    },
    {
     "name": "stdout",
     "output_type": "stream",
     "text": [
      "[Epoch 220] Train Loss: 1.0248 | Val Loss: 0.5414\n",
      "  -> New best model saved at saved/best.pt\n",
      "Epoch 221/250\n"
     ]
    },
    {
     "name": "stderr",
     "output_type": "stream",
     "text": [
      "🚀 Validation: 100%|██████████| 21/21 [00:00<00:00, 173.22it/s, loss=0.5168]\n"
     ]
    },
    {
     "name": "stdout",
     "output_type": "stream",
     "text": [
      "[Epoch 221] Train Loss: 1.0118 | Val Loss: 0.5366\n",
      "  -> New best model saved at saved/best.pt\n",
      "Epoch 222/250\n"
     ]
    },
    {
     "name": "stderr",
     "output_type": "stream",
     "text": [
      "🚀 Validation: 100%|██████████| 21/21 [00:00<00:00, 330.57it/s, loss=0.5117]\n"
     ]
    },
    {
     "name": "stdout",
     "output_type": "stream",
     "text": [
      "[Epoch 222] Train Loss: 1.0113 | Val Loss: 0.5318\n",
      "  -> New best model saved at saved/best.pt\n",
      "Epoch 223/250\n"
     ]
    },
    {
     "name": "stderr",
     "output_type": "stream",
     "text": [
      "🚀 Validation: 100%|██████████| 21/21 [00:00<00:00, 266.79it/s, loss=0.5069]\n"
     ]
    },
    {
     "name": "stdout",
     "output_type": "stream",
     "text": [
      "[Epoch 223] Train Loss: 1.0017 | Val Loss: 0.5271\n",
      "  -> New best model saved at saved/best.pt\n",
      "Epoch 224/250\n"
     ]
    },
    {
     "name": "stderr",
     "output_type": "stream",
     "text": [
      "🚀 Validation: 100%|██████████| 21/21 [00:00<00:00, 321.34it/s, loss=0.5022]\n"
     ]
    },
    {
     "name": "stdout",
     "output_type": "stream",
     "text": [
      "[Epoch 224] Train Loss: 1.0016 | Val Loss: 0.5223\n",
      "  -> New best model saved at saved/best.pt\n",
      "Epoch 225/250\n"
     ]
    },
    {
     "name": "stderr",
     "output_type": "stream",
     "text": [
      "🚀 Validation: 100%|██████████| 21/21 [00:00<00:00, 291.19it/s, loss=0.4974]\n"
     ]
    },
    {
     "name": "stdout",
     "output_type": "stream",
     "text": [
      "[Epoch 225] Train Loss: 0.9899 | Val Loss: 0.5177\n",
      "  -> New best model saved at saved/best.pt\n",
      "Epoch 226/250\n"
     ]
    },
    {
     "name": "stderr",
     "output_type": "stream",
     "text": [
      "🚀 Validation: 100%|██████████| 21/21 [00:00<00:00, 236.66it/s, loss=0.4928]\n"
     ]
    },
    {
     "name": "stdout",
     "output_type": "stream",
     "text": [
      "[Epoch 226] Train Loss: 0.9798 | Val Loss: 0.5132\n",
      "  -> New best model saved at saved/best.pt\n",
      "Epoch 227/250\n"
     ]
    },
    {
     "name": "stderr",
     "output_type": "stream",
     "text": [
      "🚀 Validation: 100%|██████████| 21/21 [00:00<00:00, 244.23it/s, loss=0.4885]\n"
     ]
    },
    {
     "name": "stdout",
     "output_type": "stream",
     "text": [
      "[Epoch 227] Train Loss: 0.9728 | Val Loss: 0.5086\n",
      "  -> New best model saved at saved/best.pt\n",
      "Epoch 228/250\n"
     ]
    },
    {
     "name": "stderr",
     "output_type": "stream",
     "text": [
      "🚀 Validation: 100%|██████████| 21/21 [00:00<00:00, 298.85it/s, loss=0.4837]\n"
     ]
    },
    {
     "name": "stdout",
     "output_type": "stream",
     "text": [
      "[Epoch 228] Train Loss: 0.9722 | Val Loss: 0.5040\n",
      "  -> New best model saved at saved/best.pt\n",
      "Epoch 229/250\n"
     ]
    },
    {
     "name": "stderr",
     "output_type": "stream",
     "text": [
      "🚀 Validation: 100%|██████████| 21/21 [00:00<00:00, 282.56it/s, loss=0.4791]\n"
     ]
    },
    {
     "name": "stdout",
     "output_type": "stream",
     "text": [
      "[Epoch 229] Train Loss: 0.9594 | Val Loss: 0.4995\n",
      "  -> New best model saved at saved/best.pt\n",
      "Epoch 230/250\n"
     ]
    },
    {
     "name": "stderr",
     "output_type": "stream",
     "text": [
      "🚀 Validation: 100%|██████████| 21/21 [00:00<00:00, 293.56it/s, loss=0.4746]\n"
     ]
    },
    {
     "name": "stdout",
     "output_type": "stream",
     "text": [
      "[Epoch 230] Train Loss: 0.9559 | Val Loss: 0.4949\n",
      "  -> New best model saved at saved/best.pt\n",
      "Epoch 231/250\n"
     ]
    },
    {
     "name": "stderr",
     "output_type": "stream",
     "text": [
      "🚀 Validation: 100%|██████████| 21/21 [00:00<00:00, 179.12it/s, loss=0.4699]\n"
     ]
    },
    {
     "name": "stdout",
     "output_type": "stream",
     "text": [
      "[Epoch 231] Train Loss: 0.9521 | Val Loss: 0.4904\n",
      "  -> New best model saved at saved/best.pt\n",
      "Epoch 232/250\n"
     ]
    },
    {
     "name": "stderr",
     "output_type": "stream",
     "text": [
      "🚀 Validation: 100%|██████████| 21/21 [00:00<00:00, 309.86it/s, loss=0.4653]\n"
     ]
    },
    {
     "name": "stdout",
     "output_type": "stream",
     "text": [
      "[Epoch 232] Train Loss: 0.9383 | Val Loss: 0.4860\n",
      "  -> New best model saved at saved/best.pt\n",
      "Epoch 233/250\n"
     ]
    },
    {
     "name": "stderr",
     "output_type": "stream",
     "text": [
      "🚀 Validation: 100%|██████████| 21/21 [00:00<00:00, 308.38it/s, loss=0.4610]\n"
     ]
    },
    {
     "name": "stdout",
     "output_type": "stream",
     "text": [
      "[Epoch 233] Train Loss: 0.9361 | Val Loss: 0.4816\n",
      "  -> New best model saved at saved/best.pt\n",
      "Epoch 234/250\n"
     ]
    },
    {
     "name": "stderr",
     "output_type": "stream",
     "text": [
      "🚀 Validation: 100%|██████████| 21/21 [00:00<00:00, 321.90it/s, loss=0.4565]\n"
     ]
    },
    {
     "name": "stdout",
     "output_type": "stream",
     "text": [
      "[Epoch 234] Train Loss: 0.9305 | Val Loss: 0.4773\n",
      "  -> New best model saved at saved/best.pt\n",
      "Epoch 235/250\n"
     ]
    },
    {
     "name": "stderr",
     "output_type": "stream",
     "text": [
      "🚀 Validation: 100%|██████████| 21/21 [00:00<00:00, 289.39it/s, loss=0.4521]\n"
     ]
    },
    {
     "name": "stdout",
     "output_type": "stream",
     "text": [
      "[Epoch 235] Train Loss: 0.9251 | Val Loss: 0.4729\n",
      "  -> New best model saved at saved/best.pt\n",
      "Epoch 236/250\n"
     ]
    },
    {
     "name": "stderr",
     "output_type": "stream",
     "text": [
      "🚀 Validation: 100%|██████████| 21/21 [00:00<00:00, 218.44it/s, loss=0.4477]\n"
     ]
    },
    {
     "name": "stdout",
     "output_type": "stream",
     "text": [
      "[Epoch 236] Train Loss: 0.9149 | Val Loss: 0.4687\n",
      "  -> New best model saved at saved/best.pt\n",
      "Epoch 237/250\n"
     ]
    },
    {
     "name": "stderr",
     "output_type": "stream",
     "text": [
      "🚀 Validation: 100%|██████████| 21/21 [00:00<00:00, 227.64it/s, loss=0.4436]\n"
     ]
    },
    {
     "name": "stdout",
     "output_type": "stream",
     "text": [
      "[Epoch 237] Train Loss: 0.9108 | Val Loss: 0.4645\n",
      "  -> New best model saved at saved/best.pt\n",
      "Epoch 238/250\n"
     ]
    },
    {
     "name": "stderr",
     "output_type": "stream",
     "text": [
      "🚀 Validation: 100%|██████████| 21/21 [00:00<00:00, 317.77it/s, loss=0.4393]\n"
     ]
    },
    {
     "name": "stdout",
     "output_type": "stream",
     "text": [
      "[Epoch 238] Train Loss: 0.8989 | Val Loss: 0.4602\n",
      "  -> New best model saved at saved/best.pt\n",
      "Epoch 239/250\n"
     ]
    },
    {
     "name": "stderr",
     "output_type": "stream",
     "text": [
      "🚀 Validation: 100%|██████████| 21/21 [00:00<00:00, 281.14it/s, loss=0.4349]\n"
     ]
    },
    {
     "name": "stdout",
     "output_type": "stream",
     "text": [
      "[Epoch 239] Train Loss: 0.8924 | Val Loss: 0.4560\n",
      "  -> New best model saved at saved/best.pt\n",
      "Epoch 240/250\n"
     ]
    },
    {
     "name": "stderr",
     "output_type": "stream",
     "text": [
      "🚀 Validation: 100%|██████████| 21/21 [00:00<00:00, 275.25it/s, loss=0.4306]\n"
     ]
    },
    {
     "name": "stdout",
     "output_type": "stream",
     "text": [
      "[Epoch 240] Train Loss: 0.8890 | Val Loss: 0.4519\n",
      "  -> New best model saved at saved/best.pt\n",
      "Epoch 241/250\n"
     ]
    },
    {
     "name": "stderr",
     "output_type": "stream",
     "text": [
      "🚀 Validation: 100%|██████████| 21/21 [00:00<00:00, 210.06it/s, loss=0.4266]\n"
     ]
    },
    {
     "name": "stdout",
     "output_type": "stream",
     "text": [
      "[Epoch 241] Train Loss: 0.8848 | Val Loss: 0.4478\n",
      "  -> New best model saved at saved/best.pt\n",
      "Epoch 242/250\n"
     ]
    },
    {
     "name": "stderr",
     "output_type": "stream",
     "text": [
      "🚀 Validation: 100%|██████████| 21/21 [00:00<00:00, 339.15it/s, loss=0.4224]\n"
     ]
    },
    {
     "name": "stdout",
     "output_type": "stream",
     "text": [
      "[Epoch 242] Train Loss: 0.8786 | Val Loss: 0.4437\n",
      "  -> New best model saved at saved/best.pt\n",
      "Epoch 243/250\n"
     ]
    },
    {
     "name": "stderr",
     "output_type": "stream",
     "text": [
      "🚀 Validation: 100%|██████████| 21/21 [00:00<00:00, 302.68it/s, loss=0.4185]\n"
     ]
    },
    {
     "name": "stdout",
     "output_type": "stream",
     "text": [
      "[Epoch 243] Train Loss: 0.8683 | Val Loss: 0.4396\n",
      "  -> New best model saved at saved/best.pt\n",
      "Epoch 244/250\n"
     ]
    },
    {
     "name": "stderr",
     "output_type": "stream",
     "text": [
      "🚀 Validation: 100%|██████████| 21/21 [00:00<00:00, 294.18it/s, loss=0.4142]\n"
     ]
    },
    {
     "name": "stdout",
     "output_type": "stream",
     "text": [
      "[Epoch 244] Train Loss: 0.8704 | Val Loss: 0.4356\n",
      "  -> New best model saved at saved/best.pt\n",
      "Epoch 245/250\n"
     ]
    },
    {
     "name": "stderr",
     "output_type": "stream",
     "text": [
      "🚀 Validation: 100%|██████████| 21/21 [00:00<00:00, 248.81it/s, loss=0.4103]\n"
     ]
    },
    {
     "name": "stdout",
     "output_type": "stream",
     "text": [
      "[Epoch 245] Train Loss: 0.8606 | Val Loss: 0.4316\n",
      "  -> New best model saved at saved/best.pt\n",
      "Epoch 246/250\n"
     ]
    },
    {
     "name": "stderr",
     "output_type": "stream",
     "text": [
      "🚀 Validation: 100%|██████████| 21/21 [00:00<00:00, 236.11it/s, loss=0.4062]\n"
     ]
    },
    {
     "name": "stdout",
     "output_type": "stream",
     "text": [
      "[Epoch 246] Train Loss: 0.8566 | Val Loss: 0.4277\n",
      "  -> New best model saved at saved/best.pt\n",
      "Epoch 247/250\n"
     ]
    },
    {
     "name": "stderr",
     "output_type": "stream",
     "text": [
      "🚀 Validation: 100%|██████████| 21/21 [00:00<00:00, 295.77it/s, loss=0.4023]\n"
     ]
    },
    {
     "name": "stdout",
     "output_type": "stream",
     "text": [
      "[Epoch 247] Train Loss: 0.8453 | Val Loss: 0.4238\n",
      "  -> New best model saved at saved/best.pt\n",
      "Epoch 248/250\n"
     ]
    },
    {
     "name": "stderr",
     "output_type": "stream",
     "text": [
      "🚀 Validation: 100%|██████████| 21/21 [00:00<00:00, 327.43it/s, loss=0.3985]\n"
     ]
    },
    {
     "name": "stdout",
     "output_type": "stream",
     "text": [
      "[Epoch 248] Train Loss: 0.8370 | Val Loss: 0.4199\n",
      "  -> New best model saved at saved/best.pt\n",
      "Epoch 249/250\n"
     ]
    },
    {
     "name": "stderr",
     "output_type": "stream",
     "text": [
      "🚀 Validation: 100%|██████████| 21/21 [00:00<00:00, 267.02it/s, loss=0.3945]\n"
     ]
    },
    {
     "name": "stdout",
     "output_type": "stream",
     "text": [
      "[Epoch 249] Train Loss: 0.8374 | Val Loss: 0.4160\n",
      "  -> New best model saved at saved/best.pt\n",
      "Epoch 250/250\n"
     ]
    },
    {
     "name": "stderr",
     "output_type": "stream",
     "text": [
      "🚀 Validation: 100%|██████████| 21/21 [00:00<00:00, 283.50it/s, loss=0.3908]\n"
     ]
    },
    {
     "name": "stdout",
     "output_type": "stream",
     "text": [
      "[Epoch 250] Train Loss: 0.8273 | Val Loss: 0.4121\n",
      "  -> New best model saved at saved/best.pt\n"
     ]
    }
   ],
   "source": [
    "import os\n",
    "import torch\n",
    "from tqdm import tqdm\n",
    "\n",
    "EPOCHS = 250\n",
    "SAVE_DIR = \"saved\"\n",
    "os.makedirs(SAVE_DIR, exist_ok=True)\n",
    "best_val_loss = float(\"inf\")\n",
    "best_model_path = None\n",
    "for epoch in range(1, EPOCHS + 1):\n",
    "    print(f\"Epoch {epoch}/{EPOCHS}\")\n",
    "    model.train()\n",
    "    total_train_loss = 0.0\n",
    "    train_bar = tqdm(train_loader, desc=\"🚀 Training\", \n",
    "                leave=False, total=len(train_loader))\n",
    "    for batch in train_loader:\n",
    "        optimizer.zero_grad()\n",
    "        src_batch = batch['src'].to(device)\n",
    "        tgt_batch = batch['tgt'].to(device)\n",
    "        \n",
    "        output, _ = model(src_batch, tgt_batch[:, :-1]) \n",
    "        output_dim = output.shape[-1]\n",
    "        output = output.reshape(-1, output_dim)\n",
    "        tgt_y = tgt_batch[:, :-1].reshape(-1)\n",
    "        \n",
    "        loss = criterion(output, tgt_y)\n",
    "        loss.backward()\n",
    "        optimizer.step()\n",
    "        \n",
    "        total_train_loss += loss.item()\n",
    "        train_bar.set_postfix(loss=f\"{loss.item():.4f}\")\n",
    "\n",
    "    avg_train_loss = total_train_loss / len(train_loader)\n",
    "    model.eval()\n",
    "    total_val_loss = 0.0\n",
    "    val_bar = tqdm(val_loader, desc=\"🚀 Validation\",\n",
    "              leave=True, total=len(val_loader))\n",
    "    with torch.no_grad():\n",
    "        for batch in val_bar:\n",
    "            src_batch = batch['src'].to(device)\n",
    "            tgt_batch = batch['tgt'].to(device)\n",
    "            \n",
    "            output, _ = model(src_batch, tgt_batch[:, :-1]) \n",
    "            output_dim = output.shape[-1]\n",
    "            output = output.reshape(-1, output_dim)\n",
    "            tgt_y = tgt_batch[:, :-1].reshape(-1)\n",
    "            # tgt_y = tgt_batch[:, 1:].reshape(-1)\n",
    "\n",
    "            \n",
    "            loss = criterion(output, tgt_y)\n",
    "            total_val_loss += loss.item()\n",
    "            val_bar.set_postfix(loss=f\"{loss.item():.4f}\")\n",
    "    \n",
    "    avg_val_loss = total_val_loss / len(val_loader)\n",
    "    print(f\"[Epoch {epoch}] Train Loss: {avg_train_loss:.4f} | Val Loss: {avg_val_loss:.4f}\")\n",
    "    if avg_val_loss < best_val_loss:\n",
    "        if best_model_path and os.path.exists(best_model_path):\n",
    "            os.remove(best_model_path)\n",
    "        best_val_loss = avg_val_loss\n",
    "        best_model_path = os.path.join(SAVE_DIR, \"best.pt\")\n",
    "        torch.save(model.state_dict(), best_model_path)\n",
    "        print(f\"  -> New best model saved at {best_model_path}\")\n"
   ]
  },
  {
   "cell_type": "markdown",
   "metadata": {},
   "source": [
    "## Bleu Score"
   ]
  },
  {
   "cell_type": "code",
   "execution_count": null,
   "metadata": {},
   "outputs": [
    {
     "name": "stdout",
     "output_type": "stream",
     "text": [
      "Loaded best model for testing!\n"
     ]
    },
    {
     "name": "stderr",
     "output_type": "stream",
     "text": [
      "Testing: 100%|██████████| 664/664 [01:16<00:00,  8.73it/s]"
     ]
    },
    {
     "name": "stdout",
     "output_type": "stream",
     "text": [
      "Test BLEU-2: 0.0000\n"
     ]
    },
    {
     "name": "stderr",
     "output_type": "stream",
     "text": [
      "\n"
     ]
    }
   ],
   "source": [
    "import os\n",
    "import torch\n",
    "from tqdm import tqdm\n",
    "from nltk.translate.bleu_score import corpus_bleu, SmoothingFunction\n",
    "\n",
    "# Load the best model for testing.\n",
    "encoder = TransformerEncoder(SRC_VOCAB_SIZE, D_MODEL, N_LAYERS, N_HEADS, FFN_HIDDEN, DROPOUT, device)\n",
    "decoder = TransformerDecoder(TGT_VOCAB_SIZE, D_MODEL, N_LAYERS, N_HEADS, FFN_HIDDEN, DROPOUT, device)\n",
    "best_model = Transformer(encoder, decoder, device, utils.PAD_TOKEN).to(device)\n",
    "best_model.load_state_dict(torch.load(os.path.join(SAVE_DIR, \"best.pt\")))\n",
    "print(\"Loaded best model for testing!\")\n",
    "\n",
    "def greedy_decode(model, src, max_len, start_symbol=utils.SOS_TOKEN):\n",
    "    model.eval()\n",
    "    src_mask = model.make_input_mask(src)  # shape: [batch, 1, 1, src_len]\n",
    "    memory = model.encoder(src, src_mask)\n",
    "    batch_size = src.size(0)\n",
    "    ys = torch.full((batch_size, max_len), utils.PAD_TOKEN, dtype=torch.long, device=src.device)\n",
    "    ys[:, 0] = start_symbol\n",
    "    current_length = 1\n",
    "    for i in range(1, max_len):\n",
    "        current_tgt = ys[:, :current_length]\n",
    "        padded_tgt = torch.cat([\n",
    "            current_tgt,\n",
    "            torch.full((batch_size, max_len - current_length), utils.PAD_TOKEN, device=src.device)\n",
    "        ], dim=1)\n",
    "        out, _ = model(src, padded_tgt)\n",
    "        predicted_logits = out[:, current_length - 1, :]  \n",
    "        next_token = predicted_logits.argmax(dim=-1)\n",
    "        ys[:, current_length] = next_token\n",
    "        current_length += 1\n",
    "        if next_token.item() == utils.EOS_TOKEN:\n",
    "            break\n",
    "    return ys[:, :current_length]\n",
    "\n",
    "# Prepare BLEU evaluation.\n",
    "smooth_fn = SmoothingFunction().method1\n",
    "references = []\n",
    "hypotheses = []\n",
    "best_model.eval()\n",
    "\n",
    "with torch.no_grad():\n",
    "    for batch in tqdm(test_loader, desc=\"Testing\"):\n",
    "        src_batch = batch['src'].to(device)\n",
    "        tgt_batch = batch['tgt'].to(device)\n",
    "        # Ensure batch dimensions are correct for src and tgt.\n",
    "        if src_batch.dim() == 1:\n",
    "            src_batch = src_batch.unsqueeze(0)\n",
    "        if tgt_batch.dim() == 1:\n",
    "            tgt_batch = tgt_batch.unsqueeze(0)\n",
    "            \n",
    "        preds = greedy_decode(best_model, src_batch, max_len=70)\n",
    "        \n",
    "        for i in range(src_batch.size(0)):\n",
    "            gold = tgt_batch[i].tolist()\n",
    "            # Remove SOS and PAD tokens from gold.\n",
    "            gold_tokens = [str(t) for t in gold if t not in [utils.SOS_TOKEN, utils.PAD_TOKEN]]\n",
    "            if utils.EOS_TOKEN in gold_tokens:\n",
    "                gold_tokens = gold_tokens[:gold_tokens.index(utils.EOS_TOKEN)]\n",
    "            pred = preds[i].tolist()\n",
    "            # Remove SOS from predictions.\n",
    "            pred_tokens = [str(t) for t in pred if t != utils.SOS_TOKEN]\n",
    "            if utils.EOS_TOKEN in pred_tokens:\n",
    "                pred_tokens = pred_tokens[:pred_tokens.index(utils.EOS_TOKEN)]\n",
    "            references.append([gold_tokens])\n",
    "            hypotheses.append(pred_tokens)\n",
    "weights = (0.5, 0.5)\n",
    "bleu_score = corpus_bleu(\n",
    "    references,\n",
    "    hypotheses,\n",
    "    weights=weights,\n",
    "    smoothing_function=smooth_fn\n",
    ")\n",
    "print(f\"Test BLEU-2: {bleu_score:.4f}\")\n"
   ]
  },
  {
   "cell_type": "markdown",
   "metadata": {},
   "source": [
    "## Translasi"
   ]
  },
  {
   "cell_type": "code",
   "execution_count": null,
   "metadata": {},
   "outputs": [
    {
     "name": "stdout",
     "output_type": "stream",
     "text": [
      "Loaded best model for testing!\n",
      "Original:   Ambo mancari awaknyo besok\n",
      "Translated: \n",
      "\n",
      "Original:   Alun salama, apo kabar?\n",
      "Translated: \n",
      "\n",
      "Original:   Dunsanak ka rumah gadang\n",
      "Translated: \n",
      "\n",
      "Original:   Urang minang manarimo tradisi\n",
      "Translated: \n",
      "\n",
      "Original:   Apo ado di pasar?\n",
      "Translated: \n",
      "\n"
     ]
    }
   ],
   "source": [
    "import os\n",
    "import pickle\n",
    "import torch\n",
    "device = torch.device(\"cuda\" if torch.cuda.is_available() else \"cpu\")\n",
    "# -----------------------------------------------------------------------------\n",
    "# 1. Load the best model for testing\n",
    "# -----------------------------------------------------------------------------\n",
    "\n",
    "# Create encoder, decoder, and the full Transformer model.\n",
    "encoder = TransformerEncoder(SRC_VOCAB_SIZE, D_MODEL, N_LAYERS, N_HEADS, FFN_HIDDEN, DROPOUT, device)\n",
    "decoder = TransformerDecoder(TGT_VOCAB_SIZE, D_MODEL, N_LAYERS, N_HEADS, FFN_HIDDEN, DROPOUT, device)\n",
    "best_model = Transformer(encoder, decoder, device, utils.PAD_TOKEN).to(device)\n",
    "\n",
    "# Load the best model state\n",
    "model_path = os.path.join(SAVE_DIR, \"best.pt\")\n",
    "best_model.load_state_dict(torch.load(model_path, map_location=device))\n",
    "print(\"Loaded best model for testing!\")\n",
    "# -----------------------------------------------------------------------------\n",
    "# 2. Load the input and output dictionaries\n",
    "# -----------------------------------------------------------------------------\n",
    "pth = \"dataset\"\n",
    "src = \"min\"\n",
    "tgt = \"eng\"\n",
    "tp  = os.path.join(pth,f\"{src}_{tgt}\")\n",
    "input_dic_path = os.path.join(tp, \"input_dic.pkl\")\n",
    "output_dic_path = os.path.join(tp, \"output_dic.pkl\")\n",
    "with open(input_dic_path, \"rb\") as f:\n",
    "    input_dictionary = pickle.load(f)\n",
    "with open(output_dic_path, \"rb\") as f:\n",
    "    output_dictionary = pickle.load(f)\n",
    "# -----------------------------------------------------------------------------\n",
    "# 4. Define a translation function that uses tokenization, model inference, and detokenization\n",
    "# -----------------------------------------------------------------------------\n",
    "def translate_sentence(sentence, model, input_dictionary, output_dictionary, max_length=50):\n",
    "    tokenized = utils.tokenize(sentence, input_dictionary, MAX_LENGTH=max_length)\n",
    "    src_tensor = torch.tensor(tokenized).unsqueeze(0).to(device)\n",
    "    model.eval()\n",
    "    with torch.no_grad():\n",
    "        output_tokens = greedy_decode(model, src_tensor, max_length)\n",
    "    # Convert the output token indices back to words using detokenize\n",
    "    translated_sentence = utils.detokenize(output_tokens[0].tolist(), output_dictionary)\n",
    "    return translated_sentence\n",
    "\n",
    "# -----------------------------------------------------------------------------\n",
    "# 5. Process a list of sentences and output their translations\n",
    "# -----------------------------------------------------------------------------\n",
    "minang_sentences = [\n",
    "    \"Ambo mancari awaknyo besok\",\n",
    "    \"Alun salama, apo kabar?\",\n",
    "    \"Dunsanak ka rumah gadang\",\n",
    "    \"Urang minang manarimo tradisi\",\n",
    "    \"Apo ado di pasar?\"\n",
    "]\n",
    "\n",
    "for sentence in minang_sentences:\n",
    "    translation = translate_sentence(sentence, best_model, input_dictionary, output_dictionary)\n",
    "    print(f\"Original:   {sentence}\")\n",
    "    print(f\"Translated: {translation}\\n\")\n"
   ]
  },
  {
   "cell_type": "markdown",
   "metadata": {},
   "source": [
    "# Translasi: \n",
    "Ambo mancari awaknyo besok\n",
    "\n",
    "    Bahasa Indonesia: Saya akan mencarimu besok.\n",
    "    English: I will look for you tomorrow.\n",
    "\n",
    "Alun salama, apo kabar?\n",
    "\n",
    "    Bahasa Indonesia: Halo, apa kabar?\n",
    "    English: Hello, how are you?\n",
    "\n",
    "Dunsanak ka rumah gadang\n",
    "\n",
    "    Bahasa Indonesia: Saudara, mari ke rumah gadang.\n",
    "    English: Relatives, let's go to the traditional house.\n",
    "\n",
    "Urang minang manarimo tradisi\n",
    "\n",
    "    Bahasa Indonesia: Orang Minang menerima tradisi.\n",
    "    English: Minangkabau people embrace tradition.\n",
    "\n",
    "Apo ado di pasar?\n",
    "\n",
    "    Bahasa Indonesia: Apa ada di pasar?\n",
    "    English: What's there in the market?"
   ]
  },
  {
   "cell_type": "code",
   "execution_count": null,
   "metadata": {},
   "outputs": [],
   "source": []
  }
 ],
 "metadata": {
  "kernelspec": {
   "display_name": "torch_env",
   "language": "python",
   "name": "python3"
  },
  "language_info": {
   "codemirror_mode": {
    "name": "ipython",
    "version": 3
   },
   "file_extension": ".py",
   "mimetype": "text/x-python",
   "name": "python",
   "nbconvert_exporter": "python",
   "pygments_lexer": "ipython3",
   "version": "3.10.16"
  }
 },
 "nbformat": 4,
 "nbformat_minor": 2
}

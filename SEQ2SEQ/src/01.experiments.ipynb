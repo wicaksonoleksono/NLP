{
 "cells": [
  {
   "cell_type": "code",
   "execution_count": 1,
   "metadata": {},
   "outputs": [
    {
     "name": "stderr",
     "output_type": "stream",
     "text": [
      "[nltk_data] Downloading package punkt to\n",
      "[nltk_data]     /home/wicaksonolxn/nltk_data...\n",
      "[nltk_data]   Package punkt is already up-to-date!\n"
     ]
    }
   ],
   "source": [
    "import os\n",
    "import torch\n",
    "import torch.nn as nn\n",
    "import torch.optim as optim\n",
    "from tqdm import tqdm\n",
    "from dataloader import get_dataloaders\n",
    "import nltk\n",
    "from nltk.translate.bleu_score import sentence_bleu, SmoothingFunction\n",
    "from transformer import Transformer,TransformerEncoder,TransformerDecoder\n",
    "import utils\n",
    "import pickle\n",
    "nltk.download('punkt')  \n",
    "device = torch.device('cuda' if torch.cuda.is_available() else 'cpu')"
   ]
  },
  {
   "cell_type": "code",
   "execution_count": 2,
   "metadata": {},
   "outputs": [
    {
     "name": "stdout",
     "output_type": "stream",
     "text": [
      "TrainData - Max 'min' sentence length: 76\n",
      "TrainData - Max 'eng' sentence length: 107\n",
      "TestData - Max 'min' sentence length: 61\n",
      "TestData - Max 'eng' sentence length: 75\n",
      "ValidData - Max 'min' sentence length: 62\n",
      "ValidData - Max 'eng' sentence length: 81\n",
      "Number of examples in train_dataset,train origin,train_raw: 799 799 799\n",
      "Number of examples in valid_dataset: 100\n",
      "Number of examples in test_dataset: 100\n",
      "Model initialized on: cuda\n"
     ]
    }
   ],
   "source": [
    "BATCH_SIZE = 32 # butuh lebih banyak update \n",
    "DATA_PATH = \"dataset/\"  \n",
    "SAVE_DIR = \"saved\"\n",
    "\n",
    "train_loader, val_loader, test_loader = get_dataloaders(\n",
    "    data_path=DATA_PATH, \n",
    "    source_lang=\"min\", \n",
    "    target_lang=\"eng\", \n",
    "    batch_size=BATCH_SIZE, \n",
    "    device=device\n",
    ")\n",
    "SRC_VOCAB_SIZE = 4000     \n",
    "TGT_VOCAB_SIZE = 4000     \n",
    "N_LAYERS = 1            \n",
    "N_HEADS = 1\n",
    "D_MODEL =  128\n",
    "FFN_HIDDEN = D_MODEL * 4\n",
    "DROPOUT = 0.2\n",
    "EPOCHS = 150\n",
    "\n",
    "encoder = TransformerEncoder(SRC_VOCAB_SIZE,D_MODEL,N_LAYERS,N_HEADS,FFN_HIDDEN,DROPOUT,device)\n",
    "decoder = TransformerDecoder(TGT_VOCAB_SIZE,D_MODEL,N_LAYERS,N_HEADS,FFN_HIDDEN,DROPOUT,device)\n",
    "model = Transformer(encoder,decoder,device,utils.PAD_TOKEN).to(device)\n",
    "optimizer = optim.Adam(model.parameters(), lr=5e-5)\n",
    "criterion = nn.CrossEntropyLoss(ignore_index=utils.PAD_TOKEN) \n",
    "print(\"Model initialized on:\", device)\n"
   ]
  },
  {
   "cell_type": "code",
   "execution_count": 3,
   "metadata": {},
   "outputs": [
    {
     "name": "stdout",
     "output_type": "stream",
     "text": [
      "torch.Size([32, 109]) torch.Size([32, 109])\n",
      "Padding: 0\n",
      "Start of Sequence: 1\n",
      "End of Sequence: 2\n",
      "Unknown: 3\n"
     ]
    }
   ],
   "source": [
    "tokens = {\n",
    "    \"Padding\": utils.PAD_TOKEN,\n",
    "    \"Start of Sequence\": utils.SOS_TOKEN,\n",
    "    \"End of Sequence\": utils.EOS_TOKEN,\n",
    "    \"Unknown\": utils.UNK_TOKEN\n",
    "}\n",
    "for i, batch in enumerate(train_loader):\n",
    "    if i < 8:\n",
    "        src = batch[\"src\"]\n",
    "        tgt = batch[\"tgt\"]\n",
    "        ss,fss=src[0,:],src.shape\n",
    "        st,fst=tgt[0,:],tgt.shape\n",
    "        print(fss,fst)\n",
    "    for name, token in tokens.items():\n",
    "        print(f\"{name}: {token}\")\n",
    "    else:\n",
    "        break"
   ]
  },
  {
   "cell_type": "markdown",
   "metadata": {},
   "source": [
    "testing input , is it correct"
   ]
  },
  {
   "cell_type": "code",
   "execution_count": 4,
   "metadata": {},
   "outputs": [
    {
     "name": "stdout",
     "output_type": "stream",
     "text": [
      "torch.Size([32, 109])\n",
      "torch.Size([32, 109])\n",
      "torch.Size([32, 109])\n",
      "torch.Size([32, 109])\n",
      "torch.Size([32, 109])\n",
      "torch.Size([32, 109])\n",
      "torch.Size([32, 109])\n"
     ]
    }
   ],
   "source": [
    "data_iter = iter(train_loader)\n",
    "for i in range(7):\n",
    "    batch = next(data_iter)\n",
    "    print(batch[\"src\"].shape)\n"
   ]
  },
  {
   "cell_type": "code",
   "execution_count": 5,
   "metadata": {},
   "outputs": [
    {
     "name": "stdout",
     "output_type": "stream",
     "text": [
      "tensor([  72, 1427,  262,  ...,    0,    0,    0], device='cuda:0')\n"
     ]
    }
   ],
   "source": [
    "for i,batch in enumerate(train_loader):\n",
    "    if i <1:\n",
    "        src_batch = batch['src'].to(device)\n",
    "        tgt_batch = batch['tgt'].to(device)\n",
    "        output, _ = model(src_batch, tgt_batch[:, :-1]) \n",
    "        output_dim = output.shape[-1]\n",
    "        output = output.reshape(-1, output_dim)\n",
    "        tgt_y = tgt_batch[:,1:].contiguous().view(-1)\n",
    "        print(tgt_y)"
   ]
  },
  {
   "cell_type": "code",
   "execution_count": 6,
   "metadata": {},
   "outputs": [
    {
     "name": "stdout",
     "output_type": "stream",
     "text": [
      "Epoch 1/150\n"
     ]
    },
    {
     "name": "stderr",
     "output_type": "stream",
     "text": [
      "🚀 Training: 100%|██████████| 25/25 [00:00<00:00, 49.79it/s, loss=8.3075]\n",
      "🚀 Validation: 100%|██████████| 4/4 [00:00<00:00, 179.49it/s, loss=8.3206]\n"
     ]
    },
    {
     "name": "stdout",
     "output_type": "stream",
     "text": [
      "[Epoch 1] Train Loss: 8.4080 | Val Loss: 8.2831\n",
      "  -> New best model saved at saved/best_dictbase.pt\n",
      "Epoch 2/150\n"
     ]
    },
    {
     "name": "stderr",
     "output_type": "stream",
     "text": [
      "🚀 Training: 100%|██████████| 25/25 [00:00<00:00, 56.41it/s, loss=8.1621]\n",
      "🚀 Validation: 100%|██████████| 4/4 [00:00<00:00, 172.69it/s, loss=8.1242]\n"
     ]
    },
    {
     "name": "stdout",
     "output_type": "stream",
     "text": [
      "[Epoch 2] Train Loss: 8.2453 | Val Loss: 8.0846\n",
      "  -> New best model saved at saved/best_dictbase.pt\n",
      "Epoch 3/150\n"
     ]
    },
    {
     "name": "stderr",
     "output_type": "stream",
     "text": [
      "🚀 Training: 100%|██████████| 25/25 [00:00<00:00, 57.27it/s, loss=7.9049]\n",
      "🚀 Validation: 100%|██████████| 4/4 [00:00<00:00, 129.42it/s, loss=7.8629]\n"
     ]
    },
    {
     "name": "stdout",
     "output_type": "stream",
     "text": [
      "[Epoch 3] Train Loss: 8.0376 | Val Loss: 7.8260\n",
      "  -> New best model saved at saved/best_dictbase.pt\n",
      "Epoch 4/150\n"
     ]
    },
    {
     "name": "stderr",
     "output_type": "stream",
     "text": [
      "🚀 Training: 100%|██████████| 25/25 [00:00<00:00, 57.01it/s, loss=7.6171]\n",
      "🚀 Validation: 100%|██████████| 4/4 [00:00<00:00, 168.92it/s, loss=7.5847]\n"
     ]
    },
    {
     "name": "stdout",
     "output_type": "stream",
     "text": [
      "[Epoch 4] Train Loss: 7.7797 | Val Loss: 7.5558\n",
      "  -> New best model saved at saved/best_dictbase.pt\n",
      "Epoch 5/150\n"
     ]
    },
    {
     "name": "stderr",
     "output_type": "stream",
     "text": [
      "🚀 Training: 100%|██████████| 25/25 [00:00<00:00, 55.86it/s, loss=7.5060]\n",
      "🚀 Validation: 100%|██████████| 4/4 [00:00<00:00, 167.75it/s, loss=7.3666]\n"
     ]
    },
    {
     "name": "stdout",
     "output_type": "stream",
     "text": [
      "[Epoch 5] Train Loss: 7.5393 | Val Loss: 7.3424\n",
      "  -> New best model saved at saved/best_dictbase.pt\n",
      "Epoch 6/150\n"
     ]
    },
    {
     "name": "stderr",
     "output_type": "stream",
     "text": [
      "🚀 Training: 100%|██████████| 25/25 [00:00<00:00, 57.48it/s, loss=7.2522]\n",
      "🚀 Validation: 100%|██████████| 4/4 [00:00<00:00, 165.43it/s, loss=7.1985]\n"
     ]
    },
    {
     "name": "stdout",
     "output_type": "stream",
     "text": [
      "[Epoch 6] Train Loss: 7.3426 | Val Loss: 7.1791\n",
      "  -> New best model saved at saved/best_dictbase.pt\n",
      "Epoch 7/150\n"
     ]
    },
    {
     "name": "stderr",
     "output_type": "stream",
     "text": [
      "🚀 Training: 100%|██████████| 25/25 [00:00<00:00, 56.74it/s, loss=7.1423]\n",
      "🚀 Validation: 100%|██████████| 4/4 [00:00<00:00, 180.48it/s, loss=7.0603]\n"
     ]
    },
    {
     "name": "stdout",
     "output_type": "stream",
     "text": [
      "[Epoch 7] Train Loss: 7.1857 | Val Loss: 7.0461\n",
      "  -> New best model saved at saved/best_dictbase.pt\n",
      "Epoch 8/150\n"
     ]
    },
    {
     "name": "stderr",
     "output_type": "stream",
     "text": [
      "🚀 Training: 100%|██████████| 25/25 [00:00<00:00, 57.28it/s, loss=6.9753]\n",
      "🚀 Validation: 100%|██████████| 4/4 [00:00<00:00, 135.79it/s, loss=6.9461]\n"
     ]
    },
    {
     "name": "stdout",
     "output_type": "stream",
     "text": [
      "[Epoch 8] Train Loss: 7.0509 | Val Loss: 6.9359\n",
      "  -> New best model saved at saved/best_dictbase.pt\n",
      "Epoch 9/150\n"
     ]
    },
    {
     "name": "stderr",
     "output_type": "stream",
     "text": [
      "🚀 Training: 100%|██████████| 25/25 [00:00<00:00, 57.53it/s, loss=7.0069]\n",
      "🚀 Validation: 100%|██████████| 4/4 [00:00<00:00, 168.35it/s, loss=6.8484]\n"
     ]
    },
    {
     "name": "stdout",
     "output_type": "stream",
     "text": [
      "[Epoch 9] Train Loss: 6.9335 | Val Loss: 6.8397\n",
      "  -> New best model saved at saved/best_dictbase.pt\n",
      "Epoch 10/150\n"
     ]
    },
    {
     "name": "stderr",
     "output_type": "stream",
     "text": [
      "🚀 Training: 100%|██████████| 25/25 [00:00<00:00, 56.56it/s, loss=6.8028]\n",
      "🚀 Validation: 100%|██████████| 4/4 [00:00<00:00, 168.49it/s, loss=6.7633]\n"
     ]
    },
    {
     "name": "stdout",
     "output_type": "stream",
     "text": [
      "[Epoch 10] Train Loss: 6.8292 | Val Loss: 6.7586\n",
      "  -> New best model saved at saved/best_dictbase.pt\n",
      "Epoch 11/150\n"
     ]
    },
    {
     "name": "stderr",
     "output_type": "stream",
     "text": [
      "🚀 Training: 100%|██████████| 25/25 [00:00<00:00, 56.93it/s, loss=6.6641]\n",
      "🚀 Validation: 100%|██████████| 4/4 [00:00<00:00, 163.87it/s, loss=6.6918]\n"
     ]
    },
    {
     "name": "stdout",
     "output_type": "stream",
     "text": [
      "[Epoch 11] Train Loss: 6.7404 | Val Loss: 6.6907\n",
      "  -> New best model saved at saved/best_dictbase.pt\n",
      "Epoch 12/150\n"
     ]
    },
    {
     "name": "stderr",
     "output_type": "stream",
     "text": [
      "🚀 Training: 100%|██████████| 25/25 [00:00<00:00, 55.69it/s, loss=6.5220]\n",
      "🚀 Validation: 100%|██████████| 4/4 [00:00<00:00, 166.07it/s, loss=6.6307]\n"
     ]
    },
    {
     "name": "stdout",
     "output_type": "stream",
     "text": [
      "[Epoch 12] Train Loss: 6.6601 | Val Loss: 6.6324\n",
      "  -> New best model saved at saved/best_dictbase.pt\n",
      "Epoch 13/150\n"
     ]
    },
    {
     "name": "stderr",
     "output_type": "stream",
     "text": [
      "🚀 Training: 100%|██████████| 25/25 [00:00<00:00, 58.42it/s, loss=6.5899]\n",
      "🚀 Validation: 100%|██████████| 4/4 [00:00<00:00, 186.99it/s, loss=6.5780]\n"
     ]
    },
    {
     "name": "stdout",
     "output_type": "stream",
     "text": [
      "[Epoch 13] Train Loss: 6.5854 | Val Loss: 6.5825\n",
      "  -> New best model saved at saved/best_dictbase.pt\n",
      "Epoch 14/150\n"
     ]
    },
    {
     "name": "stderr",
     "output_type": "stream",
     "text": [
      "🚀 Training: 100%|██████████| 25/25 [00:00<00:00, 58.51it/s, loss=6.5940]\n",
      "🚀 Validation: 100%|██████████| 4/4 [00:00<00:00, 181.36it/s, loss=6.5348]\n"
     ]
    },
    {
     "name": "stdout",
     "output_type": "stream",
     "text": [
      "[Epoch 14] Train Loss: 6.5306 | Val Loss: 6.5420\n",
      "  -> New best model saved at saved/best_dictbase.pt\n",
      "Epoch 15/150\n"
     ]
    },
    {
     "name": "stderr",
     "output_type": "stream",
     "text": [
      "🚀 Training: 100%|██████████| 25/25 [00:00<00:00, 59.12it/s, loss=6.4069]\n",
      "🚀 Validation: 100%|██████████| 4/4 [00:00<00:00, 183.59it/s, loss=6.4969]\n"
     ]
    },
    {
     "name": "stdout",
     "output_type": "stream",
     "text": [
      "[Epoch 15] Train Loss: 6.4725 | Val Loss: 6.5081\n",
      "  -> New best model saved at saved/best_dictbase.pt\n",
      "Epoch 16/150\n"
     ]
    },
    {
     "name": "stderr",
     "output_type": "stream",
     "text": [
      "🚀 Training: 100%|██████████| 25/25 [00:00<00:00, 57.92it/s, loss=6.5001]\n",
      "🚀 Validation: 100%|██████████| 4/4 [00:00<00:00, 182.26it/s, loss=6.4681]\n"
     ]
    },
    {
     "name": "stdout",
     "output_type": "stream",
     "text": [
      "[Epoch 16] Train Loss: 6.4340 | Val Loss: 6.4818\n",
      "  -> New best model saved at saved/best_dictbase.pt\n",
      "Epoch 17/150\n"
     ]
    },
    {
     "name": "stderr",
     "output_type": "stream",
     "text": [
      "🚀 Training: 100%|██████████| 25/25 [00:00<00:00, 58.48it/s, loss=6.2866]\n",
      "🚀 Validation: 100%|██████████| 4/4 [00:00<00:00, 183.00it/s, loss=6.4419]\n"
     ]
    },
    {
     "name": "stdout",
     "output_type": "stream",
     "text": [
      "[Epoch 17] Train Loss: 6.3877 | Val Loss: 6.4601\n",
      "  -> New best model saved at saved/best_dictbase.pt\n",
      "Epoch 18/150\n"
     ]
    },
    {
     "name": "stderr",
     "output_type": "stream",
     "text": [
      "🚀 Training: 100%|██████████| 25/25 [00:00<00:00, 58.53it/s, loss=6.2775]\n",
      "🚀 Validation: 100%|██████████| 4/4 [00:00<00:00, 186.69it/s, loss=6.4239]\n"
     ]
    },
    {
     "name": "stdout",
     "output_type": "stream",
     "text": [
      "[Epoch 18] Train Loss: 6.3576 | Val Loss: 6.4438\n",
      "  -> New best model saved at saved/best_dictbase.pt\n",
      "Epoch 19/150\n"
     ]
    },
    {
     "name": "stderr",
     "output_type": "stream",
     "text": [
      "🚀 Training: 100%|██████████| 25/25 [00:00<00:00, 58.91it/s, loss=6.3480]\n",
      "🚀 Validation: 100%|██████████| 4/4 [00:00<00:00, 186.53it/s, loss=6.4071]\n"
     ]
    },
    {
     "name": "stdout",
     "output_type": "stream",
     "text": [
      "[Epoch 19] Train Loss: 6.3274 | Val Loss: 6.4302\n",
      "  -> New best model saved at saved/best_dictbase.pt\n",
      "Epoch 20/150\n"
     ]
    },
    {
     "name": "stderr",
     "output_type": "stream",
     "text": [
      "🚀 Training: 100%|██████████| 25/25 [00:00<00:00, 57.58it/s, loss=6.3528]\n",
      "🚀 Validation: 100%|██████████| 4/4 [00:00<00:00, 177.92it/s, loss=6.3915]\n"
     ]
    },
    {
     "name": "stdout",
     "output_type": "stream",
     "text": [
      "[Epoch 20] Train Loss: 6.3047 | Val Loss: 6.4183\n",
      "  -> New best model saved at saved/best_dictbase.pt\n",
      "Epoch 21/150\n"
     ]
    },
    {
     "name": "stderr",
     "output_type": "stream",
     "text": [
      "🚀 Training: 100%|██████████| 25/25 [00:00<00:00, 58.14it/s, loss=6.3217]\n",
      "🚀 Validation: 100%|██████████| 4/4 [00:00<00:00, 178.44it/s, loss=6.3828]\n"
     ]
    },
    {
     "name": "stdout",
     "output_type": "stream",
     "text": [
      "[Epoch 21] Train Loss: 6.2818 | Val Loss: 6.4107\n",
      "  -> New best model saved at saved/best_dictbase.pt\n",
      "Epoch 22/150\n"
     ]
    },
    {
     "name": "stderr",
     "output_type": "stream",
     "text": [
      "🚀 Training: 100%|██████████| 25/25 [00:00<00:00, 58.23it/s, loss=6.2914]\n",
      "🚀 Validation: 100%|██████████| 4/4 [00:00<00:00, 179.72it/s, loss=6.3742]\n"
     ]
    },
    {
     "name": "stdout",
     "output_type": "stream",
     "text": [
      "[Epoch 22] Train Loss: 6.2646 | Val Loss: 6.4029\n",
      "  -> New best model saved at saved/best_dictbase.pt\n",
      "Epoch 23/150\n"
     ]
    },
    {
     "name": "stderr",
     "output_type": "stream",
     "text": [
      "🚀 Training: 100%|██████████| 25/25 [00:00<00:00, 58.28it/s, loss=6.1685]\n",
      "🚀 Validation: 100%|██████████| 4/4 [00:00<00:00, 186.10it/s, loss=6.3680]\n"
     ]
    },
    {
     "name": "stdout",
     "output_type": "stream",
     "text": [
      "[Epoch 23] Train Loss: 6.2439 | Val Loss: 6.3967\n",
      "  -> New best model saved at saved/best_dictbase.pt\n",
      "Epoch 24/150\n"
     ]
    },
    {
     "name": "stderr",
     "output_type": "stream",
     "text": [
      "🚀 Training: 100%|██████████| 25/25 [00:00<00:00, 57.68it/s, loss=6.2244]\n",
      "🚀 Validation: 100%|██████████| 4/4 [00:00<00:00, 182.32it/s, loss=6.3593]\n"
     ]
    },
    {
     "name": "stdout",
     "output_type": "stream",
     "text": [
      "[Epoch 24] Train Loss: 6.2277 | Val Loss: 6.3901\n",
      "  -> New best model saved at saved/best_dictbase.pt\n",
      "Epoch 25/150\n"
     ]
    },
    {
     "name": "stderr",
     "output_type": "stream",
     "text": [
      "🚀 Training: 100%|██████████| 25/25 [00:00<00:00, 58.59it/s, loss=6.3637]\n",
      "🚀 Validation: 100%|██████████| 4/4 [00:00<00:00, 176.17it/s, loss=6.3518]\n"
     ]
    },
    {
     "name": "stdout",
     "output_type": "stream",
     "text": [
      "[Epoch 25] Train Loss: 6.2160 | Val Loss: 6.3829\n",
      "  -> New best model saved at saved/best_dictbase.pt\n",
      "Epoch 26/150\n"
     ]
    },
    {
     "name": "stderr",
     "output_type": "stream",
     "text": [
      "🚀 Training: 100%|██████████| 25/25 [00:00<00:00, 58.43it/s, loss=6.1066]\n",
      "🚀 Validation: 100%|██████████| 4/4 [00:00<00:00, 186.65it/s, loss=6.3502]\n"
     ]
    },
    {
     "name": "stdout",
     "output_type": "stream",
     "text": [
      "[Epoch 26] Train Loss: 6.2054 | Val Loss: 6.3779\n",
      "  -> New best model saved at saved/best_dictbase.pt\n",
      "Epoch 27/150\n"
     ]
    },
    {
     "name": "stderr",
     "output_type": "stream",
     "text": [
      "🚀 Training: 100%|██████████| 25/25 [00:00<00:00, 54.19it/s, loss=6.0393]\n",
      "🚀 Validation: 100%|██████████| 4/4 [00:00<00:00, 139.23it/s, loss=6.3452]\n"
     ]
    },
    {
     "name": "stdout",
     "output_type": "stream",
     "text": [
      "[Epoch 27] Train Loss: 6.1878 | Val Loss: 6.3712\n",
      "  -> New best model saved at saved/best_dictbase.pt\n",
      "Epoch 28/150\n"
     ]
    },
    {
     "name": "stderr",
     "output_type": "stream",
     "text": [
      "🚀 Training: 100%|██████████| 25/25 [00:00<00:00, 57.39it/s, loss=6.2123]\n",
      "🚀 Validation: 100%|██████████| 4/4 [00:00<00:00, 182.16it/s, loss=6.3433]\n"
     ]
    },
    {
     "name": "stdout",
     "output_type": "stream",
     "text": [
      "[Epoch 28] Train Loss: 6.1773 | Val Loss: 6.3675\n",
      "  -> New best model saved at saved/best_dictbase.pt\n",
      "Epoch 29/150\n"
     ]
    },
    {
     "name": "stderr",
     "output_type": "stream",
     "text": [
      "🚀 Training: 100%|██████████| 25/25 [00:00<00:00, 57.63it/s, loss=6.0964]\n",
      "🚀 Validation: 100%|██████████| 4/4 [00:00<00:00, 178.23it/s, loss=6.3375]\n"
     ]
    },
    {
     "name": "stdout",
     "output_type": "stream",
     "text": [
      "[Epoch 29] Train Loss: 6.1591 | Val Loss: 6.3615\n",
      "  -> New best model saved at saved/best_dictbase.pt\n",
      "Epoch 30/150\n"
     ]
    },
    {
     "name": "stderr",
     "output_type": "stream",
     "text": [
      "🚀 Training: 100%|██████████| 25/25 [00:00<00:00, 58.82it/s, loss=6.1539]\n",
      "🚀 Validation: 100%|██████████| 4/4 [00:00<00:00, 179.93it/s, loss=6.3318]\n"
     ]
    },
    {
     "name": "stdout",
     "output_type": "stream",
     "text": [
      "[Epoch 30] Train Loss: 6.1502 | Val Loss: 6.3531\n",
      "  -> New best model saved at saved/best_dictbase.pt\n",
      "Epoch 31/150\n"
     ]
    },
    {
     "name": "stderr",
     "output_type": "stream",
     "text": [
      "🚀 Training: 100%|██████████| 25/25 [00:00<00:00, 57.51it/s, loss=6.2449]\n",
      "🚀 Validation: 100%|██████████| 4/4 [00:00<00:00, 181.55it/s, loss=6.3290]\n"
     ]
    },
    {
     "name": "stdout",
     "output_type": "stream",
     "text": [
      "[Epoch 31] Train Loss: 6.1429 | Val Loss: 6.3473\n",
      "  -> New best model saved at saved/best_dictbase.pt\n",
      "Epoch 32/150\n"
     ]
    },
    {
     "name": "stderr",
     "output_type": "stream",
     "text": [
      "🚀 Training: 100%|██████████| 25/25 [00:00<00:00, 58.30it/s, loss=6.1441]\n",
      "🚀 Validation: 100%|██████████| 4/4 [00:00<00:00, 184.68it/s, loss=6.3288]\n"
     ]
    },
    {
     "name": "stdout",
     "output_type": "stream",
     "text": [
      "[Epoch 32] Train Loss: 6.1285 | Val Loss: 6.3443\n",
      "  -> New best model saved at saved/best_dictbase.pt\n",
      "Epoch 33/150\n"
     ]
    },
    {
     "name": "stderr",
     "output_type": "stream",
     "text": [
      "🚀 Training: 100%|██████████| 25/25 [00:00<00:00, 57.32it/s, loss=6.1661]\n",
      "🚀 Validation: 100%|██████████| 4/4 [00:00<00:00, 180.98it/s, loss=6.3260]\n"
     ]
    },
    {
     "name": "stdout",
     "output_type": "stream",
     "text": [
      "[Epoch 33] Train Loss: 6.1199 | Val Loss: 6.3412\n",
      "  -> New best model saved at saved/best_dictbase.pt\n",
      "Epoch 34/150\n"
     ]
    },
    {
     "name": "stderr",
     "output_type": "stream",
     "text": [
      "🚀 Training: 100%|██████████| 25/25 [00:00<00:00, 58.58it/s, loss=5.9737]\n",
      "🚀 Validation: 100%|██████████| 4/4 [00:00<00:00, 174.84it/s, loss=6.3193]\n"
     ]
    },
    {
     "name": "stdout",
     "output_type": "stream",
     "text": [
      "[Epoch 34] Train Loss: 6.1108 | Val Loss: 6.3352\n",
      "  -> New best model saved at saved/best_dictbase.pt\n",
      "Epoch 35/150\n"
     ]
    },
    {
     "name": "stderr",
     "output_type": "stream",
     "text": [
      "🚀 Training: 100%|██████████| 25/25 [00:00<00:00, 57.65it/s, loss=5.9935]\n",
      "🚀 Validation: 100%|██████████| 4/4 [00:00<00:00, 182.83it/s, loss=6.3174]\n"
     ]
    },
    {
     "name": "stdout",
     "output_type": "stream",
     "text": [
      "[Epoch 35] Train Loss: 6.0982 | Val Loss: 6.3327\n",
      "  -> New best model saved at saved/best_dictbase.pt\n",
      "Epoch 36/150\n"
     ]
    },
    {
     "name": "stderr",
     "output_type": "stream",
     "text": [
      "🚀 Training: 100%|██████████| 25/25 [00:00<00:00, 58.58it/s, loss=6.0309]\n",
      "🚀 Validation: 100%|██████████| 4/4 [00:00<00:00, 145.32it/s, loss=6.3125]\n"
     ]
    },
    {
     "name": "stdout",
     "output_type": "stream",
     "text": [
      "[Epoch 36] Train Loss: 6.0862 | Val Loss: 6.3258\n",
      "  -> New best model saved at saved/best_dictbase.pt\n",
      "Epoch 37/150\n"
     ]
    },
    {
     "name": "stderr",
     "output_type": "stream",
     "text": [
      "🚀 Training: 100%|██████████| 25/25 [00:00<00:00, 58.59it/s, loss=6.1131]\n",
      "🚀 Validation: 100%|██████████| 4/4 [00:00<00:00, 180.82it/s, loss=6.3077]\n"
     ]
    },
    {
     "name": "stdout",
     "output_type": "stream",
     "text": [
      "[Epoch 37] Train Loss: 6.0770 | Val Loss: 6.3216\n",
      "  -> New best model saved at saved/best_dictbase.pt\n",
      "Epoch 38/150\n"
     ]
    },
    {
     "name": "stderr",
     "output_type": "stream",
     "text": [
      "🚀 Training: 100%|██████████| 25/25 [00:00<00:00, 57.39it/s, loss=6.1752]\n",
      "🚀 Validation: 100%|██████████| 4/4 [00:00<00:00, 161.60it/s, loss=6.3054]\n"
     ]
    },
    {
     "name": "stdout",
     "output_type": "stream",
     "text": [
      "[Epoch 38] Train Loss: 6.0679 | Val Loss: 6.3172\n",
      "  -> New best model saved at saved/best_dictbase.pt\n",
      "Epoch 39/150\n"
     ]
    },
    {
     "name": "stderr",
     "output_type": "stream",
     "text": [
      "🚀 Training: 100%|██████████| 25/25 [00:00<00:00, 58.31it/s, loss=6.0660]\n",
      "🚀 Validation: 100%|██████████| 4/4 [00:00<00:00, 178.14it/s, loss=6.3051]\n"
     ]
    },
    {
     "name": "stdout",
     "output_type": "stream",
     "text": [
      "[Epoch 39] Train Loss: 6.0565 | Val Loss: 6.3138\n",
      "  -> New best model saved at saved/best_dictbase.pt\n",
      "Epoch 40/150\n"
     ]
    },
    {
     "name": "stderr",
     "output_type": "stream",
     "text": [
      "🚀 Training: 100%|██████████| 25/25 [00:00<00:00, 57.68it/s, loss=6.0842]\n",
      "🚀 Validation: 100%|██████████| 4/4 [00:00<00:00, 186.23it/s, loss=6.3053]\n"
     ]
    },
    {
     "name": "stdout",
     "output_type": "stream",
     "text": [
      "[Epoch 40] Train Loss: 6.0443 | Val Loss: 6.3114\n",
      "  -> New best model saved at saved/best_dictbase.pt\n",
      "Epoch 41/150\n"
     ]
    },
    {
     "name": "stderr",
     "output_type": "stream",
     "text": [
      "🚀 Training: 100%|██████████| 25/25 [00:00<00:00, 58.13it/s, loss=6.0782]\n",
      "🚀 Validation: 100%|██████████| 4/4 [00:00<00:00, 177.64it/s, loss=6.3057]\n"
     ]
    },
    {
     "name": "stdout",
     "output_type": "stream",
     "text": [
      "[Epoch 41] Train Loss: 6.0370 | Val Loss: 6.3101\n",
      "  -> New best model saved at saved/best_dictbase.pt\n",
      "Epoch 42/150\n"
     ]
    },
    {
     "name": "stderr",
     "output_type": "stream",
     "text": [
      "🚀 Training: 100%|██████████| 25/25 [00:00<00:00, 56.88it/s, loss=6.0779]\n",
      "🚀 Validation: 100%|██████████| 4/4 [00:00<00:00, 185.37it/s, loss=6.3013]\n"
     ]
    },
    {
     "name": "stdout",
     "output_type": "stream",
     "text": [
      "[Epoch 42] Train Loss: 6.0284 | Val Loss: 6.3047\n",
      "  -> New best model saved at saved/best_dictbase.pt\n",
      "Epoch 43/150\n"
     ]
    },
    {
     "name": "stderr",
     "output_type": "stream",
     "text": [
      "🚀 Training: 100%|██████████| 25/25 [00:00<00:00, 58.06it/s, loss=6.0235]\n",
      "🚀 Validation: 100%|██████████| 4/4 [00:00<00:00, 189.45it/s, loss=6.2961]\n"
     ]
    },
    {
     "name": "stdout",
     "output_type": "stream",
     "text": [
      "[Epoch 43] Train Loss: 6.0164 | Val Loss: 6.2992\n",
      "  -> New best model saved at saved/best_dictbase.pt\n",
      "Epoch 44/150\n"
     ]
    },
    {
     "name": "stderr",
     "output_type": "stream",
     "text": [
      "🚀 Training: 100%|██████████| 25/25 [00:00<00:00, 57.52it/s, loss=6.0226]\n",
      "🚀 Validation: 100%|██████████| 4/4 [00:00<00:00, 178.28it/s, loss=6.2964]\n"
     ]
    },
    {
     "name": "stdout",
     "output_type": "stream",
     "text": [
      "[Epoch 44] Train Loss: 6.0107 | Val Loss: 6.2968\n",
      "  -> New best model saved at saved/best_dictbase.pt\n",
      "Epoch 45/150\n"
     ]
    },
    {
     "name": "stderr",
     "output_type": "stream",
     "text": [
      "🚀 Training: 100%|██████████| 25/25 [00:00<00:00, 58.19it/s, loss=6.0903]\n",
      "🚀 Validation: 100%|██████████| 4/4 [00:00<00:00, 181.71it/s, loss=6.2969]\n"
     ]
    },
    {
     "name": "stdout",
     "output_type": "stream",
     "text": [
      "[Epoch 45] Train Loss: 5.9949 | Val Loss: 6.2947\n",
      "  -> New best model saved at saved/best_dictbase.pt\n",
      "Epoch 46/150\n"
     ]
    },
    {
     "name": "stderr",
     "output_type": "stream",
     "text": [
      "🚀 Training: 100%|██████████| 25/25 [00:00<00:00, 57.03it/s, loss=6.0462]\n",
      "🚀 Validation: 100%|██████████| 4/4 [00:00<00:00, 185.22it/s, loss=6.2952]\n"
     ]
    },
    {
     "name": "stdout",
     "output_type": "stream",
     "text": [
      "[Epoch 46] Train Loss: 5.9918 | Val Loss: 6.2910\n",
      "  -> New best model saved at saved/best_dictbase.pt\n",
      "Epoch 47/150\n"
     ]
    },
    {
     "name": "stderr",
     "output_type": "stream",
     "text": [
      "🚀 Training: 100%|██████████| 25/25 [00:00<00:00, 58.33it/s, loss=5.8804]\n",
      "🚀 Validation: 100%|██████████| 4/4 [00:00<00:00, 182.87it/s, loss=6.2955]\n"
     ]
    },
    {
     "name": "stdout",
     "output_type": "stream",
     "text": [
      "[Epoch 47] Train Loss: 5.9745 | Val Loss: 6.2895\n",
      "  -> New best model saved at saved/best_dictbase.pt\n",
      "Epoch 48/150\n"
     ]
    },
    {
     "name": "stderr",
     "output_type": "stream",
     "text": [
      "🚀 Training: 100%|██████████| 25/25 [00:00<00:00, 57.62it/s, loss=5.9617]\n",
      "🚀 Validation: 100%|██████████| 4/4 [00:00<00:00, 181.20it/s, loss=6.2867]\n"
     ]
    },
    {
     "name": "stdout",
     "output_type": "stream",
     "text": [
      "[Epoch 48] Train Loss: 5.9679 | Val Loss: 6.2833\n",
      "  -> New best model saved at saved/best_dictbase.pt\n",
      "Epoch 49/150\n"
     ]
    },
    {
     "name": "stderr",
     "output_type": "stream",
     "text": [
      "🚀 Training: 100%|██████████| 25/25 [00:00<00:00, 58.15it/s, loss=6.0869]\n",
      "🚀 Validation: 100%|██████████| 4/4 [00:00<00:00, 182.08it/s, loss=6.2841]\n"
     ]
    },
    {
     "name": "stdout",
     "output_type": "stream",
     "text": [
      "[Epoch 49] Train Loss: 5.9578 | Val Loss: 6.2800\n",
      "  -> New best model saved at saved/best_dictbase.pt\n",
      "Epoch 50/150\n"
     ]
    },
    {
     "name": "stderr",
     "output_type": "stream",
     "text": [
      "🚀 Training: 100%|██████████| 25/25 [00:00<00:00, 57.96it/s, loss=5.7852]\n",
      "🚀 Validation: 100%|██████████| 4/4 [00:00<00:00, 182.64it/s, loss=6.2847]\n"
     ]
    },
    {
     "name": "stdout",
     "output_type": "stream",
     "text": [
      "[Epoch 50] Train Loss: 5.9463 | Val Loss: 6.2786\n",
      "  -> New best model saved at saved/best_dictbase.pt\n",
      "Epoch 51/150\n"
     ]
    },
    {
     "name": "stderr",
     "output_type": "stream",
     "text": [
      "🚀 Training: 100%|██████████| 25/25 [00:00<00:00, 58.16it/s, loss=6.0062]\n",
      "🚀 Validation: 100%|██████████| 4/4 [00:00<00:00, 182.51it/s, loss=6.2778]\n"
     ]
    },
    {
     "name": "stdout",
     "output_type": "stream",
     "text": [
      "[Epoch 51] Train Loss: 5.9355 | Val Loss: 6.2745\n",
      "  -> New best model saved at saved/best_dictbase.pt\n",
      "Epoch 52/150\n"
     ]
    },
    {
     "name": "stderr",
     "output_type": "stream",
     "text": [
      "🚀 Training: 100%|██████████| 25/25 [00:00<00:00, 57.77it/s, loss=5.8947]\n",
      "🚀 Validation: 100%|██████████| 4/4 [00:00<00:00, 180.92it/s, loss=6.2797]\n"
     ]
    },
    {
     "name": "stdout",
     "output_type": "stream",
     "text": [
      "[Epoch 52] Train Loss: 5.9264 | Val Loss: 6.2720\n",
      "  -> New best model saved at saved/best_dictbase.pt\n",
      "Epoch 53/150\n"
     ]
    },
    {
     "name": "stderr",
     "output_type": "stream",
     "text": [
      "🚀 Training: 100%|██████████| 25/25 [00:00<00:00, 58.27it/s, loss=5.8908]\n",
      "🚀 Validation: 100%|██████████| 4/4 [00:00<00:00, 183.76it/s, loss=6.2763]\n"
     ]
    },
    {
     "name": "stdout",
     "output_type": "stream",
     "text": [
      "[Epoch 53] Train Loss: 5.9210 | Val Loss: 6.2676\n",
      "  -> New best model saved at saved/best_dictbase.pt\n",
      "Epoch 54/150\n"
     ]
    },
    {
     "name": "stderr",
     "output_type": "stream",
     "text": [
      "🚀 Training: 100%|██████████| 25/25 [00:00<00:00, 56.79it/s, loss=5.7639]\n",
      "🚀 Validation: 100%|██████████| 4/4 [00:00<00:00, 172.71it/s, loss=6.2748]\n"
     ]
    },
    {
     "name": "stdout",
     "output_type": "stream",
     "text": [
      "[Epoch 54] Train Loss: 5.9139 | Val Loss: 6.2641\n",
      "  -> New best model saved at saved/best_dictbase.pt\n",
      "Epoch 55/150\n"
     ]
    },
    {
     "name": "stderr",
     "output_type": "stream",
     "text": [
      "🚀 Training: 100%|██████████| 25/25 [00:00<00:00, 57.13it/s, loss=5.9703]\n",
      "🚀 Validation: 100%|██████████| 4/4 [00:00<00:00, 178.90it/s, loss=6.2737]\n"
     ]
    },
    {
     "name": "stdout",
     "output_type": "stream",
     "text": [
      "[Epoch 55] Train Loss: 5.8964 | Val Loss: 6.2595\n",
      "  -> New best model saved at saved/best_dictbase.pt\n",
      "Epoch 56/150\n"
     ]
    },
    {
     "name": "stderr",
     "output_type": "stream",
     "text": [
      "🚀 Training: 100%|██████████| 25/25 [00:00<00:00, 56.12it/s, loss=5.7791]\n",
      "🚀 Validation: 100%|██████████| 4/4 [00:00<00:00, 179.83it/s, loss=6.2683]\n"
     ]
    },
    {
     "name": "stdout",
     "output_type": "stream",
     "text": [
      "[Epoch 56] Train Loss: 5.8896 | Val Loss: 6.2555\n",
      "  -> New best model saved at saved/best_dictbase.pt\n",
      "Epoch 57/150\n"
     ]
    },
    {
     "name": "stderr",
     "output_type": "stream",
     "text": [
      "🚀 Training: 100%|██████████| 25/25 [00:00<00:00, 57.06it/s, loss=5.7804]\n",
      "🚀 Validation: 100%|██████████| 4/4 [00:00<00:00, 173.02it/s, loss=6.2650]\n"
     ]
    },
    {
     "name": "stdout",
     "output_type": "stream",
     "text": [
      "[Epoch 57] Train Loss: 5.8788 | Val Loss: 6.2503\n",
      "  -> New best model saved at saved/best_dictbase.pt\n",
      "Epoch 58/150\n"
     ]
    },
    {
     "name": "stderr",
     "output_type": "stream",
     "text": [
      "🚀 Training: 100%|██████████| 25/25 [00:00<00:00, 56.65it/s, loss=5.9504]\n",
      "🚀 Validation: 100%|██████████| 4/4 [00:00<00:00, 174.75it/s, loss=6.2590]\n"
     ]
    },
    {
     "name": "stdout",
     "output_type": "stream",
     "text": [
      "[Epoch 58] Train Loss: 5.8660 | Val Loss: 6.2451\n",
      "  -> New best model saved at saved/best_dictbase.pt\n",
      "Epoch 59/150\n"
     ]
    },
    {
     "name": "stderr",
     "output_type": "stream",
     "text": [
      "🚀 Training: 100%|██████████| 25/25 [00:00<00:00, 57.51it/s, loss=5.9610]\n",
      "🚀 Validation: 100%|██████████| 4/4 [00:00<00:00, 178.24it/s, loss=6.2594]\n"
     ]
    },
    {
     "name": "stdout",
     "output_type": "stream",
     "text": [
      "[Epoch 59] Train Loss: 5.8591 | Val Loss: 6.2422\n",
      "  -> New best model saved at saved/best_dictbase.pt\n",
      "Epoch 60/150\n"
     ]
    },
    {
     "name": "stderr",
     "output_type": "stream",
     "text": [
      "🚀 Training: 100%|██████████| 25/25 [00:00<00:00, 56.48it/s, loss=5.8582]\n",
      "🚀 Validation: 100%|██████████| 4/4 [00:00<00:00, 177.03it/s, loss=6.2594]\n"
     ]
    },
    {
     "name": "stdout",
     "output_type": "stream",
     "text": [
      "[Epoch 60] Train Loss: 5.8505 | Val Loss: 6.2385\n",
      "  -> New best model saved at saved/best_dictbase.pt\n",
      "Epoch 61/150\n"
     ]
    },
    {
     "name": "stderr",
     "output_type": "stream",
     "text": [
      "🚀 Training: 100%|██████████| 25/25 [00:00<00:00, 56.82it/s, loss=5.7985]\n",
      "🚀 Validation: 100%|██████████| 4/4 [00:00<00:00, 154.54it/s, loss=6.2579]\n"
     ]
    },
    {
     "name": "stdout",
     "output_type": "stream",
     "text": [
      "[Epoch 61] Train Loss: 5.8421 | Val Loss: 6.2357\n",
      "  -> New best model saved at saved/best_dictbase.pt\n",
      "Epoch 62/150\n"
     ]
    },
    {
     "name": "stderr",
     "output_type": "stream",
     "text": [
      "🚀 Training: 100%|██████████| 25/25 [00:00<00:00, 56.86it/s, loss=6.0178]\n",
      "🚀 Validation: 100%|██████████| 4/4 [00:00<00:00, 173.02it/s, loss=6.2628]\n"
     ]
    },
    {
     "name": "stdout",
     "output_type": "stream",
     "text": [
      "[Epoch 62] Train Loss: 5.8308 | Val Loss: 6.2368\n",
      "Epoch 63/150\n"
     ]
    },
    {
     "name": "stderr",
     "output_type": "stream",
     "text": [
      "🚀 Training: 100%|██████████| 25/25 [00:00<00:00, 56.38it/s, loss=5.8209]\n",
      "🚀 Validation: 100%|██████████| 4/4 [00:00<00:00, 167.97it/s, loss=6.2571]\n"
     ]
    },
    {
     "name": "stdout",
     "output_type": "stream",
     "text": [
      "[Epoch 63] Train Loss: 5.8168 | Val Loss: 6.2305\n",
      "  -> New best model saved at saved/best_dictbase.pt\n",
      "Epoch 64/150\n"
     ]
    },
    {
     "name": "stderr",
     "output_type": "stream",
     "text": [
      "🚀 Training: 100%|██████████| 25/25 [00:00<00:00, 57.10it/s, loss=5.6533]\n",
      "🚀 Validation: 100%|██████████| 4/4 [00:00<00:00, 180.92it/s, loss=6.2575]\n"
     ]
    },
    {
     "name": "stdout",
     "output_type": "stream",
     "text": [
      "[Epoch 64] Train Loss: 5.8085 | Val Loss: 6.2306\n",
      "Epoch 65/150\n"
     ]
    },
    {
     "name": "stderr",
     "output_type": "stream",
     "text": [
      "🚀 Training: 100%|██████████| 25/25 [00:00<00:00, 56.16it/s, loss=5.7993]\n",
      "🚀 Validation: 100%|██████████| 4/4 [00:00<00:00, 173.03it/s, loss=6.2555]\n"
     ]
    },
    {
     "name": "stdout",
     "output_type": "stream",
     "text": [
      "[Epoch 65] Train Loss: 5.7988 | Val Loss: 6.2276\n",
      "  -> New best model saved at saved/best_dictbase.pt\n",
      "Epoch 66/150\n"
     ]
    },
    {
     "name": "stderr",
     "output_type": "stream",
     "text": [
      "🚀 Training: 100%|██████████| 25/25 [00:00<00:00, 57.24it/s, loss=5.8314]\n",
      "🚀 Validation: 100%|██████████| 4/4 [00:00<00:00, 177.04it/s, loss=6.2512]\n"
     ]
    },
    {
     "name": "stdout",
     "output_type": "stream",
     "text": [
      "[Epoch 66] Train Loss: 5.7876 | Val Loss: 6.2239\n",
      "  -> New best model saved at saved/best_dictbase.pt\n",
      "Epoch 67/150\n"
     ]
    },
    {
     "name": "stderr",
     "output_type": "stream",
     "text": [
      "🚀 Training: 100%|██████████| 25/25 [00:00<00:00, 56.10it/s, loss=5.8290]\n",
      "🚀 Validation: 100%|██████████| 4/4 [00:00<00:00, 163.80it/s, loss=6.2478]\n"
     ]
    },
    {
     "name": "stdout",
     "output_type": "stream",
     "text": [
      "[Epoch 67] Train Loss: 5.7822 | Val Loss: 6.2203\n",
      "  -> New best model saved at saved/best_dictbase.pt\n",
      "Epoch 68/150\n"
     ]
    },
    {
     "name": "stderr",
     "output_type": "stream",
     "text": [
      "🚀 Training: 100%|██████████| 25/25 [00:00<00:00, 56.61it/s, loss=5.7845]\n",
      "🚀 Validation: 100%|██████████| 4/4 [00:00<00:00, 171.75it/s, loss=6.2408]\n"
     ]
    },
    {
     "name": "stdout",
     "output_type": "stream",
     "text": [
      "[Epoch 68] Train Loss: 5.7717 | Val Loss: 6.2139\n",
      "  -> New best model saved at saved/best_dictbase.pt\n",
      "Epoch 69/150\n"
     ]
    },
    {
     "name": "stderr",
     "output_type": "stream",
     "text": [
      "🚀 Training: 100%|██████████| 25/25 [00:00<00:00, 55.62it/s, loss=5.7889]\n",
      "🚀 Validation: 100%|██████████| 4/4 [00:00<00:00, 174.42it/s, loss=6.2408]\n"
     ]
    },
    {
     "name": "stdout",
     "output_type": "stream",
     "text": [
      "[Epoch 69] Train Loss: 5.7621 | Val Loss: 6.2108\n",
      "  -> New best model saved at saved/best_dictbase.pt\n",
      "Epoch 70/150\n"
     ]
    },
    {
     "name": "stderr",
     "output_type": "stream",
     "text": [
      "🚀 Training: 100%|██████████| 25/25 [00:00<00:00, 56.66it/s, loss=5.7192]\n",
      "🚀 Validation: 100%|██████████| 4/4 [00:00<00:00, 176.91it/s, loss=6.2382]\n"
     ]
    },
    {
     "name": "stdout",
     "output_type": "stream",
     "text": [
      "[Epoch 70] Train Loss: 5.7499 | Val Loss: 6.2071\n",
      "  -> New best model saved at saved/best_dictbase.pt\n",
      "Epoch 71/150\n"
     ]
    },
    {
     "name": "stderr",
     "output_type": "stream",
     "text": [
      "🚀 Training: 100%|██████████| 25/25 [00:00<00:00, 56.33it/s, loss=5.8052]\n",
      "🚀 Validation: 100%|██████████| 4/4 [00:00<00:00, 174.12it/s, loss=6.2366]\n"
     ]
    },
    {
     "name": "stdout",
     "output_type": "stream",
     "text": [
      "[Epoch 71] Train Loss: 5.7421 | Val Loss: 6.2046\n",
      "  -> New best model saved at saved/best_dictbase.pt\n",
      "Epoch 72/150\n"
     ]
    },
    {
     "name": "stderr",
     "output_type": "stream",
     "text": [
      "🚀 Training: 100%|██████████| 25/25 [00:00<00:00, 56.81it/s, loss=5.8000]\n",
      "🚀 Validation: 100%|██████████| 4/4 [00:00<00:00, 178.79it/s, loss=6.2330]\n"
     ]
    },
    {
     "name": "stdout",
     "output_type": "stream",
     "text": [
      "[Epoch 72] Train Loss: 5.7283 | Val Loss: 6.2026\n",
      "  -> New best model saved at saved/best_dictbase.pt\n",
      "Epoch 73/150\n"
     ]
    },
    {
     "name": "stderr",
     "output_type": "stream",
     "text": [
      "🚀 Training: 100%|██████████| 25/25 [00:00<00:00, 55.94it/s, loss=5.5606]\n",
      "🚀 Validation: 100%|██████████| 4/4 [00:00<00:00, 179.21it/s, loss=6.2321]\n"
     ]
    },
    {
     "name": "stdout",
     "output_type": "stream",
     "text": [
      "[Epoch 73] Train Loss: 5.7198 | Val Loss: 6.2008\n",
      "  -> New best model saved at saved/best_dictbase.pt\n",
      "Epoch 74/150\n"
     ]
    },
    {
     "name": "stderr",
     "output_type": "stream",
     "text": [
      "🚀 Training: 100%|██████████| 25/25 [00:00<00:00, 56.92it/s, loss=5.6300]\n",
      "🚀 Validation: 100%|██████████| 4/4 [00:00<00:00, 176.11it/s, loss=6.2312]\n"
     ]
    },
    {
     "name": "stdout",
     "output_type": "stream",
     "text": [
      "[Epoch 74] Train Loss: 5.7138 | Val Loss: 6.1997\n",
      "  -> New best model saved at saved/best_dictbase.pt\n",
      "Epoch 75/150\n"
     ]
    },
    {
     "name": "stderr",
     "output_type": "stream",
     "text": [
      "🚀 Training: 100%|██████████| 25/25 [00:00<00:00, 56.21it/s, loss=5.7625]\n",
      "🚀 Validation: 100%|██████████| 4/4 [00:00<00:00, 175.10it/s, loss=6.2305]\n"
     ]
    },
    {
     "name": "stdout",
     "output_type": "stream",
     "text": [
      "[Epoch 75] Train Loss: 5.6999 | Val Loss: 6.1960\n",
      "  -> New best model saved at saved/best_dictbase.pt\n",
      "Epoch 76/150\n"
     ]
    },
    {
     "name": "stderr",
     "output_type": "stream",
     "text": [
      "🚀 Training: 100%|██████████| 25/25 [00:00<00:00, 56.74it/s, loss=5.6826]\n",
      "🚀 Validation: 100%|██████████| 4/4 [00:00<00:00, 176.97it/s, loss=6.2261]\n"
     ]
    },
    {
     "name": "stdout",
     "output_type": "stream",
     "text": [
      "[Epoch 76] Train Loss: 5.6899 | Val Loss: 6.1914\n",
      "  -> New best model saved at saved/best_dictbase.pt\n",
      "Epoch 77/150\n"
     ]
    },
    {
     "name": "stderr",
     "output_type": "stream",
     "text": [
      "🚀 Training: 100%|██████████| 25/25 [00:00<00:00, 55.39it/s, loss=5.6319]\n",
      "🚀 Validation: 100%|██████████| 4/4 [00:00<00:00, 180.41it/s, loss=6.2235]\n"
     ]
    },
    {
     "name": "stdout",
     "output_type": "stream",
     "text": [
      "[Epoch 77] Train Loss: 5.6769 | Val Loss: 6.1877\n",
      "  -> New best model saved at saved/best_dictbase.pt\n",
      "Epoch 78/150\n"
     ]
    },
    {
     "name": "stderr",
     "output_type": "stream",
     "text": [
      "🚀 Training: 100%|██████████| 25/25 [00:00<00:00, 56.91it/s, loss=5.8057]\n",
      "🚀 Validation: 100%|██████████| 4/4 [00:00<00:00, 170.61it/s, loss=6.2255]\n"
     ]
    },
    {
     "name": "stdout",
     "output_type": "stream",
     "text": [
      "[Epoch 78] Train Loss: 5.6716 | Val Loss: 6.1870\n",
      "  -> New best model saved at saved/best_dictbase.pt\n",
      "Epoch 79/150\n"
     ]
    },
    {
     "name": "stderr",
     "output_type": "stream",
     "text": [
      "🚀 Training: 100%|██████████| 25/25 [00:00<00:00, 56.41it/s, loss=5.6126]\n",
      "🚀 Validation: 100%|██████████| 4/4 [00:00<00:00, 176.35it/s, loss=6.2238]\n"
     ]
    },
    {
     "name": "stdout",
     "output_type": "stream",
     "text": [
      "[Epoch 79] Train Loss: 5.6603 | Val Loss: 6.1840\n",
      "  -> New best model saved at saved/best_dictbase.pt\n",
      "Epoch 80/150\n"
     ]
    },
    {
     "name": "stderr",
     "output_type": "stream",
     "text": [
      "🚀 Training: 100%|██████████| 25/25 [00:00<00:00, 56.96it/s, loss=5.6822]\n",
      "🚀 Validation: 100%|██████████| 4/4 [00:00<00:00, 170.26it/s, loss=6.2192]\n"
     ]
    },
    {
     "name": "stdout",
     "output_type": "stream",
     "text": [
      "[Epoch 80] Train Loss: 5.6516 | Val Loss: 6.1772\n",
      "  -> New best model saved at saved/best_dictbase.pt\n",
      "Epoch 81/150\n"
     ]
    },
    {
     "name": "stderr",
     "output_type": "stream",
     "text": [
      "🚀 Training: 100%|██████████| 25/25 [00:00<00:00, 56.53it/s, loss=5.6787]\n",
      "🚀 Validation: 100%|██████████| 4/4 [00:00<00:00, 177.78it/s, loss=6.2153]\n"
     ]
    },
    {
     "name": "stdout",
     "output_type": "stream",
     "text": [
      "[Epoch 81] Train Loss: 5.6417 | Val Loss: 6.1750\n",
      "  -> New best model saved at saved/best_dictbase.pt\n",
      "Epoch 82/150\n"
     ]
    },
    {
     "name": "stderr",
     "output_type": "stream",
     "text": [
      "🚀 Training: 100%|██████████| 25/25 [00:00<00:00, 56.98it/s, loss=5.6647]\n",
      "🚀 Validation: 100%|██████████| 4/4 [00:00<00:00, 172.69it/s, loss=6.2204]\n"
     ]
    },
    {
     "name": "stdout",
     "output_type": "stream",
     "text": [
      "[Epoch 82] Train Loss: 5.6322 | Val Loss: 6.1766\n",
      "Epoch 83/150\n"
     ]
    },
    {
     "name": "stderr",
     "output_type": "stream",
     "text": [
      "🚀 Training: 100%|██████████| 25/25 [00:00<00:00, 55.72it/s, loss=5.6763]\n",
      "🚀 Validation: 100%|██████████| 4/4 [00:00<00:00, 170.33it/s, loss=6.2188]\n"
     ]
    },
    {
     "name": "stdout",
     "output_type": "stream",
     "text": [
      "[Epoch 83] Train Loss: 5.6239 | Val Loss: 6.1738\n",
      "  -> New best model saved at saved/best_dictbase.pt\n",
      "Epoch 84/150\n"
     ]
    },
    {
     "name": "stderr",
     "output_type": "stream",
     "text": [
      "🚀 Training: 100%|██████████| 25/25 [00:00<00:00, 56.81it/s, loss=5.6297]\n",
      "🚀 Validation: 100%|██████████| 4/4 [00:00<00:00, 164.87it/s, loss=6.2160]\n"
     ]
    },
    {
     "name": "stdout",
     "output_type": "stream",
     "text": [
      "[Epoch 84] Train Loss: 5.6177 | Val Loss: 6.1703\n",
      "  -> New best model saved at saved/best_dictbase.pt\n",
      "Epoch 85/150\n"
     ]
    },
    {
     "name": "stderr",
     "output_type": "stream",
     "text": [
      "🚀 Training: 100%|██████████| 25/25 [00:00<00:00, 55.88it/s, loss=5.3710]\n",
      "🚀 Validation: 100%|██████████| 4/4 [00:00<00:00, 174.15it/s, loss=6.2113]\n"
     ]
    },
    {
     "name": "stdout",
     "output_type": "stream",
     "text": [
      "[Epoch 85] Train Loss: 5.6004 | Val Loss: 6.1642\n",
      "  -> New best model saved at saved/best_dictbase.pt\n",
      "Epoch 86/150\n"
     ]
    },
    {
     "name": "stderr",
     "output_type": "stream",
     "text": [
      "🚀 Training: 100%|██████████| 25/25 [00:00<00:00, 56.74it/s, loss=5.5184]\n",
      "🚀 Validation: 100%|██████████| 4/4 [00:00<00:00, 176.28it/s, loss=6.2108]\n"
     ]
    },
    {
     "name": "stdout",
     "output_type": "stream",
     "text": [
      "[Epoch 86] Train Loss: 5.5892 | Val Loss: 6.1623\n",
      "  -> New best model saved at saved/best_dictbase.pt\n",
      "Epoch 87/150\n"
     ]
    },
    {
     "name": "stderr",
     "output_type": "stream",
     "text": [
      "🚀 Training: 100%|██████████| 25/25 [00:00<00:00, 55.49it/s, loss=5.5102]\n",
      "🚀 Validation: 100%|██████████| 4/4 [00:00<00:00, 178.55it/s, loss=6.2129]\n"
     ]
    },
    {
     "name": "stdout",
     "output_type": "stream",
     "text": [
      "[Epoch 87] Train Loss: 5.5853 | Val Loss: 6.1624\n",
      "Epoch 88/150\n"
     ]
    },
    {
     "name": "stderr",
     "output_type": "stream",
     "text": [
      "🚀 Training: 100%|██████████| 25/25 [00:00<00:00, 56.57it/s, loss=5.5680]\n",
      "🚀 Validation: 100%|██████████| 4/4 [00:00<00:00, 157.06it/s, loss=6.2132]\n"
     ]
    },
    {
     "name": "stdout",
     "output_type": "stream",
     "text": [
      "[Epoch 88] Train Loss: 5.5794 | Val Loss: 6.1612\n",
      "  -> New best model saved at saved/best_dictbase.pt\n",
      "Epoch 89/150\n"
     ]
    },
    {
     "name": "stderr",
     "output_type": "stream",
     "text": [
      "🚀 Training: 100%|██████████| 25/25 [00:00<00:00, 56.64it/s, loss=5.7349]\n",
      "🚀 Validation: 100%|██████████| 4/4 [00:00<00:00, 178.41it/s, loss=6.2098]\n"
     ]
    },
    {
     "name": "stdout",
     "output_type": "stream",
     "text": [
      "[Epoch 89] Train Loss: 5.5655 | Val Loss: 6.1554\n",
      "  -> New best model saved at saved/best_dictbase.pt\n",
      "Epoch 90/150\n"
     ]
    },
    {
     "name": "stderr",
     "output_type": "stream",
     "text": [
      "🚀 Training: 100%|██████████| 25/25 [00:00<00:00, 56.83it/s, loss=5.4017]\n",
      "🚀 Validation: 100%|██████████| 4/4 [00:00<00:00, 143.05it/s, loss=6.2109]\n"
     ]
    },
    {
     "name": "stdout",
     "output_type": "stream",
     "text": [
      "[Epoch 90] Train Loss: 5.5521 | Val Loss: 6.1531\n",
      "  -> New best model saved at saved/best_dictbase.pt\n",
      "Epoch 91/150\n"
     ]
    },
    {
     "name": "stderr",
     "output_type": "stream",
     "text": [
      "🚀 Training: 100%|██████████| 25/25 [00:00<00:00, 56.73it/s, loss=5.6921]\n",
      "🚀 Validation: 100%|██████████| 4/4 [00:00<00:00, 179.90it/s, loss=6.2078]\n"
     ]
    },
    {
     "name": "stdout",
     "output_type": "stream",
     "text": [
      "[Epoch 91] Train Loss: 5.5488 | Val Loss: 6.1493\n",
      "  -> New best model saved at saved/best_dictbase.pt\n",
      "Epoch 92/150\n"
     ]
    },
    {
     "name": "stderr",
     "output_type": "stream",
     "text": [
      "🚀 Training: 100%|██████████| 25/25 [00:00<00:00, 55.87it/s, loss=5.5225]\n",
      "🚀 Validation: 100%|██████████| 4/4 [00:00<00:00, 165.31it/s, loss=6.2055]\n"
     ]
    },
    {
     "name": "stdout",
     "output_type": "stream",
     "text": [
      "[Epoch 92] Train Loss: 5.5389 | Val Loss: 6.1471\n",
      "  -> New best model saved at saved/best_dictbase.pt\n",
      "Epoch 93/150\n"
     ]
    },
    {
     "name": "stderr",
     "output_type": "stream",
     "text": [
      "🚀 Training: 100%|██████████| 25/25 [00:00<00:00, 56.21it/s, loss=5.4968]\n",
      "🚀 Validation: 100%|██████████| 4/4 [00:00<00:00, 173.03it/s, loss=6.2026]\n"
     ]
    },
    {
     "name": "stdout",
     "output_type": "stream",
     "text": [
      "[Epoch 93] Train Loss: 5.5276 | Val Loss: 6.1441\n",
      "  -> New best model saved at saved/best_dictbase.pt\n",
      "Epoch 94/150\n"
     ]
    },
    {
     "name": "stderr",
     "output_type": "stream",
     "text": [
      "🚀 Training: 100%|██████████| 25/25 [00:00<00:00, 53.40it/s, loss=5.4628]\n",
      "🚀 Validation: 100%|██████████| 4/4 [00:00<00:00, 110.96it/s, loss=6.1989]\n"
     ]
    },
    {
     "name": "stdout",
     "output_type": "stream",
     "text": [
      "[Epoch 94] Train Loss: 5.5179 | Val Loss: 6.1393\n",
      "  -> New best model saved at saved/best_dictbase.pt\n",
      "Epoch 95/150\n"
     ]
    },
    {
     "name": "stderr",
     "output_type": "stream",
     "text": [
      "🚀 Training: 100%|██████████| 25/25 [00:00<00:00, 52.20it/s, loss=5.4895]\n",
      "🚀 Validation: 100%|██████████| 4/4 [00:00<00:00, 154.69it/s, loss=6.2032]\n"
     ]
    },
    {
     "name": "stdout",
     "output_type": "stream",
     "text": [
      "[Epoch 95] Train Loss: 5.5028 | Val Loss: 6.1427\n",
      "Epoch 96/150\n"
     ]
    },
    {
     "name": "stderr",
     "output_type": "stream",
     "text": [
      "🚀 Training: 100%|██████████| 25/25 [00:00<00:00, 54.04it/s, loss=5.4363]\n",
      "🚀 Validation: 100%|██████████| 4/4 [00:00<00:00, 164.70it/s, loss=6.1983]\n"
     ]
    },
    {
     "name": "stdout",
     "output_type": "stream",
     "text": [
      "[Epoch 96] Train Loss: 5.4997 | Val Loss: 6.1381\n",
      "  -> New best model saved at saved/best_dictbase.pt\n",
      "Epoch 97/150\n"
     ]
    },
    {
     "name": "stderr",
     "output_type": "stream",
     "text": [
      "🚀 Training: 100%|██████████| 25/25 [00:00<00:00, 52.96it/s, loss=5.5622]\n",
      "🚀 Validation: 100%|██████████| 4/4 [00:00<00:00, 164.89it/s, loss=6.1962]\n"
     ]
    },
    {
     "name": "stdout",
     "output_type": "stream",
     "text": [
      "[Epoch 97] Train Loss: 5.4895 | Val Loss: 6.1357\n",
      "  -> New best model saved at saved/best_dictbase.pt\n",
      "Epoch 98/150\n"
     ]
    },
    {
     "name": "stderr",
     "output_type": "stream",
     "text": [
      "🚀 Training: 100%|██████████| 25/25 [00:00<00:00, 54.69it/s, loss=5.5200]\n",
      "🚀 Validation: 100%|██████████| 4/4 [00:00<00:00, 156.05it/s, loss=6.1903]\n"
     ]
    },
    {
     "name": "stdout",
     "output_type": "stream",
     "text": [
      "[Epoch 98] Train Loss: 5.4848 | Val Loss: 6.1295\n",
      "  -> New best model saved at saved/best_dictbase.pt\n",
      "Epoch 99/150\n"
     ]
    },
    {
     "name": "stderr",
     "output_type": "stream",
     "text": [
      "🚀 Training: 100%|██████████| 25/25 [00:00<00:00, 54.18it/s, loss=5.5354]\n",
      "🚀 Validation: 100%|██████████| 4/4 [00:00<00:00, 165.41it/s, loss=6.1856]\n"
     ]
    },
    {
     "name": "stdout",
     "output_type": "stream",
     "text": [
      "[Epoch 99] Train Loss: 5.4703 | Val Loss: 6.1254\n",
      "  -> New best model saved at saved/best_dictbase.pt\n",
      "Epoch 100/150\n"
     ]
    },
    {
     "name": "stderr",
     "output_type": "stream",
     "text": [
      "🚀 Training: 100%|██████████| 25/25 [00:00<00:00, 55.05it/s, loss=5.4863]\n",
      "🚀 Validation: 100%|██████████| 4/4 [00:00<00:00, 128.77it/s, loss=6.1868]\n"
     ]
    },
    {
     "name": "stdout",
     "output_type": "stream",
     "text": [
      "[Epoch 100] Train Loss: 5.4658 | Val Loss: 6.1245\n",
      "  -> New best model saved at saved/best_dictbase.pt\n",
      "Epoch 101/150\n"
     ]
    },
    {
     "name": "stderr",
     "output_type": "stream",
     "text": [
      "🚀 Training: 100%|██████████| 25/25 [00:00<00:00, 55.04it/s, loss=5.4792]\n",
      "🚀 Validation: 100%|██████████| 4/4 [00:00<00:00, 166.19it/s, loss=6.1855]\n"
     ]
    },
    {
     "name": "stdout",
     "output_type": "stream",
     "text": [
      "[Epoch 101] Train Loss: 5.4487 | Val Loss: 6.1232\n",
      "  -> New best model saved at saved/best_dictbase.pt\n",
      "Epoch 102/150\n"
     ]
    },
    {
     "name": "stderr",
     "output_type": "stream",
     "text": [
      "🚀 Training: 100%|██████████| 25/25 [00:00<00:00, 52.31it/s, loss=5.3703]\n",
      "🚀 Validation: 100%|██████████| 4/4 [00:00<00:00, 143.31it/s, loss=6.1903]\n"
     ]
    },
    {
     "name": "stdout",
     "output_type": "stream",
     "text": [
      "[Epoch 102] Train Loss: 5.4415 | Val Loss: 6.1248\n",
      "Epoch 103/150\n"
     ]
    },
    {
     "name": "stderr",
     "output_type": "stream",
     "text": [
      "🚀 Training: 100%|██████████| 25/25 [00:00<00:00, 54.69it/s, loss=5.3915]\n",
      "🚀 Validation: 100%|██████████| 4/4 [00:00<00:00, 161.88it/s, loss=6.1863]\n"
     ]
    },
    {
     "name": "stdout",
     "output_type": "stream",
     "text": [
      "[Epoch 103] Train Loss: 5.4379 | Val Loss: 6.1212\n",
      "  -> New best model saved at saved/best_dictbase.pt\n",
      "Epoch 104/150\n"
     ]
    },
    {
     "name": "stderr",
     "output_type": "stream",
     "text": [
      "🚀 Training: 100%|██████████| 25/25 [00:00<00:00, 54.54it/s, loss=5.4237]\n",
      "🚀 Validation: 100%|██████████| 4/4 [00:00<00:00, 169.31it/s, loss=6.1855]\n"
     ]
    },
    {
     "name": "stdout",
     "output_type": "stream",
     "text": [
      "[Epoch 104] Train Loss: 5.4251 | Val Loss: 6.1219\n",
      "Epoch 105/150\n"
     ]
    },
    {
     "name": "stderr",
     "output_type": "stream",
     "text": [
      "🚀 Training: 100%|██████████| 25/25 [00:00<00:00, 54.85it/s, loss=5.3424]\n",
      "🚀 Validation: 100%|██████████| 4/4 [00:00<00:00, 159.51it/s, loss=6.1794]\n"
     ]
    },
    {
     "name": "stdout",
     "output_type": "stream",
     "text": [
      "[Epoch 105] Train Loss: 5.4228 | Val Loss: 6.1157\n",
      "  -> New best model saved at saved/best_dictbase.pt\n",
      "Epoch 106/150\n"
     ]
    },
    {
     "name": "stderr",
     "output_type": "stream",
     "text": [
      "🚀 Training: 100%|██████████| 25/25 [00:00<00:00, 53.37it/s, loss=5.4039]\n",
      "🚀 Validation: 100%|██████████| 4/4 [00:00<00:00, 161.93it/s, loss=6.1808]\n"
     ]
    },
    {
     "name": "stdout",
     "output_type": "stream",
     "text": [
      "[Epoch 106] Train Loss: 5.4032 | Val Loss: 6.1147\n",
      "  -> New best model saved at saved/best_dictbase.pt\n",
      "Epoch 107/150\n"
     ]
    },
    {
     "name": "stderr",
     "output_type": "stream",
     "text": [
      "🚀 Training: 100%|██████████| 25/25 [00:00<00:00, 53.58it/s, loss=5.5005]\n",
      "🚀 Validation: 100%|██████████| 4/4 [00:00<00:00, 135.79it/s, loss=6.1778]\n"
     ]
    },
    {
     "name": "stdout",
     "output_type": "stream",
     "text": [
      "[Epoch 107] Train Loss: 5.3975 | Val Loss: 6.1129\n",
      "  -> New best model saved at saved/best_dictbase.pt\n",
      "Epoch 108/150\n"
     ]
    },
    {
     "name": "stderr",
     "output_type": "stream",
     "text": [
      "🚀 Training: 100%|██████████| 25/25 [00:00<00:00, 54.40it/s, loss=5.3257]\n",
      "🚀 Validation: 100%|██████████| 4/4 [00:00<00:00, 159.32it/s, loss=6.1774]\n"
     ]
    },
    {
     "name": "stdout",
     "output_type": "stream",
     "text": [
      "[Epoch 108] Train Loss: 5.3848 | Val Loss: 6.1115\n",
      "  -> New best model saved at saved/best_dictbase.pt\n",
      "Epoch 109/150\n"
     ]
    },
    {
     "name": "stderr",
     "output_type": "stream",
     "text": [
      "🚀 Training: 100%|██████████| 25/25 [00:00<00:00, 54.16it/s, loss=5.3852]\n",
      "🚀 Validation: 100%|██████████| 4/4 [00:00<00:00, 150.23it/s, loss=6.1707]\n"
     ]
    },
    {
     "name": "stdout",
     "output_type": "stream",
     "text": [
      "[Epoch 109] Train Loss: 5.3801 | Val Loss: 6.1056\n",
      "  -> New best model saved at saved/best_dictbase.pt\n",
      "Epoch 110/150\n"
     ]
    },
    {
     "name": "stderr",
     "output_type": "stream",
     "text": [
      "🚀 Training: 100%|██████████| 25/25 [00:00<00:00, 54.74it/s, loss=5.4737]\n",
      "🚀 Validation: 100%|██████████| 4/4 [00:00<00:00, 167.67it/s, loss=6.1719]\n"
     ]
    },
    {
     "name": "stdout",
     "output_type": "stream",
     "text": [
      "[Epoch 110] Train Loss: 5.3650 | Val Loss: 6.1050\n",
      "  -> New best model saved at saved/best_dictbase.pt\n",
      "Epoch 111/150\n"
     ]
    },
    {
     "name": "stderr",
     "output_type": "stream",
     "text": [
      "🚀 Training: 100%|██████████| 25/25 [00:00<00:00, 54.01it/s, loss=5.3519]\n",
      "🚀 Validation: 100%|██████████| 4/4 [00:00<00:00, 157.17it/s, loss=6.1670]\n"
     ]
    },
    {
     "name": "stdout",
     "output_type": "stream",
     "text": [
      "[Epoch 111] Train Loss: 5.3565 | Val Loss: 6.1016\n",
      "  -> New best model saved at saved/best_dictbase.pt\n",
      "Epoch 112/150\n"
     ]
    },
    {
     "name": "stderr",
     "output_type": "stream",
     "text": [
      "🚀 Training: 100%|██████████| 25/25 [00:00<00:00, 54.66it/s, loss=5.3798]\n",
      "🚀 Validation: 100%|██████████| 4/4 [00:00<00:00, 158.49it/s, loss=6.1639]\n"
     ]
    },
    {
     "name": "stdout",
     "output_type": "stream",
     "text": [
      "[Epoch 112] Train Loss: 5.3473 | Val Loss: 6.0989\n",
      "  -> New best model saved at saved/best_dictbase.pt\n",
      "Epoch 113/150\n"
     ]
    },
    {
     "name": "stderr",
     "output_type": "stream",
     "text": [
      "🚀 Training: 100%|██████████| 25/25 [00:00<00:00, 52.23it/s, loss=5.3409]\n",
      "🚀 Validation: 100%|██████████| 4/4 [00:00<00:00, 154.71it/s, loss=6.1646]\n"
     ]
    },
    {
     "name": "stdout",
     "output_type": "stream",
     "text": [
      "[Epoch 113] Train Loss: 5.3419 | Val Loss: 6.0977\n",
      "  -> New best model saved at saved/best_dictbase.pt\n",
      "Epoch 114/150\n"
     ]
    },
    {
     "name": "stderr",
     "output_type": "stream",
     "text": [
      "🚀 Training: 100%|██████████| 25/25 [00:00<00:00, 54.07it/s, loss=5.3325]\n",
      "🚀 Validation: 100%|██████████| 4/4 [00:00<00:00, 128.13it/s, loss=6.1713]\n"
     ]
    },
    {
     "name": "stdout",
     "output_type": "stream",
     "text": [
      "[Epoch 114] Train Loss: 5.3376 | Val Loss: 6.1013\n",
      "Epoch 115/150\n"
     ]
    },
    {
     "name": "stderr",
     "output_type": "stream",
     "text": [
      "🚀 Training: 100%|██████████| 25/25 [00:00<00:00, 54.16it/s, loss=5.3848]\n",
      "🚀 Validation: 100%|██████████| 4/4 [00:00<00:00, 155.19it/s, loss=6.1643]\n"
     ]
    },
    {
     "name": "stdout",
     "output_type": "stream",
     "text": [
      "[Epoch 115] Train Loss: 5.3272 | Val Loss: 6.0951\n",
      "  -> New best model saved at saved/best_dictbase.pt\n",
      "Epoch 116/150\n"
     ]
    },
    {
     "name": "stderr",
     "output_type": "stream",
     "text": [
      "🚀 Training: 100%|██████████| 25/25 [00:00<00:00, 55.10it/s, loss=5.3604]\n",
      "🚀 Validation: 100%|██████████| 4/4 [00:00<00:00, 148.56it/s, loss=6.1641]\n"
     ]
    },
    {
     "name": "stdout",
     "output_type": "stream",
     "text": [
      "[Epoch 116] Train Loss: 5.3143 | Val Loss: 6.0944\n",
      "  -> New best model saved at saved/best_dictbase.pt\n",
      "Epoch 117/150\n"
     ]
    },
    {
     "name": "stderr",
     "output_type": "stream",
     "text": [
      "🚀 Training: 100%|██████████| 25/25 [00:00<00:00, 53.43it/s, loss=5.3813]\n",
      "🚀 Validation: 100%|██████████| 4/4 [00:00<00:00, 161.05it/s, loss=6.1620]\n"
     ]
    },
    {
     "name": "stdout",
     "output_type": "stream",
     "text": [
      "[Epoch 117] Train Loss: 5.3071 | Val Loss: 6.0924\n",
      "  -> New best model saved at saved/best_dictbase.pt\n",
      "Epoch 118/150\n"
     ]
    },
    {
     "name": "stderr",
     "output_type": "stream",
     "text": [
      "🚀 Training: 100%|██████████| 25/25 [00:00<00:00, 53.77it/s, loss=5.2530]\n",
      "🚀 Validation: 100%|██████████| 4/4 [00:00<00:00, 165.65it/s, loss=6.1585]\n"
     ]
    },
    {
     "name": "stdout",
     "output_type": "stream",
     "text": [
      "[Epoch 118] Train Loss: 5.3031 | Val Loss: 6.0876\n",
      "  -> New best model saved at saved/best_dictbase.pt\n",
      "Epoch 119/150\n"
     ]
    },
    {
     "name": "stderr",
     "output_type": "stream",
     "text": [
      "🚀 Training: 100%|██████████| 25/25 [00:00<00:00, 54.85it/s, loss=5.2029]\n",
      "🚀 Validation: 100%|██████████| 4/4 [00:00<00:00, 163.46it/s, loss=6.1632]\n"
     ]
    },
    {
     "name": "stdout",
     "output_type": "stream",
     "text": [
      "[Epoch 119] Train Loss: 5.2931 | Val Loss: 6.0886\n",
      "Epoch 120/150\n"
     ]
    },
    {
     "name": "stderr",
     "output_type": "stream",
     "text": [
      "🚀 Training: 100%|██████████| 25/25 [00:00<00:00, 53.26it/s, loss=5.2890]\n",
      "🚀 Validation: 100%|██████████| 4/4 [00:00<00:00, 170.64it/s, loss=6.1656]\n"
     ]
    },
    {
     "name": "stdout",
     "output_type": "stream",
     "text": [
      "[Epoch 120] Train Loss: 5.2814 | Val Loss: 6.0913\n",
      "Epoch 121/150\n"
     ]
    },
    {
     "name": "stderr",
     "output_type": "stream",
     "text": [
      "🚀 Training: 100%|██████████| 25/25 [00:00<00:00, 55.44it/s, loss=5.1804]\n",
      "🚀 Validation: 100%|██████████| 4/4 [00:00<00:00, 126.78it/s, loss=6.1580]\n"
     ]
    },
    {
     "name": "stdout",
     "output_type": "stream",
     "text": [
      "[Epoch 121] Train Loss: 5.2723 | Val Loss: 6.0852\n",
      "  -> New best model saved at saved/best_dictbase.pt\n",
      "Epoch 122/150\n"
     ]
    },
    {
     "name": "stderr",
     "output_type": "stream",
     "text": [
      "🚀 Training: 100%|██████████| 25/25 [00:00<00:00, 54.64it/s, loss=5.3559]\n",
      "🚀 Validation: 100%|██████████| 4/4 [00:00<00:00, 166.16it/s, loss=6.1604]\n"
     ]
    },
    {
     "name": "stdout",
     "output_type": "stream",
     "text": [
      "[Epoch 122] Train Loss: 5.2679 | Val Loss: 6.0857\n",
      "Epoch 123/150\n"
     ]
    },
    {
     "name": "stderr",
     "output_type": "stream",
     "text": [
      "🚀 Training: 100%|██████████| 25/25 [00:00<00:00, 54.25it/s, loss=5.2627]\n",
      "🚀 Validation: 100%|██████████| 4/4 [00:00<00:00, 159.89it/s, loss=6.1570]\n"
     ]
    },
    {
     "name": "stdout",
     "output_type": "stream",
     "text": [
      "[Epoch 123] Train Loss: 5.2553 | Val Loss: 6.0835\n",
      "  -> New best model saved at saved/best_dictbase.pt\n",
      "Epoch 124/150\n"
     ]
    },
    {
     "name": "stderr",
     "output_type": "stream",
     "text": [
      "🚀 Training: 100%|██████████| 25/25 [00:00<00:00, 55.08it/s, loss=5.3111]\n",
      "🚀 Validation: 100%|██████████| 4/4 [00:00<00:00, 168.29it/s, loss=6.1543]\n"
     ]
    },
    {
     "name": "stdout",
     "output_type": "stream",
     "text": [
      "[Epoch 124] Train Loss: 5.2428 | Val Loss: 6.0788\n",
      "  -> New best model saved at saved/best_dictbase.pt\n",
      "Epoch 125/150\n"
     ]
    },
    {
     "name": "stderr",
     "output_type": "stream",
     "text": [
      "🚀 Training: 100%|██████████| 25/25 [00:00<00:00, 54.31it/s, loss=5.1733]\n",
      "🚀 Validation: 100%|██████████| 4/4 [00:00<00:00, 161.59it/s, loss=6.1521]\n"
     ]
    },
    {
     "name": "stdout",
     "output_type": "stream",
     "text": [
      "[Epoch 125] Train Loss: 5.2397 | Val Loss: 6.0778\n",
      "  -> New best model saved at saved/best_dictbase.pt\n",
      "Epoch 126/150\n"
     ]
    },
    {
     "name": "stderr",
     "output_type": "stream",
     "text": [
      "🚀 Training: 100%|██████████| 25/25 [00:00<00:00, 54.57it/s, loss=5.1973]\n",
      "🚀 Validation: 100%|██████████| 4/4 [00:00<00:00, 166.02it/s, loss=6.1541]\n"
     ]
    },
    {
     "name": "stdout",
     "output_type": "stream",
     "text": [
      "[Epoch 126] Train Loss: 5.2330 | Val Loss: 6.0790\n",
      "Epoch 127/150\n"
     ]
    },
    {
     "name": "stderr",
     "output_type": "stream",
     "text": [
      "🚀 Training: 100%|██████████| 25/25 [00:00<00:00, 53.59it/s, loss=5.0908]\n",
      "🚀 Validation: 100%|██████████| 4/4 [00:00<00:00, 163.80it/s, loss=6.1521]\n"
     ]
    },
    {
     "name": "stdout",
     "output_type": "stream",
     "text": [
      "[Epoch 127] Train Loss: 5.2215 | Val Loss: 6.0774\n",
      "  -> New best model saved at saved/best_dictbase.pt\n",
      "Epoch 128/150\n"
     ]
    },
    {
     "name": "stderr",
     "output_type": "stream",
     "text": [
      "🚀 Training: 100%|██████████| 25/25 [00:00<00:00, 54.36it/s, loss=5.1102]\n",
      "🚀 Validation: 100%|██████████| 4/4 [00:00<00:00, 115.16it/s, loss=6.1441]\n"
     ]
    },
    {
     "name": "stdout",
     "output_type": "stream",
     "text": [
      "[Epoch 128] Train Loss: 5.2130 | Val Loss: 6.0732\n",
      "  -> New best model saved at saved/best_dictbase.pt\n",
      "Epoch 129/150\n"
     ]
    },
    {
     "name": "stderr",
     "output_type": "stream",
     "text": [
      "🚀 Training: 100%|██████████| 25/25 [00:00<00:00, 53.29it/s, loss=5.2509]\n",
      "🚀 Validation: 100%|██████████| 4/4 [00:00<00:00, 153.05it/s, loss=6.1413]\n"
     ]
    },
    {
     "name": "stdout",
     "output_type": "stream",
     "text": [
      "[Epoch 129] Train Loss: 5.2076 | Val Loss: 6.0688\n",
      "  -> New best model saved at saved/best_dictbase.pt\n",
      "Epoch 130/150\n"
     ]
    },
    {
     "name": "stderr",
     "output_type": "stream",
     "text": [
      "🚀 Training: 100%|██████████| 25/25 [00:00<00:00, 53.63it/s, loss=5.1723]\n",
      "🚀 Validation: 100%|██████████| 4/4 [00:00<00:00, 142.46it/s, loss=6.1402]\n"
     ]
    },
    {
     "name": "stdout",
     "output_type": "stream",
     "text": [
      "[Epoch 130] Train Loss: 5.1938 | Val Loss: 6.0681\n",
      "  -> New best model saved at saved/best_dictbase.pt\n",
      "Epoch 131/150\n"
     ]
    },
    {
     "name": "stderr",
     "output_type": "stream",
     "text": [
      "🚀 Training: 100%|██████████| 25/25 [00:00<00:00, 53.87it/s, loss=5.1009]\n",
      "🚀 Validation: 100%|██████████| 4/4 [00:00<00:00, 160.83it/s, loss=6.1398]\n"
     ]
    },
    {
     "name": "stdout",
     "output_type": "stream",
     "text": [
      "[Epoch 131] Train Loss: 5.1832 | Val Loss: 6.0664\n",
      "  -> New best model saved at saved/best_dictbase.pt\n",
      "Epoch 132/150\n"
     ]
    },
    {
     "name": "stderr",
     "output_type": "stream",
     "text": [
      "🚀 Training: 100%|██████████| 25/25 [00:00<00:00, 53.40it/s, loss=5.0295]\n",
      "🚀 Validation: 100%|██████████| 4/4 [00:00<00:00, 161.85it/s, loss=6.1398]\n"
     ]
    },
    {
     "name": "stdout",
     "output_type": "stream",
     "text": [
      "[Epoch 132] Train Loss: 5.1796 | Val Loss: 6.0668\n",
      "Epoch 133/150\n"
     ]
    },
    {
     "name": "stderr",
     "output_type": "stream",
     "text": [
      "🚀 Training: 100%|██████████| 25/25 [00:00<00:00, 54.90it/s, loss=5.1806]\n",
      "🚀 Validation: 100%|██████████| 4/4 [00:00<00:00, 140.74it/s, loss=6.1442]\n"
     ]
    },
    {
     "name": "stdout",
     "output_type": "stream",
     "text": [
      "[Epoch 133] Train Loss: 5.1714 | Val Loss: 6.0700\n",
      "Epoch 134/150\n"
     ]
    },
    {
     "name": "stderr",
     "output_type": "stream",
     "text": [
      "🚀 Training: 100%|██████████| 25/25 [00:00<00:00, 52.26it/s, loss=5.0952]\n",
      "🚀 Validation: 100%|██████████| 4/4 [00:00<00:00, 156.18it/s, loss=6.1338]\n"
     ]
    },
    {
     "name": "stdout",
     "output_type": "stream",
     "text": [
      "[Epoch 134] Train Loss: 5.1669 | Val Loss: 6.0620\n",
      "  -> New best model saved at saved/best_dictbase.pt\n",
      "Epoch 135/150\n"
     ]
    },
    {
     "name": "stderr",
     "output_type": "stream",
     "text": [
      "🚀 Training: 100%|██████████| 25/25 [00:00<00:00, 53.77it/s, loss=5.0995]\n",
      "🚀 Validation: 100%|██████████| 4/4 [00:00<00:00, 142.55it/s, loss=6.1411]\n"
     ]
    },
    {
     "name": "stdout",
     "output_type": "stream",
     "text": [
      "[Epoch 135] Train Loss: 5.1551 | Val Loss: 6.0666\n",
      "Epoch 136/150\n"
     ]
    },
    {
     "name": "stderr",
     "output_type": "stream",
     "text": [
      "🚀 Training: 100%|██████████| 25/25 [00:00<00:00, 53.19it/s, loss=5.0835]\n",
      "🚀 Validation: 100%|██████████| 4/4 [00:00<00:00, 163.47it/s, loss=6.1370]\n"
     ]
    },
    {
     "name": "stdout",
     "output_type": "stream",
     "text": [
      "[Epoch 136] Train Loss: 5.1481 | Val Loss: 6.0626\n",
      "Epoch 137/150\n"
     ]
    },
    {
     "name": "stderr",
     "output_type": "stream",
     "text": [
      "🚀 Training: 100%|██████████| 25/25 [00:00<00:00, 53.28it/s, loss=5.1029]\n",
      "🚀 Validation: 100%|██████████| 4/4 [00:00<00:00, 133.35it/s, loss=6.1414]\n"
     ]
    },
    {
     "name": "stdout",
     "output_type": "stream",
     "text": [
      "[Epoch 137] Train Loss: 5.1334 | Val Loss: 6.0625\n",
      "Epoch 138/150\n"
     ]
    },
    {
     "name": "stderr",
     "output_type": "stream",
     "text": [
      "🚀 Training: 100%|██████████| 25/25 [00:00<00:00, 54.22it/s, loss=5.1742]\n",
      "🚀 Validation: 100%|██████████| 4/4 [00:00<00:00, 162.47it/s, loss=6.1425]\n"
     ]
    },
    {
     "name": "stdout",
     "output_type": "stream",
     "text": [
      "[Epoch 138] Train Loss: 5.1315 | Val Loss: 6.0637\n",
      "Epoch 139/150\n"
     ]
    },
    {
     "name": "stderr",
     "output_type": "stream",
     "text": [
      "🚀 Training: 100%|██████████| 25/25 [00:00<00:00, 53.51it/s, loss=5.1586]\n",
      "🚀 Validation: 100%|██████████| 4/4 [00:00<00:00, 163.25it/s, loss=6.1407]\n"
     ]
    },
    {
     "name": "stdout",
     "output_type": "stream",
     "text": [
      "[Epoch 139] Train Loss: 5.1201 | Val Loss: 6.0614\n",
      "  -> New best model saved at saved/best_dictbase.pt\n",
      "Epoch 140/150\n"
     ]
    },
    {
     "name": "stderr",
     "output_type": "stream",
     "text": [
      "🚀 Training: 100%|██████████| 25/25 [00:00<00:00, 53.29it/s, loss=5.0799]\n",
      "🚀 Validation: 100%|██████████| 4/4 [00:00<00:00, 162.35it/s, loss=6.1381]\n"
     ]
    },
    {
     "name": "stdout",
     "output_type": "stream",
     "text": [
      "[Epoch 140] Train Loss: 5.1109 | Val Loss: 6.0585\n",
      "  -> New best model saved at saved/best_dictbase.pt\n",
      "Epoch 141/150\n"
     ]
    },
    {
     "name": "stderr",
     "output_type": "stream",
     "text": [
      "🚀 Training: 100%|██████████| 25/25 [00:00<00:00, 53.01it/s, loss=5.0849]\n",
      "🚀 Validation: 100%|██████████| 4/4 [00:00<00:00, 153.41it/s, loss=6.1377]\n"
     ]
    },
    {
     "name": "stdout",
     "output_type": "stream",
     "text": [
      "[Epoch 141] Train Loss: 5.1036 | Val Loss: 6.0573\n",
      "  -> New best model saved at saved/best_dictbase.pt\n",
      "Epoch 142/150\n"
     ]
    },
    {
     "name": "stderr",
     "output_type": "stream",
     "text": [
      "🚀 Training: 100%|██████████| 25/25 [00:00<00:00, 54.15it/s, loss=5.2369]\n",
      "🚀 Validation: 100%|██████████| 4/4 [00:00<00:00, 140.11it/s, loss=6.1411]\n"
     ]
    },
    {
     "name": "stdout",
     "output_type": "stream",
     "text": [
      "[Epoch 142] Train Loss: 5.0965 | Val Loss: 6.0603\n",
      "Epoch 143/150\n"
     ]
    },
    {
     "name": "stderr",
     "output_type": "stream",
     "text": [
      "🚀 Training: 100%|██████████| 25/25 [00:00<00:00, 53.15it/s, loss=5.0709]\n",
      "🚀 Validation: 100%|██████████| 4/4 [00:00<00:00, 157.55it/s, loss=6.1279]\n"
     ]
    },
    {
     "name": "stdout",
     "output_type": "stream",
     "text": [
      "[Epoch 143] Train Loss: 5.0866 | Val Loss: 6.0514\n",
      "  -> New best model saved at saved/best_dictbase.pt\n",
      "Epoch 144/150\n"
     ]
    },
    {
     "name": "stderr",
     "output_type": "stream",
     "text": [
      "🚀 Training: 100%|██████████| 25/25 [00:00<00:00, 52.03it/s, loss=5.0869]\n",
      "🚀 Validation: 100%|██████████| 4/4 [00:00<00:00, 140.50it/s, loss=6.1289]\n"
     ]
    },
    {
     "name": "stdout",
     "output_type": "stream",
     "text": [
      "[Epoch 144] Train Loss: 5.0800 | Val Loss: 6.0503\n",
      "  -> New best model saved at saved/best_dictbase.pt\n",
      "Epoch 145/150\n"
     ]
    },
    {
     "name": "stderr",
     "output_type": "stream",
     "text": [
      "🚀 Training: 100%|██████████| 25/25 [00:00<00:00, 52.24it/s, loss=5.1647]\n",
      "🚀 Validation: 100%|██████████| 4/4 [00:00<00:00, 157.20it/s, loss=6.1261]\n"
     ]
    },
    {
     "name": "stdout",
     "output_type": "stream",
     "text": [
      "[Epoch 145] Train Loss: 5.0709 | Val Loss: 6.0476\n",
      "  -> New best model saved at saved/best_dictbase.pt\n",
      "Epoch 146/150\n"
     ]
    },
    {
     "name": "stderr",
     "output_type": "stream",
     "text": [
      "🚀 Training: 100%|██████████| 25/25 [00:00<00:00, 54.95it/s, loss=5.1060]\n",
      "🚀 Validation: 100%|██████████| 4/4 [00:00<00:00, 166.36it/s, loss=6.1238]\n"
     ]
    },
    {
     "name": "stdout",
     "output_type": "stream",
     "text": [
      "[Epoch 146] Train Loss: 5.0626 | Val Loss: 6.0472\n",
      "  -> New best model saved at saved/best_dictbase.pt\n",
      "Epoch 147/150\n"
     ]
    },
    {
     "name": "stderr",
     "output_type": "stream",
     "text": [
      "🚀 Training: 100%|██████████| 25/25 [00:00<00:00, 54.11it/s, loss=5.0524]\n",
      "🚀 Validation: 100%|██████████| 4/4 [00:00<00:00, 167.57it/s, loss=6.1229]\n"
     ]
    },
    {
     "name": "stdout",
     "output_type": "stream",
     "text": [
      "[Epoch 147] Train Loss: 5.0556 | Val Loss: 6.0457\n",
      "  -> New best model saved at saved/best_dictbase.pt\n",
      "Epoch 148/150\n"
     ]
    },
    {
     "name": "stderr",
     "output_type": "stream",
     "text": [
      "🚀 Training: 100%|██████████| 25/25 [00:00<00:00, 54.35it/s, loss=5.0486]\n",
      "🚀 Validation: 100%|██████████| 4/4 [00:00<00:00, 178.88it/s, loss=6.1244]\n"
     ]
    },
    {
     "name": "stdout",
     "output_type": "stream",
     "text": [
      "[Epoch 148] Train Loss: 5.0435 | Val Loss: 6.0491\n",
      "Epoch 149/150\n"
     ]
    },
    {
     "name": "stderr",
     "output_type": "stream",
     "text": [
      "🚀 Training: 100%|██████████| 25/25 [00:00<00:00, 54.73it/s, loss=5.0775]\n",
      "🚀 Validation: 100%|██████████| 4/4 [00:00<00:00, 171.25it/s, loss=6.1299]\n"
     ]
    },
    {
     "name": "stdout",
     "output_type": "stream",
     "text": [
      "[Epoch 149] Train Loss: 5.0433 | Val Loss: 6.0489\n",
      "Epoch 150/150\n"
     ]
    },
    {
     "name": "stderr",
     "output_type": "stream",
     "text": [
      "🚀 Training: 100%|██████████| 25/25 [00:00<00:00, 56.09it/s, loss=5.0580]\n",
      "🚀 Validation: 100%|██████████| 4/4 [00:00<00:00, 171.97it/s, loss=6.1281]\n"
     ]
    },
    {
     "name": "stdout",
     "output_type": "stream",
     "text": [
      "[Epoch 150] Train Loss: 5.0344 | Val Loss: 6.0487\n",
      "Loss plot saved to saved/loss_dictbase.png\n"
     ]
    }
   ],
   "source": [
    "os.makedirs(SAVE_DIR, exist_ok=True)\n",
    "best_val_loss = float(\"inf\") \n",
    "best_model_path = None\n",
    "atl = {}\n",
    "avl = {}\n",
    "for epoch in range(1, EPOCHS + 1):\n",
    "    print(f\"Epoch {epoch}/{EPOCHS}\")\n",
    "    model.train()\n",
    "    total_train_loss = 0.0\n",
    "    train_bar = tqdm(train_loader, desc=\"🚀 Training\", \n",
    "                leave=True, total=len(train_loader))\n",
    "    for batch in train_bar:\n",
    "        optimizer.zero_grad()\n",
    "        src_batch = batch['src'].to(device)\n",
    "        tgt_batch = batch['tgt'].to(device)\n",
    "        \n",
    "        output, _ = model(src_batch, tgt_batch[:, :-1]) \n",
    "        output_dim = output.shape[-1]\n",
    "        output = output.reshape(-1, output_dim)\n",
    "        tgt_y = tgt_batch[:,1:].contiguous().view(-1)\n",
    "        loss = criterion(output, tgt_y)\n",
    "        loss.backward()\n",
    "        optimizer.step()\n",
    "        total_train_loss += loss.item()\n",
    "        train_bar.set_postfix(loss=f\"{loss.item():.4f}\")\n",
    "\n",
    "    avg_train_loss = total_train_loss / len(train_loader)\n",
    "    atl[epoch]=avg_train_loss\n",
    "    model.eval()\n",
    "    total_val_loss = 0.0\n",
    "    val_bar = tqdm(val_loader, desc=\"🚀 Validation\",\n",
    "              leave=True, total=len(val_loader))\n",
    "    with torch.no_grad():\n",
    "        for batch in val_bar:\n",
    "            src_batch = batch['src'].to(device)\n",
    "            tgt_batch = batch['tgt'].to(device)\n",
    "            \n",
    "            output, _ = model(src_batch, tgt_batch[:, :-1]) \n",
    "            output_dim = output.shape[-1]\n",
    "            output = output.reshape(-1, output_dim)\n",
    "            tgt_y = tgt_batch[:,1:].contiguous().view(-1)\n",
    "\n",
    "            loss = criterion(output, tgt_y)\n",
    "            total_val_loss += loss.item()\n",
    "            val_bar.set_postfix(loss=f\"{loss.item():.4f}\")\n",
    "    \n",
    "    avg_val_loss = total_val_loss / len(val_loader)\n",
    "    avl[epoch]=avg_val_loss\n",
    "    print(f\"[Epoch {epoch}] Train Loss: {avg_train_loss:.4f} | Val Loss: {avg_val_loss:.4f}\")\n",
    "    if avg_val_loss < best_val_loss:\n",
    "        if best_model_path and os.path.exists(best_model_path):\n",
    "            os.remove(best_model_path)\n",
    "        best_val_loss = avg_val_loss\n",
    "        best_model_path = os.path.join(SAVE_DIR, \"best_dictbase.pt\")\n",
    "        torch.save(model.state_dict(), best_model_path)\n",
    "        print(f\"  -> New best model saved at {best_model_path}\")\n",
    "\n",
    "utils.plot_loss(atl, avl, SAVE_DIR,\"loss_dictbase\")\n"
   ]
  },
  {
   "cell_type": "code",
   "execution_count": null,
   "metadata": {},
   "outputs": [],
   "source": []
  }
 ],
 "metadata": {
  "kernelspec": {
   "display_name": "torch_env",
   "language": "python",
   "name": "python3"
  },
  "language_info": {
   "codemirror_mode": {
    "name": "ipython",
    "version": 3
   },
   "file_extension": ".py",
   "mimetype": "text/x-python",
   "name": "python",
   "nbconvert_exporter": "python",
   "pygments_lexer": "ipython3",
   "version": "3.10.16"
  }
 },
 "nbformat": 4,
 "nbformat_minor": 2
}

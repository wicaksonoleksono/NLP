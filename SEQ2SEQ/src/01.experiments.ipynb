{
 "cells": [
  {
   "cell_type": "code",
   "execution_count": 1,
   "metadata": {},
   "outputs": [
    {
     "name": "stderr",
     "output_type": "stream",
     "text": [
      "[nltk_data] Downloading package punkt to\n",
      "[nltk_data]     /home/wicaksonolxn/nltk_data...\n",
      "[nltk_data]   Package punkt is already up-to-date!\n"
     ]
    }
   ],
   "source": [
    "import os\n",
    "import torch\n",
    "import torch.nn as nn\n",
    "import torch.optim as optim\n",
    "from tqdm import tqdm\n",
    "from dataloader import get_dataloaders\n",
    "import nltk\n",
    "from nltk.translate.bleu_score import sentence_bleu, SmoothingFunction\n",
    "from transformer import Transformer,TransformerEncoder,TransformerDecoder\n",
    "import utils\n",
    "import pickle\n",
    "nltk.download('punkt')  \n",
    "device = torch.device('cuda' if torch.cuda.is_available() else 'cpu')"
   ]
  },
  {
   "cell_type": "code",
   "execution_count": 2,
   "metadata": {},
   "outputs": [
    {
     "name": "stdout",
     "output_type": "stream",
     "text": [
      "TrainData - Max 'min' sentence length: 76\n",
      "TrainData - Max 'eng' sentence length: 107\n",
      "TestData - Max 'min' sentence length: 61\n",
      "TestData - Max 'eng' sentence length: 75\n",
      "ValidData - Max 'min' sentence length: 65\n",
      "ValidData - Max 'eng' sentence length: 85\n",
      "Number of examples in train_dataset,train origin,train_raw: 799 799 799\n",
      "Number of examples in valid_dataset: 100\n",
      "Number of examples in test_dataset: 100\n",
      "Model initialized on: cuda\n"
     ]
    }
   ],
   "source": [
    "BATCH_SIZE = 32 # butuh lebih banyak update \n",
    "DATA_PATH = \"dataset/\"  \n",
    "SAVE_DIR = \"saved\"\n",
    "\n",
    "train_loader, val_loader, test_loader = get_dataloaders(\n",
    "    data_path=DATA_PATH, \n",
    "    source_lang=\"min\", \n",
    "    target_lang=\"eng\", \n",
    "    batch_size=BATCH_SIZE, \n",
    "    device=device\n",
    ")\n",
    "SRC_VOCAB_SIZE = 4000     \n",
    "TGT_VOCAB_SIZE = 4000     \n",
    "N_LAYERS = 1            \n",
    "N_HEADS = 1\n",
    "D_MODEL =  128\n",
    "FFN_HIDDEN = D_MODEL * 4\n",
    "DROPOUT = 0.3\n",
    "EPOCHS = 150\n",
    "\n",
    "encoder = TransformerEncoder(SRC_VOCAB_SIZE,D_MODEL,N_LAYERS,N_HEADS,FFN_HIDDEN,DROPOUT,device)\n",
    "decoder = TransformerDecoder(TGT_VOCAB_SIZE,D_MODEL,N_LAYERS,N_HEADS,FFN_HIDDEN,DROPOUT,device)\n",
    "model = Transformer(encoder,decoder,device,utils.PAD_TOKEN).to(device)\n",
    "optimizer = optim.Adam(model.parameters(), lr=5e-4)\n",
    "criterion = nn.CrossEntropyLoss(ignore_index=utils.PAD_TOKEN) \n",
    "print(\"Model initialized on:\", device)\n"
   ]
  },
  {
   "cell_type": "code",
   "execution_count": 3,
   "metadata": {},
   "outputs": [
    {
     "name": "stdout",
     "output_type": "stream",
     "text": [
      "torch.Size([32, 109]) torch.Size([32, 109])\n",
      "Padding: 0\n",
      "Start of Sequence: 1\n",
      "End of Sequence: 2\n",
      "Unknown: 3\n"
     ]
    }
   ],
   "source": [
    "tokens = {\n",
    "    \"Padding\": utils.PAD_TOKEN,\n",
    "    \"Start of Sequence\": utils.SOS_TOKEN,\n",
    "    \"End of Sequence\": utils.EOS_TOKEN,\n",
    "    \"Unknown\": utils.UNK_TOKEN\n",
    "}\n",
    "for i, batch in enumerate(train_loader):\n",
    "    if i < 8:\n",
    "        src = batch[\"src\"]\n",
    "        tgt = batch[\"tgt\"]\n",
    "        ss,fss=src[0,:],src.shape\n",
    "        st,fst=tgt[0,:],tgt.shape\n",
    "        print(fss,fst)\n",
    "    for name, token in tokens.items():\n",
    "        print(f\"{name}: {token}\")\n",
    "    else:\n",
    "        break"
   ]
  },
  {
   "cell_type": "markdown",
   "metadata": {},
   "source": [
    "testing input , is it correct"
   ]
  },
  {
   "cell_type": "code",
   "execution_count": 4,
   "metadata": {},
   "outputs": [
    {
     "name": "stdout",
     "output_type": "stream",
     "text": [
      "torch.Size([32, 109])\n",
      "torch.Size([32, 109])\n",
      "torch.Size([32, 109])\n",
      "torch.Size([32, 109])\n",
      "torch.Size([32, 109])\n",
      "torch.Size([32, 109])\n",
      "torch.Size([32, 109])\n"
     ]
    }
   ],
   "source": [
    "data_iter = iter(train_loader)\n",
    "for i in range(7):\n",
    "    batch = next(data_iter)\n",
    "    print(batch[\"src\"].shape)\n"
   ]
  },
  {
   "cell_type": "code",
   "execution_count": 5,
   "metadata": {},
   "outputs": [
    {
     "name": "stdout",
     "output_type": "stream",
     "text": [
      "tensor([439,  60, 136,  ...,   0,   0,   0], device='cuda:0')\n"
     ]
    }
   ],
   "source": [
    "for i,batch in enumerate(train_loader):\n",
    "    if i <1:\n",
    "        src_batch = batch['src'].to(device)\n",
    "        tgt_batch = batch['tgt'].to(device)\n",
    "        output, _ = model(src_batch, tgt_batch[:, :-1]) \n",
    "        output_dim = output.shape[-1]\n",
    "        output = output.reshape(-1, output_dim)\n",
    "        tgt_y = tgt_batch[:,1:].contiguous().view(-1)\n",
    "        print(tgt_y)"
   ]
  },
  {
   "cell_type": "code",
   "execution_count": 6,
   "metadata": {},
   "outputs": [
    {
     "name": "stdout",
     "output_type": "stream",
     "text": [
      "Epoch 1/150\n"
     ]
    },
    {
     "name": "stderr",
     "output_type": "stream",
     "text": [
      "🚀 Training: 100%|██████████| 25/25 [00:00<00:00, 52.90it/s, loss=7.0573]\n",
      "🚀 Validation: 100%|██████████| 4/4 [00:00<00:00, 162.14it/s, loss=6.7263]\n"
     ]
    },
    {
     "name": "stdout",
     "output_type": "stream",
     "text": [
      "[Epoch 1] Train Loss: 7.6807 | Val Loss: 6.8175\n",
      "  -> New best model saved at saved/best_dictbase.pt\n",
      "Epoch 2/150\n"
     ]
    },
    {
     "name": "stderr",
     "output_type": "stream",
     "text": [
      "🚀 Training: 100%|██████████| 25/25 [00:00<00:00, 58.87it/s, loss=6.2890]\n",
      "🚀 Validation: 100%|██████████| 4/4 [00:00<00:00, 162.84it/s, loss=6.3259]\n"
     ]
    },
    {
     "name": "stdout",
     "output_type": "stream",
     "text": [
      "[Epoch 2] Train Loss: 6.5751 | Val Loss: 6.4160\n",
      "  -> New best model saved at saved/best_dictbase.pt\n",
      "Epoch 3/150\n"
     ]
    },
    {
     "name": "stderr",
     "output_type": "stream",
     "text": [
      "🚀 Training: 100%|██████████| 25/25 [00:00<00:00, 58.63it/s, loss=6.2231]\n",
      "🚀 Validation: 100%|██████████| 4/4 [00:00<00:00, 180.49it/s, loss=6.3466]\n"
     ]
    },
    {
     "name": "stdout",
     "output_type": "stream",
     "text": [
      "[Epoch 3] Train Loss: 6.2722 | Val Loss: 6.4304\n",
      "Epoch 4/150\n"
     ]
    },
    {
     "name": "stderr",
     "output_type": "stream",
     "text": [
      "🚀 Training: 100%|██████████| 25/25 [00:00<00:00, 60.77it/s, loss=6.0807]\n",
      "🚀 Validation: 100%|██████████| 4/4 [00:00<00:00, 207.77it/s, loss=6.3454]\n"
     ]
    },
    {
     "name": "stdout",
     "output_type": "stream",
     "text": [
      "[Epoch 4] Train Loss: 6.2074 | Val Loss: 6.4052\n",
      "  -> New best model saved at saved/best_dictbase.pt\n",
      "Epoch 5/150\n"
     ]
    },
    {
     "name": "stderr",
     "output_type": "stream",
     "text": [
      "🚀 Training: 100%|██████████| 25/25 [00:00<00:00, 59.51it/s, loss=6.0702]\n",
      "🚀 Validation: 100%|██████████| 4/4 [00:00<00:00, 178.02it/s, loss=6.3370]\n"
     ]
    },
    {
     "name": "stdout",
     "output_type": "stream",
     "text": [
      "[Epoch 5] Train Loss: 6.1556 | Val Loss: 6.3846\n",
      "  -> New best model saved at saved/best_dictbase.pt\n",
      "Epoch 6/150\n"
     ]
    },
    {
     "name": "stderr",
     "output_type": "stream",
     "text": [
      "🚀 Training: 100%|██████████| 25/25 [00:00<00:00, 59.41it/s, loss=5.9523]\n",
      "🚀 Validation: 100%|██████████| 4/4 [00:00<00:00, 182.42it/s, loss=6.3067]\n"
     ]
    },
    {
     "name": "stdout",
     "output_type": "stream",
     "text": [
      "[Epoch 6] Train Loss: 6.0891 | Val Loss: 6.3481\n",
      "  -> New best model saved at saved/best_dictbase.pt\n",
      "Epoch 7/150\n"
     ]
    },
    {
     "name": "stderr",
     "output_type": "stream",
     "text": [
      "🚀 Training: 100%|██████████| 25/25 [00:00<00:00, 59.06it/s, loss=5.9637]\n",
      "🚀 Validation: 100%|██████████| 4/4 [00:00<00:00, 192.06it/s, loss=6.2578]\n"
     ]
    },
    {
     "name": "stdout",
     "output_type": "stream",
     "text": [
      "[Epoch 7] Train Loss: 6.0076 | Val Loss: 6.3099\n",
      "  -> New best model saved at saved/best_dictbase.pt\n",
      "Epoch 8/150\n"
     ]
    },
    {
     "name": "stderr",
     "output_type": "stream",
     "text": [
      "🚀 Training: 100%|██████████| 25/25 [00:00<00:00, 59.56it/s, loss=5.9970]\n",
      "🚀 Validation: 100%|██████████| 4/4 [00:00<00:00, 183.74it/s, loss=6.2518]\n"
     ]
    },
    {
     "name": "stdout",
     "output_type": "stream",
     "text": [
      "[Epoch 8] Train Loss: 5.9323 | Val Loss: 6.2665\n",
      "  -> New best model saved at saved/best_dictbase.pt\n",
      "Epoch 9/150\n"
     ]
    },
    {
     "name": "stderr",
     "output_type": "stream",
     "text": [
      "🚀 Training: 100%|██████████| 25/25 [00:00<00:00, 59.54it/s, loss=5.8525]\n",
      "🚀 Validation: 100%|██████████| 4/4 [00:00<00:00, 207.18it/s, loss=6.2623]\n"
     ]
    },
    {
     "name": "stdout",
     "output_type": "stream",
     "text": [
      "[Epoch 9] Train Loss: 5.8541 | Val Loss: 6.2591\n",
      "  -> New best model saved at saved/best_dictbase.pt\n",
      "Epoch 10/150\n"
     ]
    },
    {
     "name": "stderr",
     "output_type": "stream",
     "text": [
      "🚀 Training: 100%|██████████| 25/25 [00:00<00:00, 60.19it/s, loss=5.7457]\n",
      "🚀 Validation: 100%|██████████| 4/4 [00:00<00:00, 184.62it/s, loss=6.2533]\n"
     ]
    },
    {
     "name": "stdout",
     "output_type": "stream",
     "text": [
      "[Epoch 10] Train Loss: 5.7705 | Val Loss: 6.2193\n",
      "  -> New best model saved at saved/best_dictbase.pt\n",
      "Epoch 11/150\n"
     ]
    },
    {
     "name": "stderr",
     "output_type": "stream",
     "text": [
      "🚀 Training: 100%|██████████| 25/25 [00:00<00:00, 59.34it/s, loss=5.8142]\n",
      "🚀 Validation: 100%|██████████| 4/4 [00:00<00:00, 179.03it/s, loss=6.2493]\n"
     ]
    },
    {
     "name": "stdout",
     "output_type": "stream",
     "text": [
      "[Epoch 11] Train Loss: 5.6884 | Val Loss: 6.1972\n",
      "  -> New best model saved at saved/best_dictbase.pt\n",
      "Epoch 12/150\n"
     ]
    },
    {
     "name": "stderr",
     "output_type": "stream",
     "text": [
      "🚀 Training: 100%|██████████| 25/25 [00:00<00:00, 59.39it/s, loss=5.6896]\n",
      "🚀 Validation: 100%|██████████| 4/4 [00:00<00:00, 190.66it/s, loss=6.2573]\n"
     ]
    },
    {
     "name": "stdout",
     "output_type": "stream",
     "text": [
      "[Epoch 12] Train Loss: 5.6077 | Val Loss: 6.1884\n",
      "  -> New best model saved at saved/best_dictbase.pt\n",
      "Epoch 13/150\n"
     ]
    },
    {
     "name": "stderr",
     "output_type": "stream",
     "text": [
      "🚀 Training: 100%|██████████| 25/25 [00:00<00:00, 59.70it/s, loss=5.5507]\n",
      "🚀 Validation: 100%|██████████| 4/4 [00:00<00:00, 137.22it/s, loss=6.2563]\n"
     ]
    },
    {
     "name": "stdout",
     "output_type": "stream",
     "text": [
      "[Epoch 13] Train Loss: 5.5209 | Val Loss: 6.1859\n",
      "  -> New best model saved at saved/best_dictbase.pt\n",
      "Epoch 14/150\n"
     ]
    },
    {
     "name": "stderr",
     "output_type": "stream",
     "text": [
      "🚀 Training: 100%|██████████| 25/25 [00:00<00:00, 60.40it/s, loss=5.4340]\n",
      "🚀 Validation: 100%|██████████| 4/4 [00:00<00:00, 187.90it/s, loss=6.2288]\n"
     ]
    },
    {
     "name": "stdout",
     "output_type": "stream",
     "text": [
      "[Epoch 14] Train Loss: 5.4467 | Val Loss: 6.1508\n",
      "  -> New best model saved at saved/best_dictbase.pt\n",
      "Epoch 15/150\n"
     ]
    },
    {
     "name": "stderr",
     "output_type": "stream",
     "text": [
      "🚀 Training: 100%|██████████| 25/25 [00:00<00:00, 58.74it/s, loss=5.2437]\n",
      "🚀 Validation: 100%|██████████| 4/4 [00:00<00:00, 197.43it/s, loss=6.2084]\n"
     ]
    },
    {
     "name": "stdout",
     "output_type": "stream",
     "text": [
      "[Epoch 15] Train Loss: 5.3784 | Val Loss: 6.1156\n",
      "  -> New best model saved at saved/best_dictbase.pt\n",
      "Epoch 16/150\n"
     ]
    },
    {
     "name": "stderr",
     "output_type": "stream",
     "text": [
      "🚀 Training: 100%|██████████| 25/25 [00:00<00:00, 58.70it/s, loss=5.0842]\n",
      "🚀 Validation: 100%|██████████| 4/4 [00:00<00:00, 168.28it/s, loss=6.2262]\n"
     ]
    },
    {
     "name": "stdout",
     "output_type": "stream",
     "text": [
      "[Epoch 16] Train Loss: 5.3071 | Val Loss: 6.1298\n",
      "Epoch 17/150\n"
     ]
    },
    {
     "name": "stderr",
     "output_type": "stream",
     "text": [
      "🚀 Training: 100%|██████████| 25/25 [00:00<00:00, 58.26it/s, loss=5.3461]\n",
      "🚀 Validation: 100%|██████████| 4/4 [00:00<00:00, 169.59it/s, loss=6.1898]\n"
     ]
    },
    {
     "name": "stdout",
     "output_type": "stream",
     "text": [
      "[Epoch 17] Train Loss: 5.2410 | Val Loss: 6.0932\n",
      "  -> New best model saved at saved/best_dictbase.pt\n",
      "Epoch 18/150\n"
     ]
    },
    {
     "name": "stderr",
     "output_type": "stream",
     "text": [
      "🚀 Training: 100%|██████████| 25/25 [00:00<00:00, 57.69it/s, loss=5.2963]\n",
      "🚀 Validation: 100%|██████████| 4/4 [00:00<00:00, 180.73it/s, loss=6.2004]\n"
     ]
    },
    {
     "name": "stdout",
     "output_type": "stream",
     "text": [
      "[Epoch 18] Train Loss: 5.1588 | Val Loss: 6.0924\n",
      "  -> New best model saved at saved/best_dictbase.pt\n",
      "Epoch 19/150\n"
     ]
    },
    {
     "name": "stderr",
     "output_type": "stream",
     "text": [
      "🚀 Training: 100%|██████████| 25/25 [00:00<00:00, 58.03it/s, loss=4.9875]\n",
      "🚀 Validation: 100%|██████████| 4/4 [00:00<00:00, 175.41it/s, loss=6.2052]\n"
     ]
    },
    {
     "name": "stdout",
     "output_type": "stream",
     "text": [
      "[Epoch 19] Train Loss: 5.0958 | Val Loss: 6.0943\n",
      "Epoch 20/150\n"
     ]
    },
    {
     "name": "stderr",
     "output_type": "stream",
     "text": [
      "🚀 Training: 100%|██████████| 25/25 [00:00<00:00, 57.49it/s, loss=4.9863]\n",
      "🚀 Validation: 100%|██████████| 4/4 [00:00<00:00, 163.96it/s, loss=6.1997]\n"
     ]
    },
    {
     "name": "stdout",
     "output_type": "stream",
     "text": [
      "[Epoch 20] Train Loss: 5.0381 | Val Loss: 6.0806\n",
      "  -> New best model saved at saved/best_dictbase.pt\n",
      "Epoch 21/150\n"
     ]
    },
    {
     "name": "stderr",
     "output_type": "stream",
     "text": [
      "🚀 Training: 100%|██████████| 25/25 [00:00<00:00, 58.74it/s, loss=4.8602]\n",
      "🚀 Validation: 100%|██████████| 4/4 [00:00<00:00, 185.45it/s, loss=6.2006]\n"
     ]
    },
    {
     "name": "stdout",
     "output_type": "stream",
     "text": [
      "[Epoch 21] Train Loss: 4.9679 | Val Loss: 6.0836\n",
      "Epoch 22/150\n"
     ]
    },
    {
     "name": "stderr",
     "output_type": "stream",
     "text": [
      "🚀 Training: 100%|██████████| 25/25 [00:00<00:00, 57.29it/s, loss=4.9020]\n",
      "🚀 Validation: 100%|██████████| 4/4 [00:00<00:00, 160.80it/s, loss=6.1956]\n"
     ]
    },
    {
     "name": "stdout",
     "output_type": "stream",
     "text": [
      "[Epoch 22] Train Loss: 4.9160 | Val Loss: 6.0691\n",
      "  -> New best model saved at saved/best_dictbase.pt\n",
      "Epoch 23/150\n"
     ]
    },
    {
     "name": "stderr",
     "output_type": "stream",
     "text": [
      "🚀 Training: 100%|██████████| 25/25 [00:00<00:00, 58.44it/s, loss=4.8489]\n",
      "🚀 Validation: 100%|██████████| 4/4 [00:00<00:00, 174.79it/s, loss=6.1933]\n"
     ]
    },
    {
     "name": "stdout",
     "output_type": "stream",
     "text": [
      "[Epoch 23] Train Loss: 4.8500 | Val Loss: 6.0642\n",
      "  -> New best model saved at saved/best_dictbase.pt\n",
      "Epoch 24/150\n"
     ]
    },
    {
     "name": "stderr",
     "output_type": "stream",
     "text": [
      "🚀 Training: 100%|██████████| 25/25 [00:00<00:00, 57.61it/s, loss=4.6788]\n",
      "🚀 Validation: 100%|██████████| 4/4 [00:00<00:00, 174.87it/s, loss=6.1789]\n"
     ]
    },
    {
     "name": "stdout",
     "output_type": "stream",
     "text": [
      "[Epoch 24] Train Loss: 4.7923 | Val Loss: 6.0703\n",
      "Epoch 25/150\n"
     ]
    },
    {
     "name": "stderr",
     "output_type": "stream",
     "text": [
      "🚀 Training: 100%|██████████| 25/25 [00:00<00:00, 57.23it/s, loss=4.7863]\n",
      "🚀 Validation: 100%|██████████| 4/4 [00:00<00:00, 176.73it/s, loss=6.1631]\n"
     ]
    },
    {
     "name": "stdout",
     "output_type": "stream",
     "text": [
      "[Epoch 25] Train Loss: 4.7451 | Val Loss: 6.0597\n",
      "  -> New best model saved at saved/best_dictbase.pt\n",
      "Epoch 26/150\n"
     ]
    },
    {
     "name": "stderr",
     "output_type": "stream",
     "text": [
      "🚀 Training: 100%|██████████| 25/25 [00:00<00:00, 58.42it/s, loss=4.5639]\n",
      "🚀 Validation: 100%|██████████| 4/4 [00:00<00:00, 164.38it/s, loss=6.1839]\n"
     ]
    },
    {
     "name": "stdout",
     "output_type": "stream",
     "text": [
      "[Epoch 26] Train Loss: 4.6879 | Val Loss: 6.0610\n",
      "Epoch 27/150\n"
     ]
    },
    {
     "name": "stderr",
     "output_type": "stream",
     "text": [
      "🚀 Training: 100%|██████████| 25/25 [00:00<00:00, 57.36it/s, loss=4.6149]\n",
      "🚀 Validation: 100%|██████████| 4/4 [00:00<00:00, 134.50it/s, loss=6.1676]\n"
     ]
    },
    {
     "name": "stdout",
     "output_type": "stream",
     "text": [
      "[Epoch 27] Train Loss: 4.6357 | Val Loss: 6.0656\n",
      "Epoch 28/150\n"
     ]
    },
    {
     "name": "stderr",
     "output_type": "stream",
     "text": [
      "🚀 Training: 100%|██████████| 25/25 [00:00<00:00, 57.72it/s, loss=4.5335]\n",
      "🚀 Validation: 100%|██████████| 4/4 [00:00<00:00, 167.22it/s, loss=6.1820]\n"
     ]
    },
    {
     "name": "stdout",
     "output_type": "stream",
     "text": [
      "[Epoch 28] Train Loss: 4.5879 | Val Loss: 6.0757\n",
      "Epoch 29/150\n"
     ]
    },
    {
     "name": "stderr",
     "output_type": "stream",
     "text": [
      "🚀 Training: 100%|██████████| 25/25 [00:00<00:00, 57.28it/s, loss=4.4945]\n",
      "🚀 Validation: 100%|██████████| 4/4 [00:00<00:00, 180.16it/s, loss=6.2198]\n"
     ]
    },
    {
     "name": "stdout",
     "output_type": "stream",
     "text": [
      "[Epoch 29] Train Loss: 4.5401 | Val Loss: 6.1182\n",
      "Epoch 30/150\n"
     ]
    },
    {
     "name": "stderr",
     "output_type": "stream",
     "text": [
      "🚀 Training: 100%|██████████| 25/25 [00:00<00:00, 57.36it/s, loss=4.4768]\n",
      "🚀 Validation: 100%|██████████| 4/4 [00:00<00:00, 175.84it/s, loss=6.1940]\n"
     ]
    },
    {
     "name": "stdout",
     "output_type": "stream",
     "text": [
      "[Epoch 30] Train Loss: 4.4882 | Val Loss: 6.0964\n",
      "Epoch 31/150\n"
     ]
    },
    {
     "name": "stderr",
     "output_type": "stream",
     "text": [
      "🚀 Training: 100%|██████████| 25/25 [00:00<00:00, 59.20it/s, loss=4.3926]\n",
      "🚀 Validation: 100%|██████████| 4/4 [00:00<00:00, 185.20it/s, loss=6.2209]\n"
     ]
    },
    {
     "name": "stdout",
     "output_type": "stream",
     "text": [
      "[Epoch 31] Train Loss: 4.4401 | Val Loss: 6.1155\n",
      "Epoch 32/150\n"
     ]
    },
    {
     "name": "stderr",
     "output_type": "stream",
     "text": [
      "🚀 Training: 100%|██████████| 25/25 [00:00<00:00, 59.04it/s, loss=4.4149]\n",
      "🚀 Validation: 100%|██████████| 4/4 [00:00<00:00, 191.28it/s, loss=6.2241]\n"
     ]
    },
    {
     "name": "stdout",
     "output_type": "stream",
     "text": [
      "[Epoch 32] Train Loss: 4.3982 | Val Loss: 6.1317\n",
      "Epoch 33/150\n"
     ]
    },
    {
     "name": "stderr",
     "output_type": "stream",
     "text": [
      "🚀 Training: 100%|██████████| 25/25 [00:00<00:00, 57.69it/s, loss=4.4082]\n",
      "🚀 Validation: 100%|██████████| 4/4 [00:00<00:00, 182.00it/s, loss=6.2545]\n"
     ]
    },
    {
     "name": "stdout",
     "output_type": "stream",
     "text": [
      "[Epoch 33] Train Loss: 4.3569 | Val Loss: 6.1655\n",
      "Epoch 34/150\n"
     ]
    },
    {
     "name": "stderr",
     "output_type": "stream",
     "text": [
      "🚀 Training: 100%|██████████| 25/25 [00:00<00:00, 58.03it/s, loss=4.3694]\n",
      "🚀 Validation: 100%|██████████| 4/4 [00:00<00:00, 172.72it/s, loss=6.2622]\n"
     ]
    },
    {
     "name": "stdout",
     "output_type": "stream",
     "text": [
      "[Epoch 34] Train Loss: 4.3165 | Val Loss: 6.1598\n",
      "Epoch 35/150\n"
     ]
    },
    {
     "name": "stderr",
     "output_type": "stream",
     "text": [
      "🚀 Training: 100%|██████████| 25/25 [00:00<00:00, 58.22it/s, loss=4.3706]\n",
      "🚀 Validation: 100%|██████████| 4/4 [00:00<00:00, 176.96it/s, loss=6.2581]\n"
     ]
    },
    {
     "name": "stdout",
     "output_type": "stream",
     "text": [
      "[Epoch 35] Train Loss: 4.2705 | Val Loss: 6.1698\n",
      "Epoch 36/150\n"
     ]
    },
    {
     "name": "stderr",
     "output_type": "stream",
     "text": [
      "🚀 Training: 100%|██████████| 25/25 [00:00<00:00, 57.80it/s, loss=4.2629]\n",
      "🚀 Validation: 100%|██████████| 4/4 [00:00<00:00, 178.63it/s, loss=6.2875]\n"
     ]
    },
    {
     "name": "stdout",
     "output_type": "stream",
     "text": [
      "[Epoch 36] Train Loss: 4.2291 | Val Loss: 6.2034\n",
      "Epoch 37/150\n"
     ]
    },
    {
     "name": "stderr",
     "output_type": "stream",
     "text": [
      "🚀 Training: 100%|██████████| 25/25 [00:00<00:00, 58.81it/s, loss=4.3044]\n",
      "🚀 Validation: 100%|██████████| 4/4 [00:00<00:00, 181.28it/s, loss=6.2849]\n"
     ]
    },
    {
     "name": "stdout",
     "output_type": "stream",
     "text": [
      "[Epoch 37] Train Loss: 4.1934 | Val Loss: 6.2071\n",
      "Epoch 38/150\n"
     ]
    },
    {
     "name": "stderr",
     "output_type": "stream",
     "text": [
      "🚀 Training: 100%|██████████| 25/25 [00:00<00:00, 57.25it/s, loss=4.1414]\n",
      "🚀 Validation: 100%|██████████| 4/4 [00:00<00:00, 177.15it/s, loss=6.3006]\n"
     ]
    },
    {
     "name": "stdout",
     "output_type": "stream",
     "text": [
      "[Epoch 38] Train Loss: 4.1535 | Val Loss: 6.2277\n",
      "Epoch 39/150\n"
     ]
    },
    {
     "name": "stderr",
     "output_type": "stream",
     "text": [
      "🚀 Training: 100%|██████████| 25/25 [00:00<00:00, 57.71it/s, loss=4.1143]\n",
      "🚀 Validation: 100%|██████████| 4/4 [00:00<00:00, 187.99it/s, loss=6.3080]\n"
     ]
    },
    {
     "name": "stdout",
     "output_type": "stream",
     "text": [
      "[Epoch 39] Train Loss: 4.1128 | Val Loss: 6.2399\n",
      "Epoch 40/150\n"
     ]
    },
    {
     "name": "stderr",
     "output_type": "stream",
     "text": [
      "🚀 Training: 100%|██████████| 25/25 [00:00<00:00, 58.67it/s, loss=4.1567]\n",
      "🚀 Validation: 100%|██████████| 4/4 [00:00<00:00, 184.51it/s, loss=6.3164]\n"
     ]
    },
    {
     "name": "stdout",
     "output_type": "stream",
     "text": [
      "[Epoch 40] Train Loss: 4.0897 | Val Loss: 6.2680\n",
      "Epoch 41/150\n"
     ]
    },
    {
     "name": "stderr",
     "output_type": "stream",
     "text": [
      "🚀 Training: 100%|██████████| 25/25 [00:00<00:00, 57.85it/s, loss=4.1002]\n",
      "🚀 Validation: 100%|██████████| 4/4 [00:00<00:00, 184.35it/s, loss=6.3096]\n"
     ]
    },
    {
     "name": "stdout",
     "output_type": "stream",
     "text": [
      "[Epoch 41] Train Loss: 4.0456 | Val Loss: 6.2765\n",
      "Epoch 42/150\n"
     ]
    },
    {
     "name": "stderr",
     "output_type": "stream",
     "text": [
      "🚀 Training: 100%|██████████| 25/25 [00:00<00:00, 58.71it/s, loss=4.0118]\n",
      "🚀 Validation: 100%|██████████| 4/4 [00:00<00:00, 177.00it/s, loss=6.3565]\n"
     ]
    },
    {
     "name": "stdout",
     "output_type": "stream",
     "text": [
      "[Epoch 42] Train Loss: 4.0290 | Val Loss: 6.3370\n",
      "Epoch 43/150\n"
     ]
    },
    {
     "name": "stderr",
     "output_type": "stream",
     "text": [
      "🚀 Training: 100%|██████████| 25/25 [00:00<00:00, 58.19it/s, loss=4.0690]\n",
      "🚀 Validation: 100%|██████████| 4/4 [00:00<00:00, 121.13it/s, loss=6.3365]\n"
     ]
    },
    {
     "name": "stdout",
     "output_type": "stream",
     "text": [
      "[Epoch 43] Train Loss: 3.9846 | Val Loss: 6.3230\n",
      "Epoch 44/150\n"
     ]
    },
    {
     "name": "stderr",
     "output_type": "stream",
     "text": [
      "🚀 Training: 100%|██████████| 25/25 [00:00<00:00, 58.99it/s, loss=3.8857]\n",
      "🚀 Validation: 100%|██████████| 4/4 [00:00<00:00, 190.24it/s, loss=6.3501]\n"
     ]
    },
    {
     "name": "stdout",
     "output_type": "stream",
     "text": [
      "[Epoch 44] Train Loss: 3.9680 | Val Loss: 6.3294\n",
      "Epoch 45/150\n"
     ]
    },
    {
     "name": "stderr",
     "output_type": "stream",
     "text": [
      "🚀 Training: 100%|██████████| 25/25 [00:00<00:00, 59.18it/s, loss=3.9268]\n",
      "🚀 Validation: 100%|██████████| 4/4 [00:00<00:00, 188.83it/s, loss=6.3811]\n"
     ]
    },
    {
     "name": "stdout",
     "output_type": "stream",
     "text": [
      "[Epoch 45] Train Loss: 3.9241 | Val Loss: 6.3798\n",
      "Epoch 46/150\n"
     ]
    },
    {
     "name": "stderr",
     "output_type": "stream",
     "text": [
      "🚀 Training: 100%|██████████| 25/25 [00:00<00:00, 57.93it/s, loss=3.8746]\n",
      "🚀 Validation: 100%|██████████| 4/4 [00:00<00:00, 170.93it/s, loss=6.4124]\n"
     ]
    },
    {
     "name": "stdout",
     "output_type": "stream",
     "text": [
      "[Epoch 46] Train Loss: 3.9030 | Val Loss: 6.4061\n",
      "Epoch 47/150\n"
     ]
    },
    {
     "name": "stderr",
     "output_type": "stream",
     "text": [
      "🚀 Training: 100%|██████████| 25/25 [00:00<00:00, 57.53it/s, loss=3.8132]\n",
      "🚀 Validation: 100%|██████████| 4/4 [00:00<00:00, 147.94it/s, loss=6.4222]\n"
     ]
    },
    {
     "name": "stdout",
     "output_type": "stream",
     "text": [
      "[Epoch 47] Train Loss: 3.8703 | Val Loss: 6.4190\n",
      "Epoch 48/150\n"
     ]
    },
    {
     "name": "stderr",
     "output_type": "stream",
     "text": [
      "🚀 Training: 100%|██████████| 25/25 [00:00<00:00, 55.96it/s, loss=3.8754]\n",
      "🚀 Validation: 100%|██████████| 4/4 [00:00<00:00, 107.71it/s, loss=6.4431]\n"
     ]
    },
    {
     "name": "stdout",
     "output_type": "stream",
     "text": [
      "[Epoch 48] Train Loss: 3.8468 | Val Loss: 6.4425\n",
      "Epoch 49/150\n"
     ]
    },
    {
     "name": "stderr",
     "output_type": "stream",
     "text": [
      "🚀 Training: 100%|██████████| 25/25 [00:00<00:00, 56.71it/s, loss=3.9752]\n",
      "🚀 Validation: 100%|██████████| 4/4 [00:00<00:00, 191.31it/s, loss=6.4128]\n"
     ]
    },
    {
     "name": "stdout",
     "output_type": "stream",
     "text": [
      "[Epoch 49] Train Loss: 3.8113 | Val Loss: 6.4412\n",
      "Epoch 50/150\n"
     ]
    },
    {
     "name": "stderr",
     "output_type": "stream",
     "text": [
      "🚀 Training: 100%|██████████| 25/25 [00:00<00:00, 59.26it/s, loss=3.7278]\n",
      "🚀 Validation: 100%|██████████| 4/4 [00:00<00:00, 174.19it/s, loss=6.4281]\n"
     ]
    },
    {
     "name": "stdout",
     "output_type": "stream",
     "text": [
      "[Epoch 50] Train Loss: 3.8008 | Val Loss: 6.4707\n",
      "Epoch 51/150\n"
     ]
    },
    {
     "name": "stderr",
     "output_type": "stream",
     "text": [
      "🚀 Training: 100%|██████████| 25/25 [00:00<00:00, 57.01it/s, loss=3.8250]\n",
      "🚀 Validation: 100%|██████████| 4/4 [00:00<00:00, 184.44it/s, loss=6.4577]\n"
     ]
    },
    {
     "name": "stdout",
     "output_type": "stream",
     "text": [
      "[Epoch 51] Train Loss: 3.7765 | Val Loss: 6.4929\n",
      "Epoch 52/150\n"
     ]
    },
    {
     "name": "stderr",
     "output_type": "stream",
     "text": [
      "🚀 Training: 100%|██████████| 25/25 [00:00<00:00, 59.09it/s, loss=3.7850]\n",
      "🚀 Validation: 100%|██████████| 4/4 [00:00<00:00, 186.26it/s, loss=6.4436]\n"
     ]
    },
    {
     "name": "stdout",
     "output_type": "stream",
     "text": [
      "[Epoch 52] Train Loss: 3.7551 | Val Loss: 6.5006\n",
      "Epoch 53/150\n"
     ]
    },
    {
     "name": "stderr",
     "output_type": "stream",
     "text": [
      "🚀 Training: 100%|██████████| 25/25 [00:00<00:00, 56.62it/s, loss=3.7526]\n",
      "🚀 Validation: 100%|██████████| 4/4 [00:00<00:00, 170.76it/s, loss=6.4722]\n"
     ]
    },
    {
     "name": "stdout",
     "output_type": "stream",
     "text": [
      "[Epoch 53] Train Loss: 3.7226 | Val Loss: 6.5253\n",
      "Epoch 54/150\n"
     ]
    },
    {
     "name": "stderr",
     "output_type": "stream",
     "text": [
      "🚀 Training: 100%|██████████| 25/25 [00:00<00:00, 58.52it/s, loss=3.6520]\n",
      "🚀 Validation: 100%|██████████| 4/4 [00:00<00:00, 174.08it/s, loss=6.5016]\n"
     ]
    },
    {
     "name": "stdout",
     "output_type": "stream",
     "text": [
      "[Epoch 54] Train Loss: 3.7005 | Val Loss: 6.5539\n",
      "Epoch 55/150\n"
     ]
    },
    {
     "name": "stderr",
     "output_type": "stream",
     "text": [
      "🚀 Training: 100%|██████████| 25/25 [00:00<00:00, 56.07it/s, loss=3.6534]\n",
      "🚀 Validation: 100%|██████████| 4/4 [00:00<00:00, 177.89it/s, loss=6.5314]\n"
     ]
    },
    {
     "name": "stdout",
     "output_type": "stream",
     "text": [
      "[Epoch 55] Train Loss: 3.6902 | Val Loss: 6.5723\n",
      "Epoch 56/150\n"
     ]
    },
    {
     "name": "stderr",
     "output_type": "stream",
     "text": [
      "🚀 Training: 100%|██████████| 25/25 [00:00<00:00, 57.68it/s, loss=3.6926]\n",
      "🚀 Validation: 100%|██████████| 4/4 [00:00<00:00, 169.42it/s, loss=6.5021]\n"
     ]
    },
    {
     "name": "stdout",
     "output_type": "stream",
     "text": [
      "[Epoch 56] Train Loss: 3.6607 | Val Loss: 6.5709\n",
      "Epoch 57/150\n"
     ]
    },
    {
     "name": "stderr",
     "output_type": "stream",
     "text": [
      "🚀 Training: 100%|██████████| 25/25 [00:00<00:00, 56.26it/s, loss=3.6877]\n",
      "🚀 Validation: 100%|██████████| 4/4 [00:00<00:00, 156.90it/s, loss=6.5158]\n"
     ]
    },
    {
     "name": "stdout",
     "output_type": "stream",
     "text": [
      "[Epoch 57] Train Loss: 3.6404 | Val Loss: 6.5790\n",
      "Epoch 58/150\n"
     ]
    },
    {
     "name": "stderr",
     "output_type": "stream",
     "text": [
      "🚀 Training: 100%|██████████| 25/25 [00:00<00:00, 57.39it/s, loss=3.7105]\n",
      "🚀 Validation: 100%|██████████| 4/4 [00:00<00:00, 176.05it/s, loss=6.5257]\n"
     ]
    },
    {
     "name": "stdout",
     "output_type": "stream",
     "text": [
      "[Epoch 58] Train Loss: 3.6288 | Val Loss: 6.6061\n",
      "Epoch 59/150\n"
     ]
    },
    {
     "name": "stderr",
     "output_type": "stream",
     "text": [
      "🚀 Training: 100%|██████████| 25/25 [00:00<00:00, 56.35it/s, loss=3.6294]\n",
      "🚀 Validation: 100%|██████████| 4/4 [00:00<00:00, 160.46it/s, loss=6.5478]\n"
     ]
    },
    {
     "name": "stdout",
     "output_type": "stream",
     "text": [
      "[Epoch 59] Train Loss: 3.5972 | Val Loss: 6.6362\n",
      "Epoch 60/150\n"
     ]
    },
    {
     "name": "stderr",
     "output_type": "stream",
     "text": [
      "🚀 Training: 100%|██████████| 25/25 [00:00<00:00, 58.25it/s, loss=3.6548]\n",
      "🚀 Validation: 100%|██████████| 4/4 [00:00<00:00, 171.71it/s, loss=6.5893]\n"
     ]
    },
    {
     "name": "stdout",
     "output_type": "stream",
     "text": [
      "[Epoch 60] Train Loss: 3.5835 | Val Loss: 6.6555\n",
      "Epoch 61/150\n"
     ]
    },
    {
     "name": "stderr",
     "output_type": "stream",
     "text": [
      "🚀 Training: 100%|██████████| 25/25 [00:00<00:00, 58.41it/s, loss=3.6239]\n",
      "🚀 Validation: 100%|██████████| 4/4 [00:00<00:00, 181.49it/s, loss=6.5691]\n"
     ]
    },
    {
     "name": "stdout",
     "output_type": "stream",
     "text": [
      "[Epoch 61] Train Loss: 3.5596 | Val Loss: 6.6644\n",
      "Epoch 62/150\n"
     ]
    },
    {
     "name": "stderr",
     "output_type": "stream",
     "text": [
      "🚀 Training: 100%|██████████| 25/25 [00:00<00:00, 57.30it/s, loss=3.6239]\n",
      "🚀 Validation: 100%|██████████| 4/4 [00:00<00:00, 168.94it/s, loss=6.6171]\n"
     ]
    },
    {
     "name": "stdout",
     "output_type": "stream",
     "text": [
      "[Epoch 62] Train Loss: 3.5501 | Val Loss: 6.6894\n",
      "Epoch 63/150\n"
     ]
    },
    {
     "name": "stderr",
     "output_type": "stream",
     "text": [
      "🚀 Training: 100%|██████████| 25/25 [00:00<00:00, 55.86it/s, loss=3.6559]\n",
      "🚀 Validation: 100%|██████████| 4/4 [00:00<00:00, 166.28it/s, loss=6.5693]\n"
     ]
    },
    {
     "name": "stdout",
     "output_type": "stream",
     "text": [
      "[Epoch 63] Train Loss: 3.5331 | Val Loss: 6.6801\n",
      "Epoch 64/150\n"
     ]
    },
    {
     "name": "stderr",
     "output_type": "stream",
     "text": [
      "🚀 Training: 100%|██████████| 25/25 [00:00<00:00, 57.81it/s, loss=3.4645]\n",
      "🚀 Validation: 100%|██████████| 4/4 [00:00<00:00, 131.57it/s, loss=6.6322]\n"
     ]
    },
    {
     "name": "stdout",
     "output_type": "stream",
     "text": [
      "[Epoch 64] Train Loss: 3.5061 | Val Loss: 6.7204\n",
      "Epoch 65/150\n"
     ]
    },
    {
     "name": "stderr",
     "output_type": "stream",
     "text": [
      "🚀 Training: 100%|██████████| 25/25 [00:00<00:00, 56.39it/s, loss=3.5532]\n",
      "🚀 Validation: 100%|██████████| 4/4 [00:00<00:00, 182.27it/s, loss=6.6322]\n"
     ]
    },
    {
     "name": "stdout",
     "output_type": "stream",
     "text": [
      "[Epoch 65] Train Loss: 3.5021 | Val Loss: 6.7222\n",
      "Epoch 66/150\n"
     ]
    },
    {
     "name": "stderr",
     "output_type": "stream",
     "text": [
      "🚀 Training: 100%|██████████| 25/25 [00:00<00:00, 57.04it/s, loss=3.5035]\n",
      "🚀 Validation: 100%|██████████| 4/4 [00:00<00:00, 181.68it/s, loss=6.6874]\n"
     ]
    },
    {
     "name": "stdout",
     "output_type": "stream",
     "text": [
      "[Epoch 66] Train Loss: 3.4853 | Val Loss: 6.7684\n",
      "Epoch 67/150\n"
     ]
    },
    {
     "name": "stderr",
     "output_type": "stream",
     "text": [
      "🚀 Training: 100%|██████████| 25/25 [00:00<00:00, 58.12it/s, loss=3.4480]\n",
      "🚀 Validation: 100%|██████████| 4/4 [00:00<00:00, 176.11it/s, loss=6.6718]\n"
     ]
    },
    {
     "name": "stdout",
     "output_type": "stream",
     "text": [
      "[Epoch 67] Train Loss: 3.4693 | Val Loss: 6.7722\n",
      "Epoch 68/150\n"
     ]
    },
    {
     "name": "stderr",
     "output_type": "stream",
     "text": [
      "🚀 Training: 100%|██████████| 25/25 [00:00<00:00, 57.76it/s, loss=3.4140]\n",
      "🚀 Validation: 100%|██████████| 4/4 [00:00<00:00, 177.82it/s, loss=6.6816]\n"
     ]
    },
    {
     "name": "stdout",
     "output_type": "stream",
     "text": [
      "[Epoch 68] Train Loss: 3.4419 | Val Loss: 6.7754\n",
      "Epoch 69/150\n"
     ]
    },
    {
     "name": "stderr",
     "output_type": "stream",
     "text": [
      "🚀 Training: 100%|██████████| 25/25 [00:00<00:00, 57.30it/s, loss=3.5009]\n",
      "🚀 Validation: 100%|██████████| 4/4 [00:00<00:00, 162.89it/s, loss=6.7064]\n"
     ]
    },
    {
     "name": "stdout",
     "output_type": "stream",
     "text": [
      "[Epoch 69] Train Loss: 3.4266 | Val Loss: 6.7889\n",
      "Epoch 70/150\n"
     ]
    },
    {
     "name": "stderr",
     "output_type": "stream",
     "text": [
      "🚀 Training: 100%|██████████| 25/25 [00:00<00:00, 58.91it/s, loss=3.4851]\n",
      "🚀 Validation: 100%|██████████| 4/4 [00:00<00:00, 191.51it/s, loss=6.7003]\n"
     ]
    },
    {
     "name": "stdout",
     "output_type": "stream",
     "text": [
      "[Epoch 70] Train Loss: 3.4162 | Val Loss: 6.8039\n",
      "Epoch 71/150\n"
     ]
    },
    {
     "name": "stderr",
     "output_type": "stream",
     "text": [
      "🚀 Training: 100%|██████████| 25/25 [00:00<00:00, 58.27it/s, loss=3.3296]\n",
      "🚀 Validation: 100%|██████████| 4/4 [00:00<00:00, 176.89it/s, loss=6.7223]\n"
     ]
    },
    {
     "name": "stdout",
     "output_type": "stream",
     "text": [
      "[Epoch 71] Train Loss: 3.4006 | Val Loss: 6.8171\n",
      "Epoch 72/150\n"
     ]
    },
    {
     "name": "stderr",
     "output_type": "stream",
     "text": [
      "🚀 Training: 100%|██████████| 25/25 [00:00<00:00, 56.94it/s, loss=3.4803]\n",
      "🚀 Validation: 100%|██████████| 4/4 [00:00<00:00, 191.87it/s, loss=6.7235]\n"
     ]
    },
    {
     "name": "stdout",
     "output_type": "stream",
     "text": [
      "[Epoch 72] Train Loss: 3.3806 | Val Loss: 6.8307\n",
      "Epoch 73/150\n"
     ]
    },
    {
     "name": "stderr",
     "output_type": "stream",
     "text": [
      "🚀 Training: 100%|██████████| 25/25 [00:00<00:00, 58.45it/s, loss=3.4155]\n",
      "🚀 Validation: 100%|██████████| 4/4 [00:00<00:00, 183.49it/s, loss=6.7693]\n"
     ]
    },
    {
     "name": "stdout",
     "output_type": "stream",
     "text": [
      "[Epoch 73] Train Loss: 3.3690 | Val Loss: 6.8539\n",
      "Epoch 74/150\n"
     ]
    },
    {
     "name": "stderr",
     "output_type": "stream",
     "text": [
      "🚀 Training: 100%|██████████| 25/25 [00:00<00:00, 57.51it/s, loss=3.4506]\n",
      "🚀 Validation: 100%|██████████| 4/4 [00:00<00:00, 171.26it/s, loss=6.7958]\n"
     ]
    },
    {
     "name": "stdout",
     "output_type": "stream",
     "text": [
      "[Epoch 74] Train Loss: 3.3568 | Val Loss: 6.8796\n",
      "Epoch 75/150\n"
     ]
    },
    {
     "name": "stderr",
     "output_type": "stream",
     "text": [
      "🚀 Training: 100%|██████████| 25/25 [00:00<00:00, 58.06it/s, loss=3.3854]\n",
      "🚀 Validation: 100%|██████████| 4/4 [00:00<00:00, 194.14it/s, loss=6.7915]\n"
     ]
    },
    {
     "name": "stdout",
     "output_type": "stream",
     "text": [
      "[Epoch 75] Train Loss: 3.3411 | Val Loss: 6.8870\n",
      "Epoch 76/150\n"
     ]
    },
    {
     "name": "stderr",
     "output_type": "stream",
     "text": [
      "🚀 Training: 100%|██████████| 25/25 [00:00<00:00, 59.03it/s, loss=3.3752]\n",
      "🚀 Validation: 100%|██████████| 4/4 [00:00<00:00, 196.88it/s, loss=6.7839]\n"
     ]
    },
    {
     "name": "stdout",
     "output_type": "stream",
     "text": [
      "[Epoch 76] Train Loss: 3.3293 | Val Loss: 6.9071\n",
      "Epoch 77/150\n"
     ]
    },
    {
     "name": "stderr",
     "output_type": "stream",
     "text": [
      "🚀 Training: 100%|██████████| 25/25 [00:00<00:00, 57.78it/s, loss=3.2419]\n",
      "🚀 Validation: 100%|██████████| 4/4 [00:00<00:00, 171.68it/s, loss=6.8045]\n"
     ]
    },
    {
     "name": "stdout",
     "output_type": "stream",
     "text": [
      "[Epoch 77] Train Loss: 3.3037 | Val Loss: 6.9349\n",
      "Epoch 78/150\n"
     ]
    },
    {
     "name": "stderr",
     "output_type": "stream",
     "text": [
      "🚀 Training: 100%|██████████| 25/25 [00:00<00:00, 59.15it/s, loss=3.3718]\n",
      "🚀 Validation: 100%|██████████| 4/4 [00:00<00:00, 183.23it/s, loss=6.8409]\n"
     ]
    },
    {
     "name": "stdout",
     "output_type": "stream",
     "text": [
      "[Epoch 78] Train Loss: 3.3008 | Val Loss: 6.9594\n",
      "Epoch 79/150\n"
     ]
    },
    {
     "name": "stderr",
     "output_type": "stream",
     "text": [
      "🚀 Training: 100%|██████████| 25/25 [00:00<00:00, 58.14it/s, loss=3.4884]\n",
      "🚀 Validation: 100%|██████████| 4/4 [00:00<00:00, 182.79it/s, loss=6.8602]\n"
     ]
    },
    {
     "name": "stdout",
     "output_type": "stream",
     "text": [
      "[Epoch 79] Train Loss: 3.2926 | Val Loss: 6.9748\n",
      "Epoch 80/150\n"
     ]
    },
    {
     "name": "stderr",
     "output_type": "stream",
     "text": [
      "🚀 Training: 100%|██████████| 25/25 [00:00<00:00, 56.98it/s, loss=3.3706]\n",
      "🚀 Validation: 100%|██████████| 4/4 [00:00<00:00, 182.09it/s, loss=6.8888]\n"
     ]
    },
    {
     "name": "stdout",
     "output_type": "stream",
     "text": [
      "[Epoch 80] Train Loss: 3.2695 | Val Loss: 6.9878\n",
      "Epoch 81/150\n"
     ]
    },
    {
     "name": "stderr",
     "output_type": "stream",
     "text": [
      "🚀 Training: 100%|██████████| 25/25 [00:00<00:00, 57.61it/s, loss=3.4033]\n",
      "🚀 Validation: 100%|██████████| 4/4 [00:00<00:00, 180.12it/s, loss=6.8844]\n"
     ]
    },
    {
     "name": "stdout",
     "output_type": "stream",
     "text": [
      "[Epoch 81] Train Loss: 3.2482 | Val Loss: 6.9983\n",
      "Epoch 82/150\n"
     ]
    },
    {
     "name": "stderr",
     "output_type": "stream",
     "text": [
      "🚀 Training: 100%|██████████| 25/25 [00:00<00:00, 57.68it/s, loss=3.2023]\n",
      "🚀 Validation: 100%|██████████| 4/4 [00:00<00:00, 181.09it/s, loss=6.8913]\n"
     ]
    },
    {
     "name": "stdout",
     "output_type": "stream",
     "text": [
      "[Epoch 82] Train Loss: 3.2454 | Val Loss: 7.0167\n",
      "Epoch 83/150\n"
     ]
    },
    {
     "name": "stderr",
     "output_type": "stream",
     "text": [
      "🚀 Training: 100%|██████████| 25/25 [00:00<00:00, 57.68it/s, loss=3.3088]\n",
      "🚀 Validation: 100%|██████████| 4/4 [00:00<00:00, 188.94it/s, loss=6.9021]\n"
     ]
    },
    {
     "name": "stdout",
     "output_type": "stream",
     "text": [
      "[Epoch 83] Train Loss: 3.2311 | Val Loss: 7.0217\n",
      "Epoch 84/150\n"
     ]
    },
    {
     "name": "stderr",
     "output_type": "stream",
     "text": [
      "🚀 Training: 100%|██████████| 25/25 [00:00<00:00, 58.68it/s, loss=3.3748]\n",
      "🚀 Validation: 100%|██████████| 4/4 [00:00<00:00, 191.79it/s, loss=6.9260]\n"
     ]
    },
    {
     "name": "stdout",
     "output_type": "stream",
     "text": [
      "[Epoch 84] Train Loss: 3.2221 | Val Loss: 7.0561\n",
      "Epoch 85/150\n"
     ]
    },
    {
     "name": "stderr",
     "output_type": "stream",
     "text": [
      "🚀 Training: 100%|██████████| 25/25 [00:00<00:00, 57.20it/s, loss=3.2122]\n",
      "🚀 Validation: 100%|██████████| 4/4 [00:00<00:00, 180.42it/s, loss=6.9169]\n"
     ]
    },
    {
     "name": "stdout",
     "output_type": "stream",
     "text": [
      "[Epoch 85] Train Loss: 3.2069 | Val Loss: 7.0506\n",
      "Epoch 86/150\n"
     ]
    },
    {
     "name": "stderr",
     "output_type": "stream",
     "text": [
      "🚀 Training: 100%|██████████| 25/25 [00:00<00:00, 59.43it/s, loss=3.2185]\n",
      "🚀 Validation: 100%|██████████| 4/4 [00:00<00:00, 171.22it/s, loss=6.9311]\n"
     ]
    },
    {
     "name": "stdout",
     "output_type": "stream",
     "text": [
      "[Epoch 86] Train Loss: 3.1920 | Val Loss: 7.0591\n",
      "Epoch 87/150\n"
     ]
    },
    {
     "name": "stderr",
     "output_type": "stream",
     "text": [
      "🚀 Training: 100%|██████████| 25/25 [00:00<00:00, 57.91it/s, loss=3.2675]\n",
      "🚀 Validation: 100%|██████████| 4/4 [00:00<00:00, 175.70it/s, loss=6.9533]\n"
     ]
    },
    {
     "name": "stdout",
     "output_type": "stream",
     "text": [
      "[Epoch 87] Train Loss: 3.1704 | Val Loss: 7.0848\n",
      "Epoch 88/150\n"
     ]
    },
    {
     "name": "stderr",
     "output_type": "stream",
     "text": [
      "🚀 Training: 100%|██████████| 25/25 [00:00<00:00, 57.39it/s, loss=3.2525]\n",
      "🚀 Validation: 100%|██████████| 4/4 [00:00<00:00, 184.16it/s, loss=6.9733]\n"
     ]
    },
    {
     "name": "stdout",
     "output_type": "stream",
     "text": [
      "[Epoch 88] Train Loss: 3.1602 | Val Loss: 7.0965\n",
      "Epoch 89/150\n"
     ]
    },
    {
     "name": "stderr",
     "output_type": "stream",
     "text": [
      "🚀 Training: 100%|██████████| 25/25 [00:00<00:00, 58.50it/s, loss=3.1926]\n",
      "🚀 Validation: 100%|██████████| 4/4 [00:00<00:00, 184.41it/s, loss=6.9647]\n"
     ]
    },
    {
     "name": "stdout",
     "output_type": "stream",
     "text": [
      "[Epoch 89] Train Loss: 3.1495 | Val Loss: 7.1028\n",
      "Epoch 90/150\n"
     ]
    },
    {
     "name": "stderr",
     "output_type": "stream",
     "text": [
      "🚀 Training: 100%|██████████| 25/25 [00:00<00:00, 57.99it/s, loss=3.2508]\n",
      "🚀 Validation: 100%|██████████| 4/4 [00:00<00:00, 175.50it/s, loss=7.0081]\n"
     ]
    },
    {
     "name": "stdout",
     "output_type": "stream",
     "text": [
      "[Epoch 90] Train Loss: 3.1500 | Val Loss: 7.1432\n",
      "Epoch 91/150\n"
     ]
    },
    {
     "name": "stderr",
     "output_type": "stream",
     "text": [
      "🚀 Training: 100%|██████████| 25/25 [00:00<00:00, 56.65it/s, loss=3.1618]\n",
      "🚀 Validation: 100%|██████████| 4/4 [00:00<00:00, 178.88it/s, loss=7.0071]\n"
     ]
    },
    {
     "name": "stdout",
     "output_type": "stream",
     "text": [
      "[Epoch 91] Train Loss: 3.1187 | Val Loss: 7.1538\n",
      "Epoch 92/150\n"
     ]
    },
    {
     "name": "stderr",
     "output_type": "stream",
     "text": [
      "🚀 Training: 100%|██████████| 25/25 [00:00<00:00, 58.35it/s, loss=3.0730]\n",
      "🚀 Validation: 100%|██████████| 4/4 [00:00<00:00, 194.57it/s, loss=7.0342]\n"
     ]
    },
    {
     "name": "stdout",
     "output_type": "stream",
     "text": [
      "[Epoch 92] Train Loss: 3.1172 | Val Loss: 7.1745\n",
      "Epoch 93/150\n"
     ]
    },
    {
     "name": "stderr",
     "output_type": "stream",
     "text": [
      "🚀 Training: 100%|██████████| 25/25 [00:00<00:00, 57.45it/s, loss=3.1841]\n",
      "🚀 Validation: 100%|██████████| 4/4 [00:00<00:00, 196.79it/s, loss=7.0509]\n"
     ]
    },
    {
     "name": "stdout",
     "output_type": "stream",
     "text": [
      "[Epoch 93] Train Loss: 3.1076 | Val Loss: 7.1635\n",
      "Epoch 94/150\n"
     ]
    },
    {
     "name": "stderr",
     "output_type": "stream",
     "text": [
      "🚀 Training: 100%|██████████| 25/25 [00:00<00:00, 57.03it/s, loss=3.0696]\n",
      "🚀 Validation: 100%|██████████| 4/4 [00:00<00:00, 180.24it/s, loss=7.0411]\n"
     ]
    },
    {
     "name": "stdout",
     "output_type": "stream",
     "text": [
      "[Epoch 94] Train Loss: 3.0946 | Val Loss: 7.1805\n",
      "Epoch 95/150\n"
     ]
    },
    {
     "name": "stderr",
     "output_type": "stream",
     "text": [
      "🚀 Training: 100%|██████████| 25/25 [00:00<00:00, 57.17it/s, loss=3.1500]\n",
      "🚀 Validation: 100%|██████████| 4/4 [00:00<00:00, 158.49it/s, loss=7.0423]\n"
     ]
    },
    {
     "name": "stdout",
     "output_type": "stream",
     "text": [
      "[Epoch 95] Train Loss: 3.0891 | Val Loss: 7.2022\n",
      "Epoch 96/150\n"
     ]
    },
    {
     "name": "stderr",
     "output_type": "stream",
     "text": [
      "🚀 Training: 100%|██████████| 25/25 [00:00<00:00, 57.59it/s, loss=3.0392]\n",
      "🚀 Validation: 100%|██████████| 4/4 [00:00<00:00, 196.12it/s, loss=7.0704]\n"
     ]
    },
    {
     "name": "stdout",
     "output_type": "stream",
     "text": [
      "[Epoch 96] Train Loss: 3.0678 | Val Loss: 7.2124\n",
      "Epoch 97/150\n"
     ]
    },
    {
     "name": "stderr",
     "output_type": "stream",
     "text": [
      "🚀 Training: 100%|██████████| 25/25 [00:00<00:00, 58.70it/s, loss=3.2077]\n",
      "🚀 Validation: 100%|██████████| 4/4 [00:00<00:00, 177.23it/s, loss=7.0968]\n"
     ]
    },
    {
     "name": "stdout",
     "output_type": "stream",
     "text": [
      "[Epoch 97] Train Loss: 3.0539 | Val Loss: 7.2345\n",
      "Epoch 98/150\n"
     ]
    },
    {
     "name": "stderr",
     "output_type": "stream",
     "text": [
      "🚀 Training: 100%|██████████| 25/25 [00:00<00:00, 58.71it/s, loss=3.0926]\n",
      "🚀 Validation: 100%|██████████| 4/4 [00:00<00:00, 171.76it/s, loss=7.1155]\n"
     ]
    },
    {
     "name": "stdout",
     "output_type": "stream",
     "text": [
      "[Epoch 98] Train Loss: 3.0362 | Val Loss: 7.2389\n",
      "Epoch 99/150\n"
     ]
    },
    {
     "name": "stderr",
     "output_type": "stream",
     "text": [
      "🚀 Training: 100%|██████████| 25/25 [00:00<00:00, 56.38it/s, loss=3.2592]\n",
      "🚀 Validation: 100%|██████████| 4/4 [00:00<00:00, 184.97it/s, loss=7.1603]\n"
     ]
    },
    {
     "name": "stdout",
     "output_type": "stream",
     "text": [
      "[Epoch 99] Train Loss: 3.0231 | Val Loss: 7.2783\n",
      "Epoch 100/150\n"
     ]
    },
    {
     "name": "stderr",
     "output_type": "stream",
     "text": [
      "🚀 Training: 100%|██████████| 25/25 [00:00<00:00, 58.40it/s, loss=3.1148]\n",
      "🚀 Validation: 100%|██████████| 4/4 [00:00<00:00, 184.18it/s, loss=7.1745]\n"
     ]
    },
    {
     "name": "stdout",
     "output_type": "stream",
     "text": [
      "[Epoch 100] Train Loss: 3.0257 | Val Loss: 7.2893\n",
      "Epoch 101/150\n"
     ]
    },
    {
     "name": "stderr",
     "output_type": "stream",
     "text": [
      "🚀 Training: 100%|██████████| 25/25 [00:00<00:00, 57.24it/s, loss=3.0960]\n",
      "🚀 Validation: 100%|██████████| 4/4 [00:00<00:00, 173.01it/s, loss=7.1626]\n"
     ]
    },
    {
     "name": "stdout",
     "output_type": "stream",
     "text": [
      "[Epoch 101] Train Loss: 3.0044 | Val Loss: 7.2903\n",
      "Epoch 102/150\n"
     ]
    },
    {
     "name": "stderr",
     "output_type": "stream",
     "text": [
      "🚀 Training: 100%|██████████| 25/25 [00:00<00:00, 57.24it/s, loss=3.0513]\n",
      "🚀 Validation: 100%|██████████| 4/4 [00:00<00:00, 182.98it/s, loss=7.2125]\n"
     ]
    },
    {
     "name": "stdout",
     "output_type": "stream",
     "text": [
      "[Epoch 102] Train Loss: 2.9973 | Val Loss: 7.3156\n",
      "Epoch 103/150\n"
     ]
    },
    {
     "name": "stderr",
     "output_type": "stream",
     "text": [
      "🚀 Training: 100%|██████████| 25/25 [00:00<00:00, 58.01it/s, loss=3.0734]\n",
      "🚀 Validation: 100%|██████████| 4/4 [00:00<00:00, 192.58it/s, loss=7.1964]\n"
     ]
    },
    {
     "name": "stdout",
     "output_type": "stream",
     "text": [
      "[Epoch 103] Train Loss: 2.9918 | Val Loss: 7.3326\n",
      "Epoch 104/150\n"
     ]
    },
    {
     "name": "stderr",
     "output_type": "stream",
     "text": [
      "🚀 Training: 100%|██████████| 25/25 [00:00<00:00, 58.15it/s, loss=2.8938]\n",
      "🚀 Validation: 100%|██████████| 4/4 [00:00<00:00, 195.59it/s, loss=7.2098]\n"
     ]
    },
    {
     "name": "stdout",
     "output_type": "stream",
     "text": [
      "[Epoch 104] Train Loss: 2.9828 | Val Loss: 7.3455\n",
      "Epoch 105/150\n"
     ]
    },
    {
     "name": "stderr",
     "output_type": "stream",
     "text": [
      "🚀 Training: 100%|██████████| 25/25 [00:00<00:00, 57.90it/s, loss=3.0085]\n",
      "🚀 Validation: 100%|██████████| 4/4 [00:00<00:00, 177.68it/s, loss=7.2218]\n"
     ]
    },
    {
     "name": "stdout",
     "output_type": "stream",
     "text": [
      "[Epoch 105] Train Loss: 2.9697 | Val Loss: 7.3656\n",
      "Epoch 106/150\n"
     ]
    },
    {
     "name": "stderr",
     "output_type": "stream",
     "text": [
      "🚀 Training: 100%|██████████| 25/25 [00:00<00:00, 57.67it/s, loss=3.0055]\n",
      "🚀 Validation: 100%|██████████| 4/4 [00:00<00:00, 191.29it/s, loss=7.2432]\n"
     ]
    },
    {
     "name": "stdout",
     "output_type": "stream",
     "text": [
      "[Epoch 106] Train Loss: 2.9459 | Val Loss: 7.3855\n",
      "Epoch 107/150\n"
     ]
    },
    {
     "name": "stderr",
     "output_type": "stream",
     "text": [
      "🚀 Training: 100%|██████████| 25/25 [00:00<00:00, 57.71it/s, loss=2.9392]\n",
      "🚀 Validation: 100%|██████████| 4/4 [00:00<00:00, 185.56it/s, loss=7.2705]\n"
     ]
    },
    {
     "name": "stdout",
     "output_type": "stream",
     "text": [
      "[Epoch 107] Train Loss: 2.9402 | Val Loss: 7.3922\n",
      "Epoch 108/150\n"
     ]
    },
    {
     "name": "stderr",
     "output_type": "stream",
     "text": [
      "🚀 Training: 100%|██████████| 25/25 [00:00<00:00, 57.52it/s, loss=3.0071]\n",
      "🚀 Validation: 100%|██████████| 4/4 [00:00<00:00, 169.98it/s, loss=7.2938]\n"
     ]
    },
    {
     "name": "stdout",
     "output_type": "stream",
     "text": [
      "[Epoch 108] Train Loss: 2.9517 | Val Loss: 7.4070\n",
      "Epoch 109/150\n"
     ]
    },
    {
     "name": "stderr",
     "output_type": "stream",
     "text": [
      "🚀 Training: 100%|██████████| 25/25 [00:00<00:00, 58.13it/s, loss=2.9969]\n",
      "🚀 Validation: 100%|██████████| 4/4 [00:00<00:00, 188.93it/s, loss=7.2843]\n"
     ]
    },
    {
     "name": "stdout",
     "output_type": "stream",
     "text": [
      "[Epoch 109] Train Loss: 2.9262 | Val Loss: 7.4030\n",
      "Epoch 110/150\n"
     ]
    },
    {
     "name": "stderr",
     "output_type": "stream",
     "text": [
      "🚀 Training: 100%|██████████| 25/25 [00:00<00:00, 56.77it/s, loss=2.9663]\n",
      "🚀 Validation: 100%|██████████| 4/4 [00:00<00:00, 176.06it/s, loss=7.3113]\n"
     ]
    },
    {
     "name": "stdout",
     "output_type": "stream",
     "text": [
      "[Epoch 110] Train Loss: 2.9195 | Val Loss: 7.4403\n",
      "Epoch 111/150\n"
     ]
    },
    {
     "name": "stderr",
     "output_type": "stream",
     "text": [
      "🚀 Training: 100%|██████████| 25/25 [00:00<00:00, 58.16it/s, loss=2.8893]\n",
      "🚀 Validation: 100%|██████████| 4/4 [00:00<00:00, 173.01it/s, loss=7.2972]\n"
     ]
    },
    {
     "name": "stdout",
     "output_type": "stream",
     "text": [
      "[Epoch 111] Train Loss: 2.9025 | Val Loss: 7.4496\n",
      "Epoch 112/150\n"
     ]
    },
    {
     "name": "stderr",
     "output_type": "stream",
     "text": [
      "🚀 Training: 100%|██████████| 25/25 [00:00<00:00, 57.49it/s, loss=2.9378]\n",
      "🚀 Validation: 100%|██████████| 4/4 [00:00<00:00, 182.18it/s, loss=7.3209]\n"
     ]
    },
    {
     "name": "stdout",
     "output_type": "stream",
     "text": [
      "[Epoch 112] Train Loss: 2.8979 | Val Loss: 7.4640\n",
      "Epoch 113/150\n"
     ]
    },
    {
     "name": "stderr",
     "output_type": "stream",
     "text": [
      "🚀 Training: 100%|██████████| 25/25 [00:00<00:00, 58.37it/s, loss=2.8858]\n",
      "🚀 Validation: 100%|██████████| 4/4 [00:00<00:00, 192.35it/s, loss=7.3278]\n"
     ]
    },
    {
     "name": "stdout",
     "output_type": "stream",
     "text": [
      "[Epoch 113] Train Loss: 2.8781 | Val Loss: 7.4789\n",
      "Epoch 114/150\n"
     ]
    },
    {
     "name": "stderr",
     "output_type": "stream",
     "text": [
      "🚀 Training: 100%|██████████| 25/25 [00:00<00:00, 58.60it/s, loss=2.7256]\n",
      "🚀 Validation: 100%|██████████| 4/4 [00:00<00:00, 184.54it/s, loss=7.3444]\n"
     ]
    },
    {
     "name": "stdout",
     "output_type": "stream",
     "text": [
      "[Epoch 114] Train Loss: 2.8811 | Val Loss: 7.4859\n",
      "Epoch 115/150\n"
     ]
    },
    {
     "name": "stderr",
     "output_type": "stream",
     "text": [
      "🚀 Training: 100%|██████████| 25/25 [00:00<00:00, 56.98it/s, loss=3.0224]\n",
      "🚀 Validation: 100%|██████████| 4/4 [00:00<00:00, 182.42it/s, loss=7.3896]\n"
     ]
    },
    {
     "name": "stdout",
     "output_type": "stream",
     "text": [
      "[Epoch 115] Train Loss: 2.8590 | Val Loss: 7.5059\n",
      "Epoch 116/150\n"
     ]
    },
    {
     "name": "stderr",
     "output_type": "stream",
     "text": [
      "🚀 Training: 100%|██████████| 25/25 [00:00<00:00, 57.81it/s, loss=2.9174]\n",
      "🚀 Validation: 100%|██████████| 4/4 [00:00<00:00, 182.76it/s, loss=7.3925]\n"
     ]
    },
    {
     "name": "stdout",
     "output_type": "stream",
     "text": [
      "[Epoch 116] Train Loss: 2.8573 | Val Loss: 7.5106\n",
      "Epoch 117/150\n"
     ]
    },
    {
     "name": "stderr",
     "output_type": "stream",
     "text": [
      "🚀 Training: 100%|██████████| 25/25 [00:00<00:00, 58.70it/s, loss=2.8573]\n",
      "🚀 Validation: 100%|██████████| 4/4 [00:00<00:00, 177.25it/s, loss=7.4195]\n"
     ]
    },
    {
     "name": "stdout",
     "output_type": "stream",
     "text": [
      "[Epoch 117] Train Loss: 2.8471 | Val Loss: 7.5392\n",
      "Epoch 118/150\n"
     ]
    },
    {
     "name": "stderr",
     "output_type": "stream",
     "text": [
      "🚀 Training: 100%|██████████| 25/25 [00:00<00:00, 56.60it/s, loss=2.7497]\n",
      "🚀 Validation: 100%|██████████| 4/4 [00:00<00:00, 168.99it/s, loss=7.3906]\n"
     ]
    },
    {
     "name": "stdout",
     "output_type": "stream",
     "text": [
      "[Epoch 118] Train Loss: 2.8366 | Val Loss: 7.5424\n",
      "Epoch 119/150\n"
     ]
    },
    {
     "name": "stderr",
     "output_type": "stream",
     "text": [
      "🚀 Training: 100%|██████████| 25/25 [00:00<00:00, 56.75it/s, loss=2.9962]\n",
      "🚀 Validation: 100%|██████████| 4/4 [00:00<00:00, 171.40it/s, loss=7.3778]\n"
     ]
    },
    {
     "name": "stdout",
     "output_type": "stream",
     "text": [
      "[Epoch 119] Train Loss: 2.8353 | Val Loss: 7.5394\n",
      "Epoch 120/150\n"
     ]
    },
    {
     "name": "stderr",
     "output_type": "stream",
     "text": [
      "🚀 Training: 100%|██████████| 25/25 [00:00<00:00, 55.89it/s, loss=2.8230]\n",
      "🚀 Validation: 100%|██████████| 4/4 [00:00<00:00, 170.07it/s, loss=7.3993]\n"
     ]
    },
    {
     "name": "stdout",
     "output_type": "stream",
     "text": [
      "[Epoch 120] Train Loss: 2.8153 | Val Loss: 7.5620\n",
      "Epoch 121/150\n"
     ]
    },
    {
     "name": "stderr",
     "output_type": "stream",
     "text": [
      "🚀 Training: 100%|██████████| 25/25 [00:00<00:00, 57.26it/s, loss=2.8872]\n",
      "🚀 Validation: 100%|██████████| 4/4 [00:00<00:00, 177.69it/s, loss=7.4244]\n"
     ]
    },
    {
     "name": "stdout",
     "output_type": "stream",
     "text": [
      "[Epoch 121] Train Loss: 2.8047 | Val Loss: 7.5807\n",
      "Epoch 122/150\n"
     ]
    },
    {
     "name": "stderr",
     "output_type": "stream",
     "text": [
      "🚀 Training: 100%|██████████| 25/25 [00:00<00:00, 57.14it/s, loss=2.8843]\n",
      "🚀 Validation: 100%|██████████| 4/4 [00:00<00:00, 166.20it/s, loss=7.4289]\n"
     ]
    },
    {
     "name": "stdout",
     "output_type": "stream",
     "text": [
      "[Epoch 122] Train Loss: 2.8070 | Val Loss: 7.5877\n",
      "Epoch 123/150\n"
     ]
    },
    {
     "name": "stderr",
     "output_type": "stream",
     "text": [
      "🚀 Training: 100%|██████████| 25/25 [00:00<00:00, 55.83it/s, loss=2.8450]\n",
      "🚀 Validation: 100%|██████████| 4/4 [00:00<00:00, 170.19it/s, loss=7.4373]\n"
     ]
    },
    {
     "name": "stdout",
     "output_type": "stream",
     "text": [
      "[Epoch 123] Train Loss: 2.7888 | Val Loss: 7.6028\n",
      "Epoch 124/150\n"
     ]
    },
    {
     "name": "stderr",
     "output_type": "stream",
     "text": [
      "🚀 Training: 100%|██████████| 25/25 [00:00<00:00, 56.86it/s, loss=2.7563]\n",
      "🚀 Validation: 100%|██████████| 4/4 [00:00<00:00, 181.73it/s, loss=7.4708]\n"
     ]
    },
    {
     "name": "stdout",
     "output_type": "stream",
     "text": [
      "[Epoch 124] Train Loss: 2.7879 | Val Loss: 7.6296\n",
      "Epoch 125/150\n"
     ]
    },
    {
     "name": "stderr",
     "output_type": "stream",
     "text": [
      "🚀 Training: 100%|██████████| 25/25 [00:00<00:00, 57.94it/s, loss=2.8200]\n",
      "🚀 Validation: 100%|██████████| 4/4 [00:00<00:00, 176.15it/s, loss=7.4826]\n"
     ]
    },
    {
     "name": "stdout",
     "output_type": "stream",
     "text": [
      "[Epoch 125] Train Loss: 2.7876 | Val Loss: 7.6470\n",
      "Epoch 126/150\n"
     ]
    },
    {
     "name": "stderr",
     "output_type": "stream",
     "text": [
      "🚀 Training: 100%|██████████| 25/25 [00:00<00:00, 54.81it/s, loss=2.7791]\n",
      "🚀 Validation: 100%|██████████| 4/4 [00:00<00:00, 157.09it/s, loss=7.4871]\n"
     ]
    },
    {
     "name": "stdout",
     "output_type": "stream",
     "text": [
      "[Epoch 126] Train Loss: 2.7687 | Val Loss: 7.6546\n",
      "Epoch 127/150\n"
     ]
    },
    {
     "name": "stderr",
     "output_type": "stream",
     "text": [
      "🚀 Training: 100%|██████████| 25/25 [00:00<00:00, 56.60it/s, loss=2.8337]\n",
      "🚀 Validation: 100%|██████████| 4/4 [00:00<00:00, 177.60it/s, loss=7.4953]\n"
     ]
    },
    {
     "name": "stdout",
     "output_type": "stream",
     "text": [
      "[Epoch 127] Train Loss: 2.7488 | Val Loss: 7.6615\n",
      "Epoch 128/150\n"
     ]
    },
    {
     "name": "stderr",
     "output_type": "stream",
     "text": [
      "🚀 Training: 100%|██████████| 25/25 [00:00<00:00, 57.61it/s, loss=2.7919]\n",
      "🚀 Validation: 100%|██████████| 4/4 [00:00<00:00, 161.18it/s, loss=7.5189]\n"
     ]
    },
    {
     "name": "stdout",
     "output_type": "stream",
     "text": [
      "[Epoch 128] Train Loss: 2.7400 | Val Loss: 7.6703\n",
      "Epoch 129/150\n"
     ]
    },
    {
     "name": "stderr",
     "output_type": "stream",
     "text": [
      "🚀 Training: 100%|██████████| 25/25 [00:00<00:00, 57.02it/s, loss=2.7215]\n",
      "🚀 Validation: 100%|██████████| 4/4 [00:00<00:00, 176.14it/s, loss=7.5337]\n"
     ]
    },
    {
     "name": "stdout",
     "output_type": "stream",
     "text": [
      "[Epoch 129] Train Loss: 2.7483 | Val Loss: 7.7006\n",
      "Epoch 130/150\n"
     ]
    },
    {
     "name": "stderr",
     "output_type": "stream",
     "text": [
      "🚀 Training: 100%|██████████| 25/25 [00:00<00:00, 58.32it/s, loss=2.7338]\n",
      "🚀 Validation: 100%|██████████| 4/4 [00:00<00:00, 187.55it/s, loss=7.5512]\n"
     ]
    },
    {
     "name": "stdout",
     "output_type": "stream",
     "text": [
      "[Epoch 130] Train Loss: 2.7402 | Val Loss: 7.7148\n",
      "Epoch 131/150\n"
     ]
    },
    {
     "name": "stderr",
     "output_type": "stream",
     "text": [
      "🚀 Training: 100%|██████████| 25/25 [00:00<00:00, 57.33it/s, loss=2.8097]\n",
      "🚀 Validation: 100%|██████████| 4/4 [00:00<00:00, 186.64it/s, loss=7.5510]\n"
     ]
    },
    {
     "name": "stdout",
     "output_type": "stream",
     "text": [
      "[Epoch 131] Train Loss: 2.7247 | Val Loss: 7.7118\n",
      "Epoch 132/150\n"
     ]
    },
    {
     "name": "stderr",
     "output_type": "stream",
     "text": [
      "🚀 Training: 100%|██████████| 25/25 [00:00<00:00, 57.70it/s, loss=2.7554]\n",
      "🚀 Validation: 100%|██████████| 4/4 [00:00<00:00, 179.30it/s, loss=7.5818]\n"
     ]
    },
    {
     "name": "stdout",
     "output_type": "stream",
     "text": [
      "[Epoch 132] Train Loss: 2.7240 | Val Loss: 7.7389\n",
      "Epoch 133/150\n"
     ]
    },
    {
     "name": "stderr",
     "output_type": "stream",
     "text": [
      "🚀 Training: 100%|██████████| 25/25 [00:00<00:00, 57.24it/s, loss=2.6582]\n",
      "🚀 Validation: 100%|██████████| 4/4 [00:00<00:00, 186.19it/s, loss=7.6080]\n"
     ]
    },
    {
     "name": "stdout",
     "output_type": "stream",
     "text": [
      "[Epoch 133] Train Loss: 2.7089 | Val Loss: 7.7558\n",
      "Epoch 134/150\n"
     ]
    },
    {
     "name": "stderr",
     "output_type": "stream",
     "text": [
      "🚀 Training: 100%|██████████| 25/25 [00:00<00:00, 57.34it/s, loss=2.6344]\n",
      "🚀 Validation: 100%|██████████| 4/4 [00:00<00:00, 166.99it/s, loss=7.6121]\n"
     ]
    },
    {
     "name": "stdout",
     "output_type": "stream",
     "text": [
      "[Epoch 134] Train Loss: 2.6986 | Val Loss: 7.7707\n",
      "Epoch 135/150\n"
     ]
    },
    {
     "name": "stderr",
     "output_type": "stream",
     "text": [
      "🚀 Training: 100%|██████████| 25/25 [00:00<00:00, 55.89it/s, loss=2.6866]\n",
      "🚀 Validation: 100%|██████████| 4/4 [00:00<00:00, 152.19it/s, loss=7.6164]\n"
     ]
    },
    {
     "name": "stdout",
     "output_type": "stream",
     "text": [
      "[Epoch 135] Train Loss: 2.6957 | Val Loss: 7.7691\n",
      "Epoch 136/150\n"
     ]
    },
    {
     "name": "stderr",
     "output_type": "stream",
     "text": [
      "🚀 Training: 100%|██████████| 25/25 [00:00<00:00, 53.61it/s, loss=2.7743]\n",
      "🚀 Validation: 100%|██████████| 4/4 [00:00<00:00, 157.75it/s, loss=7.6634]\n"
     ]
    },
    {
     "name": "stdout",
     "output_type": "stream",
     "text": [
      "[Epoch 136] Train Loss: 2.6952 | Val Loss: 7.8012\n",
      "Epoch 137/150\n"
     ]
    },
    {
     "name": "stderr",
     "output_type": "stream",
     "text": [
      "🚀 Training: 100%|██████████| 25/25 [00:00<00:00, 55.62it/s, loss=2.7209]\n",
      "🚀 Validation: 100%|██████████| 4/4 [00:00<00:00, 163.23it/s, loss=7.6790]\n"
     ]
    },
    {
     "name": "stdout",
     "output_type": "stream",
     "text": [
      "[Epoch 137] Train Loss: 2.6831 | Val Loss: 7.8220\n",
      "Epoch 138/150\n"
     ]
    },
    {
     "name": "stderr",
     "output_type": "stream",
     "text": [
      "🚀 Training: 100%|██████████| 25/25 [00:00<00:00, 55.96it/s, loss=2.6240]\n",
      "🚀 Validation: 100%|██████████| 4/4 [00:00<00:00, 164.33it/s, loss=7.6390]\n"
     ]
    },
    {
     "name": "stdout",
     "output_type": "stream",
     "text": [
      "[Epoch 138] Train Loss: 2.6699 | Val Loss: 7.8205\n",
      "Epoch 139/150\n"
     ]
    },
    {
     "name": "stderr",
     "output_type": "stream",
     "text": [
      "🚀 Training: 100%|██████████| 25/25 [00:00<00:00, 53.30it/s, loss=2.7478]\n",
      "🚀 Validation: 100%|██████████| 4/4 [00:00<00:00, 129.69it/s, loss=7.6369]\n"
     ]
    },
    {
     "name": "stdout",
     "output_type": "stream",
     "text": [
      "[Epoch 139] Train Loss: 2.6630 | Val Loss: 7.8297\n",
      "Epoch 140/150\n"
     ]
    },
    {
     "name": "stderr",
     "output_type": "stream",
     "text": [
      "🚀 Training: 100%|██████████| 25/25 [00:00<00:00, 53.89it/s, loss=2.6915]\n",
      "🚀 Validation: 100%|██████████| 4/4 [00:00<00:00, 158.47it/s, loss=7.6468]\n"
     ]
    },
    {
     "name": "stdout",
     "output_type": "stream",
     "text": [
      "[Epoch 140] Train Loss: 2.6497 | Val Loss: 7.8425\n",
      "Epoch 141/150\n"
     ]
    },
    {
     "name": "stderr",
     "output_type": "stream",
     "text": [
      "🚀 Training: 100%|██████████| 25/25 [00:00<00:00, 54.54it/s, loss=2.6401]\n",
      "🚀 Validation: 100%|██████████| 4/4 [00:00<00:00, 155.71it/s, loss=7.6895]\n"
     ]
    },
    {
     "name": "stdout",
     "output_type": "stream",
     "text": [
      "[Epoch 141] Train Loss: 2.6420 | Val Loss: 7.8607\n",
      "Epoch 142/150\n"
     ]
    },
    {
     "name": "stderr",
     "output_type": "stream",
     "text": [
      "🚀 Training: 100%|██████████| 25/25 [00:00<00:00, 54.06it/s, loss=2.6311]\n",
      "🚀 Validation: 100%|██████████| 4/4 [00:00<00:00, 179.59it/s, loss=7.6965]\n"
     ]
    },
    {
     "name": "stdout",
     "output_type": "stream",
     "text": [
      "[Epoch 142] Train Loss: 2.6404 | Val Loss: 7.8700\n",
      "Epoch 143/150\n"
     ]
    },
    {
     "name": "stderr",
     "output_type": "stream",
     "text": [
      "🚀 Training: 100%|██████████| 25/25 [00:00<00:00, 56.18it/s, loss=2.6641]\n",
      "🚀 Validation: 100%|██████████| 4/4 [00:00<00:00, 172.42it/s, loss=7.7393]\n"
     ]
    },
    {
     "name": "stdout",
     "output_type": "stream",
     "text": [
      "[Epoch 143] Train Loss: 2.6348 | Val Loss: 7.8958\n",
      "Epoch 144/150\n"
     ]
    },
    {
     "name": "stderr",
     "output_type": "stream",
     "text": [
      "🚀 Training: 100%|██████████| 25/25 [00:00<00:00, 55.68it/s, loss=2.7538]\n",
      "🚀 Validation: 100%|██████████| 4/4 [00:00<00:00, 165.78it/s, loss=7.7270]\n"
     ]
    },
    {
     "name": "stdout",
     "output_type": "stream",
     "text": [
      "[Epoch 144] Train Loss: 2.6246 | Val Loss: 7.8928\n",
      "Epoch 145/150\n"
     ]
    },
    {
     "name": "stderr",
     "output_type": "stream",
     "text": [
      "🚀 Training: 100%|██████████| 25/25 [00:00<00:00, 55.47it/s, loss=2.7331]\n",
      "🚀 Validation: 100%|██████████| 4/4 [00:00<00:00, 168.55it/s, loss=7.7320]\n"
     ]
    },
    {
     "name": "stdout",
     "output_type": "stream",
     "text": [
      "[Epoch 145] Train Loss: 2.6283 | Val Loss: 7.8972\n",
      "Epoch 146/150\n"
     ]
    },
    {
     "name": "stderr",
     "output_type": "stream",
     "text": [
      "🚀 Training: 100%|██████████| 25/25 [00:00<00:00, 56.83it/s, loss=2.8426]\n",
      "🚀 Validation: 100%|██████████| 4/4 [00:00<00:00, 173.76it/s, loss=7.7406]\n"
     ]
    },
    {
     "name": "stdout",
     "output_type": "stream",
     "text": [
      "[Epoch 146] Train Loss: 2.6208 | Val Loss: 7.9079\n",
      "Epoch 147/150\n"
     ]
    },
    {
     "name": "stderr",
     "output_type": "stream",
     "text": [
      "🚀 Training: 100%|██████████| 25/25 [00:00<00:00, 54.79it/s, loss=2.6343]\n",
      "🚀 Validation: 100%|██████████| 4/4 [00:00<00:00, 157.69it/s, loss=7.7652]\n"
     ]
    },
    {
     "name": "stdout",
     "output_type": "stream",
     "text": [
      "[Epoch 147] Train Loss: 2.6107 | Val Loss: 7.9160\n",
      "Epoch 148/150\n"
     ]
    },
    {
     "name": "stderr",
     "output_type": "stream",
     "text": [
      "🚀 Training: 100%|██████████| 25/25 [00:00<00:00, 55.67it/s, loss=2.7134]\n",
      "🚀 Validation: 100%|██████████| 4/4 [00:00<00:00, 172.79it/s, loss=7.7512]\n"
     ]
    },
    {
     "name": "stdout",
     "output_type": "stream",
     "text": [
      "[Epoch 148] Train Loss: 2.5974 | Val Loss: 7.9220\n",
      "Epoch 149/150\n"
     ]
    },
    {
     "name": "stderr",
     "output_type": "stream",
     "text": [
      "🚀 Training: 100%|██████████| 25/25 [00:00<00:00, 55.98it/s, loss=2.6331]\n",
      "🚀 Validation: 100%|██████████| 4/4 [00:00<00:00, 165.65it/s, loss=7.7703]\n"
     ]
    },
    {
     "name": "stdout",
     "output_type": "stream",
     "text": [
      "[Epoch 149] Train Loss: 2.5969 | Val Loss: 7.9168\n",
      "Epoch 150/150\n"
     ]
    },
    {
     "name": "stderr",
     "output_type": "stream",
     "text": [
      "🚀 Training: 100%|██████████| 25/25 [00:00<00:00, 54.93it/s, loss=2.6371]\n",
      "🚀 Validation: 100%|██████████| 4/4 [00:00<00:00, 178.11it/s, loss=7.7899]\n"
     ]
    },
    {
     "name": "stdout",
     "output_type": "stream",
     "text": [
      "[Epoch 150] Train Loss: 2.5823 | Val Loss: 7.9259\n",
      "Loss plot saved to saved/loss_dictbase.png\n"
     ]
    }
   ],
   "source": [
    "os.makedirs(SAVE_DIR, exist_ok=True)\n",
    "best_val_loss = float(\"inf\") \n",
    "best_model_path = None\n",
    "atl = {}\n",
    "avl = {}\n",
    "for epoch in range(1, EPOCHS + 1):\n",
    "    print(f\"Epoch {epoch}/{EPOCHS}\")\n",
    "    model.train()\n",
    "    total_train_loss = 0.0\n",
    "    train_bar = tqdm(train_loader, desc=\"🚀 Training\", \n",
    "                leave=True, total=len(train_loader))\n",
    "    for batch in train_bar:\n",
    "        optimizer.zero_grad()\n",
    "        src_batch = batch['src'].to(device)\n",
    "        tgt_batch = batch['tgt'].to(device)\n",
    "        \n",
    "        output, _ = model(src_batch, tgt_batch[:, :-1]) \n",
    "        output_dim = output.shape[-1]\n",
    "        output = output.reshape(-1, output_dim)\n",
    "        tgt_y = tgt_batch[:,1:].contiguous().view(-1)\n",
    "        loss = criterion(output, tgt_y)\n",
    "        loss.backward()\n",
    "        optimizer.step()\n",
    "        total_train_loss += loss.item()\n",
    "        train_bar.set_postfix(loss=f\"{loss.item():.4f}\")\n",
    "\n",
    "    avg_train_loss = total_train_loss / len(train_loader)\n",
    "    atl[epoch]=avg_train_loss\n",
    "    model.eval()\n",
    "    total_val_loss = 0.0\n",
    "    val_bar = tqdm(val_loader, desc=\"🚀 Validation\",\n",
    "              leave=True, total=len(val_loader))\n",
    "    with torch.no_grad():\n",
    "        for batch in val_bar:\n",
    "            src_batch = batch['src'].to(device)\n",
    "            tgt_batch = batch['tgt'].to(device)\n",
    "            \n",
    "            output, _ = model(src_batch, tgt_batch[:, :-1]) \n",
    "            output_dim = output.shape[-1]\n",
    "            output = output.reshape(-1, output_dim)\n",
    "            tgt_y = tgt_batch[:,1:].contiguous().view(-1)\n",
    "\n",
    "            loss = criterion(output, tgt_y)\n",
    "            total_val_loss += loss.item()\n",
    "            val_bar.set_postfix(loss=f\"{loss.item():.4f}\")\n",
    "    \n",
    "    avg_val_loss = total_val_loss / len(val_loader)\n",
    "    avl[epoch]=avg_val_loss\n",
    "    print(f\"[Epoch {epoch}] Train Loss: {avg_train_loss:.4f} | Val Loss: {avg_val_loss:.4f}\")\n",
    "    if avg_val_loss < best_val_loss:\n",
    "        if best_model_path and os.path.exists(best_model_path):\n",
    "            os.remove(best_model_path)\n",
    "        best_val_loss = avg_val_loss\n",
    "        best_model_path = os.path.join(SAVE_DIR, \"best_dictbase.pt\")\n",
    "        torch.save(model.state_dict(), best_model_path)\n",
    "        print(f\"  -> New best model saved at {best_model_path}\")\n",
    "\n",
    "utils.plot_loss(atl, avl, SAVE_DIR,\"loss_dictbase\")\n"
   ]
  },
  {
   "cell_type": "code",
   "execution_count": null,
   "metadata": {},
   "outputs": [],
   "source": []
  }
 ],
 "metadata": {
  "kernelspec": {
   "display_name": "torch_env",
   "language": "python",
   "name": "python3"
  },
  "language_info": {
   "codemirror_mode": {
    "name": "ipython",
    "version": 3
   },
   "file_extension": ".py",
   "mimetype": "text/x-python",
   "name": "python",
   "nbconvert_exporter": "python",
   "pygments_lexer": "ipython3",
   "version": "3.10.16"
  }
 },
 "nbformat": 4,
 "nbformat_minor": 2
}

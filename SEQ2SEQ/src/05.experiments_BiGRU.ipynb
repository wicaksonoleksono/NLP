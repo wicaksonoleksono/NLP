{
 "cells": [
  {
   "cell_type": "code",
   "execution_count": 1,
   "metadata": {},
   "outputs": [
    {
     "name": "stderr",
     "output_type": "stream",
     "text": [
      "[nltk_data] Downloading package punkt to\n",
      "[nltk_data]     /home/wicaksonolxn/nltk_data...\n",
      "[nltk_data]   Package punkt is already up-to-date!\n"
     ]
    }
   ],
   "source": [
    "import os\n",
    "import torch\n",
    "import torch.nn as nn\n",
    "import torch.optim as optim\n",
    "from tqdm import tqdm\n",
    "from dataloader import get_dataloaders\n",
    "import nltk\n",
    "from nltk.translate.bleu_score import sentence_bleu, SmoothingFunction\n",
    "from transformer import Transformer,TransformerEncoder,TransformerDecoder\n",
    "from bigru import Encoder,Decoder,Seq2Seq\n",
    "import utils\n",
    "import pickle\n",
    "nltk.download('punkt')  \n",
    "device = torch.device('cuda' if torch.cuda.is_available() else 'cpu')"
   ]
  },
  {
   "cell_type": "code",
   "execution_count": 2,
   "metadata": {},
   "outputs": [
    {
     "name": "stdout",
     "output_type": "stream",
     "text": [
      "TrainData - Max 'min' sentence length: 76\n",
      "TrainData - Max 'eng' sentence length: 107\n",
      "TestData - Max 'min' sentence length: 61\n",
      "TestData - Max 'eng' sentence length: 75\n",
      "ValidData - Max 'min' sentence length: 62\n",
      "ValidData - Max 'eng' sentence length: 81\n",
      "Number of examples in train_dataset,train origin,train_raw: 799 799 799\n",
      "Number of examples in valid_dataset: 100\n",
      "Number of examples in test_dataset: 100\n",
      "Model initialized on: cuda\n"
     ]
    }
   ],
   "source": [
    "BATCH_SIZE = 32 # butuh lebih banyak update \n",
    "EPOCHS=20\n",
    "DATA_PATH = \"dataset/\"  \n",
    "SAVE_DIR = \"saved\"\n",
    "train_loader, val_loader, test_loader = get_dataloaders(\n",
    "    data_path=DATA_PATH, \n",
    "    source_lang=\"min\", \n",
    "    target_lang=\"eng\", \n",
    "    batch_size=BATCH_SIZE, \n",
    "    device=device\n",
    ")\n",
    "SRC_VOCAB_SIZE = 4000  \n",
    "TGT_VOCAB_SIZE = 4000  \n",
    "EMBED_SIZE = 256\n",
    "ENC_HIDDEN = 64    \n",
    "DEC_HIDDEN = ENC_HIDDEN*2 #2 KALI KARENA DARI BIGRU EMBEDDINGNYA 2X   [x_1 -> x_2 ] cat [x_1 <- x_2 ]    \n",
    "N_LAYERS = 2\n",
    "DROP_OUT = 0.2\n",
    "encoder = Encoder(SRC_VOCAB_SIZE, EMBED_SIZE, ENC_HIDDEN, num_layers=N_LAYERS, dropout=DROP_OUT, pad_idx=utils.PAD_TOKEN)\n",
    "decoder = Decoder(TGT_VOCAB_SIZE, EMBED_SIZE, DEC_HIDDEN, num_layers=N_LAYERS, dropout=DROP_OUT, pad_idx=utils.PAD_TOKEN)\n",
    "model = Seq2Seq(encoder, decoder, device, ENC_HIDDEN, DEC_HIDDEN).to(device)\n",
    "optimizer = optim.Adam(model.parameters(), lr=5e-4)\n",
    "criterion = nn.CrossEntropyLoss(ignore_index=utils.PAD_TOKEN) \n",
    "print(\"Model initialized on:\", device)"
   ]
  },
  {
   "cell_type": "code",
   "execution_count": 3,
   "metadata": {},
   "outputs": [
    {
     "name": "stdout",
     "output_type": "stream",
     "text": [
      "torch.Size([32, 109]) torch.Size([32, 109])\n",
      "Padding: 0\n",
      "Start of Sequence: 1\n",
      "End of Sequence: 2\n",
      "Unknown: 3\n"
     ]
    }
   ],
   "source": [
    "tokens = {\n",
    "    \"Padding\": utils.PAD_TOKEN,\n",
    "    \"Start of Sequence\": utils.SOS_TOKEN,\n",
    "    \"End of Sequence\": utils.EOS_TOKEN,\n",
    "    \"Unknown\": utils.UNK_TOKEN\n",
    "}\n",
    "for i, batch in enumerate(train_loader):\n",
    "    if i < 8:\n",
    "        src = batch[\"src\"]\n",
    "        tgt = batch[\"tgt\"]\n",
    "        ss,fss=src[0,:],src.shape\n",
    "        st,fst=tgt[0,:],tgt.shape\n",
    "        print(fss,fst)\n",
    "    for name, token in tokens.items():\n",
    "        print(f\"{name}: {token}\")\n",
    "    else:\n",
    "        break"
   ]
  },
  {
   "cell_type": "markdown",
   "metadata": {},
   "source": [
    "testing input , is it correct"
   ]
  },
  {
   "cell_type": "code",
   "execution_count": 4,
   "metadata": {},
   "outputs": [
    {
     "name": "stdout",
     "output_type": "stream",
     "text": [
      "torch.Size([32, 109])\n",
      "torch.Size([32, 109])\n",
      "torch.Size([32, 109])\n",
      "torch.Size([32, 109])\n",
      "torch.Size([32, 109])\n",
      "torch.Size([32, 109])\n",
      "torch.Size([32, 109])\n"
     ]
    }
   ],
   "source": [
    "data_iter = iter(train_loader)\n",
    "for i in range(7):\n",
    "    batch = next(data_iter)\n",
    "    print(batch[\"src\"].shape)\n"
   ]
  },
  {
   "cell_type": "code",
   "execution_count": 5,
   "metadata": {},
   "outputs": [
    {
     "name": "stdout",
     "output_type": "stream",
     "text": [
      "tensor([1038,  190,  851,  ...,    0,    0,    0], device='cuda:0')\n"
     ]
    }
   ],
   "source": [
    "for i,batch in enumerate(train_loader):\n",
    "    if i <1:\n",
    "        src_batch = batch['src'].to(device)\n",
    "        tgt_batch = batch['tgt'].to(device)\n",
    "        output,_= model(src_batch, tgt_batch[:, :-1]) \n",
    "        output_dim = output.shape[-1]\n",
    "        output = output.reshape(-1, output_dim)\n",
    "        tgt_y = tgt_batch[:,1:].contiguous().view(-1)\n",
    "        print(tgt_y)"
   ]
  },
  {
   "cell_type": "code",
   "execution_count": 6,
   "metadata": {},
   "outputs": [
    {
     "name": "stdout",
     "output_type": "stream",
     "text": [
      "Epoch 1/20\n"
     ]
    },
    {
     "name": "stderr",
     "output_type": "stream",
     "text": [
      "🚀 Training: 100%|██████████| 25/25 [00:04<00:00,  6.02it/s, loss=7.2510]\n",
      "🚀 Validation: 100%|██████████| 4/4 [00:00<00:00, 27.12it/s, loss=7.1819]\n"
     ]
    },
    {
     "name": "stdout",
     "output_type": "stream",
     "text": [
      "[Epoch 1] Train Loss: 7.9795 | Val Loss: 7.2310\n",
      "  -> New best model saved at saved/best_gru.pt\n",
      "Epoch 2/20\n"
     ]
    },
    {
     "name": "stderr",
     "output_type": "stream",
     "text": [
      "🚀 Training: 100%|██████████| 25/25 [00:04<00:00,  5.91it/s, loss=6.3914]\n",
      "🚀 Validation: 100%|██████████| 4/4 [00:00<00:00, 27.27it/s, loss=6.5234]\n"
     ]
    },
    {
     "name": "stdout",
     "output_type": "stream",
     "text": [
      "[Epoch 2] Train Loss: 6.6391 | Val Loss: 6.5592\n",
      "  -> New best model saved at saved/best_gru.pt\n",
      "Epoch 3/20\n"
     ]
    },
    {
     "name": "stderr",
     "output_type": "stream",
     "text": [
      "🚀 Training: 100%|██████████| 25/25 [00:04<00:00,  5.87it/s, loss=6.2874]\n",
      "🚀 Validation: 100%|██████████| 4/4 [00:00<00:00, 29.09it/s, loss=6.5405]\n"
     ]
    },
    {
     "name": "stdout",
     "output_type": "stream",
     "text": [
      "[Epoch 3] Train Loss: 6.3214 | Val Loss: 6.5672\n",
      "Epoch 4/20\n"
     ]
    },
    {
     "name": "stderr",
     "output_type": "stream",
     "text": [
      "🚀 Training: 100%|██████████| 25/25 [00:04<00:00,  5.97it/s, loss=6.4059]\n",
      "🚀 Validation: 100%|██████████| 4/4 [00:00<00:00, 26.04it/s, loss=6.5450]\n"
     ]
    },
    {
     "name": "stdout",
     "output_type": "stream",
     "text": [
      "[Epoch 4] Train Loss: 6.2947 | Val Loss: 6.5860\n",
      "Epoch 5/20\n"
     ]
    },
    {
     "name": "stderr",
     "output_type": "stream",
     "text": [
      "🚀 Training: 100%|██████████| 25/25 [00:04<00:00,  6.11it/s, loss=6.3105]\n",
      "🚀 Validation: 100%|██████████| 4/4 [00:00<00:00, 29.98it/s, loss=6.5837]\n"
     ]
    },
    {
     "name": "stdout",
     "output_type": "stream",
     "text": [
      "[Epoch 5] Train Loss: 6.2888 | Val Loss: 6.6201\n",
      "Epoch 6/20\n"
     ]
    },
    {
     "name": "stderr",
     "output_type": "stream",
     "text": [
      "🚀 Training: 100%|██████████| 25/25 [00:04<00:00,  6.12it/s, loss=6.3062]\n",
      "🚀 Validation: 100%|██████████| 4/4 [00:00<00:00, 24.45it/s, loss=6.5972]\n"
     ]
    },
    {
     "name": "stdout",
     "output_type": "stream",
     "text": [
      "[Epoch 6] Train Loss: 6.2799 | Val Loss: 6.6346\n",
      "Epoch 7/20\n"
     ]
    },
    {
     "name": "stderr",
     "output_type": "stream",
     "text": [
      "🚀 Training: 100%|██████████| 25/25 [00:04<00:00,  5.99it/s, loss=6.1678]\n",
      "🚀 Validation: 100%|██████████| 4/4 [00:00<00:00, 29.51it/s, loss=6.6078]\n"
     ]
    },
    {
     "name": "stdout",
     "output_type": "stream",
     "text": [
      "[Epoch 7] Train Loss: 6.2763 | Val Loss: 6.6476\n",
      "Epoch 8/20\n"
     ]
    },
    {
     "name": "stderr",
     "output_type": "stream",
     "text": [
      "🚀 Training: 100%|██████████| 25/25 [00:04<00:00,  5.61it/s, loss=6.3248]\n",
      "🚀 Validation: 100%|██████████| 4/4 [00:00<00:00, 29.60it/s, loss=6.6260]\n"
     ]
    },
    {
     "name": "stdout",
     "output_type": "stream",
     "text": [
      "[Epoch 8] Train Loss: 6.2627 | Val Loss: 6.6610\n",
      "Epoch 9/20\n"
     ]
    },
    {
     "name": "stderr",
     "output_type": "stream",
     "text": [
      "🚀 Training: 100%|██████████| 25/25 [00:04<00:00,  5.58it/s, loss=6.2467]\n",
      "🚀 Validation: 100%|██████████| 4/4 [00:00<00:00, 24.07it/s, loss=6.6355]\n"
     ]
    },
    {
     "name": "stdout",
     "output_type": "stream",
     "text": [
      "[Epoch 9] Train Loss: 6.2560 | Val Loss: 6.6769\n",
      "Epoch 10/20\n"
     ]
    },
    {
     "name": "stderr",
     "output_type": "stream",
     "text": [
      "🚀 Training: 100%|██████████| 25/25 [00:04<00:00,  5.18it/s, loss=6.2725]\n",
      "🚀 Validation: 100%|██████████| 4/4 [00:00<00:00, 19.18it/s, loss=6.6549]\n"
     ]
    },
    {
     "name": "stdout",
     "output_type": "stream",
     "text": [
      "[Epoch 10] Train Loss: 6.2498 | Val Loss: 6.6864\n",
      "Epoch 11/20\n"
     ]
    },
    {
     "name": "stderr",
     "output_type": "stream",
     "text": [
      "🚀 Training: 100%|██████████| 25/25 [00:04<00:00,  5.20it/s, loss=6.2107]\n",
      "🚀 Validation: 100%|██████████| 4/4 [00:00<00:00, 20.89it/s, loss=6.6677]\n"
     ]
    },
    {
     "name": "stdout",
     "output_type": "stream",
     "text": [
      "[Epoch 11] Train Loss: 6.2418 | Val Loss: 6.6974\n",
      "Epoch 12/20\n"
     ]
    },
    {
     "name": "stderr",
     "output_type": "stream",
     "text": [
      "🚀 Training: 100%|██████████| 25/25 [00:04<00:00,  5.35it/s, loss=6.3209]\n",
      "🚀 Validation: 100%|██████████| 4/4 [00:00<00:00, 20.15it/s, loss=6.6672]\n"
     ]
    },
    {
     "name": "stdout",
     "output_type": "stream",
     "text": [
      "[Epoch 12] Train Loss: 6.2263 | Val Loss: 6.6992\n",
      "Epoch 13/20\n"
     ]
    },
    {
     "name": "stderr",
     "output_type": "stream",
     "text": [
      "🚀 Training: 100%|██████████| 25/25 [00:05<00:00,  4.87it/s, loss=6.3136]\n",
      "🚀 Validation: 100%|██████████| 4/4 [00:00<00:00, 18.82it/s, loss=6.6878]\n"
     ]
    },
    {
     "name": "stdout",
     "output_type": "stream",
     "text": [
      "[Epoch 13] Train Loss: 6.2120 | Val Loss: 6.7098\n",
      "Epoch 14/20\n"
     ]
    },
    {
     "name": "stderr",
     "output_type": "stream",
     "text": [
      "🚀 Training: 100%|██████████| 25/25 [00:04<00:00,  5.18it/s, loss=6.1218]\n",
      "🚀 Validation: 100%|██████████| 4/4 [00:00<00:00, 25.38it/s, loss=6.6959]\n"
     ]
    },
    {
     "name": "stdout",
     "output_type": "stream",
     "text": [
      "[Epoch 14] Train Loss: 6.2006 | Val Loss: 6.7158\n",
      "Epoch 15/20\n"
     ]
    },
    {
     "name": "stderr",
     "output_type": "stream",
     "text": [
      "🚀 Training: 100%|██████████| 25/25 [00:04<00:00,  5.90it/s, loss=6.1282]\n",
      "🚀 Validation: 100%|██████████| 4/4 [00:00<00:00, 23.64it/s, loss=6.7036]\n"
     ]
    },
    {
     "name": "stdout",
     "output_type": "stream",
     "text": [
      "[Epoch 15] Train Loss: 6.1898 | Val Loss: 6.7168\n",
      "Epoch 16/20\n"
     ]
    },
    {
     "name": "stderr",
     "output_type": "stream",
     "text": [
      "🚀 Training: 100%|██████████| 25/25 [00:04<00:00,  5.62it/s, loss=6.0973]\n",
      "🚀 Validation: 100%|██████████| 4/4 [00:00<00:00, 22.68it/s, loss=6.7006]\n"
     ]
    },
    {
     "name": "stdout",
     "output_type": "stream",
     "text": [
      "[Epoch 16] Train Loss: 6.1732 | Val Loss: 6.7182\n",
      "Epoch 17/20\n"
     ]
    },
    {
     "name": "stderr",
     "output_type": "stream",
     "text": [
      "🚀 Training: 100%|██████████| 25/25 [00:04<00:00,  5.83it/s, loss=6.2337]\n",
      "🚀 Validation: 100%|██████████| 4/4 [00:00<00:00, 23.44it/s, loss=6.7027]\n"
     ]
    },
    {
     "name": "stdout",
     "output_type": "stream",
     "text": [
      "[Epoch 17] Train Loss: 6.1595 | Val Loss: 6.7232\n",
      "Epoch 18/20\n"
     ]
    },
    {
     "name": "stderr",
     "output_type": "stream",
     "text": [
      "🚀 Training: 100%|██████████| 25/25 [00:04<00:00,  5.77it/s, loss=6.0963]\n",
      "🚀 Validation: 100%|██████████| 4/4 [00:00<00:00, 25.49it/s, loss=6.7224]\n"
     ]
    },
    {
     "name": "stdout",
     "output_type": "stream",
     "text": [
      "[Epoch 18] Train Loss: 6.1383 | Val Loss: 6.7332\n",
      "Epoch 19/20\n"
     ]
    },
    {
     "name": "stderr",
     "output_type": "stream",
     "text": [
      "🚀 Training: 100%|██████████| 25/25 [00:04<00:00,  5.71it/s, loss=6.1956]\n",
      "🚀 Validation: 100%|██████████| 4/4 [00:00<00:00, 19.79it/s, loss=6.7300]\n"
     ]
    },
    {
     "name": "stdout",
     "output_type": "stream",
     "text": [
      "[Epoch 19] Train Loss: 6.1224 | Val Loss: 6.7321\n",
      "Epoch 20/20\n"
     ]
    },
    {
     "name": "stderr",
     "output_type": "stream",
     "text": [
      "🚀 Training: 100%|██████████| 25/25 [00:04<00:00,  5.79it/s, loss=6.1344]\n",
      "🚀 Validation: 100%|██████████| 4/4 [00:00<00:00, 26.98it/s, loss=6.7168]\n"
     ]
    },
    {
     "name": "stdout",
     "output_type": "stream",
     "text": [
      "[Epoch 20] Train Loss: 6.1076 | Val Loss: 6.7244\n",
      "Loss plot saved to saved/loss_bigru.png\n"
     ]
    }
   ],
   "source": [
    "import os\n",
    "import torch\n",
    "from tqdm import tqdm\n",
    "os.makedirs(SAVE_DIR, exist_ok=True)\n",
    "best_val_loss = float(\"inf\") \n",
    "best_model_path = None\n",
    "atl = {}\n",
    "avl = {}\n",
    "for epoch in range(1, EPOCHS + 1):\n",
    "    print(f\"Epoch {epoch}/{EPOCHS}\")\n",
    "    model.train()\n",
    "    total_train_loss = 0.0\n",
    "    train_bar = tqdm(train_loader, desc=\"🚀 Training\", \n",
    "                leave=True, total=len(train_loader))\n",
    "    for batch in train_bar:\n",
    "        optimizer.zero_grad()\n",
    "        src_batch = batch['src'].to(device)\n",
    "        tgt_batch = batch['tgt'].to(device)\n",
    "        \n",
    "        output, _ = model(src_batch, tgt_batch[:, :-1]) \n",
    "        output_dim = output.shape[-1]\n",
    "        output = output.reshape(-1, output_dim)\n",
    "        tgt_y = tgt_batch[:,1:].contiguous().view(-1)\n",
    "\n",
    "        loss = criterion(output, tgt_y)\n",
    "        loss.backward()\n",
    "        optimizer.step()\n",
    "        total_train_loss += loss.item()\n",
    "        train_bar.set_postfix(loss=f\"{loss.item():.4f}\")\n",
    "\n",
    "    avg_train_loss = total_train_loss / len(train_loader)\n",
    "    atl[epoch]=avg_train_loss\n",
    "\n",
    "    model.eval()\n",
    "    total_val_loss = 0.0\n",
    "    val_bar = tqdm(val_loader, desc=\"🚀 Validation\",\n",
    "              leave=True, total=len(val_loader))\n",
    "    with torch.no_grad():\n",
    "        for batch in val_bar:\n",
    "            src_batch = batch['src'].to(device)\n",
    "            tgt_batch = batch['tgt'].to(device)\n",
    "            \n",
    "            output, _ = model(src_batch, tgt_batch[:, :-1]) \n",
    "            output_dim = output.shape[-1]\n",
    "            output = output.reshape(-1, output_dim)\n",
    "            tgt_y = tgt_batch[:,1:].contiguous().view(-1)\n",
    "\n",
    "            loss = criterion(output, tgt_y)\n",
    "            total_val_loss += loss.item()\n",
    "            val_bar.set_postfix(loss=f\"{loss.item():.4f}\")\n",
    "    \n",
    "    avg_val_loss = total_val_loss / len(val_loader)\n",
    "    avl[epoch]=avg_val_loss\n",
    "\n",
    "    print(f\"[Epoch {epoch}] Train Loss: {avg_train_loss:.4f} | Val Loss: {avg_val_loss:.4f}\")\n",
    "    if avg_val_loss < best_val_loss:\n",
    "        if best_model_path and os.path.exists(best_model_path):\n",
    "            os.remove(best_model_path)\n",
    "        best_val_loss = avg_val_loss\n",
    "        best_model_path = os.path.join(SAVE_DIR, \"best_gru.pt\")\n",
    "        torch.save(model.state_dict(), best_model_path)\n",
    "        print(f\"  -> New best model saved at {best_model_path}\")\n",
    "utils.plot_loss(atl, avl, SAVE_DIR,\"loss_bigru\")"
   ]
  },
  {
   "cell_type": "code",
   "execution_count": null,
   "metadata": {},
   "outputs": [],
   "source": []
  }
 ],
 "metadata": {
  "kernelspec": {
   "display_name": "torch_env",
   "language": "python",
   "name": "python3"
  },
  "language_info": {
   "codemirror_mode": {
    "name": "ipython",
    "version": 3
   },
   "file_extension": ".py",
   "mimetype": "text/x-python",
   "name": "python",
   "nbconvert_exporter": "python",
   "pygments_lexer": "ipython3",
   "version": "3.10.16"
  }
 },
 "nbformat": 4,
 "nbformat_minor": 2
}

{
 "cells": [
  {
   "cell_type": "code",
   "execution_count": null,
   "metadata": {},
   "outputs": [],
   "source": [
    "from datasets import load_dataset\n",
    "from preprocessing import Aggregate,create_dictionary\n",
    "import os\n",
    "pth = \"dataset\"\n",
    "l_1=\"min\"\n",
    "l_2=\"eng\"\n",
    "from_split=\"test\" \n",
    "to_split=\"train\"   \n",
    "num_to_move=300   \n",
    "dataset = load_dataset(\"indonlp/NusaX-MT\",name=f\"{l_1}-{l_2}\")\n",
    "agg = Aggregate(pth,dataset)\n",
    "saved_folder = agg(l_1,l_2,from_split,to_split,num_to_move)\n",
    "input_dic, output_dic,_,_=create_dictionary(source_lang=l_1, target_lang=l_2,data_path=pth)"
   ]
  }
 ],
 "metadata": {
  "language_info": {
   "name": "python"
  }
 },
 "nbformat": 4,
 "nbformat_minor": 2
}

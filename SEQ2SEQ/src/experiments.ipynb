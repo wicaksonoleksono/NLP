{
 "cells": [
  {
   "cell_type": "code",
   "execution_count": 1,
   "metadata": {},
   "outputs": [
    {
     "name": "stderr",
     "output_type": "stream",
     "text": [
      "[nltk_data] Downloading package punkt to\n",
      "[nltk_data]     /home/wicaksonolxn/nltk_data...\n",
      "[nltk_data]   Package punkt is already up-to-date!\n"
     ]
    }
   ],
   "source": [
    "import os\n",
    "import torch\n",
    "import torch.nn as nn\n",
    "import torch.optim as optim\n",
    "from tqdm import tqdm\n",
    "from dataloader import get_dataloaders\n",
    "import nltk\n",
    "from nltk.translate.bleu_score import sentence_bleu, SmoothingFunction\n",
    "from transformer import Transformer,TransformerEncoder,TransformerDecoder\n",
    "import utils\n",
    "import pickle\n",
    "nltk.download('punkt')  \n",
    "device = torch.device('cuda' if torch.cuda.is_available() else 'cpu')"
   ]
  },
  {
   "cell_type": "code",
   "execution_count": null,
   "metadata": {},
   "outputs": [],
   "source": []
  },
  {
   "cell_type": "code",
   "execution_count": 2,
   "metadata": {},
   "outputs": [
    {
     "name": "stdout",
     "output_type": "stream",
     "text": [
      "TrainData - Max 'min' sentence length: 76\n",
      "TrainData - Max 'eng' sentence length: 107\n",
      "TestData - Max 'min' sentence length: 61\n",
      "TestData - Max 'eng' sentence length: 75\n",
      "ValidData - Max 'min' sentence length: 71\n",
      "ValidData - Max 'eng' sentence length: 80\n",
      "Number of examples in train_dataset,train origin,train_raw: 800 800 800\n",
      "Number of examples in valid_dataset: 100\n",
      "Number of examples in test_dataset: 100\n",
      "Model initialized on: cuda\n"
     ]
    }
   ],
   "source": [
    "BATCH_SIZE = 64 # butuh lebih banyak update \n",
    "DATA_PATH = \"dataset/\"  \n",
    "train_loader, val_loader, test_loader = get_dataloaders(\n",
    "    data_path=DATA_PATH, \n",
    "    source_lang=\"min\", \n",
    "    target_lang=\"eng\", \n",
    "    batch_size=BATCH_SIZE, \n",
    "    device=device\n",
    ")\n",
    "SRC_VOCAB_SIZE = 5000\n",
    "TGT_VOCAB_SIZE = 5000\n",
    "N_LAYERS = 4\n",
    "N_HEADS = 2\n",
    "D_MODEL = 64\n",
    "FFN_HIDDEN = 32\n",
    "DROPOUT = 0.1\n",
    "EPOCHS = 100\n",
    "\n",
    "SAVE_DIR = \"saved\"\n",
    "encoder = TransformerEncoder(SRC_VOCAB_SIZE,D_MODEL,N_LAYERS,N_HEADS,FFN_HIDDEN,DROPOUT,device)\n",
    "decoder = TransformerDecoder(TGT_VOCAB_SIZE,D_MODEL,N_LAYERS,N_HEADS,FFN_HIDDEN,DROPOUT,device)\n",
    "model = Transformer(encoder,decoder,device,utils.PAD_TOKEN).to(device)\n",
    "optimizer = optim.Adam(model.parameters(), lr=5e-4)\n",
    "criterion = nn.CrossEntropyLoss(ignore_index=utils.PAD_TOKEN) \n",
    "print(\"Model initialized on:\", device)\n"
   ]
  },
  {
   "cell_type": "code",
   "execution_count": 3,
   "metadata": {},
   "outputs": [
    {
     "name": "stdout",
     "output_type": "stream",
     "text": [
      "torch.Size([64, 109]) torch.Size([64, 109])\n",
      "Padding: 0\n",
      "Start of Sequence: 1\n",
      "End of Sequence: 2\n",
      "Unknown: 3\n"
     ]
    }
   ],
   "source": [
    "tokens = {\n",
    "    \"Padding\": utils.PAD_TOKEN,\n",
    "    \"Start of Sequence\": utils.SOS_TOKEN,\n",
    "    \"End of Sequence\": utils.EOS_TOKEN,\n",
    "    \"Unknown\": utils.UNK_TOKEN\n",
    "}\n",
    "for i, batch in enumerate(train_loader):\n",
    "    if i < 8:\n",
    "        src = batch[\"src\"]\n",
    "        tgt = batch[\"tgt\"]\n",
    "        ss,fss=src[0,:],src.shape\n",
    "        st,fst=tgt[0,:],tgt.shape\n",
    "        print(fss,fst)\n",
    "    for name, token in tokens.items():\n",
    "        print(f\"{name}: {token}\")\n",
    "    else:\n",
    "        break"
   ]
  },
  {
   "cell_type": "markdown",
   "metadata": {},
   "source": [
    "testing input , is it correct"
   ]
  },
  {
   "cell_type": "code",
   "execution_count": 4,
   "metadata": {},
   "outputs": [
    {
     "name": "stdout",
     "output_type": "stream",
     "text": [
      "torch.Size([64, 109])\n",
      "torch.Size([64, 109])\n",
      "torch.Size([64, 109])\n",
      "torch.Size([64, 109])\n",
      "torch.Size([64, 109])\n",
      "torch.Size([64, 109])\n",
      "torch.Size([64, 109])\n"
     ]
    }
   ],
   "source": [
    "data_iter = iter(train_loader)\n",
    "for i in range(7):\n",
    "    batch = next(data_iter)\n",
    "    print(batch[\"src\"].shape)\n"
   ]
  },
  {
   "cell_type": "code",
   "execution_count": 5,
   "metadata": {},
   "outputs": [
    {
     "name": "stdout",
     "output_type": "stream",
     "text": [
      "tensor([633, 599,  43,  ...,   0,   0,   0], device='cuda:0')\n"
     ]
    }
   ],
   "source": [
    "for i,batch in enumerate(train_loader):\n",
    "    if i <1:\n",
    "        src_batch = batch['src'].to(device)\n",
    "        tgt_batch = batch['tgt'].to(device)\n",
    "        output, _ = model(src_batch, tgt_batch[:, :-1]) \n",
    "        output_dim = output.shape[-1]\n",
    "        output = output.reshape(-1, output_dim)\n",
    "        tgt_y = tgt_batch[:,1:].contiguous().view(-1)\n",
    "        print(tgt_y)"
   ]
  },
  {
   "cell_type": "code",
   "execution_count": 6,
   "metadata": {},
   "outputs": [
    {
     "name": "stdout",
     "output_type": "stream",
     "text": [
      "Epoch 1/100\n"
     ]
    },
    {
     "name": "stderr",
     "output_type": "stream",
     "text": [
      "🚀 Training: 100%|██████████| 13/13 [00:10<00:00,  1.27it/s, loss=8.1624]\n",
      "🚀 Validation: 100%|██████████| 2/2 [00:00<00:00,  4.87it/s, loss=8.1321]\n"
     ]
    },
    {
     "name": "stdout",
     "output_type": "stream",
     "text": [
      "[Epoch 1] Train Loss: 8.4415 | Val Loss: 8.1621\n",
      "  -> New best model saved at saved/best.pt\n",
      "Epoch 2/100\n"
     ]
    },
    {
     "name": "stderr",
     "output_type": "stream",
     "text": [
      "🚀 Training: 100%|██████████| 13/13 [00:09<00:00,  1.30it/s, loss=7.7090]\n",
      "🚀 Validation: 100%|██████████| 2/2 [00:00<00:00,  4.87it/s, loss=7.6861]\n"
     ]
    },
    {
     "name": "stdout",
     "output_type": "stream",
     "text": [
      "[Epoch 2] Train Loss: 7.8893 | Val Loss: 7.7245\n",
      "  -> New best model saved at saved/best.pt\n",
      "Epoch 3/100\n"
     ]
    },
    {
     "name": "stderr",
     "output_type": "stream",
     "text": [
      "🚀 Training: 100%|██████████| 13/13 [00:09<00:00,  1.30it/s, loss=7.3720]\n",
      "🚀 Validation: 100%|██████████| 2/2 [00:00<00:00,  4.86it/s, loss=7.3409]\n"
     ]
    },
    {
     "name": "stdout",
     "output_type": "stream",
     "text": [
      "[Epoch 3] Train Loss: 7.4790 | Val Loss: 7.3877\n",
      "  -> New best model saved at saved/best.pt\n",
      "Epoch 4/100\n"
     ]
    },
    {
     "name": "stderr",
     "output_type": "stream",
     "text": [
      "🚀 Training: 100%|██████████| 13/13 [00:09<00:00,  1.30it/s, loss=7.0728]\n",
      "🚀 Validation: 100%|██████████| 2/2 [00:00<00:00,  4.88it/s, loss=7.0584]\n"
     ]
    },
    {
     "name": "stdout",
     "output_type": "stream",
     "text": [
      "[Epoch 4] Train Loss: 7.1302 | Val Loss: 7.1127\n",
      "  -> New best model saved at saved/best.pt\n",
      "Epoch 5/100\n"
     ]
    },
    {
     "name": "stderr",
     "output_type": "stream",
     "text": [
      "🚀 Training: 100%|██████████| 13/13 [00:09<00:00,  1.30it/s, loss=6.8162]\n",
      "🚀 Validation: 100%|██████████| 2/2 [00:00<00:00,  4.86it/s, loss=6.8574]\n"
     ]
    },
    {
     "name": "stdout",
     "output_type": "stream",
     "text": [
      "[Epoch 5] Train Loss: 6.8526 | Val Loss: 6.9195\n",
      "  -> New best model saved at saved/best.pt\n",
      "Epoch 6/100\n"
     ]
    },
    {
     "name": "stderr",
     "output_type": "stream",
     "text": [
      "🚀 Training: 100%|██████████| 13/13 [00:10<00:00,  1.30it/s, loss=6.5265]\n",
      "🚀 Validation: 100%|██████████| 2/2 [00:00<00:00,  4.87it/s, loss=6.7315]\n"
     ]
    },
    {
     "name": "stdout",
     "output_type": "stream",
     "text": [
      "[Epoch 6] Train Loss: 6.6489 | Val Loss: 6.8009\n",
      "  -> New best model saved at saved/best.pt\n",
      "Epoch 7/100\n"
     ]
    },
    {
     "name": "stderr",
     "output_type": "stream",
     "text": [
      "🚀 Training: 100%|██████████| 13/13 [00:10<00:00,  1.30it/s, loss=6.4486]\n",
      "🚀 Validation: 100%|██████████| 2/2 [00:00<00:00,  4.87it/s, loss=6.6657]\n"
     ]
    },
    {
     "name": "stdout",
     "output_type": "stream",
     "text": [
      "[Epoch 7] Train Loss: 6.5253 | Val Loss: 6.7400\n",
      "  -> New best model saved at saved/best.pt\n",
      "Epoch 8/100\n"
     ]
    },
    {
     "name": "stderr",
     "output_type": "stream",
     "text": [
      "🚀 Training: 100%|██████████| 13/13 [00:09<00:00,  1.30it/s, loss=6.4830]\n",
      "🚀 Validation: 100%|██████████| 2/2 [00:00<00:00,  4.89it/s, loss=6.6397]\n"
     ]
    },
    {
     "name": "stdout",
     "output_type": "stream",
     "text": [
      "[Epoch 8] Train Loss: 6.4546 | Val Loss: 6.7175\n",
      "  -> New best model saved at saved/best.pt\n",
      "Epoch 9/100\n"
     ]
    },
    {
     "name": "stderr",
     "output_type": "stream",
     "text": [
      "🚀 Training: 100%|██████████| 13/13 [00:09<00:00,  1.30it/s, loss=6.3848]\n",
      "🚀 Validation: 100%|██████████| 2/2 [00:00<00:00,  4.89it/s, loss=6.6313]\n"
     ]
    },
    {
     "name": "stdout",
     "output_type": "stream",
     "text": [
      "[Epoch 9] Train Loss: 6.4137 | Val Loss: 6.7104\n",
      "  -> New best model saved at saved/best.pt\n",
      "Epoch 10/100\n"
     ]
    },
    {
     "name": "stderr",
     "output_type": "stream",
     "text": [
      "🚀 Training: 100%|██████████| 13/13 [00:09<00:00,  1.30it/s, loss=6.3178]\n",
      "🚀 Validation: 100%|██████████| 2/2 [00:00<00:00,  4.89it/s, loss=6.6247]\n"
     ]
    },
    {
     "name": "stdout",
     "output_type": "stream",
     "text": [
      "[Epoch 10] Train Loss: 6.3857 | Val Loss: 6.7061\n",
      "  -> New best model saved at saved/best.pt\n",
      "Epoch 11/100\n"
     ]
    },
    {
     "name": "stderr",
     "output_type": "stream",
     "text": [
      "🚀 Training: 100%|██████████| 13/13 [00:09<00:00,  1.30it/s, loss=6.4317]\n",
      "🚀 Validation: 100%|██████████| 2/2 [00:00<00:00,  4.88it/s, loss=6.6100]\n"
     ]
    },
    {
     "name": "stdout",
     "output_type": "stream",
     "text": [
      "[Epoch 11] Train Loss: 6.3707 | Val Loss: 6.6934\n",
      "  -> New best model saved at saved/best.pt\n",
      "Epoch 12/100\n"
     ]
    },
    {
     "name": "stderr",
     "output_type": "stream",
     "text": [
      "🚀 Training: 100%|██████████| 13/13 [00:10<00:00,  1.30it/s, loss=6.4775]\n",
      "🚀 Validation: 100%|██████████| 2/2 [00:00<00:00,  4.88it/s, loss=6.6026]\n"
     ]
    },
    {
     "name": "stdout",
     "output_type": "stream",
     "text": [
      "[Epoch 12] Train Loss: 6.3521 | Val Loss: 6.6859\n",
      "  -> New best model saved at saved/best.pt\n",
      "Epoch 13/100\n"
     ]
    },
    {
     "name": "stderr",
     "output_type": "stream",
     "text": [
      "🚀 Training: 100%|██████████| 13/13 [00:09<00:00,  1.30it/s, loss=6.2861]\n",
      "🚀 Validation: 100%|██████████| 2/2 [00:00<00:00,  4.85it/s, loss=6.5919]\n"
     ]
    },
    {
     "name": "stdout",
     "output_type": "stream",
     "text": [
      "[Epoch 13] Train Loss: 6.3229 | Val Loss: 6.6775\n",
      "  -> New best model saved at saved/best.pt\n",
      "Epoch 14/100\n"
     ]
    },
    {
     "name": "stderr",
     "output_type": "stream",
     "text": [
      "🚀 Training: 100%|██████████| 13/13 [00:03<00:00,  4.33it/s, loss=6.3659]\n",
      "🚀 Validation: 100%|██████████| 2/2 [00:00<00:00, 61.33it/s, loss=6.5693]\n"
     ]
    },
    {
     "name": "stdout",
     "output_type": "stream",
     "text": [
      "[Epoch 14] Train Loss: 6.3011 | Val Loss: 6.6575\n",
      "  -> New best model saved at saved/best.pt\n",
      "Epoch 15/100\n"
     ]
    },
    {
     "name": "stderr",
     "output_type": "stream",
     "text": [
      "🚀 Training: 100%|██████████| 13/13 [00:00<00:00, 18.98it/s, loss=6.3890]\n",
      "🚀 Validation: 100%|██████████| 2/2 [00:00<00:00, 59.24it/s, loss=6.5548]\n"
     ]
    },
    {
     "name": "stdout",
     "output_type": "stream",
     "text": [
      "[Epoch 15] Train Loss: 6.2699 | Val Loss: 6.6440\n",
      "  -> New best model saved at saved/best.pt\n",
      "Epoch 16/100\n"
     ]
    },
    {
     "name": "stderr",
     "output_type": "stream",
     "text": [
      "🚀 Training: 100%|██████████| 13/13 [00:00<00:00, 18.70it/s, loss=6.2006]\n",
      "🚀 Validation: 100%|██████████| 2/2 [00:00<00:00, 58.29it/s, loss=6.5331]\n"
     ]
    },
    {
     "name": "stdout",
     "output_type": "stream",
     "text": [
      "[Epoch 16] Train Loss: 6.2291 | Val Loss: 6.6245\n",
      "  -> New best model saved at saved/best.pt\n",
      "Epoch 17/100\n"
     ]
    },
    {
     "name": "stderr",
     "output_type": "stream",
     "text": [
      "🚀 Training: 100%|██████████| 13/13 [00:00<00:00, 18.79it/s, loss=6.2695]\n",
      "🚀 Validation: 100%|██████████| 2/2 [00:00<00:00, 61.45it/s, loss=6.5080]\n"
     ]
    },
    {
     "name": "stdout",
     "output_type": "stream",
     "text": [
      "[Epoch 17] Train Loss: 6.1966 | Val Loss: 6.5991\n",
      "  -> New best model saved at saved/best.pt\n",
      "Epoch 18/100\n"
     ]
    },
    {
     "name": "stderr",
     "output_type": "stream",
     "text": [
      "🚀 Training: 100%|██████████| 13/13 [00:00<00:00, 19.16it/s, loss=6.1544]\n",
      "🚀 Validation: 100%|██████████| 2/2 [00:00<00:00, 59.37it/s, loss=6.4933]\n"
     ]
    },
    {
     "name": "stdout",
     "output_type": "stream",
     "text": [
      "[Epoch 18] Train Loss: 6.1534 | Val Loss: 6.5842\n",
      "  -> New best model saved at saved/best.pt\n",
      "Epoch 19/100\n"
     ]
    },
    {
     "name": "stderr",
     "output_type": "stream",
     "text": [
      "🚀 Training: 100%|██████████| 13/13 [00:00<00:00, 18.98it/s, loss=6.1443]\n",
      "🚀 Validation: 100%|██████████| 2/2 [00:00<00:00, 60.19it/s, loss=6.4728]\n"
     ]
    },
    {
     "name": "stdout",
     "output_type": "stream",
     "text": [
      "[Epoch 19] Train Loss: 6.1127 | Val Loss: 6.5633\n",
      "  -> New best model saved at saved/best.pt\n",
      "Epoch 20/100\n"
     ]
    },
    {
     "name": "stderr",
     "output_type": "stream",
     "text": [
      "🚀 Training: 100%|██████████| 13/13 [00:00<00:00, 19.11it/s, loss=5.9480]\n",
      "🚀 Validation: 100%|██████████| 2/2 [00:00<00:00, 60.09it/s, loss=6.4439]\n"
     ]
    },
    {
     "name": "stdout",
     "output_type": "stream",
     "text": [
      "[Epoch 20] Train Loss: 6.0597 | Val Loss: 6.5369\n",
      "  -> New best model saved at saved/best.pt\n",
      "Epoch 21/100\n"
     ]
    },
    {
     "name": "stderr",
     "output_type": "stream",
     "text": [
      "🚀 Training: 100%|██████████| 13/13 [00:00<00:00, 18.63it/s, loss=6.0023]\n",
      "🚀 Validation: 100%|██████████| 2/2 [00:00<00:00, 59.52it/s, loss=6.4267]\n"
     ]
    },
    {
     "name": "stdout",
     "output_type": "stream",
     "text": [
      "[Epoch 21] Train Loss: 6.0174 | Val Loss: 6.5192\n",
      "  -> New best model saved at saved/best.pt\n",
      "Epoch 22/100\n"
     ]
    },
    {
     "name": "stderr",
     "output_type": "stream",
     "text": [
      "🚀 Training: 100%|██████████| 13/13 [00:00<00:00, 18.99it/s, loss=6.0238]\n",
      "🚀 Validation: 100%|██████████| 2/2 [00:00<00:00, 59.98it/s, loss=6.4029]\n"
     ]
    },
    {
     "name": "stdout",
     "output_type": "stream",
     "text": [
      "[Epoch 22] Train Loss: 5.9714 | Val Loss: 6.4973\n",
      "  -> New best model saved at saved/best.pt\n",
      "Epoch 23/100\n"
     ]
    },
    {
     "name": "stderr",
     "output_type": "stream",
     "text": [
      "🚀 Training: 100%|██████████| 13/13 [00:00<00:00, 19.06it/s, loss=6.0387]\n",
      "🚀 Validation: 100%|██████████| 2/2 [00:00<00:00, 60.81it/s, loss=6.3865]\n"
     ]
    },
    {
     "name": "stdout",
     "output_type": "stream",
     "text": [
      "[Epoch 23] Train Loss: 5.9283 | Val Loss: 6.4806\n",
      "  -> New best model saved at saved/best.pt\n",
      "Epoch 24/100\n"
     ]
    },
    {
     "name": "stderr",
     "output_type": "stream",
     "text": [
      "🚀 Training: 100%|██████████| 13/13 [00:00<00:00, 19.10it/s, loss=5.7042]\n",
      "🚀 Validation: 100%|██████████| 2/2 [00:00<00:00, 61.52it/s, loss=6.3659]\n"
     ]
    },
    {
     "name": "stdout",
     "output_type": "stream",
     "text": [
      "[Epoch 24] Train Loss: 5.8696 | Val Loss: 6.4613\n",
      "  -> New best model saved at saved/best.pt\n",
      "Epoch 25/100\n"
     ]
    },
    {
     "name": "stderr",
     "output_type": "stream",
     "text": [
      "🚀 Training: 100%|██████████| 13/13 [00:00<00:00, 19.00it/s, loss=5.7599]\n",
      "🚀 Validation: 100%|██████████| 2/2 [00:00<00:00, 61.87it/s, loss=6.3496]\n"
     ]
    },
    {
     "name": "stdout",
     "output_type": "stream",
     "text": [
      "[Epoch 25] Train Loss: 5.8240 | Val Loss: 6.4474\n",
      "  -> New best model saved at saved/best.pt\n",
      "Epoch 26/100\n"
     ]
    },
    {
     "name": "stderr",
     "output_type": "stream",
     "text": [
      "🚀 Training: 100%|██████████| 13/13 [00:00<00:00, 18.91it/s, loss=5.8823]\n",
      "🚀 Validation: 100%|██████████| 2/2 [00:00<00:00, 60.50it/s, loss=6.3305]\n"
     ]
    },
    {
     "name": "stdout",
     "output_type": "stream",
     "text": [
      "[Epoch 26] Train Loss: 5.7849 | Val Loss: 6.4285\n",
      "  -> New best model saved at saved/best.pt\n",
      "Epoch 27/100\n"
     ]
    },
    {
     "name": "stderr",
     "output_type": "stream",
     "text": [
      "🚀 Training: 100%|██████████| 13/13 [00:00<00:00, 18.75it/s, loss=5.7663]\n",
      "🚀 Validation: 100%|██████████| 2/2 [00:00<00:00, 60.20it/s, loss=6.3256]\n"
     ]
    },
    {
     "name": "stdout",
     "output_type": "stream",
     "text": [
      "[Epoch 27] Train Loss: 5.7325 | Val Loss: 6.4309\n",
      "Epoch 28/100\n"
     ]
    },
    {
     "name": "stderr",
     "output_type": "stream",
     "text": [
      "🚀 Training: 100%|██████████| 13/13 [00:00<00:00, 18.65it/s, loss=5.5877]\n",
      "🚀 Validation: 100%|██████████| 2/2 [00:00<00:00, 59.55it/s, loss=6.3002]\n"
     ]
    },
    {
     "name": "stdout",
     "output_type": "stream",
     "text": [
      "[Epoch 28] Train Loss: 5.6798 | Val Loss: 6.4040\n",
      "  -> New best model saved at saved/best.pt\n",
      "Epoch 29/100\n"
     ]
    },
    {
     "name": "stderr",
     "output_type": "stream",
     "text": [
      "🚀 Training: 100%|██████████| 13/13 [00:00<00:00, 18.98it/s, loss=5.6455]\n",
      "🚀 Validation: 100%|██████████| 2/2 [00:00<00:00, 62.70it/s, loss=6.2905]\n"
     ]
    },
    {
     "name": "stdout",
     "output_type": "stream",
     "text": [
      "[Epoch 29] Train Loss: 5.6390 | Val Loss: 6.3963\n",
      "  -> New best model saved at saved/best.pt\n",
      "Epoch 30/100\n"
     ]
    },
    {
     "name": "stderr",
     "output_type": "stream",
     "text": [
      "🚀 Training: 100%|██████████| 13/13 [00:00<00:00, 18.91it/s, loss=5.6692]\n",
      "🚀 Validation: 100%|██████████| 2/2 [00:00<00:00, 58.29it/s, loss=6.2734]\n"
     ]
    },
    {
     "name": "stdout",
     "output_type": "stream",
     "text": [
      "[Epoch 30] Train Loss: 5.5926 | Val Loss: 6.3760\n",
      "  -> New best model saved at saved/best.pt\n",
      "Epoch 31/100\n"
     ]
    },
    {
     "name": "stderr",
     "output_type": "stream",
     "text": [
      "🚀 Training: 100%|██████████| 13/13 [00:00<00:00, 18.65it/s, loss=5.5308]\n",
      "🚀 Validation: 100%|██████████| 2/2 [00:00<00:00, 54.76it/s, loss=6.2751]\n"
     ]
    },
    {
     "name": "stdout",
     "output_type": "stream",
     "text": [
      "[Epoch 31] Train Loss: 5.5458 | Val Loss: 6.3850\n",
      "Epoch 32/100\n"
     ]
    },
    {
     "name": "stderr",
     "output_type": "stream",
     "text": [
      "🚀 Training: 100%|██████████| 13/13 [00:00<00:00, 18.67it/s, loss=5.6693]\n",
      "🚀 Validation: 100%|██████████| 2/2 [00:00<00:00, 60.21it/s, loss=6.2542]\n"
     ]
    },
    {
     "name": "stdout",
     "output_type": "stream",
     "text": [
      "[Epoch 32] Train Loss: 5.5025 | Val Loss: 6.3635\n",
      "  -> New best model saved at saved/best.pt\n",
      "Epoch 33/100\n"
     ]
    },
    {
     "name": "stderr",
     "output_type": "stream",
     "text": [
      "🚀 Training: 100%|██████████| 13/13 [00:00<00:00, 18.71it/s, loss=5.3325]\n",
      "🚀 Validation: 100%|██████████| 2/2 [00:00<00:00, 57.46it/s, loss=6.2502]\n"
     ]
    },
    {
     "name": "stdout",
     "output_type": "stream",
     "text": [
      "[Epoch 33] Train Loss: 5.4435 | Val Loss: 6.3599\n",
      "  -> New best model saved at saved/best.pt\n",
      "Epoch 34/100\n"
     ]
    },
    {
     "name": "stderr",
     "output_type": "stream",
     "text": [
      "🚀 Training: 100%|██████████| 13/13 [00:00<00:00, 18.64it/s, loss=5.3349]\n",
      "🚀 Validation: 100%|██████████| 2/2 [00:00<00:00, 55.03it/s, loss=6.2359]\n"
     ]
    },
    {
     "name": "stdout",
     "output_type": "stream",
     "text": [
      "[Epoch 34] Train Loss: 5.3972 | Val Loss: 6.3499\n",
      "  -> New best model saved at saved/best.pt\n",
      "Epoch 35/100\n"
     ]
    },
    {
     "name": "stderr",
     "output_type": "stream",
     "text": [
      "🚀 Training: 100%|██████████| 13/13 [00:00<00:00, 18.30it/s, loss=5.4217]\n",
      "🚀 Validation: 100%|██████████| 2/2 [00:00<00:00, 57.75it/s, loss=6.2266]\n"
     ]
    },
    {
     "name": "stdout",
     "output_type": "stream",
     "text": [
      "[Epoch 35] Train Loss: 5.3608 | Val Loss: 6.3451\n",
      "  -> New best model saved at saved/best.pt\n",
      "Epoch 36/100\n"
     ]
    },
    {
     "name": "stderr",
     "output_type": "stream",
     "text": [
      "🚀 Training: 100%|██████████| 13/13 [00:00<00:00, 18.58it/s, loss=5.4973]\n",
      "🚀 Validation: 100%|██████████| 2/2 [00:00<00:00, 58.64it/s, loss=6.2138]\n"
     ]
    },
    {
     "name": "stdout",
     "output_type": "stream",
     "text": [
      "[Epoch 36] Train Loss: 5.3250 | Val Loss: 6.3352\n",
      "  -> New best model saved at saved/best.pt\n",
      "Epoch 37/100\n"
     ]
    },
    {
     "name": "stderr",
     "output_type": "stream",
     "text": [
      "🚀 Training: 100%|██████████| 13/13 [00:00<00:00, 18.17it/s, loss=5.2347]\n",
      "🚀 Validation: 100%|██████████| 2/2 [00:00<00:00, 54.43it/s, loss=6.2145]\n"
     ]
    },
    {
     "name": "stdout",
     "output_type": "stream",
     "text": [
      "[Epoch 37] Train Loss: 5.2695 | Val Loss: 6.3353\n",
      "Epoch 38/100\n"
     ]
    },
    {
     "name": "stderr",
     "output_type": "stream",
     "text": [
      "🚀 Training: 100%|██████████| 13/13 [00:00<00:00, 18.18it/s, loss=5.3576]\n",
      "🚀 Validation: 100%|██████████| 2/2 [00:00<00:00, 58.77it/s, loss=6.2003]\n"
     ]
    },
    {
     "name": "stdout",
     "output_type": "stream",
     "text": [
      "[Epoch 38] Train Loss: 5.2364 | Val Loss: 6.3257\n",
      "  -> New best model saved at saved/best.pt\n",
      "Epoch 39/100\n"
     ]
    },
    {
     "name": "stderr",
     "output_type": "stream",
     "text": [
      "🚀 Training: 100%|██████████| 13/13 [00:00<00:00, 18.32it/s, loss=5.1372]\n",
      "🚀 Validation: 100%|██████████| 2/2 [00:00<00:00, 52.93it/s, loss=6.1936]\n"
     ]
    },
    {
     "name": "stdout",
     "output_type": "stream",
     "text": [
      "[Epoch 39] Train Loss: 5.1823 | Val Loss: 6.3208\n",
      "  -> New best model saved at saved/best.pt\n",
      "Epoch 40/100\n"
     ]
    },
    {
     "name": "stderr",
     "output_type": "stream",
     "text": [
      "🚀 Training: 100%|██████████| 13/13 [00:00<00:00, 18.48it/s, loss=4.9614]\n",
      "🚀 Validation: 100%|██████████| 2/2 [00:00<00:00, 56.00it/s, loss=6.1884]\n"
     ]
    },
    {
     "name": "stdout",
     "output_type": "stream",
     "text": [
      "[Epoch 40] Train Loss: 5.1390 | Val Loss: 6.3181\n",
      "  -> New best model saved at saved/best.pt\n",
      "Epoch 41/100\n"
     ]
    },
    {
     "name": "stderr",
     "output_type": "stream",
     "text": [
      "🚀 Training: 100%|██████████| 13/13 [00:00<00:00, 18.29it/s, loss=5.0512]\n",
      "🚀 Validation: 100%|██████████| 2/2 [00:00<00:00, 58.98it/s, loss=6.1854]\n"
     ]
    },
    {
     "name": "stdout",
     "output_type": "stream",
     "text": [
      "[Epoch 41] Train Loss: 5.1000 | Val Loss: 6.3123\n",
      "  -> New best model saved at saved/best.pt\n",
      "Epoch 42/100\n"
     ]
    },
    {
     "name": "stderr",
     "output_type": "stream",
     "text": [
      "🚀 Training: 100%|██████████| 13/13 [00:00<00:00, 18.46it/s, loss=5.0856]\n",
      "🚀 Validation: 100%|██████████| 2/2 [00:00<00:00, 59.63it/s, loss=6.1911]\n"
     ]
    },
    {
     "name": "stdout",
     "output_type": "stream",
     "text": [
      "[Epoch 42] Train Loss: 5.0573 | Val Loss: 6.3211\n",
      "Epoch 43/100\n"
     ]
    },
    {
     "name": "stderr",
     "output_type": "stream",
     "text": [
      "🚀 Training: 100%|██████████| 13/13 [00:00<00:00, 18.52it/s, loss=4.9489]\n",
      "🚀 Validation: 100%|██████████| 2/2 [00:00<00:00, 58.83it/s, loss=6.1813]\n"
     ]
    },
    {
     "name": "stdout",
     "output_type": "stream",
     "text": [
      "[Epoch 43] Train Loss: 5.0196 | Val Loss: 6.3124\n",
      "Epoch 44/100\n"
     ]
    },
    {
     "name": "stderr",
     "output_type": "stream",
     "text": [
      "🚀 Training: 100%|██████████| 13/13 [00:00<00:00, 18.40it/s, loss=5.0904]\n",
      "🚀 Validation: 100%|██████████| 2/2 [00:00<00:00, 58.18it/s, loss=6.1779]\n"
     ]
    },
    {
     "name": "stdout",
     "output_type": "stream",
     "text": [
      "[Epoch 44] Train Loss: 4.9783 | Val Loss: 6.3122\n",
      "  -> New best model saved at saved/best.pt\n",
      "Epoch 45/100\n"
     ]
    },
    {
     "name": "stderr",
     "output_type": "stream",
     "text": [
      "🚀 Training: 100%|██████████| 13/13 [00:00<00:00, 18.50it/s, loss=5.0136]\n",
      "🚀 Validation: 100%|██████████| 2/2 [00:00<00:00, 58.64it/s, loss=6.1785]\n"
     ]
    },
    {
     "name": "stdout",
     "output_type": "stream",
     "text": [
      "[Epoch 45] Train Loss: 4.9388 | Val Loss: 6.3171\n",
      "Epoch 46/100\n"
     ]
    },
    {
     "name": "stderr",
     "output_type": "stream",
     "text": [
      "🚀 Training: 100%|██████████| 13/13 [00:00<00:00, 18.38it/s, loss=4.9136]\n",
      "🚀 Validation: 100%|██████████| 2/2 [00:00<00:00, 58.20it/s, loss=6.1836]\n"
     ]
    },
    {
     "name": "stdout",
     "output_type": "stream",
     "text": [
      "[Epoch 46] Train Loss: 4.9026 | Val Loss: 6.3225\n",
      "Epoch 47/100\n"
     ]
    },
    {
     "name": "stderr",
     "output_type": "stream",
     "text": [
      "🚀 Training: 100%|██████████| 13/13 [00:00<00:00, 18.47it/s, loss=5.0358]\n",
      "🚀 Validation: 100%|██████████| 2/2 [00:00<00:00, 58.15it/s, loss=6.1770]\n"
     ]
    },
    {
     "name": "stdout",
     "output_type": "stream",
     "text": [
      "[Epoch 47] Train Loss: 4.8614 | Val Loss: 6.3206\n",
      "Epoch 48/100\n"
     ]
    },
    {
     "name": "stderr",
     "output_type": "stream",
     "text": [
      "🚀 Training: 100%|██████████| 13/13 [00:00<00:00, 18.45it/s, loss=4.8543]\n",
      "🚀 Validation: 100%|██████████| 2/2 [00:00<00:00, 57.01it/s, loss=6.1725]\n"
     ]
    },
    {
     "name": "stdout",
     "output_type": "stream",
     "text": [
      "[Epoch 48] Train Loss: 4.8212 | Val Loss: 6.3123\n",
      "Epoch 49/100\n"
     ]
    },
    {
     "name": "stderr",
     "output_type": "stream",
     "text": [
      "🚀 Training: 100%|██████████| 13/13 [00:00<00:00, 18.44it/s, loss=4.6692]\n",
      "🚀 Validation: 100%|██████████| 2/2 [00:00<00:00, 58.89it/s, loss=6.1796]\n"
     ]
    },
    {
     "name": "stdout",
     "output_type": "stream",
     "text": [
      "[Epoch 49] Train Loss: 4.7792 | Val Loss: 6.3227\n",
      "Epoch 50/100\n"
     ]
    },
    {
     "name": "stderr",
     "output_type": "stream",
     "text": [
      "🚀 Training: 100%|██████████| 13/13 [00:00<00:00, 18.53it/s, loss=4.7655]\n",
      "🚀 Validation: 100%|██████████| 2/2 [00:00<00:00, 53.32it/s, loss=6.1656]\n"
     ]
    },
    {
     "name": "stdout",
     "output_type": "stream",
     "text": [
      "[Epoch 50] Train Loss: 4.7454 | Val Loss: 6.3094\n",
      "  -> New best model saved at saved/best.pt\n",
      "Epoch 51/100\n"
     ]
    },
    {
     "name": "stderr",
     "output_type": "stream",
     "text": [
      "🚀 Training: 100%|██████████| 13/13 [00:00<00:00, 18.47it/s, loss=4.6277]\n",
      "🚀 Validation: 100%|██████████| 2/2 [00:00<00:00, 56.79it/s, loss=6.1736]\n"
     ]
    },
    {
     "name": "stdout",
     "output_type": "stream",
     "text": [
      "[Epoch 51] Train Loss: 4.6964 | Val Loss: 6.3138\n",
      "Epoch 52/100\n"
     ]
    },
    {
     "name": "stderr",
     "output_type": "stream",
     "text": [
      "🚀 Training: 100%|██████████| 13/13 [00:00<00:00, 18.33it/s, loss=4.5281]\n",
      "🚀 Validation: 100%|██████████| 2/2 [00:00<00:00, 56.57it/s, loss=6.1820]\n"
     ]
    },
    {
     "name": "stdout",
     "output_type": "stream",
     "text": [
      "[Epoch 52] Train Loss: 4.6563 | Val Loss: 6.3292\n",
      "Epoch 53/100\n"
     ]
    },
    {
     "name": "stderr",
     "output_type": "stream",
     "text": [
      "🚀 Training: 100%|██████████| 13/13 [00:00<00:00, 18.34it/s, loss=4.5945]\n",
      "🚀 Validation: 100%|██████████| 2/2 [00:00<00:00, 56.40it/s, loss=6.1863]\n"
     ]
    },
    {
     "name": "stdout",
     "output_type": "stream",
     "text": [
      "[Epoch 53] Train Loss: 4.6290 | Val Loss: 6.3309\n",
      "Epoch 54/100\n"
     ]
    },
    {
     "name": "stderr",
     "output_type": "stream",
     "text": [
      "🚀 Training: 100%|██████████| 13/13 [00:00<00:00, 18.36it/s, loss=4.7518]\n",
      "🚀 Validation: 100%|██████████| 2/2 [00:00<00:00, 54.42it/s, loss=6.1993]\n"
     ]
    },
    {
     "name": "stdout",
     "output_type": "stream",
     "text": [
      "[Epoch 54] Train Loss: 4.6022 | Val Loss: 6.3491\n",
      "Epoch 55/100\n"
     ]
    },
    {
     "name": "stderr",
     "output_type": "stream",
     "text": [
      "🚀 Training: 100%|██████████| 13/13 [00:00<00:00, 17.56it/s, loss=4.5322]\n",
      "🚀 Validation: 100%|██████████| 2/2 [00:00<00:00, 54.72it/s, loss=6.1961]\n"
     ]
    },
    {
     "name": "stdout",
     "output_type": "stream",
     "text": [
      "[Epoch 55] Train Loss: 4.5575 | Val Loss: 6.3450\n",
      "Epoch 56/100\n"
     ]
    },
    {
     "name": "stderr",
     "output_type": "stream",
     "text": [
      "🚀 Training: 100%|██████████| 13/13 [00:00<00:00, 18.30it/s, loss=4.5475]\n",
      "🚀 Validation: 100%|██████████| 2/2 [00:00<00:00, 53.60it/s, loss=6.2086]\n"
     ]
    },
    {
     "name": "stdout",
     "output_type": "stream",
     "text": [
      "[Epoch 56] Train Loss: 4.5231 | Val Loss: 6.3563\n",
      "Epoch 57/100\n"
     ]
    },
    {
     "name": "stderr",
     "output_type": "stream",
     "text": [
      "🚀 Training: 100%|██████████| 13/13 [00:00<00:00, 18.20it/s, loss=4.5717]\n",
      "🚀 Validation: 100%|██████████| 2/2 [00:00<00:00, 56.07it/s, loss=6.2024]\n"
     ]
    },
    {
     "name": "stdout",
     "output_type": "stream",
     "text": [
      "[Epoch 57] Train Loss: 4.4904 | Val Loss: 6.3492\n",
      "Epoch 58/100\n"
     ]
    },
    {
     "name": "stderr",
     "output_type": "stream",
     "text": [
      "🚀 Training: 100%|██████████| 13/13 [00:00<00:00, 18.06it/s, loss=4.4429]\n",
      "🚀 Validation: 100%|██████████| 2/2 [00:00<00:00, 54.56it/s, loss=6.2023]\n"
     ]
    },
    {
     "name": "stdout",
     "output_type": "stream",
     "text": [
      "[Epoch 58] Train Loss: 4.4513 | Val Loss: 6.3592\n",
      "Epoch 59/100\n"
     ]
    },
    {
     "name": "stderr",
     "output_type": "stream",
     "text": [
      "🚀 Training: 100%|██████████| 13/13 [00:00<00:00, 18.19it/s, loss=4.3532]\n",
      "🚀 Validation: 100%|██████████| 2/2 [00:00<00:00, 54.08it/s, loss=6.2155]\n"
     ]
    },
    {
     "name": "stdout",
     "output_type": "stream",
     "text": [
      "[Epoch 59] Train Loss: 4.4148 | Val Loss: 6.3723\n",
      "Epoch 60/100\n"
     ]
    },
    {
     "name": "stderr",
     "output_type": "stream",
     "text": [
      "🚀 Training: 100%|██████████| 13/13 [00:00<00:00, 18.13it/s, loss=4.2975]\n",
      "🚀 Validation: 100%|██████████| 2/2 [00:00<00:00, 56.09it/s, loss=6.2171]\n"
     ]
    },
    {
     "name": "stdout",
     "output_type": "stream",
     "text": [
      "[Epoch 60] Train Loss: 4.3797 | Val Loss: 6.3679\n",
      "Epoch 61/100\n"
     ]
    },
    {
     "name": "stderr",
     "output_type": "stream",
     "text": [
      "🚀 Training: 100%|██████████| 13/13 [00:00<00:00, 18.27it/s, loss=4.2746]\n",
      "🚀 Validation: 100%|██████████| 2/2 [00:00<00:00, 57.69it/s, loss=6.2307]\n"
     ]
    },
    {
     "name": "stdout",
     "output_type": "stream",
     "text": [
      "[Epoch 61] Train Loss: 4.3475 | Val Loss: 6.3910\n",
      "Epoch 62/100\n"
     ]
    },
    {
     "name": "stderr",
     "output_type": "stream",
     "text": [
      "🚀 Training: 100%|██████████| 13/13 [00:00<00:00, 18.28it/s, loss=4.3519]\n",
      "🚀 Validation: 100%|██████████| 2/2 [00:00<00:00, 57.66it/s, loss=6.2123]\n"
     ]
    },
    {
     "name": "stdout",
     "output_type": "stream",
     "text": [
      "[Epoch 62] Train Loss: 4.3158 | Val Loss: 6.3742\n",
      "Epoch 63/100\n"
     ]
    },
    {
     "name": "stderr",
     "output_type": "stream",
     "text": [
      "🚀 Training: 100%|██████████| 13/13 [00:00<00:00, 18.47it/s, loss=4.3607]\n",
      "🚀 Validation: 100%|██████████| 2/2 [00:00<00:00, 57.49it/s, loss=6.2363]\n"
     ]
    },
    {
     "name": "stdout",
     "output_type": "stream",
     "text": [
      "[Epoch 63] Train Loss: 4.2793 | Val Loss: 6.3928\n",
      "Epoch 64/100\n"
     ]
    },
    {
     "name": "stderr",
     "output_type": "stream",
     "text": [
      "🚀 Training: 100%|██████████| 13/13 [00:00<00:00, 18.17it/s, loss=4.2248]\n",
      "🚀 Validation: 100%|██████████| 2/2 [00:00<00:00, 56.54it/s, loss=6.2278]\n"
     ]
    },
    {
     "name": "stdout",
     "output_type": "stream",
     "text": [
      "[Epoch 64] Train Loss: 4.2451 | Val Loss: 6.3944\n",
      "Epoch 65/100\n"
     ]
    },
    {
     "name": "stderr",
     "output_type": "stream",
     "text": [
      "🚀 Training: 100%|██████████| 13/13 [00:00<00:00, 18.37it/s, loss=4.2235]\n",
      "🚀 Validation: 100%|██████████| 2/2 [00:00<00:00, 56.43it/s, loss=6.2436]\n"
     ]
    },
    {
     "name": "stdout",
     "output_type": "stream",
     "text": [
      "[Epoch 65] Train Loss: 4.2092 | Val Loss: 6.4008\n",
      "Epoch 66/100\n"
     ]
    },
    {
     "name": "stderr",
     "output_type": "stream",
     "text": [
      "🚀 Training: 100%|██████████| 13/13 [00:00<00:00, 18.32it/s, loss=4.1249]\n",
      "🚀 Validation: 100%|██████████| 2/2 [00:00<00:00, 56.02it/s, loss=6.2544]\n"
     ]
    },
    {
     "name": "stdout",
     "output_type": "stream",
     "text": [
      "[Epoch 66] Train Loss: 4.1753 | Val Loss: 6.4189\n",
      "Epoch 67/100\n"
     ]
    },
    {
     "name": "stderr",
     "output_type": "stream",
     "text": [
      "🚀 Training: 100%|██████████| 13/13 [00:00<00:00, 18.33it/s, loss=4.1286]\n",
      "🚀 Validation: 100%|██████████| 2/2 [00:00<00:00, 54.19it/s, loss=6.2642]\n"
     ]
    },
    {
     "name": "stdout",
     "output_type": "stream",
     "text": [
      "[Epoch 67] Train Loss: 4.1411 | Val Loss: 6.4334\n",
      "Epoch 68/100\n"
     ]
    },
    {
     "name": "stderr",
     "output_type": "stream",
     "text": [
      "🚀 Training: 100%|██████████| 13/13 [00:00<00:00, 18.08it/s, loss=4.1621]\n",
      "🚀 Validation: 100%|██████████| 2/2 [00:00<00:00, 56.50it/s, loss=6.2795]\n"
     ]
    },
    {
     "name": "stdout",
     "output_type": "stream",
     "text": [
      "[Epoch 68] Train Loss: 4.1104 | Val Loss: 6.4518\n",
      "Epoch 69/100\n"
     ]
    },
    {
     "name": "stderr",
     "output_type": "stream",
     "text": [
      "🚀 Training: 100%|██████████| 13/13 [00:00<00:00, 17.90it/s, loss=4.0527]\n",
      "🚀 Validation: 100%|██████████| 2/2 [00:00<00:00, 53.31it/s, loss=6.2730]\n"
     ]
    },
    {
     "name": "stdout",
     "output_type": "stream",
     "text": [
      "[Epoch 69] Train Loss: 4.0790 | Val Loss: 6.4378\n",
      "Epoch 70/100\n"
     ]
    },
    {
     "name": "stderr",
     "output_type": "stream",
     "text": [
      "🚀 Training: 100%|██████████| 13/13 [00:00<00:00, 17.83it/s, loss=3.9950]\n",
      "🚀 Validation: 100%|██████████| 2/2 [00:00<00:00, 56.76it/s, loss=6.2622]\n"
     ]
    },
    {
     "name": "stdout",
     "output_type": "stream",
     "text": [
      "[Epoch 70] Train Loss: 4.0397 | Val Loss: 6.4308\n",
      "Epoch 71/100\n"
     ]
    },
    {
     "name": "stderr",
     "output_type": "stream",
     "text": [
      "🚀 Training: 100%|██████████| 13/13 [00:00<00:00, 18.37it/s, loss=3.9011]\n",
      "🚀 Validation: 100%|██████████| 2/2 [00:00<00:00, 59.94it/s, loss=6.2941]\n"
     ]
    },
    {
     "name": "stdout",
     "output_type": "stream",
     "text": [
      "[Epoch 71] Train Loss: 4.0047 | Val Loss: 6.4638\n",
      "Epoch 72/100\n"
     ]
    },
    {
     "name": "stderr",
     "output_type": "stream",
     "text": [
      "🚀 Training: 100%|██████████| 13/13 [00:00<00:00, 18.20it/s, loss=4.0286]\n",
      "🚀 Validation: 100%|██████████| 2/2 [00:00<00:00, 56.52it/s, loss=6.3053]\n"
     ]
    },
    {
     "name": "stdout",
     "output_type": "stream",
     "text": [
      "[Epoch 72] Train Loss: 3.9834 | Val Loss: 6.4727\n",
      "Epoch 73/100\n"
     ]
    },
    {
     "name": "stderr",
     "output_type": "stream",
     "text": [
      "🚀 Training: 100%|██████████| 13/13 [00:00<00:00, 18.41it/s, loss=3.9825]\n",
      "🚀 Validation: 100%|██████████| 2/2 [00:00<00:00, 59.96it/s, loss=6.3029]\n"
     ]
    },
    {
     "name": "stdout",
     "output_type": "stream",
     "text": [
      "[Epoch 73] Train Loss: 3.9483 | Val Loss: 6.4874\n",
      "Epoch 74/100\n"
     ]
    },
    {
     "name": "stderr",
     "output_type": "stream",
     "text": [
      "🚀 Training: 100%|██████████| 13/13 [00:00<00:00, 18.54it/s, loss=3.8225]\n",
      "🚀 Validation: 100%|██████████| 2/2 [00:00<00:00, 59.31it/s, loss=6.3125]\n"
     ]
    },
    {
     "name": "stdout",
     "output_type": "stream",
     "text": [
      "[Epoch 74] Train Loss: 3.9165 | Val Loss: 6.4896\n",
      "Epoch 75/100\n"
     ]
    },
    {
     "name": "stderr",
     "output_type": "stream",
     "text": [
      "🚀 Training: 100%|██████████| 13/13 [00:00<00:00, 18.64it/s, loss=3.9867]\n",
      "🚀 Validation: 100%|██████████| 2/2 [00:00<00:00, 60.11it/s, loss=6.3275]\n"
     ]
    },
    {
     "name": "stdout",
     "output_type": "stream",
     "text": [
      "[Epoch 75] Train Loss: 3.8886 | Val Loss: 6.5002\n",
      "Epoch 76/100\n"
     ]
    },
    {
     "name": "stderr",
     "output_type": "stream",
     "text": [
      "🚀 Training: 100%|██████████| 13/13 [00:00<00:00, 18.67it/s, loss=3.8728]\n",
      "🚀 Validation: 100%|██████████| 2/2 [00:00<00:00, 62.08it/s, loss=6.3350]\n"
     ]
    },
    {
     "name": "stdout",
     "output_type": "stream",
     "text": [
      "[Epoch 76] Train Loss: 3.8552 | Val Loss: 6.5113\n",
      "Epoch 77/100\n"
     ]
    },
    {
     "name": "stderr",
     "output_type": "stream",
     "text": [
      "🚀 Training: 100%|██████████| 13/13 [00:00<00:00, 18.48it/s, loss=3.8917]\n",
      "🚀 Validation: 100%|██████████| 2/2 [00:00<00:00, 60.44it/s, loss=6.3502]\n"
     ]
    },
    {
     "name": "stdout",
     "output_type": "stream",
     "text": [
      "[Epoch 77] Train Loss: 3.8236 | Val Loss: 6.5220\n",
      "Epoch 78/100\n"
     ]
    },
    {
     "name": "stderr",
     "output_type": "stream",
     "text": [
      "🚀 Training: 100%|██████████| 13/13 [00:00<00:00, 18.31it/s, loss=3.7842]\n",
      "🚀 Validation: 100%|██████████| 2/2 [00:00<00:00, 58.57it/s, loss=6.3473]\n"
     ]
    },
    {
     "name": "stdout",
     "output_type": "stream",
     "text": [
      "[Epoch 78] Train Loss: 3.7949 | Val Loss: 6.5307\n",
      "Epoch 79/100\n"
     ]
    },
    {
     "name": "stderr",
     "output_type": "stream",
     "text": [
      "🚀 Training: 100%|██████████| 13/13 [00:00<00:00, 18.54it/s, loss=3.6774]\n",
      "🚀 Validation: 100%|██████████| 2/2 [00:00<00:00, 60.07it/s, loss=6.3546]\n"
     ]
    },
    {
     "name": "stdout",
     "output_type": "stream",
     "text": [
      "[Epoch 79] Train Loss: 3.7583 | Val Loss: 6.5477\n",
      "Epoch 80/100\n"
     ]
    },
    {
     "name": "stderr",
     "output_type": "stream",
     "text": [
      "🚀 Training: 100%|██████████| 13/13 [00:00<00:00, 18.56it/s, loss=3.6533]\n",
      "🚀 Validation: 100%|██████████| 2/2 [00:00<00:00, 59.70it/s, loss=6.3663]\n"
     ]
    },
    {
     "name": "stdout",
     "output_type": "stream",
     "text": [
      "[Epoch 80] Train Loss: 3.7317 | Val Loss: 6.5478\n",
      "Epoch 81/100\n"
     ]
    },
    {
     "name": "stderr",
     "output_type": "stream",
     "text": [
      "🚀 Training: 100%|██████████| 13/13 [00:00<00:00, 18.52it/s, loss=3.7016]\n",
      "🚀 Validation: 100%|██████████| 2/2 [00:00<00:00, 57.67it/s, loss=6.3783]\n"
     ]
    },
    {
     "name": "stdout",
     "output_type": "stream",
     "text": [
      "[Epoch 81] Train Loss: 3.7053 | Val Loss: 6.5659\n",
      "Epoch 82/100\n"
     ]
    },
    {
     "name": "stderr",
     "output_type": "stream",
     "text": [
      "🚀 Training: 100%|██████████| 13/13 [00:00<00:00, 18.51it/s, loss=3.6906]\n",
      "🚀 Validation: 100%|██████████| 2/2 [00:00<00:00, 59.57it/s, loss=6.4135]\n"
     ]
    },
    {
     "name": "stdout",
     "output_type": "stream",
     "text": [
      "[Epoch 82] Train Loss: 3.6815 | Val Loss: 6.6059\n",
      "Epoch 83/100\n"
     ]
    },
    {
     "name": "stderr",
     "output_type": "stream",
     "text": [
      "🚀 Training: 100%|██████████| 13/13 [00:00<00:00, 18.27it/s, loss=3.7540]\n",
      "🚀 Validation: 100%|██████████| 2/2 [00:00<00:00, 53.54it/s, loss=6.3939]\n"
     ]
    },
    {
     "name": "stdout",
     "output_type": "stream",
     "text": [
      "[Epoch 83] Train Loss: 3.6550 | Val Loss: 6.5777\n",
      "Epoch 84/100\n"
     ]
    },
    {
     "name": "stderr",
     "output_type": "stream",
     "text": [
      "🚀 Training: 100%|██████████| 13/13 [00:00<00:00, 17.72it/s, loss=3.7151]\n",
      "🚀 Validation: 100%|██████████| 2/2 [00:00<00:00, 61.05it/s, loss=6.4280]\n"
     ]
    },
    {
     "name": "stdout",
     "output_type": "stream",
     "text": [
      "[Epoch 84] Train Loss: 3.6222 | Val Loss: 6.6122\n",
      "Epoch 85/100\n"
     ]
    },
    {
     "name": "stderr",
     "output_type": "stream",
     "text": [
      "🚀 Training: 100%|██████████| 13/13 [00:00<00:00, 18.80it/s, loss=3.5950]\n",
      "🚀 Validation: 100%|██████████| 2/2 [00:00<00:00, 59.50it/s, loss=6.4247]\n"
     ]
    },
    {
     "name": "stdout",
     "output_type": "stream",
     "text": [
      "[Epoch 85] Train Loss: 3.5875 | Val Loss: 6.6051\n",
      "Epoch 86/100\n"
     ]
    },
    {
     "name": "stderr",
     "output_type": "stream",
     "text": [
      "🚀 Training: 100%|██████████| 13/13 [00:00<00:00, 18.62it/s, loss=3.5490]\n",
      "🚀 Validation: 100%|██████████| 2/2 [00:00<00:00, 61.14it/s, loss=6.4374]\n"
     ]
    },
    {
     "name": "stdout",
     "output_type": "stream",
     "text": [
      "[Epoch 86] Train Loss: 3.5613 | Val Loss: 6.6237\n",
      "Epoch 87/100\n"
     ]
    },
    {
     "name": "stderr",
     "output_type": "stream",
     "text": [
      "🚀 Training: 100%|██████████| 13/13 [00:00<00:00, 18.84it/s, loss=3.6130]\n",
      "🚀 Validation: 100%|██████████| 2/2 [00:00<00:00, 62.41it/s, loss=6.4699]\n"
     ]
    },
    {
     "name": "stdout",
     "output_type": "stream",
     "text": [
      "[Epoch 87] Train Loss: 3.5402 | Val Loss: 6.6593\n",
      "Epoch 88/100\n"
     ]
    },
    {
     "name": "stderr",
     "output_type": "stream",
     "text": [
      "🚀 Training: 100%|██████████| 13/13 [00:00<00:00, 18.87it/s, loss=3.4388]\n",
      "🚀 Validation: 100%|██████████| 2/2 [00:00<00:00, 61.75it/s, loss=6.4778]\n"
     ]
    },
    {
     "name": "stdout",
     "output_type": "stream",
     "text": [
      "[Epoch 88] Train Loss: 3.5028 | Val Loss: 6.6665\n",
      "Epoch 89/100\n"
     ]
    },
    {
     "name": "stderr",
     "output_type": "stream",
     "text": [
      "🚀 Training: 100%|██████████| 13/13 [00:00<00:00, 18.56it/s, loss=3.5024]\n",
      "🚀 Validation: 100%|██████████| 2/2 [00:00<00:00, 62.44it/s, loss=6.4928]\n"
     ]
    },
    {
     "name": "stdout",
     "output_type": "stream",
     "text": [
      "[Epoch 89] Train Loss: 3.4826 | Val Loss: 6.6732\n",
      "Epoch 90/100\n"
     ]
    },
    {
     "name": "stderr",
     "output_type": "stream",
     "text": [
      "🚀 Training: 100%|██████████| 13/13 [00:00<00:00, 18.98it/s, loss=3.5138]\n",
      "🚀 Validation: 100%|██████████| 2/2 [00:00<00:00, 57.52it/s, loss=6.5043]\n"
     ]
    },
    {
     "name": "stdout",
     "output_type": "stream",
     "text": [
      "[Epoch 90] Train Loss: 3.4512 | Val Loss: 6.6845\n",
      "Epoch 91/100\n"
     ]
    },
    {
     "name": "stderr",
     "output_type": "stream",
     "text": [
      "🚀 Training: 100%|██████████| 13/13 [00:00<00:00, 18.63it/s, loss=3.4128]\n",
      "🚀 Validation: 100%|██████████| 2/2 [00:00<00:00, 57.84it/s, loss=6.5238]\n"
     ]
    },
    {
     "name": "stdout",
     "output_type": "stream",
     "text": [
      "[Epoch 91] Train Loss: 3.4209 | Val Loss: 6.7043\n",
      "Epoch 92/100\n"
     ]
    },
    {
     "name": "stderr",
     "output_type": "stream",
     "text": [
      "🚀 Training: 100%|██████████| 13/13 [00:00<00:00, 18.84it/s, loss=3.2772]\n",
      "🚀 Validation: 100%|██████████| 2/2 [00:00<00:00, 61.75it/s, loss=6.5330]\n"
     ]
    },
    {
     "name": "stdout",
     "output_type": "stream",
     "text": [
      "[Epoch 92] Train Loss: 3.3914 | Val Loss: 6.7149\n",
      "Epoch 93/100\n"
     ]
    },
    {
     "name": "stderr",
     "output_type": "stream",
     "text": [
      "🚀 Training: 100%|██████████| 13/13 [00:00<00:00, 18.35it/s, loss=3.5732]\n",
      "🚀 Validation: 100%|██████████| 2/2 [00:00<00:00, 57.13it/s, loss=6.5388]\n"
     ]
    },
    {
     "name": "stdout",
     "output_type": "stream",
     "text": [
      "[Epoch 93] Train Loss: 3.3811 | Val Loss: 6.7240\n",
      "Epoch 94/100\n"
     ]
    },
    {
     "name": "stderr",
     "output_type": "stream",
     "text": [
      "🚀 Training: 100%|██████████| 13/13 [00:00<00:00, 18.43it/s, loss=3.3736]\n",
      "🚀 Validation: 100%|██████████| 2/2 [00:00<00:00, 59.59it/s, loss=6.5468]\n"
     ]
    },
    {
     "name": "stdout",
     "output_type": "stream",
     "text": [
      "[Epoch 94] Train Loss: 3.3484 | Val Loss: 6.7312\n",
      "Epoch 95/100\n"
     ]
    },
    {
     "name": "stderr",
     "output_type": "stream",
     "text": [
      "🚀 Training: 100%|██████████| 13/13 [00:00<00:00, 18.68it/s, loss=3.3357]\n",
      "🚀 Validation: 100%|██████████| 2/2 [00:00<00:00, 59.85it/s, loss=6.5644]\n"
     ]
    },
    {
     "name": "stdout",
     "output_type": "stream",
     "text": [
      "[Epoch 95] Train Loss: 3.3272 | Val Loss: 6.7515\n",
      "Epoch 96/100\n"
     ]
    },
    {
     "name": "stderr",
     "output_type": "stream",
     "text": [
      "🚀 Training: 100%|██████████| 13/13 [00:00<00:00, 18.56it/s, loss=3.1874]\n",
      "🚀 Validation: 100%|██████████| 2/2 [00:00<00:00, 59.24it/s, loss=6.5877]\n"
     ]
    },
    {
     "name": "stdout",
     "output_type": "stream",
     "text": [
      "[Epoch 96] Train Loss: 3.2925 | Val Loss: 6.7912\n",
      "Epoch 97/100\n"
     ]
    },
    {
     "name": "stderr",
     "output_type": "stream",
     "text": [
      "🚀 Training: 100%|██████████| 13/13 [00:00<00:00, 18.52it/s, loss=3.3564]\n",
      "🚀 Validation: 100%|██████████| 2/2 [00:00<00:00, 56.99it/s, loss=6.5859]\n"
     ]
    },
    {
     "name": "stdout",
     "output_type": "stream",
     "text": [
      "[Epoch 97] Train Loss: 3.2719 | Val Loss: 6.7761\n",
      "Epoch 98/100\n"
     ]
    },
    {
     "name": "stderr",
     "output_type": "stream",
     "text": [
      "🚀 Training: 100%|██████████| 13/13 [00:00<00:00, 18.47it/s, loss=3.2735]\n",
      "🚀 Validation: 100%|██████████| 2/2 [00:00<00:00, 60.44it/s, loss=6.6100]\n"
     ]
    },
    {
     "name": "stdout",
     "output_type": "stream",
     "text": [
      "[Epoch 98] Train Loss: 3.2504 | Val Loss: 6.7995\n",
      "Epoch 99/100\n"
     ]
    },
    {
     "name": "stderr",
     "output_type": "stream",
     "text": [
      "🚀 Training: 100%|██████████| 13/13 [00:00<00:00, 18.68it/s, loss=3.1008]\n",
      "🚀 Validation: 100%|██████████| 2/2 [00:00<00:00, 59.94it/s, loss=6.6296]\n"
     ]
    },
    {
     "name": "stdout",
     "output_type": "stream",
     "text": [
      "[Epoch 99] Train Loss: 3.2127 | Val Loss: 6.8297\n",
      "Epoch 100/100\n"
     ]
    },
    {
     "name": "stderr",
     "output_type": "stream",
     "text": [
      "🚀 Training: 100%|██████████| 13/13 [00:00<00:00, 18.19it/s, loss=3.2076]\n",
      "🚀 Validation: 100%|██████████| 2/2 [00:00<00:00, 57.23it/s, loss=6.6417]"
     ]
    },
    {
     "name": "stdout",
     "output_type": "stream",
     "text": [
      "[Epoch 100] Train Loss: 3.2024 | Val Loss: 6.8415\n"
     ]
    },
    {
     "name": "stderr",
     "output_type": "stream",
     "text": [
      "\n"
     ]
    }
   ],
   "source": [
    "import os\n",
    "import torch\n",
    "from tqdm import tqdm\n",
    "os.makedirs(SAVE_DIR, exist_ok=True)\n",
    "best_val_loss = float(\"inf\") \n",
    "best_model_path = None\n",
    "for epoch in range(1, EPOCHS + 1):\n",
    "    print(f\"Epoch {epoch}/{EPOCHS}\")\n",
    "    model.train()\n",
    "    total_train_loss = 0.0\n",
    "    train_bar = tqdm(train_loader, desc=\"🚀 Training\", \n",
    "                leave=True, total=len(train_loader))\n",
    "    for batch in train_bar:\n",
    "        optimizer.zero_grad()\n",
    "        src_batch = batch['src'].to(device)\n",
    "        tgt_batch = batch['tgt'].to(device)\n",
    "        \n",
    "        output, _ = model(src_batch, tgt_batch[:, :-1]) \n",
    "        output_dim = output.shape[-1]\n",
    "        output = output.reshape(-1, output_dim)\n",
    "        tgt_y = tgt_batch[:,1:].contiguous().view(-1)\n",
    "\n",
    "        loss = criterion(output, tgt_y)\n",
    "        loss.backward()\n",
    "        optimizer.step()\n",
    "        total_train_loss += loss.item()\n",
    "        train_bar.set_postfix(loss=f\"{loss.item():.4f}\")\n",
    "\n",
    "    avg_train_loss = total_train_loss / len(train_loader)\n",
    "    model.eval()\n",
    "    total_val_loss = 0.0\n",
    "    val_bar = tqdm(val_loader, desc=\"🚀 Validation\",\n",
    "              leave=True, total=len(val_loader))\n",
    "    with torch.no_grad():\n",
    "        for batch in val_bar:\n",
    "            src_batch = batch['src'].to(device)\n",
    "            tgt_batch = batch['tgt'].to(device)\n",
    "            \n",
    "            output, _ = model(src_batch, tgt_batch[:, :-1]) \n",
    "            output_dim = output.shape[-1]\n",
    "            output = output.reshape(-1, output_dim)\n",
    "            tgt_y = tgt_batch[:,1:].contiguous().view(-1)\n",
    "\n",
    "            loss = criterion(output, tgt_y)\n",
    "            total_val_loss += loss.item()\n",
    "            val_bar.set_postfix(loss=f\"{loss.item():.4f}\")\n",
    "    \n",
    "    avg_val_loss = total_val_loss / len(val_loader)\n",
    "    print(f\"[Epoch {epoch}] Train Loss: {avg_train_loss:.4f} | Val Loss: {avg_val_loss:.4f}\")\n",
    "    if avg_val_loss < best_val_loss:\n",
    "        if best_model_path and os.path.exists(best_model_path):\n",
    "            os.remove(best_model_path)\n",
    "        best_val_loss = avg_val_loss\n",
    "        best_model_path = os.path.join(SAVE_DIR, \"best.pt\")\n",
    "        torch.save(model.state_dict(), best_model_path)\n",
    "        print(f\"  -> New best model saved at {best_model_path}\")"
   ]
  },
  {
   "cell_type": "code",
   "execution_count": null,
   "metadata": {},
   "outputs": [],
   "source": []
  }
 ],
 "metadata": {
  "kernelspec": {
   "display_name": "torch_env",
   "language": "python",
   "name": "python3"
  },
  "language_info": {
   "codemirror_mode": {
    "name": "ipython",
    "version": 3
   },
   "file_extension": ".py",
   "mimetype": "text/x-python",
   "name": "python",
   "nbconvert_exporter": "python",
   "pygments_lexer": "ipython3",
   "version": "3.10.16"
  }
 },
 "nbformat": 4,
 "nbformat_minor": 2
}

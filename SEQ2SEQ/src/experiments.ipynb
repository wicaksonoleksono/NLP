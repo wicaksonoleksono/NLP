{
 "cells": [
  {
   "cell_type": "code",
   "execution_count": 1,
   "metadata": {},
   "outputs": [
    {
     "name": "stderr",
     "output_type": "stream",
     "text": [
      "[nltk_data] Downloading package punkt to\n",
      "[nltk_data]     /home/wicaksonolxn/nltk_data...\n",
      "[nltk_data]   Package punkt is already up-to-date!\n"
     ]
    }
   ],
   "source": [
    "import os\n",
    "import torch\n",
    "import torch.nn as nn\n",
    "import torch.optim as optim\n",
    "from tqdm import tqdm\n",
    "from dataloader import get_dataloaders\n",
    "import nltk\n",
    "from nltk.translate.bleu_score import sentence_bleu, SmoothingFunction\n",
    "from transformer import Transformer,TransformerEncoder,TransformerDecoder\n",
    "import utils\n",
    "import pickle\n",
    "nltk.download('punkt')  \n",
    "device = torch.device('cuda' if torch.cuda.is_available() else 'cpu')"
   ]
  },
  {
   "cell_type": "code",
   "execution_count": null,
   "metadata": {},
   "outputs": [],
   "source": []
  },
  {
   "cell_type": "code",
   "execution_count": null,
   "metadata": {},
   "outputs": [
    {
     "name": "stdout",
     "output_type": "stream",
     "text": [
      "TrainData - Max 'min' sentence length: 76\n",
      "TrainData - Max 'eng' sentence length: 107\n",
      "TestData - Max 'min' sentence length: 61\n",
      "TestData - Max 'eng' sentence length: 75\n",
      "ValidData - Max 'min' sentence length: 71\n",
      "ValidData - Max 'eng' sentence length: 80\n",
      "Number of examples in train_dataset,train origin,train_raw: 800 800 800\n",
      "Number of examples in valid_dataset: 100\n",
      "Number of examples in test_dataset: 100\n",
      "Model initialized on: cuda\n"
     ]
    }
   ],
   "source": [
    "BATCH_SIZE = 8 # butuh lebih banyak update \n",
    "DATA_PATH = \"dataset/\"  \n",
    "train_loader, val_loader, test_loader = get_dataloaders(\n",
    "    data_path=DATA_PATH, \n",
    "    source_lang=\"min\", \n",
    "    target_lang=\"eng\", \n",
    "    batch_size=BATCH_SIZE, \n",
    "    device=device\n",
    ")\n",
    "SRC_VOCAB_SIZE = 5000\n",
    "TGT_VOCAB_SIZE = 5000\n",
    "N_LAYERS = 3\n",
    "N_HEADS = 2\n",
    "D_MODEL = 32\n",
    "FFN_HIDDEN = 64\n",
    "DROPOUT = 0.1\n",
    "EPOCHS = 100\n",
    "\n",
    "SAVE_DIR = \"saved\"\n",
    "encoder = TransformerEncoder(SRC_VOCAB_SIZE,D_MODEL,N_LAYERS,N_HEADS,FFN_HIDDEN,DROPOUT,device)\n",
    "decoder = TransformerDecoder(TGT_VOCAB_SIZE,D_MODEL,N_LAYERS,N_HEADS,FFN_HIDDEN,DROPOUT,device)\n",
    "model = Transformer(encoder,decoder,device,utils.PAD_TOKEN).to(device)\n",
    "optimizer = optim.Adam(model.parameters(), lr=1e-4)\n",
    "criterion = nn.CrossEntropyLoss(ignore_index=utils.PAD_TOKEN) \n",
    "print(\"Model initialized on:\", device)\n"
   ]
  },
  {
   "cell_type": "code",
   "execution_count": 3,
   "metadata": {},
   "outputs": [
    {
     "name": "stdout",
     "output_type": "stream",
     "text": [
      "torch.Size([8, 109]) torch.Size([8, 109])\n",
      "Padding: 0\n",
      "Start of Sequence: 1\n",
      "End of Sequence: 2\n",
      "Unknown: 3\n"
     ]
    }
   ],
   "source": [
    "tokens = {\n",
    "    \"Padding\": utils.PAD_TOKEN,\n",
    "    \"Start of Sequence\": utils.SOS_TOKEN,\n",
    "    \"End of Sequence\": utils.EOS_TOKEN,\n",
    "    \"Unknown\": utils.UNK_TOKEN\n",
    "}\n",
    "for i, batch in enumerate(train_loader):\n",
    "    if i < 8:\n",
    "        src = batch[\"src\"]\n",
    "        tgt = batch[\"tgt\"]\n",
    "        ss,fss=src[0,:],src.shape\n",
    "        st,fst=tgt[0,:],tgt.shape\n",
    "        print(fss,fst)\n",
    "    for name, token in tokens.items():\n",
    "        print(f\"{name}: {token}\")\n",
    "    else:\n",
    "        break"
   ]
  },
  {
   "cell_type": "markdown",
   "metadata": {},
   "source": [
    "testing input , is it correct"
   ]
  },
  {
   "cell_type": "code",
   "execution_count": 4,
   "metadata": {},
   "outputs": [
    {
     "name": "stdout",
     "output_type": "stream",
     "text": [
      "torch.Size([8, 109])\n",
      "torch.Size([8, 109])\n",
      "torch.Size([8, 109])\n",
      "torch.Size([8, 109])\n",
      "torch.Size([8, 109])\n",
      "torch.Size([8, 109])\n",
      "torch.Size([8, 109])\n"
     ]
    }
   ],
   "source": [
    "data_iter = iter(train_loader)\n",
    "for i in range(7):\n",
    "    batch = next(data_iter)\n",
    "    print(batch[\"src\"].shape)\n"
   ]
  },
  {
   "cell_type": "code",
   "execution_count": 5,
   "metadata": {},
   "outputs": [
    {
     "name": "stdout",
     "output_type": "stream",
     "text": [
      "tensor([ 528,  119, 2099,   85,  430,   58, 2696, 1033,  636,  186,   54,  861,\n",
      "          58,  565,    6,  634,   84,   96, 1402,  372,  663,  213, 2697,   85,\n",
      "        1450,  301, 1083,   90, 1624,    6,  255,    2,    0,    0,    0,    0,\n",
      "           0,    0,    0,    0,    0,    0,    0,    0,    0,    0,    0,    0,\n",
      "           0,    0,    0,    0,    0,    0,    0,    0,    0,    0,    0,    0,\n",
      "           0,    0,    0,    0,    0,    0,    0,    0,    0,    0,    0,    0,\n",
      "           0,    0,    0,    0,    0,    0,    0,    0,    0,    0,    0,    0,\n",
      "           0,    0,    0,    0,    0,    0,    0,    0,    0,    0,    0,    0,\n",
      "           0,    0,    0,    0,    0,    0,    0,    0,    0,    0,    0,    0,\n",
      "         293,   85, 3320, 3321,  120, 2321,  796,  189,    8,  615,  215,  724,\n",
      "        1636, 2987,    2,    0,    0,    0,    0,    0,    0,    0,    0,    0,\n",
      "           0,    0,    0,    0,    0,    0,    0,    0,    0,    0,    0,    0,\n",
      "           0,    0,    0,    0,    0,    0,    0,    0,    0,    0,    0,    0,\n",
      "           0,    0,    0,    0,    0,    0,    0,    0,    0,    0,    0,    0,\n",
      "           0,    0,    0,    0,    0,    0,    0,    0,    0,    0,    0,    0,\n",
      "           0,    0,    0,    0,    0,    0,    0,    0,    0,    0,    0,    0,\n",
      "           0,    0,    0,    0,    0,    0,    0,    0,    0,    0,    0,    0,\n",
      "           0,    0,    0,    0,    0,    0,    0,    0,    0,    0,    0,    0,\n",
      "         133,   28,   12, 3282,   58,   85, 1368, 1725,  348,  989,  909, 3283,\n",
      "           6,  273, 3284,  189,  275, 1113, 2775,   81, 3285,  189,   35,  937,\n",
      "          59, 3286,  240,  285, 3287, 3288,    2,    0,    0,    0,    0,    0,\n",
      "           0,    0,    0,    0,    0,    0,    0,    0,    0,    0,    0,    0,\n",
      "           0,    0,    0,    0,    0,    0,    0,    0,    0,    0,    0,    0,\n",
      "           0,    0,    0,    0,    0,    0,    0,    0,    0,    0,    0,    0,\n",
      "           0,    0,    0,    0,    0,    0,    0,    0,    0,    0,    0,    0,\n",
      "           0,    0,    0,    0,    0,    0,    0,    0,    0,    0,    0,    0,\n",
      "           0,    0,    0,    0,    0,    0,    0,    0,    0,    0,    0,    0,\n",
      "        2312, 2313, 1569,  210,  165,  529,  364,    2,    0,    0,    0,    0,\n",
      "           0,    0,    0,    0,    0,    0,    0,    0,    0,    0,    0,    0,\n",
      "           0,    0,    0,    0,    0,    0,    0,    0,    0,    0,    0,    0,\n",
      "           0,    0,    0,    0,    0,    0,    0,    0,    0,    0,    0,    0,\n",
      "           0,    0,    0,    0,    0,    0,    0,    0,    0,    0,    0,    0,\n",
      "           0,    0,    0,    0,    0,    0,    0,    0,    0,    0,    0,    0,\n",
      "           0,    0,    0,    0,    0,    0,    0,    0,    0,    0,    0,    0,\n",
      "           0,    0,    0,    0,    0,    0,    0,    0,    0,    0,    0,    0,\n",
      "           0,    0,    0,    0,    0,    0,    0,    0,    0,    0,    0,    0,\n",
      "         279,   85, 1244,   17,   85,  445, 1245,   55,    6,  892, 1246,   58,\n",
      "        1244, 1247,  100,    2,    0,    0,    0,    0,    0,    0,    0,    0,\n",
      "           0,    0,    0,    0,    0,    0,    0,    0,    0,    0,    0,    0,\n",
      "           0,    0,    0,    0,    0,    0,    0,    0,    0,    0,    0,    0,\n",
      "           0,    0,    0,    0,    0,    0,    0,    0,    0,    0,    0,    0,\n",
      "           0,    0,    0,    0,    0,    0,    0,    0,    0,    0,    0,    0,\n",
      "           0,    0,    0,    0,    0,    0,    0,    0,    0,    0,    0,    0,\n",
      "           0,    0,    0,    0,    0,    0,    0,    0,    0,    0,    0,    0,\n",
      "           0,    0,    0,    0,    0,    0,    0,    0,    0,    0,    0,    0,\n",
      "          10,   43,  168,    8,   81,  254,   21, 2105,  341,    7,    8,   24,\n",
      "          36,  806,   24,    6,  187,  547,  138,   43, 1342,   21,  355,    8,\n",
      "          90,    2,    0,    0,    0,    0,    0,    0,    0,    0,    0,    0,\n",
      "           0,    0,    0,    0,    0,    0,    0,    0,    0,    0,    0,    0,\n",
      "           0,    0,    0,    0,    0,    0,    0,    0,    0,    0,    0,    0,\n",
      "           0,    0,    0,    0,    0,    0,    0,    0,    0,    0,    0,    0,\n",
      "           0,    0,    0,    0,    0,    0,    0,    0,    0,    0,    0,    0,\n",
      "           0,    0,    0,    0,    0,    0,    0,    0,    0,    0,    0,    0,\n",
      "           0,    0,    0,    0,    0,    0,    0,    0,    0,    0,    0,    0,\n",
      "         103,  104,  105,  106,   17,  107,   81,  108,  109,  110,    2,    0,\n",
      "           0,    0,    0,    0,    0,    0,    0,    0,    0,    0,    0,    0,\n",
      "           0,    0,    0,    0,    0,    0,    0,    0,    0,    0,    0,    0,\n",
      "           0,    0,    0,    0,    0,    0,    0,    0,    0,    0,    0,    0,\n",
      "           0,    0,    0,    0,    0,    0,    0,    0,    0,    0,    0,    0,\n",
      "           0,    0,    0,    0,    0,    0,    0,    0,    0,    0,    0,    0,\n",
      "           0,    0,    0,    0,    0,    0,    0,    0,    0,    0,    0,    0,\n",
      "           0,    0,    0,    0,    0,    0,    0,    0,    0,    0,    0,    0,\n",
      "           0,    0,    0,    0,    0,    0,    0,    0,    0,    0,    0,    0,\n",
      "         893,  183,  195,  136,   43,  197,    8, 3121,  290,  200, 1182,   58,\n",
      "        1183, 1713,  696,   21, 1069,   36,   59, 1531,  351, 2070,   82,   21,\n",
      "        2259,  865,    2,    0,    0,    0,    0,    0,    0,    0,    0,    0,\n",
      "           0,    0,    0,    0,    0,    0,    0,    0,    0,    0,    0,    0,\n",
      "           0,    0,    0,    0,    0,    0,    0,    0,    0,    0,    0,    0,\n",
      "           0,    0,    0,    0,    0,    0,    0,    0,    0,    0,    0,    0,\n",
      "           0,    0,    0,    0,    0,    0,    0,    0,    0,    0,    0,    0,\n",
      "           0,    0,    0,    0,    0,    0,    0,    0,    0,    0,    0,    0,\n",
      "           0,    0,    0,    0,    0,    0,    0,    0,    0,    0,    0,    0],\n",
      "       device='cuda:0')\n"
     ]
    }
   ],
   "source": [
    "for i,batch in enumerate(train_loader):\n",
    "    if i <1:\n",
    "        src_batch = batch['src'].to(device)\n",
    "        tgt_batch = batch['tgt'].to(device)\n",
    "        output, _ = model(src_batch, tgt_batch[:, :-1]) \n",
    "        output_dim = output.shape[-1]\n",
    "        output = output.reshape(-1, output_dim)\n",
    "        tgt_y = tgt_batch[:,1:].contiguous().view(-1)\n",
    "        print(tgt_y)"
   ]
  },
  {
   "cell_type": "code",
   "execution_count": 6,
   "metadata": {},
   "outputs": [
    {
     "name": "stdout",
     "output_type": "stream",
     "text": [
      "Epoch 1/100\n"
     ]
    },
    {
     "name": "stderr",
     "output_type": "stream",
     "text": [
      "🚀 Training: 100%|██████████| 100/100 [00:00<00:00, 154.72it/s, loss=8.6594]\n",
      "🚀 Validation: 100%|██████████| 13/13 [00:00<00:00, 405.35it/s, loss=8.5790]\n"
     ]
    },
    {
     "name": "stdout",
     "output_type": "stream",
     "text": [
      "[Epoch 1] Train Loss: 8.6538 | Val Loss: 8.6134\n",
      "  -> New best model saved at saved/best.pt\n",
      "Epoch 2/100\n"
     ]
    },
    {
     "name": "stderr",
     "output_type": "stream",
     "text": [
      "🚀 Training: 100%|██████████| 100/100 [00:00<00:00, 168.85it/s, loss=8.3608]\n",
      "🚀 Validation: 100%|██████████| 13/13 [00:00<00:00, 282.00it/s, loss=8.4113]\n"
     ]
    },
    {
     "name": "stdout",
     "output_type": "stream",
     "text": [
      "[Epoch 2] Train Loss: 8.5041 | Val Loss: 8.4339\n",
      "  -> New best model saved at saved/best.pt\n",
      "Epoch 3/100\n"
     ]
    },
    {
     "name": "stderr",
     "output_type": "stream",
     "text": [
      "🚀 Training: 100%|██████████| 100/100 [00:00<00:00, 144.03it/s, loss=7.8512]\n",
      "🚀 Validation: 100%|██████████| 13/13 [00:00<00:00, 306.69it/s, loss=7.9035]\n"
     ]
    },
    {
     "name": "stdout",
     "output_type": "stream",
     "text": [
      "[Epoch 3] Train Loss: 8.1242 | Val Loss: 7.8973\n",
      "  -> New best model saved at saved/best.pt\n",
      "Epoch 4/100\n"
     ]
    },
    {
     "name": "stderr",
     "output_type": "stream",
     "text": [
      "🚀 Training: 100%|██████████| 100/100 [00:00<00:00, 140.86it/s, loss=7.2239]\n",
      "🚀 Validation: 100%|██████████| 13/13 [00:00<00:00, 332.87it/s, loss=7.4539]\n"
     ]
    },
    {
     "name": "stdout",
     "output_type": "stream",
     "text": [
      "[Epoch 4] Train Loss: 7.5289 | Val Loss: 7.4335\n",
      "  -> New best model saved at saved/best.pt\n",
      "Epoch 5/100\n"
     ]
    },
    {
     "name": "stderr",
     "output_type": "stream",
     "text": [
      "🚀 Training: 100%|██████████| 100/100 [00:00<00:00, 149.88it/s, loss=7.0069]\n",
      "🚀 Validation: 100%|██████████| 13/13 [00:00<00:00, 326.08it/s, loss=7.1714]\n"
     ]
    },
    {
     "name": "stdout",
     "output_type": "stream",
     "text": [
      "[Epoch 5] Train Loss: 7.1001 | Val Loss: 7.1519\n",
      "  -> New best model saved at saved/best.pt\n",
      "Epoch 6/100\n"
     ]
    },
    {
     "name": "stderr",
     "output_type": "stream",
     "text": [
      "🚀 Training: 100%|██████████| 100/100 [00:00<00:00, 152.99it/s, loss=6.6290]\n",
      "🚀 Validation: 100%|██████████| 13/13 [00:00<00:00, 200.41it/s, loss=7.0073]\n"
     ]
    },
    {
     "name": "stdout",
     "output_type": "stream",
     "text": [
      "[Epoch 6] Train Loss: 6.8234 | Val Loss: 6.9921\n",
      "  -> New best model saved at saved/best.pt\n",
      "Epoch 7/100\n"
     ]
    },
    {
     "name": "stderr",
     "output_type": "stream",
     "text": [
      "🚀 Training: 100%|██████████| 100/100 [00:00<00:00, 154.68it/s, loss=6.5029]\n",
      "🚀 Validation: 100%|██████████| 13/13 [00:00<00:00, 354.80it/s, loss=6.9149]\n"
     ]
    },
    {
     "name": "stdout",
     "output_type": "stream",
     "text": [
      "[Epoch 7] Train Loss: 6.6439 | Val Loss: 6.9069\n",
      "  -> New best model saved at saved/best.pt\n",
      "Epoch 8/100\n"
     ]
    },
    {
     "name": "stderr",
     "output_type": "stream",
     "text": [
      "🚀 Training: 100%|██████████| 100/100 [00:00<00:00, 141.20it/s, loss=6.6397]\n",
      "🚀 Validation: 100%|██████████| 13/13 [00:00<00:00, 361.73it/s, loss=6.8778]\n"
     ]
    },
    {
     "name": "stdout",
     "output_type": "stream",
     "text": [
      "[Epoch 8] Train Loss: 6.5379 | Val Loss: 6.8771\n",
      "  -> New best model saved at saved/best.pt\n",
      "Epoch 9/100\n"
     ]
    },
    {
     "name": "stderr",
     "output_type": "stream",
     "text": [
      "🚀 Training: 100%|██████████| 100/100 [00:00<00:00, 119.56it/s, loss=6.4763]\n",
      "🚀 Validation: 100%|██████████| 13/13 [00:00<00:00, 164.70it/s, loss=6.8657]\n"
     ]
    },
    {
     "name": "stdout",
     "output_type": "stream",
     "text": [
      "[Epoch 9] Train Loss: 6.4877 | Val Loss: 6.8737\n",
      "  -> New best model saved at saved/best.pt\n",
      "Epoch 10/100\n"
     ]
    },
    {
     "name": "stderr",
     "output_type": "stream",
     "text": [
      "🚀 Training: 100%|██████████| 100/100 [00:00<00:00, 144.07it/s, loss=6.5873]\n",
      "🚀 Validation: 100%|██████████| 13/13 [00:00<00:00, 372.45it/s, loss=6.8663]\n"
     ]
    },
    {
     "name": "stdout",
     "output_type": "stream",
     "text": [
      "[Epoch 10] Train Loss: 6.4523 | Val Loss: 6.8810\n",
      "Epoch 11/100\n"
     ]
    },
    {
     "name": "stderr",
     "output_type": "stream",
     "text": [
      "🚀 Training: 100%|██████████| 100/100 [00:00<00:00, 138.60it/s, loss=6.4839]\n",
      "🚀 Validation: 100%|██████████| 13/13 [00:00<00:00, 378.11it/s, loss=6.8713]\n"
     ]
    },
    {
     "name": "stdout",
     "output_type": "stream",
     "text": [
      "[Epoch 11] Train Loss: 6.4266 | Val Loss: 6.8901\n",
      "Epoch 12/100\n"
     ]
    },
    {
     "name": "stderr",
     "output_type": "stream",
     "text": [
      "🚀 Training: 100%|██████████| 100/100 [00:00<00:00, 141.65it/s, loss=6.2410]\n",
      "🚀 Validation: 100%|██████████| 13/13 [00:00<00:00, 282.56it/s, loss=6.8710]\n"
     ]
    },
    {
     "name": "stdout",
     "output_type": "stream",
     "text": [
      "[Epoch 12] Train Loss: 6.4157 | Val Loss: 6.8956\n",
      "Epoch 13/100\n"
     ]
    },
    {
     "name": "stderr",
     "output_type": "stream",
     "text": [
      "🚀 Training: 100%|██████████| 100/100 [00:00<00:00, 134.11it/s, loss=6.6173]\n",
      "🚀 Validation: 100%|██████████| 13/13 [00:00<00:00, 297.97it/s, loss=6.8761]\n"
     ]
    },
    {
     "name": "stdout",
     "output_type": "stream",
     "text": [
      "[Epoch 13] Train Loss: 6.3989 | Val Loss: 6.8987\n",
      "Epoch 14/100\n"
     ]
    },
    {
     "name": "stderr",
     "output_type": "stream",
     "text": [
      "🚀 Training: 100%|██████████| 100/100 [00:00<00:00, 139.03it/s, loss=6.4746]\n",
      "🚀 Validation: 100%|██████████| 13/13 [00:00<00:00, 265.35it/s, loss=6.8844]\n"
     ]
    },
    {
     "name": "stdout",
     "output_type": "stream",
     "text": [
      "[Epoch 14] Train Loss: 6.3945 | Val Loss: 6.9003\n",
      "Epoch 15/100\n"
     ]
    },
    {
     "name": "stderr",
     "output_type": "stream",
     "text": [
      "🚀 Training: 100%|██████████| 100/100 [00:00<00:00, 134.79it/s, loss=6.2547]\n",
      "🚀 Validation: 100%|██████████| 13/13 [00:00<00:00, 312.72it/s, loss=6.8891]\n"
     ]
    },
    {
     "name": "stdout",
     "output_type": "stream",
     "text": [
      "[Epoch 15] Train Loss: 6.3782 | Val Loss: 6.9028\n",
      "Epoch 16/100\n"
     ]
    },
    {
     "name": "stderr",
     "output_type": "stream",
     "text": [
      "🚀 Training: 100%|██████████| 100/100 [00:00<00:00, 124.52it/s, loss=6.3622]\n",
      "🚀 Validation: 100%|██████████| 13/13 [00:00<00:00, 282.51it/s, loss=6.8910]\n"
     ]
    },
    {
     "name": "stdout",
     "output_type": "stream",
     "text": [
      "[Epoch 16] Train Loss: 6.3557 | Val Loss: 6.9022\n",
      "Epoch 17/100\n"
     ]
    },
    {
     "name": "stderr",
     "output_type": "stream",
     "text": [
      "🚀 Training: 100%|██████████| 100/100 [00:00<00:00, 120.44it/s, loss=6.3740]\n",
      "🚀 Validation: 100%|██████████| 13/13 [00:00<00:00, 343.24it/s, loss=6.8840]\n"
     ]
    },
    {
     "name": "stdout",
     "output_type": "stream",
     "text": [
      "[Epoch 17] Train Loss: 6.3393 | Val Loss: 6.9049\n",
      "Epoch 18/100\n"
     ]
    },
    {
     "name": "stderr",
     "output_type": "stream",
     "text": [
      "🚀 Training: 100%|██████████| 100/100 [00:00<00:00, 132.67it/s, loss=5.9435]\n",
      "🚀 Validation: 100%|██████████| 13/13 [00:00<00:00, 325.51it/s, loss=6.8956]\n"
     ]
    },
    {
     "name": "stdout",
     "output_type": "stream",
     "text": [
      "[Epoch 18] Train Loss: 6.3280 | Val Loss: 6.9009\n",
      "Epoch 19/100\n"
     ]
    },
    {
     "name": "stderr",
     "output_type": "stream",
     "text": [
      "🚀 Training: 100%|██████████| 100/100 [00:00<00:00, 136.63it/s, loss=6.1698]\n",
      "🚀 Validation: 100%|██████████| 13/13 [00:00<00:00, 348.64it/s, loss=6.8831]\n"
     ]
    },
    {
     "name": "stdout",
     "output_type": "stream",
     "text": [
      "[Epoch 19] Train Loss: 6.3129 | Val Loss: 6.8984\n",
      "Epoch 20/100\n"
     ]
    },
    {
     "name": "stderr",
     "output_type": "stream",
     "text": [
      "🚀 Training: 100%|██████████| 100/100 [00:00<00:00, 147.41it/s, loss=6.3735]\n",
      "🚀 Validation: 100%|██████████| 13/13 [00:00<00:00, 342.06it/s, loss=6.8895]\n"
     ]
    },
    {
     "name": "stdout",
     "output_type": "stream",
     "text": [
      "[Epoch 20] Train Loss: 6.2933 | Val Loss: 6.9012\n",
      "Epoch 21/100\n"
     ]
    },
    {
     "name": "stderr",
     "output_type": "stream",
     "text": [
      "🚀 Training: 100%|██████████| 100/100 [00:00<00:00, 133.08it/s, loss=6.3458]\n",
      "🚀 Validation: 100%|██████████| 13/13 [00:00<00:00, 338.34it/s, loss=6.8845]\n"
     ]
    },
    {
     "name": "stdout",
     "output_type": "stream",
     "text": [
      "[Epoch 21] Train Loss: 6.2744 | Val Loss: 6.9022\n",
      "Epoch 22/100\n"
     ]
    },
    {
     "name": "stderr",
     "output_type": "stream",
     "text": [
      "🚀 Training: 100%|██████████| 100/100 [00:00<00:00, 130.79it/s, loss=6.2444]\n",
      "🚀 Validation: 100%|██████████| 13/13 [00:00<00:00, 347.57it/s, loss=6.8776]\n"
     ]
    },
    {
     "name": "stdout",
     "output_type": "stream",
     "text": [
      "[Epoch 22] Train Loss: 6.2553 | Val Loss: 6.8988\n",
      "Epoch 23/100\n"
     ]
    },
    {
     "name": "stderr",
     "output_type": "stream",
     "text": [
      "🚀 Training: 100%|██████████| 100/100 [00:00<00:00, 132.46it/s, loss=6.1185]\n",
      "🚀 Validation: 100%|██████████| 13/13 [00:00<00:00, 332.18it/s, loss=6.8758]\n"
     ]
    },
    {
     "name": "stdout",
     "output_type": "stream",
     "text": [
      "[Epoch 23] Train Loss: 6.2475 | Val Loss: 6.8917\n",
      "Epoch 24/100\n"
     ]
    },
    {
     "name": "stderr",
     "output_type": "stream",
     "text": [
      "🚀 Training: 100%|██████████| 100/100 [00:00<00:00, 150.22it/s, loss=5.8864]\n",
      "🚀 Validation: 100%|██████████| 13/13 [00:00<00:00, 243.94it/s, loss=6.8690]\n"
     ]
    },
    {
     "name": "stdout",
     "output_type": "stream",
     "text": [
      "[Epoch 24] Train Loss: 6.2210 | Val Loss: 6.8875\n",
      "Epoch 25/100\n"
     ]
    },
    {
     "name": "stderr",
     "output_type": "stream",
     "text": [
      "🚀 Training: 100%|██████████| 100/100 [00:00<00:00, 130.29it/s, loss=6.0708]\n",
      "🚀 Validation: 100%|██████████| 13/13 [00:00<00:00, 252.10it/s, loss=6.8646]\n"
     ]
    },
    {
     "name": "stdout",
     "output_type": "stream",
     "text": [
      "[Epoch 25] Train Loss: 6.1968 | Val Loss: 6.8866\n",
      "Epoch 26/100\n"
     ]
    },
    {
     "name": "stderr",
     "output_type": "stream",
     "text": [
      "🚀 Training: 100%|██████████| 100/100 [00:00<00:00, 135.59it/s, loss=6.2359]\n",
      "🚀 Validation: 100%|██████████| 13/13 [00:00<00:00, 252.58it/s, loss=6.8679]\n"
     ]
    },
    {
     "name": "stdout",
     "output_type": "stream",
     "text": [
      "[Epoch 26] Train Loss: 6.1842 | Val Loss: 6.8803\n",
      "Epoch 27/100\n"
     ]
    },
    {
     "name": "stderr",
     "output_type": "stream",
     "text": [
      "🚀 Training: 100%|██████████| 100/100 [00:00<00:00, 129.62it/s, loss=6.0296]\n",
      "🚀 Validation: 100%|██████████| 13/13 [00:00<00:00, 270.29it/s, loss=6.8558]\n"
     ]
    },
    {
     "name": "stdout",
     "output_type": "stream",
     "text": [
      "[Epoch 27] Train Loss: 6.1704 | Val Loss: 6.8722\n",
      "  -> New best model saved at saved/best.pt\n",
      "Epoch 28/100\n"
     ]
    },
    {
     "name": "stderr",
     "output_type": "stream",
     "text": [
      "🚀 Training: 100%|██████████| 100/100 [00:00<00:00, 130.03it/s, loss=5.7732]\n",
      "🚀 Validation: 100%|██████████| 13/13 [00:00<00:00, 274.72it/s, loss=6.8478]\n"
     ]
    },
    {
     "name": "stdout",
     "output_type": "stream",
     "text": [
      "[Epoch 28] Train Loss: 6.1496 | Val Loss: 6.8631\n",
      "  -> New best model saved at saved/best.pt\n",
      "Epoch 29/100\n"
     ]
    },
    {
     "name": "stderr",
     "output_type": "stream",
     "text": [
      "🚀 Training: 100%|██████████| 100/100 [00:00<00:00, 132.95it/s, loss=5.8251]\n",
      "🚀 Validation: 100%|██████████| 13/13 [00:00<00:00, 350.60it/s, loss=6.8550]\n"
     ]
    },
    {
     "name": "stdout",
     "output_type": "stream",
     "text": [
      "[Epoch 29] Train Loss: 6.1334 | Val Loss: 6.8687\n",
      "Epoch 30/100\n"
     ]
    },
    {
     "name": "stderr",
     "output_type": "stream",
     "text": [
      "🚀 Training: 100%|██████████| 100/100 [00:00<00:00, 146.29it/s, loss=5.9229]\n",
      "🚀 Validation: 100%|██████████| 13/13 [00:00<00:00, 296.17it/s, loss=6.8515]\n"
     ]
    },
    {
     "name": "stdout",
     "output_type": "stream",
     "text": [
      "[Epoch 30] Train Loss: 6.1087 | Val Loss: 6.8622\n",
      "  -> New best model saved at saved/best.pt\n",
      "Epoch 31/100\n"
     ]
    },
    {
     "name": "stderr",
     "output_type": "stream",
     "text": [
      "🚀 Training: 100%|██████████| 100/100 [00:00<00:00, 131.50it/s, loss=5.9113]\n",
      "🚀 Validation: 100%|██████████| 13/13 [00:00<00:00, 306.77it/s, loss=6.8385]\n"
     ]
    },
    {
     "name": "stdout",
     "output_type": "stream",
     "text": [
      "[Epoch 31] Train Loss: 6.1027 | Val Loss: 6.8547\n",
      "  -> New best model saved at saved/best.pt\n",
      "Epoch 32/100\n"
     ]
    },
    {
     "name": "stderr",
     "output_type": "stream",
     "text": [
      "🚀 Training: 100%|██████████| 100/100 [00:00<00:00, 130.60it/s, loss=6.3791]\n",
      "🚀 Validation: 100%|██████████| 13/13 [00:00<00:00, 327.24it/s, loss=6.8348]\n"
     ]
    },
    {
     "name": "stdout",
     "output_type": "stream",
     "text": [
      "[Epoch 32] Train Loss: 6.0744 | Val Loss: 6.8443\n",
      "  -> New best model saved at saved/best.pt\n",
      "Epoch 33/100\n"
     ]
    },
    {
     "name": "stderr",
     "output_type": "stream",
     "text": [
      "🚀 Training: 100%|██████████| 100/100 [00:00<00:00, 132.47it/s, loss=5.9031]\n",
      "🚀 Validation: 100%|██████████| 13/13 [00:00<00:00, 316.00it/s, loss=6.8263]\n"
     ]
    },
    {
     "name": "stdout",
     "output_type": "stream",
     "text": [
      "[Epoch 33] Train Loss: 6.0642 | Val Loss: 6.8401\n",
      "  -> New best model saved at saved/best.pt\n",
      "Epoch 34/100\n"
     ]
    },
    {
     "name": "stderr",
     "output_type": "stream",
     "text": [
      "🚀 Training: 100%|██████████| 100/100 [00:00<00:00, 119.14it/s, loss=6.2915]\n",
      "🚀 Validation: 100%|██████████| 13/13 [00:00<00:00, 267.02it/s, loss=6.8121]\n"
     ]
    },
    {
     "name": "stdout",
     "output_type": "stream",
     "text": [
      "[Epoch 34] Train Loss: 6.0386 | Val Loss: 6.8274\n",
      "  -> New best model saved at saved/best.pt\n",
      "Epoch 35/100\n"
     ]
    },
    {
     "name": "stderr",
     "output_type": "stream",
     "text": [
      "🚀 Training: 100%|██████████| 100/100 [00:00<00:00, 118.46it/s, loss=6.1309]\n",
      "🚀 Validation: 100%|██████████| 13/13 [00:00<00:00, 303.96it/s, loss=6.8037]\n"
     ]
    },
    {
     "name": "stdout",
     "output_type": "stream",
     "text": [
      "[Epoch 35] Train Loss: 6.0138 | Val Loss: 6.8181\n",
      "  -> New best model saved at saved/best.pt\n",
      "Epoch 36/100\n"
     ]
    },
    {
     "name": "stderr",
     "output_type": "stream",
     "text": [
      "🚀 Training: 100%|██████████| 100/100 [00:00<00:00, 131.13it/s, loss=6.2426]\n",
      "🚀 Validation: 100%|██████████| 13/13 [00:00<00:00, 271.65it/s, loss=6.8079]\n"
     ]
    },
    {
     "name": "stdout",
     "output_type": "stream",
     "text": [
      "[Epoch 36] Train Loss: 5.9947 | Val Loss: 6.8241\n",
      "Epoch 37/100\n"
     ]
    },
    {
     "name": "stderr",
     "output_type": "stream",
     "text": [
      "🚀 Training: 100%|██████████| 100/100 [00:00<00:00, 137.15it/s, loss=5.7221]\n",
      "🚀 Validation: 100%|██████████| 13/13 [00:00<00:00, 329.56it/s, loss=6.7975]\n"
     ]
    },
    {
     "name": "stdout",
     "output_type": "stream",
     "text": [
      "[Epoch 37] Train Loss: 5.9694 | Val Loss: 6.8200\n",
      "Epoch 38/100\n"
     ]
    },
    {
     "name": "stderr",
     "output_type": "stream",
     "text": [
      "🚀 Training: 100%|██████████| 100/100 [00:00<00:00, 137.32it/s, loss=5.9073]\n",
      "🚀 Validation: 100%|██████████| 13/13 [00:00<00:00, 305.92it/s, loss=6.7843]\n"
     ]
    },
    {
     "name": "stdout",
     "output_type": "stream",
     "text": [
      "[Epoch 38] Train Loss: 5.9569 | Val Loss: 6.8082\n",
      "  -> New best model saved at saved/best.pt\n",
      "Epoch 39/100\n"
     ]
    },
    {
     "name": "stderr",
     "output_type": "stream",
     "text": [
      "🚀 Training: 100%|██████████| 100/100 [00:00<00:00, 136.45it/s, loss=5.7736]\n",
      "🚀 Validation: 100%|██████████| 13/13 [00:00<00:00, 275.43it/s, loss=6.7929]\n"
     ]
    },
    {
     "name": "stdout",
     "output_type": "stream",
     "text": [
      "[Epoch 39] Train Loss: 5.9321 | Val Loss: 6.8125\n",
      "Epoch 40/100\n"
     ]
    },
    {
     "name": "stderr",
     "output_type": "stream",
     "text": [
      "🚀 Training: 100%|██████████| 100/100 [00:00<00:00, 107.15it/s, loss=5.6994]\n",
      "🚀 Validation: 100%|██████████| 13/13 [00:00<00:00, 237.82it/s, loss=6.7888]\n"
     ]
    },
    {
     "name": "stdout",
     "output_type": "stream",
     "text": [
      "[Epoch 40] Train Loss: 5.8990 | Val Loss: 6.8125\n",
      "Epoch 41/100\n"
     ]
    },
    {
     "name": "stderr",
     "output_type": "stream",
     "text": [
      "🚀 Training: 100%|██████████| 100/100 [00:00<00:00, 131.55it/s, loss=6.0040]\n",
      "🚀 Validation: 100%|██████████| 13/13 [00:00<00:00, 324.59it/s, loss=6.7830]\n"
     ]
    },
    {
     "name": "stdout",
     "output_type": "stream",
     "text": [
      "[Epoch 41] Train Loss: 5.8886 | Val Loss: 6.8109\n",
      "Epoch 42/100\n"
     ]
    },
    {
     "name": "stderr",
     "output_type": "stream",
     "text": [
      "🚀 Training: 100%|██████████| 100/100 [00:00<00:00, 144.43it/s, loss=5.9622]\n",
      "🚀 Validation: 100%|██████████| 13/13 [00:00<00:00, 344.53it/s, loss=6.7927]\n"
     ]
    },
    {
     "name": "stdout",
     "output_type": "stream",
     "text": [
      "[Epoch 42] Train Loss: 5.8569 | Val Loss: 6.8156\n",
      "Epoch 43/100\n"
     ]
    },
    {
     "name": "stderr",
     "output_type": "stream",
     "text": [
      "🚀 Training: 100%|██████████| 100/100 [00:00<00:00, 138.18it/s, loss=5.8667]\n",
      "🚀 Validation: 100%|██████████| 13/13 [00:00<00:00, 252.62it/s, loss=6.7787]\n"
     ]
    },
    {
     "name": "stdout",
     "output_type": "stream",
     "text": [
      "[Epoch 43] Train Loss: 5.8453 | Val Loss: 6.8019\n",
      "  -> New best model saved at saved/best.pt\n",
      "Epoch 44/100\n"
     ]
    },
    {
     "name": "stderr",
     "output_type": "stream",
     "text": [
      "🚀 Training: 100%|██████████| 100/100 [00:00<00:00, 141.25it/s, loss=5.9082]\n",
      "🚀 Validation: 100%|██████████| 13/13 [00:00<00:00, 339.68it/s, loss=6.7810]\n"
     ]
    },
    {
     "name": "stdout",
     "output_type": "stream",
     "text": [
      "[Epoch 44] Train Loss: 5.8139 | Val Loss: 6.8050\n",
      "Epoch 45/100\n"
     ]
    },
    {
     "name": "stderr",
     "output_type": "stream",
     "text": [
      "🚀 Training: 100%|██████████| 100/100 [00:00<00:00, 135.75it/s, loss=5.9558]\n",
      "🚀 Validation: 100%|██████████| 13/13 [00:00<00:00, 248.37it/s, loss=6.7749]\n"
     ]
    },
    {
     "name": "stdout",
     "output_type": "stream",
     "text": [
      "[Epoch 45] Train Loss: 5.7976 | Val Loss: 6.7935\n",
      "  -> New best model saved at saved/best.pt\n",
      "Epoch 46/100\n"
     ]
    },
    {
     "name": "stderr",
     "output_type": "stream",
     "text": [
      "🚀 Training: 100%|██████████| 100/100 [00:00<00:00, 136.90it/s, loss=5.7028]\n",
      "🚀 Validation: 100%|██████████| 13/13 [00:00<00:00, 263.39it/s, loss=6.7718]\n"
     ]
    },
    {
     "name": "stdout",
     "output_type": "stream",
     "text": [
      "[Epoch 46] Train Loss: 5.7896 | Val Loss: 6.7902\n",
      "  -> New best model saved at saved/best.pt\n",
      "Epoch 47/100\n"
     ]
    },
    {
     "name": "stderr",
     "output_type": "stream",
     "text": [
      "🚀 Training: 100%|██████████| 100/100 [00:00<00:00, 120.62it/s, loss=5.6649]\n",
      "🚀 Validation: 100%|██████████| 13/13 [00:00<00:00, 264.26it/s, loss=6.7767]\n"
     ]
    },
    {
     "name": "stdout",
     "output_type": "stream",
     "text": [
      "[Epoch 47] Train Loss: 5.7689 | Val Loss: 6.8039\n",
      "Epoch 48/100\n"
     ]
    },
    {
     "name": "stderr",
     "output_type": "stream",
     "text": [
      "🚀 Training: 100%|██████████| 100/100 [00:00<00:00, 116.13it/s, loss=5.4619]\n",
      "🚀 Validation: 100%|██████████| 13/13 [00:00<00:00, 308.82it/s, loss=6.7638]\n"
     ]
    },
    {
     "name": "stdout",
     "output_type": "stream",
     "text": [
      "[Epoch 48] Train Loss: 5.7341 | Val Loss: 6.7970\n",
      "Epoch 49/100\n"
     ]
    },
    {
     "name": "stderr",
     "output_type": "stream",
     "text": [
      "🚀 Training: 100%|██████████| 100/100 [00:00<00:00, 130.70it/s, loss=5.4601]\n",
      "🚀 Validation: 100%|██████████| 13/13 [00:00<00:00, 292.40it/s, loss=6.7741]\n"
     ]
    },
    {
     "name": "stdout",
     "output_type": "stream",
     "text": [
      "[Epoch 49] Train Loss: 5.7127 | Val Loss: 6.8019\n",
      "Epoch 50/100\n"
     ]
    },
    {
     "name": "stderr",
     "output_type": "stream",
     "text": [
      "🚀 Training: 100%|██████████| 100/100 [00:00<00:00, 137.33it/s, loss=5.9212]\n",
      "🚀 Validation: 100%|██████████| 13/13 [00:00<00:00, 286.93it/s, loss=6.7670]\n"
     ]
    },
    {
     "name": "stdout",
     "output_type": "stream",
     "text": [
      "[Epoch 50] Train Loss: 5.7026 | Val Loss: 6.8004\n",
      "Epoch 51/100\n"
     ]
    },
    {
     "name": "stderr",
     "output_type": "stream",
     "text": [
      "🚀 Training: 100%|██████████| 100/100 [00:00<00:00, 135.78it/s, loss=5.8787]\n",
      "🚀 Validation: 100%|██████████| 13/13 [00:00<00:00, 328.16it/s, loss=6.7682]\n"
     ]
    },
    {
     "name": "stdout",
     "output_type": "stream",
     "text": [
      "[Epoch 51] Train Loss: 5.6763 | Val Loss: 6.7979\n",
      "Epoch 52/100\n"
     ]
    },
    {
     "name": "stderr",
     "output_type": "stream",
     "text": [
      "🚀 Training: 100%|██████████| 100/100 [00:00<00:00, 136.95it/s, loss=5.9159]\n",
      "🚀 Validation: 100%|██████████| 13/13 [00:00<00:00, 309.19it/s, loss=6.7610]\n"
     ]
    },
    {
     "name": "stdout",
     "output_type": "stream",
     "text": [
      "[Epoch 52] Train Loss: 5.6529 | Val Loss: 6.7939\n",
      "Epoch 53/100\n"
     ]
    },
    {
     "name": "stderr",
     "output_type": "stream",
     "text": [
      "🚀 Training: 100%|██████████| 100/100 [00:01<00:00, 91.38it/s, loss=5.6367]\n",
      "🚀 Validation: 100%|██████████| 13/13 [00:00<00:00, 253.20it/s, loss=6.7668]\n"
     ]
    },
    {
     "name": "stdout",
     "output_type": "stream",
     "text": [
      "[Epoch 53] Train Loss: 5.6385 | Val Loss: 6.8001\n",
      "Epoch 54/100\n"
     ]
    },
    {
     "name": "stderr",
     "output_type": "stream",
     "text": [
      "🚀 Training: 100%|██████████| 100/100 [00:00<00:00, 123.21it/s, loss=5.5635]\n",
      "🚀 Validation: 100%|██████████| 13/13 [00:00<00:00, 239.28it/s, loss=6.7778]\n"
     ]
    },
    {
     "name": "stdout",
     "output_type": "stream",
     "text": [
      "[Epoch 54] Train Loss: 5.6182 | Val Loss: 6.8054\n",
      "Epoch 55/100\n"
     ]
    },
    {
     "name": "stderr",
     "output_type": "stream",
     "text": [
      "🚀 Training: 100%|██████████| 100/100 [00:00<00:00, 118.36it/s, loss=5.6434]\n",
      "🚀 Validation: 100%|██████████| 13/13 [00:00<00:00, 260.47it/s, loss=6.7725]\n"
     ]
    },
    {
     "name": "stdout",
     "output_type": "stream",
     "text": [
      "[Epoch 55] Train Loss: 5.6042 | Val Loss: 6.8004\n",
      "Epoch 56/100\n"
     ]
    },
    {
     "name": "stderr",
     "output_type": "stream",
     "text": [
      "🚀 Training: 100%|██████████| 100/100 [00:00<00:00, 119.85it/s, loss=5.8591]\n",
      "🚀 Validation: 100%|██████████| 13/13 [00:00<00:00, 272.68it/s, loss=6.7683]\n"
     ]
    },
    {
     "name": "stdout",
     "output_type": "stream",
     "text": [
      "[Epoch 56] Train Loss: 5.5894 | Val Loss: 6.7919\n",
      "Epoch 57/100\n"
     ]
    },
    {
     "name": "stderr",
     "output_type": "stream",
     "text": [
      "🚀 Training: 100%|██████████| 100/100 [00:00<00:00, 119.89it/s, loss=5.5095]\n",
      "🚀 Validation: 100%|██████████| 13/13 [00:00<00:00, 309.90it/s, loss=6.7802]\n"
     ]
    },
    {
     "name": "stdout",
     "output_type": "stream",
     "text": [
      "[Epoch 57] Train Loss: 5.5582 | Val Loss: 6.8018\n",
      "Epoch 58/100\n"
     ]
    },
    {
     "name": "stderr",
     "output_type": "stream",
     "text": [
      "🚀 Training: 100%|██████████| 100/100 [00:00<00:00, 123.93it/s, loss=5.7741]\n",
      "🚀 Validation: 100%|██████████| 13/13 [00:00<00:00, 301.63it/s, loss=6.7887]\n"
     ]
    },
    {
     "name": "stdout",
     "output_type": "stream",
     "text": [
      "[Epoch 58] Train Loss: 5.5353 | Val Loss: 6.8102\n",
      "Epoch 59/100\n"
     ]
    },
    {
     "name": "stderr",
     "output_type": "stream",
     "text": [
      "🚀 Training: 100%|██████████| 100/100 [00:00<00:00, 126.26it/s, loss=5.6128]\n",
      "🚀 Validation: 100%|██████████| 13/13 [00:00<00:00, 195.56it/s, loss=6.7702]\n"
     ]
    },
    {
     "name": "stdout",
     "output_type": "stream",
     "text": [
      "[Epoch 59] Train Loss: 5.5179 | Val Loss: 6.7967\n",
      "Epoch 60/100\n"
     ]
    },
    {
     "name": "stderr",
     "output_type": "stream",
     "text": [
      "🚀 Training: 100%|██████████| 100/100 [00:00<00:00, 125.01it/s, loss=5.5241]\n",
      "🚀 Validation: 100%|██████████| 13/13 [00:00<00:00, 293.21it/s, loss=6.7874]\n"
     ]
    },
    {
     "name": "stdout",
     "output_type": "stream",
     "text": [
      "[Epoch 60] Train Loss: 5.5028 | Val Loss: 6.8109\n",
      "Epoch 61/100\n"
     ]
    },
    {
     "name": "stderr",
     "output_type": "stream",
     "text": [
      "🚀 Training: 100%|██████████| 100/100 [00:00<00:00, 121.46it/s, loss=5.6039]\n",
      "🚀 Validation: 100%|██████████| 13/13 [00:00<00:00, 296.22it/s, loss=6.7895]\n"
     ]
    },
    {
     "name": "stdout",
     "output_type": "stream",
     "text": [
      "[Epoch 61] Train Loss: 5.4847 | Val Loss: 6.8119\n",
      "Epoch 62/100\n"
     ]
    },
    {
     "name": "stderr",
     "output_type": "stream",
     "text": [
      "🚀 Training: 100%|██████████| 100/100 [00:00<00:00, 122.18it/s, loss=5.3897]\n",
      "🚀 Validation: 100%|██████████| 13/13 [00:00<00:00, 278.48it/s, loss=6.7859]\n"
     ]
    },
    {
     "name": "stdout",
     "output_type": "stream",
     "text": [
      "[Epoch 62] Train Loss: 5.4650 | Val Loss: 6.8112\n",
      "Epoch 63/100\n"
     ]
    },
    {
     "name": "stderr",
     "output_type": "stream",
     "text": [
      "🚀 Training: 100%|██████████| 100/100 [00:00<00:00, 112.65it/s, loss=5.4172]\n",
      "🚀 Validation: 100%|██████████| 13/13 [00:00<00:00, 233.86it/s, loss=6.7916]\n"
     ]
    },
    {
     "name": "stdout",
     "output_type": "stream",
     "text": [
      "[Epoch 63] Train Loss: 5.4407 | Val Loss: 6.8157\n",
      "Epoch 64/100\n"
     ]
    },
    {
     "name": "stderr",
     "output_type": "stream",
     "text": [
      "🚀 Training: 100%|██████████| 100/100 [00:00<00:00, 122.96it/s, loss=5.4400]\n",
      "🚀 Validation: 100%|██████████| 13/13 [00:00<00:00, 295.22it/s, loss=6.8085]\n"
     ]
    },
    {
     "name": "stdout",
     "output_type": "stream",
     "text": [
      "[Epoch 64] Train Loss: 5.4346 | Val Loss: 6.8255\n",
      "Epoch 65/100\n"
     ]
    },
    {
     "name": "stderr",
     "output_type": "stream",
     "text": [
      "🚀 Training: 100%|██████████| 100/100 [00:00<00:00, 125.34it/s, loss=5.2215]\n",
      "🚀 Validation: 100%|██████████| 13/13 [00:00<00:00, 315.76it/s, loss=6.7969]\n"
     ]
    },
    {
     "name": "stdout",
     "output_type": "stream",
     "text": [
      "[Epoch 65] Train Loss: 5.4105 | Val Loss: 6.8244\n",
      "Epoch 66/100\n"
     ]
    },
    {
     "name": "stderr",
     "output_type": "stream",
     "text": [
      "🚀 Training: 100%|██████████| 100/100 [00:00<00:00, 124.19it/s, loss=5.5402]\n",
      "🚀 Validation: 100%|██████████| 13/13 [00:00<00:00, 304.69it/s, loss=6.8044]\n"
     ]
    },
    {
     "name": "stdout",
     "output_type": "stream",
     "text": [
      "[Epoch 66] Train Loss: 5.3929 | Val Loss: 6.8292\n",
      "Epoch 67/100\n"
     ]
    },
    {
     "name": "stderr",
     "output_type": "stream",
     "text": [
      "🚀 Training: 100%|██████████| 100/100 [00:00<00:00, 127.07it/s, loss=5.3900]\n",
      "🚀 Validation: 100%|██████████| 13/13 [00:00<00:00, 306.31it/s, loss=6.8102]\n"
     ]
    },
    {
     "name": "stdout",
     "output_type": "stream",
     "text": [
      "[Epoch 67] Train Loss: 5.3701 | Val Loss: 6.8330\n",
      "Epoch 68/100\n"
     ]
    },
    {
     "name": "stderr",
     "output_type": "stream",
     "text": [
      "🚀 Training: 100%|██████████| 100/100 [00:00<00:00, 123.69it/s, loss=5.1622]\n",
      "🚀 Validation: 100%|██████████| 13/13 [00:00<00:00, 236.06it/s, loss=6.8013]\n"
     ]
    },
    {
     "name": "stdout",
     "output_type": "stream",
     "text": [
      "[Epoch 68] Train Loss: 5.3646 | Val Loss: 6.8302\n",
      "Epoch 69/100\n"
     ]
    },
    {
     "name": "stderr",
     "output_type": "stream",
     "text": [
      "🚀 Training: 100%|██████████| 100/100 [00:00<00:00, 117.18it/s, loss=5.6004]\n",
      "🚀 Validation: 100%|██████████| 13/13 [00:00<00:00, 287.57it/s, loss=6.8144]\n"
     ]
    },
    {
     "name": "stdout",
     "output_type": "stream",
     "text": [
      "[Epoch 69] Train Loss: 5.3432 | Val Loss: 6.8420\n",
      "Epoch 70/100\n"
     ]
    },
    {
     "name": "stderr",
     "output_type": "stream",
     "text": [
      "🚀 Training: 100%|██████████| 100/100 [00:00<00:00, 133.05it/s, loss=5.4240]\n",
      "🚀 Validation: 100%|██████████| 13/13 [00:00<00:00, 330.97it/s, loss=6.8347]\n"
     ]
    },
    {
     "name": "stdout",
     "output_type": "stream",
     "text": [
      "[Epoch 70] Train Loss: 5.3208 | Val Loss: 6.8601\n",
      "Epoch 71/100\n"
     ]
    },
    {
     "name": "stderr",
     "output_type": "stream",
     "text": [
      "🚀 Training: 100%|██████████| 100/100 [00:00<00:00, 130.49it/s, loss=5.1654]\n",
      "🚀 Validation: 100%|██████████| 13/13 [00:00<00:00, 233.05it/s, loss=6.8404]\n"
     ]
    },
    {
     "name": "stdout",
     "output_type": "stream",
     "text": [
      "[Epoch 71] Train Loss: 5.3022 | Val Loss: 6.8596\n",
      "Epoch 72/100\n"
     ]
    },
    {
     "name": "stderr",
     "output_type": "stream",
     "text": [
      "🚀 Training: 100%|██████████| 100/100 [00:00<00:00, 130.99it/s, loss=5.2338]\n",
      "🚀 Validation: 100%|██████████| 13/13 [00:00<00:00, 304.98it/s, loss=6.8348]\n"
     ]
    },
    {
     "name": "stdout",
     "output_type": "stream",
     "text": [
      "[Epoch 72] Train Loss: 5.2792 | Val Loss: 6.8569\n",
      "Epoch 73/100\n"
     ]
    },
    {
     "name": "stderr",
     "output_type": "stream",
     "text": [
      "🚀 Training: 100%|██████████| 100/100 [00:00<00:00, 130.70it/s, loss=5.2812]\n",
      "🚀 Validation: 100%|██████████| 13/13 [00:00<00:00, 348.89it/s, loss=6.8257]\n"
     ]
    },
    {
     "name": "stdout",
     "output_type": "stream",
     "text": [
      "[Epoch 73] Train Loss: 5.2630 | Val Loss: 6.8514\n",
      "Epoch 74/100\n"
     ]
    },
    {
     "name": "stderr",
     "output_type": "stream",
     "text": [
      "🚀 Training: 100%|██████████| 100/100 [00:00<00:00, 134.09it/s, loss=5.2878]\n",
      "🚀 Validation: 100%|██████████| 13/13 [00:00<00:00, 295.87it/s, loss=6.8306]\n"
     ]
    },
    {
     "name": "stdout",
     "output_type": "stream",
     "text": [
      "[Epoch 74] Train Loss: 5.2506 | Val Loss: 6.8581\n",
      "Epoch 75/100\n"
     ]
    },
    {
     "name": "stderr",
     "output_type": "stream",
     "text": [
      "🚀 Training: 100%|██████████| 100/100 [00:00<00:00, 127.65it/s, loss=5.3932]\n",
      "🚀 Validation: 100%|██████████| 13/13 [00:00<00:00, 310.31it/s, loss=6.8480]\n"
     ]
    },
    {
     "name": "stdout",
     "output_type": "stream",
     "text": [
      "[Epoch 75] Train Loss: 5.2314 | Val Loss: 6.8736\n",
      "Epoch 76/100\n"
     ]
    },
    {
     "name": "stderr",
     "output_type": "stream",
     "text": [
      "🚀 Training: 100%|██████████| 100/100 [00:00<00:00, 144.18it/s, loss=5.0310]\n",
      "🚀 Validation: 100%|██████████| 13/13 [00:00<00:00, 298.90it/s, loss=6.8448]\n"
     ]
    },
    {
     "name": "stdout",
     "output_type": "stream",
     "text": [
      "[Epoch 76] Train Loss: 5.2153 | Val Loss: 6.8735\n",
      "Epoch 77/100\n"
     ]
    },
    {
     "name": "stderr",
     "output_type": "stream",
     "text": [
      "🚀 Training: 100%|██████████| 100/100 [00:00<00:00, 129.61it/s, loss=5.0823]\n",
      "🚀 Validation: 100%|██████████| 13/13 [00:00<00:00, 283.53it/s, loss=6.8711]\n"
     ]
    },
    {
     "name": "stdout",
     "output_type": "stream",
     "text": [
      "[Epoch 77] Train Loss: 5.1922 | Val Loss: 6.8966\n",
      "Epoch 78/100\n"
     ]
    },
    {
     "name": "stderr",
     "output_type": "stream",
     "text": [
      "🚀 Training: 100%|██████████| 100/100 [00:00<00:00, 135.25it/s, loss=5.2444]\n",
      "🚀 Validation: 100%|██████████| 13/13 [00:00<00:00, 299.13it/s, loss=6.8587]\n"
     ]
    },
    {
     "name": "stdout",
     "output_type": "stream",
     "text": [
      "[Epoch 78] Train Loss: 5.1813 | Val Loss: 6.8941\n",
      "Epoch 79/100\n"
     ]
    },
    {
     "name": "stderr",
     "output_type": "stream",
     "text": [
      "🚀 Training: 100%|██████████| 100/100 [00:00<00:00, 119.32it/s, loss=5.3783]\n",
      "🚀 Validation: 100%|██████████| 13/13 [00:00<00:00, 264.61it/s, loss=6.8653]\n"
     ]
    },
    {
     "name": "stdout",
     "output_type": "stream",
     "text": [
      "[Epoch 79] Train Loss: 5.1687 | Val Loss: 6.8977\n",
      "Epoch 80/100\n"
     ]
    },
    {
     "name": "stderr",
     "output_type": "stream",
     "text": [
      "🚀 Training: 100%|██████████| 100/100 [00:00<00:00, 138.08it/s, loss=5.2349]\n",
      "🚀 Validation: 100%|██████████| 13/13 [00:00<00:00, 263.25it/s, loss=6.8732]\n"
     ]
    },
    {
     "name": "stdout",
     "output_type": "stream",
     "text": [
      "[Epoch 80] Train Loss: 5.1526 | Val Loss: 6.9053\n",
      "Epoch 81/100\n"
     ]
    },
    {
     "name": "stderr",
     "output_type": "stream",
     "text": [
      "🚀 Training: 100%|██████████| 100/100 [00:00<00:00, 129.86it/s, loss=5.0988]\n",
      "🚀 Validation: 100%|██████████| 13/13 [00:00<00:00, 320.97it/s, loss=6.8791]\n"
     ]
    },
    {
     "name": "stdout",
     "output_type": "stream",
     "text": [
      "[Epoch 81] Train Loss: 5.1391 | Val Loss: 6.9077\n",
      "Epoch 82/100\n"
     ]
    },
    {
     "name": "stderr",
     "output_type": "stream",
     "text": [
      "🚀 Training: 100%|██████████| 100/100 [00:00<00:00, 121.98it/s, loss=5.1207]\n",
      "🚀 Validation: 100%|██████████| 13/13 [00:00<00:00, 256.64it/s, loss=6.8863]\n"
     ]
    },
    {
     "name": "stdout",
     "output_type": "stream",
     "text": [
      "[Epoch 82] Train Loss: 5.1255 | Val Loss: 6.9149\n",
      "Epoch 83/100\n"
     ]
    },
    {
     "name": "stderr",
     "output_type": "stream",
     "text": [
      "🚀 Training: 100%|██████████| 100/100 [00:00<00:00, 144.31it/s, loss=5.2530]\n",
      "🚀 Validation: 100%|██████████| 13/13 [00:00<00:00, 290.18it/s, loss=6.8938]\n"
     ]
    },
    {
     "name": "stdout",
     "output_type": "stream",
     "text": [
      "[Epoch 83] Train Loss: 5.1040 | Val Loss: 6.9181\n",
      "Epoch 84/100\n"
     ]
    },
    {
     "name": "stderr",
     "output_type": "stream",
     "text": [
      "🚀 Training: 100%|██████████| 100/100 [00:00<00:00, 148.27it/s, loss=5.2577]\n",
      "🚀 Validation: 100%|██████████| 13/13 [00:00<00:00, 226.25it/s, loss=6.9024]\n"
     ]
    },
    {
     "name": "stdout",
     "output_type": "stream",
     "text": [
      "[Epoch 84] Train Loss: 5.0920 | Val Loss: 6.9319\n",
      "Epoch 85/100\n"
     ]
    },
    {
     "name": "stderr",
     "output_type": "stream",
     "text": [
      "🚀 Training: 100%|██████████| 100/100 [00:00<00:00, 124.39it/s, loss=4.9524]\n",
      "🚀 Validation: 100%|██████████| 13/13 [00:00<00:00, 268.80it/s, loss=6.9059]\n"
     ]
    },
    {
     "name": "stdout",
     "output_type": "stream",
     "text": [
      "[Epoch 85] Train Loss: 5.0661 | Val Loss: 6.9386\n",
      "Epoch 86/100\n"
     ]
    },
    {
     "name": "stderr",
     "output_type": "stream",
     "text": [
      "🚀 Training: 100%|██████████| 100/100 [00:00<00:00, 131.94it/s, loss=4.8033]\n",
      "🚀 Validation: 100%|██████████| 13/13 [00:00<00:00, 262.28it/s, loss=6.9214]\n"
     ]
    },
    {
     "name": "stdout",
     "output_type": "stream",
     "text": [
      "[Epoch 86] Train Loss: 5.0605 | Val Loss: 6.9497\n",
      "Epoch 87/100\n"
     ]
    },
    {
     "name": "stderr",
     "output_type": "stream",
     "text": [
      "🚀 Training: 100%|██████████| 100/100 [00:00<00:00, 126.15it/s, loss=4.8546]\n",
      "🚀 Validation: 100%|██████████| 13/13 [00:00<00:00, 348.76it/s, loss=6.9246]\n"
     ]
    },
    {
     "name": "stdout",
     "output_type": "stream",
     "text": [
      "[Epoch 87] Train Loss: 5.0447 | Val Loss: 6.9542\n",
      "Epoch 88/100\n"
     ]
    },
    {
     "name": "stderr",
     "output_type": "stream",
     "text": [
      "🚀 Training: 100%|██████████| 100/100 [00:00<00:00, 129.10it/s, loss=5.0415]\n",
      "🚀 Validation: 100%|██████████| 13/13 [00:00<00:00, 326.64it/s, loss=6.9318]\n"
     ]
    },
    {
     "name": "stdout",
     "output_type": "stream",
     "text": [
      "[Epoch 88] Train Loss: 5.0276 | Val Loss: 6.9628\n",
      "Epoch 89/100\n"
     ]
    },
    {
     "name": "stderr",
     "output_type": "stream",
     "text": [
      "🚀 Training: 100%|██████████| 100/100 [00:00<00:00, 140.66it/s, loss=5.2008]\n",
      "🚀 Validation: 100%|██████████| 13/13 [00:00<00:00, 361.25it/s, loss=6.9314]\n"
     ]
    },
    {
     "name": "stdout",
     "output_type": "stream",
     "text": [
      "[Epoch 89] Train Loss: 5.0151 | Val Loss: 6.9639\n",
      "Epoch 90/100\n"
     ]
    },
    {
     "name": "stderr",
     "output_type": "stream",
     "text": [
      "🚀 Training: 100%|██████████| 100/100 [00:00<00:00, 149.14it/s, loss=4.9895]\n",
      "🚀 Validation: 100%|██████████| 13/13 [00:00<00:00, 367.93it/s, loss=6.9367]\n"
     ]
    },
    {
     "name": "stdout",
     "output_type": "stream",
     "text": [
      "[Epoch 90] Train Loss: 5.0049 | Val Loss: 6.9707\n",
      "Epoch 91/100\n"
     ]
    },
    {
     "name": "stderr",
     "output_type": "stream",
     "text": [
      "🚀 Training: 100%|██████████| 100/100 [00:00<00:00, 140.65it/s, loss=5.2195]\n",
      "🚀 Validation: 100%|██████████| 13/13 [00:00<00:00, 334.47it/s, loss=6.9403]\n"
     ]
    },
    {
     "name": "stdout",
     "output_type": "stream",
     "text": [
      "[Epoch 91] Train Loss: 4.9826 | Val Loss: 6.9774\n",
      "Epoch 92/100\n"
     ]
    },
    {
     "name": "stderr",
     "output_type": "stream",
     "text": [
      "🚀 Training: 100%|██████████| 100/100 [00:00<00:00, 137.13it/s, loss=5.0992]\n",
      "🚀 Validation: 100%|██████████| 13/13 [00:00<00:00, 332.97it/s, loss=6.9580]\n"
     ]
    },
    {
     "name": "stdout",
     "output_type": "stream",
     "text": [
      "[Epoch 92] Train Loss: 4.9692 | Val Loss: 6.9974\n",
      "Epoch 93/100\n"
     ]
    },
    {
     "name": "stderr",
     "output_type": "stream",
     "text": [
      "🚀 Training: 100%|██████████| 100/100 [00:00<00:00, 141.71it/s, loss=5.1090]\n",
      "🚀 Validation: 100%|██████████| 13/13 [00:00<00:00, 360.06it/s, loss=6.9556]\n"
     ]
    },
    {
     "name": "stdout",
     "output_type": "stream",
     "text": [
      "[Epoch 93] Train Loss: 4.9542 | Val Loss: 6.9944\n",
      "Epoch 94/100\n"
     ]
    },
    {
     "name": "stderr",
     "output_type": "stream",
     "text": [
      "🚀 Training: 100%|██████████| 100/100 [00:00<00:00, 135.51it/s, loss=5.0132]\n",
      "🚀 Validation: 100%|██████████| 13/13 [00:00<00:00, 328.76it/s, loss=6.9524]\n"
     ]
    },
    {
     "name": "stdout",
     "output_type": "stream",
     "text": [
      "[Epoch 94] Train Loss: 4.9450 | Val Loss: 6.9952\n",
      "Epoch 95/100\n"
     ]
    },
    {
     "name": "stderr",
     "output_type": "stream",
     "text": [
      "🚀 Training: 100%|██████████| 100/100 [00:00<00:00, 149.67it/s, loss=4.8255]\n",
      "🚀 Validation: 100%|██████████| 13/13 [00:00<00:00, 319.66it/s, loss=6.9760]\n"
     ]
    },
    {
     "name": "stdout",
     "output_type": "stream",
     "text": [
      "[Epoch 95] Train Loss: 4.9303 | Val Loss: 7.0210\n",
      "Epoch 96/100\n"
     ]
    },
    {
     "name": "stderr",
     "output_type": "stream",
     "text": [
      "🚀 Training: 100%|██████████| 100/100 [00:00<00:00, 138.01it/s, loss=4.8069]\n",
      "🚀 Validation: 100%|██████████| 13/13 [00:00<00:00, 246.96it/s, loss=6.9675]\n"
     ]
    },
    {
     "name": "stdout",
     "output_type": "stream",
     "text": [
      "[Epoch 96] Train Loss: 4.9097 | Val Loss: 7.0145\n",
      "Epoch 97/100\n"
     ]
    },
    {
     "name": "stderr",
     "output_type": "stream",
     "text": [
      "🚀 Training: 100%|██████████| 100/100 [00:00<00:00, 146.03it/s, loss=4.8626]\n",
      "🚀 Validation: 100%|██████████| 13/13 [00:00<00:00, 304.49it/s, loss=6.9927]\n"
     ]
    },
    {
     "name": "stdout",
     "output_type": "stream",
     "text": [
      "[Epoch 97] Train Loss: 4.8946 | Val Loss: 7.0343\n",
      "Epoch 98/100\n"
     ]
    },
    {
     "name": "stderr",
     "output_type": "stream",
     "text": [
      "🚀 Training: 100%|██████████| 100/100 [00:00<00:00, 139.84it/s, loss=5.1271]\n",
      "🚀 Validation: 100%|██████████| 13/13 [00:00<00:00, 329.16it/s, loss=6.9959]\n"
     ]
    },
    {
     "name": "stdout",
     "output_type": "stream",
     "text": [
      "[Epoch 98] Train Loss: 4.8854 | Val Loss: 7.0378\n",
      "Epoch 99/100\n"
     ]
    },
    {
     "name": "stderr",
     "output_type": "stream",
     "text": [
      "🚀 Training: 100%|██████████| 100/100 [00:00<00:00, 146.74it/s, loss=5.0969]\n",
      "🚀 Validation: 100%|██████████| 13/13 [00:00<00:00, 223.31it/s, loss=6.9933]\n"
     ]
    },
    {
     "name": "stdout",
     "output_type": "stream",
     "text": [
      "[Epoch 99] Train Loss: 4.8760 | Val Loss: 7.0422\n",
      "Epoch 100/100\n"
     ]
    },
    {
     "name": "stderr",
     "output_type": "stream",
     "text": [
      "🚀 Training: 100%|██████████| 100/100 [00:01<00:00, 92.13it/s, loss=4.6541]\n",
      "🚀 Validation: 100%|██████████| 13/13 [00:00<00:00, 216.26it/s, loss=7.0050]"
     ]
    },
    {
     "name": "stdout",
     "output_type": "stream",
     "text": [
      "[Epoch 100] Train Loss: 4.8584 | Val Loss: 7.0522\n"
     ]
    },
    {
     "name": "stderr",
     "output_type": "stream",
     "text": [
      "\n"
     ]
    }
   ],
   "source": [
    "import os\n",
    "import torch\n",
    "from tqdm import tqdm\n",
    "os.makedirs(SAVE_DIR, exist_ok=True)\n",
    "best_val_loss = float(\"inf\") \n",
    "best_model_path = None\n",
    "for epoch in range(1, EPOCHS + 1):\n",
    "    print(f\"Epoch {epoch}/{EPOCHS}\")\n",
    "    model.train()\n",
    "    total_train_loss = 0.0\n",
    "    train_bar = tqdm(train_loader, desc=\"🚀 Training\", \n",
    "                leave=True, total=len(train_loader))\n",
    "    for batch in train_bar:\n",
    "        optimizer.zero_grad()\n",
    "        src_batch = batch['src'].to(device)\n",
    "        tgt_batch = batch['tgt'].to(device)\n",
    "        \n",
    "        output, _ = model(src_batch, tgt_batch[:, :-1]) \n",
    "        output_dim = output.shape[-1]\n",
    "        output = output.reshape(-1, output_dim)\n",
    "        tgt_y = tgt_batch[:,1:].contiguous().view(-1)\n",
    "\n",
    "        loss = criterion(output, tgt_y)\n",
    "        loss.backward()\n",
    "        optimizer.step()\n",
    "        total_train_loss += loss.item()\n",
    "        train_bar.set_postfix(loss=f\"{loss.item():.4f}\")\n",
    "\n",
    "    avg_train_loss = total_train_loss / len(train_loader)\n",
    "    model.eval()\n",
    "    total_val_loss = 0.0\n",
    "    val_bar = tqdm(val_loader, desc=\"🚀 Validation\",\n",
    "              leave=True, total=len(val_loader))\n",
    "    with torch.no_grad():\n",
    "        for batch in val_bar:\n",
    "            src_batch = batch['src'].to(device)\n",
    "            tgt_batch = batch['tgt'].to(device)\n",
    "            \n",
    "            output, _ = model(src_batch, tgt_batch[:, :-1]) \n",
    "            output_dim = output.shape[-1]\n",
    "            output = output.reshape(-1, output_dim)\n",
    "            tgt_y = tgt_batch[:,1:].contiguous().view(-1)\n",
    "\n",
    "            loss = criterion(output, tgt_y)\n",
    "            total_val_loss += loss.item()\n",
    "            val_bar.set_postfix(loss=f\"{loss.item():.4f}\")\n",
    "    \n",
    "    avg_val_loss = total_val_loss / len(val_loader)\n",
    "    print(f\"[Epoch {epoch}] Train Loss: {avg_train_loss:.4f} | Val Loss: {avg_val_loss:.4f}\")\n",
    "    if avg_val_loss < best_val_loss:\n",
    "        if best_model_path and os.path.exists(best_model_path):\n",
    "            os.remove(best_model_path)\n",
    "        best_val_loss = avg_val_loss\n",
    "        best_model_path = os.path.join(SAVE_DIR, \"best.pt\")\n",
    "        torch.save(model.state_dict(), best_model_path)\n",
    "        print(f\"  -> New best model saved at {best_model_path}\")"
   ]
  },
  {
   "cell_type": "code",
   "execution_count": null,
   "metadata": {},
   "outputs": [],
   "source": []
  }
 ],
 "metadata": {
  "kernelspec": {
   "display_name": "torch_env",
   "language": "python",
   "name": "python3"
  },
  "language_info": {
   "codemirror_mode": {
    "name": "ipython",
    "version": 3
   },
   "file_extension": ".py",
   "mimetype": "text/x-python",
   "name": "python",
   "nbconvert_exporter": "python",
   "pygments_lexer": "ipython3",
   "version": "3.10.16"
  }
 },
 "nbformat": 4,
 "nbformat_minor": 2
}

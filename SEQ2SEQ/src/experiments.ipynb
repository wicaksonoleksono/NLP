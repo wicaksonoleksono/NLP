{
 "cells": [
  {
   "cell_type": "code",
   "execution_count": 1,
   "metadata": {},
   "outputs": [
    {
     "name": "stderr",
     "output_type": "stream",
     "text": [
      "[nltk_data] Downloading package punkt to\n",
      "[nltk_data]     /home/wicaksonolxn/nltk_data...\n",
      "[nltk_data]   Package punkt is already up-to-date!\n"
     ]
    }
   ],
   "source": [
    "import os\n",
    "import torch\n",
    "import torch.nn as nn\n",
    "import torch.optim as optim\n",
    "from tqdm import tqdm\n",
    "from dataloader import get_dataloaders\n",
    "import nltk\n",
    "from nltk.translate.bleu_score import sentence_bleu, SmoothingFunction\n",
    "from transformer import Transformer,TransformerEncoder,TransformerDecoder\n",
    "import utils\n",
    "import pickle\n",
    "nltk.download('punkt')  \n",
    "device = torch.device('cuda' if torch.cuda.is_available() else 'cpu')"
   ]
  },
  {
   "cell_type": "code",
   "execution_count": null,
   "metadata": {},
   "outputs": [
    {
     "name": "stdout",
     "output_type": "stream",
     "text": [
      "TrainData - Max 'min' sentence length: 76\n",
      "TrainData - Max 'eng' sentence length: 107\n",
      "TestData - Max 'min' sentence length: 61\n",
      "TestData - Max 'eng' sentence length: 75\n",
      "ValidData - Max 'min' sentence length: 62\n",
      "ValidData - Max 'eng' sentence length: 88\n",
      "Number of examples in train_dataset,train origin,train_raw: 800 800 800\n",
      "Number of examples in valid_dataset: 100\n",
      "Number of examples in test_dataset: 100\n",
      "Model initialized on: cuda\n"
     ]
    }
   ],
   "source": [
    "BATCH_SIZE = 64# butuh lebih banyak update \n",
    "DATA_PATH = \"dataset/\"  \n",
    "SAVE_DIR = \"saved\"\n",
    "\n",
    "train_loader, val_loader, test_loader = get_dataloaders(\n",
    "    data_path=DATA_PATH, \n",
    "    source_lang=\"min\", \n",
    "    target_lang=\"eng\", \n",
    "    batch_size=BATCH_SIZE, \n",
    "    device=device\n",
    ")\n",
    "SRC_VOCAB_SIZE = 4000\n",
    "TGT_VOCAB_SIZE = 4000\n",
    "N_LAYERS = 1\n",
    "N_HEADS = 1\n",
    "D_MODEL = 128\n",
    "FFN_HIDDEN = D_MODEL*4\n",
    "DROPOUT = 0.1\n",
    "EPOCHS = 150\n",
    "\n",
    "encoder = TransformerEncoder(SRC_VOCAB_SIZE,D_MODEL,N_LAYERS,N_HEADS,FFN_HIDDEN,DROPOUT,device)\n",
    "decoder = TransformerDecoder(TGT_VOCAB_SIZE,D_MODEL,N_LAYERS,N_HEADS,FFN_HIDDEN,DROPOUT,device)\n",
    "model = Transformer(encoder,decoder,device,utils.PAD_TOKEN).to(device)\n",
    "optimizer = optim.Adam(model.parameters(), lr=1e-5)\n",
    "criterion = nn.CrossEntropyLoss(ignore_index=utils.PAD_TOKEN) \n",
    "print(\"Model initialized on:\", device)\n"
   ]
  },
  {
   "cell_type": "code",
   "execution_count": 3,
   "metadata": {},
   "outputs": [
    {
     "name": "stdout",
     "output_type": "stream",
     "text": [
      "torch.Size([64, 109]) torch.Size([64, 109])\n",
      "Padding: 0\n",
      "Start of Sequence: 1\n",
      "End of Sequence: 2\n",
      "Unknown: 3\n"
     ]
    }
   ],
   "source": [
    "tokens = {\n",
    "    \"Padding\": utils.PAD_TOKEN,\n",
    "    \"Start of Sequence\": utils.SOS_TOKEN,\n",
    "    \"End of Sequence\": utils.EOS_TOKEN,\n",
    "    \"Unknown\": utils.UNK_TOKEN\n",
    "}\n",
    "for i, batch in enumerate(train_loader):\n",
    "    if i < 8:\n",
    "        src = batch[\"src\"]\n",
    "        tgt = batch[\"tgt\"]\n",
    "        ss,fss=src[0,:],src.shape\n",
    "        st,fst=tgt[0,:],tgt.shape\n",
    "        print(fss,fst)\n",
    "    for name, token in tokens.items():\n",
    "        print(f\"{name}: {token}\")\n",
    "    else:\n",
    "        break"
   ]
  },
  {
   "cell_type": "markdown",
   "metadata": {},
   "source": [
    "testing input , is it correct"
   ]
  },
  {
   "cell_type": "code",
   "execution_count": 4,
   "metadata": {},
   "outputs": [
    {
     "name": "stdout",
     "output_type": "stream",
     "text": [
      "torch.Size([64, 109])\n",
      "torch.Size([64, 109])\n",
      "torch.Size([64, 109])\n",
      "torch.Size([64, 109])\n",
      "torch.Size([64, 109])\n",
      "torch.Size([64, 109])\n",
      "torch.Size([64, 109])\n"
     ]
    }
   ],
   "source": [
    "data_iter = iter(train_loader)\n",
    "for i in range(7):\n",
    "    batch = next(data_iter)\n",
    "    print(batch[\"src\"].shape)\n"
   ]
  },
  {
   "cell_type": "code",
   "execution_count": 5,
   "metadata": {},
   "outputs": [
    {
     "name": "stdout",
     "output_type": "stream",
     "text": [
      "tensor([ 914,  311, 2575,  ...,    0,    0,    0], device='cuda:0')\n"
     ]
    }
   ],
   "source": [
    "for i,batch in enumerate(train_loader):\n",
    "    if i <1:\n",
    "        src_batch = batch['src'].to(device)\n",
    "        tgt_batch = batch['tgt'].to(device)\n",
    "        output, _ = model(src_batch, tgt_batch[:, :-1]) \n",
    "        output_dim = output.shape[-1]\n",
    "        output = output.reshape(-1, output_dim)\n",
    "        tgt_y = tgt_batch[:,1:].contiguous().view(-1)\n",
    "        print(tgt_y)"
   ]
  },
  {
   "cell_type": "code",
   "execution_count": 6,
   "metadata": {},
   "outputs": [
    {
     "name": "stdout",
     "output_type": "stream",
     "text": [
      "Example 1:\n",
      "Source: kini restorannyo batingkek 2. sayangnyo waktu wak ka situ acnyo mati jadi angek. dan yang mambuek wak heran, awak ndak pernah diagiah struk.\n",
      "Target: now the restaurant is a twostorey. shame that it was stiflingly hot when i went there because the ac was dead. the one thing that baffled me was i was never given any receipts\n",
      "--------------------------------------------------\n",
      "Example 2:\n",
      "Source: awak indak kecewa jo produk apple\n",
      "Target: im not disappointed with apples product\n",
      "--------------------------------------------------\n",
      "Example 3:\n",
      "Source: awak suko bana makan di siko. haragonyo indak talalu maha dan rasonyo lamak. nan paliang awak suko jamur panggangnyo. banyak kejunyo dan lembut. tiok kali ka siko pasti order iko.\n",
      "Target: i really like eating here. the price is not too expensive and the flavour is wondrous. what i enjoy here the most is the grilled mushrooms. tender with lots of cheese. i order it every time i come here.\n",
      "--------------------------------------------------\n",
      "Example 4:\n",
      "Source: paliang favorit di resto ko adolah bubua 3 raso. 1 mangkuak gadang bisa untuak baduo samo laki. tu banyak menunyo untuak tambahan makan jo bubua. harago dan raso sasuai. dan yang pasti kawan makan bubua adolah teh angek hmmm. lamak!\n",
      "Target: my favorite in this resto is the 3flavorporridge. 1 huge bowl is enough for me and my husband. theres also a lot more than just porridges on the menu. the price fits the taste. and of course, you cant have porridge without a warm cup of tea. hmmmm, tasty!\n",
      "--------------------------------------------------\n",
      "Example 5:\n",
      "Source: xiaomi, samsung, tagantuang sih sanak nio tipe apo dan sasuai biaya nan sanak punyo, tanyotanyo se ka tampek nan jua hpnyo\n",
      "Target: xiaomi, samsung, it all depends on what type you want and how much budget you have, really. just ask the sellers around.\n",
      "--------------------------------------------------\n"
     ]
    }
   ],
   "source": [
    "pth = \"dataset\"\n",
    "src = \"min\"\n",
    "tgt = \"eng\"\n",
    "tp  = os.path.join(pth, f\"{src}_{tgt}\")\n",
    "with open(os.path.join(tp, \"input_dic.pkl\"),  \"rb\") as f:\n",
    "    input_dic = pickle.load(f)\n",
    "with open(os.path.join(tp, \"output_dic.pkl\"), \"rb\") as f:\n",
    "    output_dic = pickle.load(f)\n",
    "for i, batch in enumerate(train_loader):\n",
    "    if i < 1:\n",
    "        src_batch = batch['src'].to(device) \n",
    "        tgt_batch = batch['tgt'].to(device) \n",
    "        batch_size = src_batch.size(0)\n",
    "        num_examples = min(5, batch_size)\n",
    "        for j in range(num_examples):\n",
    "            src_tokens = src_batch[j].tolist()\n",
    "            tgt_tokens = tgt_batch[j].tolist()\n",
    "            src_sentence = utils.detokenize(src_tokens, input_dic)\n",
    "            tgt_sentence = utils.detokenize(tgt_tokens, output_dic)\n",
    "            print(f\"Example {j+1}:\")\n",
    "            print(\"Source:\", src_sentence)\n",
    "            print(\"Target:\", tgt_sentence)\n",
    "            print(\"-\" * 50)\n",
    "    break  \n"
   ]
  },
  {
   "cell_type": "code",
   "execution_count": 7,
   "metadata": {},
   "outputs": [
    {
     "name": "stdout",
     "output_type": "stream",
     "text": [
      "Epoch 1/150\n"
     ]
    },
    {
     "name": "stderr",
     "output_type": "stream",
     "text": [
      "🚀 Training: 100%|██████████| 13/13 [00:00<00:00, 27.56it/s, loss=8.7336]\n",
      "🚀 Validation: 100%|██████████| 2/2 [00:00<00:00, 98.97it/s, loss=8.7157]\n"
     ]
    },
    {
     "name": "stdout",
     "output_type": "stream",
     "text": [
      "[Epoch 1] Train Loss: 8.7050 | Val Loss: 8.6921\n",
      "  -> New best model saved at saved/best.pt\n",
      "Epoch 2/150\n"
     ]
    },
    {
     "name": "stderr",
     "output_type": "stream",
     "text": [
      "🚀 Training: 100%|██████████| 13/13 [00:00<00:00, 30.50it/s, loss=8.6720]\n",
      "🚀 Validation: 100%|██████████| 2/2 [00:00<00:00, 89.89it/s, loss=8.6978]\n"
     ]
    },
    {
     "name": "stdout",
     "output_type": "stream",
     "text": [
      "[Epoch 2] Train Loss: 8.6838 | Val Loss: 8.6749\n",
      "  -> New best model saved at saved/best.pt\n",
      "Epoch 3/150\n"
     ]
    },
    {
     "name": "stderr",
     "output_type": "stream",
     "text": [
      "🚀 Training: 100%|██████████| 13/13 [00:00<00:00, 31.06it/s, loss=8.7040]\n",
      "🚀 Validation: 100%|██████████| 2/2 [00:00<00:00, 98.60it/s, loss=8.6800]\n"
     ]
    },
    {
     "name": "stdout",
     "output_type": "stream",
     "text": [
      "[Epoch 3] Train Loss: 8.6753 | Val Loss: 8.6580\n",
      "  -> New best model saved at saved/best.pt\n",
      "Epoch 4/150\n"
     ]
    },
    {
     "name": "stderr",
     "output_type": "stream",
     "text": [
      "🚀 Training: 100%|██████████| 13/13 [00:00<00:00, 31.11it/s, loss=8.6747]\n",
      "🚀 Validation: 100%|██████████| 2/2 [00:00<00:00, 93.65it/s, loss=8.6622]\n"
     ]
    },
    {
     "name": "stdout",
     "output_type": "stream",
     "text": [
      "[Epoch 4] Train Loss: 8.6582 | Val Loss: 8.6409\n",
      "  -> New best model saved at saved/best.pt\n",
      "Epoch 5/150\n"
     ]
    },
    {
     "name": "stderr",
     "output_type": "stream",
     "text": [
      "🚀 Training: 100%|██████████| 13/13 [00:00<00:00, 30.97it/s, loss=8.6362]\n",
      "🚀 Validation: 100%|██████████| 2/2 [00:00<00:00, 94.69it/s, loss=8.6444]\n"
     ]
    },
    {
     "name": "stdout",
     "output_type": "stream",
     "text": [
      "[Epoch 5] Train Loss: 8.6429 | Val Loss: 8.6240\n",
      "  -> New best model saved at saved/best.pt\n",
      "Epoch 6/150\n"
     ]
    },
    {
     "name": "stderr",
     "output_type": "stream",
     "text": [
      "🚀 Training: 100%|██████████| 13/13 [00:00<00:00, 31.32it/s, loss=8.6446]\n",
      "🚀 Validation: 100%|██████████| 2/2 [00:00<00:00, 94.96it/s, loss=8.6264]\n"
     ]
    },
    {
     "name": "stdout",
     "output_type": "stream",
     "text": [
      "[Epoch 6] Train Loss: 8.6286 | Val Loss: 8.6069\n",
      "  -> New best model saved at saved/best.pt\n",
      "Epoch 7/150\n"
     ]
    },
    {
     "name": "stderr",
     "output_type": "stream",
     "text": [
      "🚀 Training: 100%|██████████| 13/13 [00:00<00:00, 31.11it/s, loss=8.6261]\n",
      "🚀 Validation: 100%|██████████| 2/2 [00:00<00:00, 93.89it/s, loss=8.6076]\n"
     ]
    },
    {
     "name": "stdout",
     "output_type": "stream",
     "text": [
      "[Epoch 7] Train Loss: 8.6100 | Val Loss: 8.5890\n",
      "  -> New best model saved at saved/best.pt\n",
      "Epoch 8/150\n"
     ]
    },
    {
     "name": "stderr",
     "output_type": "stream",
     "text": [
      "🚀 Training: 100%|██████████| 13/13 [00:00<00:00, 31.19it/s, loss=8.6032]\n",
      "🚀 Validation: 100%|██████████| 2/2 [00:00<00:00, 96.27it/s, loss=8.5885]\n"
     ]
    },
    {
     "name": "stdout",
     "output_type": "stream",
     "text": [
      "[Epoch 8] Train Loss: 8.5957 | Val Loss: 8.5709\n",
      "  -> New best model saved at saved/best.pt\n",
      "Epoch 9/150\n"
     ]
    },
    {
     "name": "stderr",
     "output_type": "stream",
     "text": [
      "🚀 Training: 100%|██████████| 13/13 [00:00<00:00, 31.10it/s, loss=8.5879]\n",
      "🚀 Validation: 100%|██████████| 2/2 [00:00<00:00, 97.32it/s, loss=8.5688]\n"
     ]
    },
    {
     "name": "stdout",
     "output_type": "stream",
     "text": [
      "[Epoch 9] Train Loss: 8.5793 | Val Loss: 8.5522\n",
      "  -> New best model saved at saved/best.pt\n",
      "Epoch 10/150\n"
     ]
    },
    {
     "name": "stderr",
     "output_type": "stream",
     "text": [
      "🚀 Training: 100%|██████████| 13/13 [00:00<00:00, 31.06it/s, loss=8.5702]\n",
      "🚀 Validation: 100%|██████████| 2/2 [00:00<00:00, 98.64it/s, loss=8.5484]\n"
     ]
    },
    {
     "name": "stdout",
     "output_type": "stream",
     "text": [
      "[Epoch 10] Train Loss: 8.5597 | Val Loss: 8.5329\n",
      "  -> New best model saved at saved/best.pt\n",
      "Epoch 11/150\n"
     ]
    },
    {
     "name": "stderr",
     "output_type": "stream",
     "text": [
      "🚀 Training: 100%|██████████| 13/13 [00:00<00:00, 31.15it/s, loss=8.5466]\n",
      "🚀 Validation: 100%|██████████| 2/2 [00:00<00:00, 95.92it/s, loss=8.5271]\n"
     ]
    },
    {
     "name": "stdout",
     "output_type": "stream",
     "text": [
      "[Epoch 11] Train Loss: 8.5455 | Val Loss: 8.5127\n",
      "  -> New best model saved at saved/best.pt\n",
      "Epoch 12/150\n"
     ]
    },
    {
     "name": "stderr",
     "output_type": "stream",
     "text": [
      "🚀 Training: 100%|██████████| 13/13 [00:00<00:00, 31.08it/s, loss=8.5105]\n",
      "🚀 Validation: 100%|██████████| 2/2 [00:00<00:00, 95.00it/s, loss=8.5050]\n"
     ]
    },
    {
     "name": "stdout",
     "output_type": "stream",
     "text": [
      "[Epoch 12] Train Loss: 8.5230 | Val Loss: 8.4917\n",
      "  -> New best model saved at saved/best.pt\n",
      "Epoch 13/150\n"
     ]
    },
    {
     "name": "stderr",
     "output_type": "stream",
     "text": [
      "🚀 Training: 100%|██████████| 13/13 [00:00<00:00, 31.29it/s, loss=8.5056]\n",
      "🚀 Validation: 100%|██████████| 2/2 [00:00<00:00, 95.27it/s, loss=8.4818]\n"
     ]
    },
    {
     "name": "stdout",
     "output_type": "stream",
     "text": [
      "[Epoch 13] Train Loss: 8.5053 | Val Loss: 8.4697\n",
      "  -> New best model saved at saved/best.pt\n",
      "Epoch 14/150\n"
     ]
    },
    {
     "name": "stderr",
     "output_type": "stream",
     "text": [
      "🚀 Training: 100%|██████████| 13/13 [00:00<00:00, 31.32it/s, loss=8.4787]\n",
      "🚀 Validation: 100%|██████████| 2/2 [00:00<00:00, 96.65it/s, loss=8.4580]\n"
     ]
    },
    {
     "name": "stdout",
     "output_type": "stream",
     "text": [
      "[Epoch 14] Train Loss: 8.4841 | Val Loss: 8.4472\n",
      "  -> New best model saved at saved/best.pt\n",
      "Epoch 15/150\n"
     ]
    },
    {
     "name": "stderr",
     "output_type": "stream",
     "text": [
      "🚀 Training: 100%|██████████| 13/13 [00:00<00:00, 31.19it/s, loss=8.4729]\n",
      "🚀 Validation: 100%|██████████| 2/2 [00:00<00:00, 100.84it/s, loss=8.4330]\n"
     ]
    },
    {
     "name": "stdout",
     "output_type": "stream",
     "text": [
      "[Epoch 15] Train Loss: 8.4651 | Val Loss: 8.4234\n",
      "  -> New best model saved at saved/best.pt\n",
      "Epoch 16/150\n"
     ]
    },
    {
     "name": "stderr",
     "output_type": "stream",
     "text": [
      "🚀 Training: 100%|██████████| 13/13 [00:00<00:00, 31.09it/s, loss=8.4246]\n",
      "🚀 Validation: 100%|██████████| 2/2 [00:00<00:00, 95.81it/s, loss=8.4074]\n"
     ]
    },
    {
     "name": "stdout",
     "output_type": "stream",
     "text": [
      "[Epoch 16] Train Loss: 8.4407 | Val Loss: 8.3991\n",
      "  -> New best model saved at saved/best.pt\n",
      "Epoch 17/150\n"
     ]
    },
    {
     "name": "stderr",
     "output_type": "stream",
     "text": [
      "🚀 Training: 100%|██████████| 13/13 [00:00<00:00, 31.36it/s, loss=8.4001]\n",
      "🚀 Validation: 100%|██████████| 2/2 [00:00<00:00, 100.75it/s, loss=8.3806]\n"
     ]
    },
    {
     "name": "stdout",
     "output_type": "stream",
     "text": [
      "[Epoch 17] Train Loss: 8.4157 | Val Loss: 8.3736\n",
      "  -> New best model saved at saved/best.pt\n",
      "Epoch 18/150\n"
     ]
    },
    {
     "name": "stderr",
     "output_type": "stream",
     "text": [
      "🚀 Training: 100%|██████████| 13/13 [00:00<00:00, 31.27it/s, loss=8.3733]\n",
      "🚀 Validation: 100%|██████████| 2/2 [00:00<00:00, 95.40it/s, loss=8.3526]\n"
     ]
    },
    {
     "name": "stdout",
     "output_type": "stream",
     "text": [
      "[Epoch 18] Train Loss: 8.3955 | Val Loss: 8.3471\n",
      "  -> New best model saved at saved/best.pt\n",
      "Epoch 19/150\n"
     ]
    },
    {
     "name": "stderr",
     "output_type": "stream",
     "text": [
      "🚀 Training: 100%|██████████| 13/13 [00:00<00:00, 31.16it/s, loss=8.4065]\n",
      "🚀 Validation: 100%|██████████| 2/2 [00:00<00:00, 99.02it/s, loss=8.3240]\n"
     ]
    },
    {
     "name": "stdout",
     "output_type": "stream",
     "text": [
      "[Epoch 19] Train Loss: 8.3688 | Val Loss: 8.3199\n",
      "  -> New best model saved at saved/best.pt\n",
      "Epoch 20/150\n"
     ]
    },
    {
     "name": "stderr",
     "output_type": "stream",
     "text": [
      "🚀 Training: 100%|██████████| 13/13 [00:00<00:00, 31.04it/s, loss=8.3605]\n",
      "🚀 Validation: 100%|██████████| 2/2 [00:00<00:00, 95.64it/s, loss=8.2942]\n"
     ]
    },
    {
     "name": "stdout",
     "output_type": "stream",
     "text": [
      "[Epoch 20] Train Loss: 8.3432 | Val Loss: 8.2918\n",
      "  -> New best model saved at saved/best.pt\n",
      "Epoch 21/150\n"
     ]
    },
    {
     "name": "stderr",
     "output_type": "stream",
     "text": [
      "🚀 Training: 100%|██████████| 13/13 [00:00<00:00, 31.30it/s, loss=8.3038]\n",
      "🚀 Validation: 100%|██████████| 2/2 [00:00<00:00, 97.86it/s, loss=8.2639]\n"
     ]
    },
    {
     "name": "stdout",
     "output_type": "stream",
     "text": [
      "[Epoch 21] Train Loss: 8.3153 | Val Loss: 8.2632\n",
      "  -> New best model saved at saved/best.pt\n",
      "Epoch 22/150\n"
     ]
    },
    {
     "name": "stderr",
     "output_type": "stream",
     "text": [
      "🚀 Training: 100%|██████████| 13/13 [00:00<00:00, 31.13it/s, loss=8.2871]\n",
      "🚀 Validation: 100%|██████████| 2/2 [00:00<00:00, 98.21it/s, loss=8.2330]\n"
     ]
    },
    {
     "name": "stdout",
     "output_type": "stream",
     "text": [
      "[Epoch 22] Train Loss: 8.2873 | Val Loss: 8.2341\n",
      "  -> New best model saved at saved/best.pt\n",
      "Epoch 23/150\n"
     ]
    },
    {
     "name": "stderr",
     "output_type": "stream",
     "text": [
      "🚀 Training: 100%|██████████| 13/13 [00:00<00:00, 31.07it/s, loss=8.2638]\n",
      "🚀 Validation: 100%|██████████| 2/2 [00:00<00:00, 97.50it/s, loss=8.2016]\n"
     ]
    },
    {
     "name": "stdout",
     "output_type": "stream",
     "text": [
      "[Epoch 23] Train Loss: 8.2619 | Val Loss: 8.2045\n",
      "  -> New best model saved at saved/best.pt\n",
      "Epoch 24/150\n"
     ]
    },
    {
     "name": "stderr",
     "output_type": "stream",
     "text": [
      "🚀 Training: 100%|██████████| 13/13 [00:00<00:00, 31.06it/s, loss=8.2073]\n",
      "🚀 Validation: 100%|██████████| 2/2 [00:00<00:00, 98.53it/s, loss=8.1704]\n"
     ]
    },
    {
     "name": "stdout",
     "output_type": "stream",
     "text": [
      "[Epoch 24] Train Loss: 8.2271 | Val Loss: 8.1751\n",
      "  -> New best model saved at saved/best.pt\n",
      "Epoch 25/150\n"
     ]
    },
    {
     "name": "stderr",
     "output_type": "stream",
     "text": [
      "🚀 Training: 100%|██████████| 13/13 [00:00<00:00, 30.93it/s, loss=8.1406]\n",
      "🚀 Validation: 100%|██████████| 2/2 [00:00<00:00, 94.14it/s, loss=8.1389]\n"
     ]
    },
    {
     "name": "stdout",
     "output_type": "stream",
     "text": [
      "[Epoch 25] Train Loss: 8.2012 | Val Loss: 8.1455\n",
      "  -> New best model saved at saved/best.pt\n",
      "Epoch 26/150\n"
     ]
    },
    {
     "name": "stderr",
     "output_type": "stream",
     "text": [
      "🚀 Training: 100%|██████████| 13/13 [00:00<00:00, 31.07it/s, loss=8.1252]\n",
      "🚀 Validation: 100%|██████████| 2/2 [00:00<00:00, 98.26it/s, loss=8.1075]\n"
     ]
    },
    {
     "name": "stdout",
     "output_type": "stream",
     "text": [
      "[Epoch 26] Train Loss: 8.1714 | Val Loss: 8.1160\n",
      "  -> New best model saved at saved/best.pt\n",
      "Epoch 27/150\n"
     ]
    },
    {
     "name": "stderr",
     "output_type": "stream",
     "text": [
      "🚀 Training: 100%|██████████| 13/13 [00:00<00:00, 31.04it/s, loss=8.0921]\n",
      "🚀 Validation: 100%|██████████| 2/2 [00:00<00:00, 95.51it/s, loss=8.0766]\n"
     ]
    },
    {
     "name": "stdout",
     "output_type": "stream",
     "text": [
      "[Epoch 27] Train Loss: 8.1430 | Val Loss: 8.0868\n",
      "  -> New best model saved at saved/best.pt\n",
      "Epoch 28/150\n"
     ]
    },
    {
     "name": "stderr",
     "output_type": "stream",
     "text": [
      "🚀 Training: 100%|██████████| 13/13 [00:00<00:00, 30.45it/s, loss=8.1183]\n",
      "🚀 Validation: 100%|██████████| 2/2 [00:00<00:00, 96.63it/s, loss=8.0456]\n"
     ]
    },
    {
     "name": "stdout",
     "output_type": "stream",
     "text": [
      "[Epoch 28] Train Loss: 8.1153 | Val Loss: 8.0575\n",
      "  -> New best model saved at saved/best.pt\n",
      "Epoch 29/150\n"
     ]
    },
    {
     "name": "stderr",
     "output_type": "stream",
     "text": [
      "🚀 Training: 100%|██████████| 13/13 [00:00<00:00, 31.05it/s, loss=8.0437]\n",
      "🚀 Validation: 100%|██████████| 2/2 [00:00<00:00, 90.41it/s, loss=8.0157]\n"
     ]
    },
    {
     "name": "stdout",
     "output_type": "stream",
     "text": [
      "[Epoch 29] Train Loss: 8.0858 | Val Loss: 8.0293\n",
      "  -> New best model saved at saved/best.pt\n",
      "Epoch 30/150\n"
     ]
    },
    {
     "name": "stderr",
     "output_type": "stream",
     "text": [
      "🚀 Training: 100%|██████████| 13/13 [00:00<00:00, 31.12it/s, loss=8.0595]\n",
      "🚀 Validation: 100%|██████████| 2/2 [00:00<00:00, 100.58it/s, loss=7.9867]\n"
     ]
    },
    {
     "name": "stdout",
     "output_type": "stream",
     "text": [
      "[Epoch 30] Train Loss: 8.0594 | Val Loss: 8.0019\n",
      "  -> New best model saved at saved/best.pt\n",
      "Epoch 31/150\n"
     ]
    },
    {
     "name": "stderr",
     "output_type": "stream",
     "text": [
      "🚀 Training: 100%|██████████| 13/13 [00:00<00:00, 31.09it/s, loss=8.0078]\n",
      "🚀 Validation: 100%|██████████| 2/2 [00:00<00:00, 81.25it/s, loss=7.9582]\n"
     ]
    },
    {
     "name": "stdout",
     "output_type": "stream",
     "text": [
      "[Epoch 31] Train Loss: 8.0303 | Val Loss: 7.9751\n",
      "  -> New best model saved at saved/best.pt\n",
      "Epoch 32/150\n"
     ]
    },
    {
     "name": "stderr",
     "output_type": "stream",
     "text": [
      "🚀 Training: 100%|██████████| 13/13 [00:00<00:00, 31.16it/s, loss=7.9924]\n",
      "🚀 Validation: 100%|██████████| 2/2 [00:00<00:00, 98.55it/s, loss=7.9308]\n"
     ]
    },
    {
     "name": "stdout",
     "output_type": "stream",
     "text": [
      "[Epoch 32] Train Loss: 8.0038 | Val Loss: 7.9492\n",
      "  -> New best model saved at saved/best.pt\n",
      "Epoch 33/150\n"
     ]
    },
    {
     "name": "stderr",
     "output_type": "stream",
     "text": [
      "🚀 Training: 100%|██████████| 13/13 [00:00<00:00, 31.08it/s, loss=7.9702]\n",
      "🚀 Validation: 100%|██████████| 2/2 [00:00<00:00, 93.75it/s, loss=7.9038]\n"
     ]
    },
    {
     "name": "stdout",
     "output_type": "stream",
     "text": [
      "[Epoch 33] Train Loss: 7.9760 | Val Loss: 7.9238\n",
      "  -> New best model saved at saved/best.pt\n",
      "Epoch 34/150\n"
     ]
    },
    {
     "name": "stderr",
     "output_type": "stream",
     "text": [
      "🚀 Training: 100%|██████████| 13/13 [00:00<00:00, 31.12it/s, loss=7.9254]\n",
      "🚀 Validation: 100%|██████████| 2/2 [00:00<00:00, 100.68it/s, loss=7.8779]\n"
     ]
    },
    {
     "name": "stdout",
     "output_type": "stream",
     "text": [
      "[Epoch 34] Train Loss: 7.9508 | Val Loss: 7.8994\n",
      "  -> New best model saved at saved/best.pt\n",
      "Epoch 35/150\n"
     ]
    },
    {
     "name": "stderr",
     "output_type": "stream",
     "text": [
      "🚀 Training: 100%|██████████| 13/13 [00:00<00:00, 30.99it/s, loss=7.8476]\n",
      "🚀 Validation: 100%|██████████| 2/2 [00:00<00:00, 81.15it/s, loss=7.8527]\n"
     ]
    },
    {
     "name": "stdout",
     "output_type": "stream",
     "text": [
      "[Epoch 35] Train Loss: 7.9196 | Val Loss: 7.8757\n",
      "  -> New best model saved at saved/best.pt\n",
      "Epoch 36/150\n"
     ]
    },
    {
     "name": "stderr",
     "output_type": "stream",
     "text": [
      "🚀 Training: 100%|██████████| 13/13 [00:00<00:00, 31.01it/s, loss=7.8661]\n",
      "🚀 Validation: 100%|██████████| 2/2 [00:00<00:00, 101.65it/s, loss=7.8285]\n"
     ]
    },
    {
     "name": "stdout",
     "output_type": "stream",
     "text": [
      "[Epoch 36] Train Loss: 7.9017 | Val Loss: 7.8530\n",
      "  -> New best model saved at saved/best.pt\n",
      "Epoch 37/150\n"
     ]
    },
    {
     "name": "stderr",
     "output_type": "stream",
     "text": [
      "🚀 Training: 100%|██████████| 13/13 [00:00<00:00, 31.09it/s, loss=7.9072]\n",
      "🚀 Validation: 100%|██████████| 2/2 [00:00<00:00, 96.06it/s, loss=7.8048]\n"
     ]
    },
    {
     "name": "stdout",
     "output_type": "stream",
     "text": [
      "[Epoch 37] Train Loss: 7.8804 | Val Loss: 7.8306\n",
      "  -> New best model saved at saved/best.pt\n",
      "Epoch 38/150\n"
     ]
    },
    {
     "name": "stderr",
     "output_type": "stream",
     "text": [
      "🚀 Training: 100%|██████████| 13/13 [00:00<00:00, 31.02it/s, loss=7.8649]\n",
      "🚀 Validation: 100%|██████████| 2/2 [00:00<00:00, 101.12it/s, loss=7.7818]\n"
     ]
    },
    {
     "name": "stdout",
     "output_type": "stream",
     "text": [
      "[Epoch 38] Train Loss: 7.8530 | Val Loss: 7.8091\n",
      "  -> New best model saved at saved/best.pt\n",
      "Epoch 39/150\n"
     ]
    },
    {
     "name": "stderr",
     "output_type": "stream",
     "text": [
      "🚀 Training: 100%|██████████| 13/13 [00:00<00:00, 30.83it/s, loss=7.8751]\n",
      "🚀 Validation: 100%|██████████| 2/2 [00:00<00:00, 92.64it/s, loss=7.7600]\n"
     ]
    },
    {
     "name": "stdout",
     "output_type": "stream",
     "text": [
      "[Epoch 39] Train Loss: 7.8339 | Val Loss: 7.7886\n",
      "  -> New best model saved at saved/best.pt\n",
      "Epoch 40/150\n"
     ]
    },
    {
     "name": "stderr",
     "output_type": "stream",
     "text": [
      "🚀 Training: 100%|██████████| 13/13 [00:00<00:00, 30.83it/s, loss=7.7853]\n",
      "🚀 Validation: 100%|██████████| 2/2 [00:00<00:00, 93.35it/s, loss=7.7386]\n"
     ]
    },
    {
     "name": "stdout",
     "output_type": "stream",
     "text": [
      "[Epoch 40] Train Loss: 7.8081 | Val Loss: 7.7684\n",
      "  -> New best model saved at saved/best.pt\n",
      "Epoch 41/150\n"
     ]
    },
    {
     "name": "stderr",
     "output_type": "stream",
     "text": [
      "🚀 Training: 100%|██████████| 13/13 [00:00<00:00, 30.77it/s, loss=7.8181]\n",
      "🚀 Validation: 100%|██████████| 2/2 [00:00<00:00, 97.45it/s, loss=7.7180]\n"
     ]
    },
    {
     "name": "stdout",
     "output_type": "stream",
     "text": [
      "[Epoch 41] Train Loss: 7.7941 | Val Loss: 7.7489\n",
      "  -> New best model saved at saved/best.pt\n",
      "Epoch 42/150\n"
     ]
    },
    {
     "name": "stderr",
     "output_type": "stream",
     "text": [
      "🚀 Training: 100%|██████████| 13/13 [00:00<00:00, 31.04it/s, loss=7.8336]\n",
      "🚀 Validation: 100%|██████████| 2/2 [00:00<00:00, 98.74it/s, loss=7.6980]\n"
     ]
    },
    {
     "name": "stdout",
     "output_type": "stream",
     "text": [
      "[Epoch 42] Train Loss: 7.7698 | Val Loss: 7.7301\n",
      "  -> New best model saved at saved/best.pt\n",
      "Epoch 43/150\n"
     ]
    },
    {
     "name": "stderr",
     "output_type": "stream",
     "text": [
      "🚀 Training: 100%|██████████| 13/13 [00:00<00:00, 31.06it/s, loss=7.7220]\n",
      "🚀 Validation: 100%|██████████| 2/2 [00:00<00:00, 94.00it/s, loss=7.6785]\n"
     ]
    },
    {
     "name": "stdout",
     "output_type": "stream",
     "text": [
      "[Epoch 43] Train Loss: 7.7466 | Val Loss: 7.7117\n",
      "  -> New best model saved at saved/best.pt\n",
      "Epoch 44/150\n"
     ]
    },
    {
     "name": "stderr",
     "output_type": "stream",
     "text": [
      "🚀 Training: 100%|██████████| 13/13 [00:00<00:00, 30.35it/s, loss=7.7332]\n",
      "🚀 Validation: 100%|██████████| 2/2 [00:00<00:00, 87.66it/s, loss=7.6596]\n"
     ]
    },
    {
     "name": "stdout",
     "output_type": "stream",
     "text": [
      "[Epoch 44] Train Loss: 7.7276 | Val Loss: 7.6938\n",
      "  -> New best model saved at saved/best.pt\n",
      "Epoch 45/150\n"
     ]
    },
    {
     "name": "stderr",
     "output_type": "stream",
     "text": [
      "🚀 Training: 100%|██████████| 13/13 [00:00<00:00, 30.72it/s, loss=7.7100]\n",
      "🚀 Validation: 100%|██████████| 2/2 [00:00<00:00, 95.75it/s, loss=7.6415]\n"
     ]
    },
    {
     "name": "stdout",
     "output_type": "stream",
     "text": [
      "[Epoch 45] Train Loss: 7.7091 | Val Loss: 7.6767\n",
      "  -> New best model saved at saved/best.pt\n",
      "Epoch 46/150\n"
     ]
    },
    {
     "name": "stderr",
     "output_type": "stream",
     "text": [
      "🚀 Training: 100%|██████████| 13/13 [00:00<00:00, 30.44it/s, loss=7.6487]\n",
      "🚀 Validation: 100%|██████████| 2/2 [00:00<00:00, 71.59it/s, loss=7.6240]\n"
     ]
    },
    {
     "name": "stdout",
     "output_type": "stream",
     "text": [
      "[Epoch 46] Train Loss: 7.6879 | Val Loss: 7.6601\n",
      "  -> New best model saved at saved/best.pt\n",
      "Epoch 47/150\n"
     ]
    },
    {
     "name": "stderr",
     "output_type": "stream",
     "text": [
      "🚀 Training: 100%|██████████| 13/13 [00:00<00:00, 29.12it/s, loss=7.6274]\n",
      "🚀 Validation: 100%|██████████| 2/2 [00:00<00:00, 94.56it/s, loss=7.6069]\n"
     ]
    },
    {
     "name": "stdout",
     "output_type": "stream",
     "text": [
      "[Epoch 47] Train Loss: 7.6696 | Val Loss: 7.6439\n",
      "  -> New best model saved at saved/best.pt\n",
      "Epoch 48/150\n"
     ]
    },
    {
     "name": "stderr",
     "output_type": "stream",
     "text": [
      "🚀 Training: 100%|██████████| 13/13 [00:00<00:00, 30.35it/s, loss=7.6580]\n",
      "🚀 Validation: 100%|██████████| 2/2 [00:00<00:00, 89.16it/s, loss=7.5907]\n"
     ]
    },
    {
     "name": "stdout",
     "output_type": "stream",
     "text": [
      "[Epoch 48] Train Loss: 7.6533 | Val Loss: 7.6285\n",
      "  -> New best model saved at saved/best.pt\n",
      "Epoch 49/150\n"
     ]
    },
    {
     "name": "stderr",
     "output_type": "stream",
     "text": [
      "🚀 Training: 100%|██████████| 13/13 [00:00<00:00, 30.47it/s, loss=7.5771]\n",
      "🚀 Validation: 100%|██████████| 2/2 [00:00<00:00, 92.93it/s, loss=7.5747]\n"
     ]
    },
    {
     "name": "stdout",
     "output_type": "stream",
     "text": [
      "[Epoch 49] Train Loss: 7.6328 | Val Loss: 7.6134\n",
      "  -> New best model saved at saved/best.pt\n",
      "Epoch 50/150\n"
     ]
    },
    {
     "name": "stderr",
     "output_type": "stream",
     "text": [
      "🚀 Training: 100%|██████████| 13/13 [00:00<00:00, 30.09it/s, loss=7.6047]\n",
      "🚀 Validation: 100%|██████████| 2/2 [00:00<00:00, 90.75it/s, loss=7.5591]\n"
     ]
    },
    {
     "name": "stdout",
     "output_type": "stream",
     "text": [
      "[Epoch 50] Train Loss: 7.6181 | Val Loss: 7.5986\n",
      "  -> New best model saved at saved/best.pt\n",
      "Epoch 51/150\n"
     ]
    },
    {
     "name": "stderr",
     "output_type": "stream",
     "text": [
      "🚀 Training: 100%|██████████| 13/13 [00:00<00:00, 30.12it/s, loss=7.6092]\n",
      "🚀 Validation: 100%|██████████| 2/2 [00:00<00:00, 94.85it/s, loss=7.5436]\n"
     ]
    },
    {
     "name": "stdout",
     "output_type": "stream",
     "text": [
      "[Epoch 51] Train Loss: 7.6034 | Val Loss: 7.5838\n",
      "  -> New best model saved at saved/best.pt\n",
      "Epoch 52/150\n"
     ]
    },
    {
     "name": "stderr",
     "output_type": "stream",
     "text": [
      "🚀 Training: 100%|██████████| 13/13 [00:00<00:00, 30.47it/s, loss=7.6284]\n",
      "🚀 Validation: 100%|██████████| 2/2 [00:00<00:00, 95.99it/s, loss=7.5286]\n"
     ]
    },
    {
     "name": "stdout",
     "output_type": "stream",
     "text": [
      "[Epoch 52] Train Loss: 7.5889 | Val Loss: 7.5695\n",
      "  -> New best model saved at saved/best.pt\n",
      "Epoch 53/150\n"
     ]
    },
    {
     "name": "stderr",
     "output_type": "stream",
     "text": [
      "🚀 Training: 100%|██████████| 13/13 [00:00<00:00, 30.19it/s, loss=7.5436]\n",
      "🚀 Validation: 100%|██████████| 2/2 [00:00<00:00, 88.18it/s, loss=7.5140]\n"
     ]
    },
    {
     "name": "stdout",
     "output_type": "stream",
     "text": [
      "[Epoch 53] Train Loss: 7.5693 | Val Loss: 7.5556\n",
      "  -> New best model saved at saved/best.pt\n",
      "Epoch 54/150\n"
     ]
    },
    {
     "name": "stderr",
     "output_type": "stream",
     "text": [
      "🚀 Training: 100%|██████████| 13/13 [00:00<00:00, 30.17it/s, loss=7.5339]\n",
      "🚀 Validation: 100%|██████████| 2/2 [00:00<00:00, 91.04it/s, loss=7.4997]\n"
     ]
    },
    {
     "name": "stdout",
     "output_type": "stream",
     "text": [
      "[Epoch 54] Train Loss: 7.5529 | Val Loss: 7.5420\n",
      "  -> New best model saved at saved/best.pt\n",
      "Epoch 55/150\n"
     ]
    },
    {
     "name": "stderr",
     "output_type": "stream",
     "text": [
      "🚀 Training: 100%|██████████| 13/13 [00:00<00:00, 30.14it/s, loss=7.5739]\n",
      "🚀 Validation: 100%|██████████| 2/2 [00:00<00:00, 93.99it/s, loss=7.4856]\n"
     ]
    },
    {
     "name": "stdout",
     "output_type": "stream",
     "text": [
      "[Epoch 55] Train Loss: 7.5383 | Val Loss: 7.5285\n",
      "  -> New best model saved at saved/best.pt\n",
      "Epoch 56/150\n"
     ]
    },
    {
     "name": "stderr",
     "output_type": "stream",
     "text": [
      "🚀 Training: 100%|██████████| 13/13 [00:00<00:00, 30.19it/s, loss=7.5132]\n",
      "🚀 Validation: 100%|██████████| 2/2 [00:00<00:00, 91.82it/s, loss=7.4719]\n"
     ]
    },
    {
     "name": "stdout",
     "output_type": "stream",
     "text": [
      "[Epoch 56] Train Loss: 7.5236 | Val Loss: 7.5155\n",
      "  -> New best model saved at saved/best.pt\n",
      "Epoch 57/150\n"
     ]
    },
    {
     "name": "stderr",
     "output_type": "stream",
     "text": [
      "🚀 Training: 100%|██████████| 13/13 [00:00<00:00, 30.12it/s, loss=7.4650]\n",
      "🚀 Validation: 100%|██████████| 2/2 [00:00<00:00, 92.97it/s, loss=7.4583]\n"
     ]
    },
    {
     "name": "stdout",
     "output_type": "stream",
     "text": [
      "[Epoch 57] Train Loss: 7.5077 | Val Loss: 7.5025\n",
      "  -> New best model saved at saved/best.pt\n",
      "Epoch 58/150\n"
     ]
    },
    {
     "name": "stderr",
     "output_type": "stream",
     "text": [
      "🚀 Training: 100%|██████████| 13/13 [00:00<00:00, 30.47it/s, loss=7.5213]\n",
      "🚀 Validation: 100%|██████████| 2/2 [00:00<00:00, 95.40it/s, loss=7.4450]\n"
     ]
    },
    {
     "name": "stdout",
     "output_type": "stream",
     "text": [
      "[Epoch 58] Train Loss: 7.4947 | Val Loss: 7.4898\n",
      "  -> New best model saved at saved/best.pt\n",
      "Epoch 59/150\n"
     ]
    },
    {
     "name": "stderr",
     "output_type": "stream",
     "text": [
      "🚀 Training: 100%|██████████| 13/13 [00:00<00:00, 30.23it/s, loss=7.4462]\n",
      "🚀 Validation: 100%|██████████| 2/2 [00:00<00:00, 88.56it/s, loss=7.4324]\n"
     ]
    },
    {
     "name": "stdout",
     "output_type": "stream",
     "text": [
      "[Epoch 59] Train Loss: 7.4791 | Val Loss: 7.4777\n",
      "  -> New best model saved at saved/best.pt\n",
      "Epoch 60/150\n"
     ]
    },
    {
     "name": "stderr",
     "output_type": "stream",
     "text": [
      "🚀 Training: 100%|██████████| 13/13 [00:00<00:00, 30.16it/s, loss=7.5349]\n",
      "🚀 Validation: 100%|██████████| 2/2 [00:00<00:00, 91.79it/s, loss=7.4195]\n"
     ]
    },
    {
     "name": "stdout",
     "output_type": "stream",
     "text": [
      "[Epoch 60] Train Loss: 7.4690 | Val Loss: 7.4654\n",
      "  -> New best model saved at saved/best.pt\n",
      "Epoch 61/150\n"
     ]
    },
    {
     "name": "stderr",
     "output_type": "stream",
     "text": [
      "🚀 Training: 100%|██████████| 13/13 [00:00<00:00, 30.12it/s, loss=7.4797]\n",
      "🚀 Validation: 100%|██████████| 2/2 [00:00<00:00, 89.11it/s, loss=7.4072]\n"
     ]
    },
    {
     "name": "stdout",
     "output_type": "stream",
     "text": [
      "[Epoch 61] Train Loss: 7.4511 | Val Loss: 7.4536\n",
      "  -> New best model saved at saved/best.pt\n",
      "Epoch 62/150\n"
     ]
    },
    {
     "name": "stderr",
     "output_type": "stream",
     "text": [
      "🚀 Training: 100%|██████████| 13/13 [00:00<00:00, 30.34it/s, loss=7.3591]\n",
      "🚀 Validation: 100%|██████████| 2/2 [00:00<00:00, 93.54it/s, loss=7.3949]\n"
     ]
    },
    {
     "name": "stdout",
     "output_type": "stream",
     "text": [
      "[Epoch 62] Train Loss: 7.4338 | Val Loss: 7.4418\n",
      "  -> New best model saved at saved/best.pt\n",
      "Epoch 63/150\n"
     ]
    },
    {
     "name": "stderr",
     "output_type": "stream",
     "text": [
      "🚀 Training: 100%|██████████| 13/13 [00:00<00:00, 30.22it/s, loss=7.4241]\n",
      "🚀 Validation: 100%|██████████| 2/2 [00:00<00:00, 89.12it/s, loss=7.3828]\n"
     ]
    },
    {
     "name": "stdout",
     "output_type": "stream",
     "text": [
      "[Epoch 63] Train Loss: 7.4249 | Val Loss: 7.4302\n",
      "  -> New best model saved at saved/best.pt\n",
      "Epoch 64/150\n"
     ]
    },
    {
     "name": "stderr",
     "output_type": "stream",
     "text": [
      "🚀 Training: 100%|██████████| 13/13 [00:00<00:00, 30.10it/s, loss=7.4319]\n",
      "🚀 Validation: 100%|██████████| 2/2 [00:00<00:00, 87.09it/s, loss=7.3708]\n"
     ]
    },
    {
     "name": "stdout",
     "output_type": "stream",
     "text": [
      "[Epoch 64] Train Loss: 7.4093 | Val Loss: 7.4186\n",
      "  -> New best model saved at saved/best.pt\n",
      "Epoch 65/150\n"
     ]
    },
    {
     "name": "stderr",
     "output_type": "stream",
     "text": [
      "🚀 Training: 100%|██████████| 13/13 [00:00<00:00, 30.14it/s, loss=7.4441]\n",
      "🚀 Validation: 100%|██████████| 2/2 [00:00<00:00, 92.12it/s, loss=7.3591]\n"
     ]
    },
    {
     "name": "stdout",
     "output_type": "stream",
     "text": [
      "[Epoch 65] Train Loss: 7.4005 | Val Loss: 7.4075\n",
      "  -> New best model saved at saved/best.pt\n",
      "Epoch 66/150\n"
     ]
    },
    {
     "name": "stderr",
     "output_type": "stream",
     "text": [
      "🚀 Training: 100%|██████████| 13/13 [00:00<00:00, 30.52it/s, loss=7.3511]\n",
      "🚀 Validation: 100%|██████████| 2/2 [00:00<00:00, 93.34it/s, loss=7.3478]\n"
     ]
    },
    {
     "name": "stdout",
     "output_type": "stream",
     "text": [
      "[Epoch 66] Train Loss: 7.3837 | Val Loss: 7.3967\n",
      "  -> New best model saved at saved/best.pt\n",
      "Epoch 67/150\n"
     ]
    },
    {
     "name": "stderr",
     "output_type": "stream",
     "text": [
      "🚀 Training: 100%|██████████| 13/13 [00:00<00:00, 30.14it/s, loss=7.3561]\n",
      "🚀 Validation: 100%|██████████| 2/2 [00:00<00:00, 95.04it/s, loss=7.3365]\n"
     ]
    },
    {
     "name": "stdout",
     "output_type": "stream",
     "text": [
      "[Epoch 67] Train Loss: 7.3719 | Val Loss: 7.3859\n",
      "  -> New best model saved at saved/best.pt\n",
      "Epoch 68/150\n"
     ]
    },
    {
     "name": "stderr",
     "output_type": "stream",
     "text": [
      "🚀 Training: 100%|██████████| 13/13 [00:00<00:00, 30.22it/s, loss=7.3220]\n",
      "🚀 Validation: 100%|██████████| 2/2 [00:00<00:00, 92.37it/s, loss=7.3251]\n"
     ]
    },
    {
     "name": "stdout",
     "output_type": "stream",
     "text": [
      "[Epoch 68] Train Loss: 7.3586 | Val Loss: 7.3749\n",
      "  -> New best model saved at saved/best.pt\n",
      "Epoch 69/150\n"
     ]
    },
    {
     "name": "stderr",
     "output_type": "stream",
     "text": [
      "🚀 Training: 100%|██████████| 13/13 [00:00<00:00, 30.52it/s, loss=7.2719]\n",
      "🚀 Validation: 100%|██████████| 2/2 [00:00<00:00, 96.23it/s, loss=7.3141]\n"
     ]
    },
    {
     "name": "stdout",
     "output_type": "stream",
     "text": [
      "[Epoch 69] Train Loss: 7.3442 | Val Loss: 7.3644\n",
      "  -> New best model saved at saved/best.pt\n",
      "Epoch 70/150\n"
     ]
    },
    {
     "name": "stderr",
     "output_type": "stream",
     "text": [
      "🚀 Training: 100%|██████████| 13/13 [00:00<00:00, 30.32it/s, loss=7.3193]\n",
      "🚀 Validation: 100%|██████████| 2/2 [00:00<00:00, 95.79it/s, loss=7.3035]\n"
     ]
    },
    {
     "name": "stdout",
     "output_type": "stream",
     "text": [
      "[Epoch 70] Train Loss: 7.3331 | Val Loss: 7.3542\n",
      "  -> New best model saved at saved/best.pt\n",
      "Epoch 71/150\n"
     ]
    },
    {
     "name": "stderr",
     "output_type": "stream",
     "text": [
      "🚀 Training: 100%|██████████| 13/13 [00:00<00:00, 30.34it/s, loss=7.3066]\n",
      "🚀 Validation: 100%|██████████| 2/2 [00:00<00:00, 93.65it/s, loss=7.2931]\n"
     ]
    },
    {
     "name": "stdout",
     "output_type": "stream",
     "text": [
      "[Epoch 71] Train Loss: 7.3214 | Val Loss: 7.3441\n",
      "  -> New best model saved at saved/best.pt\n",
      "Epoch 72/150\n"
     ]
    },
    {
     "name": "stderr",
     "output_type": "stream",
     "text": [
      "🚀 Training: 100%|██████████| 13/13 [00:00<00:00, 30.57it/s, loss=7.3124]\n",
      "🚀 Validation: 100%|██████████| 2/2 [00:00<00:00, 95.01it/s, loss=7.2826]\n"
     ]
    },
    {
     "name": "stdout",
     "output_type": "stream",
     "text": [
      "[Epoch 72] Train Loss: 7.3133 | Val Loss: 7.3341\n",
      "  -> New best model saved at saved/best.pt\n",
      "Epoch 73/150\n"
     ]
    },
    {
     "name": "stderr",
     "output_type": "stream",
     "text": [
      "🚀 Training: 100%|██████████| 13/13 [00:00<00:00, 30.44it/s, loss=7.3249]\n",
      "🚀 Validation: 100%|██████████| 2/2 [00:00<00:00, 94.50it/s, loss=7.2723]\n"
     ]
    },
    {
     "name": "stdout",
     "output_type": "stream",
     "text": [
      "[Epoch 73] Train Loss: 7.2990 | Val Loss: 7.3243\n",
      "  -> New best model saved at saved/best.pt\n",
      "Epoch 74/150\n"
     ]
    },
    {
     "name": "stderr",
     "output_type": "stream",
     "text": [
      "🚀 Training: 100%|██████████| 13/13 [00:00<00:00, 30.39it/s, loss=7.3943]\n",
      "🚀 Validation: 100%|██████████| 2/2 [00:00<00:00, 95.84it/s, loss=7.2623]\n"
     ]
    },
    {
     "name": "stdout",
     "output_type": "stream",
     "text": [
      "[Epoch 74] Train Loss: 7.2924 | Val Loss: 7.3147\n",
      "  -> New best model saved at saved/best.pt\n",
      "Epoch 75/150\n"
     ]
    },
    {
     "name": "stderr",
     "output_type": "stream",
     "text": [
      "🚀 Training: 100%|██████████| 13/13 [00:00<00:00, 30.47it/s, loss=7.3369]\n",
      "🚀 Validation: 100%|██████████| 2/2 [00:00<00:00, 96.00it/s, loss=7.2524]\n"
     ]
    },
    {
     "name": "stdout",
     "output_type": "stream",
     "text": [
      "[Epoch 75] Train Loss: 7.2804 | Val Loss: 7.3052\n",
      "  -> New best model saved at saved/best.pt\n",
      "Epoch 76/150\n"
     ]
    },
    {
     "name": "stderr",
     "output_type": "stream",
     "text": [
      "🚀 Training: 100%|██████████| 13/13 [00:00<00:00, 30.61it/s, loss=7.3115]\n",
      "🚀 Validation: 100%|██████████| 2/2 [00:00<00:00, 95.32it/s, loss=7.2427]\n"
     ]
    },
    {
     "name": "stdout",
     "output_type": "stream",
     "text": [
      "[Epoch 76] Train Loss: 7.2643 | Val Loss: 7.2959\n",
      "  -> New best model saved at saved/best.pt\n",
      "Epoch 77/150\n"
     ]
    },
    {
     "name": "stderr",
     "output_type": "stream",
     "text": [
      "🚀 Training: 100%|██████████| 13/13 [00:00<00:00, 30.18it/s, loss=7.2099]\n",
      "🚀 Validation: 100%|██████████| 2/2 [00:00<00:00, 96.50it/s, loss=7.2329]\n"
     ]
    },
    {
     "name": "stdout",
     "output_type": "stream",
     "text": [
      "[Epoch 77] Train Loss: 7.2507 | Val Loss: 7.2864\n",
      "  -> New best model saved at saved/best.pt\n",
      "Epoch 78/150\n"
     ]
    },
    {
     "name": "stderr",
     "output_type": "stream",
     "text": [
      "🚀 Training: 100%|██████████| 13/13 [00:00<00:00, 30.69it/s, loss=7.3357]\n",
      "🚀 Validation: 100%|██████████| 2/2 [00:00<00:00, 97.55it/s, loss=7.2233]\n"
     ]
    },
    {
     "name": "stdout",
     "output_type": "stream",
     "text": [
      "[Epoch 78] Train Loss: 7.2463 | Val Loss: 7.2774\n",
      "  -> New best model saved at saved/best.pt\n",
      "Epoch 79/150\n"
     ]
    },
    {
     "name": "stderr",
     "output_type": "stream",
     "text": [
      "🚀 Training: 100%|██████████| 13/13 [00:00<00:00, 30.80it/s, loss=7.2051]\n",
      "🚀 Validation: 100%|██████████| 2/2 [00:00<00:00, 94.33it/s, loss=7.2142]\n"
     ]
    },
    {
     "name": "stdout",
     "output_type": "stream",
     "text": [
      "[Epoch 79] Train Loss: 7.2286 | Val Loss: 7.2685\n",
      "  -> New best model saved at saved/best.pt\n",
      "Epoch 80/150\n"
     ]
    },
    {
     "name": "stderr",
     "output_type": "stream",
     "text": [
      "🚀 Training: 100%|██████████| 13/13 [00:00<00:00, 30.45it/s, loss=7.2278]\n",
      "🚀 Validation: 100%|██████████| 2/2 [00:00<00:00, 93.89it/s, loss=7.2050]\n"
     ]
    },
    {
     "name": "stdout",
     "output_type": "stream",
     "text": [
      "[Epoch 80] Train Loss: 7.2208 | Val Loss: 7.2597\n",
      "  -> New best model saved at saved/best.pt\n",
      "Epoch 81/150\n"
     ]
    },
    {
     "name": "stderr",
     "output_type": "stream",
     "text": [
      "🚀 Training: 100%|██████████| 13/13 [00:00<00:00, 30.66it/s, loss=7.2191]\n",
      "🚀 Validation: 100%|██████████| 2/2 [00:00<00:00, 94.82it/s, loss=7.1959]\n"
     ]
    },
    {
     "name": "stdout",
     "output_type": "stream",
     "text": [
      "[Epoch 81] Train Loss: 7.2109 | Val Loss: 7.2510\n",
      "  -> New best model saved at saved/best.pt\n",
      "Epoch 82/150\n"
     ]
    },
    {
     "name": "stderr",
     "output_type": "stream",
     "text": [
      "🚀 Training: 100%|██████████| 13/13 [00:00<00:00, 30.56it/s, loss=7.2047]\n",
      "🚀 Validation: 100%|██████████| 2/2 [00:00<00:00, 95.51it/s, loss=7.1871]\n"
     ]
    },
    {
     "name": "stdout",
     "output_type": "stream",
     "text": [
      "[Epoch 82] Train Loss: 7.1998 | Val Loss: 7.2426\n",
      "  -> New best model saved at saved/best.pt\n",
      "Epoch 83/150\n"
     ]
    },
    {
     "name": "stderr",
     "output_type": "stream",
     "text": [
      "🚀 Training: 100%|██████████| 13/13 [00:00<00:00, 30.10it/s, loss=7.1633]\n",
      "🚀 Validation: 100%|██████████| 2/2 [00:00<00:00, 97.08it/s, loss=7.1784]\n"
     ]
    },
    {
     "name": "stdout",
     "output_type": "stream",
     "text": [
      "[Epoch 83] Train Loss: 7.1877 | Val Loss: 7.2343\n",
      "  -> New best model saved at saved/best.pt\n",
      "Epoch 84/150\n"
     ]
    },
    {
     "name": "stderr",
     "output_type": "stream",
     "text": [
      "🚀 Training: 100%|██████████| 13/13 [00:00<00:00, 30.50it/s, loss=7.1289]\n",
      "🚀 Validation: 100%|██████████| 2/2 [00:00<00:00, 96.45it/s, loss=7.1700]\n"
     ]
    },
    {
     "name": "stdout",
     "output_type": "stream",
     "text": [
      "[Epoch 84] Train Loss: 7.1774 | Val Loss: 7.2262\n",
      "  -> New best model saved at saved/best.pt\n",
      "Epoch 85/150\n"
     ]
    },
    {
     "name": "stderr",
     "output_type": "stream",
     "text": [
      "🚀 Training: 100%|██████████| 13/13 [00:00<00:00, 30.42it/s, loss=7.1700]\n",
      "🚀 Validation: 100%|██████████| 2/2 [00:00<00:00, 97.93it/s, loss=7.1613]\n"
     ]
    },
    {
     "name": "stdout",
     "output_type": "stream",
     "text": [
      "[Epoch 85] Train Loss: 7.1689 | Val Loss: 7.2180\n",
      "  -> New best model saved at saved/best.pt\n",
      "Epoch 86/150\n"
     ]
    },
    {
     "name": "stderr",
     "output_type": "stream",
     "text": [
      "🚀 Training: 100%|██████████| 13/13 [00:00<00:00, 30.38it/s, loss=7.1018]\n",
      "🚀 Validation: 100%|██████████| 2/2 [00:00<00:00, 92.54it/s, loss=7.1532]\n"
     ]
    },
    {
     "name": "stdout",
     "output_type": "stream",
     "text": [
      "[Epoch 86] Train Loss: 7.1566 | Val Loss: 7.2101\n",
      "  -> New best model saved at saved/best.pt\n",
      "Epoch 87/150\n"
     ]
    },
    {
     "name": "stderr",
     "output_type": "stream",
     "text": [
      "🚀 Training: 100%|██████████| 13/13 [00:00<00:00, 30.72it/s, loss=7.1600]\n",
      "🚀 Validation: 100%|██████████| 2/2 [00:00<00:00, 95.57it/s, loss=7.1446]\n"
     ]
    },
    {
     "name": "stdout",
     "output_type": "stream",
     "text": [
      "[Epoch 87] Train Loss: 7.1494 | Val Loss: 7.2020\n",
      "  -> New best model saved at saved/best.pt\n",
      "Epoch 88/150\n"
     ]
    },
    {
     "name": "stderr",
     "output_type": "stream",
     "text": [
      "🚀 Training: 100%|██████████| 13/13 [00:00<00:00, 30.46it/s, loss=7.0502]\n",
      "🚀 Validation: 100%|██████████| 2/2 [00:00<00:00, 93.94it/s, loss=7.1363]\n"
     ]
    },
    {
     "name": "stdout",
     "output_type": "stream",
     "text": [
      "[Epoch 88] Train Loss: 7.1369 | Val Loss: 7.1939\n",
      "  -> New best model saved at saved/best.pt\n",
      "Epoch 89/150\n"
     ]
    },
    {
     "name": "stderr",
     "output_type": "stream",
     "text": [
      "🚀 Training: 100%|██████████| 13/13 [00:00<00:00, 30.47it/s, loss=7.2094]\n",
      "🚀 Validation: 100%|██████████| 2/2 [00:00<00:00, 96.21it/s, loss=7.1282]\n"
     ]
    },
    {
     "name": "stdout",
     "output_type": "stream",
     "text": [
      "[Epoch 89] Train Loss: 7.1333 | Val Loss: 7.1862\n",
      "  -> New best model saved at saved/best.pt\n",
      "Epoch 90/150\n"
     ]
    },
    {
     "name": "stderr",
     "output_type": "stream",
     "text": [
      "🚀 Training: 100%|██████████| 13/13 [00:00<00:00, 30.49it/s, loss=7.0908]\n",
      "🚀 Validation: 100%|██████████| 2/2 [00:00<00:00, 95.86it/s, loss=7.1204]\n"
     ]
    },
    {
     "name": "stdout",
     "output_type": "stream",
     "text": [
      "[Epoch 90] Train Loss: 7.1197 | Val Loss: 7.1788\n",
      "  -> New best model saved at saved/best.pt\n",
      "Epoch 91/150\n"
     ]
    },
    {
     "name": "stderr",
     "output_type": "stream",
     "text": [
      "🚀 Training: 100%|██████████| 13/13 [00:00<00:00, 30.59it/s, loss=7.0499]\n",
      "🚀 Validation: 100%|██████████| 2/2 [00:00<00:00, 93.78it/s, loss=7.1130]\n"
     ]
    },
    {
     "name": "stdout",
     "output_type": "stream",
     "text": [
      "[Epoch 91] Train Loss: 7.1101 | Val Loss: 7.1717\n",
      "  -> New best model saved at saved/best.pt\n",
      "Epoch 92/150\n"
     ]
    },
    {
     "name": "stderr",
     "output_type": "stream",
     "text": [
      "🚀 Training: 100%|██████████| 13/13 [00:00<00:00, 30.65it/s, loss=6.9817]\n",
      "🚀 Validation: 100%|██████████| 2/2 [00:00<00:00, 83.42it/s, loss=7.1054]\n"
     ]
    },
    {
     "name": "stdout",
     "output_type": "stream",
     "text": [
      "[Epoch 92] Train Loss: 7.0972 | Val Loss: 7.1645\n",
      "  -> New best model saved at saved/best.pt\n",
      "Epoch 93/150\n"
     ]
    },
    {
     "name": "stderr",
     "output_type": "stream",
     "text": [
      "🚀 Training: 100%|██████████| 13/13 [00:00<00:00, 30.62it/s, loss=7.1612]\n",
      "🚀 Validation: 100%|██████████| 2/2 [00:00<00:00, 98.81it/s, loss=7.0980]\n"
     ]
    },
    {
     "name": "stdout",
     "output_type": "stream",
     "text": [
      "[Epoch 93] Train Loss: 7.1004 | Val Loss: 7.1575\n",
      "  -> New best model saved at saved/best.pt\n",
      "Epoch 94/150\n"
     ]
    },
    {
     "name": "stderr",
     "output_type": "stream",
     "text": [
      "🚀 Training: 100%|██████████| 13/13 [00:00<00:00, 30.42it/s, loss=7.0719]\n",
      "🚀 Validation: 100%|██████████| 2/2 [00:00<00:00, 99.21it/s, loss=7.0905]\n"
     ]
    },
    {
     "name": "stdout",
     "output_type": "stream",
     "text": [
      "[Epoch 94] Train Loss: 7.0845 | Val Loss: 7.1503\n",
      "  -> New best model saved at saved/best.pt\n",
      "Epoch 95/150\n"
     ]
    },
    {
     "name": "stderr",
     "output_type": "stream",
     "text": [
      "🚀 Training: 100%|██████████| 13/13 [00:00<00:00, 30.33it/s, loss=7.0666]\n",
      "🚀 Validation: 100%|██████████| 2/2 [00:00<00:00, 92.89it/s, loss=7.0833]\n"
     ]
    },
    {
     "name": "stdout",
     "output_type": "stream",
     "text": [
      "[Epoch 95] Train Loss: 7.0776 | Val Loss: 7.1433\n",
      "  -> New best model saved at saved/best.pt\n",
      "Epoch 96/150\n"
     ]
    },
    {
     "name": "stderr",
     "output_type": "stream",
     "text": [
      "🚀 Training: 100%|██████████| 13/13 [00:00<00:00, 30.37it/s, loss=7.0655]\n",
      "🚀 Validation: 100%|██████████| 2/2 [00:00<00:00, 96.79it/s, loss=7.0761]\n"
     ]
    },
    {
     "name": "stdout",
     "output_type": "stream",
     "text": [
      "[Epoch 96] Train Loss: 7.0686 | Val Loss: 7.1364\n",
      "  -> New best model saved at saved/best.pt\n",
      "Epoch 97/150\n"
     ]
    },
    {
     "name": "stderr",
     "output_type": "stream",
     "text": [
      "🚀 Training: 100%|██████████| 13/13 [00:00<00:00, 30.24it/s, loss=7.0081]\n",
      "🚀 Validation: 100%|██████████| 2/2 [00:00<00:00, 92.95it/s, loss=7.0692]\n"
     ]
    },
    {
     "name": "stdout",
     "output_type": "stream",
     "text": [
      "[Epoch 97] Train Loss: 7.0570 | Val Loss: 7.1298\n",
      "  -> New best model saved at saved/best.pt\n",
      "Epoch 98/150\n"
     ]
    },
    {
     "name": "stderr",
     "output_type": "stream",
     "text": [
      "🚀 Training: 100%|██████████| 13/13 [00:00<00:00, 30.19it/s, loss=7.0784]\n",
      "🚀 Validation: 100%|██████████| 2/2 [00:00<00:00, 86.76it/s, loss=7.0626]\n"
     ]
    },
    {
     "name": "stdout",
     "output_type": "stream",
     "text": [
      "[Epoch 98] Train Loss: 7.0512 | Val Loss: 7.1235\n",
      "  -> New best model saved at saved/best.pt\n",
      "Epoch 99/150\n"
     ]
    },
    {
     "name": "stderr",
     "output_type": "stream",
     "text": [
      "🚀 Training: 100%|██████████| 13/13 [00:00<00:00, 30.57it/s, loss=7.0190]\n",
      "🚀 Validation: 100%|██████████| 2/2 [00:00<00:00, 94.87it/s, loss=7.0558]\n"
     ]
    },
    {
     "name": "stdout",
     "output_type": "stream",
     "text": [
      "[Epoch 99] Train Loss: 7.0418 | Val Loss: 7.1170\n",
      "  -> New best model saved at saved/best.pt\n",
      "Epoch 100/150\n"
     ]
    },
    {
     "name": "stderr",
     "output_type": "stream",
     "text": [
      "🚀 Training: 100%|██████████| 13/13 [00:00<00:00, 30.63it/s, loss=7.0579]\n",
      "🚀 Validation: 100%|██████████| 2/2 [00:00<00:00, 94.95it/s, loss=7.0493]\n"
     ]
    },
    {
     "name": "stdout",
     "output_type": "stream",
     "text": [
      "[Epoch 100] Train Loss: 7.0355 | Val Loss: 7.1108\n",
      "  -> New best model saved at saved/best.pt\n",
      "Epoch 101/150\n"
     ]
    },
    {
     "name": "stderr",
     "output_type": "stream",
     "text": [
      "🚀 Training: 100%|██████████| 13/13 [00:00<00:00, 30.33it/s, loss=6.9063]\n",
      "🚀 Validation: 100%|██████████| 2/2 [00:00<00:00, 97.06it/s, loss=7.0429]\n"
     ]
    },
    {
     "name": "stdout",
     "output_type": "stream",
     "text": [
      "[Epoch 101] Train Loss: 7.0205 | Val Loss: 7.1047\n",
      "  -> New best model saved at saved/best.pt\n",
      "Epoch 102/150\n"
     ]
    },
    {
     "name": "stderr",
     "output_type": "stream",
     "text": [
      "🚀 Training: 100%|██████████| 13/13 [00:00<00:00, 30.19it/s, loss=7.0724]\n",
      "🚀 Validation: 100%|██████████| 2/2 [00:00<00:00, 93.59it/s, loss=7.0366]\n"
     ]
    },
    {
     "name": "stdout",
     "output_type": "stream",
     "text": [
      "[Epoch 102] Train Loss: 7.0207 | Val Loss: 7.0986\n",
      "  -> New best model saved at saved/best.pt\n",
      "Epoch 103/150\n"
     ]
    },
    {
     "name": "stderr",
     "output_type": "stream",
     "text": [
      "🚀 Training: 100%|██████████| 13/13 [00:00<00:00, 30.29it/s, loss=6.9849]\n",
      "🚀 Validation: 100%|██████████| 2/2 [00:00<00:00, 95.41it/s, loss=7.0305]\n"
     ]
    },
    {
     "name": "stdout",
     "output_type": "stream",
     "text": [
      "[Epoch 103] Train Loss: 7.0131 | Val Loss: 7.0928\n",
      "  -> New best model saved at saved/best.pt\n",
      "Epoch 104/150\n"
     ]
    },
    {
     "name": "stderr",
     "output_type": "stream",
     "text": [
      "🚀 Training: 100%|██████████| 13/13 [00:00<00:00, 30.30it/s, loss=6.9561]\n",
      "🚀 Validation: 100%|██████████| 2/2 [00:00<00:00, 93.25it/s, loss=7.0247]\n"
     ]
    },
    {
     "name": "stdout",
     "output_type": "stream",
     "text": [
      "[Epoch 104] Train Loss: 7.0010 | Val Loss: 7.0872\n",
      "  -> New best model saved at saved/best.pt\n",
      "Epoch 105/150\n"
     ]
    },
    {
     "name": "stderr",
     "output_type": "stream",
     "text": [
      "🚀 Training: 100%|██████████| 13/13 [00:00<00:00, 30.33it/s, loss=6.9631]\n",
      "🚀 Validation: 100%|██████████| 2/2 [00:00<00:00, 94.03it/s, loss=7.0184]\n"
     ]
    },
    {
     "name": "stdout",
     "output_type": "stream",
     "text": [
      "[Epoch 105] Train Loss: 6.9958 | Val Loss: 7.0813\n",
      "  -> New best model saved at saved/best.pt\n",
      "Epoch 106/150\n"
     ]
    },
    {
     "name": "stderr",
     "output_type": "stream",
     "text": [
      "🚀 Training: 100%|██████████| 13/13 [00:00<00:00, 30.37it/s, loss=7.0652]\n",
      "🚀 Validation: 100%|██████████| 2/2 [00:00<00:00, 94.89it/s, loss=7.0125]\n"
     ]
    },
    {
     "name": "stdout",
     "output_type": "stream",
     "text": [
      "[Epoch 106] Train Loss: 6.9921 | Val Loss: 7.0756\n",
      "  -> New best model saved at saved/best.pt\n",
      "Epoch 107/150\n"
     ]
    },
    {
     "name": "stderr",
     "output_type": "stream",
     "text": [
      "🚀 Training: 100%|██████████| 13/13 [00:00<00:00, 30.31it/s, loss=6.9387]\n",
      "🚀 Validation: 100%|██████████| 2/2 [00:00<00:00, 93.11it/s, loss=7.0067]\n"
     ]
    },
    {
     "name": "stdout",
     "output_type": "stream",
     "text": [
      "[Epoch 107] Train Loss: 6.9831 | Val Loss: 7.0701\n",
      "  -> New best model saved at saved/best.pt\n",
      "Epoch 108/150\n"
     ]
    },
    {
     "name": "stderr",
     "output_type": "stream",
     "text": [
      "🚀 Training: 100%|██████████| 13/13 [00:00<00:00, 30.39it/s, loss=7.0152]\n",
      "🚀 Validation: 100%|██████████| 2/2 [00:00<00:00, 93.15it/s, loss=7.0010]\n"
     ]
    },
    {
     "name": "stdout",
     "output_type": "stream",
     "text": [
      "[Epoch 108] Train Loss: 6.9766 | Val Loss: 7.0647\n",
      "  -> New best model saved at saved/best.pt\n",
      "Epoch 109/150\n"
     ]
    },
    {
     "name": "stderr",
     "output_type": "stream",
     "text": [
      "🚀 Training: 100%|██████████| 13/13 [00:00<00:00, 30.27it/s, loss=6.9040]\n",
      "🚀 Validation: 100%|██████████| 2/2 [00:00<00:00, 95.19it/s, loss=6.9954]\n"
     ]
    },
    {
     "name": "stdout",
     "output_type": "stream",
     "text": [
      "[Epoch 109] Train Loss: 6.9654 | Val Loss: 7.0593\n",
      "  -> New best model saved at saved/best.pt\n",
      "Epoch 110/150\n"
     ]
    },
    {
     "name": "stderr",
     "output_type": "stream",
     "text": [
      "🚀 Training: 100%|██████████| 13/13 [00:00<00:00, 30.33it/s, loss=6.9653]\n",
      "🚀 Validation: 100%|██████████| 2/2 [00:00<00:00, 97.20it/s, loss=6.9897]\n"
     ]
    },
    {
     "name": "stdout",
     "output_type": "stream",
     "text": [
      "[Epoch 110] Train Loss: 6.9594 | Val Loss: 7.0539\n",
      "  -> New best model saved at saved/best.pt\n",
      "Epoch 111/150\n"
     ]
    },
    {
     "name": "stderr",
     "output_type": "stream",
     "text": [
      "🚀 Training: 100%|██████████| 13/13 [00:00<00:00, 30.59it/s, loss=6.7982]\n",
      "🚀 Validation: 100%|██████████| 2/2 [00:00<00:00, 94.28it/s, loss=6.9845]\n"
     ]
    },
    {
     "name": "stdout",
     "output_type": "stream",
     "text": [
      "[Epoch 111] Train Loss: 6.9446 | Val Loss: 7.0489\n",
      "  -> New best model saved at saved/best.pt\n",
      "Epoch 112/150\n"
     ]
    },
    {
     "name": "stderr",
     "output_type": "stream",
     "text": [
      "🚀 Training: 100%|██████████| 13/13 [00:00<00:00, 30.40it/s, loss=6.7867]\n",
      "🚀 Validation: 100%|██████████| 2/2 [00:00<00:00, 93.59it/s, loss=6.9792]\n"
     ]
    },
    {
     "name": "stdout",
     "output_type": "stream",
     "text": [
      "[Epoch 112] Train Loss: 6.9397 | Val Loss: 7.0439\n",
      "  -> New best model saved at saved/best.pt\n",
      "Epoch 113/150\n"
     ]
    },
    {
     "name": "stderr",
     "output_type": "stream",
     "text": [
      "🚀 Training: 100%|██████████| 13/13 [00:00<00:00, 30.52it/s, loss=6.8086]\n",
      "🚀 Validation: 100%|██████████| 2/2 [00:00<00:00, 87.04it/s, loss=6.9740]\n"
     ]
    },
    {
     "name": "stdout",
     "output_type": "stream",
     "text": [
      "[Epoch 113] Train Loss: 6.9327 | Val Loss: 7.0390\n",
      "  -> New best model saved at saved/best.pt\n",
      "Epoch 114/150\n"
     ]
    },
    {
     "name": "stderr",
     "output_type": "stream",
     "text": [
      "🚀 Training: 100%|██████████| 13/13 [00:00<00:00, 29.90it/s, loss=6.9452]\n",
      "🚀 Validation: 100%|██████████| 2/2 [00:00<00:00, 93.76it/s, loss=6.9688]\n"
     ]
    },
    {
     "name": "stdout",
     "output_type": "stream",
     "text": [
      "[Epoch 114] Train Loss: 6.9341 | Val Loss: 7.0341\n",
      "  -> New best model saved at saved/best.pt\n",
      "Epoch 115/150\n"
     ]
    },
    {
     "name": "stderr",
     "output_type": "stream",
     "text": [
      "🚀 Training: 100%|██████████| 13/13 [00:00<00:00, 30.11it/s, loss=6.9280]\n",
      "🚀 Validation: 100%|██████████| 2/2 [00:00<00:00, 97.45it/s, loss=6.9641]\n"
     ]
    },
    {
     "name": "stdout",
     "output_type": "stream",
     "text": [
      "[Epoch 115] Train Loss: 6.9275 | Val Loss: 7.0295\n",
      "  -> New best model saved at saved/best.pt\n",
      "Epoch 116/150\n"
     ]
    },
    {
     "name": "stderr",
     "output_type": "stream",
     "text": [
      "🚀 Training: 100%|██████████| 13/13 [00:00<00:00, 30.19it/s, loss=6.9713]\n",
      "🚀 Validation: 100%|██████████| 2/2 [00:00<00:00, 83.32it/s, loss=6.9591]\n"
     ]
    },
    {
     "name": "stdout",
     "output_type": "stream",
     "text": [
      "[Epoch 116] Train Loss: 6.9231 | Val Loss: 7.0248\n",
      "  -> New best model saved at saved/best.pt\n",
      "Epoch 117/150\n"
     ]
    },
    {
     "name": "stderr",
     "output_type": "stream",
     "text": [
      "🚀 Training: 100%|██████████| 13/13 [00:00<00:00, 30.29it/s, loss=6.9133]\n",
      "🚀 Validation: 100%|██████████| 2/2 [00:00<00:00, 97.37it/s, loss=6.9543]\n"
     ]
    },
    {
     "name": "stdout",
     "output_type": "stream",
     "text": [
      "[Epoch 117] Train Loss: 6.9151 | Val Loss: 7.0203\n",
      "  -> New best model saved at saved/best.pt\n",
      "Epoch 118/150\n"
     ]
    },
    {
     "name": "stderr",
     "output_type": "stream",
     "text": [
      "🚀 Training: 100%|██████████| 13/13 [00:00<00:00, 29.98it/s, loss=6.8861]\n",
      "🚀 Validation: 100%|██████████| 2/2 [00:00<00:00, 93.67it/s, loss=6.9497]\n"
     ]
    },
    {
     "name": "stdout",
     "output_type": "stream",
     "text": [
      "[Epoch 118] Train Loss: 6.9070 | Val Loss: 7.0158\n",
      "  -> New best model saved at saved/best.pt\n",
      "Epoch 119/150\n"
     ]
    },
    {
     "name": "stderr",
     "output_type": "stream",
     "text": [
      "🚀 Training: 100%|██████████| 13/13 [00:00<00:00, 30.10it/s, loss=6.9118]\n",
      "🚀 Validation: 100%|██████████| 2/2 [00:00<00:00, 90.38it/s, loss=6.9454]\n"
     ]
    },
    {
     "name": "stdout",
     "output_type": "stream",
     "text": [
      "[Epoch 119] Train Loss: 6.9014 | Val Loss: 7.0118\n",
      "  -> New best model saved at saved/best.pt\n",
      "Epoch 120/150\n"
     ]
    },
    {
     "name": "stderr",
     "output_type": "stream",
     "text": [
      "🚀 Training: 100%|██████████| 13/13 [00:00<00:00, 30.12it/s, loss=6.8823]\n",
      "🚀 Validation: 100%|██████████| 2/2 [00:00<00:00, 95.60it/s, loss=6.9408]\n"
     ]
    },
    {
     "name": "stdout",
     "output_type": "stream",
     "text": [
      "[Epoch 120] Train Loss: 6.8921 | Val Loss: 7.0075\n",
      "  -> New best model saved at saved/best.pt\n",
      "Epoch 121/150\n"
     ]
    },
    {
     "name": "stderr",
     "output_type": "stream",
     "text": [
      "🚀 Training: 100%|██████████| 13/13 [00:00<00:00, 30.38it/s, loss=6.8983]\n",
      "🚀 Validation: 100%|██████████| 2/2 [00:00<00:00, 96.50it/s, loss=6.9362]\n"
     ]
    },
    {
     "name": "stdout",
     "output_type": "stream",
     "text": [
      "[Epoch 121] Train Loss: 6.8912 | Val Loss: 7.0031\n",
      "  -> New best model saved at saved/best.pt\n",
      "Epoch 122/150\n"
     ]
    },
    {
     "name": "stderr",
     "output_type": "stream",
     "text": [
      "🚀 Training: 100%|██████████| 13/13 [00:00<00:00, 29.67it/s, loss=6.8460]\n",
      "🚀 Validation: 100%|██████████| 2/2 [00:00<00:00, 89.39it/s, loss=6.9320]\n"
     ]
    },
    {
     "name": "stdout",
     "output_type": "stream",
     "text": [
      "[Epoch 122] Train Loss: 6.8824 | Val Loss: 6.9992\n",
      "  -> New best model saved at saved/best.pt\n",
      "Epoch 123/150\n"
     ]
    },
    {
     "name": "stderr",
     "output_type": "stream",
     "text": [
      "🚀 Training: 100%|██████████| 13/13 [00:00<00:00, 29.66it/s, loss=6.7914]\n",
      "🚀 Validation: 100%|██████████| 2/2 [00:00<00:00, 91.41it/s, loss=6.9279]\n"
     ]
    },
    {
     "name": "stdout",
     "output_type": "stream",
     "text": [
      "[Epoch 123] Train Loss: 6.8767 | Val Loss: 6.9953\n",
      "  -> New best model saved at saved/best.pt\n",
      "Epoch 124/150\n"
     ]
    },
    {
     "name": "stderr",
     "output_type": "stream",
     "text": [
      "🚀 Training: 100%|██████████| 13/13 [00:00<00:00, 29.87it/s, loss=6.8426]\n",
      "🚀 Validation: 100%|██████████| 2/2 [00:00<00:00, 80.40it/s, loss=6.9239]\n"
     ]
    },
    {
     "name": "stdout",
     "output_type": "stream",
     "text": [
      "[Epoch 124] Train Loss: 6.8717 | Val Loss: 6.9915\n",
      "  -> New best model saved at saved/best.pt\n",
      "Epoch 125/150\n"
     ]
    },
    {
     "name": "stderr",
     "output_type": "stream",
     "text": [
      "🚀 Training: 100%|██████████| 13/13 [00:00<00:00, 29.66it/s, loss=6.8918]\n",
      "🚀 Validation: 100%|██████████| 2/2 [00:00<00:00, 92.76it/s, loss=6.9197]\n"
     ]
    },
    {
     "name": "stdout",
     "output_type": "stream",
     "text": [
      "[Epoch 125] Train Loss: 6.8677 | Val Loss: 6.9875\n",
      "  -> New best model saved at saved/best.pt\n",
      "Epoch 126/150\n"
     ]
    },
    {
     "name": "stderr",
     "output_type": "stream",
     "text": [
      "🚀 Training: 100%|██████████| 13/13 [00:00<00:00, 29.62it/s, loss=6.8776]\n",
      "🚀 Validation: 100%|██████████| 2/2 [00:00<00:00, 96.35it/s, loss=6.9159]\n"
     ]
    },
    {
     "name": "stdout",
     "output_type": "stream",
     "text": [
      "[Epoch 126] Train Loss: 6.8642 | Val Loss: 6.9840\n",
      "  -> New best model saved at saved/best.pt\n",
      "Epoch 127/150\n"
     ]
    },
    {
     "name": "stderr",
     "output_type": "stream",
     "text": [
      "🚀 Training: 100%|██████████| 13/13 [00:00<00:00, 29.81it/s, loss=6.9181]\n",
      "🚀 Validation: 100%|██████████| 2/2 [00:00<00:00, 93.19it/s, loss=6.9123]\n"
     ]
    },
    {
     "name": "stdout",
     "output_type": "stream",
     "text": [
      "[Epoch 127] Train Loss: 6.8598 | Val Loss: 6.9806\n",
      "  -> New best model saved at saved/best.pt\n",
      "Epoch 128/150\n"
     ]
    },
    {
     "name": "stderr",
     "output_type": "stream",
     "text": [
      "🚀 Training: 100%|██████████| 13/13 [00:00<00:00, 29.98it/s, loss=6.9536]\n",
      "🚀 Validation: 100%|██████████| 2/2 [00:00<00:00, 96.14it/s, loss=6.9087]\n"
     ]
    },
    {
     "name": "stdout",
     "output_type": "stream",
     "text": [
      "[Epoch 128] Train Loss: 6.8561 | Val Loss: 6.9773\n",
      "  -> New best model saved at saved/best.pt\n",
      "Epoch 129/150\n"
     ]
    },
    {
     "name": "stderr",
     "output_type": "stream",
     "text": [
      "🚀 Training: 100%|██████████| 13/13 [00:00<00:00, 29.63it/s, loss=6.8202]\n",
      "🚀 Validation: 100%|██████████| 2/2 [00:00<00:00, 92.86it/s, loss=6.9053]\n"
     ]
    },
    {
     "name": "stdout",
     "output_type": "stream",
     "text": [
      "[Epoch 129] Train Loss: 6.8449 | Val Loss: 6.9740\n",
      "  -> New best model saved at saved/best.pt\n",
      "Epoch 130/150\n"
     ]
    },
    {
     "name": "stderr",
     "output_type": "stream",
     "text": [
      "🚀 Training: 100%|██████████| 13/13 [00:00<00:00, 29.94it/s, loss=6.8234]\n",
      "🚀 Validation: 100%|██████████| 2/2 [00:00<00:00, 94.47it/s, loss=6.9017]\n"
     ]
    },
    {
     "name": "stdout",
     "output_type": "stream",
     "text": [
      "[Epoch 130] Train Loss: 6.8407 | Val Loss: 6.9707\n",
      "  -> New best model saved at saved/best.pt\n",
      "Epoch 131/150\n"
     ]
    },
    {
     "name": "stderr",
     "output_type": "stream",
     "text": [
      "🚀 Training: 100%|██████████| 13/13 [00:00<00:00, 29.92it/s, loss=6.8812]\n",
      "🚀 Validation: 100%|██████████| 2/2 [00:00<00:00, 91.45it/s, loss=6.8983]\n"
     ]
    },
    {
     "name": "stdout",
     "output_type": "stream",
     "text": [
      "[Epoch 131] Train Loss: 6.8393 | Val Loss: 6.9675\n",
      "  -> New best model saved at saved/best.pt\n",
      "Epoch 132/150\n"
     ]
    },
    {
     "name": "stderr",
     "output_type": "stream",
     "text": [
      "🚀 Training: 100%|██████████| 13/13 [00:00<00:00, 29.66it/s, loss=6.8039]\n",
      "🚀 Validation: 100%|██████████| 2/2 [00:00<00:00, 93.42it/s, loss=6.8949]\n"
     ]
    },
    {
     "name": "stdout",
     "output_type": "stream",
     "text": [
      "[Epoch 132] Train Loss: 6.8298 | Val Loss: 6.9644\n",
      "  -> New best model saved at saved/best.pt\n",
      "Epoch 133/150\n"
     ]
    },
    {
     "name": "stderr",
     "output_type": "stream",
     "text": [
      "🚀 Training: 100%|██████████| 13/13 [00:00<00:00, 29.88it/s, loss=6.8564]\n",
      "🚀 Validation: 100%|██████████| 2/2 [00:00<00:00, 97.62it/s, loss=6.8920]\n"
     ]
    },
    {
     "name": "stdout",
     "output_type": "stream",
     "text": [
      "[Epoch 133] Train Loss: 6.8293 | Val Loss: 6.9616\n",
      "  -> New best model saved at saved/best.pt\n",
      "Epoch 134/150\n"
     ]
    },
    {
     "name": "stderr",
     "output_type": "stream",
     "text": [
      "🚀 Training: 100%|██████████| 13/13 [00:00<00:00, 29.93it/s, loss=6.8850]\n",
      "🚀 Validation: 100%|██████████| 2/2 [00:00<00:00, 92.60it/s, loss=6.8889]\n"
     ]
    },
    {
     "name": "stdout",
     "output_type": "stream",
     "text": [
      "[Epoch 134] Train Loss: 6.8237 | Val Loss: 6.9587\n",
      "  -> New best model saved at saved/best.pt\n",
      "Epoch 135/150\n"
     ]
    },
    {
     "name": "stderr",
     "output_type": "stream",
     "text": [
      "🚀 Training: 100%|██████████| 13/13 [00:00<00:00, 29.73it/s, loss=6.7175]\n",
      "🚀 Validation: 100%|██████████| 2/2 [00:00<00:00, 95.73it/s, loss=6.8859]\n"
     ]
    },
    {
     "name": "stdout",
     "output_type": "stream",
     "text": [
      "[Epoch 135] Train Loss: 6.8139 | Val Loss: 6.9558\n",
      "  -> New best model saved at saved/best.pt\n",
      "Epoch 136/150\n"
     ]
    },
    {
     "name": "stderr",
     "output_type": "stream",
     "text": [
      "🚀 Training: 100%|██████████| 13/13 [00:00<00:00, 29.92it/s, loss=6.8766]\n",
      "🚀 Validation: 100%|██████████| 2/2 [00:00<00:00, 93.67it/s, loss=6.8830]\n"
     ]
    },
    {
     "name": "stdout",
     "output_type": "stream",
     "text": [
      "[Epoch 136] Train Loss: 6.8147 | Val Loss: 6.9531\n",
      "  -> New best model saved at saved/best.pt\n",
      "Epoch 137/150\n"
     ]
    },
    {
     "name": "stderr",
     "output_type": "stream",
     "text": [
      "🚀 Training: 100%|██████████| 13/13 [00:00<00:00, 30.01it/s, loss=6.7695]\n",
      "🚀 Validation: 100%|██████████| 2/2 [00:00<00:00, 95.40it/s, loss=6.8800]\n"
     ]
    },
    {
     "name": "stdout",
     "output_type": "stream",
     "text": [
      "[Epoch 137] Train Loss: 6.8095 | Val Loss: 6.9504\n",
      "  -> New best model saved at saved/best.pt\n",
      "Epoch 138/150\n"
     ]
    },
    {
     "name": "stderr",
     "output_type": "stream",
     "text": [
      "🚀 Training: 100%|██████████| 13/13 [00:00<00:00, 29.66it/s, loss=6.7887]\n",
      "🚀 Validation: 100%|██████████| 2/2 [00:00<00:00, 93.66it/s, loss=6.8771]\n"
     ]
    },
    {
     "name": "stdout",
     "output_type": "stream",
     "text": [
      "[Epoch 138] Train Loss: 6.8044 | Val Loss: 6.9478\n",
      "  -> New best model saved at saved/best.pt\n",
      "Epoch 139/150\n"
     ]
    },
    {
     "name": "stderr",
     "output_type": "stream",
     "text": [
      "🚀 Training: 100%|██████████| 13/13 [00:00<00:00, 29.89it/s, loss=6.8182]\n",
      "🚀 Validation: 100%|██████████| 2/2 [00:00<00:00, 93.24it/s, loss=6.8745]\n"
     ]
    },
    {
     "name": "stdout",
     "output_type": "stream",
     "text": [
      "[Epoch 139] Train Loss: 6.8015 | Val Loss: 6.9454\n",
      "  -> New best model saved at saved/best.pt\n",
      "Epoch 140/150\n"
     ]
    },
    {
     "name": "stderr",
     "output_type": "stream",
     "text": [
      "🚀 Training: 100%|██████████| 13/13 [00:00<00:00, 29.89it/s, loss=6.7884]\n",
      "🚀 Validation: 100%|██████████| 2/2 [00:00<00:00, 92.19it/s, loss=6.8719]\n"
     ]
    },
    {
     "name": "stdout",
     "output_type": "stream",
     "text": [
      "[Epoch 140] Train Loss: 6.7966 | Val Loss: 6.9429\n",
      "  -> New best model saved at saved/best.pt\n",
      "Epoch 141/150\n"
     ]
    },
    {
     "name": "stderr",
     "output_type": "stream",
     "text": [
      "🚀 Training: 100%|██████████| 13/13 [00:00<00:00, 29.58it/s, loss=6.8328]\n",
      "🚀 Validation: 100%|██████████| 2/2 [00:00<00:00, 89.52it/s, loss=6.8691]\n"
     ]
    },
    {
     "name": "stdout",
     "output_type": "stream",
     "text": [
      "[Epoch 141] Train Loss: 6.7920 | Val Loss: 6.9403\n",
      "  -> New best model saved at saved/best.pt\n",
      "Epoch 142/150\n"
     ]
    },
    {
     "name": "stderr",
     "output_type": "stream",
     "text": [
      "🚀 Training: 100%|██████████| 13/13 [00:00<00:00, 29.79it/s, loss=6.7691]\n",
      "🚀 Validation: 100%|██████████| 2/2 [00:00<00:00, 95.30it/s, loss=6.8665]\n"
     ]
    },
    {
     "name": "stdout",
     "output_type": "stream",
     "text": [
      "[Epoch 142] Train Loss: 6.7866 | Val Loss: 6.9378\n",
      "  -> New best model saved at saved/best.pt\n",
      "Epoch 143/150\n"
     ]
    },
    {
     "name": "stderr",
     "output_type": "stream",
     "text": [
      "🚀 Training: 100%|██████████| 13/13 [00:00<00:00, 29.98it/s, loss=6.7174]\n",
      "🚀 Validation: 100%|██████████| 2/2 [00:00<00:00, 92.61it/s, loss=6.8638]\n"
     ]
    },
    {
     "name": "stdout",
     "output_type": "stream",
     "text": [
      "[Epoch 143] Train Loss: 6.7795 | Val Loss: 6.9354\n",
      "  -> New best model saved at saved/best.pt\n",
      "Epoch 144/150\n"
     ]
    },
    {
     "name": "stderr",
     "output_type": "stream",
     "text": [
      "🚀 Training: 100%|██████████| 13/13 [00:00<00:00, 29.35it/s, loss=6.8172]\n",
      "🚀 Validation: 100%|██████████| 2/2 [00:00<00:00, 91.24it/s, loss=6.8611]\n"
     ]
    },
    {
     "name": "stdout",
     "output_type": "stream",
     "text": [
      "[Epoch 144] Train Loss: 6.7810 | Val Loss: 6.9328\n",
      "  -> New best model saved at saved/best.pt\n",
      "Epoch 145/150\n"
     ]
    },
    {
     "name": "stderr",
     "output_type": "stream",
     "text": [
      "🚀 Training: 100%|██████████| 13/13 [00:00<00:00, 29.95it/s, loss=6.8303]\n",
      "🚀 Validation: 100%|██████████| 2/2 [00:00<00:00, 96.66it/s, loss=6.8590]\n"
     ]
    },
    {
     "name": "stdout",
     "output_type": "stream",
     "text": [
      "[Epoch 145] Train Loss: 6.7768 | Val Loss: 6.9308\n",
      "  -> New best model saved at saved/best.pt\n",
      "Epoch 146/150\n"
     ]
    },
    {
     "name": "stderr",
     "output_type": "stream",
     "text": [
      "🚀 Training: 100%|██████████| 13/13 [00:00<00:00, 30.05it/s, loss=6.7389]\n",
      "🚀 Validation: 100%|██████████| 2/2 [00:00<00:00, 92.66it/s, loss=6.8567]\n"
     ]
    },
    {
     "name": "stdout",
     "output_type": "stream",
     "text": [
      "[Epoch 146] Train Loss: 6.7716 | Val Loss: 6.9287\n",
      "  -> New best model saved at saved/best.pt\n",
      "Epoch 147/150\n"
     ]
    },
    {
     "name": "stderr",
     "output_type": "stream",
     "text": [
      "🚀 Training: 100%|██████████| 13/13 [00:00<00:00, 29.56it/s, loss=6.6906]\n",
      "🚀 Validation: 100%|██████████| 2/2 [00:00<00:00, 92.19it/s, loss=6.8544]\n"
     ]
    },
    {
     "name": "stdout",
     "output_type": "stream",
     "text": [
      "[Epoch 147] Train Loss: 6.7646 | Val Loss: 6.9267\n",
      "  -> New best model saved at saved/best.pt\n",
      "Epoch 148/150\n"
     ]
    },
    {
     "name": "stderr",
     "output_type": "stream",
     "text": [
      "🚀 Training: 100%|██████████| 13/13 [00:00<00:00, 29.83it/s, loss=6.7407]\n",
      "🚀 Validation: 100%|██████████| 2/2 [00:00<00:00, 91.41it/s, loss=6.8523]\n"
     ]
    },
    {
     "name": "stdout",
     "output_type": "stream",
     "text": [
      "[Epoch 148] Train Loss: 6.7628 | Val Loss: 6.9248\n",
      "  -> New best model saved at saved/best.pt\n",
      "Epoch 149/150\n"
     ]
    },
    {
     "name": "stderr",
     "output_type": "stream",
     "text": [
      "🚀 Training: 100%|██████████| 13/13 [00:00<00:00, 29.73it/s, loss=6.8471]\n",
      "🚀 Validation: 100%|██████████| 2/2 [00:00<00:00, 89.91it/s, loss=6.8502]\n"
     ]
    },
    {
     "name": "stdout",
     "output_type": "stream",
     "text": [
      "[Epoch 149] Train Loss: 6.7671 | Val Loss: 6.9228\n",
      "  -> New best model saved at saved/best.pt\n",
      "Epoch 150/150\n"
     ]
    },
    {
     "name": "stderr",
     "output_type": "stream",
     "text": [
      "🚀 Training: 100%|██████████| 13/13 [00:00<00:00, 28.73it/s, loss=6.6880]\n",
      "🚀 Validation: 100%|██████████| 2/2 [00:00<00:00, 90.98it/s, loss=6.8479]\n"
     ]
    },
    {
     "name": "stdout",
     "output_type": "stream",
     "text": [
      "[Epoch 150] Train Loss: 6.7565 | Val Loss: 6.9207\n",
      "  -> New best model saved at saved/best.pt\n",
      "Loss plot saved to saved/loss_plot.png\n"
     ]
    }
   ],
   "source": [
    "import os\n",
    "import torch\n",
    "from tqdm import tqdm\n",
    "os.makedirs(SAVE_DIR, exist_ok=True)\n",
    "best_val_loss = float(\"inf\") \n",
    "best_model_path = None\n",
    "atl = {}\n",
    "avl = {}\n",
    "for epoch in range(1, EPOCHS + 1):\n",
    "    print(f\"Epoch {epoch}/{EPOCHS}\")\n",
    "    model.train()\n",
    "    total_train_loss = 0.0\n",
    "    train_bar = tqdm(train_loader, desc=\"🚀 Training\", \n",
    "                leave=True, total=len(train_loader))\n",
    "    for batch in train_bar:\n",
    "        optimizer.zero_grad()\n",
    "        src_batch = batch['src'].to(device)\n",
    "        tgt_batch = batch['tgt'].to(device)\n",
    "        \n",
    "        output, _ = model(src_batch, tgt_batch[:, :-1]) \n",
    "        output_dim = output.shape[-1]\n",
    "        output = output.reshape(-1, output_dim)\n",
    "        tgt_y = tgt_batch[:,1:].contiguous().view(-1)\n",
    "        loss = criterion(output, tgt_y)\n",
    "        loss.backward()\n",
    "        optimizer.step()\n",
    "        total_train_loss += loss.item()\n",
    "        train_bar.set_postfix(loss=f\"{loss.item():.4f}\")\n",
    "\n",
    "    avg_train_loss = total_train_loss / len(train_loader)\n",
    "    atl[epoch]=avg_train_loss\n",
    "    model.eval()\n",
    "    total_val_loss = 0.0\n",
    "    val_bar = tqdm(val_loader, desc=\"🚀 Validation\",\n",
    "              leave=True, total=len(val_loader))\n",
    "    with torch.no_grad():\n",
    "        for batch in val_bar:\n",
    "            src_batch = batch['src'].to(device)\n",
    "            tgt_batch = batch['tgt'].to(device)\n",
    "            \n",
    "            output, _ = model(src_batch, tgt_batch[:, :-1]) \n",
    "            output_dim = output.shape[-1]\n",
    "            output = output.reshape(-1, output_dim)\n",
    "            tgt_y = tgt_batch[:,1:].contiguous().view(-1)\n",
    "\n",
    "            loss = criterion(output, tgt_y)\n",
    "            total_val_loss += loss.item()\n",
    "            val_bar.set_postfix(loss=f\"{loss.item():.4f}\")\n",
    "    \n",
    "    avg_val_loss = total_val_loss / len(val_loader)\n",
    "    avl[epoch]=avg_val_loss\n",
    "    print(f\"[Epoch {epoch}] Train Loss: {avg_train_loss:.4f} | Val Loss: {avg_val_loss:.4f}\")\n",
    "    if avg_val_loss < best_val_loss:\n",
    "        if best_model_path and os.path.exists(best_model_path):\n",
    "            os.remove(best_model_path)\n",
    "        best_val_loss = avg_val_loss\n",
    "        best_model_path = os.path.join(SAVE_DIR, \"best.pt\")\n",
    "        torch.save(model.state_dict(), best_model_path)\n",
    "        print(f\"  -> New best model saved at {best_model_path}\")\n",
    "\n",
    "utils.plot_loss(atl, avl, SAVE_DIR)\n"
   ]
  },
  {
   "cell_type": "code",
   "execution_count": null,
   "metadata": {},
   "outputs": [],
   "source": []
  }
 ],
 "metadata": {
  "kernelspec": {
   "display_name": "torch_env",
   "language": "python",
   "name": "python3"
  },
  "language_info": {
   "codemirror_mode": {
    "name": "ipython",
    "version": 3
   },
   "file_extension": ".py",
   "mimetype": "text/x-python",
   "name": "python",
   "nbconvert_exporter": "python",
   "pygments_lexer": "ipython3",
   "version": "3.10.16"
  }
 },
 "nbformat": 4,
 "nbformat_minor": 2
}

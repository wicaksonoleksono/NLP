{
 "cells": [
  {
   "cell_type": "code",
   "execution_count": 1,
   "metadata": {},
   "outputs": [
    {
     "name": "stdout",
     "output_type": "stream",
     "text": [
      "TrainData - Max 'min' sentence length: 76\n",
      "TrainData - Max 'eng' sentence length: 107\n",
      "TestData - Max 'min' sentence length: 61\n",
      "TestData - Max 'eng' sentence length: 75\n",
      "ValidData - Max 'min' sentence length: 65\n",
      "ValidData - Max 'eng' sentence length: 85\n",
      "SentencePiece training file created at dataset/spm_files/spm_train.txt\n",
      "SentencePiece model loaded from dataset/spm_files/spm_model.model\n"
     ]
    }
   ],
   "source": [
    "from utils_subword import (\n",
    "    create_spm_training_file,\n",
    "    train_sentencepiece_model,\n",
    "    load_sentencepiece_model,\n",
    "    sp_tokenize_with_specials,\n",
    "    sp_detokenize_with_specials\n",
    ")\n",
    "import os\n",
    "\n",
    "data_path = \"dataset\"            # Base folder where your CSV files are stored.\n",
    "src_lang = \"min\"                 # For Minangkabau (source)\n",
    "tgt_lang = \"eng\"                 # For English (target)\n",
    "save_dir = os.path.join(data_path, \"spm_files\")\n",
    "os.makedirs(save_dir, exist_ok=True)\n",
    "training_file = create_spm_training_file(data_path, src_lang, tgt_lang, save_dir, output_file=\"spm_train.txt\")\n",
    "model_path = os.path.join(save_dir, \"spm_model.model\")\n",
    "if not os.path.exists(model_path):\n",
    "    train_sentencepiece_model(training_file, save_dir, model_prefix=\"spm_model\", vocab_size=5000, model_type=\"bpe\")\n",
    "sp = load_sentencepiece_model(save_dir, model_prefix=\"spm_model\")\n",
    "\n"
   ]
  },
  {
   "cell_type": "code",
   "execution_count": 3,
   "metadata": {},
   "outputs": [
    {
     "name": "stdout",
     "output_type": "stream",
     "text": [
      "Token IDs: [1, 4409, 519, 3032, 374, 4983, 34, 997, 1150, 4997, 57, 4985, 738, 38, 4980, 0, 2696, 0, 2, 0, 0, 0, 0, 0, 0, 0, 0, 0, 0, 0, 0, 0, 0, 0, 0, 0, 0, 0, 0, 0, 0, 0, 0, 0, 0, 0, 0, 0, 0, 0, 0, 0, 0, 0, 0, 0, 0, 0, 0, 0, 0, 0, 0, 0, 0, 0, 0, 0, 0, 0, 0, 0, 0, 0, 0, 0, 0, 0, 0, 0, 0, 0, 0, 0, 0, 0, 0, 0, 0, 0, 0, 0, 0, 0, 0, 0, 0, 0, 0, 0, 0, 0, 0, 0, 0, 0, 0]\n",
      "Detokenized Sentence: ini adalah contoh kalimat untuk subword tokeniation\n"
     ]
    }
   ],
   "source": [
    "example_sentence = \"ini adalah contoh kalimat untuk subword tokenization.\"\n",
    "token_ids = sp_tokenize_with_specials(sp, example_sentence)\n",
    "print(\"Token IDs:\", token_ids)\n",
    "detok_sentence = sp_detokenize_with_specials(sp, token_ids)\n",
    "print(\"Detokenized Sentence:\", detok_sentence)"
   ]
  },
  {
   "cell_type": "code",
   "execution_count": null,
   "metadata": {},
   "outputs": [],
   "source": []
  }
 ],
 "metadata": {
  "kernelspec": {
   "display_name": "torch_env",
   "language": "python",
   "name": "python3"
  },
  "language_info": {
   "codemirror_mode": {
    "name": "ipython",
    "version": 3
   },
   "file_extension": ".py",
   "mimetype": "text/x-python",
   "name": "python",
   "nbconvert_exporter": "python",
   "pygments_lexer": "ipython3",
   "version": "3.10.16"
  }
 },
 "nbformat": 4,
 "nbformat_minor": 2
}

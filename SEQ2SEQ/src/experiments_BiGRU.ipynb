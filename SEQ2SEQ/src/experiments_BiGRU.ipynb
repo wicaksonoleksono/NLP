{
 "cells": [
  {
   "cell_type": "code",
   "execution_count": 1,
   "metadata": {},
   "outputs": [
    {
     "name": "stderr",
     "output_type": "stream",
     "text": [
      "[nltk_data] Downloading package punkt to\n",
      "[nltk_data]     /home/wicaksonolxn/nltk_data...\n",
      "[nltk_data]   Package punkt is already up-to-date!\n"
     ]
    }
   ],
   "source": [
    "import os\n",
    "import torch\n",
    "import torch.nn as nn\n",
    "import torch.optim as optim\n",
    "from tqdm import tqdm\n",
    "from dataloader import get_dataloaders\n",
    "import nltk\n",
    "from nltk.translate.bleu_score import sentence_bleu, SmoothingFunction\n",
    "from transformer import Transformer,TransformerEncoder,TransformerDecoder\n",
    "from bigru import Encoder,Decoder,Seq2Seq\n",
    "import utils\n",
    "import pickle\n",
    "nltk.download('punkt')  \n",
    "device = torch.device('cuda' if torch.cuda.is_available() else 'cpu')"
   ]
  },
  {
   "cell_type": "code",
   "execution_count": 2,
   "metadata": {},
   "outputs": [
    {
     "name": "stdout",
     "output_type": "stream",
     "text": [
      "TrainData - Max 'min' sentence length: 76\n",
      "TrainData - Max 'eng' sentence length: 107\n",
      "TestData - Max 'min' sentence length: 61\n",
      "TestData - Max 'eng' sentence length: 75\n",
      "ValidData - Max 'min' sentence length: 71\n",
      "ValidData - Max 'eng' sentence length: 80\n",
      "Number of examples in train_dataset,train origin,train_raw: 800 800 800\n",
      "Number of examples in valid_dataset: 100\n",
      "Number of examples in test_dataset: 100\n",
      "Model initialized on: cuda\n"
     ]
    }
   ],
   "source": [
    "BATCH_SIZE = 64 # butuh lebih banyak update \n",
    "EPOCHS=100\n",
    "DATA_PATH = \"dataset/\"  \n",
    "SAVE_DIR = \"saved\"\n",
    "train_loader, val_loader, test_loader = get_dataloaders(\n",
    "    data_path=DATA_PATH, \n",
    "    source_lang=\"min\", \n",
    "    target_lang=\"eng\", \n",
    "    batch_size=BATCH_SIZE, \n",
    "    device=device\n",
    ")\n",
    "SRC_VOCAB_SIZE = 5000    # Example size\n",
    "TGT_VOCAB_SIZE = 5000   # Example size\n",
    "EMBED_SIZE = 256\n",
    "ENC_HIDDEN = 128      # For the encoder (before doubling in BiGRU)\n",
    "DEC_HIDDEN = 256      # For the decoder\n",
    "N_LAYERS = 2\n",
    "encoder = Encoder(SRC_VOCAB_SIZE, EMBED_SIZE, ENC_HIDDEN, num_layers=N_LAYERS, dropout=0.1, pad_idx=utils.PAD_TOKEN)\n",
    "decoder = Decoder(TGT_VOCAB_SIZE, EMBED_SIZE, DEC_HIDDEN, num_layers=N_LAYERS, dropout=0.1, pad_idx=utils.PAD_TOKEN)\n",
    "model = Seq2Seq(encoder, decoder, device, ENC_HIDDEN, DEC_HIDDEN).to(device)\n",
    "optimizer = optim.Adam(model.parameters(), lr=5e-4)\n",
    "criterion = nn.CrossEntropyLoss(ignore_index=utils.PAD_TOKEN) \n",
    "print(\"Model initialized on:\", device)\n"
   ]
  },
  {
   "cell_type": "code",
   "execution_count": 3,
   "metadata": {},
   "outputs": [
    {
     "name": "stdout",
     "output_type": "stream",
     "text": [
      "torch.Size([64, 109]) torch.Size([64, 109])\n",
      "Padding: 0\n",
      "Start of Sequence: 1\n",
      "End of Sequence: 2\n",
      "Unknown: 3\n"
     ]
    }
   ],
   "source": [
    "tokens = {\n",
    "    \"Padding\": utils.PAD_TOKEN,\n",
    "    \"Start of Sequence\": utils.SOS_TOKEN,\n",
    "    \"End of Sequence\": utils.EOS_TOKEN,\n",
    "    \"Unknown\": utils.UNK_TOKEN\n",
    "}\n",
    "for i, batch in enumerate(train_loader):\n",
    "    if i < 8:\n",
    "        src = batch[\"src\"]\n",
    "        tgt = batch[\"tgt\"]\n",
    "        ss,fss=src[0,:],src.shape\n",
    "        st,fst=tgt[0,:],tgt.shape\n",
    "        print(fss,fst)\n",
    "    for name, token in tokens.items():\n",
    "        print(f\"{name}: {token}\")\n",
    "    else:\n",
    "        break"
   ]
  },
  {
   "cell_type": "markdown",
   "metadata": {},
   "source": [
    "testing input , is it correct"
   ]
  },
  {
   "cell_type": "code",
   "execution_count": 4,
   "metadata": {},
   "outputs": [
    {
     "name": "stdout",
     "output_type": "stream",
     "text": [
      "torch.Size([64, 109])\n",
      "torch.Size([64, 109])\n",
      "torch.Size([64, 109])\n",
      "torch.Size([64, 109])\n",
      "torch.Size([64, 109])\n",
      "torch.Size([64, 109])\n",
      "torch.Size([64, 109])\n"
     ]
    }
   ],
   "source": [
    "data_iter = iter(train_loader)\n",
    "for i in range(7):\n",
    "    batch = next(data_iter)\n",
    "    print(batch[\"src\"].shape)\n"
   ]
  },
  {
   "cell_type": "code",
   "execution_count": 5,
   "metadata": {},
   "outputs": [
    {
     "name": "stdout",
     "output_type": "stream",
     "text": [
      "tensor([187, 153,  21,  ...,   0,   0,   0], device='cuda:0')\n"
     ]
    }
   ],
   "source": [
    "for i,batch in enumerate(train_loader):\n",
    "    if i <1:\n",
    "        src_batch = batch['src'].to(device)\n",
    "        tgt_batch = batch['tgt'].to(device)\n",
    "        output,_= model(src_batch, tgt_batch[:, :-1]) \n",
    "        output_dim = output.shape[-1]\n",
    "        output = output.reshape(-1, output_dim)\n",
    "        tgt_y = tgt_batch[:,1:].contiguous().view(-1)\n",
    "        print(tgt_y)"
   ]
  },
  {
   "cell_type": "code",
   "execution_count": 6,
   "metadata": {},
   "outputs": [
    {
     "name": "stdout",
     "output_type": "stream",
     "text": [
      "Epoch 1/100\n"
     ]
    },
    {
     "name": "stderr",
     "output_type": "stream",
     "text": [
      "🚀 Training: 100%|██████████| 13/13 [00:04<00:00,  3.04it/s, loss=7.7257]\n",
      "🚀 Validation: 100%|██████████| 2/2 [00:00<00:00, 18.12it/s, loss=7.4307]\n"
     ]
    },
    {
     "name": "stdout",
     "output_type": "stream",
     "text": [
      "[Epoch 1] Train Loss: 8.2379 | Val Loss: 7.4876\n",
      "  -> New best model saved at saved/best_gru.pt\n",
      "Epoch 2/100\n"
     ]
    },
    {
     "name": "stderr",
     "output_type": "stream",
     "text": [
      "🚀 Training: 100%|██████████| 13/13 [00:04<00:00,  3.11it/s, loss=6.7286]\n",
      "🚀 Validation: 100%|██████████| 2/2 [00:00<00:00, 19.40it/s, loss=6.7000]\n"
     ]
    },
    {
     "name": "stdout",
     "output_type": "stream",
     "text": [
      "[Epoch 2] Train Loss: 6.9073 | Val Loss: 6.7637\n",
      "  -> New best model saved at saved/best_gru.pt\n",
      "Epoch 3/100\n"
     ]
    },
    {
     "name": "stderr",
     "output_type": "stream",
     "text": [
      "🚀 Training: 100%|██████████| 13/13 [00:04<00:00,  3.10it/s, loss=6.5487]\n",
      "🚀 Validation: 100%|██████████| 2/2 [00:00<00:00, 18.67it/s, loss=6.7392]\n"
     ]
    },
    {
     "name": "stdout",
     "output_type": "stream",
     "text": [
      "[Epoch 3] Train Loss: 6.5275 | Val Loss: 6.8166\n",
      "Epoch 4/100\n"
     ]
    },
    {
     "name": "stderr",
     "output_type": "stream",
     "text": [
      "🚀 Training: 100%|██████████| 13/13 [00:04<00:00,  3.10it/s, loss=6.4926]\n",
      "🚀 Validation: 100%|██████████| 2/2 [00:00<00:00, 18.97it/s, loss=6.7624]\n"
     ]
    },
    {
     "name": "stdout",
     "output_type": "stream",
     "text": [
      "[Epoch 4] Train Loss: 6.4944 | Val Loss: 6.8439\n",
      "Epoch 5/100\n"
     ]
    },
    {
     "name": "stderr",
     "output_type": "stream",
     "text": [
      "🚀 Training: 100%|██████████| 13/13 [00:04<00:00,  3.10it/s, loss=6.7432]\n",
      "🚀 Validation: 100%|██████████| 2/2 [00:00<00:00, 18.92it/s, loss=6.7918]\n"
     ]
    },
    {
     "name": "stdout",
     "output_type": "stream",
     "text": [
      "[Epoch 5] Train Loss: 6.4860 | Val Loss: 6.8657\n",
      "Epoch 6/100\n"
     ]
    },
    {
     "name": "stderr",
     "output_type": "stream",
     "text": [
      "🚀 Training: 100%|██████████| 13/13 [00:04<00:00,  3.11it/s, loss=6.4647]\n",
      "🚀 Validation: 100%|██████████| 2/2 [00:00<00:00, 18.67it/s, loss=6.7999]\n"
     ]
    },
    {
     "name": "stdout",
     "output_type": "stream",
     "text": [
      "[Epoch 6] Train Loss: 6.4637 | Val Loss: 6.8782\n",
      "Epoch 7/100\n"
     ]
    },
    {
     "name": "stderr",
     "output_type": "stream",
     "text": [
      "🚀 Training: 100%|██████████| 13/13 [00:04<00:00,  3.01it/s, loss=6.5098]\n",
      "🚀 Validation: 100%|██████████| 2/2 [00:00<00:00, 17.07it/s, loss=6.8188]\n"
     ]
    },
    {
     "name": "stdout",
     "output_type": "stream",
     "text": [
      "[Epoch 7] Train Loss: 6.4576 | Val Loss: 6.8967\n",
      "Epoch 8/100\n"
     ]
    },
    {
     "name": "stderr",
     "output_type": "stream",
     "text": [
      "🚀 Training: 100%|██████████| 13/13 [00:04<00:00,  3.07it/s, loss=6.3975]\n",
      "🚀 Validation: 100%|██████████| 2/2 [00:00<00:00, 19.10it/s, loss=6.8250]\n"
     ]
    },
    {
     "name": "stdout",
     "output_type": "stream",
     "text": [
      "[Epoch 8] Train Loss: 6.4462 | Val Loss: 6.8980\n",
      "Epoch 9/100\n"
     ]
    },
    {
     "name": "stderr",
     "output_type": "stream",
     "text": [
      "🚀 Training: 100%|██████████| 13/13 [00:04<00:00,  3.07it/s, loss=6.4053]\n",
      "🚀 Validation: 100%|██████████| 2/2 [00:00<00:00, 17.79it/s, loss=6.8241]\n"
     ]
    },
    {
     "name": "stdout",
     "output_type": "stream",
     "text": [
      "[Epoch 9] Train Loss: 6.4327 | Val Loss: 6.8973\n",
      "Epoch 10/100\n"
     ]
    },
    {
     "name": "stderr",
     "output_type": "stream",
     "text": [
      "🚀 Training: 100%|██████████| 13/13 [00:04<00:00,  3.03it/s, loss=6.6051]\n",
      "🚀 Validation: 100%|██████████| 2/2 [00:00<00:00, 17.25it/s, loss=6.8297]\n"
     ]
    },
    {
     "name": "stdout",
     "output_type": "stream",
     "text": [
      "[Epoch 10] Train Loss: 6.4290 | Val Loss: 6.9006\n",
      "Epoch 11/100\n"
     ]
    },
    {
     "name": "stderr",
     "output_type": "stream",
     "text": [
      "🚀 Training: 100%|██████████| 13/13 [00:04<00:00,  3.03it/s, loss=6.4484]\n",
      "🚀 Validation: 100%|██████████| 2/2 [00:00<00:00, 16.47it/s, loss=6.8324]\n"
     ]
    },
    {
     "name": "stdout",
     "output_type": "stream",
     "text": [
      "[Epoch 11] Train Loss: 6.4096 | Val Loss: 6.9025\n",
      "Epoch 12/100\n"
     ]
    },
    {
     "name": "stderr",
     "output_type": "stream",
     "text": [
      "🚀 Training: 100%|██████████| 13/13 [00:04<00:00,  3.09it/s, loss=6.2252]\n",
      "🚀 Validation: 100%|██████████| 2/2 [00:00<00:00, 19.12it/s, loss=6.8345]\n"
     ]
    },
    {
     "name": "stdout",
     "output_type": "stream",
     "text": [
      "[Epoch 12] Train Loss: 6.3755 | Val Loss: 6.9036\n",
      "Epoch 13/100\n"
     ]
    },
    {
     "name": "stderr",
     "output_type": "stream",
     "text": [
      "🚀 Training: 100%|██████████| 13/13 [00:04<00:00,  3.11it/s, loss=6.4260]\n",
      "🚀 Validation: 100%|██████████| 2/2 [00:00<00:00, 19.85it/s, loss=6.8229]\n"
     ]
    },
    {
     "name": "stdout",
     "output_type": "stream",
     "text": [
      "[Epoch 13] Train Loss: 6.3654 | Val Loss: 6.8988\n",
      "Epoch 14/100\n"
     ]
    },
    {
     "name": "stderr",
     "output_type": "stream",
     "text": [
      "🚀 Training: 100%|██████████| 13/13 [00:04<00:00,  3.13it/s, loss=6.3886]\n",
      "🚀 Validation: 100%|██████████| 2/2 [00:00<00:00, 20.17it/s, loss=6.8239]\n"
     ]
    },
    {
     "name": "stdout",
     "output_type": "stream",
     "text": [
      "[Epoch 14] Train Loss: 6.3394 | Val Loss: 6.8932\n",
      "Epoch 15/100\n"
     ]
    },
    {
     "name": "stderr",
     "output_type": "stream",
     "text": [
      "🚀 Training: 100%|██████████| 13/13 [00:04<00:00,  3.08it/s, loss=6.1544]\n",
      "🚀 Validation: 100%|██████████| 2/2 [00:00<00:00, 18.09it/s, loss=6.8183]\n"
     ]
    },
    {
     "name": "stdout",
     "output_type": "stream",
     "text": [
      "[Epoch 15] Train Loss: 6.3098 | Val Loss: 6.8892\n",
      "Epoch 16/100\n"
     ]
    },
    {
     "name": "stderr",
     "output_type": "stream",
     "text": [
      "🚀 Training: 100%|██████████| 13/13 [00:04<00:00,  2.95it/s, loss=6.2968]\n",
      "🚀 Validation: 100%|██████████| 2/2 [00:00<00:00, 15.86it/s, loss=6.8010]\n"
     ]
    },
    {
     "name": "stdout",
     "output_type": "stream",
     "text": [
      "[Epoch 16] Train Loss: 6.2900 | Val Loss: 6.8761\n",
      "Epoch 17/100\n"
     ]
    },
    {
     "name": "stderr",
     "output_type": "stream",
     "text": [
      "🚀 Training: 100%|██████████| 13/13 [00:04<00:00,  2.98it/s, loss=6.4358]\n",
      "🚀 Validation: 100%|██████████| 2/2 [00:00<00:00, 17.51it/s, loss=6.8064]\n"
     ]
    },
    {
     "name": "stdout",
     "output_type": "stream",
     "text": [
      "[Epoch 17] Train Loss: 6.2719 | Val Loss: 6.8831\n",
      "Epoch 18/100\n"
     ]
    },
    {
     "name": "stderr",
     "output_type": "stream",
     "text": [
      "🚀 Training: 100%|██████████| 13/13 [00:04<00:00,  3.01it/s, loss=6.2084]\n",
      "🚀 Validation: 100%|██████████| 2/2 [00:00<00:00, 18.14it/s, loss=6.8057]\n"
     ]
    },
    {
     "name": "stdout",
     "output_type": "stream",
     "text": [
      "[Epoch 18] Train Loss: 6.2344 | Val Loss: 6.8783\n",
      "Epoch 19/100\n"
     ]
    },
    {
     "name": "stderr",
     "output_type": "stream",
     "text": [
      "🚀 Training: 100%|██████████| 13/13 [00:04<00:00,  3.03it/s, loss=6.1967]\n",
      "🚀 Validation: 100%|██████████| 2/2 [00:00<00:00, 16.85it/s, loss=6.8021]\n"
     ]
    },
    {
     "name": "stdout",
     "output_type": "stream",
     "text": [
      "[Epoch 19] Train Loss: 6.2103 | Val Loss: 6.8765\n",
      "Epoch 20/100\n"
     ]
    },
    {
     "name": "stderr",
     "output_type": "stream",
     "text": [
      "🚀 Training: 100%|██████████| 13/13 [00:04<00:00,  3.02it/s, loss=6.2708]\n",
      "🚀 Validation: 100%|██████████| 2/2 [00:00<00:00, 17.83it/s, loss=6.8067]\n"
     ]
    },
    {
     "name": "stdout",
     "output_type": "stream",
     "text": [
      "[Epoch 20] Train Loss: 6.1917 | Val Loss: 6.8844\n",
      "Epoch 21/100\n"
     ]
    },
    {
     "name": "stderr",
     "output_type": "stream",
     "text": [
      "🚀 Training: 100%|██████████| 13/13 [00:04<00:00,  3.04it/s, loss=6.1002]\n",
      "🚀 Validation: 100%|██████████| 2/2 [00:00<00:00, 16.31it/s, loss=6.8006]\n"
     ]
    },
    {
     "name": "stdout",
     "output_type": "stream",
     "text": [
      "[Epoch 21] Train Loss: 6.1619 | Val Loss: 6.8772\n",
      "Epoch 22/100\n"
     ]
    },
    {
     "name": "stderr",
     "output_type": "stream",
     "text": [
      "🚀 Training: 100%|██████████| 13/13 [00:04<00:00,  3.02it/s, loss=6.2973]\n",
      "🚀 Validation: 100%|██████████| 2/2 [00:00<00:00, 16.86it/s, loss=6.8026]\n"
     ]
    },
    {
     "name": "stdout",
     "output_type": "stream",
     "text": [
      "[Epoch 22] Train Loss: 6.1417 | Val Loss: 6.8824\n",
      "Epoch 23/100\n"
     ]
    },
    {
     "name": "stderr",
     "output_type": "stream",
     "text": [
      "🚀 Training: 100%|██████████| 13/13 [00:04<00:00,  2.95it/s, loss=6.1627]\n",
      "🚀 Validation: 100%|██████████| 2/2 [00:00<00:00, 12.73it/s, loss=6.8108]\n"
     ]
    },
    {
     "name": "stdout",
     "output_type": "stream",
     "text": [
      "[Epoch 23] Train Loss: 6.1149 | Val Loss: 6.8916\n",
      "Epoch 24/100\n"
     ]
    },
    {
     "name": "stderr",
     "output_type": "stream",
     "text": [
      "🚀 Training: 100%|██████████| 13/13 [00:04<00:00,  2.96it/s, loss=6.1138]\n",
      "🚀 Validation: 100%|██████████| 2/2 [00:00<00:00, 14.03it/s, loss=6.8052]\n"
     ]
    },
    {
     "name": "stdout",
     "output_type": "stream",
     "text": [
      "[Epoch 24] Train Loss: 6.0905 | Val Loss: 6.8864\n",
      "Epoch 25/100\n"
     ]
    },
    {
     "name": "stderr",
     "output_type": "stream",
     "text": [
      "🚀 Training: 100%|██████████| 13/13 [00:04<00:00,  2.88it/s, loss=6.1243]\n",
      "🚀 Validation: 100%|██████████| 2/2 [00:00<00:00, 13.22it/s, loss=6.8112]\n"
     ]
    },
    {
     "name": "stdout",
     "output_type": "stream",
     "text": [
      "[Epoch 25] Train Loss: 6.0724 | Val Loss: 6.8922\n",
      "Epoch 26/100\n"
     ]
    },
    {
     "name": "stderr",
     "output_type": "stream",
     "text": [
      "🚀 Training: 100%|██████████| 13/13 [00:04<00:00,  2.93it/s, loss=5.9589]\n",
      "🚀 Validation: 100%|██████████| 2/2 [00:00<00:00, 16.55it/s, loss=6.8155]\n"
     ]
    },
    {
     "name": "stdout",
     "output_type": "stream",
     "text": [
      "[Epoch 26] Train Loss: 6.0407 | Val Loss: 6.9014\n",
      "Epoch 27/100\n"
     ]
    },
    {
     "name": "stderr",
     "output_type": "stream",
     "text": [
      "🚀 Training: 100%|██████████| 13/13 [00:04<00:00,  2.94it/s, loss=6.0688]\n",
      "🚀 Validation: 100%|██████████| 2/2 [00:00<00:00, 13.87it/s, loss=6.8115]\n"
     ]
    },
    {
     "name": "stdout",
     "output_type": "stream",
     "text": [
      "[Epoch 27] Train Loss: 6.0211 | Val Loss: 6.8979\n",
      "Epoch 28/100\n"
     ]
    },
    {
     "name": "stderr",
     "output_type": "stream",
     "text": [
      "🚀 Training: 100%|██████████| 13/13 [00:04<00:00,  2.98it/s, loss=5.9035]\n",
      "🚀 Validation: 100%|██████████| 2/2 [00:00<00:00, 16.02it/s, loss=6.8154]\n"
     ]
    },
    {
     "name": "stdout",
     "output_type": "stream",
     "text": [
      "[Epoch 28] Train Loss: 5.9943 | Val Loss: 6.9060\n",
      "Epoch 29/100\n"
     ]
    },
    {
     "name": "stderr",
     "output_type": "stream",
     "text": [
      "🚀 Training: 100%|██████████| 13/13 [00:04<00:00,  3.01it/s, loss=6.0029]\n",
      "🚀 Validation: 100%|██████████| 2/2 [00:00<00:00, 16.69it/s, loss=6.8168]\n"
     ]
    },
    {
     "name": "stdout",
     "output_type": "stream",
     "text": [
      "[Epoch 29] Train Loss: 5.9755 | Val Loss: 6.9138\n",
      "Epoch 30/100\n"
     ]
    },
    {
     "name": "stderr",
     "output_type": "stream",
     "text": [
      "🚀 Training: 100%|██████████| 13/13 [00:04<00:00,  3.04it/s, loss=5.9533]\n",
      "🚀 Validation: 100%|██████████| 2/2 [00:00<00:00, 15.44it/s, loss=6.8229]\n"
     ]
    },
    {
     "name": "stdout",
     "output_type": "stream",
     "text": [
      "[Epoch 30] Train Loss: 5.9552 | Val Loss: 6.9164\n",
      "Epoch 31/100\n"
     ]
    },
    {
     "name": "stderr",
     "output_type": "stream",
     "text": [
      "🚀 Training: 100%|██████████| 13/13 [00:04<00:00,  3.03it/s, loss=5.8445]\n",
      "🚀 Validation: 100%|██████████| 2/2 [00:00<00:00, 17.91it/s, loss=6.8314]\n"
     ]
    },
    {
     "name": "stdout",
     "output_type": "stream",
     "text": [
      "[Epoch 31] Train Loss: 5.9297 | Val Loss: 6.9212\n",
      "Epoch 32/100\n"
     ]
    },
    {
     "name": "stderr",
     "output_type": "stream",
     "text": [
      "🚀 Training: 100%|██████████| 13/13 [00:04<00:00,  2.83it/s, loss=6.0191]\n",
      "🚀 Validation: 100%|██████████| 2/2 [00:00<00:00, 17.18it/s, loss=6.8310]\n"
     ]
    },
    {
     "name": "stdout",
     "output_type": "stream",
     "text": [
      "[Epoch 32] Train Loss: 5.9124 | Val Loss: 6.9273\n",
      "Epoch 33/100\n"
     ]
    },
    {
     "name": "stderr",
     "output_type": "stream",
     "text": [
      "🚀 Training: 100%|██████████| 13/13 [00:04<00:00,  3.01it/s, loss=5.8390]\n",
      "🚀 Validation: 100%|██████████| 2/2 [00:00<00:00, 17.15it/s, loss=6.8257]\n"
     ]
    },
    {
     "name": "stdout",
     "output_type": "stream",
     "text": [
      "[Epoch 33] Train Loss: 5.8847 | Val Loss: 6.9266\n",
      "Epoch 34/100\n"
     ]
    },
    {
     "name": "stderr",
     "output_type": "stream",
     "text": [
      "🚀 Training: 100%|██████████| 13/13 [00:04<00:00,  2.83it/s, loss=5.7507]\n",
      "🚀 Validation: 100%|██████████| 2/2 [00:00<00:00, 11.53it/s, loss=6.8413]\n"
     ]
    },
    {
     "name": "stdout",
     "output_type": "stream",
     "text": [
      "[Epoch 34] Train Loss: 5.8600 | Val Loss: 6.9380\n",
      "Epoch 35/100\n"
     ]
    },
    {
     "name": "stderr",
     "output_type": "stream",
     "text": [
      "🚀 Training: 100%|██████████| 13/13 [00:04<00:00,  3.00it/s, loss=5.8484]\n",
      "🚀 Validation: 100%|██████████| 2/2 [00:00<00:00, 19.62it/s, loss=6.8375]\n"
     ]
    },
    {
     "name": "stdout",
     "output_type": "stream",
     "text": [
      "[Epoch 35] Train Loss: 5.8425 | Val Loss: 6.9351\n",
      "Epoch 36/100\n"
     ]
    },
    {
     "name": "stderr",
     "output_type": "stream",
     "text": [
      "🚀 Training: 100%|██████████| 13/13 [00:04<00:00,  2.94it/s, loss=5.8426]\n",
      "🚀 Validation: 100%|██████████| 2/2 [00:00<00:00, 17.62it/s, loss=6.8599]\n"
     ]
    },
    {
     "name": "stdout",
     "output_type": "stream",
     "text": [
      "[Epoch 36] Train Loss: 5.8201 | Val Loss: 6.9514\n",
      "Epoch 37/100\n"
     ]
    },
    {
     "name": "stderr",
     "output_type": "stream",
     "text": [
      "🚀 Training: 100%|██████████| 13/13 [00:04<00:00,  2.98it/s, loss=5.8084]\n",
      "🚀 Validation: 100%|██████████| 2/2 [00:00<00:00, 17.04it/s, loss=6.8608]\n"
     ]
    },
    {
     "name": "stdout",
     "output_type": "stream",
     "text": [
      "[Epoch 37] Train Loss: 5.8018 | Val Loss: 6.9585\n",
      "Epoch 38/100\n"
     ]
    },
    {
     "name": "stderr",
     "output_type": "stream",
     "text": [
      "🚀 Training: 100%|██████████| 13/13 [00:04<00:00,  2.98it/s, loss=5.8744]\n",
      "🚀 Validation: 100%|██████████| 2/2 [00:00<00:00, 16.96it/s, loss=6.8663]\n"
     ]
    },
    {
     "name": "stdout",
     "output_type": "stream",
     "text": [
      "[Epoch 38] Train Loss: 5.7785 | Val Loss: 6.9565\n",
      "Epoch 39/100\n"
     ]
    },
    {
     "name": "stderr",
     "output_type": "stream",
     "text": [
      "🚀 Training: 100%|██████████| 13/13 [00:04<00:00,  3.04it/s, loss=5.7602]\n",
      "🚀 Validation: 100%|██████████| 2/2 [00:00<00:00, 15.73it/s, loss=6.8680]\n"
     ]
    },
    {
     "name": "stdout",
     "output_type": "stream",
     "text": [
      "[Epoch 39] Train Loss: 5.7561 | Val Loss: 6.9677\n",
      "Epoch 40/100\n"
     ]
    },
    {
     "name": "stderr",
     "output_type": "stream",
     "text": [
      "🚀 Training: 100%|██████████| 13/13 [00:04<00:00,  3.05it/s, loss=5.7789]\n",
      "🚀 Validation: 100%|██████████| 2/2 [00:00<00:00, 17.28it/s, loss=6.8675]\n"
     ]
    },
    {
     "name": "stdout",
     "output_type": "stream",
     "text": [
      "[Epoch 40] Train Loss: 5.7369 | Val Loss: 6.9779\n",
      "Epoch 41/100\n"
     ]
    },
    {
     "name": "stderr",
     "output_type": "stream",
     "text": [
      "🚀 Training: 100%|██████████| 13/13 [00:04<00:00,  3.01it/s, loss=5.6925]\n",
      "🚀 Validation: 100%|██████████| 2/2 [00:00<00:00, 17.20it/s, loss=6.8766]\n"
     ]
    },
    {
     "name": "stdout",
     "output_type": "stream",
     "text": [
      "[Epoch 41] Train Loss: 5.7136 | Val Loss: 6.9741\n",
      "Epoch 42/100\n"
     ]
    },
    {
     "name": "stderr",
     "output_type": "stream",
     "text": [
      "🚀 Training: 100%|██████████| 13/13 [00:04<00:00,  3.05it/s, loss=5.8158]\n",
      "🚀 Validation: 100%|██████████| 2/2 [00:00<00:00, 20.07it/s, loss=6.8875]\n"
     ]
    },
    {
     "name": "stdout",
     "output_type": "stream",
     "text": [
      "[Epoch 42] Train Loss: 5.6924 | Val Loss: 6.9820\n",
      "Epoch 43/100\n"
     ]
    },
    {
     "name": "stderr",
     "output_type": "stream",
     "text": [
      "🚀 Training: 100%|██████████| 13/13 [00:04<00:00,  3.03it/s, loss=5.6219]\n",
      "🚀 Validation: 100%|██████████| 2/2 [00:00<00:00, 17.94it/s, loss=6.8908]\n"
     ]
    },
    {
     "name": "stdout",
     "output_type": "stream",
     "text": [
      "[Epoch 43] Train Loss: 5.6585 | Val Loss: 6.9878\n",
      "Epoch 44/100\n"
     ]
    },
    {
     "name": "stderr",
     "output_type": "stream",
     "text": [
      "🚀 Training: 100%|██████████| 13/13 [00:04<00:00,  3.06it/s, loss=5.6810]\n",
      "🚀 Validation: 100%|██████████| 2/2 [00:00<00:00, 17.94it/s, loss=6.8825]\n"
     ]
    },
    {
     "name": "stdout",
     "output_type": "stream",
     "text": [
      "[Epoch 44] Train Loss: 5.6393 | Val Loss: 6.9861\n",
      "Epoch 45/100\n"
     ]
    },
    {
     "name": "stderr",
     "output_type": "stream",
     "text": [
      "🚀 Training: 100%|██████████| 13/13 [00:04<00:00,  3.05it/s, loss=5.5607]\n",
      "🚀 Validation: 100%|██████████| 2/2 [00:00<00:00, 18.37it/s, loss=6.8925]\n"
     ]
    },
    {
     "name": "stdout",
     "output_type": "stream",
     "text": [
      "[Epoch 45] Train Loss: 5.6122 | Val Loss: 6.9915\n",
      "Epoch 46/100\n"
     ]
    },
    {
     "name": "stderr",
     "output_type": "stream",
     "text": [
      "🚀 Training: 100%|██████████| 13/13 [00:04<00:00,  2.99it/s, loss=5.5529]\n",
      "🚀 Validation: 100%|██████████| 2/2 [00:00<00:00, 17.33it/s, loss=6.9004]\n"
     ]
    },
    {
     "name": "stdout",
     "output_type": "stream",
     "text": [
      "[Epoch 46] Train Loss: 5.5903 | Val Loss: 6.9990\n",
      "Epoch 47/100\n"
     ]
    },
    {
     "name": "stderr",
     "output_type": "stream",
     "text": [
      "🚀 Training: 100%|██████████| 13/13 [00:04<00:00,  3.01it/s, loss=5.6081]\n",
      "🚀 Validation: 100%|██████████| 2/2 [00:00<00:00, 16.05it/s, loss=6.8891]\n"
     ]
    },
    {
     "name": "stdout",
     "output_type": "stream",
     "text": [
      "[Epoch 47] Train Loss: 5.5705 | Val Loss: 6.9978\n",
      "Epoch 48/100\n"
     ]
    },
    {
     "name": "stderr",
     "output_type": "stream",
     "text": [
      "🚀 Training: 100%|██████████| 13/13 [00:04<00:00,  3.01it/s, loss=5.5496]\n",
      "🚀 Validation: 100%|██████████| 2/2 [00:00<00:00, 18.48it/s, loss=6.9212]\n"
     ]
    },
    {
     "name": "stdout",
     "output_type": "stream",
     "text": [
      "[Epoch 48] Train Loss: 5.5390 | Val Loss: 7.0116\n",
      "Epoch 49/100\n"
     ]
    },
    {
     "name": "stderr",
     "output_type": "stream",
     "text": [
      "🚀 Training: 100%|██████████| 13/13 [00:04<00:00,  3.02it/s, loss=5.5065]\n",
      "🚀 Validation: 100%|██████████| 2/2 [00:00<00:00, 18.97it/s, loss=6.9222]\n"
     ]
    },
    {
     "name": "stdout",
     "output_type": "stream",
     "text": [
      "[Epoch 49] Train Loss: 5.5158 | Val Loss: 7.0269\n",
      "Epoch 50/100\n"
     ]
    },
    {
     "name": "stderr",
     "output_type": "stream",
     "text": [
      "🚀 Training: 100%|██████████| 13/13 [00:04<00:00,  3.06it/s, loss=5.5075]\n",
      "🚀 Validation: 100%|██████████| 2/2 [00:00<00:00, 16.99it/s, loss=6.9199]\n"
     ]
    },
    {
     "name": "stdout",
     "output_type": "stream",
     "text": [
      "[Epoch 50] Train Loss: 5.4933 | Val Loss: 7.0153\n",
      "Epoch 51/100\n"
     ]
    },
    {
     "name": "stderr",
     "output_type": "stream",
     "text": [
      "🚀 Training: 100%|██████████| 13/13 [00:04<00:00,  3.05it/s, loss=5.4921]\n",
      "🚀 Validation: 100%|██████████| 2/2 [00:00<00:00, 18.10it/s, loss=6.9282]\n"
     ]
    },
    {
     "name": "stdout",
     "output_type": "stream",
     "text": [
      "[Epoch 51] Train Loss: 5.4589 | Val Loss: 7.0237\n",
      "Epoch 52/100\n"
     ]
    },
    {
     "name": "stderr",
     "output_type": "stream",
     "text": [
      "🚀 Training: 100%|██████████| 13/13 [00:04<00:00,  3.05it/s, loss=5.4881]\n",
      "🚀 Validation: 100%|██████████| 2/2 [00:00<00:00, 18.31it/s, loss=6.9262]\n"
     ]
    },
    {
     "name": "stdout",
     "output_type": "stream",
     "text": [
      "[Epoch 52] Train Loss: 5.4431 | Val Loss: 7.0291\n",
      "Epoch 53/100\n"
     ]
    },
    {
     "name": "stderr",
     "output_type": "stream",
     "text": [
      "🚀 Training: 100%|██████████| 13/13 [00:04<00:00,  3.05it/s, loss=5.5435]\n",
      "🚀 Validation: 100%|██████████| 2/2 [00:00<00:00, 17.57it/s, loss=6.9522]\n"
     ]
    },
    {
     "name": "stdout",
     "output_type": "stream",
     "text": [
      "[Epoch 53] Train Loss: 5.4215 | Val Loss: 7.0545\n",
      "Epoch 54/100\n"
     ]
    },
    {
     "name": "stderr",
     "output_type": "stream",
     "text": [
      "🚀 Training: 100%|██████████| 13/13 [00:04<00:00,  3.03it/s, loss=5.4195]\n",
      "🚀 Validation: 100%|██████████| 2/2 [00:00<00:00, 17.50it/s, loss=6.9421]\n"
     ]
    },
    {
     "name": "stdout",
     "output_type": "stream",
     "text": [
      "[Epoch 54] Train Loss: 5.3925 | Val Loss: 7.0433\n",
      "Epoch 55/100\n"
     ]
    },
    {
     "name": "stderr",
     "output_type": "stream",
     "text": [
      "🚀 Training: 100%|██████████| 13/13 [00:04<00:00,  3.07it/s, loss=5.3066]\n",
      "🚀 Validation: 100%|██████████| 2/2 [00:00<00:00, 18.73it/s, loss=6.9457]\n"
     ]
    },
    {
     "name": "stdout",
     "output_type": "stream",
     "text": [
      "[Epoch 55] Train Loss: 5.3606 | Val Loss: 7.0508\n",
      "Epoch 56/100\n"
     ]
    },
    {
     "name": "stderr",
     "output_type": "stream",
     "text": [
      "🚀 Training: 100%|██████████| 13/13 [00:04<00:00,  3.12it/s, loss=5.3516]\n",
      "🚀 Validation: 100%|██████████| 2/2 [00:00<00:00, 18.02it/s, loss=6.9544]\n"
     ]
    },
    {
     "name": "stdout",
     "output_type": "stream",
     "text": [
      "[Epoch 56] Train Loss: 5.3285 | Val Loss: 7.0577\n",
      "Epoch 57/100\n"
     ]
    },
    {
     "name": "stderr",
     "output_type": "stream",
     "text": [
      "🚀 Training: 100%|██████████| 13/13 [00:04<00:00,  3.04it/s, loss=5.2750]\n",
      "🚀 Validation: 100%|██████████| 2/2 [00:00<00:00, 19.66it/s, loss=6.9589]\n"
     ]
    },
    {
     "name": "stdout",
     "output_type": "stream",
     "text": [
      "[Epoch 57] Train Loss: 5.3079 | Val Loss: 7.0657\n",
      "Epoch 58/100\n"
     ]
    },
    {
     "name": "stderr",
     "output_type": "stream",
     "text": [
      "🚀 Training: 100%|██████████| 13/13 [00:04<00:00,  3.05it/s, loss=5.2326]\n",
      "🚀 Validation: 100%|██████████| 2/2 [00:00<00:00, 18.16it/s, loss=6.9661]\n"
     ]
    },
    {
     "name": "stdout",
     "output_type": "stream",
     "text": [
      "[Epoch 58] Train Loss: 5.2811 | Val Loss: 7.0718\n",
      "Epoch 59/100\n"
     ]
    },
    {
     "name": "stderr",
     "output_type": "stream",
     "text": [
      "🚀 Training: 100%|██████████| 13/13 [00:04<00:00,  2.99it/s, loss=5.1273]\n",
      "🚀 Validation: 100%|██████████| 2/2 [00:00<00:00, 17.81it/s, loss=6.9545]\n"
     ]
    },
    {
     "name": "stdout",
     "output_type": "stream",
     "text": [
      "[Epoch 59] Train Loss: 5.2507 | Val Loss: 7.0729\n",
      "Epoch 60/100\n"
     ]
    },
    {
     "name": "stderr",
     "output_type": "stream",
     "text": [
      "🚀 Training: 100%|██████████| 13/13 [00:04<00:00,  3.04it/s, loss=5.3303]\n",
      "🚀 Validation: 100%|██████████| 2/2 [00:00<00:00, 19.81it/s, loss=6.9704]\n"
     ]
    },
    {
     "name": "stdout",
     "output_type": "stream",
     "text": [
      "[Epoch 60] Train Loss: 5.2348 | Val Loss: 7.0777\n",
      "Epoch 61/100\n"
     ]
    },
    {
     "name": "stderr",
     "output_type": "stream",
     "text": [
      "🚀 Training: 100%|██████████| 13/13 [00:04<00:00,  3.02it/s, loss=5.1179]\n",
      "🚀 Validation: 100%|██████████| 2/2 [00:00<00:00, 13.29it/s, loss=6.9564]\n"
     ]
    },
    {
     "name": "stdout",
     "output_type": "stream",
     "text": [
      "[Epoch 61] Train Loss: 5.1882 | Val Loss: 7.0721\n",
      "Epoch 62/100\n"
     ]
    },
    {
     "name": "stderr",
     "output_type": "stream",
     "text": [
      "🚀 Training: 100%|██████████| 13/13 [00:04<00:00,  3.03it/s, loss=5.1297]\n",
      "🚀 Validation: 100%|██████████| 2/2 [00:00<00:00, 12.91it/s, loss=6.9878]\n"
     ]
    },
    {
     "name": "stdout",
     "output_type": "stream",
     "text": [
      "[Epoch 62] Train Loss: 5.1634 | Val Loss: 7.0904\n",
      "Epoch 63/100\n"
     ]
    },
    {
     "name": "stderr",
     "output_type": "stream",
     "text": [
      "🚀 Training: 100%|██████████| 13/13 [00:04<00:00,  2.98it/s, loss=5.1848]\n",
      "🚀 Validation: 100%|██████████| 2/2 [00:00<00:00, 16.43it/s, loss=6.9974]\n"
     ]
    },
    {
     "name": "stdout",
     "output_type": "stream",
     "text": [
      "[Epoch 63] Train Loss: 5.1384 | Val Loss: 7.1011\n",
      "Epoch 64/100\n"
     ]
    },
    {
     "name": "stderr",
     "output_type": "stream",
     "text": [
      "🚀 Training: 100%|██████████| 13/13 [00:04<00:00,  2.85it/s, loss=5.1329]\n",
      "🚀 Validation: 100%|██████████| 2/2 [00:00<00:00, 12.83it/s, loss=6.9929]\n"
     ]
    },
    {
     "name": "stdout",
     "output_type": "stream",
     "text": [
      "[Epoch 64] Train Loss: 5.1138 | Val Loss: 7.1046\n",
      "Epoch 65/100\n"
     ]
    },
    {
     "name": "stderr",
     "output_type": "stream",
     "text": [
      "🚀 Training: 100%|██████████| 13/13 [00:04<00:00,  2.88it/s, loss=5.0760]\n",
      "🚀 Validation: 100%|██████████| 2/2 [00:00<00:00, 16.43it/s, loss=7.0167]\n"
     ]
    },
    {
     "name": "stdout",
     "output_type": "stream",
     "text": [
      "[Epoch 65] Train Loss: 5.0768 | Val Loss: 7.1147\n",
      "Epoch 66/100\n"
     ]
    },
    {
     "name": "stderr",
     "output_type": "stream",
     "text": [
      "🚀 Training: 100%|██████████| 13/13 [00:04<00:00,  2.79it/s, loss=5.1034]\n",
      "🚀 Validation: 100%|██████████| 2/2 [00:00<00:00, 15.22it/s, loss=7.0324]\n"
     ]
    },
    {
     "name": "stdout",
     "output_type": "stream",
     "text": [
      "[Epoch 66] Train Loss: 5.0579 | Val Loss: 7.1255\n",
      "Epoch 67/100\n"
     ]
    },
    {
     "name": "stderr",
     "output_type": "stream",
     "text": [
      "🚀 Training: 100%|██████████| 13/13 [00:04<00:00,  3.02it/s, loss=5.1267]\n",
      "🚀 Validation: 100%|██████████| 2/2 [00:00<00:00, 16.24it/s, loss=7.0197]\n"
     ]
    },
    {
     "name": "stdout",
     "output_type": "stream",
     "text": [
      "[Epoch 67] Train Loss: 5.0318 | Val Loss: 7.1437\n",
      "Epoch 68/100\n"
     ]
    },
    {
     "name": "stderr",
     "output_type": "stream",
     "text": [
      "🚀 Training: 100%|██████████| 13/13 [00:04<00:00,  2.84it/s, loss=5.0121]\n",
      "🚀 Validation: 100%|██████████| 2/2 [00:00<00:00, 15.58it/s, loss=7.0552]\n"
     ]
    },
    {
     "name": "stdout",
     "output_type": "stream",
     "text": [
      "[Epoch 68] Train Loss: 4.9996 | Val Loss: 7.1461\n",
      "Epoch 69/100\n"
     ]
    },
    {
     "name": "stderr",
     "output_type": "stream",
     "text": [
      "🚀 Training: 100%|██████████| 13/13 [00:04<00:00,  2.96it/s, loss=4.9695]\n",
      "🚀 Validation: 100%|██████████| 2/2 [00:00<00:00, 17.45it/s, loss=7.0598]\n"
     ]
    },
    {
     "name": "stdout",
     "output_type": "stream",
     "text": [
      "[Epoch 69] Train Loss: 4.9739 | Val Loss: 7.1459\n",
      "Epoch 70/100\n"
     ]
    },
    {
     "name": "stderr",
     "output_type": "stream",
     "text": [
      "🚀 Training: 100%|██████████| 13/13 [00:04<00:00,  3.03it/s, loss=4.9389]\n",
      "🚀 Validation: 100%|██████████| 2/2 [00:00<00:00, 16.56it/s, loss=7.0343]\n"
     ]
    },
    {
     "name": "stdout",
     "output_type": "stream",
     "text": [
      "[Epoch 70] Train Loss: 4.9380 | Val Loss: 7.1457\n",
      "Epoch 71/100\n"
     ]
    },
    {
     "name": "stderr",
     "output_type": "stream",
     "text": [
      "🚀 Training: 100%|██████████| 13/13 [00:04<00:00,  2.99it/s, loss=4.9730]\n",
      "🚀 Validation: 100%|██████████| 2/2 [00:00<00:00, 16.47it/s, loss=7.0741]\n"
     ]
    },
    {
     "name": "stdout",
     "output_type": "stream",
     "text": [
      "[Epoch 71] Train Loss: 4.9253 | Val Loss: 7.1722\n",
      "Epoch 72/100\n"
     ]
    },
    {
     "name": "stderr",
     "output_type": "stream",
     "text": [
      "🚀 Training: 100%|██████████| 13/13 [00:04<00:00,  2.99it/s, loss=4.7869]\n",
      "🚀 Validation: 100%|██████████| 2/2 [00:00<00:00, 16.65it/s, loss=7.0878]\n"
     ]
    },
    {
     "name": "stdout",
     "output_type": "stream",
     "text": [
      "[Epoch 72] Train Loss: 4.8723 | Val Loss: 7.1766\n",
      "Epoch 73/100\n"
     ]
    },
    {
     "name": "stderr",
     "output_type": "stream",
     "text": [
      "🚀 Training: 100%|██████████| 13/13 [00:04<00:00,  2.82it/s, loss=4.7636]\n",
      "🚀 Validation: 100%|██████████| 2/2 [00:00<00:00, 17.20it/s, loss=7.0945]\n"
     ]
    },
    {
     "name": "stdout",
     "output_type": "stream",
     "text": [
      "[Epoch 73] Train Loss: 4.8471 | Val Loss: 7.1879\n",
      "Epoch 74/100\n"
     ]
    },
    {
     "name": "stderr",
     "output_type": "stream",
     "text": [
      "🚀 Training: 100%|██████████| 13/13 [00:04<00:00,  3.01it/s, loss=4.8778]\n",
      "🚀 Validation: 100%|██████████| 2/2 [00:00<00:00, 16.61it/s, loss=7.0930]\n"
     ]
    },
    {
     "name": "stdout",
     "output_type": "stream",
     "text": [
      "[Epoch 74] Train Loss: 4.8215 | Val Loss: 7.1900\n",
      "Epoch 75/100\n"
     ]
    },
    {
     "name": "stderr",
     "output_type": "stream",
     "text": [
      "🚀 Training: 100%|██████████| 13/13 [00:04<00:00,  3.00it/s, loss=4.8389]\n",
      "🚀 Validation: 100%|██████████| 2/2 [00:00<00:00, 16.63it/s, loss=7.0819]\n"
     ]
    },
    {
     "name": "stdout",
     "output_type": "stream",
     "text": [
      "[Epoch 75] Train Loss: 4.7933 | Val Loss: 7.1923\n",
      "Epoch 76/100\n"
     ]
    },
    {
     "name": "stderr",
     "output_type": "stream",
     "text": [
      "🚀 Training: 100%|██████████| 13/13 [00:04<00:00,  3.01it/s, loss=4.8355]\n",
      "🚀 Validation: 100%|██████████| 2/2 [00:00<00:00, 15.49it/s, loss=7.1098]\n"
     ]
    },
    {
     "name": "stdout",
     "output_type": "stream",
     "text": [
      "[Epoch 76] Train Loss: 4.7901 | Val Loss: 7.2334\n",
      "Epoch 77/100\n"
     ]
    },
    {
     "name": "stderr",
     "output_type": "stream",
     "text": [
      "🚀 Training: 100%|██████████| 13/13 [00:04<00:00,  3.01it/s, loss=4.8206]\n",
      "🚀 Validation: 100%|██████████| 2/2 [00:00<00:00, 17.05it/s, loss=7.1391]\n"
     ]
    },
    {
     "name": "stdout",
     "output_type": "stream",
     "text": [
      "[Epoch 77] Train Loss: 4.7444 | Val Loss: 7.2372\n",
      "Epoch 78/100\n"
     ]
    },
    {
     "name": "stderr",
     "output_type": "stream",
     "text": [
      "🚀 Training: 100%|██████████| 13/13 [00:04<00:00,  3.01it/s, loss=4.8204]\n",
      "🚀 Validation: 100%|██████████| 2/2 [00:00<00:00, 16.10it/s, loss=7.1212]\n"
     ]
    },
    {
     "name": "stdout",
     "output_type": "stream",
     "text": [
      "[Epoch 78] Train Loss: 4.7246 | Val Loss: 7.2287\n",
      "Epoch 79/100\n"
     ]
    },
    {
     "name": "stderr",
     "output_type": "stream",
     "text": [
      "🚀 Training: 100%|██████████| 13/13 [00:04<00:00,  3.01it/s, loss=4.6530]\n",
      "🚀 Validation: 100%|██████████| 2/2 [00:00<00:00, 13.87it/s, loss=7.1549]\n"
     ]
    },
    {
     "name": "stdout",
     "output_type": "stream",
     "text": [
      "[Epoch 79] Train Loss: 4.6778 | Val Loss: 7.2675\n",
      "Epoch 80/100\n"
     ]
    },
    {
     "name": "stderr",
     "output_type": "stream",
     "text": [
      "🚀 Training: 100%|██████████| 13/13 [00:04<00:00,  2.89it/s, loss=4.6453]\n",
      "🚀 Validation: 100%|██████████| 2/2 [00:00<00:00, 16.21it/s, loss=7.1412]\n"
     ]
    },
    {
     "name": "stdout",
     "output_type": "stream",
     "text": [
      "[Epoch 80] Train Loss: 4.6488 | Val Loss: 7.2578\n",
      "Epoch 81/100\n"
     ]
    },
    {
     "name": "stderr",
     "output_type": "stream",
     "text": [
      "🚀 Training: 100%|██████████| 13/13 [00:04<00:00,  2.89it/s, loss=4.5735]\n",
      "🚀 Validation: 100%|██████████| 2/2 [00:00<00:00, 14.67it/s, loss=7.1889]\n"
     ]
    },
    {
     "name": "stdout",
     "output_type": "stream",
     "text": [
      "[Epoch 81] Train Loss: 4.6350 | Val Loss: 7.2847\n",
      "Epoch 82/100\n"
     ]
    },
    {
     "name": "stderr",
     "output_type": "stream",
     "text": [
      "🚀 Training: 100%|██████████| 13/13 [00:04<00:00,  2.94it/s, loss=4.6127]\n",
      "🚀 Validation: 100%|██████████| 2/2 [00:00<00:00, 16.33it/s, loss=7.1674]\n"
     ]
    },
    {
     "name": "stdout",
     "output_type": "stream",
     "text": [
      "[Epoch 82] Train Loss: 4.5956 | Val Loss: 7.2893\n",
      "Epoch 83/100\n"
     ]
    },
    {
     "name": "stderr",
     "output_type": "stream",
     "text": [
      "🚀 Training: 100%|██████████| 13/13 [00:04<00:00,  3.00it/s, loss=4.6513]\n",
      "🚀 Validation: 100%|██████████| 2/2 [00:00<00:00, 15.18it/s, loss=7.1946]\n"
     ]
    },
    {
     "name": "stdout",
     "output_type": "stream",
     "text": [
      "[Epoch 83] Train Loss: 4.5703 | Val Loss: 7.3109\n",
      "Epoch 84/100\n"
     ]
    },
    {
     "name": "stderr",
     "output_type": "stream",
     "text": [
      "🚀 Training: 100%|██████████| 13/13 [00:04<00:00,  2.96it/s, loss=4.4581]\n",
      "🚀 Validation: 100%|██████████| 2/2 [00:00<00:00, 15.13it/s, loss=7.1931]\n"
     ]
    },
    {
     "name": "stdout",
     "output_type": "stream",
     "text": [
      "[Epoch 84] Train Loss: 4.5528 | Val Loss: 7.2944\n",
      "Epoch 85/100\n"
     ]
    },
    {
     "name": "stderr",
     "output_type": "stream",
     "text": [
      "🚀 Training: 100%|██████████| 13/13 [00:04<00:00,  2.96it/s, loss=4.6083]\n",
      "🚀 Validation: 100%|██████████| 2/2 [00:00<00:00, 17.90it/s, loss=7.2153]\n"
     ]
    },
    {
     "name": "stdout",
     "output_type": "stream",
     "text": [
      "[Epoch 85] Train Loss: 4.5121 | Val Loss: 7.3111\n",
      "Epoch 86/100\n"
     ]
    },
    {
     "name": "stderr",
     "output_type": "stream",
     "text": [
      "🚀 Training: 100%|██████████| 13/13 [00:04<00:00,  3.03it/s, loss=4.6176]\n",
      "🚀 Validation: 100%|██████████| 2/2 [00:00<00:00, 19.28it/s, loss=7.1863]\n"
     ]
    },
    {
     "name": "stdout",
     "output_type": "stream",
     "text": [
      "[Epoch 86] Train Loss: 4.4744 | Val Loss: 7.3194\n",
      "Epoch 87/100\n"
     ]
    },
    {
     "name": "stderr",
     "output_type": "stream",
     "text": [
      "🚀 Training: 100%|██████████| 13/13 [00:04<00:00,  2.94it/s, loss=4.4081]\n",
      "🚀 Validation: 100%|██████████| 2/2 [00:00<00:00, 16.77it/s, loss=7.2123]\n"
     ]
    },
    {
     "name": "stdout",
     "output_type": "stream",
     "text": [
      "[Epoch 87] Train Loss: 4.4565 | Val Loss: 7.3251\n",
      "Epoch 88/100\n"
     ]
    },
    {
     "name": "stderr",
     "output_type": "stream",
     "text": [
      "🚀 Training: 100%|██████████| 13/13 [00:04<00:00,  2.98it/s, loss=4.4828]\n",
      "🚀 Validation: 100%|██████████| 2/2 [00:00<00:00, 17.26it/s, loss=7.2339]\n"
     ]
    },
    {
     "name": "stdout",
     "output_type": "stream",
     "text": [
      "[Epoch 88] Train Loss: 4.4114 | Val Loss: 7.3587\n",
      "Epoch 89/100\n"
     ]
    },
    {
     "name": "stderr",
     "output_type": "stream",
     "text": [
      "🚀 Training: 100%|██████████| 13/13 [00:04<00:00,  3.02it/s, loss=4.4880]\n",
      "🚀 Validation: 100%|██████████| 2/2 [00:00<00:00, 17.27it/s, loss=7.2323]\n"
     ]
    },
    {
     "name": "stdout",
     "output_type": "stream",
     "text": [
      "[Epoch 89] Train Loss: 4.3851 | Val Loss: 7.3606\n",
      "Epoch 90/100\n"
     ]
    },
    {
     "name": "stderr",
     "output_type": "stream",
     "text": [
      "🚀 Training: 100%|██████████| 13/13 [00:04<00:00,  3.02it/s, loss=4.4012]\n",
      "🚀 Validation: 100%|██████████| 2/2 [00:00<00:00, 17.22it/s, loss=7.2376]\n"
     ]
    },
    {
     "name": "stdout",
     "output_type": "stream",
     "text": [
      "[Epoch 90] Train Loss: 4.3669 | Val Loss: 7.3741\n",
      "Epoch 91/100\n"
     ]
    },
    {
     "name": "stderr",
     "output_type": "stream",
     "text": [
      "🚀 Training: 100%|██████████| 13/13 [00:04<00:00,  2.96it/s, loss=4.2167]\n",
      "🚀 Validation: 100%|██████████| 2/2 [00:00<00:00, 10.08it/s, loss=7.2870]\n"
     ]
    },
    {
     "name": "stdout",
     "output_type": "stream",
     "text": [
      "[Epoch 91] Train Loss: 4.3644 | Val Loss: 7.4062\n",
      "Epoch 92/100\n"
     ]
    },
    {
     "name": "stderr",
     "output_type": "stream",
     "text": [
      "🚀 Training: 100%|██████████| 13/13 [00:04<00:00,  2.93it/s, loss=4.1647]\n",
      "🚀 Validation: 100%|██████████| 2/2 [00:00<00:00, 16.46it/s, loss=7.2791]\n"
     ]
    },
    {
     "name": "stdout",
     "output_type": "stream",
     "text": [
      "[Epoch 92] Train Loss: 4.2855 | Val Loss: 7.3952\n",
      "Epoch 93/100\n"
     ]
    },
    {
     "name": "stderr",
     "output_type": "stream",
     "text": [
      "🚀 Training: 100%|██████████| 13/13 [00:04<00:00,  2.99it/s, loss=4.3591]\n",
      "🚀 Validation: 100%|██████████| 2/2 [00:00<00:00, 13.37it/s, loss=7.2898]\n"
     ]
    },
    {
     "name": "stdout",
     "output_type": "stream",
     "text": [
      "[Epoch 93] Train Loss: 4.2799 | Val Loss: 7.4074\n",
      "Epoch 94/100\n"
     ]
    },
    {
     "name": "stderr",
     "output_type": "stream",
     "text": [
      "🚀 Training: 100%|██████████| 13/13 [00:04<00:00,  2.84it/s, loss=4.3255]\n",
      "🚀 Validation: 100%|██████████| 2/2 [00:00<00:00, 17.00it/s, loss=7.3553]\n"
     ]
    },
    {
     "name": "stdout",
     "output_type": "stream",
     "text": [
      "[Epoch 94] Train Loss: 4.2356 | Val Loss: 7.4531\n",
      "Epoch 95/100\n"
     ]
    },
    {
     "name": "stderr",
     "output_type": "stream",
     "text": [
      "🚀 Training: 100%|██████████| 13/13 [00:04<00:00,  3.02it/s, loss=4.2060]\n",
      "🚀 Validation: 100%|██████████| 2/2 [00:00<00:00, 14.60it/s, loss=7.3572]\n"
     ]
    },
    {
     "name": "stdout",
     "output_type": "stream",
     "text": [
      "[Epoch 95] Train Loss: 4.2066 | Val Loss: 7.4787\n",
      "Epoch 96/100\n"
     ]
    },
    {
     "name": "stderr",
     "output_type": "stream",
     "text": [
      "🚀 Training: 100%|██████████| 13/13 [00:04<00:00,  2.99it/s, loss=4.4657]\n",
      "🚀 Validation: 100%|██████████| 2/2 [00:00<00:00, 12.84it/s, loss=7.3343]\n"
     ]
    },
    {
     "name": "stdout",
     "output_type": "stream",
     "text": [
      "[Epoch 96] Train Loss: 4.2093 | Val Loss: 7.4637\n",
      "Epoch 97/100\n"
     ]
    },
    {
     "name": "stderr",
     "output_type": "stream",
     "text": [
      "🚀 Training: 100%|██████████| 13/13 [00:04<00:00,  2.90it/s, loss=4.1615]\n",
      "🚀 Validation: 100%|██████████| 2/2 [00:00<00:00, 15.60it/s, loss=7.3471]\n"
     ]
    },
    {
     "name": "stdout",
     "output_type": "stream",
     "text": [
      "[Epoch 97] Train Loss: 4.1536 | Val Loss: 7.4536\n",
      "Epoch 98/100\n"
     ]
    },
    {
     "name": "stderr",
     "output_type": "stream",
     "text": [
      "🚀 Training: 100%|██████████| 13/13 [00:04<00:00,  2.96it/s, loss=3.9881]\n",
      "🚀 Validation: 100%|██████████| 2/2 [00:00<00:00, 16.83it/s, loss=7.3359]\n"
     ]
    },
    {
     "name": "stdout",
     "output_type": "stream",
     "text": [
      "[Epoch 98] Train Loss: 4.1380 | Val Loss: 7.4705\n",
      "Epoch 99/100\n"
     ]
    },
    {
     "name": "stderr",
     "output_type": "stream",
     "text": [
      "🚀 Training: 100%|██████████| 13/13 [00:04<00:00,  3.00it/s, loss=4.1368]\n",
      "🚀 Validation: 100%|██████████| 2/2 [00:00<00:00, 17.27it/s, loss=7.3619]\n"
     ]
    },
    {
     "name": "stdout",
     "output_type": "stream",
     "text": [
      "[Epoch 99] Train Loss: 4.0771 | Val Loss: 7.4813\n",
      "Epoch 100/100\n"
     ]
    },
    {
     "name": "stderr",
     "output_type": "stream",
     "text": [
      "🚀 Training: 100%|██████████| 13/13 [00:04<00:00,  2.83it/s, loss=4.1414]\n",
      "🚀 Validation: 100%|██████████| 2/2 [00:00<00:00, 15.92it/s, loss=7.3868]"
     ]
    },
    {
     "name": "stdout",
     "output_type": "stream",
     "text": [
      "[Epoch 100] Train Loss: 4.0899 | Val Loss: 7.5002\n"
     ]
    },
    {
     "name": "stderr",
     "output_type": "stream",
     "text": [
      "\n"
     ]
    }
   ],
   "source": [
    "import os\n",
    "import torch\n",
    "from tqdm import tqdm\n",
    "os.makedirs(SAVE_DIR, exist_ok=True)\n",
    "best_val_loss = float(\"inf\") \n",
    "best_model_path = None\n",
    "for epoch in range(1, EPOCHS + 1):\n",
    "    print(f\"Epoch {epoch}/{EPOCHS}\")\n",
    "    model.train()\n",
    "    total_train_loss = 0.0\n",
    "    train_bar = tqdm(train_loader, desc=\"🚀 Training\", \n",
    "                leave=True, total=len(train_loader))\n",
    "    for batch in train_bar:\n",
    "        optimizer.zero_grad()\n",
    "        src_batch = batch['src'].to(device)\n",
    "        tgt_batch = batch['tgt'].to(device)\n",
    "        \n",
    "        output, _ = model(src_batch, tgt_batch[:, :-1]) \n",
    "        output_dim = output.shape[-1]\n",
    "        output = output.reshape(-1, output_dim)\n",
    "        tgt_y = tgt_batch[:,1:].contiguous().view(-1)\n",
    "\n",
    "        loss = criterion(output, tgt_y)\n",
    "        loss.backward()\n",
    "        optimizer.step()\n",
    "        total_train_loss += loss.item()\n",
    "        train_bar.set_postfix(loss=f\"{loss.item():.4f}\")\n",
    "\n",
    "    avg_train_loss = total_train_loss / len(train_loader)\n",
    "    model.eval()\n",
    "    total_val_loss = 0.0\n",
    "    val_bar = tqdm(val_loader, desc=\"🚀 Validation\",\n",
    "              leave=True, total=len(val_loader))\n",
    "    with torch.no_grad():\n",
    "        for batch in val_bar:\n",
    "            src_batch = batch['src'].to(device)\n",
    "            tgt_batch = batch['tgt'].to(device)\n",
    "            \n",
    "            output, _ = model(src_batch, tgt_batch[:, :-1]) \n",
    "            output_dim = output.shape[-1]\n",
    "            output = output.reshape(-1, output_dim)\n",
    "            tgt_y = tgt_batch[:,1:].contiguous().view(-1)\n",
    "\n",
    "            loss = criterion(output, tgt_y)\n",
    "            total_val_loss += loss.item()\n",
    "            val_bar.set_postfix(loss=f\"{loss.item():.4f}\")\n",
    "    \n",
    "    avg_val_loss = total_val_loss / len(val_loader)\n",
    "    print(f\"[Epoch {epoch}] Train Loss: {avg_train_loss:.4f} | Val Loss: {avg_val_loss:.4f}\")\n",
    "    if avg_val_loss < best_val_loss:\n",
    "        if best_model_path and os.path.exists(best_model_path):\n",
    "            os.remove(best_model_path)\n",
    "        best_val_loss = avg_val_loss\n",
    "        best_model_path = os.path.join(SAVE_DIR, \"best_gru.pt\")\n",
    "        torch.save(model.state_dict(), best_model_path)\n",
    "        print(f\"  -> New best model saved at {best_model_path}\")\n"
   ]
  },
  {
   "cell_type": "code",
   "execution_count": null,
   "metadata": {},
   "outputs": [],
   "source": []
  }
 ],
 "metadata": {
  "kernelspec": {
   "display_name": "torch_env",
   "language": "python",
   "name": "python3"
  },
  "language_info": {
   "codemirror_mode": {
    "name": "ipython",
    "version": 3
   },
   "file_extension": ".py",
   "mimetype": "text/x-python",
   "name": "python",
   "nbconvert_exporter": "python",
   "pygments_lexer": "ipython3",
   "version": "3.10.16"
  }
 },
 "nbformat": 4,
 "nbformat_minor": 2
}

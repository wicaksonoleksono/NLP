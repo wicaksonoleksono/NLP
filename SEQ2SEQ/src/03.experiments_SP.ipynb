{
 "cells": [
  {
   "cell_type": "code",
   "execution_count": 1,
   "metadata": {},
   "outputs": [
    {
     "name": "stderr",
     "output_type": "stream",
     "text": [
      "[nltk_data] Downloading package punkt to\n",
      "[nltk_data]     /home/wicaksonolxn/nltk_data...\n",
      "[nltk_data]   Package punkt is already up-to-date!\n"
     ]
    }
   ],
   "source": [
    "import os\n",
    "import torch\n",
    "import torch.nn as nn\n",
    "import torch.optim as optim\n",
    "from tqdm import tqdm\n",
    "from dataloader import get_dataloaders,get_dataloaders_subword\n",
    "from utils_subword import load_sentencepiece_model,sp_detokenize_with_specials\n",
    "import nltk\n",
    "from nltk.translate.bleu_score import sentence_bleu, SmoothingFunction\n",
    "from transformer import Transformer,TransformerEncoder,TransformerDecoder\n",
    "import utils\n",
    "import pickle\n",
    "nltk.download('punkt')  \n",
    "device = torch.device('cuda' if torch.cuda.is_available() else 'cpu')"
   ]
  },
  {
   "cell_type": "code",
   "execution_count": 2,
   "metadata": {},
   "outputs": [
    {
     "name": "stdout",
     "output_type": "stream",
     "text": [
      "SentencePiece model loaded from dataset/spm_files/spm_model.model\n",
      "TrainData - Max 'min' sentence length: 76\n",
      "TrainData - Max 'eng' sentence length: 107\n",
      "TestData - Max 'min' sentence length: 61\n",
      "TestData - Max 'eng' sentence length: 75\n",
      "ValidData - Max 'min' sentence length: 65\n",
      "ValidData - Max 'eng' sentence length: 85\n",
      "Number of examples in train_dataset: 799\n",
      "Number of examples in valid_dataset: 100\n",
      "Number of examples in test_dataset: 100\n",
      "Model initialized on: cuda\n"
     ]
    }
   ],
   "source": [
    "BATCH_SIZE = 32         #banyakupdate\n",
    "DATA_PATH = \"dataset/\"  \n",
    "DATA_PATH_SPM = \"dataset/spm_files\"  \n",
    "SAVE_DIR = \"saved\"\n",
    "SRC_VOCAB_SIZE = 5000     \n",
    "TGT_VOCAB_SIZE = 5000     \n",
    "N_LAYERS = 1             \n",
    "N_HEADS = 1\n",
    "D_MODEL =  128\n",
    "FFN_HIDDEN = D_MODEL * 4\n",
    "DROPOUT = 0.3\n",
    "EPOCHS = 150\n",
    "sp = load_sentencepiece_model(DATA_PATH_SPM, model_prefix=\"spm_model\")\n",
    "train_loader, val_loader, test_loader = get_dataloaders_subword(\n",
    "    sp=sp,\n",
    "    data_path=DATA_PATH, \n",
    "    source_lang=\"min\", \n",
    "    target_lang=\"eng\", \n",
    "    batch_size=BATCH_SIZE, \n",
    "    device=device\n",
    ")\n",
    "encoder = TransformerEncoder(SRC_VOCAB_SIZE,D_MODEL,N_LAYERS,N_HEADS,FFN_HIDDEN,DROPOUT,device)\n",
    "decoder = TransformerDecoder(TGT_VOCAB_SIZE,D_MODEL,N_LAYERS,N_HEADS,FFN_HIDDEN,DROPOUT,device)\n",
    "model = Transformer(encoder,decoder,device,utils.PAD_TOKEN).to(device)\n",
    "optimizer = optim.Adam(model.parameters(), lr=5e-4)\n",
    "criterion = nn.CrossEntropyLoss(ignore_index=utils.PAD_TOKEN) \n",
    "print(\"Model initialized on:\", device)\n"
   ]
  },
  {
   "cell_type": "code",
   "execution_count": 3,
   "metadata": {},
   "outputs": [
    {
     "name": "stdout",
     "output_type": "stream",
     "text": [
      "torch.Size([32, 107]) torch.Size([32, 107])\n",
      "Padding: 0\n",
      "Start of Sequence: 1\n",
      "End of Sequence: 2\n",
      "Unknown: 3\n"
     ]
    }
   ],
   "source": [
    "tokens = {\n",
    "    \"Padding\": utils.PAD_TOKEN,\n",
    "    \"Start of Sequence\": utils.SOS_TOKEN,\n",
    "    \"End of Sequence\": utils.EOS_TOKEN,\n",
    "    \"Unknown\": utils.UNK_TOKEN\n",
    "}\n",
    "for i, batch in enumerate(train_loader):\n",
    "    if i < 8:\n",
    "        src = batch[\"src\"]\n",
    "        tgt = batch[\"tgt\"]\n",
    "        ss,fss=src[0,:],src.shape\n",
    "        st,fst=tgt[0,:],tgt.shape\n",
    "        print(fss,fst)\n",
    "    for name, token in tokens.items():\n",
    "        print(f\"{name}: {token}\")\n",
    "    else:\n",
    "        break"
   ]
  },
  {
   "cell_type": "markdown",
   "metadata": {},
   "source": [
    "testing input , is it correct"
   ]
  },
  {
   "cell_type": "code",
   "execution_count": 4,
   "metadata": {},
   "outputs": [
    {
     "name": "stdout",
     "output_type": "stream",
     "text": [
      "tensor([[   1,  910,  622,  ...,    0,    0,    0],\n",
      "        [   1,  910,   43,  ...,    0,    0,    0],\n",
      "        [   1,  160,   20,  ...,    0,    0,    0],\n",
      "        ...,\n",
      "        [   1,  571, 4977,  ..., 4994, 4977,    0],\n",
      "        [   1,  195, 4988,  ...,    0,    0,    0],\n",
      "        [   1,  910,   11,  ...,    0,    0,    0]])\n"
     ]
    }
   ],
   "source": [
    "data_iter = iter(train_loader)\n",
    "for i in range(1):\n",
    "    batch = next(data_iter)\n",
    "    print(batch[\"tgt\"])\n"
   ]
  },
  {
   "cell_type": "code",
   "execution_count": 5,
   "metadata": {},
   "outputs": [
    {
     "name": "stdout",
     "output_type": "stream",
     "text": [
      "Example 1:\n",
      "Source: dari segi latak lokasi cukuik mudah dicari  bangunan dan isi bagian di dalamnyo manarik apolai ado taman ketek di dalamnyo nan diisi lo jo gentong yang aianyo dibiaan maalia taruih  mambuek suasananyo jadi tambah romantis dan manyanangan  menu nan disajian lumayan baragam dan dari segi raso lumayan lamak \n",
      "Target: the place location is pretty easy to spot  the building and its interior are interesting especially the small garden inside that has an urn with water flowing out of it constantly  makes the mood more romantic and pleasant  the menu offered had a lot of variety\n",
      "--------------------------------------------------\n",
      "Example 2:\n",
      "Source: ko manyasa bana makan indomie salted egg  makannyo tadi pagi jam sampai kini after tastenyo masih ado  ndaklamak bana lo lai ya allah\n",
      "Target: i really regret eating the salted egg indomie  i ate it this morning at and my mouth can still feel the aftertaste to this very moment  and its really bad dear allah \n",
      "--------------------------------------------------\n",
      "Example 3:\n",
      "Source: suasananyo cocok untuak sado urang baiak sanak nan nio surang basamo kaluarga maupun jo kawan kawan dakek batuka carito\n",
      "Target: the atmosphere is great for everyone whether youre alone with family or sharing stories with close friends \n",
      "--------------------------------------------------\n",
      "Example 4:\n",
      "Source: awak alah konfirmasi ka pihak gramedia tapi dilempa lempa ndak ado panjalehan  pihak gramed sampai spv di outlet tu saliang malempa dan mengecekan ndak ado promo  kecewa dilempa lempa modetu\n",
      "Target: grameds staff passed me   \n",
      "--------------------------------------------------\n",
      "Example 5:\n",
      "Source: pangalaman patamo cukuik mangesanan dek cukuik takajuik ruponyo siap salasai mamasan makanan salah ciek staf maagiah daun pisang ka meja awak bukan piriang atau sendok jadi jiko makan di siko basiaplah untuak makan pakai tangan dek awak ka marasoan sensasi nan unik ditambah aleh makanannyo daun pisang \n",
      "Target: the first impression was memorable because after ordering i was surprised to see one of the staff bringing out banana leaves to our tables instead of plates or spoons  so if you wanna eat here get ready to eperience the uniue sensation of eating food\n",
      "--------------------------------------------------\n"
     ]
    }
   ],
   "source": [
    "for i, batch in enumerate(train_loader):\n",
    "    if i < 1:\n",
    "        src_batch = batch['src'].to(device)  # shape: [batch_size, seq_len]\n",
    "        tgt_batch = batch['tgt'].to(device)  # shape: [batch_size, seq_len]\n",
    "        batch_size = src_batch.size(0)\n",
    "        num_examples = min(5, batch_size)\n",
    "        for j in range(num_examples):\n",
    "            src_tokens = src_batch[j].tolist()\n",
    "            tgt_tokens = tgt_batch[j].tolist()\n",
    "            src_sentence = sp_detokenize_with_specials(sp, src_tokens)\n",
    "            tgt_sentence = sp_detokenize_with_specials(sp, tgt_tokens)\n",
    "            print(f\"Example {j+1}:\")\n",
    "            print(\"Source:\", src_sentence)\n",
    "            print(\"Target:\", tgt_sentence)\n",
    "            print(\"-\" * 50)\n",
    "    break\n"
   ]
  },
  {
   "cell_type": "code",
   "execution_count": 6,
   "metadata": {},
   "outputs": [
    {
     "name": "stdout",
     "output_type": "stream",
     "text": [
      "Example 1:\n",
      "Source: gojek ka mulai mambukak layanan nyo di babarapo negara asia tenggara \n",
      "Target: gojek will start offering their services in a few sea countries \n",
      "--------------------------------------------------\n",
      "Example 2:\n",
      "Source: wah lamak bana sate yang lamak bumbu yang pas raso yang pas dan dagiang yang segar sahinggo mahasilan sate yang sabana bana mantap  palayanan yang ramah \n",
      "Target: wow the satay is amaing  right spices right seasonings and fresh meat all combined to make a damn good satay  the servers are also friendly \n",
      "--------------------------------------------------\n",
      "Example 3:\n",
      "Source: indak suko maliek anak sma kini kalau pakai jilbab rambuiknyo pado disangajoan kalua makasuiknyo apo \n",
      "Target: dont like seeing highschoolers these days using jilbab but letting the hair out on purpose whats the meaning of that \n",
      "--------------------------------------------------\n",
      "Example 4:\n",
      "Source: kami mangunjungi tampek ko karano lokasinyo nan badakekan jo tampek kami manginap  kami mamasan nasi baka dan pasta  nasi bakanyo lamak banyak piliahan dan indak padeh bisa untuak anak anak  sadang pasta hanyo ado samacam namun rasonyo pun lamak  harago makanan pun indak maha dan tajangkau untuak makanan di bawah ribu  di tampek ko pun gratis wifi \n",
      "Target: we visited this place because the location was near the place we were staying in  we ordered nasi bakar and pasta  the nasi bakar was great lots of options and not spicy appropriate for children  the pasta only had one type but it tasted wonderful to\n",
      "--------------------------------------------------\n",
      "Example 5:\n",
      "Source: paliang kesal kalau ado urang maota di jalan sambia motoran apolai kalau jalannyo sampik\n",
      "Target: my biggest pet peeve is when people are chatting while riding on their motorcycles especially if the road is narrow \n",
      "--------------------------------------------------\n"
     ]
    }
   ],
   "source": [
    "for i, batch in enumerate(train_loader):\n",
    "    if i < 1:\n",
    "        src_batch = batch['src'].to(device)  # shape: [batch_size, seq_len]\n",
    "        tgt_batch = batch['tgt'].to(device)  # shape: [batch_size, seq_len]\n",
    "        batch_size = src_batch.size(0)\n",
    "        num_examples = min(5, batch_size)\n",
    "        for j in range(num_examples):\n",
    "            src_tokens = src_batch[j].tolist()\n",
    "            tgt_tokens = tgt_batch[j].tolist()\n",
    "            src_sentence = sp_detokenize_with_specials(sp, src_tokens)\n",
    "            tgt_sentence = sp_detokenize_with_specials(sp, tgt_tokens)\n",
    "            print(f\"Example {j+1}:\")\n",
    "            print(\"Source:\", src_sentence)\n",
    "            print(\"Target:\", tgt_sentence)\n",
    "            print(\"-\" * 50)\n",
    "    break\n"
   ]
  },
  {
   "cell_type": "code",
   "execution_count": 7,
   "metadata": {},
   "outputs": [
    {
     "name": "stdout",
     "output_type": "stream",
     "text": [
      "Epoch 1/150\n"
     ]
    },
    {
     "name": "stderr",
     "output_type": "stream",
     "text": [
      "🚀 Training: 100%|██████████| 25/25 [00:00<00:00, 36.56it/s, loss=6.5869]\n",
      "🚀 Validation: 100%|██████████| 4/4 [00:00<00:00, 146.39it/s, loss=6.3033]\n"
     ]
    },
    {
     "name": "stdout",
     "output_type": "stream",
     "text": [
      "[Epoch 1] Train Loss: 7.6385 | Val Loss: 6.3228\n",
      "  -> New best model saved at saved/best_sp.pt\n",
      "Epoch 2/150\n"
     ]
    },
    {
     "name": "stderr",
     "output_type": "stream",
     "text": [
      "🚀 Training: 100%|██████████| 25/25 [00:00<00:00, 53.07it/s, loss=5.4933]\n",
      "🚀 Validation: 100%|██████████| 4/4 [00:00<00:00, 146.61it/s, loss=5.2933]\n"
     ]
    },
    {
     "name": "stdout",
     "output_type": "stream",
     "text": [
      "[Epoch 2] Train Loss: 5.9029 | Val Loss: 5.3841\n",
      "  -> New best model saved at saved/best_sp.pt\n",
      "Epoch 3/150\n"
     ]
    },
    {
     "name": "stderr",
     "output_type": "stream",
     "text": [
      "🚀 Training: 100%|██████████| 25/25 [00:00<00:00, 51.23it/s, loss=5.3306]\n",
      "🚀 Validation: 100%|██████████| 4/4 [00:00<00:00, 162.28it/s, loss=5.1065]\n"
     ]
    },
    {
     "name": "stdout",
     "output_type": "stream",
     "text": [
      "[Epoch 3] Train Loss: 5.3708 | Val Loss: 5.2390\n",
      "  -> New best model saved at saved/best_sp.pt\n",
      "Epoch 4/150\n"
     ]
    },
    {
     "name": "stderr",
     "output_type": "stream",
     "text": [
      "🚀 Training: 100%|██████████| 25/25 [00:00<00:00, 50.96it/s, loss=5.1372]\n",
      "🚀 Validation: 100%|██████████| 4/4 [00:00<00:00, 147.05it/s, loss=4.8978]\n"
     ]
    },
    {
     "name": "stdout",
     "output_type": "stream",
     "text": [
      "[Epoch 4] Train Loss: 5.2293 | Val Loss: 5.0482\n",
      "  -> New best model saved at saved/best_sp.pt\n",
      "Epoch 5/150\n"
     ]
    },
    {
     "name": "stderr",
     "output_type": "stream",
     "text": [
      "🚀 Training: 100%|██████████| 25/25 [00:00<00:00, 51.38it/s, loss=4.9737]\n",
      "🚀 Validation: 100%|██████████| 4/4 [00:00<00:00, 170.04it/s, loss=4.6716]\n"
     ]
    },
    {
     "name": "stdout",
     "output_type": "stream",
     "text": [
      "[Epoch 5] Train Loss: 5.0690 | Val Loss: 4.8659\n",
      "  -> New best model saved at saved/best_sp.pt\n",
      "Epoch 6/150\n"
     ]
    },
    {
     "name": "stderr",
     "output_type": "stream",
     "text": [
      "🚀 Training: 100%|██████████| 25/25 [00:00<00:00, 49.94it/s, loss=4.8544]\n",
      "🚀 Validation: 100%|██████████| 4/4 [00:00<00:00, 127.16it/s, loss=4.4412]\n"
     ]
    },
    {
     "name": "stdout",
     "output_type": "stream",
     "text": [
      "[Epoch 6] Train Loss: 4.8995 | Val Loss: 4.6825\n",
      "  -> New best model saved at saved/best_sp.pt\n",
      "Epoch 7/150\n"
     ]
    },
    {
     "name": "stderr",
     "output_type": "stream",
     "text": [
      "🚀 Training: 100%|██████████| 25/25 [00:00<00:00, 50.28it/s, loss=4.7142]\n",
      "🚀 Validation: 100%|██████████| 4/4 [00:00<00:00, 167.16it/s, loss=4.2595]\n"
     ]
    },
    {
     "name": "stdout",
     "output_type": "stream",
     "text": [
      "[Epoch 7] Train Loss: 4.7365 | Val Loss: 4.5357\n",
      "  -> New best model saved at saved/best_sp.pt\n",
      "Epoch 8/150\n"
     ]
    },
    {
     "name": "stderr",
     "output_type": "stream",
     "text": [
      "🚀 Training: 100%|██████████| 25/25 [00:00<00:00, 50.10it/s, loss=4.6052]\n",
      "🚀 Validation: 100%|██████████| 4/4 [00:00<00:00, 163.74it/s, loss=4.1169]\n"
     ]
    },
    {
     "name": "stdout",
     "output_type": "stream",
     "text": [
      "[Epoch 8] Train Loss: 4.5944 | Val Loss: 4.4132\n",
      "  -> New best model saved at saved/best_sp.pt\n",
      "Epoch 9/150\n"
     ]
    },
    {
     "name": "stderr",
     "output_type": "stream",
     "text": [
      "🚀 Training: 100%|██████████| 25/25 [00:00<00:00, 49.86it/s, loss=4.3360]\n",
      "🚀 Validation: 100%|██████████| 4/4 [00:00<00:00, 170.43it/s, loss=3.9957]\n"
     ]
    },
    {
     "name": "stdout",
     "output_type": "stream",
     "text": [
      "[Epoch 9] Train Loss: 4.4694 | Val Loss: 4.3189\n",
      "  -> New best model saved at saved/best_sp.pt\n",
      "Epoch 10/150\n"
     ]
    },
    {
     "name": "stderr",
     "output_type": "stream",
     "text": [
      "🚀 Training: 100%|██████████| 25/25 [00:00<00:00, 50.25it/s, loss=4.3799]\n",
      "🚀 Validation: 100%|██████████| 4/4 [00:00<00:00, 144.51it/s, loss=3.8910]\n"
     ]
    },
    {
     "name": "stdout",
     "output_type": "stream",
     "text": [
      "[Epoch 10] Train Loss: 4.3645 | Val Loss: 4.2358\n",
      "  -> New best model saved at saved/best_sp.pt\n",
      "Epoch 11/150\n"
     ]
    },
    {
     "name": "stderr",
     "output_type": "stream",
     "text": [
      "🚀 Training: 100%|██████████| 25/25 [00:00<00:00, 49.95it/s, loss=4.1067]\n",
      "🚀 Validation: 100%|██████████| 4/4 [00:00<00:00, 168.17it/s, loss=3.8081]\n"
     ]
    },
    {
     "name": "stdout",
     "output_type": "stream",
     "text": [
      "[Epoch 11] Train Loss: 4.2712 | Val Loss: 4.1663\n",
      "  -> New best model saved at saved/best_sp.pt\n",
      "Epoch 12/150\n"
     ]
    },
    {
     "name": "stderr",
     "output_type": "stream",
     "text": [
      "🚀 Training: 100%|██████████| 25/25 [00:00<00:00, 49.92it/s, loss=4.1403]\n",
      "🚀 Validation: 100%|██████████| 4/4 [00:00<00:00, 163.44it/s, loss=3.7382]\n"
     ]
    },
    {
     "name": "stdout",
     "output_type": "stream",
     "text": [
      "[Epoch 12] Train Loss: 4.1985 | Val Loss: 4.1080\n",
      "  -> New best model saved at saved/best_sp.pt\n",
      "Epoch 13/150\n"
     ]
    },
    {
     "name": "stderr",
     "output_type": "stream",
     "text": [
      "🚀 Training: 100%|██████████| 25/25 [00:00<00:00, 50.30it/s, loss=4.1053]\n",
      "🚀 Validation: 100%|██████████| 4/4 [00:00<00:00, 129.67it/s, loss=3.6810]\n"
     ]
    },
    {
     "name": "stdout",
     "output_type": "stream",
     "text": [
      "[Epoch 13] Train Loss: 4.1242 | Val Loss: 4.0598\n",
      "  -> New best model saved at saved/best_sp.pt\n",
      "Epoch 14/150\n"
     ]
    },
    {
     "name": "stderr",
     "output_type": "stream",
     "text": [
      "🚀 Training: 100%|██████████| 25/25 [00:00<00:00, 52.56it/s, loss=4.1185]\n",
      "🚀 Validation: 100%|██████████| 4/4 [00:00<00:00, 149.26it/s, loss=3.6396]\n"
     ]
    },
    {
     "name": "stdout",
     "output_type": "stream",
     "text": [
      "[Epoch 14] Train Loss: 4.0602 | Val Loss: 4.0189\n",
      "  -> New best model saved at saved/best_sp.pt\n",
      "Epoch 15/150\n"
     ]
    },
    {
     "name": "stderr",
     "output_type": "stream",
     "text": [
      "🚀 Training: 100%|██████████| 25/25 [00:00<00:00, 51.07it/s, loss=4.0690]\n",
      "🚀 Validation: 100%|██████████| 4/4 [00:00<00:00, 129.64it/s, loss=3.6042]\n"
     ]
    },
    {
     "name": "stdout",
     "output_type": "stream",
     "text": [
      "[Epoch 15] Train Loss: 4.0085 | Val Loss: 3.9839\n",
      "  -> New best model saved at saved/best_sp.pt\n",
      "Epoch 16/150\n"
     ]
    },
    {
     "name": "stderr",
     "output_type": "stream",
     "text": [
      "🚀 Training: 100%|██████████| 25/25 [00:00<00:00, 49.58it/s, loss=4.0214]\n",
      "🚀 Validation: 100%|██████████| 4/4 [00:00<00:00, 114.59it/s, loss=3.5821]\n"
     ]
    },
    {
     "name": "stdout",
     "output_type": "stream",
     "text": [
      "[Epoch 16] Train Loss: 3.9609 | Val Loss: 3.9562\n",
      "  -> New best model saved at saved/best_sp.pt\n",
      "Epoch 17/150\n"
     ]
    },
    {
     "name": "stderr",
     "output_type": "stream",
     "text": [
      "🚀 Training: 100%|██████████| 25/25 [00:00<00:00, 48.30it/s, loss=3.9978]\n",
      "🚀 Validation: 100%|██████████| 4/4 [00:00<00:00, 136.73it/s, loss=3.5433]\n"
     ]
    },
    {
     "name": "stdout",
     "output_type": "stream",
     "text": [
      "[Epoch 17] Train Loss: 3.9144 | Val Loss: 3.9258\n",
      "  -> New best model saved at saved/best_sp.pt\n",
      "Epoch 18/150\n"
     ]
    },
    {
     "name": "stderr",
     "output_type": "stream",
     "text": [
      "🚀 Training: 100%|██████████| 25/25 [00:00<00:00, 47.88it/s, loss=3.8460]\n",
      "🚀 Validation: 100%|██████████| 4/4 [00:00<00:00, 139.48it/s, loss=3.5164]\n"
     ]
    },
    {
     "name": "stdout",
     "output_type": "stream",
     "text": [
      "[Epoch 18] Train Loss: 3.8755 | Val Loss: 3.9060\n",
      "  -> New best model saved at saved/best_sp.pt\n",
      "Epoch 19/150\n"
     ]
    },
    {
     "name": "stderr",
     "output_type": "stream",
     "text": [
      "🚀 Training: 100%|██████████| 25/25 [00:00<00:00, 47.34it/s, loss=3.8227]\n",
      "🚀 Validation: 100%|██████████| 4/4 [00:00<00:00, 132.03it/s, loss=3.5085]\n"
     ]
    },
    {
     "name": "stdout",
     "output_type": "stream",
     "text": [
      "[Epoch 19] Train Loss: 3.8393 | Val Loss: 3.8889\n",
      "  -> New best model saved at saved/best_sp.pt\n",
      "Epoch 20/150\n"
     ]
    },
    {
     "name": "stderr",
     "output_type": "stream",
     "text": [
      "🚀 Training: 100%|██████████| 25/25 [00:00<00:00, 46.68it/s, loss=3.7610]\n",
      "🚀 Validation: 100%|██████████| 4/4 [00:00<00:00, 99.37it/s, loss=3.5015]\n"
     ]
    },
    {
     "name": "stdout",
     "output_type": "stream",
     "text": [
      "[Epoch 20] Train Loss: 3.8087 | Val Loss: 3.8699\n",
      "  -> New best model saved at saved/best_sp.pt\n",
      "Epoch 21/150\n"
     ]
    },
    {
     "name": "stderr",
     "output_type": "stream",
     "text": [
      "🚀 Training: 100%|██████████| 25/25 [00:00<00:00, 45.05it/s, loss=3.7272]\n",
      "🚀 Validation: 100%|██████████| 4/4 [00:00<00:00, 139.04it/s, loss=3.4752]\n"
     ]
    },
    {
     "name": "stdout",
     "output_type": "stream",
     "text": [
      "[Epoch 21] Train Loss: 3.7817 | Val Loss: 3.8501\n",
      "  -> New best model saved at saved/best_sp.pt\n",
      "Epoch 22/150\n"
     ]
    },
    {
     "name": "stderr",
     "output_type": "stream",
     "text": [
      "🚀 Training: 100%|██████████| 25/25 [00:00<00:00, 48.39it/s, loss=3.6488]\n",
      "🚀 Validation: 100%|██████████| 4/4 [00:00<00:00, 129.55it/s, loss=3.4564]\n"
     ]
    },
    {
     "name": "stdout",
     "output_type": "stream",
     "text": [
      "[Epoch 22] Train Loss: 3.7501 | Val Loss: 3.8390\n",
      "  -> New best model saved at saved/best_sp.pt\n",
      "Epoch 23/150\n"
     ]
    },
    {
     "name": "stderr",
     "output_type": "stream",
     "text": [
      "🚀 Training: 100%|██████████| 25/25 [00:00<00:00, 47.29it/s, loss=3.8515]\n",
      "🚀 Validation: 100%|██████████| 4/4 [00:00<00:00, 145.34it/s, loss=3.4620]\n"
     ]
    },
    {
     "name": "stdout",
     "output_type": "stream",
     "text": [
      "[Epoch 23] Train Loss: 3.7224 | Val Loss: 3.8295\n",
      "  -> New best model saved at saved/best_sp.pt\n",
      "Epoch 24/150\n"
     ]
    },
    {
     "name": "stderr",
     "output_type": "stream",
     "text": [
      "🚀 Training: 100%|██████████| 25/25 [00:00<00:00, 47.13it/s, loss=3.7007]\n",
      "🚀 Validation: 100%|██████████| 4/4 [00:00<00:00, 120.98it/s, loss=3.4512]\n"
     ]
    },
    {
     "name": "stdout",
     "output_type": "stream",
     "text": [
      "[Epoch 24] Train Loss: 3.7009 | Val Loss: 3.8189\n",
      "  -> New best model saved at saved/best_sp.pt\n",
      "Epoch 25/150\n"
     ]
    },
    {
     "name": "stderr",
     "output_type": "stream",
     "text": [
      "🚀 Training: 100%|██████████| 25/25 [00:00<00:00, 48.22it/s, loss=3.6685]\n",
      "🚀 Validation: 100%|██████████| 4/4 [00:00<00:00, 130.81it/s, loss=3.4372]\n"
     ]
    },
    {
     "name": "stdout",
     "output_type": "stream",
     "text": [
      "[Epoch 25] Train Loss: 3.6872 | Val Loss: 3.8065\n",
      "  -> New best model saved at saved/best_sp.pt\n",
      "Epoch 26/150\n"
     ]
    },
    {
     "name": "stderr",
     "output_type": "stream",
     "text": [
      "🚀 Training: 100%|██████████| 25/25 [00:00<00:00, 41.83it/s, loss=3.6657]\n",
      "🚀 Validation: 100%|██████████| 4/4 [00:00<00:00, 97.87it/s, loss=3.4306]\n"
     ]
    },
    {
     "name": "stdout",
     "output_type": "stream",
     "text": [
      "[Epoch 26] Train Loss: 3.6599 | Val Loss: 3.7991\n",
      "  -> New best model saved at saved/best_sp.pt\n",
      "Epoch 27/150\n"
     ]
    },
    {
     "name": "stderr",
     "output_type": "stream",
     "text": [
      "🚀 Training: 100%|██████████| 25/25 [00:00<00:00, 45.15it/s, loss=3.6823]\n",
      "🚀 Validation: 100%|██████████| 4/4 [00:00<00:00, 107.46it/s, loss=3.4167]\n"
     ]
    },
    {
     "name": "stdout",
     "output_type": "stream",
     "text": [
      "[Epoch 27] Train Loss: 3.6404 | Val Loss: 3.7859\n",
      "  -> New best model saved at saved/best_sp.pt\n",
      "Epoch 28/150\n"
     ]
    },
    {
     "name": "stderr",
     "output_type": "stream",
     "text": [
      "🚀 Training: 100%|██████████| 25/25 [00:00<00:00, 47.00it/s, loss=3.6260]\n",
      "🚀 Validation: 100%|██████████| 4/4 [00:00<00:00, 139.08it/s, loss=3.4147]\n"
     ]
    },
    {
     "name": "stdout",
     "output_type": "stream",
     "text": [
      "[Epoch 28] Train Loss: 3.6221 | Val Loss: 3.7791\n",
      "  -> New best model saved at saved/best_sp.pt\n",
      "Epoch 29/150\n"
     ]
    },
    {
     "name": "stderr",
     "output_type": "stream",
     "text": [
      "🚀 Training: 100%|██████████| 25/25 [00:00<00:00, 45.72it/s, loss=3.6306]\n",
      "🚀 Validation: 100%|██████████| 4/4 [00:00<00:00, 135.15it/s, loss=3.4242]\n"
     ]
    },
    {
     "name": "stdout",
     "output_type": "stream",
     "text": [
      "[Epoch 29] Train Loss: 3.6065 | Val Loss: 3.7795\n",
      "Epoch 30/150\n"
     ]
    },
    {
     "name": "stderr",
     "output_type": "stream",
     "text": [
      "🚀 Training: 100%|██████████| 25/25 [00:00<00:00, 46.00it/s, loss=3.6030]\n",
      "🚀 Validation: 100%|██████████| 4/4 [00:00<00:00, 119.67it/s, loss=3.4153]\n"
     ]
    },
    {
     "name": "stdout",
     "output_type": "stream",
     "text": [
      "[Epoch 30] Train Loss: 3.5867 | Val Loss: 3.7725\n",
      "  -> New best model saved at saved/best_sp.pt\n",
      "Epoch 31/150\n"
     ]
    },
    {
     "name": "stderr",
     "output_type": "stream",
     "text": [
      "🚀 Training: 100%|██████████| 25/25 [00:00<00:00, 47.16it/s, loss=3.6858]\n",
      "🚀 Validation: 100%|██████████| 4/4 [00:00<00:00, 128.44it/s, loss=3.3945]\n"
     ]
    },
    {
     "name": "stdout",
     "output_type": "stream",
     "text": [
      "[Epoch 31] Train Loss: 3.5703 | Val Loss: 3.7619\n",
      "  -> New best model saved at saved/best_sp.pt\n",
      "Epoch 32/150\n"
     ]
    },
    {
     "name": "stderr",
     "output_type": "stream",
     "text": [
      "🚀 Training: 100%|██████████| 25/25 [00:00<00:00, 47.10it/s, loss=3.4921]\n",
      "🚀 Validation: 100%|██████████| 4/4 [00:00<00:00, 146.31it/s, loss=3.4082]\n"
     ]
    },
    {
     "name": "stdout",
     "output_type": "stream",
     "text": [
      "[Epoch 32] Train Loss: 3.5557 | Val Loss: 3.7646\n",
      "Epoch 33/150\n"
     ]
    },
    {
     "name": "stderr",
     "output_type": "stream",
     "text": [
      "🚀 Training: 100%|██████████| 25/25 [00:00<00:00, 47.24it/s, loss=3.6688]\n",
      "🚀 Validation: 100%|██████████| 4/4 [00:00<00:00, 146.88it/s, loss=3.3943]\n"
     ]
    },
    {
     "name": "stdout",
     "output_type": "stream",
     "text": [
      "[Epoch 33] Train Loss: 3.5415 | Val Loss: 3.7555\n",
      "  -> New best model saved at saved/best_sp.pt\n",
      "Epoch 34/150\n"
     ]
    },
    {
     "name": "stderr",
     "output_type": "stream",
     "text": [
      "🚀 Training: 100%|██████████| 25/25 [00:00<00:00, 47.78it/s, loss=3.5284]\n",
      "🚀 Validation: 100%|██████████| 4/4 [00:00<00:00, 107.78it/s, loss=3.3802]\n"
     ]
    },
    {
     "name": "stdout",
     "output_type": "stream",
     "text": [
      "[Epoch 34] Train Loss: 3.5327 | Val Loss: 3.7491\n",
      "  -> New best model saved at saved/best_sp.pt\n",
      "Epoch 35/150\n"
     ]
    },
    {
     "name": "stderr",
     "output_type": "stream",
     "text": [
      "🚀 Training: 100%|██████████| 25/25 [00:00<00:00, 47.09it/s, loss=3.5852]\n",
      "🚀 Validation: 100%|██████████| 4/4 [00:00<00:00, 124.43it/s, loss=3.4001]\n"
     ]
    },
    {
     "name": "stdout",
     "output_type": "stream",
     "text": [
      "[Epoch 35] Train Loss: 3.5139 | Val Loss: 3.7539\n",
      "Epoch 36/150\n"
     ]
    },
    {
     "name": "stderr",
     "output_type": "stream",
     "text": [
      "🚀 Training: 100%|██████████| 25/25 [00:00<00:00, 47.69it/s, loss=3.5052]\n",
      "🚀 Validation: 100%|██████████| 4/4 [00:00<00:00, 143.71it/s, loss=3.3891]\n"
     ]
    },
    {
     "name": "stdout",
     "output_type": "stream",
     "text": [
      "[Epoch 36] Train Loss: 3.4975 | Val Loss: 3.7465\n",
      "  -> New best model saved at saved/best_sp.pt\n",
      "Epoch 37/150\n"
     ]
    },
    {
     "name": "stderr",
     "output_type": "stream",
     "text": [
      "🚀 Training: 100%|██████████| 25/25 [00:00<00:00, 47.70it/s, loss=3.4940]\n",
      "🚀 Validation: 100%|██████████| 4/4 [00:00<00:00, 139.95it/s, loss=3.3856]\n"
     ]
    },
    {
     "name": "stdout",
     "output_type": "stream",
     "text": [
      "[Epoch 37] Train Loss: 3.4959 | Val Loss: 3.7420\n",
      "  -> New best model saved at saved/best_sp.pt\n",
      "Epoch 38/150\n"
     ]
    },
    {
     "name": "stderr",
     "output_type": "stream",
     "text": [
      "🚀 Training: 100%|██████████| 25/25 [00:00<00:00, 45.07it/s, loss=3.5535]\n",
      "🚀 Validation: 100%|██████████| 4/4 [00:00<00:00, 117.70it/s, loss=3.3784]\n"
     ]
    },
    {
     "name": "stdout",
     "output_type": "stream",
     "text": [
      "[Epoch 38] Train Loss: 3.4753 | Val Loss: 3.7338\n",
      "  -> New best model saved at saved/best_sp.pt\n",
      "Epoch 39/150\n"
     ]
    },
    {
     "name": "stderr",
     "output_type": "stream",
     "text": [
      "🚀 Training: 100%|██████████| 25/25 [00:00<00:00, 47.18it/s, loss=3.4507]\n",
      "🚀 Validation: 100%|██████████| 4/4 [00:00<00:00, 112.82it/s, loss=3.3834]\n"
     ]
    },
    {
     "name": "stdout",
     "output_type": "stream",
     "text": [
      "[Epoch 39] Train Loss: 3.4626 | Val Loss: 3.7364\n",
      "Epoch 40/150\n"
     ]
    },
    {
     "name": "stderr",
     "output_type": "stream",
     "text": [
      "🚀 Training: 100%|██████████| 25/25 [00:00<00:00, 48.42it/s, loss=3.4767]\n",
      "🚀 Validation: 100%|██████████| 4/4 [00:00<00:00, 133.36it/s, loss=3.3864]\n"
     ]
    },
    {
     "name": "stdout",
     "output_type": "stream",
     "text": [
      "[Epoch 40] Train Loss: 3.4573 | Val Loss: 3.7372\n",
      "Epoch 41/150\n"
     ]
    },
    {
     "name": "stderr",
     "output_type": "stream",
     "text": [
      "🚀 Training: 100%|██████████| 25/25 [00:00<00:00, 48.45it/s, loss=3.4433]\n",
      "🚀 Validation: 100%|██████████| 4/4 [00:00<00:00, 127.46it/s, loss=3.3819]\n"
     ]
    },
    {
     "name": "stdout",
     "output_type": "stream",
     "text": [
      "[Epoch 41] Train Loss: 3.4403 | Val Loss: 3.7331\n",
      "  -> New best model saved at saved/best_sp.pt\n",
      "Epoch 42/150\n"
     ]
    },
    {
     "name": "stderr",
     "output_type": "stream",
     "text": [
      "🚀 Training: 100%|██████████| 25/25 [00:00<00:00, 48.23it/s, loss=3.5179]\n",
      "🚀 Validation: 100%|██████████| 4/4 [00:00<00:00, 139.84it/s, loss=3.3842]\n"
     ]
    },
    {
     "name": "stdout",
     "output_type": "stream",
     "text": [
      "[Epoch 42] Train Loss: 3.4288 | Val Loss: 3.7339\n",
      "Epoch 43/150\n"
     ]
    },
    {
     "name": "stderr",
     "output_type": "stream",
     "text": [
      "🚀 Training: 100%|██████████| 25/25 [00:00<00:00, 47.57it/s, loss=3.4182]\n",
      "🚀 Validation: 100%|██████████| 4/4 [00:00<00:00, 124.21it/s, loss=3.3637]\n"
     ]
    },
    {
     "name": "stdout",
     "output_type": "stream",
     "text": [
      "[Epoch 43] Train Loss: 3.4208 | Val Loss: 3.7238\n",
      "  -> New best model saved at saved/best_sp.pt\n",
      "Epoch 44/150\n"
     ]
    },
    {
     "name": "stderr",
     "output_type": "stream",
     "text": [
      "🚀 Training: 100%|██████████| 25/25 [00:00<00:00, 47.46it/s, loss=3.4721]\n",
      "🚀 Validation: 100%|██████████| 4/4 [00:00<00:00, 147.68it/s, loss=3.3600]\n"
     ]
    },
    {
     "name": "stdout",
     "output_type": "stream",
     "text": [
      "[Epoch 44] Train Loss: 3.4096 | Val Loss: 3.7223\n",
      "  -> New best model saved at saved/best_sp.pt\n",
      "Epoch 45/150\n"
     ]
    },
    {
     "name": "stderr",
     "output_type": "stream",
     "text": [
      "🚀 Training: 100%|██████████| 25/25 [00:00<00:00, 47.10it/s, loss=3.3989]\n",
      "🚀 Validation: 100%|██████████| 4/4 [00:00<00:00, 126.01it/s, loss=3.3600]\n"
     ]
    },
    {
     "name": "stdout",
     "output_type": "stream",
     "text": [
      "[Epoch 45] Train Loss: 3.4023 | Val Loss: 3.7221\n",
      "  -> New best model saved at saved/best_sp.pt\n",
      "Epoch 46/150\n"
     ]
    },
    {
     "name": "stderr",
     "output_type": "stream",
     "text": [
      "🚀 Training: 100%|██████████| 25/25 [00:00<00:00, 47.56it/s, loss=3.4215]\n",
      "🚀 Validation: 100%|██████████| 4/4 [00:00<00:00, 135.60it/s, loss=3.3504]\n"
     ]
    },
    {
     "name": "stdout",
     "output_type": "stream",
     "text": [
      "[Epoch 46] Train Loss: 3.3936 | Val Loss: 3.7203\n",
      "  -> New best model saved at saved/best_sp.pt\n",
      "Epoch 47/150\n"
     ]
    },
    {
     "name": "stderr",
     "output_type": "stream",
     "text": [
      "🚀 Training: 100%|██████████| 25/25 [00:00<00:00, 45.83it/s, loss=3.4325]\n",
      "🚀 Validation: 100%|██████████| 4/4 [00:00<00:00, 125.13it/s, loss=3.3574]\n"
     ]
    },
    {
     "name": "stdout",
     "output_type": "stream",
     "text": [
      "[Epoch 47] Train Loss: 3.3848 | Val Loss: 3.7206\n",
      "Epoch 48/150\n"
     ]
    },
    {
     "name": "stderr",
     "output_type": "stream",
     "text": [
      "🚀 Training: 100%|██████████| 25/25 [00:00<00:00, 47.98it/s, loss=3.4065]\n",
      "🚀 Validation: 100%|██████████| 4/4 [00:00<00:00, 151.39it/s, loss=3.3422]\n"
     ]
    },
    {
     "name": "stdout",
     "output_type": "stream",
     "text": [
      "[Epoch 48] Train Loss: 3.3764 | Val Loss: 3.7157\n",
      "  -> New best model saved at saved/best_sp.pt\n",
      "Epoch 49/150\n"
     ]
    },
    {
     "name": "stderr",
     "output_type": "stream",
     "text": [
      "🚀 Training: 100%|██████████| 25/25 [00:00<00:00, 46.97it/s, loss=3.3291]\n",
      "🚀 Validation: 100%|██████████| 4/4 [00:00<00:00, 134.36it/s, loss=3.3525]\n"
     ]
    },
    {
     "name": "stdout",
     "output_type": "stream",
     "text": [
      "[Epoch 49] Train Loss: 3.3674 | Val Loss: 3.7174\n",
      "Epoch 50/150\n"
     ]
    },
    {
     "name": "stderr",
     "output_type": "stream",
     "text": [
      "🚀 Training: 100%|██████████| 25/25 [00:00<00:00, 48.56it/s, loss=3.4079]\n",
      "🚀 Validation: 100%|██████████| 4/4 [00:00<00:00, 150.59it/s, loss=3.3532]\n"
     ]
    },
    {
     "name": "stdout",
     "output_type": "stream",
     "text": [
      "[Epoch 50] Train Loss: 3.3543 | Val Loss: 3.7169\n",
      "Epoch 51/150\n"
     ]
    },
    {
     "name": "stderr",
     "output_type": "stream",
     "text": [
      "🚀 Training: 100%|██████████| 25/25 [00:00<00:00, 46.89it/s, loss=3.2877]\n",
      "🚀 Validation: 100%|██████████| 4/4 [00:00<00:00, 142.02it/s, loss=3.3478]\n"
     ]
    },
    {
     "name": "stdout",
     "output_type": "stream",
     "text": [
      "[Epoch 51] Train Loss: 3.3524 | Val Loss: 3.7156\n",
      "  -> New best model saved at saved/best_sp.pt\n",
      "Epoch 52/150\n"
     ]
    },
    {
     "name": "stderr",
     "output_type": "stream",
     "text": [
      "🚀 Training: 100%|██████████| 25/25 [00:00<00:00, 47.82it/s, loss=3.4180]\n",
      "🚀 Validation: 100%|██████████| 4/4 [00:00<00:00, 133.26it/s, loss=3.3434]\n"
     ]
    },
    {
     "name": "stdout",
     "output_type": "stream",
     "text": [
      "[Epoch 52] Train Loss: 3.3435 | Val Loss: 3.7136\n",
      "  -> New best model saved at saved/best_sp.pt\n",
      "Epoch 53/150\n"
     ]
    },
    {
     "name": "stderr",
     "output_type": "stream",
     "text": [
      "🚀 Training: 100%|██████████| 25/25 [00:00<00:00, 49.00it/s, loss=3.3634]\n",
      "🚀 Validation: 100%|██████████| 4/4 [00:00<00:00, 142.74it/s, loss=3.3441]\n"
     ]
    },
    {
     "name": "stdout",
     "output_type": "stream",
     "text": [
      "[Epoch 53] Train Loss: 3.3340 | Val Loss: 3.7102\n",
      "  -> New best model saved at saved/best_sp.pt\n",
      "Epoch 54/150\n"
     ]
    },
    {
     "name": "stderr",
     "output_type": "stream",
     "text": [
      "🚀 Training: 100%|██████████| 25/25 [00:00<00:00, 44.96it/s, loss=3.3361]\n",
      "🚀 Validation: 100%|██████████| 4/4 [00:00<00:00, 136.94it/s, loss=3.3466]\n"
     ]
    },
    {
     "name": "stdout",
     "output_type": "stream",
     "text": [
      "[Epoch 54] Train Loss: 3.3358 | Val Loss: 3.7096\n",
      "  -> New best model saved at saved/best_sp.pt\n",
      "Epoch 55/150\n"
     ]
    },
    {
     "name": "stderr",
     "output_type": "stream",
     "text": [
      "🚀 Training: 100%|██████████| 25/25 [00:00<00:00, 45.90it/s, loss=3.2404]\n",
      "🚀 Validation: 100%|██████████| 4/4 [00:00<00:00, 123.75it/s, loss=3.3565]\n"
     ]
    },
    {
     "name": "stdout",
     "output_type": "stream",
     "text": [
      "[Epoch 55] Train Loss: 3.3185 | Val Loss: 3.7177\n",
      "Epoch 56/150\n"
     ]
    },
    {
     "name": "stderr",
     "output_type": "stream",
     "text": [
      "🚀 Training: 100%|██████████| 25/25 [00:00<00:00, 46.84it/s, loss=3.2846]\n",
      "🚀 Validation: 100%|██████████| 4/4 [00:00<00:00, 136.68it/s, loss=3.3384]\n"
     ]
    },
    {
     "name": "stdout",
     "output_type": "stream",
     "text": [
      "[Epoch 56] Train Loss: 3.3130 | Val Loss: 3.7162\n",
      "Epoch 57/150\n"
     ]
    },
    {
     "name": "stderr",
     "output_type": "stream",
     "text": [
      "🚀 Training: 100%|██████████| 25/25 [00:00<00:00, 46.03it/s, loss=3.3410]\n",
      "🚀 Validation: 100%|██████████| 4/4 [00:00<00:00, 129.31it/s, loss=3.3325]\n"
     ]
    },
    {
     "name": "stdout",
     "output_type": "stream",
     "text": [
      "[Epoch 57] Train Loss: 3.3061 | Val Loss: 3.7081\n",
      "  -> New best model saved at saved/best_sp.pt\n",
      "Epoch 58/150\n"
     ]
    },
    {
     "name": "stderr",
     "output_type": "stream",
     "text": [
      "🚀 Training: 100%|██████████| 25/25 [00:00<00:00, 47.43it/s, loss=3.4154]\n",
      "🚀 Validation: 100%|██████████| 4/4 [00:00<00:00, 135.28it/s, loss=3.3380]\n"
     ]
    },
    {
     "name": "stdout",
     "output_type": "stream",
     "text": [
      "[Epoch 58] Train Loss: 3.2953 | Val Loss: 3.7149\n",
      "Epoch 59/150\n"
     ]
    },
    {
     "name": "stderr",
     "output_type": "stream",
     "text": [
      "🚀 Training: 100%|██████████| 25/25 [00:00<00:00, 48.15it/s, loss=3.2508]\n",
      "🚀 Validation: 100%|██████████| 4/4 [00:00<00:00, 137.79it/s, loss=3.3409]\n"
     ]
    },
    {
     "name": "stdout",
     "output_type": "stream",
     "text": [
      "[Epoch 59] Train Loss: 3.2909 | Val Loss: 3.7111\n",
      "Epoch 60/150\n"
     ]
    },
    {
     "name": "stderr",
     "output_type": "stream",
     "text": [
      "🚀 Training: 100%|██████████| 25/25 [00:00<00:00, 47.65it/s, loss=3.3130]\n",
      "🚀 Validation: 100%|██████████| 4/4 [00:00<00:00, 124.68it/s, loss=3.3578]\n"
     ]
    },
    {
     "name": "stdout",
     "output_type": "stream",
     "text": [
      "[Epoch 60] Train Loss: 3.2830 | Val Loss: 3.7195\n",
      "Epoch 61/150\n"
     ]
    },
    {
     "name": "stderr",
     "output_type": "stream",
     "text": [
      "🚀 Training: 100%|██████████| 25/25 [00:00<00:00, 48.06it/s, loss=3.3410]\n",
      "🚀 Validation: 100%|██████████| 4/4 [00:00<00:00, 155.14it/s, loss=3.3393]\n"
     ]
    },
    {
     "name": "stdout",
     "output_type": "stream",
     "text": [
      "[Epoch 61] Train Loss: 3.2783 | Val Loss: 3.7096\n",
      "Epoch 62/150\n"
     ]
    },
    {
     "name": "stderr",
     "output_type": "stream",
     "text": [
      "🚀 Training: 100%|██████████| 25/25 [00:00<00:00, 48.53it/s, loss=3.2245]\n",
      "🚀 Validation: 100%|██████████| 4/4 [00:00<00:00, 150.88it/s, loss=3.3575]\n"
     ]
    },
    {
     "name": "stdout",
     "output_type": "stream",
     "text": [
      "[Epoch 62] Train Loss: 3.2719 | Val Loss: 3.7161\n",
      "Epoch 63/150\n"
     ]
    },
    {
     "name": "stderr",
     "output_type": "stream",
     "text": [
      "🚀 Training: 100%|██████████| 25/25 [00:00<00:00, 49.03it/s, loss=3.3438]\n",
      "🚀 Validation: 100%|██████████| 4/4 [00:00<00:00, 148.46it/s, loss=3.3528]\n"
     ]
    },
    {
     "name": "stdout",
     "output_type": "stream",
     "text": [
      "[Epoch 63] Train Loss: 3.2707 | Val Loss: 3.7194\n",
      "Epoch 64/150\n"
     ]
    },
    {
     "name": "stderr",
     "output_type": "stream",
     "text": [
      "🚀 Training: 100%|██████████| 25/25 [00:00<00:00, 48.10it/s, loss=3.2409]\n",
      "🚀 Validation: 100%|██████████| 4/4 [00:00<00:00, 149.32it/s, loss=3.3430]\n"
     ]
    },
    {
     "name": "stdout",
     "output_type": "stream",
     "text": [
      "[Epoch 64] Train Loss: 3.2603 | Val Loss: 3.7175\n",
      "Epoch 65/150\n"
     ]
    },
    {
     "name": "stderr",
     "output_type": "stream",
     "text": [
      "🚀 Training: 100%|██████████| 25/25 [00:00<00:00, 48.55it/s, loss=3.1757]\n",
      "🚀 Validation: 100%|██████████| 4/4 [00:00<00:00, 144.40it/s, loss=3.3640]\n"
     ]
    },
    {
     "name": "stdout",
     "output_type": "stream",
     "text": [
      "[Epoch 65] Train Loss: 3.2579 | Val Loss: 3.7265\n",
      "Epoch 66/150\n"
     ]
    },
    {
     "name": "stderr",
     "output_type": "stream",
     "text": [
      "🚀 Training: 100%|██████████| 25/25 [00:00<00:00, 48.61it/s, loss=3.2587]\n",
      "🚀 Validation: 100%|██████████| 4/4 [00:00<00:00, 139.26it/s, loss=3.3469]\n"
     ]
    },
    {
     "name": "stdout",
     "output_type": "stream",
     "text": [
      "[Epoch 66] Train Loss: 3.2503 | Val Loss: 3.7187\n",
      "Epoch 67/150\n"
     ]
    },
    {
     "name": "stderr",
     "output_type": "stream",
     "text": [
      "🚀 Training: 100%|██████████| 25/25 [00:00<00:00, 49.53it/s, loss=3.1858]\n",
      "🚀 Validation: 100%|██████████| 4/4 [00:00<00:00, 154.06it/s, loss=3.3449]\n"
     ]
    },
    {
     "name": "stdout",
     "output_type": "stream",
     "text": [
      "[Epoch 67] Train Loss: 3.2453 | Val Loss: 3.7200\n",
      "Epoch 68/150\n"
     ]
    },
    {
     "name": "stderr",
     "output_type": "stream",
     "text": [
      "🚀 Training: 100%|██████████| 25/25 [00:00<00:00, 47.14it/s, loss=3.2006]\n",
      "🚀 Validation: 100%|██████████| 4/4 [00:00<00:00, 148.22it/s, loss=3.3482]\n"
     ]
    },
    {
     "name": "stdout",
     "output_type": "stream",
     "text": [
      "[Epoch 68] Train Loss: 3.2380 | Val Loss: 3.7204\n",
      "Epoch 69/150\n"
     ]
    },
    {
     "name": "stderr",
     "output_type": "stream",
     "text": [
      "🚀 Training: 100%|██████████| 25/25 [00:00<00:00, 48.08it/s, loss=3.3124]\n",
      "🚀 Validation: 100%|██████████| 4/4 [00:00<00:00, 122.75it/s, loss=3.3395]\n"
     ]
    },
    {
     "name": "stdout",
     "output_type": "stream",
     "text": [
      "[Epoch 69] Train Loss: 3.2362 | Val Loss: 3.7133\n",
      "Epoch 70/150\n"
     ]
    },
    {
     "name": "stderr",
     "output_type": "stream",
     "text": [
      "🚀 Training: 100%|██████████| 25/25 [00:00<00:00, 48.51it/s, loss=3.1617]\n",
      "🚀 Validation: 100%|██████████| 4/4 [00:00<00:00, 135.08it/s, loss=3.3381]\n"
     ]
    },
    {
     "name": "stdout",
     "output_type": "stream",
     "text": [
      "[Epoch 70] Train Loss: 3.2223 | Val Loss: 3.7197\n",
      "Epoch 71/150\n"
     ]
    },
    {
     "name": "stderr",
     "output_type": "stream",
     "text": [
      "🚀 Training: 100%|██████████| 25/25 [00:00<00:00, 48.31it/s, loss=3.1917]\n",
      "🚀 Validation: 100%|██████████| 4/4 [00:00<00:00, 138.34it/s, loss=3.3308]\n"
     ]
    },
    {
     "name": "stdout",
     "output_type": "stream",
     "text": [
      "[Epoch 71] Train Loss: 3.2207 | Val Loss: 3.7139\n",
      "Epoch 72/150\n"
     ]
    },
    {
     "name": "stderr",
     "output_type": "stream",
     "text": [
      "🚀 Training: 100%|██████████| 25/25 [00:00<00:00, 47.86it/s, loss=3.2124]\n",
      "🚀 Validation: 100%|██████████| 4/4 [00:00<00:00, 146.30it/s, loss=3.3442]\n"
     ]
    },
    {
     "name": "stdout",
     "output_type": "stream",
     "text": [
      "[Epoch 72] Train Loss: 3.2200 | Val Loss: 3.7174\n",
      "Epoch 73/150\n"
     ]
    },
    {
     "name": "stderr",
     "output_type": "stream",
     "text": [
      "🚀 Training: 100%|██████████| 25/25 [00:00<00:00, 48.86it/s, loss=3.2734]\n",
      "🚀 Validation: 100%|██████████| 4/4 [00:00<00:00, 147.11it/s, loss=3.3322]\n"
     ]
    },
    {
     "name": "stdout",
     "output_type": "stream",
     "text": [
      "[Epoch 73] Train Loss: 3.2136 | Val Loss: 3.7106\n",
      "Epoch 74/150\n"
     ]
    },
    {
     "name": "stderr",
     "output_type": "stream",
     "text": [
      "🚀 Training: 100%|██████████| 25/25 [00:00<00:00, 48.56it/s, loss=3.3351]\n",
      "🚀 Validation: 100%|██████████| 4/4 [00:00<00:00, 121.08it/s, loss=3.3429]\n"
     ]
    },
    {
     "name": "stdout",
     "output_type": "stream",
     "text": [
      "[Epoch 74] Train Loss: 3.1994 | Val Loss: 3.7208\n",
      "Epoch 75/150\n"
     ]
    },
    {
     "name": "stderr",
     "output_type": "stream",
     "text": [
      "🚀 Training: 100%|██████████| 25/25 [00:00<00:00, 50.40it/s, loss=3.2680]\n",
      "🚀 Validation: 100%|██████████| 4/4 [00:00<00:00, 145.94it/s, loss=3.3406]\n"
     ]
    },
    {
     "name": "stdout",
     "output_type": "stream",
     "text": [
      "[Epoch 75] Train Loss: 3.2025 | Val Loss: 3.7194\n",
      "Epoch 76/150\n"
     ]
    },
    {
     "name": "stderr",
     "output_type": "stream",
     "text": [
      "🚀 Training: 100%|██████████| 25/25 [00:00<00:00, 49.48it/s, loss=3.2350]\n",
      "🚀 Validation: 100%|██████████| 4/4 [00:00<00:00, 147.32it/s, loss=3.3446]\n"
     ]
    },
    {
     "name": "stdout",
     "output_type": "stream",
     "text": [
      "[Epoch 76] Train Loss: 3.1946 | Val Loss: 3.7218\n",
      "Epoch 77/150\n"
     ]
    },
    {
     "name": "stderr",
     "output_type": "stream",
     "text": [
      "🚀 Training: 100%|██████████| 25/25 [00:00<00:00, 49.01it/s, loss=3.0595]\n",
      "🚀 Validation: 100%|██████████| 4/4 [00:00<00:00, 144.36it/s, loss=3.3404]\n"
     ]
    },
    {
     "name": "stdout",
     "output_type": "stream",
     "text": [
      "[Epoch 77] Train Loss: 3.1880 | Val Loss: 3.7242\n",
      "Epoch 78/150\n"
     ]
    },
    {
     "name": "stderr",
     "output_type": "stream",
     "text": [
      "🚀 Training: 100%|██████████| 25/25 [00:00<00:00, 48.66it/s, loss=3.1940]\n",
      "🚀 Validation: 100%|██████████| 4/4 [00:00<00:00, 157.90it/s, loss=3.3355]\n"
     ]
    },
    {
     "name": "stdout",
     "output_type": "stream",
     "text": [
      "[Epoch 78] Train Loss: 3.1915 | Val Loss: 3.7195\n",
      "Epoch 79/150\n"
     ]
    },
    {
     "name": "stderr",
     "output_type": "stream",
     "text": [
      "🚀 Training: 100%|██████████| 25/25 [00:00<00:00, 47.86it/s, loss=3.2535]\n",
      "🚀 Validation: 100%|██████████| 4/4 [00:00<00:00, 129.68it/s, loss=3.3335]\n"
     ]
    },
    {
     "name": "stdout",
     "output_type": "stream",
     "text": [
      "[Epoch 79] Train Loss: 3.1780 | Val Loss: 3.7167\n",
      "Epoch 80/150\n"
     ]
    },
    {
     "name": "stderr",
     "output_type": "stream",
     "text": [
      "🚀 Training: 100%|██████████| 25/25 [00:00<00:00, 48.00it/s, loss=3.2212]\n",
      "🚀 Validation: 100%|██████████| 4/4 [00:00<00:00, 142.46it/s, loss=3.3254]\n"
     ]
    },
    {
     "name": "stdout",
     "output_type": "stream",
     "text": [
      "[Epoch 80] Train Loss: 3.1780 | Val Loss: 3.7190\n",
      "Epoch 81/150\n"
     ]
    },
    {
     "name": "stderr",
     "output_type": "stream",
     "text": [
      "🚀 Training: 100%|██████████| 25/25 [00:00<00:00, 48.17it/s, loss=3.1231]\n",
      "🚀 Validation: 100%|██████████| 4/4 [00:00<00:00, 133.73it/s, loss=3.3438]\n"
     ]
    },
    {
     "name": "stdout",
     "output_type": "stream",
     "text": [
      "[Epoch 81] Train Loss: 3.1723 | Val Loss: 3.7273\n",
      "Epoch 82/150\n"
     ]
    },
    {
     "name": "stderr",
     "output_type": "stream",
     "text": [
      "🚀 Training: 100%|██████████| 25/25 [00:00<00:00, 47.87it/s, loss=3.1426]\n",
      "🚀 Validation: 100%|██████████| 4/4 [00:00<00:00, 125.90it/s, loss=3.3334]\n"
     ]
    },
    {
     "name": "stdout",
     "output_type": "stream",
     "text": [
      "[Epoch 82] Train Loss: 3.1714 | Val Loss: 3.7189\n",
      "Epoch 83/150\n"
     ]
    },
    {
     "name": "stderr",
     "output_type": "stream",
     "text": [
      "🚀 Training: 100%|██████████| 25/25 [00:00<00:00, 48.75it/s, loss=3.2263]\n",
      "🚀 Validation: 100%|██████████| 4/4 [00:00<00:00, 143.34it/s, loss=3.3407]\n"
     ]
    },
    {
     "name": "stdout",
     "output_type": "stream",
     "text": [
      "[Epoch 83] Train Loss: 3.1633 | Val Loss: 3.7287\n",
      "Epoch 84/150\n"
     ]
    },
    {
     "name": "stderr",
     "output_type": "stream",
     "text": [
      "🚀 Training: 100%|██████████| 25/25 [00:00<00:00, 48.86it/s, loss=3.1408]\n",
      "🚀 Validation: 100%|██████████| 4/4 [00:00<00:00, 98.68it/s, loss=3.3433]\n"
     ]
    },
    {
     "name": "stdout",
     "output_type": "stream",
     "text": [
      "[Epoch 84] Train Loss: 3.1587 | Val Loss: 3.7297\n",
      "Epoch 85/150\n"
     ]
    },
    {
     "name": "stderr",
     "output_type": "stream",
     "text": [
      "🚀 Training: 100%|██████████| 25/25 [00:00<00:00, 39.09it/s, loss=3.1210]\n",
      "🚀 Validation: 100%|██████████| 4/4 [00:00<00:00, 85.49it/s, loss=3.3275]\n"
     ]
    },
    {
     "name": "stdout",
     "output_type": "stream",
     "text": [
      "[Epoch 85] Train Loss: 3.1553 | Val Loss: 3.7221\n",
      "Epoch 86/150\n"
     ]
    },
    {
     "name": "stderr",
     "output_type": "stream",
     "text": [
      "🚀 Training: 100%|██████████| 25/25 [00:00<00:00, 39.73it/s, loss=3.1639]\n",
      "🚀 Validation: 100%|██████████| 4/4 [00:00<00:00, 112.63it/s, loss=3.3367]\n"
     ]
    },
    {
     "name": "stdout",
     "output_type": "stream",
     "text": [
      "[Epoch 86] Train Loss: 3.1548 | Val Loss: 3.7276\n",
      "Epoch 87/150\n"
     ]
    },
    {
     "name": "stderr",
     "output_type": "stream",
     "text": [
      "🚀 Training: 100%|██████████| 25/25 [00:00<00:00, 38.71it/s, loss=3.2004]\n",
      "🚀 Validation: 100%|██████████| 4/4 [00:00<00:00, 75.81it/s, loss=3.3456]\n"
     ]
    },
    {
     "name": "stdout",
     "output_type": "stream",
     "text": [
      "[Epoch 87] Train Loss: 3.1395 | Val Loss: 3.7256\n",
      "Epoch 88/150\n"
     ]
    },
    {
     "name": "stderr",
     "output_type": "stream",
     "text": [
      "🚀 Training: 100%|██████████| 25/25 [00:00<00:00, 37.84it/s, loss=3.2123]\n",
      "🚀 Validation: 100%|██████████| 4/4 [00:00<00:00, 101.44it/s, loss=3.3511]\n"
     ]
    },
    {
     "name": "stdout",
     "output_type": "stream",
     "text": [
      "[Epoch 88] Train Loss: 3.1407 | Val Loss: 3.7305\n",
      "Epoch 89/150\n"
     ]
    },
    {
     "name": "stderr",
     "output_type": "stream",
     "text": [
      "🚀 Training: 100%|██████████| 25/25 [00:00<00:00, 42.23it/s, loss=3.2230]\n",
      "🚀 Validation: 100%|██████████| 4/4 [00:00<00:00, 107.96it/s, loss=3.3497]\n"
     ]
    },
    {
     "name": "stdout",
     "output_type": "stream",
     "text": [
      "[Epoch 89] Train Loss: 3.1440 | Val Loss: 3.7309\n",
      "Epoch 90/150\n"
     ]
    },
    {
     "name": "stderr",
     "output_type": "stream",
     "text": [
      "🚀 Training: 100%|██████████| 25/25 [00:00<00:00, 40.90it/s, loss=3.1821]\n",
      "🚀 Validation: 100%|██████████| 4/4 [00:00<00:00, 116.72it/s, loss=3.3479]\n"
     ]
    },
    {
     "name": "stdout",
     "output_type": "stream",
     "text": [
      "[Epoch 90] Train Loss: 3.1342 | Val Loss: 3.7296\n",
      "Epoch 91/150\n"
     ]
    },
    {
     "name": "stderr",
     "output_type": "stream",
     "text": [
      "🚀 Training: 100%|██████████| 25/25 [00:00<00:00, 45.21it/s, loss=3.1687]\n",
      "🚀 Validation: 100%|██████████| 4/4 [00:00<00:00, 138.09it/s, loss=3.3579]\n"
     ]
    },
    {
     "name": "stdout",
     "output_type": "stream",
     "text": [
      "[Epoch 91] Train Loss: 3.1304 | Val Loss: 3.7357\n",
      "Epoch 92/150\n"
     ]
    },
    {
     "name": "stderr",
     "output_type": "stream",
     "text": [
      "🚀 Training: 100%|██████████| 25/25 [00:00<00:00, 43.50it/s, loss=3.2200]\n",
      "🚀 Validation: 100%|██████████| 4/4 [00:00<00:00, 135.45it/s, loss=3.3687]\n"
     ]
    },
    {
     "name": "stdout",
     "output_type": "stream",
     "text": [
      "[Epoch 92] Train Loss: 3.1211 | Val Loss: 3.7403\n",
      "Epoch 93/150\n"
     ]
    },
    {
     "name": "stderr",
     "output_type": "stream",
     "text": [
      "🚀 Training: 100%|██████████| 25/25 [00:00<00:00, 47.90it/s, loss=3.1326]\n",
      "🚀 Validation: 100%|██████████| 4/4 [00:00<00:00, 149.50it/s, loss=3.3589]\n"
     ]
    },
    {
     "name": "stdout",
     "output_type": "stream",
     "text": [
      "[Epoch 93] Train Loss: 3.1163 | Val Loss: 3.7355\n",
      "Epoch 94/150\n"
     ]
    },
    {
     "name": "stderr",
     "output_type": "stream",
     "text": [
      "🚀 Training: 100%|██████████| 25/25 [00:00<00:00, 49.11it/s, loss=3.0948]\n",
      "🚀 Validation: 100%|██████████| 4/4 [00:00<00:00, 157.89it/s, loss=3.3604]\n"
     ]
    },
    {
     "name": "stdout",
     "output_type": "stream",
     "text": [
      "[Epoch 94] Train Loss: 3.1139 | Val Loss: 3.7383\n",
      "Epoch 95/150\n"
     ]
    },
    {
     "name": "stderr",
     "output_type": "stream",
     "text": [
      "🚀 Training: 100%|██████████| 25/25 [00:00<00:00, 49.79it/s, loss=2.9875]\n",
      "🚀 Validation: 100%|██████████| 4/4 [00:00<00:00, 160.04it/s, loss=3.3567]\n"
     ]
    },
    {
     "name": "stdout",
     "output_type": "stream",
     "text": [
      "[Epoch 95] Train Loss: 3.1136 | Val Loss: 3.7295\n",
      "Epoch 96/150\n"
     ]
    },
    {
     "name": "stderr",
     "output_type": "stream",
     "text": [
      "🚀 Training: 100%|██████████| 25/25 [00:00<00:00, 50.22it/s, loss=3.0794]\n",
      "🚀 Validation: 100%|██████████| 4/4 [00:00<00:00, 167.00it/s, loss=3.3669]\n"
     ]
    },
    {
     "name": "stdout",
     "output_type": "stream",
     "text": [
      "[Epoch 96] Train Loss: 3.1064 | Val Loss: 3.7412\n",
      "Epoch 97/150\n"
     ]
    },
    {
     "name": "stderr",
     "output_type": "stream",
     "text": [
      "🚀 Training: 100%|██████████| 25/25 [00:00<00:00, 50.44it/s, loss=3.0448]\n",
      "🚀 Validation: 100%|██████████| 4/4 [00:00<00:00, 166.09it/s, loss=3.3591]\n"
     ]
    },
    {
     "name": "stdout",
     "output_type": "stream",
     "text": [
      "[Epoch 97] Train Loss: 3.1035 | Val Loss: 3.7408\n",
      "Epoch 98/150\n"
     ]
    },
    {
     "name": "stderr",
     "output_type": "stream",
     "text": [
      "🚀 Training: 100%|██████████| 25/25 [00:00<00:00, 50.23it/s, loss=3.0868]\n",
      "🚀 Validation: 100%|██████████| 4/4 [00:00<00:00, 159.22it/s, loss=3.3634]\n"
     ]
    },
    {
     "name": "stdout",
     "output_type": "stream",
     "text": [
      "[Epoch 98] Train Loss: 3.0966 | Val Loss: 3.7394\n",
      "Epoch 99/150\n"
     ]
    },
    {
     "name": "stderr",
     "output_type": "stream",
     "text": [
      "🚀 Training: 100%|██████████| 25/25 [00:00<00:00, 50.23it/s, loss=3.0806]\n",
      "🚀 Validation: 100%|██████████| 4/4 [00:00<00:00, 146.81it/s, loss=3.3606]\n"
     ]
    },
    {
     "name": "stdout",
     "output_type": "stream",
     "text": [
      "[Epoch 99] Train Loss: 3.0982 | Val Loss: 3.7385\n",
      "Epoch 100/150\n"
     ]
    },
    {
     "name": "stderr",
     "output_type": "stream",
     "text": [
      "🚀 Training: 100%|██████████| 25/25 [00:00<00:00, 50.23it/s, loss=3.1216]\n",
      "🚀 Validation: 100%|██████████| 4/4 [00:00<00:00, 145.14it/s, loss=3.3575]\n"
     ]
    },
    {
     "name": "stdout",
     "output_type": "stream",
     "text": [
      "[Epoch 100] Train Loss: 3.0925 | Val Loss: 3.7371\n",
      "Epoch 101/150\n"
     ]
    },
    {
     "name": "stderr",
     "output_type": "stream",
     "text": [
      "🚀 Training: 100%|██████████| 25/25 [00:00<00:00, 50.19it/s, loss=3.0725]\n",
      "🚀 Validation: 100%|██████████| 4/4 [00:00<00:00, 163.49it/s, loss=3.3574]\n"
     ]
    },
    {
     "name": "stdout",
     "output_type": "stream",
     "text": [
      "[Epoch 101] Train Loss: 3.0906 | Val Loss: 3.7402\n",
      "Epoch 102/150\n"
     ]
    },
    {
     "name": "stderr",
     "output_type": "stream",
     "text": [
      "🚀 Training: 100%|██████████| 25/25 [00:00<00:00, 49.73it/s, loss=3.0103]\n",
      "🚀 Validation: 100%|██████████| 4/4 [00:00<00:00, 164.12it/s, loss=3.3477]\n"
     ]
    },
    {
     "name": "stdout",
     "output_type": "stream",
     "text": [
      "[Epoch 102] Train Loss: 3.0873 | Val Loss: 3.7384\n",
      "Epoch 103/150\n"
     ]
    },
    {
     "name": "stderr",
     "output_type": "stream",
     "text": [
      "🚀 Training: 100%|██████████| 25/25 [00:00<00:00, 50.38it/s, loss=3.0964]\n",
      "🚀 Validation: 100%|██████████| 4/4 [00:00<00:00, 149.75it/s, loss=3.3504]\n"
     ]
    },
    {
     "name": "stdout",
     "output_type": "stream",
     "text": [
      "[Epoch 103] Train Loss: 3.0852 | Val Loss: 3.7432\n",
      "Epoch 104/150\n"
     ]
    },
    {
     "name": "stderr",
     "output_type": "stream",
     "text": [
      "🚀 Training: 100%|██████████| 25/25 [00:00<00:00, 50.25it/s, loss=3.0406]\n",
      "🚀 Validation: 100%|██████████| 4/4 [00:00<00:00, 157.22it/s, loss=3.3498]\n"
     ]
    },
    {
     "name": "stdout",
     "output_type": "stream",
     "text": [
      "[Epoch 104] Train Loss: 3.0777 | Val Loss: 3.7475\n",
      "Epoch 105/150\n"
     ]
    },
    {
     "name": "stderr",
     "output_type": "stream",
     "text": [
      "🚀 Training: 100%|██████████| 25/25 [00:00<00:00, 51.25it/s, loss=3.0604]\n",
      "🚀 Validation: 100%|██████████| 4/4 [00:00<00:00, 163.80it/s, loss=3.3552]\n"
     ]
    },
    {
     "name": "stdout",
     "output_type": "stream",
     "text": [
      "[Epoch 105] Train Loss: 3.0797 | Val Loss: 3.7419\n",
      "Epoch 106/150\n"
     ]
    },
    {
     "name": "stderr",
     "output_type": "stream",
     "text": [
      "🚀 Training: 100%|██████████| 25/25 [00:00<00:00, 50.60it/s, loss=3.0715]\n",
      "🚀 Validation: 100%|██████████| 4/4 [00:00<00:00, 165.22it/s, loss=3.3593]\n"
     ]
    },
    {
     "name": "stdout",
     "output_type": "stream",
     "text": [
      "[Epoch 106] Train Loss: 3.0758 | Val Loss: 3.7512\n",
      "Epoch 107/150\n"
     ]
    },
    {
     "name": "stderr",
     "output_type": "stream",
     "text": [
      "🚀 Training: 100%|██████████| 25/25 [00:00<00:00, 50.13it/s, loss=3.0106]\n",
      "🚀 Validation: 100%|██████████| 4/4 [00:00<00:00, 141.10it/s, loss=3.3719]\n"
     ]
    },
    {
     "name": "stdout",
     "output_type": "stream",
     "text": [
      "[Epoch 107] Train Loss: 3.0660 | Val Loss: 3.7565\n",
      "Epoch 108/150\n"
     ]
    },
    {
     "name": "stderr",
     "output_type": "stream",
     "text": [
      "🚀 Training: 100%|██████████| 25/25 [00:00<00:00, 50.32it/s, loss=3.0919]\n",
      "🚀 Validation: 100%|██████████| 4/4 [00:00<00:00, 166.42it/s, loss=3.3438]\n"
     ]
    },
    {
     "name": "stdout",
     "output_type": "stream",
     "text": [
      "[Epoch 108] Train Loss: 3.0669 | Val Loss: 3.7451\n",
      "Epoch 109/150\n"
     ]
    },
    {
     "name": "stderr",
     "output_type": "stream",
     "text": [
      "🚀 Training: 100%|██████████| 25/25 [00:00<00:00, 48.66it/s, loss=3.0702]\n",
      "🚀 Validation: 100%|██████████| 4/4 [00:00<00:00, 108.20it/s, loss=3.3549]\n"
     ]
    },
    {
     "name": "stdout",
     "output_type": "stream",
     "text": [
      "[Epoch 109] Train Loss: 3.0624 | Val Loss: 3.7501\n",
      "Epoch 110/150\n"
     ]
    },
    {
     "name": "stderr",
     "output_type": "stream",
     "text": [
      "🚀 Training: 100%|██████████| 25/25 [00:00<00:00, 46.26it/s, loss=3.1175]\n",
      "🚀 Validation: 100%|██████████| 4/4 [00:00<00:00, 118.02it/s, loss=3.3556]\n"
     ]
    },
    {
     "name": "stdout",
     "output_type": "stream",
     "text": [
      "[Epoch 110] Train Loss: 3.0578 | Val Loss: 3.7467\n",
      "Epoch 111/150\n"
     ]
    },
    {
     "name": "stderr",
     "output_type": "stream",
     "text": [
      "🚀 Training: 100%|██████████| 25/25 [00:00<00:00, 48.24it/s, loss=3.0018]\n",
      "🚀 Validation: 100%|██████████| 4/4 [00:00<00:00, 151.85it/s, loss=3.3604]\n"
     ]
    },
    {
     "name": "stdout",
     "output_type": "stream",
     "text": [
      "[Epoch 111] Train Loss: 3.0595 | Val Loss: 3.7504\n",
      "Epoch 112/150\n"
     ]
    },
    {
     "name": "stderr",
     "output_type": "stream",
     "text": [
      "🚀 Training: 100%|██████████| 25/25 [00:00<00:00, 45.99it/s, loss=3.0426]\n",
      "🚀 Validation: 100%|██████████| 4/4 [00:00<00:00, 106.05it/s, loss=3.3741]\n"
     ]
    },
    {
     "name": "stdout",
     "output_type": "stream",
     "text": [
      "[Epoch 112] Train Loss: 3.0500 | Val Loss: 3.7548\n",
      "Epoch 113/150\n"
     ]
    },
    {
     "name": "stderr",
     "output_type": "stream",
     "text": [
      "🚀 Training: 100%|██████████| 25/25 [00:00<00:00, 46.99it/s, loss=2.9607]\n",
      "🚀 Validation: 100%|██████████| 4/4 [00:00<00:00, 153.99it/s, loss=3.3692]\n"
     ]
    },
    {
     "name": "stdout",
     "output_type": "stream",
     "text": [
      "[Epoch 113] Train Loss: 3.0491 | Val Loss: 3.7522\n",
      "Epoch 114/150\n"
     ]
    },
    {
     "name": "stderr",
     "output_type": "stream",
     "text": [
      "🚀 Training: 100%|██████████| 25/25 [00:00<00:00, 47.58it/s, loss=3.0353]\n",
      "🚀 Validation: 100%|██████████| 4/4 [00:00<00:00, 153.72it/s, loss=3.3713]\n"
     ]
    },
    {
     "name": "stdout",
     "output_type": "stream",
     "text": [
      "[Epoch 114] Train Loss: 3.0489 | Val Loss: 3.7550\n",
      "Epoch 115/150\n"
     ]
    },
    {
     "name": "stderr",
     "output_type": "stream",
     "text": [
      "🚀 Training: 100%|██████████| 25/25 [00:00<00:00, 48.39it/s, loss=3.1130]\n",
      "🚀 Validation: 100%|██████████| 4/4 [00:00<00:00, 117.88it/s, loss=3.3692]\n"
     ]
    },
    {
     "name": "stdout",
     "output_type": "stream",
     "text": [
      "[Epoch 115] Train Loss: 3.0393 | Val Loss: 3.7653\n",
      "Epoch 116/150\n"
     ]
    },
    {
     "name": "stderr",
     "output_type": "stream",
     "text": [
      "🚀 Training: 100%|██████████| 25/25 [00:00<00:00, 48.61it/s, loss=2.9869]\n",
      "🚀 Validation: 100%|██████████| 4/4 [00:00<00:00, 148.90it/s, loss=3.3718]\n"
     ]
    },
    {
     "name": "stdout",
     "output_type": "stream",
     "text": [
      "[Epoch 116] Train Loss: 3.0369 | Val Loss: 3.7634\n",
      "Epoch 117/150\n"
     ]
    },
    {
     "name": "stderr",
     "output_type": "stream",
     "text": [
      "🚀 Training: 100%|██████████| 25/25 [00:00<00:00, 46.19it/s, loss=3.1048]\n",
      "🚀 Validation: 100%|██████████| 4/4 [00:00<00:00, 121.41it/s, loss=3.3927]\n"
     ]
    },
    {
     "name": "stdout",
     "output_type": "stream",
     "text": [
      "[Epoch 117] Train Loss: 3.0385 | Val Loss: 3.7652\n",
      "Epoch 118/150\n"
     ]
    },
    {
     "name": "stderr",
     "output_type": "stream",
     "text": [
      "🚀 Training: 100%|██████████| 25/25 [00:00<00:00, 48.26it/s, loss=3.1070]\n",
      "🚀 Validation: 100%|██████████| 4/4 [00:00<00:00, 147.59it/s, loss=3.3926]\n"
     ]
    },
    {
     "name": "stdout",
     "output_type": "stream",
     "text": [
      "[Epoch 118] Train Loss: 3.0299 | Val Loss: 3.7585\n",
      "Epoch 119/150\n"
     ]
    },
    {
     "name": "stderr",
     "output_type": "stream",
     "text": [
      "🚀 Training: 100%|██████████| 25/25 [00:00<00:00, 48.64it/s, loss=3.0882]\n",
      "🚀 Validation: 100%|██████████| 4/4 [00:00<00:00, 151.76it/s, loss=3.3897]\n"
     ]
    },
    {
     "name": "stdout",
     "output_type": "stream",
     "text": [
      "[Epoch 119] Train Loss: 3.0320 | Val Loss: 3.7564\n",
      "Epoch 120/150\n"
     ]
    },
    {
     "name": "stderr",
     "output_type": "stream",
     "text": [
      "🚀 Training: 100%|██████████| 25/25 [00:00<00:00, 48.57it/s, loss=3.0058]\n",
      "🚀 Validation: 100%|██████████| 4/4 [00:00<00:00, 114.25it/s, loss=3.3824]\n"
     ]
    },
    {
     "name": "stdout",
     "output_type": "stream",
     "text": [
      "[Epoch 120] Train Loss: 3.0319 | Val Loss: 3.7546\n",
      "Epoch 121/150\n"
     ]
    },
    {
     "name": "stderr",
     "output_type": "stream",
     "text": [
      "🚀 Training: 100%|██████████| 25/25 [00:00<00:00, 48.88it/s, loss=3.0524]\n",
      "🚀 Validation: 100%|██████████| 4/4 [00:00<00:00, 130.76it/s, loss=3.3941]\n"
     ]
    },
    {
     "name": "stdout",
     "output_type": "stream",
     "text": [
      "[Epoch 121] Train Loss: 3.0258 | Val Loss: 3.7678\n",
      "Epoch 122/150\n"
     ]
    },
    {
     "name": "stderr",
     "output_type": "stream",
     "text": [
      "🚀 Training: 100%|██████████| 25/25 [00:00<00:00, 49.03it/s, loss=3.0081]\n",
      "🚀 Validation: 100%|██████████| 4/4 [00:00<00:00, 132.68it/s, loss=3.3988]\n"
     ]
    },
    {
     "name": "stdout",
     "output_type": "stream",
     "text": [
      "[Epoch 122] Train Loss: 3.0242 | Val Loss: 3.7689\n",
      "Epoch 123/150\n"
     ]
    },
    {
     "name": "stderr",
     "output_type": "stream",
     "text": [
      "🚀 Training: 100%|██████████| 25/25 [00:00<00:00, 48.24it/s, loss=3.0367]\n",
      "🚀 Validation: 100%|██████████| 4/4 [00:00<00:00, 129.69it/s, loss=3.3851]\n"
     ]
    },
    {
     "name": "stdout",
     "output_type": "stream",
     "text": [
      "[Epoch 123] Train Loss: 3.0107 | Val Loss: 3.7619\n",
      "Epoch 124/150\n"
     ]
    },
    {
     "name": "stderr",
     "output_type": "stream",
     "text": [
      "🚀 Training: 100%|██████████| 25/25 [00:00<00:00, 48.24it/s, loss=2.9519]\n",
      "🚀 Validation: 100%|██████████| 4/4 [00:00<00:00, 140.33it/s, loss=3.3830]\n"
     ]
    },
    {
     "name": "stdout",
     "output_type": "stream",
     "text": [
      "[Epoch 124] Train Loss: 3.0130 | Val Loss: 3.7603\n",
      "Epoch 125/150\n"
     ]
    },
    {
     "name": "stderr",
     "output_type": "stream",
     "text": [
      "🚀 Training: 100%|██████████| 25/25 [00:00<00:00, 48.72it/s, loss=3.0916]\n",
      "🚀 Validation: 100%|██████████| 4/4 [00:00<00:00, 143.21it/s, loss=3.3912]\n"
     ]
    },
    {
     "name": "stdout",
     "output_type": "stream",
     "text": [
      "[Epoch 125] Train Loss: 3.0145 | Val Loss: 3.7648\n",
      "Epoch 126/150\n"
     ]
    },
    {
     "name": "stderr",
     "output_type": "stream",
     "text": [
      "🚀 Training: 100%|██████████| 25/25 [00:00<00:00, 48.25it/s, loss=3.0998]\n",
      "🚀 Validation: 100%|██████████| 4/4 [00:00<00:00, 158.54it/s, loss=3.3916]\n"
     ]
    },
    {
     "name": "stdout",
     "output_type": "stream",
     "text": [
      "[Epoch 126] Train Loss: 3.0105 | Val Loss: 3.7710\n",
      "Epoch 127/150\n"
     ]
    },
    {
     "name": "stderr",
     "output_type": "stream",
     "text": [
      "🚀 Training: 100%|██████████| 25/25 [00:00<00:00, 49.08it/s, loss=2.9510]\n",
      "🚀 Validation: 100%|██████████| 4/4 [00:00<00:00, 137.39it/s, loss=3.3861]\n"
     ]
    },
    {
     "name": "stdout",
     "output_type": "stream",
     "text": [
      "[Epoch 127] Train Loss: 3.0000 | Val Loss: 3.7701\n",
      "Epoch 128/150\n"
     ]
    },
    {
     "name": "stderr",
     "output_type": "stream",
     "text": [
      "🚀 Training: 100%|██████████| 25/25 [00:00<00:00, 48.16it/s, loss=2.9519]\n",
      "🚀 Validation: 100%|██████████| 4/4 [00:00<00:00, 128.38it/s, loss=3.3763]\n"
     ]
    },
    {
     "name": "stdout",
     "output_type": "stream",
     "text": [
      "[Epoch 128] Train Loss: 2.9964 | Val Loss: 3.7632\n",
      "Epoch 129/150\n"
     ]
    },
    {
     "name": "stderr",
     "output_type": "stream",
     "text": [
      "🚀 Training: 100%|██████████| 25/25 [00:00<00:00, 48.09it/s, loss=3.0766]\n",
      "🚀 Validation: 100%|██████████| 4/4 [00:00<00:00, 125.42it/s, loss=3.3872]\n"
     ]
    },
    {
     "name": "stdout",
     "output_type": "stream",
     "text": [
      "[Epoch 129] Train Loss: 3.0006 | Val Loss: 3.7713\n",
      "Epoch 130/150\n"
     ]
    },
    {
     "name": "stderr",
     "output_type": "stream",
     "text": [
      "🚀 Training: 100%|██████████| 25/25 [00:00<00:00, 48.37it/s, loss=2.9047]\n",
      "🚀 Validation: 100%|██████████| 4/4 [00:00<00:00, 140.04it/s, loss=3.3802]\n"
     ]
    },
    {
     "name": "stdout",
     "output_type": "stream",
     "text": [
      "[Epoch 130] Train Loss: 2.9932 | Val Loss: 3.7650\n",
      "Epoch 131/150\n"
     ]
    },
    {
     "name": "stderr",
     "output_type": "stream",
     "text": [
      "🚀 Training: 100%|██████████| 25/25 [00:00<00:00, 49.38it/s, loss=3.0904]\n",
      "🚀 Validation: 100%|██████████| 4/4 [00:00<00:00, 152.50it/s, loss=3.3822]\n"
     ]
    },
    {
     "name": "stdout",
     "output_type": "stream",
     "text": [
      "[Epoch 131] Train Loss: 2.9960 | Val Loss: 3.7689\n",
      "Epoch 132/150\n"
     ]
    },
    {
     "name": "stderr",
     "output_type": "stream",
     "text": [
      "🚀 Training: 100%|██████████| 25/25 [00:00<00:00, 48.88it/s, loss=2.9769]\n",
      "🚀 Validation: 100%|██████████| 4/4 [00:00<00:00, 117.07it/s, loss=3.3790]\n"
     ]
    },
    {
     "name": "stdout",
     "output_type": "stream",
     "text": [
      "[Epoch 132] Train Loss: 2.9882 | Val Loss: 3.7700\n",
      "Epoch 133/150\n"
     ]
    },
    {
     "name": "stderr",
     "output_type": "stream",
     "text": [
      "🚀 Training: 100%|██████████| 25/25 [00:00<00:00, 48.04it/s, loss=3.0946]\n",
      "🚀 Validation: 100%|██████████| 4/4 [00:00<00:00, 127.15it/s, loss=3.3763]\n"
     ]
    },
    {
     "name": "stdout",
     "output_type": "stream",
     "text": [
      "[Epoch 133] Train Loss: 2.9923 | Val Loss: 3.7701\n",
      "Epoch 134/150\n"
     ]
    },
    {
     "name": "stderr",
     "output_type": "stream",
     "text": [
      "🚀 Training: 100%|██████████| 25/25 [00:00<00:00, 48.12it/s, loss=3.0374]\n",
      "🚀 Validation: 100%|██████████| 4/4 [00:00<00:00, 114.15it/s, loss=3.3923]\n"
     ]
    },
    {
     "name": "stdout",
     "output_type": "stream",
     "text": [
      "[Epoch 134] Train Loss: 2.9813 | Val Loss: 3.7740\n",
      "Epoch 135/150\n"
     ]
    },
    {
     "name": "stderr",
     "output_type": "stream",
     "text": [
      "🚀 Training: 100%|██████████| 25/25 [00:00<00:00, 47.97it/s, loss=3.0925]\n",
      "🚀 Validation: 100%|██████████| 4/4 [00:00<00:00, 129.65it/s, loss=3.3851]\n"
     ]
    },
    {
     "name": "stdout",
     "output_type": "stream",
     "text": [
      "[Epoch 135] Train Loss: 2.9794 | Val Loss: 3.7722\n",
      "Epoch 136/150\n"
     ]
    },
    {
     "name": "stderr",
     "output_type": "stream",
     "text": [
      "🚀 Training: 100%|██████████| 25/25 [00:00<00:00, 49.18it/s, loss=2.8880]\n",
      "🚀 Validation: 100%|██████████| 4/4 [00:00<00:00, 129.82it/s, loss=3.3821]\n"
     ]
    },
    {
     "name": "stdout",
     "output_type": "stream",
     "text": [
      "[Epoch 136] Train Loss: 2.9837 | Val Loss: 3.7758\n",
      "Epoch 137/150\n"
     ]
    },
    {
     "name": "stderr",
     "output_type": "stream",
     "text": [
      "🚀 Training: 100%|██████████| 25/25 [00:00<00:00, 48.95it/s, loss=3.0030]\n",
      "🚀 Validation: 100%|██████████| 4/4 [00:00<00:00, 136.39it/s, loss=3.3770]\n"
     ]
    },
    {
     "name": "stdout",
     "output_type": "stream",
     "text": [
      "[Epoch 137] Train Loss: 2.9731 | Val Loss: 3.7750\n",
      "Epoch 138/150\n"
     ]
    },
    {
     "name": "stderr",
     "output_type": "stream",
     "text": [
      "🚀 Training: 100%|██████████| 25/25 [00:00<00:00, 47.76it/s, loss=2.9382]\n",
      "🚀 Validation: 100%|██████████| 4/4 [00:00<00:00, 146.77it/s, loss=3.3747]\n"
     ]
    },
    {
     "name": "stdout",
     "output_type": "stream",
     "text": [
      "[Epoch 138] Train Loss: 2.9726 | Val Loss: 3.7787\n",
      "Epoch 139/150\n"
     ]
    },
    {
     "name": "stderr",
     "output_type": "stream",
     "text": [
      "🚀 Training: 100%|██████████| 25/25 [00:00<00:00, 46.62it/s, loss=2.9280]\n",
      "🚀 Validation: 100%|██████████| 4/4 [00:00<00:00, 127.05it/s, loss=3.3938]\n"
     ]
    },
    {
     "name": "stdout",
     "output_type": "stream",
     "text": [
      "[Epoch 139] Train Loss: 2.9697 | Val Loss: 3.7844\n",
      "Epoch 140/150\n"
     ]
    },
    {
     "name": "stderr",
     "output_type": "stream",
     "text": [
      "🚀 Training: 100%|██████████| 25/25 [00:00<00:00, 46.15it/s, loss=2.8705]\n",
      "🚀 Validation: 100%|██████████| 4/4 [00:00<00:00, 142.63it/s, loss=3.3911]\n"
     ]
    },
    {
     "name": "stdout",
     "output_type": "stream",
     "text": [
      "[Epoch 140] Train Loss: 2.9655 | Val Loss: 3.7853\n",
      "Epoch 141/150\n"
     ]
    },
    {
     "name": "stderr",
     "output_type": "stream",
     "text": [
      "🚀 Training: 100%|██████████| 25/25 [00:00<00:00, 47.06it/s, loss=2.9071]\n",
      "🚀 Validation: 100%|██████████| 4/4 [00:00<00:00, 122.42it/s, loss=3.3749]\n"
     ]
    },
    {
     "name": "stdout",
     "output_type": "stream",
     "text": [
      "[Epoch 141] Train Loss: 2.9700 | Val Loss: 3.7756\n",
      "Epoch 142/150\n"
     ]
    },
    {
     "name": "stderr",
     "output_type": "stream",
     "text": [
      "🚀 Training: 100%|██████████| 25/25 [00:00<00:00, 47.90it/s, loss=3.0291]\n",
      "🚀 Validation: 100%|██████████| 4/4 [00:00<00:00, 121.47it/s, loss=3.3865]\n"
     ]
    },
    {
     "name": "stdout",
     "output_type": "stream",
     "text": [
      "[Epoch 142] Train Loss: 2.9603 | Val Loss: 3.7806\n",
      "Epoch 143/150\n"
     ]
    },
    {
     "name": "stderr",
     "output_type": "stream",
     "text": [
      "🚀 Training: 100%|██████████| 25/25 [00:00<00:00, 47.21it/s, loss=2.9160]\n",
      "🚀 Validation: 100%|██████████| 4/4 [00:00<00:00, 134.63it/s, loss=3.3881]\n"
     ]
    },
    {
     "name": "stdout",
     "output_type": "stream",
     "text": [
      "[Epoch 143] Train Loss: 2.9581 | Val Loss: 3.7874\n",
      "Epoch 144/150\n"
     ]
    },
    {
     "name": "stderr",
     "output_type": "stream",
     "text": [
      "🚀 Training: 100%|██████████| 25/25 [00:00<00:00, 47.14it/s, loss=2.8975]\n",
      "🚀 Validation: 100%|██████████| 4/4 [00:00<00:00, 141.63it/s, loss=3.3726]\n"
     ]
    },
    {
     "name": "stdout",
     "output_type": "stream",
     "text": [
      "[Epoch 144] Train Loss: 2.9624 | Val Loss: 3.7790\n",
      "Epoch 145/150\n"
     ]
    },
    {
     "name": "stderr",
     "output_type": "stream",
     "text": [
      "🚀 Training: 100%|██████████| 25/25 [00:00<00:00, 48.61it/s, loss=2.9585]\n",
      "🚀 Validation: 100%|██████████| 4/4 [00:00<00:00, 141.47it/s, loss=3.4050]\n"
     ]
    },
    {
     "name": "stdout",
     "output_type": "stream",
     "text": [
      "[Epoch 145] Train Loss: 2.9546 | Val Loss: 3.7862\n",
      "Epoch 146/150\n"
     ]
    },
    {
     "name": "stderr",
     "output_type": "stream",
     "text": [
      "🚀 Training: 100%|██████████| 25/25 [00:00<00:00, 45.63it/s, loss=2.9637]\n",
      "🚀 Validation: 100%|██████████| 4/4 [00:00<00:00, 122.15it/s, loss=3.3936]\n"
     ]
    },
    {
     "name": "stdout",
     "output_type": "stream",
     "text": [
      "[Epoch 146] Train Loss: 2.9509 | Val Loss: 3.7806\n",
      "Epoch 147/150\n"
     ]
    },
    {
     "name": "stderr",
     "output_type": "stream",
     "text": [
      "🚀 Training: 100%|██████████| 25/25 [00:00<00:00, 44.16it/s, loss=2.9303]\n",
      "🚀 Validation: 100%|██████████| 4/4 [00:00<00:00, 130.97it/s, loss=3.3967]\n"
     ]
    },
    {
     "name": "stdout",
     "output_type": "stream",
     "text": [
      "[Epoch 147] Train Loss: 2.9493 | Val Loss: 3.7820\n",
      "Epoch 148/150\n"
     ]
    },
    {
     "name": "stderr",
     "output_type": "stream",
     "text": [
      "🚀 Training: 100%|██████████| 25/25 [00:00<00:00, 45.29it/s, loss=2.8708]\n",
      "🚀 Validation: 100%|██████████| 4/4 [00:00<00:00, 106.01it/s, loss=3.3878]\n"
     ]
    },
    {
     "name": "stdout",
     "output_type": "stream",
     "text": [
      "[Epoch 148] Train Loss: 2.9477 | Val Loss: 3.7840\n",
      "Epoch 149/150\n"
     ]
    },
    {
     "name": "stderr",
     "output_type": "stream",
     "text": [
      "🚀 Training: 100%|██████████| 25/25 [00:00<00:00, 46.21it/s, loss=2.9174]\n",
      "🚀 Validation: 100%|██████████| 4/4 [00:00<00:00, 132.59it/s, loss=3.3915]\n"
     ]
    },
    {
     "name": "stdout",
     "output_type": "stream",
     "text": [
      "[Epoch 149] Train Loss: 2.9398 | Val Loss: 3.7869\n",
      "Epoch 150/150\n"
     ]
    },
    {
     "name": "stderr",
     "output_type": "stream",
     "text": [
      "🚀 Training: 100%|██████████| 25/25 [00:00<00:00, 49.09it/s, loss=2.9389]\n",
      "🚀 Validation: 100%|██████████| 4/4 [00:00<00:00, 122.05it/s, loss=3.3804]\n"
     ]
    },
    {
     "name": "stdout",
     "output_type": "stream",
     "text": [
      "[Epoch 150] Train Loss: 2.9387 | Val Loss: 3.7830\n",
      "Loss plot saved to saved/loss_sp.png\n"
     ]
    }
   ],
   "source": [
    "import os\n",
    "import torch\n",
    "from tqdm import tqdm\n",
    "os.makedirs(SAVE_DIR, exist_ok=True)\n",
    "best_val_loss = float(\"inf\") \n",
    "best_model_path = None\n",
    "atl = {}\n",
    "avl = {}\n",
    "for epoch in range(1, EPOCHS + 1):\n",
    "    print(f\"Epoch {epoch}/{EPOCHS}\")\n",
    "    model.train()\n",
    "    total_train_loss = 0.0\n",
    "    train_bar = tqdm(train_loader, desc=\"🚀 Training\", \n",
    "                leave=True, total=len(train_loader))\n",
    "    for batch in train_bar:\n",
    "        optimizer.zero_grad()\n",
    "        src_batch = batch['src'].to(device)\n",
    "        tgt_batch = batch['tgt'].to(device)\n",
    "        \n",
    "        output, _ = model(src_batch, tgt_batch[:, :-1]) \n",
    "        output_dim = output.shape[-1]\n",
    "        output = output.reshape(-1, output_dim)\n",
    "        tgt_y = tgt_batch[:,1:].contiguous().view(-1)\n",
    "        loss = criterion(output, tgt_y)\n",
    "        loss.backward()\n",
    "        optimizer.step()\n",
    "        total_train_loss += loss.item()\n",
    "        train_bar.set_postfix(loss=f\"{loss.item():.4f}\")\n",
    "\n",
    "    avg_train_loss = total_train_loss / len(train_loader)\n",
    "    atl[epoch]=avg_train_loss\n",
    "    model.eval()\n",
    "    total_val_loss = 0.0\n",
    "    val_bar = tqdm(val_loader, desc=\"🚀 Validation\",\n",
    "              leave=True, total=len(val_loader))\n",
    "    with torch.no_grad():\n",
    "        for batch in val_bar:\n",
    "            src_batch = batch['src'].to(device)\n",
    "            tgt_batch = batch['tgt'].to(device)\n",
    "            \n",
    "            output, _ = model(src_batch, tgt_batch[:, :-1]) \n",
    "            output_dim = output.shape[-1]\n",
    "            output = output.reshape(-1, output_dim)\n",
    "            tgt_y = tgt_batch[:,1:].contiguous().view(-1)\n",
    "\n",
    "            loss = criterion(output, tgt_y)\n",
    "            total_val_loss += loss.item()\n",
    "            val_bar.set_postfix(loss=f\"{loss.item():.4f}\")\n",
    "    \n",
    "    avg_val_loss = total_val_loss / len(val_loader)\n",
    "    avl[epoch]=avg_val_loss\n",
    "    print(f\"[Epoch {epoch}] Train Loss: {avg_train_loss:.4f} | Val Loss: {avg_val_loss:.4f}\")\n",
    "    if avg_val_loss < best_val_loss:\n",
    "        if best_model_path and os.path.exists(best_model_path):\n",
    "            os.remove(best_model_path)\n",
    "        best_val_loss = avg_val_loss\n",
    "        best_model_path = os.path.join(SAVE_DIR, \"best_sp.pt\")\n",
    "        torch.save(model.state_dict(), best_model_path)\n",
    "        print(f\"  -> New best model saved at {best_model_path}\")\n",
    "\n",
    "utils.plot_loss(atl, avl, SAVE_DIR,\"loss_sp\")\n"
   ]
  },
  {
   "cell_type": "code",
   "execution_count": null,
   "metadata": {},
   "outputs": [],
   "source": []
  }
 ],
 "metadata": {
  "kernelspec": {
   "display_name": "torch_env",
   "language": "python",
   "name": "python3"
  },
  "language_info": {
   "codemirror_mode": {
    "name": "ipython",
    "version": 3
   },
   "file_extension": ".py",
   "mimetype": "text/x-python",
   "name": "python",
   "nbconvert_exporter": "python",
   "pygments_lexer": "ipython3",
   "version": "3.10.16"
  }
 },
 "nbformat": 4,
 "nbformat_minor": 2
}

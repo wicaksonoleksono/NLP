{
 "cells": [
  {
   "cell_type": "code",
   "execution_count": 1,
   "metadata": {},
   "outputs": [
    {
     "name": "stderr",
     "output_type": "stream",
     "text": [
      "[nltk_data] Downloading package punkt to\n",
      "[nltk_data]     /home/wicaksonolxn/nltk_data...\n",
      "[nltk_data]   Package punkt is already up-to-date!\n"
     ]
    }
   ],
   "source": [
    "import os\n",
    "import torch\n",
    "import torch.nn as nn\n",
    "import torch.optim as optim\n",
    "from tqdm import tqdm\n",
    "from dataloader import get_dataloaders,get_dataloaders_subword\n",
    "from utils_subword import load_sentencepiece_model,sp_detokenize_with_specials\n",
    "import nltk\n",
    "from nltk.translate.bleu_score import sentence_bleu, SmoothingFunction\n",
    "from transformer import Transformer,TransformerEncoder,TransformerDecoder\n",
    "import utils\n",
    "import pickle\n",
    "nltk.download('punkt')  \n",
    "device = torch.device('cuda' if torch.cuda.is_available() else 'cpu')"
   ]
  },
  {
   "cell_type": "code",
   "execution_count": 2,
   "metadata": {},
   "outputs": [
    {
     "name": "stdout",
     "output_type": "stream",
     "text": [
      "SentencePiece model loaded from dataset/spm_files/spm_model.model\n",
      "TrainData - Max 'min' sentence length: 76\n",
      "TrainData - Max 'eng' sentence length: 107\n",
      "TestData - Max 'min' sentence length: 61\n",
      "TestData - Max 'eng' sentence length: 75\n",
      "ValidData - Max 'min' sentence length: 71\n",
      "ValidData - Max 'eng' sentence length: 80\n",
      "Number of examples in train_dataset: 800\n",
      "Number of examples in valid_dataset: 100\n",
      "Number of examples in test_dataset: 100\n",
      "Model initialized on: cuda\n"
     ]
    }
   ],
   "source": [
    "BATCH_SIZE = 64# butuh lebih banyak update \n",
    "DATA_PATH = \"dataset/\"  \n",
    "DATA_PATH_SPM = \"dataset/spm_files\"  \n",
    "SAVE_DIR = \"saved\"\n",
    "SRC_VOCAB_SIZE = 5000\n",
    "TGT_VOCAB_SIZE = 5000\n",
    "N_LAYERS = 2\n",
    "N_HEADS = 1\n",
    "D_MODEL = 128\n",
    "FFN_HIDDEN = D_MODEL*4\n",
    "DROPOUT = 0.1\n",
    "EPOCHS = 300\n",
    "\n",
    "sp = load_sentencepiece_model(DATA_PATH_SPM, model_prefix=\"spm_model\")\n",
    "train_loader, val_loader, test_loader = get_dataloaders_subword(\n",
    "    sp=sp,\n",
    "    data_path=DATA_PATH, \n",
    "    source_lang=\"min\", \n",
    "    target_lang=\"eng\", \n",
    "    batch_size=BATCH_SIZE, \n",
    "    device=device\n",
    ")\n",
    "\n",
    "encoder = TransformerEncoder(SRC_VOCAB_SIZE,D_MODEL,N_LAYERS,N_HEADS,FFN_HIDDEN,DROPOUT,device)\n",
    "decoder = TransformerDecoder(TGT_VOCAB_SIZE,D_MODEL,N_LAYERS,N_HEADS,FFN_HIDDEN,DROPOUT,device)\n",
    "model = Transformer(encoder,decoder,device,utils.PAD_TOKEN).to(device)\n",
    "optimizer = optim.Adam(model.parameters(), lr=1e-5)\n",
    "criterion = nn.CrossEntropyLoss(ignore_index=utils.PAD_TOKEN) \n",
    "print(\"Model initialized on:\", device)\n"
   ]
  },
  {
   "cell_type": "code",
   "execution_count": 3,
   "metadata": {},
   "outputs": [
    {
     "name": "stdout",
     "output_type": "stream",
     "text": [
      "torch.Size([64, 107]) torch.Size([64, 107])\n",
      "Padding: 0\n",
      "Start of Sequence: 1\n",
      "End of Sequence: 2\n",
      "Unknown: 3\n"
     ]
    }
   ],
   "source": [
    "tokens = {\n",
    "    \"Padding\": utils.PAD_TOKEN,\n",
    "    \"Start of Sequence\": utils.SOS_TOKEN,\n",
    "    \"End of Sequence\": utils.EOS_TOKEN,\n",
    "    \"Unknown\": utils.UNK_TOKEN\n",
    "}\n",
    "for i, batch in enumerate(train_loader):\n",
    "    if i < 8:\n",
    "        src = batch[\"src\"]\n",
    "        tgt = batch[\"tgt\"]\n",
    "        ss,fss=src[0,:],src.shape\n",
    "        st,fst=tgt[0,:],tgt.shape\n",
    "        print(fss,fst)\n",
    "    for name, token in tokens.items():\n",
    "        print(f\"{name}: {token}\")\n",
    "    else:\n",
    "        break"
   ]
  },
  {
   "cell_type": "markdown",
   "metadata": {},
   "source": [
    "testing input , is it correct"
   ]
  },
  {
   "cell_type": "code",
   "execution_count": 4,
   "metadata": {},
   "outputs": [
    {
     "name": "stdout",
     "output_type": "stream",
     "text": [
      "tensor([[   1, 3837,   71,  ...,    0,    0,    0],\n",
      "        [   1,  244, 4998,  ...,    0,    0,    0],\n",
      "        [   1, 3676, 4989,  ...,   15, 4981,  392],\n",
      "        ...,\n",
      "        [   1,  910,  453,  ...,    0,    0,    0],\n",
      "        [   1,  910,   63,  ...,   13, 1106, 4998],\n",
      "        [   1, 2814,   13,  ...,    0,    0,    0]])\n"
     ]
    }
   ],
   "source": [
    "data_iter = iter(train_loader)\n",
    "for i in range(1):\n",
    "    batch = next(data_iter)\n",
    "    print(batch[\"tgt\"])\n"
   ]
  },
  {
   "cell_type": "code",
   "execution_count": 5,
   "metadata": {},
   "outputs": [
    {
     "name": "stdout",
     "output_type": "stream",
     "text": [
      "Example 1:\n",
      "Source: awak belabelaan dari bogor jam demi makan sup buntutnyo tapi awak tunggu dari jam alun bukak juo akhirnyo awak tibo jam pasan sup buntut alun ado jo alasan tadi malam rami jadi chefnyo masih tepar wow alasan macam apo mode itu beda bana wakatu wak makan tahun nan lalu yo tampek sangaik kumuah bantuak indak niek punyo usaho\n",
      "Target: i went throgh a hour trip from bogor just to eat that otail soup but i had been waiting from and they werent open yet in the end i decided to come at ordered the otail soup but it was not available because last night was so hectic so the chef w\n",
      "--------------------------------------------------\n",
      "Example 2:\n",
      "Source: haragonyo sangai tajangkau dan menu makanannyo cukuik kakinian tampek makannyo didekor dengan elok dan unik\n",
      "Target: the price is incredibly affordable and the menu is hip and cool the restos decor is arranged well and uniuely\n",
      "--------------------------------------------------\n",
      "Example 3:\n",
      "Source: awak ko sanak istri wak sadang maabiahan wakatu di palembang awak mancari tampek makan dan basoboklah bakmi jogya satalah masuak takajuiklah karano awak harus mancari tampek duduak dan mancari tampek nan kosong awak alah talantar salamo mini satalah mamasan dengan menu mi godok awak manunggunyo sajam dan iko mambuek awak hilang salero makan itu pun ditanyoan ka tukang masak\n",
      "Target: me and my wifes relative were spending time in palembang i looked for a place to eat and found bakmi jogya when we got in we were surprised because we spent minutes stranded while looking for an empty seat after we ordered a mi godok we had to wait for another\n",
      "--------------------------------------------------\n",
      "Example 4:\n",
      "Source: iko salah ciek contoh generasi yang ndak baguno bukan malah bamanfaat untuak bangsa tapi malah jadi suatu nan babahayo dek bangsa mantap tangkok se pakai uu ite\n",
      "Target: this is an eample of a useless generation rather than being beneficial for our country it instead becomes something that threatens it great job just arrest them using uu ite\n",
      "--------------------------------------------------\n",
      "Example 5:\n",
      "Source: kami sakaluarga manyempatan diri mancubo makan di tampek makannyo iko macam sarang nan sadolah kacokaconyo ditutuik jo rantiangrantiang nan marambek ektsotik unik keren bana dan makanannyo lamak pulo\n",
      "Target: our family made time to try eating in this restaurant which looked like a nest with all the vining brances closing all their windows it was eotic uniue very cool and the food was also ecellent\n",
      "--------------------------------------------------\n"
     ]
    }
   ],
   "source": [
    "for i, batch in enumerate(train_loader):\n",
    "    if i < 1:\n",
    "        src_batch = batch['src'].to(device)  # shape: [batch_size, seq_len]\n",
    "        tgt_batch = batch['tgt'].to(device)  # shape: [batch_size, seq_len]\n",
    "        batch_size = src_batch.size(0)\n",
    "        num_examples = min(5, batch_size)\n",
    "        for j in range(num_examples):\n",
    "            src_tokens = src_batch[j].tolist()\n",
    "            tgt_tokens = tgt_batch[j].tolist()\n",
    "            src_sentence = sp_detokenize_with_specials(sp, src_tokens)\n",
    "            tgt_sentence = sp_detokenize_with_specials(sp, tgt_tokens)\n",
    "            print(f\"Example {j+1}:\")\n",
    "            print(\"Source:\", src_sentence)\n",
    "            print(\"Target:\", tgt_sentence)\n",
    "            print(\"-\" * 50)\n",
    "    break\n"
   ]
  },
  {
   "cell_type": "code",
   "execution_count": 6,
   "metadata": {},
   "outputs": [
    {
     "name": "stdout",
     "output_type": "stream",
     "text": [
      "Example 1:\n",
      "Source: maaf indak nomer awak se nan baitu awak tanya ka sadolah nan pakai di daerah situ mangatoan hal nan samo masih indak nio ngaku jo kalau memang sinyalnyo nan buruak\n",
      "Target: ecuse me but its not just my number eperiencing that ive asked everyone who uses it in that area and they all said the same thing still dont wanna admit that your signal is just that bad\n",
      "--------------------------------------------------\n",
      "Example 2:\n",
      "Source: ndak salah lai ko kafe modern salah satu favorit warga depok untuak makan bakumpua seriusan tampeknyo nyaman soalnyo\n",
      "Target: there is no mistake that this modern cafe is one of the favourites for depok citiens to go to for dining or gathering seriously its cu the place is that comfy\n",
      "--------------------------------------------------\n",
      "Example 3:\n",
      "Source: untuak mananyoan kredit mandiri finance bisa di siko lo\n",
      "Target: you can also ask uestions about mandiri finance credit here\n",
      "--------------------------------------------------\n",
      "Example 4:\n",
      "Source: steiknyo lumayan lamak kadai ko cocok untuak pelajar atau mahasiswa hehehe soalnyo haragonyo tajangkau untuak makanannyo oke kok\n",
      "Target: steaks uite good this eatery is perfect for students or uni kids hehehe cu the price is affordable for the food its okat kay\n",
      "--------------------------------------------------\n",
      "Example 5:\n",
      "Source: ndeh indosat mangacewaan awak nio daftar baru kok malah kanai tarif per kb pulsa bakurang drastis\n",
      "Target: man indoesat is so disappointing i was just about to register but they charged me per kb my credits just got drained\n",
      "--------------------------------------------------\n"
     ]
    }
   ],
   "source": [
    "for i, batch in enumerate(train_loader):\n",
    "    if i < 1:\n",
    "        src_batch = batch['src'].to(device)  # shape: [batch_size, seq_len]\n",
    "        tgt_batch = batch['tgt'].to(device)  # shape: [batch_size, seq_len]\n",
    "        batch_size = src_batch.size(0)\n",
    "        num_examples = min(5, batch_size)\n",
    "        for j in range(num_examples):\n",
    "            src_tokens = src_batch[j].tolist()\n",
    "            tgt_tokens = tgt_batch[j].tolist()\n",
    "            # Use the SentencePiece detokenization function.\n",
    "            src_sentence = sp_detokenize_with_specials(sp, src_tokens)\n",
    "            tgt_sentence = sp_detokenize_with_specials(sp, tgt_tokens)\n",
    "            print(f\"Example {j+1}:\")\n",
    "            print(\"Source:\", src_sentence)\n",
    "            print(\"Target:\", tgt_sentence)\n",
    "            print(\"-\" * 50)\n",
    "    break\n"
   ]
  },
  {
   "cell_type": "code",
   "execution_count": 7,
   "metadata": {},
   "outputs": [
    {
     "name": "stdout",
     "output_type": "stream",
     "text": [
      "Epoch 1/300\n"
     ]
    },
    {
     "name": "stderr",
     "output_type": "stream",
     "text": [
      "🚀 Training: 100%|██████████| 13/13 [00:00<00:00, 16.82it/s, loss=8.6220]\n",
      "🚀 Validation: 100%|██████████| 2/2 [00:00<00:00, 68.27it/s, loss=8.6690]\n"
     ]
    },
    {
     "name": "stdout",
     "output_type": "stream",
     "text": [
      "[Epoch 1] Train Loss: 8.6665 | Val Loss: 8.6440\n",
      "  -> New best model saved at saved/best_sp.pt\n",
      "Epoch 2/300\n"
     ]
    },
    {
     "name": "stderr",
     "output_type": "stream",
     "text": [
      "🚀 Training: 100%|██████████| 13/13 [00:00<00:00, 21.36it/s, loss=8.5959]\n",
      "🚀 Validation: 100%|██████████| 2/2 [00:00<00:00, 72.34it/s, loss=8.6230]\n"
     ]
    },
    {
     "name": "stdout",
     "output_type": "stream",
     "text": [
      "[Epoch 2] Train Loss: 8.6226 | Val Loss: 8.5985\n",
      "  -> New best model saved at saved/best_sp.pt\n",
      "Epoch 3/300\n"
     ]
    },
    {
     "name": "stderr",
     "output_type": "stream",
     "text": [
      "🚀 Training: 100%|██████████| 13/13 [00:00<00:00, 21.01it/s, loss=8.5584]\n",
      "🚀 Validation: 100%|██████████| 2/2 [00:00<00:00, 70.02it/s, loss=8.5760]\n"
     ]
    },
    {
     "name": "stdout",
     "output_type": "stream",
     "text": [
      "[Epoch 3] Train Loss: 8.5773 | Val Loss: 8.5522\n",
      "  -> New best model saved at saved/best_sp.pt\n",
      "Epoch 4/300\n"
     ]
    },
    {
     "name": "stderr",
     "output_type": "stream",
     "text": [
      "🚀 Training: 100%|██████████| 13/13 [00:00<00:00, 21.15it/s, loss=8.4839]\n",
      "🚀 Validation: 100%|██████████| 2/2 [00:00<00:00, 69.63it/s, loss=8.5268]\n"
     ]
    },
    {
     "name": "stdout",
     "output_type": "stream",
     "text": [
      "[Epoch 4] Train Loss: 8.5321 | Val Loss: 8.5037\n",
      "  -> New best model saved at saved/best_sp.pt\n",
      "Epoch 5/300\n"
     ]
    },
    {
     "name": "stderr",
     "output_type": "stream",
     "text": [
      "🚀 Training: 100%|██████████| 13/13 [00:00<00:00, 21.18it/s, loss=8.4613]\n",
      "🚀 Validation: 100%|██████████| 2/2 [00:00<00:00, 68.99it/s, loss=8.4749]\n"
     ]
    },
    {
     "name": "stdout",
     "output_type": "stream",
     "text": [
      "[Epoch 5] Train Loss: 8.4808 | Val Loss: 8.4527\n",
      "  -> New best model saved at saved/best_sp.pt\n",
      "Epoch 6/300\n"
     ]
    },
    {
     "name": "stderr",
     "output_type": "stream",
     "text": [
      "🚀 Training: 100%|██████████| 13/13 [00:00<00:00, 21.05it/s, loss=8.3969]\n",
      "🚀 Validation: 100%|██████████| 2/2 [00:00<00:00, 65.71it/s, loss=8.4197]\n"
     ]
    },
    {
     "name": "stdout",
     "output_type": "stream",
     "text": [
      "[Epoch 6] Train Loss: 8.4308 | Val Loss: 8.3986\n",
      "  -> New best model saved at saved/best_sp.pt\n",
      "Epoch 7/300\n"
     ]
    },
    {
     "name": "stderr",
     "output_type": "stream",
     "text": [
      "🚀 Training: 100%|██████████| 13/13 [00:00<00:00, 21.15it/s, loss=8.3425]\n",
      "🚀 Validation: 100%|██████████| 2/2 [00:00<00:00, 67.81it/s, loss=8.3611]\n"
     ]
    },
    {
     "name": "stdout",
     "output_type": "stream",
     "text": [
      "[Epoch 7] Train Loss: 8.3741 | Val Loss: 8.3413\n",
      "  -> New best model saved at saved/best_sp.pt\n",
      "Epoch 8/300\n"
     ]
    },
    {
     "name": "stderr",
     "output_type": "stream",
     "text": [
      "🚀 Training: 100%|██████████| 13/13 [00:00<00:00, 21.04it/s, loss=8.2705]\n",
      "🚀 Validation: 100%|██████████| 2/2 [00:00<00:00, 68.58it/s, loss=8.2996]\n"
     ]
    },
    {
     "name": "stdout",
     "output_type": "stream",
     "text": [
      "[Epoch 8] Train Loss: 8.3152 | Val Loss: 8.2812\n",
      "  -> New best model saved at saved/best_sp.pt\n",
      "Epoch 9/300\n"
     ]
    },
    {
     "name": "stderr",
     "output_type": "stream",
     "text": [
      "🚀 Training: 100%|██████████| 13/13 [00:00<00:00, 21.03it/s, loss=8.2266]\n",
      "🚀 Validation: 100%|██████████| 2/2 [00:00<00:00, 68.29it/s, loss=8.2361]\n"
     ]
    },
    {
     "name": "stdout",
     "output_type": "stream",
     "text": [
      "[Epoch 9] Train Loss: 8.2563 | Val Loss: 8.2190\n",
      "  -> New best model saved at saved/best_sp.pt\n",
      "Epoch 10/300\n"
     ]
    },
    {
     "name": "stderr",
     "output_type": "stream",
     "text": [
      "🚀 Training: 100%|██████████| 13/13 [00:00<00:00, 21.14it/s, loss=8.1409]\n",
      "🚀 Validation: 100%|██████████| 2/2 [00:00<00:00, 68.15it/s, loss=8.1714]\n"
     ]
    },
    {
     "name": "stdout",
     "output_type": "stream",
     "text": [
      "[Epoch 10] Train Loss: 8.1924 | Val Loss: 8.1557\n",
      "  -> New best model saved at saved/best_sp.pt\n",
      "Epoch 11/300\n"
     ]
    },
    {
     "name": "stderr",
     "output_type": "stream",
     "text": [
      "🚀 Training: 100%|██████████| 13/13 [00:00<00:00, 20.95it/s, loss=8.1238]\n",
      "🚀 Validation: 100%|██████████| 2/2 [00:00<00:00, 67.70it/s, loss=8.1068]\n"
     ]
    },
    {
     "name": "stdout",
     "output_type": "stream",
     "text": [
      "[Epoch 11] Train Loss: 8.1306 | Val Loss: 8.0925\n",
      "  -> New best model saved at saved/best_sp.pt\n",
      "Epoch 12/300\n"
     ]
    },
    {
     "name": "stderr",
     "output_type": "stream",
     "text": [
      "🚀 Training: 100%|██████████| 13/13 [00:00<00:00, 20.86it/s, loss=8.0212]\n",
      "🚀 Validation: 100%|██████████| 2/2 [00:00<00:00, 71.78it/s, loss=8.0434]\n"
     ]
    },
    {
     "name": "stdout",
     "output_type": "stream",
     "text": [
      "[Epoch 12] Train Loss: 8.0682 | Val Loss: 8.0307\n",
      "  -> New best model saved at saved/best_sp.pt\n",
      "Epoch 13/300\n"
     ]
    },
    {
     "name": "stderr",
     "output_type": "stream",
     "text": [
      "🚀 Training: 100%|██████████| 13/13 [00:00<00:00, 20.92it/s, loss=7.9589]\n",
      "🚀 Validation: 100%|██████████| 2/2 [00:00<00:00, 72.96it/s, loss=7.9821]\n"
     ]
    },
    {
     "name": "stdout",
     "output_type": "stream",
     "text": [
      "[Epoch 13] Train Loss: 8.0055 | Val Loss: 7.9708\n",
      "  -> New best model saved at saved/best_sp.pt\n",
      "Epoch 14/300\n"
     ]
    },
    {
     "name": "stderr",
     "output_type": "stream",
     "text": [
      "🚀 Training: 100%|██████████| 13/13 [00:00<00:00, 21.15it/s, loss=7.9420]\n",
      "🚀 Validation: 100%|██████████| 2/2 [00:00<00:00, 70.71it/s, loss=7.9234]\n"
     ]
    },
    {
     "name": "stdout",
     "output_type": "stream",
     "text": [
      "[Epoch 14] Train Loss: 7.9500 | Val Loss: 7.9134\n",
      "  -> New best model saved at saved/best_sp.pt\n",
      "Epoch 15/300\n"
     ]
    },
    {
     "name": "stderr",
     "output_type": "stream",
     "text": [
      "🚀 Training: 100%|██████████| 13/13 [00:00<00:00, 20.85it/s, loss=7.8888]\n",
      "🚀 Validation: 100%|██████████| 2/2 [00:00<00:00, 70.16it/s, loss=7.8677]\n"
     ]
    },
    {
     "name": "stdout",
     "output_type": "stream",
     "text": [
      "[Epoch 15] Train Loss: 7.8935 | Val Loss: 7.8590\n",
      "  -> New best model saved at saved/best_sp.pt\n",
      "Epoch 16/300\n"
     ]
    },
    {
     "name": "stderr",
     "output_type": "stream",
     "text": [
      "🚀 Training: 100%|██████████| 13/13 [00:00<00:00, 21.14it/s, loss=7.8306]\n",
      "🚀 Validation: 100%|██████████| 2/2 [00:00<00:00, 70.67it/s, loss=7.8152]\n"
     ]
    },
    {
     "name": "stdout",
     "output_type": "stream",
     "text": [
      "[Epoch 16] Train Loss: 7.8405 | Val Loss: 7.8076\n",
      "  -> New best model saved at saved/best_sp.pt\n",
      "Epoch 17/300\n"
     ]
    },
    {
     "name": "stderr",
     "output_type": "stream",
     "text": [
      "🚀 Training: 100%|██████████| 13/13 [00:00<00:00, 21.01it/s, loss=7.7698]\n",
      "🚀 Validation: 100%|██████████| 2/2 [00:00<00:00, 69.00it/s, loss=7.7655]\n"
     ]
    },
    {
     "name": "stdout",
     "output_type": "stream",
     "text": [
      "[Epoch 17] Train Loss: 7.7901 | Val Loss: 7.7589\n",
      "  -> New best model saved at saved/best_sp.pt\n",
      "Epoch 18/300\n"
     ]
    },
    {
     "name": "stderr",
     "output_type": "stream",
     "text": [
      "🚀 Training: 100%|██████████| 13/13 [00:00<00:00, 21.00it/s, loss=7.7522]\n",
      "🚀 Validation: 100%|██████████| 2/2 [00:00<00:00, 69.19it/s, loss=7.7184]\n"
     ]
    },
    {
     "name": "stdout",
     "output_type": "stream",
     "text": [
      "[Epoch 18] Train Loss: 7.7441 | Val Loss: 7.7127\n",
      "  -> New best model saved at saved/best_sp.pt\n",
      "Epoch 19/300\n"
     ]
    },
    {
     "name": "stderr",
     "output_type": "stream",
     "text": [
      "🚀 Training: 100%|██████████| 13/13 [00:00<00:00, 20.95it/s, loss=7.6922]\n",
      "🚀 Validation: 100%|██████████| 2/2 [00:00<00:00, 54.76it/s, loss=7.6736]\n"
     ]
    },
    {
     "name": "stdout",
     "output_type": "stream",
     "text": [
      "[Epoch 19] Train Loss: 7.6988 | Val Loss: 7.6688\n",
      "  -> New best model saved at saved/best_sp.pt\n",
      "Epoch 20/300\n"
     ]
    },
    {
     "name": "stderr",
     "output_type": "stream",
     "text": [
      "🚀 Training: 100%|██████████| 13/13 [00:00<00:00, 20.95it/s, loss=7.6483]\n",
      "🚀 Validation: 100%|██████████| 2/2 [00:00<00:00, 66.04it/s, loss=7.6309]\n"
     ]
    },
    {
     "name": "stdout",
     "output_type": "stream",
     "text": [
      "[Epoch 20] Train Loss: 7.6559 | Val Loss: 7.6269\n",
      "  -> New best model saved at saved/best_sp.pt\n",
      "Epoch 21/300\n"
     ]
    },
    {
     "name": "stderr",
     "output_type": "stream",
     "text": [
      "🚀 Training: 100%|██████████| 13/13 [00:00<00:00, 20.84it/s, loss=7.5494]\n",
      "🚀 Validation: 100%|██████████| 2/2 [00:00<00:00, 68.50it/s, loss=7.5901]\n"
     ]
    },
    {
     "name": "stdout",
     "output_type": "stream",
     "text": [
      "[Epoch 21] Train Loss: 7.6129 | Val Loss: 7.5868\n",
      "  -> New best model saved at saved/best_sp.pt\n",
      "Epoch 22/300\n"
     ]
    },
    {
     "name": "stderr",
     "output_type": "stream",
     "text": [
      "🚀 Training: 100%|██████████| 13/13 [00:00<00:00, 20.89it/s, loss=7.5439]\n",
      "🚀 Validation: 100%|██████████| 2/2 [00:00<00:00, 64.92it/s, loss=7.5509]\n"
     ]
    },
    {
     "name": "stdout",
     "output_type": "stream",
     "text": [
      "[Epoch 22] Train Loss: 7.5745 | Val Loss: 7.5483\n",
      "  -> New best model saved at saved/best_sp.pt\n",
      "Epoch 23/300\n"
     ]
    },
    {
     "name": "stderr",
     "output_type": "stream",
     "text": [
      "🚀 Training: 100%|██████████| 13/13 [00:00<00:00, 20.80it/s, loss=7.5089]\n",
      "🚀 Validation: 100%|██████████| 2/2 [00:00<00:00, 67.95it/s, loss=7.5131]\n"
     ]
    },
    {
     "name": "stdout",
     "output_type": "stream",
     "text": [
      "[Epoch 23] Train Loss: 7.5373 | Val Loss: 7.5111\n",
      "  -> New best model saved at saved/best_sp.pt\n",
      "Epoch 24/300\n"
     ]
    },
    {
     "name": "stderr",
     "output_type": "stream",
     "text": [
      "🚀 Training: 100%|██████████| 13/13 [00:00<00:00, 20.84it/s, loss=7.5238]\n",
      "🚀 Validation: 100%|██████████| 2/2 [00:00<00:00, 69.57it/s, loss=7.4766]\n"
     ]
    },
    {
     "name": "stdout",
     "output_type": "stream",
     "text": [
      "[Epoch 24] Train Loss: 7.5031 | Val Loss: 7.4752\n",
      "  -> New best model saved at saved/best_sp.pt\n",
      "Epoch 25/300\n"
     ]
    },
    {
     "name": "stderr",
     "output_type": "stream",
     "text": [
      "🚀 Training: 100%|██████████| 13/13 [00:00<00:00, 20.84it/s, loss=7.4525]\n",
      "🚀 Validation: 100%|██████████| 2/2 [00:00<00:00, 66.58it/s, loss=7.4411]\n"
     ]
    },
    {
     "name": "stdout",
     "output_type": "stream",
     "text": [
      "[Epoch 25] Train Loss: 7.4647 | Val Loss: 7.4403\n",
      "  -> New best model saved at saved/best_sp.pt\n",
      "Epoch 26/300\n"
     ]
    },
    {
     "name": "stderr",
     "output_type": "stream",
     "text": [
      "🚀 Training: 100%|██████████| 13/13 [00:00<00:00, 20.75it/s, loss=7.4095]\n",
      "🚀 Validation: 100%|██████████| 2/2 [00:00<00:00, 56.58it/s, loss=7.4067]\n"
     ]
    },
    {
     "name": "stdout",
     "output_type": "stream",
     "text": [
      "[Epoch 26] Train Loss: 7.4318 | Val Loss: 7.4064\n",
      "  -> New best model saved at saved/best_sp.pt\n",
      "Epoch 27/300\n"
     ]
    },
    {
     "name": "stderr",
     "output_type": "stream",
     "text": [
      "🚀 Training: 100%|██████████| 13/13 [00:00<00:00, 20.89it/s, loss=7.4156]\n",
      "🚀 Validation: 100%|██████████| 2/2 [00:00<00:00, 67.62it/s, loss=7.3731]\n"
     ]
    },
    {
     "name": "stdout",
     "output_type": "stream",
     "text": [
      "[Epoch 27] Train Loss: 7.4002 | Val Loss: 7.3734\n",
      "  -> New best model saved at saved/best_sp.pt\n",
      "Epoch 28/300\n"
     ]
    },
    {
     "name": "stderr",
     "output_type": "stream",
     "text": [
      "🚀 Training: 100%|██████████| 13/13 [00:00<00:00, 20.86it/s, loss=7.3180]\n",
      "🚀 Validation: 100%|██████████| 2/2 [00:00<00:00, 64.60it/s, loss=7.3404]\n"
     ]
    },
    {
     "name": "stdout",
     "output_type": "stream",
     "text": [
      "[Epoch 28] Train Loss: 7.3658 | Val Loss: 7.3411\n",
      "  -> New best model saved at saved/best_sp.pt\n",
      "Epoch 29/300\n"
     ]
    },
    {
     "name": "stderr",
     "output_type": "stream",
     "text": [
      "🚀 Training: 100%|██████████| 13/13 [00:00<00:00, 20.92it/s, loss=7.3261]\n",
      "🚀 Validation: 100%|██████████| 2/2 [00:00<00:00, 68.71it/s, loss=7.3083]\n"
     ]
    },
    {
     "name": "stdout",
     "output_type": "stream",
     "text": [
      "[Epoch 29] Train Loss: 7.3347 | Val Loss: 7.3096\n",
      "  -> New best model saved at saved/best_sp.pt\n",
      "Epoch 30/300\n"
     ]
    },
    {
     "name": "stderr",
     "output_type": "stream",
     "text": [
      "🚀 Training: 100%|██████████| 13/13 [00:00<00:00, 20.74it/s, loss=7.2609]\n",
      "🚀 Validation: 100%|██████████| 2/2 [00:00<00:00, 67.78it/s, loss=7.2770]\n"
     ]
    },
    {
     "name": "stdout",
     "output_type": "stream",
     "text": [
      "[Epoch 30] Train Loss: 7.3033 | Val Loss: 7.2787\n",
      "  -> New best model saved at saved/best_sp.pt\n",
      "Epoch 31/300\n"
     ]
    },
    {
     "name": "stderr",
     "output_type": "stream",
     "text": [
      "🚀 Training: 100%|██████████| 13/13 [00:00<00:00, 20.78it/s, loss=7.2809]\n",
      "🚀 Validation: 100%|██████████| 2/2 [00:00<00:00, 67.31it/s, loss=7.2462]\n"
     ]
    },
    {
     "name": "stdout",
     "output_type": "stream",
     "text": [
      "[Epoch 31] Train Loss: 7.2733 | Val Loss: 7.2484\n",
      "  -> New best model saved at saved/best_sp.pt\n",
      "Epoch 32/300\n"
     ]
    },
    {
     "name": "stderr",
     "output_type": "stream",
     "text": [
      "🚀 Training: 100%|██████████| 13/13 [00:00<00:00, 20.70it/s, loss=7.2397]\n",
      "🚀 Validation: 100%|██████████| 2/2 [00:00<00:00, 70.29it/s, loss=7.2160]\n"
     ]
    },
    {
     "name": "stdout",
     "output_type": "stream",
     "text": [
      "[Epoch 32] Train Loss: 7.2434 | Val Loss: 7.2186\n",
      "  -> New best model saved at saved/best_sp.pt\n",
      "Epoch 33/300\n"
     ]
    },
    {
     "name": "stderr",
     "output_type": "stream",
     "text": [
      "🚀 Training: 100%|██████████| 13/13 [00:00<00:00, 20.64it/s, loss=7.1933]\n",
      "🚀 Validation: 100%|██████████| 2/2 [00:00<00:00, 70.29it/s, loss=7.1863]\n"
     ]
    },
    {
     "name": "stdout",
     "output_type": "stream",
     "text": [
      "[Epoch 33] Train Loss: 7.2132 | Val Loss: 7.1893\n",
      "  -> New best model saved at saved/best_sp.pt\n",
      "Epoch 34/300\n"
     ]
    },
    {
     "name": "stderr",
     "output_type": "stream",
     "text": [
      "🚀 Training: 100%|██████████| 13/13 [00:00<00:00, 20.84it/s, loss=7.2240]\n",
      "🚀 Validation: 100%|██████████| 2/2 [00:00<00:00, 67.22it/s, loss=7.1571]\n"
     ]
    },
    {
     "name": "stdout",
     "output_type": "stream",
     "text": [
      "[Epoch 34] Train Loss: 7.1887 | Val Loss: 7.1605\n",
      "  -> New best model saved at saved/best_sp.pt\n",
      "Epoch 35/300\n"
     ]
    },
    {
     "name": "stderr",
     "output_type": "stream",
     "text": [
      "🚀 Training: 100%|██████████| 13/13 [00:00<00:00, 20.84it/s, loss=7.1414]\n",
      "🚀 Validation: 100%|██████████| 2/2 [00:00<00:00, 69.33it/s, loss=7.1284]\n"
     ]
    },
    {
     "name": "stdout",
     "output_type": "stream",
     "text": [
      "[Epoch 35] Train Loss: 7.1572 | Val Loss: 7.1322\n",
      "  -> New best model saved at saved/best_sp.pt\n",
      "Epoch 36/300\n"
     ]
    },
    {
     "name": "stderr",
     "output_type": "stream",
     "text": [
      "🚀 Training: 100%|██████████| 13/13 [00:00<00:00, 20.60it/s, loss=7.1428]\n",
      "🚀 Validation: 100%|██████████| 2/2 [00:00<00:00, 68.76it/s, loss=7.1000]\n"
     ]
    },
    {
     "name": "stdout",
     "output_type": "stream",
     "text": [
      "[Epoch 36] Train Loss: 7.1300 | Val Loss: 7.1042\n",
      "  -> New best model saved at saved/best_sp.pt\n",
      "Epoch 37/300\n"
     ]
    },
    {
     "name": "stderr",
     "output_type": "stream",
     "text": [
      "🚀 Training: 100%|██████████| 13/13 [00:00<00:00, 20.68it/s, loss=7.0700]\n",
      "🚀 Validation: 100%|██████████| 2/2 [00:00<00:00, 67.62it/s, loss=7.0721]\n"
     ]
    },
    {
     "name": "stdout",
     "output_type": "stream",
     "text": [
      "[Epoch 37] Train Loss: 7.1006 | Val Loss: 7.0766\n",
      "  -> New best model saved at saved/best_sp.pt\n",
      "Epoch 38/300\n"
     ]
    },
    {
     "name": "stderr",
     "output_type": "stream",
     "text": [
      "🚀 Training: 100%|██████████| 13/13 [00:00<00:00, 20.83it/s, loss=7.0213]\n",
      "🚀 Validation: 100%|██████████| 2/2 [00:00<00:00, 67.45it/s, loss=7.0447]\n"
     ]
    },
    {
     "name": "stdout",
     "output_type": "stream",
     "text": [
      "[Epoch 38] Train Loss: 7.0720 | Val Loss: 7.0495\n",
      "  -> New best model saved at saved/best_sp.pt\n",
      "Epoch 39/300\n"
     ]
    },
    {
     "name": "stderr",
     "output_type": "stream",
     "text": [
      "🚀 Training: 100%|██████████| 13/13 [00:00<00:00, 20.70it/s, loss=7.0169]\n",
      "🚀 Validation: 100%|██████████| 2/2 [00:00<00:00, 69.70it/s, loss=7.0177]\n"
     ]
    },
    {
     "name": "stdout",
     "output_type": "stream",
     "text": [
      "[Epoch 39] Train Loss: 7.0459 | Val Loss: 7.0228\n",
      "  -> New best model saved at saved/best_sp.pt\n",
      "Epoch 40/300\n"
     ]
    },
    {
     "name": "stderr",
     "output_type": "stream",
     "text": [
      "🚀 Training: 100%|██████████| 13/13 [00:00<00:00, 20.52it/s, loss=7.0660]\n",
      "🚀 Validation: 100%|██████████| 2/2 [00:00<00:00, 68.43it/s, loss=6.9908]\n"
     ]
    },
    {
     "name": "stdout",
     "output_type": "stream",
     "text": [
      "[Epoch 40] Train Loss: 7.0237 | Val Loss: 6.9963\n",
      "  -> New best model saved at saved/best_sp.pt\n",
      "Epoch 41/300\n"
     ]
    },
    {
     "name": "stderr",
     "output_type": "stream",
     "text": [
      "🚀 Training: 100%|██████████| 13/13 [00:00<00:00, 20.63it/s, loss=6.9286]\n",
      "🚀 Validation: 100%|██████████| 2/2 [00:00<00:00, 70.58it/s, loss=6.9645]\n"
     ]
    },
    {
     "name": "stdout",
     "output_type": "stream",
     "text": [
      "[Epoch 41] Train Loss: 6.9937 | Val Loss: 6.9702\n",
      "  -> New best model saved at saved/best_sp.pt\n",
      "Epoch 42/300\n"
     ]
    },
    {
     "name": "stderr",
     "output_type": "stream",
     "text": [
      "🚀 Training: 100%|██████████| 13/13 [00:00<00:00, 20.87it/s, loss=6.9454]\n",
      "🚀 Validation: 100%|██████████| 2/2 [00:00<00:00, 69.67it/s, loss=6.9383]\n"
     ]
    },
    {
     "name": "stdout",
     "output_type": "stream",
     "text": [
      "[Epoch 42] Train Loss: 6.9690 | Val Loss: 6.9444\n",
      "  -> New best model saved at saved/best_sp.pt\n",
      "Epoch 43/300\n"
     ]
    },
    {
     "name": "stderr",
     "output_type": "stream",
     "text": [
      "🚀 Training: 100%|██████████| 13/13 [00:00<00:00, 20.57it/s, loss=6.9214]\n",
      "🚀 Validation: 100%|██████████| 2/2 [00:00<00:00, 68.30it/s, loss=6.9126]\n"
     ]
    },
    {
     "name": "stdout",
     "output_type": "stream",
     "text": [
      "[Epoch 43] Train Loss: 6.9436 | Val Loss: 6.9189\n",
      "  -> New best model saved at saved/best_sp.pt\n",
      "Epoch 44/300\n"
     ]
    },
    {
     "name": "stderr",
     "output_type": "stream",
     "text": [
      "🚀 Training: 100%|██████████| 13/13 [00:00<00:00, 20.79it/s, loss=6.9451]\n",
      "🚀 Validation: 100%|██████████| 2/2 [00:00<00:00, 72.89it/s, loss=6.8871]\n"
     ]
    },
    {
     "name": "stdout",
     "output_type": "stream",
     "text": [
      "[Epoch 44] Train Loss: 6.9193 | Val Loss: 6.8938\n",
      "  -> New best model saved at saved/best_sp.pt\n",
      "Epoch 45/300\n"
     ]
    },
    {
     "name": "stderr",
     "output_type": "stream",
     "text": [
      "🚀 Training: 100%|██████████| 13/13 [00:00<00:00, 20.75it/s, loss=6.8806]\n",
      "🚀 Validation: 100%|██████████| 2/2 [00:00<00:00, 67.68it/s, loss=6.8620]\n"
     ]
    },
    {
     "name": "stdout",
     "output_type": "stream",
     "text": [
      "[Epoch 45] Train Loss: 6.8921 | Val Loss: 6.8689\n",
      "  -> New best model saved at saved/best_sp.pt\n",
      "Epoch 46/300\n"
     ]
    },
    {
     "name": "stderr",
     "output_type": "stream",
     "text": [
      "🚀 Training: 100%|██████████| 13/13 [00:00<00:00, 20.38it/s, loss=6.8759]\n",
      "🚀 Validation: 100%|██████████| 2/2 [00:00<00:00, 70.83it/s, loss=6.8372]\n"
     ]
    },
    {
     "name": "stdout",
     "output_type": "stream",
     "text": [
      "[Epoch 46] Train Loss: 6.8698 | Val Loss: 6.8444\n",
      "  -> New best model saved at saved/best_sp.pt\n",
      "Epoch 47/300\n"
     ]
    },
    {
     "name": "stderr",
     "output_type": "stream",
     "text": [
      "🚀 Training: 100%|██████████| 13/13 [00:00<00:00, 20.68it/s, loss=6.8422]\n",
      "🚀 Validation: 100%|██████████| 2/2 [00:00<00:00, 67.60it/s, loss=6.8128]\n"
     ]
    },
    {
     "name": "stdout",
     "output_type": "stream",
     "text": [
      "[Epoch 47] Train Loss: 6.8440 | Val Loss: 6.8202\n",
      "  -> New best model saved at saved/best_sp.pt\n",
      "Epoch 48/300\n"
     ]
    },
    {
     "name": "stderr",
     "output_type": "stream",
     "text": [
      "🚀 Training: 100%|██████████| 13/13 [00:00<00:00, 20.51it/s, loss=6.8555]\n",
      "🚀 Validation: 100%|██████████| 2/2 [00:00<00:00, 68.31it/s, loss=6.7886]\n"
     ]
    },
    {
     "name": "stdout",
     "output_type": "stream",
     "text": [
      "[Epoch 48] Train Loss: 6.8224 | Val Loss: 6.7963\n",
      "  -> New best model saved at saved/best_sp.pt\n",
      "Epoch 49/300\n"
     ]
    },
    {
     "name": "stderr",
     "output_type": "stream",
     "text": [
      "🚀 Training: 100%|██████████| 13/13 [00:00<00:00, 20.73it/s, loss=6.8040]\n",
      "🚀 Validation: 100%|██████████| 2/2 [00:00<00:00, 67.36it/s, loss=6.7647]\n"
     ]
    },
    {
     "name": "stdout",
     "output_type": "stream",
     "text": [
      "[Epoch 49] Train Loss: 6.7974 | Val Loss: 6.7727\n",
      "  -> New best model saved at saved/best_sp.pt\n",
      "Epoch 50/300\n"
     ]
    },
    {
     "name": "stderr",
     "output_type": "stream",
     "text": [
      "🚀 Training: 100%|██████████| 13/13 [00:00<00:00, 20.75it/s, loss=6.7315]\n",
      "🚀 Validation: 100%|██████████| 2/2 [00:00<00:00, 71.10it/s, loss=6.7412]\n"
     ]
    },
    {
     "name": "stdout",
     "output_type": "stream",
     "text": [
      "[Epoch 50] Train Loss: 6.7715 | Val Loss: 6.7494\n",
      "  -> New best model saved at saved/best_sp.pt\n",
      "Epoch 51/300\n"
     ]
    },
    {
     "name": "stderr",
     "output_type": "stream",
     "text": [
      "🚀 Training: 100%|██████████| 13/13 [00:00<00:00, 20.72it/s, loss=6.7251]\n",
      "🚀 Validation: 100%|██████████| 2/2 [00:00<00:00, 71.34it/s, loss=6.7179]\n"
     ]
    },
    {
     "name": "stdout",
     "output_type": "stream",
     "text": [
      "[Epoch 51] Train Loss: 6.7491 | Val Loss: 6.7263\n",
      "  -> New best model saved at saved/best_sp.pt\n",
      "Epoch 52/300\n"
     ]
    },
    {
     "name": "stderr",
     "output_type": "stream",
     "text": [
      "🚀 Training: 100%|██████████| 13/13 [00:00<00:00, 20.79it/s, loss=6.7012]\n",
      "🚀 Validation: 100%|██████████| 2/2 [00:00<00:00, 69.33it/s, loss=6.6948]\n"
     ]
    },
    {
     "name": "stdout",
     "output_type": "stream",
     "text": [
      "[Epoch 52] Train Loss: 6.7262 | Val Loss: 6.7035\n",
      "  -> New best model saved at saved/best_sp.pt\n",
      "Epoch 53/300\n"
     ]
    },
    {
     "name": "stderr",
     "output_type": "stream",
     "text": [
      "🚀 Training: 100%|██████████| 13/13 [00:00<00:00, 20.50it/s, loss=6.6921]\n",
      "🚀 Validation: 100%|██████████| 2/2 [00:00<00:00, 69.82it/s, loss=6.6721]\n"
     ]
    },
    {
     "name": "stdout",
     "output_type": "stream",
     "text": [
      "[Epoch 53] Train Loss: 6.7028 | Val Loss: 6.6809\n",
      "  -> New best model saved at saved/best_sp.pt\n",
      "Epoch 54/300\n"
     ]
    },
    {
     "name": "stderr",
     "output_type": "stream",
     "text": [
      "🚀 Training: 100%|██████████| 13/13 [00:00<00:00, 20.80it/s, loss=6.6409]\n",
      "🚀 Validation: 100%|██████████| 2/2 [00:00<00:00, 67.82it/s, loss=6.6496]\n"
     ]
    },
    {
     "name": "stdout",
     "output_type": "stream",
     "text": [
      "[Epoch 54] Train Loss: 6.6801 | Val Loss: 6.6587\n",
      "  -> New best model saved at saved/best_sp.pt\n",
      "Epoch 55/300\n"
     ]
    },
    {
     "name": "stderr",
     "output_type": "stream",
     "text": [
      "🚀 Training: 100%|██████████| 13/13 [00:00<00:00, 20.57it/s, loss=6.6510]\n",
      "🚀 Validation: 100%|██████████| 2/2 [00:00<00:00, 59.24it/s, loss=6.6275]\n"
     ]
    },
    {
     "name": "stdout",
     "output_type": "stream",
     "text": [
      "[Epoch 55] Train Loss: 6.6596 | Val Loss: 6.6368\n",
      "  -> New best model saved at saved/best_sp.pt\n",
      "Epoch 56/300\n"
     ]
    },
    {
     "name": "stderr",
     "output_type": "stream",
     "text": [
      "🚀 Training: 100%|██████████| 13/13 [00:00<00:00, 20.59it/s, loss=6.5853]\n",
      "🚀 Validation: 100%|██████████| 2/2 [00:00<00:00, 67.45it/s, loss=6.6056]\n"
     ]
    },
    {
     "name": "stdout",
     "output_type": "stream",
     "text": [
      "[Epoch 56] Train Loss: 6.6347 | Val Loss: 6.6151\n",
      "  -> New best model saved at saved/best_sp.pt\n",
      "Epoch 57/300\n"
     ]
    },
    {
     "name": "stderr",
     "output_type": "stream",
     "text": [
      "🚀 Training: 100%|██████████| 13/13 [00:00<00:00, 20.52it/s, loss=6.7057]\n",
      "🚀 Validation: 100%|██████████| 2/2 [00:00<00:00, 67.56it/s, loss=6.5838]\n"
     ]
    },
    {
     "name": "stdout",
     "output_type": "stream",
     "text": [
      "[Epoch 57] Train Loss: 6.6203 | Val Loss: 6.5936\n",
      "  -> New best model saved at saved/best_sp.pt\n",
      "Epoch 58/300\n"
     ]
    },
    {
     "name": "stderr",
     "output_type": "stream",
     "text": [
      "🚀 Training: 100%|██████████| 13/13 [00:00<00:00, 20.65it/s, loss=6.5746]\n",
      "🚀 Validation: 100%|██████████| 2/2 [00:00<00:00, 67.94it/s, loss=6.5625]\n"
     ]
    },
    {
     "name": "stdout",
     "output_type": "stream",
     "text": [
      "[Epoch 58] Train Loss: 6.5954 | Val Loss: 6.5725\n",
      "  -> New best model saved at saved/best_sp.pt\n",
      "Epoch 59/300\n"
     ]
    },
    {
     "name": "stderr",
     "output_type": "stream",
     "text": [
      "🚀 Training: 100%|██████████| 13/13 [00:00<00:00, 20.55it/s, loss=6.5110]\n",
      "🚀 Validation: 100%|██████████| 2/2 [00:00<00:00, 65.65it/s, loss=6.5415]\n"
     ]
    },
    {
     "name": "stdout",
     "output_type": "stream",
     "text": [
      "[Epoch 59] Train Loss: 6.5721 | Val Loss: 6.5516\n",
      "  -> New best model saved at saved/best_sp.pt\n",
      "Epoch 60/300\n"
     ]
    },
    {
     "name": "stderr",
     "output_type": "stream",
     "text": [
      "🚀 Training: 100%|██████████| 13/13 [00:00<00:00, 20.95it/s, loss=6.5263]\n",
      "🚀 Validation: 100%|██████████| 2/2 [00:00<00:00, 68.38it/s, loss=6.5207]\n"
     ]
    },
    {
     "name": "stdout",
     "output_type": "stream",
     "text": [
      "[Epoch 60] Train Loss: 6.5517 | Val Loss: 6.5310\n",
      "  -> New best model saved at saved/best_sp.pt\n",
      "Epoch 61/300\n"
     ]
    },
    {
     "name": "stderr",
     "output_type": "stream",
     "text": [
      "🚀 Training: 100%|██████████| 13/13 [00:00<00:00, 20.80it/s, loss=6.4499]\n",
      "🚀 Validation: 100%|██████████| 2/2 [00:00<00:00, 72.66it/s, loss=6.5002]\n"
     ]
    },
    {
     "name": "stdout",
     "output_type": "stream",
     "text": [
      "[Epoch 61] Train Loss: 6.5296 | Val Loss: 6.5106\n",
      "  -> New best model saved at saved/best_sp.pt\n",
      "Epoch 62/300\n"
     ]
    },
    {
     "name": "stderr",
     "output_type": "stream",
     "text": [
      "🚀 Training: 100%|██████████| 13/13 [00:00<00:00, 20.74it/s, loss=6.5244]\n",
      "🚀 Validation: 100%|██████████| 2/2 [00:00<00:00, 72.10it/s, loss=6.4798]\n"
     ]
    },
    {
     "name": "stdout",
     "output_type": "stream",
     "text": [
      "[Epoch 62] Train Loss: 6.5123 | Val Loss: 6.4905\n",
      "  -> New best model saved at saved/best_sp.pt\n",
      "Epoch 63/300\n"
     ]
    },
    {
     "name": "stderr",
     "output_type": "stream",
     "text": [
      "🚀 Training: 100%|██████████| 13/13 [00:00<00:00, 20.78it/s, loss=6.4806]\n",
      "🚀 Validation: 100%|██████████| 2/2 [00:00<00:00, 73.28it/s, loss=6.4599]\n"
     ]
    },
    {
     "name": "stdout",
     "output_type": "stream",
     "text": [
      "[Epoch 63] Train Loss: 6.4918 | Val Loss: 6.4707\n",
      "  -> New best model saved at saved/best_sp.pt\n",
      "Epoch 64/300\n"
     ]
    },
    {
     "name": "stderr",
     "output_type": "stream",
     "text": [
      "🚀 Training: 100%|██████████| 13/13 [00:00<00:00, 20.90it/s, loss=6.4804]\n",
      "🚀 Validation: 100%|██████████| 2/2 [00:00<00:00, 67.25it/s, loss=6.4401]\n"
     ]
    },
    {
     "name": "stdout",
     "output_type": "stream",
     "text": [
      "[Epoch 64] Train Loss: 6.4722 | Val Loss: 6.4511\n",
      "  -> New best model saved at saved/best_sp.pt\n",
      "Epoch 65/300\n"
     ]
    },
    {
     "name": "stderr",
     "output_type": "stream",
     "text": [
      "🚀 Training: 100%|██████████| 13/13 [00:00<00:00, 20.72it/s, loss=6.4392]\n",
      "🚀 Validation: 100%|██████████| 2/2 [00:00<00:00, 71.90it/s, loss=6.4206]\n"
     ]
    },
    {
     "name": "stdout",
     "output_type": "stream",
     "text": [
      "[Epoch 65] Train Loss: 6.4524 | Val Loss: 6.4318\n",
      "  -> New best model saved at saved/best_sp.pt\n",
      "Epoch 66/300\n"
     ]
    },
    {
     "name": "stderr",
     "output_type": "stream",
     "text": [
      "🚀 Training: 100%|██████████| 13/13 [00:00<00:00, 20.87it/s, loss=6.4295]\n",
      "🚀 Validation: 100%|██████████| 2/2 [00:00<00:00, 68.34it/s, loss=6.4013]\n"
     ]
    },
    {
     "name": "stdout",
     "output_type": "stream",
     "text": [
      "[Epoch 66] Train Loss: 6.4329 | Val Loss: 6.4127\n",
      "  -> New best model saved at saved/best_sp.pt\n",
      "Epoch 67/300\n"
     ]
    },
    {
     "name": "stderr",
     "output_type": "stream",
     "text": [
      "🚀 Training: 100%|██████████| 13/13 [00:00<00:00, 20.64it/s, loss=6.4599]\n",
      "🚀 Validation: 100%|██████████| 2/2 [00:00<00:00, 68.08it/s, loss=6.3822]\n"
     ]
    },
    {
     "name": "stdout",
     "output_type": "stream",
     "text": [
      "[Epoch 67] Train Loss: 6.4158 | Val Loss: 6.3938\n",
      "  -> New best model saved at saved/best_sp.pt\n",
      "Epoch 68/300\n"
     ]
    },
    {
     "name": "stderr",
     "output_type": "stream",
     "text": [
      "🚀 Training: 100%|██████████| 13/13 [00:00<00:00, 20.53it/s, loss=6.4109]\n",
      "🚀 Validation: 100%|██████████| 2/2 [00:00<00:00, 71.85it/s, loss=6.3635]\n"
     ]
    },
    {
     "name": "stdout",
     "output_type": "stream",
     "text": [
      "[Epoch 68] Train Loss: 6.3962 | Val Loss: 6.3752\n",
      "  -> New best model saved at saved/best_sp.pt\n",
      "Epoch 69/300\n"
     ]
    },
    {
     "name": "stderr",
     "output_type": "stream",
     "text": [
      "🚀 Training: 100%|██████████| 13/13 [00:00<00:00, 20.82it/s, loss=6.3425]\n",
      "🚀 Validation: 100%|██████████| 2/2 [00:00<00:00, 69.32it/s, loss=6.3450]\n"
     ]
    },
    {
     "name": "stdout",
     "output_type": "stream",
     "text": [
      "[Epoch 69] Train Loss: 6.3749 | Val Loss: 6.3569\n",
      "  -> New best model saved at saved/best_sp.pt\n",
      "Epoch 70/300\n"
     ]
    },
    {
     "name": "stderr",
     "output_type": "stream",
     "text": [
      "🚀 Training: 100%|██████████| 13/13 [00:00<00:00, 20.54it/s, loss=6.3850]\n",
      "🚀 Validation: 100%|██████████| 2/2 [00:00<00:00, 67.98it/s, loss=6.3267]\n"
     ]
    },
    {
     "name": "stdout",
     "output_type": "stream",
     "text": [
      "[Epoch 70] Train Loss: 6.3582 | Val Loss: 6.3388\n",
      "  -> New best model saved at saved/best_sp.pt\n",
      "Epoch 71/300\n"
     ]
    },
    {
     "name": "stderr",
     "output_type": "stream",
     "text": [
      "🚀 Training: 100%|██████████| 13/13 [00:00<00:00, 19.85it/s, loss=6.3686]\n",
      "🚀 Validation: 100%|██████████| 2/2 [00:00<00:00, 66.86it/s, loss=6.3086]\n"
     ]
    },
    {
     "name": "stdout",
     "output_type": "stream",
     "text": [
      "[Epoch 71] Train Loss: 6.3402 | Val Loss: 6.3209\n",
      "  -> New best model saved at saved/best_sp.pt\n",
      "Epoch 72/300\n"
     ]
    },
    {
     "name": "stderr",
     "output_type": "stream",
     "text": [
      "🚀 Training: 100%|██████████| 13/13 [00:00<00:00, 20.55it/s, loss=6.3170]\n",
      "🚀 Validation: 100%|██████████| 2/2 [00:00<00:00, 70.13it/s, loss=6.2909]\n"
     ]
    },
    {
     "name": "stdout",
     "output_type": "stream",
     "text": [
      "[Epoch 72] Train Loss: 6.3217 | Val Loss: 6.3033\n",
      "  -> New best model saved at saved/best_sp.pt\n",
      "Epoch 73/300\n"
     ]
    },
    {
     "name": "stderr",
     "output_type": "stream",
     "text": [
      "🚀 Training: 100%|██████████| 13/13 [00:00<00:00, 20.47it/s, loss=6.3007]\n",
      "🚀 Validation: 100%|██████████| 2/2 [00:00<00:00, 71.37it/s, loss=6.2734]\n"
     ]
    },
    {
     "name": "stdout",
     "output_type": "stream",
     "text": [
      "[Epoch 73] Train Loss: 6.3035 | Val Loss: 6.2859\n",
      "  -> New best model saved at saved/best_sp.pt\n",
      "Epoch 74/300\n"
     ]
    },
    {
     "name": "stderr",
     "output_type": "stream",
     "text": [
      "🚀 Training: 100%|██████████| 13/13 [00:00<00:00, 20.40it/s, loss=6.2864]\n",
      "🚀 Validation: 100%|██████████| 2/2 [00:00<00:00, 70.01it/s, loss=6.2560]\n"
     ]
    },
    {
     "name": "stdout",
     "output_type": "stream",
     "text": [
      "[Epoch 74] Train Loss: 6.2873 | Val Loss: 6.2687\n",
      "  -> New best model saved at saved/best_sp.pt\n",
      "Epoch 75/300\n"
     ]
    },
    {
     "name": "stderr",
     "output_type": "stream",
     "text": [
      "🚀 Training: 100%|██████████| 13/13 [00:00<00:00, 20.52it/s, loss=6.2134]\n",
      "🚀 Validation: 100%|██████████| 2/2 [00:00<00:00, 69.04it/s, loss=6.2390]\n"
     ]
    },
    {
     "name": "stdout",
     "output_type": "stream",
     "text": [
      "[Epoch 75] Train Loss: 6.2693 | Val Loss: 6.2518\n",
      "  -> New best model saved at saved/best_sp.pt\n",
      "Epoch 76/300\n"
     ]
    },
    {
     "name": "stderr",
     "output_type": "stream",
     "text": [
      "🚀 Training: 100%|██████████| 13/13 [00:00<00:00, 20.58it/s, loss=6.2475]\n",
      "🚀 Validation: 100%|██████████| 2/2 [00:00<00:00, 70.34it/s, loss=6.2222]\n"
     ]
    },
    {
     "name": "stdout",
     "output_type": "stream",
     "text": [
      "[Epoch 76] Train Loss: 6.2524 | Val Loss: 6.2351\n",
      "  -> New best model saved at saved/best_sp.pt\n",
      "Epoch 77/300\n"
     ]
    },
    {
     "name": "stderr",
     "output_type": "stream",
     "text": [
      "🚀 Training: 100%|██████████| 13/13 [00:00<00:00, 20.43it/s, loss=6.2446]\n",
      "🚀 Validation: 100%|██████████| 2/2 [00:00<00:00, 67.23it/s, loss=6.2056]\n"
     ]
    },
    {
     "name": "stdout",
     "output_type": "stream",
     "text": [
      "[Epoch 77] Train Loss: 6.2363 | Val Loss: 6.2187\n",
      "  -> New best model saved at saved/best_sp.pt\n",
      "Epoch 78/300\n"
     ]
    },
    {
     "name": "stderr",
     "output_type": "stream",
     "text": [
      "🚀 Training: 100%|██████████| 13/13 [00:00<00:00, 20.51it/s, loss=6.2460]\n",
      "🚀 Validation: 100%|██████████| 2/2 [00:00<00:00, 66.76it/s, loss=6.1892]\n"
     ]
    },
    {
     "name": "stdout",
     "output_type": "stream",
     "text": [
      "[Epoch 78] Train Loss: 6.2199 | Val Loss: 6.2024\n",
      "  -> New best model saved at saved/best_sp.pt\n",
      "Epoch 79/300\n"
     ]
    },
    {
     "name": "stderr",
     "output_type": "stream",
     "text": [
      "🚀 Training: 100%|██████████| 13/13 [00:00<00:00, 20.41it/s, loss=6.1373]\n",
      "🚀 Validation: 100%|██████████| 2/2 [00:00<00:00, 67.82it/s, loss=6.1731]\n"
     ]
    },
    {
     "name": "stdout",
     "output_type": "stream",
     "text": [
      "[Epoch 79] Train Loss: 6.2010 | Val Loss: 6.1864\n",
      "  -> New best model saved at saved/best_sp.pt\n",
      "Epoch 80/300\n"
     ]
    },
    {
     "name": "stderr",
     "output_type": "stream",
     "text": [
      "🚀 Training: 100%|██████████| 13/13 [00:00<00:00, 20.37it/s, loss=6.1405]\n",
      "🚀 Validation: 100%|██████████| 2/2 [00:00<00:00, 69.93it/s, loss=6.1571]\n"
     ]
    },
    {
     "name": "stdout",
     "output_type": "stream",
     "text": [
      "[Epoch 80] Train Loss: 6.1855 | Val Loss: 6.1706\n",
      "  -> New best model saved at saved/best_sp.pt\n",
      "Epoch 81/300\n"
     ]
    },
    {
     "name": "stderr",
     "output_type": "stream",
     "text": [
      "🚀 Training: 100%|██████████| 13/13 [00:00<00:00, 20.38it/s, loss=6.1570]\n",
      "🚀 Validation: 100%|██████████| 2/2 [00:00<00:00, 70.23it/s, loss=6.1413]\n"
     ]
    },
    {
     "name": "stdout",
     "output_type": "stream",
     "text": [
      "[Epoch 81] Train Loss: 6.1700 | Val Loss: 6.1550\n",
      "  -> New best model saved at saved/best_sp.pt\n",
      "Epoch 82/300\n"
     ]
    },
    {
     "name": "stderr",
     "output_type": "stream",
     "text": [
      "🚀 Training: 100%|██████████| 13/13 [00:00<00:00, 20.29it/s, loss=6.1363]\n",
      "🚀 Validation: 100%|██████████| 2/2 [00:00<00:00, 64.31it/s, loss=6.1257]\n"
     ]
    },
    {
     "name": "stdout",
     "output_type": "stream",
     "text": [
      "[Epoch 82] Train Loss: 6.1550 | Val Loss: 6.1396\n",
      "  -> New best model saved at saved/best_sp.pt\n",
      "Epoch 83/300\n"
     ]
    },
    {
     "name": "stderr",
     "output_type": "stream",
     "text": [
      "🚀 Training: 100%|██████████| 13/13 [00:00<00:00, 19.89it/s, loss=6.1827]\n",
      "🚀 Validation: 100%|██████████| 2/2 [00:00<00:00, 67.01it/s, loss=6.1104]\n"
     ]
    },
    {
     "name": "stdout",
     "output_type": "stream",
     "text": [
      "[Epoch 83] Train Loss: 6.1411 | Val Loss: 6.1244\n",
      "  -> New best model saved at saved/best_sp.pt\n",
      "Epoch 84/300\n"
     ]
    },
    {
     "name": "stderr",
     "output_type": "stream",
     "text": [
      "🚀 Training: 100%|██████████| 13/13 [00:00<00:00, 20.27it/s, loss=6.1082]\n",
      "🚀 Validation: 100%|██████████| 2/2 [00:00<00:00, 66.41it/s, loss=6.0954]\n"
     ]
    },
    {
     "name": "stdout",
     "output_type": "stream",
     "text": [
      "[Epoch 84] Train Loss: 6.1243 | Val Loss: 6.1095\n",
      "  -> New best model saved at saved/best_sp.pt\n",
      "Epoch 85/300\n"
     ]
    },
    {
     "name": "stderr",
     "output_type": "stream",
     "text": [
      "🚀 Training: 100%|██████████| 13/13 [00:00<00:00, 20.53it/s, loss=6.0957]\n",
      "🚀 Validation: 100%|██████████| 2/2 [00:00<00:00, 70.83it/s, loss=6.0805]\n"
     ]
    },
    {
     "name": "stdout",
     "output_type": "stream",
     "text": [
      "[Epoch 85] Train Loss: 6.1081 | Val Loss: 6.0948\n",
      "  -> New best model saved at saved/best_sp.pt\n",
      "Epoch 86/300\n"
     ]
    },
    {
     "name": "stderr",
     "output_type": "stream",
     "text": [
      "🚀 Training: 100%|██████████| 13/13 [00:00<00:00, 20.22it/s, loss=6.0423]\n",
      "🚀 Validation: 100%|██████████| 2/2 [00:00<00:00, 70.76it/s, loss=6.0657]\n"
     ]
    },
    {
     "name": "stdout",
     "output_type": "stream",
     "text": [
      "[Epoch 86] Train Loss: 6.0928 | Val Loss: 6.0802\n",
      "  -> New best model saved at saved/best_sp.pt\n",
      "Epoch 87/300\n"
     ]
    },
    {
     "name": "stderr",
     "output_type": "stream",
     "text": [
      "🚀 Training: 100%|██████████| 13/13 [00:00<00:00, 20.44it/s, loss=6.0805]\n",
      "🚀 Validation: 100%|██████████| 2/2 [00:00<00:00, 71.61it/s, loss=6.0512]\n"
     ]
    },
    {
     "name": "stdout",
     "output_type": "stream",
     "text": [
      "[Epoch 87] Train Loss: 6.0791 | Val Loss: 6.0658\n",
      "  -> New best model saved at saved/best_sp.pt\n",
      "Epoch 88/300\n"
     ]
    },
    {
     "name": "stderr",
     "output_type": "stream",
     "text": [
      "🚀 Training: 100%|██████████| 13/13 [00:00<00:00, 20.41it/s, loss=6.0576]\n",
      "🚀 Validation: 100%|██████████| 2/2 [00:00<00:00, 68.90it/s, loss=6.0369]\n"
     ]
    },
    {
     "name": "stdout",
     "output_type": "stream",
     "text": [
      "[Epoch 88] Train Loss: 6.0656 | Val Loss: 6.0517\n",
      "  -> New best model saved at saved/best_sp.pt\n",
      "Epoch 89/300\n"
     ]
    },
    {
     "name": "stderr",
     "output_type": "stream",
     "text": [
      "🚀 Training: 100%|██████████| 13/13 [00:00<00:00, 20.57it/s, loss=5.9918]\n",
      "🚀 Validation: 100%|██████████| 2/2 [00:00<00:00, 70.19it/s, loss=6.0229]\n"
     ]
    },
    {
     "name": "stdout",
     "output_type": "stream",
     "text": [
      "[Epoch 89] Train Loss: 6.0500 | Val Loss: 6.0377\n",
      "  -> New best model saved at saved/best_sp.pt\n",
      "Epoch 90/300\n"
     ]
    },
    {
     "name": "stderr",
     "output_type": "stream",
     "text": [
      "🚀 Training: 100%|██████████| 13/13 [00:00<00:00, 20.55it/s, loss=6.0248]\n",
      "🚀 Validation: 100%|██████████| 2/2 [00:00<00:00, 71.65it/s, loss=6.0090]\n"
     ]
    },
    {
     "name": "stdout",
     "output_type": "stream",
     "text": [
      "[Epoch 90] Train Loss: 6.0377 | Val Loss: 6.0239\n",
      "  -> New best model saved at saved/best_sp.pt\n",
      "Epoch 91/300\n"
     ]
    },
    {
     "name": "stderr",
     "output_type": "stream",
     "text": [
      "🚀 Training: 100%|██████████| 13/13 [00:00<00:00, 20.34it/s, loss=5.9909]\n",
      "🚀 Validation: 100%|██████████| 2/2 [00:00<00:00, 66.84it/s, loss=5.9952]\n"
     ]
    },
    {
     "name": "stdout",
     "output_type": "stream",
     "text": [
      "[Epoch 91] Train Loss: 6.0217 | Val Loss: 6.0103\n",
      "  -> New best model saved at saved/best_sp.pt\n",
      "Epoch 92/300\n"
     ]
    },
    {
     "name": "stderr",
     "output_type": "stream",
     "text": [
      "🚀 Training: 100%|██████████| 13/13 [00:00<00:00, 20.34it/s, loss=6.0021]\n",
      "🚀 Validation: 100%|██████████| 2/2 [00:00<00:00, 68.52it/s, loss=5.9817]\n"
     ]
    },
    {
     "name": "stdout",
     "output_type": "stream",
     "text": [
      "[Epoch 92] Train Loss: 6.0090 | Val Loss: 5.9969\n",
      "  -> New best model saved at saved/best_sp.pt\n",
      "Epoch 93/300\n"
     ]
    },
    {
     "name": "stderr",
     "output_type": "stream",
     "text": [
      "🚀 Training: 100%|██████████| 13/13 [00:00<00:00, 20.07it/s, loss=6.0110]\n",
      "🚀 Validation: 100%|██████████| 2/2 [00:00<00:00, 65.99it/s, loss=5.9683]\n"
     ]
    },
    {
     "name": "stdout",
     "output_type": "stream",
     "text": [
      "[Epoch 93] Train Loss: 5.9967 | Val Loss: 5.9837\n",
      "  -> New best model saved at saved/best_sp.pt\n",
      "Epoch 94/300\n"
     ]
    },
    {
     "name": "stderr",
     "output_type": "stream",
     "text": [
      "🚀 Training: 100%|██████████| 13/13 [00:00<00:00, 20.28it/s, loss=5.9508]\n",
      "🚀 Validation: 100%|██████████| 2/2 [00:00<00:00, 66.46it/s, loss=5.9550]\n"
     ]
    },
    {
     "name": "stdout",
     "output_type": "stream",
     "text": [
      "[Epoch 94] Train Loss: 5.9811 | Val Loss: 5.9705\n",
      "  -> New best model saved at saved/best_sp.pt\n",
      "Epoch 95/300\n"
     ]
    },
    {
     "name": "stderr",
     "output_type": "stream",
     "text": [
      "🚀 Training: 100%|██████████| 13/13 [00:00<00:00, 20.40it/s, loss=5.8998]\n",
      "🚀 Validation: 100%|██████████| 2/2 [00:00<00:00, 70.72it/s, loss=5.9419]\n"
     ]
    },
    {
     "name": "stdout",
     "output_type": "stream",
     "text": [
      "[Epoch 95] Train Loss: 5.9670 | Val Loss: 5.9576\n",
      "  -> New best model saved at saved/best_sp.pt\n",
      "Epoch 96/300\n"
     ]
    },
    {
     "name": "stderr",
     "output_type": "stream",
     "text": [
      "🚀 Training: 100%|██████████| 13/13 [00:00<00:00, 20.64it/s, loss=5.9367]\n",
      "🚀 Validation: 100%|██████████| 2/2 [00:00<00:00, 72.11it/s, loss=5.9290]\n"
     ]
    },
    {
     "name": "stdout",
     "output_type": "stream",
     "text": [
      "[Epoch 96] Train Loss: 5.9561 | Val Loss: 5.9449\n",
      "  -> New best model saved at saved/best_sp.pt\n",
      "Epoch 97/300\n"
     ]
    },
    {
     "name": "stderr",
     "output_type": "stream",
     "text": [
      "🚀 Training: 100%|██████████| 13/13 [00:00<00:00, 20.28it/s, loss=5.9253]\n",
      "🚀 Validation: 100%|██████████| 2/2 [00:00<00:00, 66.85it/s, loss=5.9164]\n"
     ]
    },
    {
     "name": "stdout",
     "output_type": "stream",
     "text": [
      "[Epoch 97] Train Loss: 5.9431 | Val Loss: 5.9323\n",
      "  -> New best model saved at saved/best_sp.pt\n",
      "Epoch 98/300\n"
     ]
    },
    {
     "name": "stderr",
     "output_type": "stream",
     "text": [
      "🚀 Training: 100%|██████████| 13/13 [00:00<00:00, 20.39it/s, loss=5.9072]\n",
      "🚀 Validation: 100%|██████████| 2/2 [00:00<00:00, 66.94it/s, loss=5.9038]\n"
     ]
    },
    {
     "name": "stdout",
     "output_type": "stream",
     "text": [
      "[Epoch 98] Train Loss: 5.9307 | Val Loss: 5.9199\n",
      "  -> New best model saved at saved/best_sp.pt\n",
      "Epoch 99/300\n"
     ]
    },
    {
     "name": "stderr",
     "output_type": "stream",
     "text": [
      "🚀 Training: 100%|██████████| 13/13 [00:00<00:00, 20.37it/s, loss=5.9128]\n",
      "🚀 Validation: 100%|██████████| 2/2 [00:00<00:00, 71.30it/s, loss=5.8913]\n"
     ]
    },
    {
     "name": "stdout",
     "output_type": "stream",
     "text": [
      "[Epoch 99] Train Loss: 5.9172 | Val Loss: 5.9076\n",
      "  -> New best model saved at saved/best_sp.pt\n",
      "Epoch 100/300\n"
     ]
    },
    {
     "name": "stderr",
     "output_type": "stream",
     "text": [
      "🚀 Training: 100%|██████████| 13/13 [00:00<00:00, 20.48it/s, loss=5.9285]\n",
      "🚀 Validation: 100%|██████████| 2/2 [00:00<00:00, 67.96it/s, loss=5.8791]\n"
     ]
    },
    {
     "name": "stdout",
     "output_type": "stream",
     "text": [
      "[Epoch 100] Train Loss: 5.9071 | Val Loss: 5.8955\n",
      "  -> New best model saved at saved/best_sp.pt\n",
      "Epoch 101/300\n"
     ]
    },
    {
     "name": "stderr",
     "output_type": "stream",
     "text": [
      "🚀 Training: 100%|██████████| 13/13 [00:00<00:00, 20.57it/s, loss=5.8713]\n",
      "🚀 Validation: 100%|██████████| 2/2 [00:00<00:00, 71.22it/s, loss=5.8670]\n"
     ]
    },
    {
     "name": "stdout",
     "output_type": "stream",
     "text": [
      "[Epoch 101] Train Loss: 5.8937 | Val Loss: 5.8835\n",
      "  -> New best model saved at saved/best_sp.pt\n",
      "Epoch 102/300\n"
     ]
    },
    {
     "name": "stderr",
     "output_type": "stream",
     "text": [
      "🚀 Training: 100%|██████████| 13/13 [00:00<00:00, 20.54it/s, loss=5.8613]\n",
      "🚀 Validation: 100%|██████████| 2/2 [00:00<00:00, 69.77it/s, loss=5.8550]\n"
     ]
    },
    {
     "name": "stdout",
     "output_type": "stream",
     "text": [
      "[Epoch 102] Train Loss: 5.8813 | Val Loss: 5.8717\n",
      "  -> New best model saved at saved/best_sp.pt\n",
      "Epoch 103/300\n"
     ]
    },
    {
     "name": "stderr",
     "output_type": "stream",
     "text": [
      "🚀 Training: 100%|██████████| 13/13 [00:00<00:00, 20.58it/s, loss=5.7992]\n",
      "🚀 Validation: 100%|██████████| 2/2 [00:00<00:00, 67.31it/s, loss=5.8431]\n"
     ]
    },
    {
     "name": "stdout",
     "output_type": "stream",
     "text": [
      "[Epoch 103] Train Loss: 5.8663 | Val Loss: 5.8599\n",
      "  -> New best model saved at saved/best_sp.pt\n",
      "Epoch 104/300\n"
     ]
    },
    {
     "name": "stderr",
     "output_type": "stream",
     "text": [
      "🚀 Training: 100%|██████████| 13/13 [00:00<00:00, 20.23it/s, loss=5.8711]\n",
      "🚀 Validation: 100%|██████████| 2/2 [00:00<00:00, 70.36it/s, loss=5.8315]\n"
     ]
    },
    {
     "name": "stdout",
     "output_type": "stream",
     "text": [
      "[Epoch 104] Train Loss: 5.8584 | Val Loss: 5.8484\n",
      "  -> New best model saved at saved/best_sp.pt\n",
      "Epoch 105/300\n"
     ]
    },
    {
     "name": "stderr",
     "output_type": "stream",
     "text": [
      "🚀 Training: 100%|██████████| 13/13 [00:00<00:00, 20.48it/s, loss=5.7945]\n",
      "🚀 Validation: 100%|██████████| 2/2 [00:00<00:00, 68.00it/s, loss=5.8198]\n"
     ]
    },
    {
     "name": "stdout",
     "output_type": "stream",
     "text": [
      "[Epoch 105] Train Loss: 5.8439 | Val Loss: 5.8369\n",
      "  -> New best model saved at saved/best_sp.pt\n",
      "Epoch 106/300\n"
     ]
    },
    {
     "name": "stderr",
     "output_type": "stream",
     "text": [
      "🚀 Training: 100%|██████████| 13/13 [00:00<00:00, 20.54it/s, loss=5.8355]\n",
      "🚀 Validation: 100%|██████████| 2/2 [00:00<00:00, 66.97it/s, loss=5.8084]\n"
     ]
    },
    {
     "name": "stdout",
     "output_type": "stream",
     "text": [
      "[Epoch 106] Train Loss: 5.8331 | Val Loss: 5.8256\n",
      "  -> New best model saved at saved/best_sp.pt\n",
      "Epoch 107/300\n"
     ]
    },
    {
     "name": "stderr",
     "output_type": "stream",
     "text": [
      "🚀 Training: 100%|██████████| 13/13 [00:00<00:00, 20.16it/s, loss=5.8538]\n",
      "🚀 Validation: 100%|██████████| 2/2 [00:00<00:00, 68.72it/s, loss=5.7971]\n"
     ]
    },
    {
     "name": "stdout",
     "output_type": "stream",
     "text": [
      "[Epoch 107] Train Loss: 5.8254 | Val Loss: 5.8144\n",
      "  -> New best model saved at saved/best_sp.pt\n",
      "Epoch 108/300\n"
     ]
    },
    {
     "name": "stderr",
     "output_type": "stream",
     "text": [
      "🚀 Training: 100%|██████████| 13/13 [00:00<00:00, 20.27it/s, loss=5.7495]\n",
      "🚀 Validation: 100%|██████████| 2/2 [00:00<00:00, 69.31it/s, loss=5.7859]\n"
     ]
    },
    {
     "name": "stdout",
     "output_type": "stream",
     "text": [
      "[Epoch 108] Train Loss: 5.8098 | Val Loss: 5.8034\n",
      "  -> New best model saved at saved/best_sp.pt\n",
      "Epoch 109/300\n"
     ]
    },
    {
     "name": "stderr",
     "output_type": "stream",
     "text": [
      "🚀 Training: 100%|██████████| 13/13 [00:00<00:00, 20.35it/s, loss=5.7547]\n",
      "🚀 Validation: 100%|██████████| 2/2 [00:00<00:00, 67.95it/s, loss=5.7749]\n"
     ]
    },
    {
     "name": "stdout",
     "output_type": "stream",
     "text": [
      "[Epoch 109] Train Loss: 5.8007 | Val Loss: 5.7925\n",
      "  -> New best model saved at saved/best_sp.pt\n",
      "Epoch 110/300\n"
     ]
    },
    {
     "name": "stderr",
     "output_type": "stream",
     "text": [
      "🚀 Training: 100%|██████████| 13/13 [00:00<00:00, 20.34it/s, loss=5.8197]\n",
      "🚀 Validation: 100%|██████████| 2/2 [00:00<00:00, 68.29it/s, loss=5.7638]\n"
     ]
    },
    {
     "name": "stdout",
     "output_type": "stream",
     "text": [
      "[Epoch 110] Train Loss: 5.7899 | Val Loss: 5.7817\n",
      "  -> New best model saved at saved/best_sp.pt\n",
      "Epoch 111/300\n"
     ]
    },
    {
     "name": "stderr",
     "output_type": "stream",
     "text": [
      "🚀 Training: 100%|██████████| 13/13 [00:00<00:00, 20.37it/s, loss=5.7527]\n",
      "🚀 Validation: 100%|██████████| 2/2 [00:00<00:00, 69.27it/s, loss=5.7530]\n"
     ]
    },
    {
     "name": "stdout",
     "output_type": "stream",
     "text": [
      "[Epoch 111] Train Loss: 5.7788 | Val Loss: 5.7710\n",
      "  -> New best model saved at saved/best_sp.pt\n",
      "Epoch 112/300\n"
     ]
    },
    {
     "name": "stderr",
     "output_type": "stream",
     "text": [
      "🚀 Training: 100%|██████████| 13/13 [00:00<00:00, 20.45it/s, loss=5.8588]\n",
      "🚀 Validation: 100%|██████████| 2/2 [00:00<00:00, 69.66it/s, loss=5.7423]\n"
     ]
    },
    {
     "name": "stdout",
     "output_type": "stream",
     "text": [
      "[Epoch 112] Train Loss: 5.7717 | Val Loss: 5.7605\n",
      "  -> New best model saved at saved/best_sp.pt\n",
      "Epoch 113/300\n"
     ]
    },
    {
     "name": "stderr",
     "output_type": "stream",
     "text": [
      "🚀 Training: 100%|██████████| 13/13 [00:00<00:00, 20.50it/s, loss=5.8310]\n",
      "🚀 Validation: 100%|██████████| 2/2 [00:00<00:00, 69.29it/s, loss=5.7316]\n"
     ]
    },
    {
     "name": "stdout",
     "output_type": "stream",
     "text": [
      "[Epoch 113] Train Loss: 5.7600 | Val Loss: 5.7500\n",
      "  -> New best model saved at saved/best_sp.pt\n",
      "Epoch 114/300\n"
     ]
    },
    {
     "name": "stderr",
     "output_type": "stream",
     "text": [
      "🚀 Training: 100%|██████████| 13/13 [00:00<00:00, 20.46it/s, loss=5.7073]\n",
      "🚀 Validation: 100%|██████████| 2/2 [00:00<00:00, 68.98it/s, loss=5.7211]\n"
     ]
    },
    {
     "name": "stdout",
     "output_type": "stream",
     "text": [
      "[Epoch 114] Train Loss: 5.7448 | Val Loss: 5.7396\n",
      "  -> New best model saved at saved/best_sp.pt\n",
      "Epoch 115/300\n"
     ]
    },
    {
     "name": "stderr",
     "output_type": "stream",
     "text": [
      "🚀 Training: 100%|██████████| 13/13 [00:00<00:00, 20.57it/s, loss=5.7044]\n",
      "🚀 Validation: 100%|██████████| 2/2 [00:00<00:00, 70.05it/s, loss=5.7108]\n"
     ]
    },
    {
     "name": "stdout",
     "output_type": "stream",
     "text": [
      "[Epoch 115] Train Loss: 5.7360 | Val Loss: 5.7294\n",
      "  -> New best model saved at saved/best_sp.pt\n",
      "Epoch 116/300\n"
     ]
    },
    {
     "name": "stderr",
     "output_type": "stream",
     "text": [
      "🚀 Training: 100%|██████████| 13/13 [00:00<00:00, 20.40it/s, loss=5.6974]\n",
      "🚀 Validation: 100%|██████████| 2/2 [00:00<00:00, 62.36it/s, loss=5.7005]\n"
     ]
    },
    {
     "name": "stdout",
     "output_type": "stream",
     "text": [
      "[Epoch 116] Train Loss: 5.7245 | Val Loss: 5.7193\n",
      "  -> New best model saved at saved/best_sp.pt\n",
      "Epoch 117/300\n"
     ]
    },
    {
     "name": "stderr",
     "output_type": "stream",
     "text": [
      "🚀 Training: 100%|██████████| 13/13 [00:00<00:00, 20.45it/s, loss=5.7513]\n",
      "🚀 Validation: 100%|██████████| 2/2 [00:00<00:00, 71.55it/s, loss=5.6902]\n"
     ]
    },
    {
     "name": "stdout",
     "output_type": "stream",
     "text": [
      "[Epoch 117] Train Loss: 5.7175 | Val Loss: 5.7092\n",
      "  -> New best model saved at saved/best_sp.pt\n",
      "Epoch 118/300\n"
     ]
    },
    {
     "name": "stderr",
     "output_type": "stream",
     "text": [
      "🚀 Training: 100%|██████████| 13/13 [00:00<00:00, 20.38it/s, loss=5.6743]\n",
      "🚀 Validation: 100%|██████████| 2/2 [00:00<00:00, 71.35it/s, loss=5.6803]\n"
     ]
    },
    {
     "name": "stdout",
     "output_type": "stream",
     "text": [
      "[Epoch 118] Train Loss: 5.7054 | Val Loss: 5.6994\n",
      "  -> New best model saved at saved/best_sp.pt\n",
      "Epoch 119/300\n"
     ]
    },
    {
     "name": "stderr",
     "output_type": "stream",
     "text": [
      "🚀 Training: 100%|██████████| 13/13 [00:00<00:00, 20.49it/s, loss=5.6678]\n",
      "🚀 Validation: 100%|██████████| 2/2 [00:00<00:00, 68.50it/s, loss=5.6701]\n"
     ]
    },
    {
     "name": "stdout",
     "output_type": "stream",
     "text": [
      "[Epoch 119] Train Loss: 5.6961 | Val Loss: 5.6895\n",
      "  -> New best model saved at saved/best_sp.pt\n",
      "Epoch 120/300\n"
     ]
    },
    {
     "name": "stderr",
     "output_type": "stream",
     "text": [
      "🚀 Training: 100%|██████████| 13/13 [00:00<00:00, 20.45it/s, loss=5.6501]\n",
      "🚀 Validation: 100%|██████████| 2/2 [00:00<00:00, 69.53it/s, loss=5.6602]\n"
     ]
    },
    {
     "name": "stdout",
     "output_type": "stream",
     "text": [
      "[Epoch 120] Train Loss: 5.6845 | Val Loss: 5.6798\n",
      "  -> New best model saved at saved/best_sp.pt\n",
      "Epoch 121/300\n"
     ]
    },
    {
     "name": "stderr",
     "output_type": "stream",
     "text": [
      "🚀 Training: 100%|██████████| 13/13 [00:00<00:00, 20.59it/s, loss=5.7224]\n",
      "🚀 Validation: 100%|██████████| 2/2 [00:00<00:00, 72.04it/s, loss=5.6504]\n"
     ]
    },
    {
     "name": "stdout",
     "output_type": "stream",
     "text": [
      "[Epoch 121] Train Loss: 5.6775 | Val Loss: 5.6702\n",
      "  -> New best model saved at saved/best_sp.pt\n",
      "Epoch 122/300\n"
     ]
    },
    {
     "name": "stderr",
     "output_type": "stream",
     "text": [
      "🚀 Training: 100%|██████████| 13/13 [00:00<00:00, 20.72it/s, loss=5.6527]\n",
      "🚀 Validation: 100%|██████████| 2/2 [00:00<00:00, 68.79it/s, loss=5.6406]\n"
     ]
    },
    {
     "name": "stdout",
     "output_type": "stream",
     "text": [
      "[Epoch 122] Train Loss: 5.6672 | Val Loss: 5.6607\n",
      "  -> New best model saved at saved/best_sp.pt\n",
      "Epoch 123/300\n"
     ]
    },
    {
     "name": "stderr",
     "output_type": "stream",
     "text": [
      "🚀 Training: 100%|██████████| 13/13 [00:00<00:00, 20.29it/s, loss=5.6662]\n",
      "🚀 Validation: 100%|██████████| 2/2 [00:00<00:00, 72.31it/s, loss=5.6312]\n"
     ]
    },
    {
     "name": "stdout",
     "output_type": "stream",
     "text": [
      "[Epoch 123] Train Loss: 5.6575 | Val Loss: 5.6514\n",
      "  -> New best model saved at saved/best_sp.pt\n",
      "Epoch 124/300\n"
     ]
    },
    {
     "name": "stderr",
     "output_type": "stream",
     "text": [
      "🚀 Training: 100%|██████████| 13/13 [00:00<00:00, 20.71it/s, loss=5.6772]\n",
      "🚀 Validation: 100%|██████████| 2/2 [00:00<00:00, 71.28it/s, loss=5.6216]\n"
     ]
    },
    {
     "name": "stdout",
     "output_type": "stream",
     "text": [
      "[Epoch 124] Train Loss: 5.6496 | Val Loss: 5.6421\n",
      "  -> New best model saved at saved/best_sp.pt\n",
      "Epoch 125/300\n"
     ]
    },
    {
     "name": "stderr",
     "output_type": "stream",
     "text": [
      "🚀 Training: 100%|██████████| 13/13 [00:00<00:00, 20.35it/s, loss=5.6660]\n",
      "🚀 Validation: 100%|██████████| 2/2 [00:00<00:00, 70.46it/s, loss=5.6122]\n"
     ]
    },
    {
     "name": "stdout",
     "output_type": "stream",
     "text": [
      "[Epoch 125] Train Loss: 5.6396 | Val Loss: 5.6329\n",
      "  -> New best model saved at saved/best_sp.pt\n",
      "Epoch 126/300\n"
     ]
    },
    {
     "name": "stderr",
     "output_type": "stream",
     "text": [
      "🚀 Training: 100%|██████████| 13/13 [00:00<00:00, 20.22it/s, loss=5.7118]\n",
      "🚀 Validation: 100%|██████████| 2/2 [00:00<00:00, 68.45it/s, loss=5.6029]\n"
     ]
    },
    {
     "name": "stdout",
     "output_type": "stream",
     "text": [
      "[Epoch 126] Train Loss: 5.6313 | Val Loss: 5.6238\n",
      "  -> New best model saved at saved/best_sp.pt\n",
      "Epoch 127/300\n"
     ]
    },
    {
     "name": "stderr",
     "output_type": "stream",
     "text": [
      "🚀 Training: 100%|██████████| 13/13 [00:00<00:00, 20.47it/s, loss=5.6638]\n",
      "🚀 Validation: 100%|██████████| 2/2 [00:00<00:00, 67.84it/s, loss=5.5936]\n"
     ]
    },
    {
     "name": "stdout",
     "output_type": "stream",
     "text": [
      "[Epoch 127] Train Loss: 5.6214 | Val Loss: 5.6148\n",
      "  -> New best model saved at saved/best_sp.pt\n",
      "Epoch 128/300\n"
     ]
    },
    {
     "name": "stderr",
     "output_type": "stream",
     "text": [
      "🚀 Training: 100%|██████████| 13/13 [00:00<00:00, 20.24it/s, loss=5.6401]\n",
      "🚀 Validation: 100%|██████████| 2/2 [00:00<00:00, 67.72it/s, loss=5.5846]\n"
     ]
    },
    {
     "name": "stdout",
     "output_type": "stream",
     "text": [
      "[Epoch 128] Train Loss: 5.6123 | Val Loss: 5.6060\n",
      "  -> New best model saved at saved/best_sp.pt\n",
      "Epoch 129/300\n"
     ]
    },
    {
     "name": "stderr",
     "output_type": "stream",
     "text": [
      "🚀 Training: 100%|██████████| 13/13 [00:00<00:00, 20.04it/s, loss=5.5454]\n",
      "🚀 Validation: 100%|██████████| 2/2 [00:00<00:00, 60.82it/s, loss=5.5753]\n"
     ]
    },
    {
     "name": "stdout",
     "output_type": "stream",
     "text": [
      "[Epoch 129] Train Loss: 5.5997 | Val Loss: 5.5972\n",
      "  -> New best model saved at saved/best_sp.pt\n",
      "Epoch 130/300\n"
     ]
    },
    {
     "name": "stderr",
     "output_type": "stream",
     "text": [
      "🚀 Training: 100%|██████████| 13/13 [00:00<00:00, 20.02it/s, loss=5.5403]\n",
      "🚀 Validation: 100%|██████████| 2/2 [00:00<00:00, 68.26it/s, loss=5.5664]\n"
     ]
    },
    {
     "name": "stdout",
     "output_type": "stream",
     "text": [
      "[Epoch 130] Train Loss: 5.5916 | Val Loss: 5.5885\n",
      "  -> New best model saved at saved/best_sp.pt\n",
      "Epoch 131/300\n"
     ]
    },
    {
     "name": "stderr",
     "output_type": "stream",
     "text": [
      "🚀 Training: 100%|██████████| 13/13 [00:00<00:00, 20.14it/s, loss=5.5662]\n",
      "🚀 Validation: 100%|██████████| 2/2 [00:00<00:00, 68.57it/s, loss=5.5575]\n"
     ]
    },
    {
     "name": "stdout",
     "output_type": "stream",
     "text": [
      "[Epoch 131] Train Loss: 5.5834 | Val Loss: 5.5798\n",
      "  -> New best model saved at saved/best_sp.pt\n",
      "Epoch 132/300\n"
     ]
    },
    {
     "name": "stderr",
     "output_type": "stream",
     "text": [
      "🚀 Training: 100%|██████████| 13/13 [00:00<00:00, 19.88it/s, loss=5.5543]\n",
      "🚀 Validation: 100%|██████████| 2/2 [00:00<00:00, 65.57it/s, loss=5.5485]\n"
     ]
    },
    {
     "name": "stdout",
     "output_type": "stream",
     "text": [
      "[Epoch 132] Train Loss: 5.5734 | Val Loss: 5.5712\n",
      "  -> New best model saved at saved/best_sp.pt\n",
      "Epoch 133/300\n"
     ]
    },
    {
     "name": "stderr",
     "output_type": "stream",
     "text": [
      "🚀 Training: 100%|██████████| 13/13 [00:00<00:00, 19.61it/s, loss=5.5756]\n",
      "🚀 Validation: 100%|██████████| 2/2 [00:00<00:00, 65.48it/s, loss=5.5396]\n"
     ]
    },
    {
     "name": "stdout",
     "output_type": "stream",
     "text": [
      "[Epoch 133] Train Loss: 5.5660 | Val Loss: 5.5627\n",
      "  -> New best model saved at saved/best_sp.pt\n",
      "Epoch 134/300\n"
     ]
    },
    {
     "name": "stderr",
     "output_type": "stream",
     "text": [
      "🚀 Training: 100%|██████████| 13/13 [00:00<00:00, 19.75it/s, loss=5.5476]\n",
      "🚀 Validation: 100%|██████████| 2/2 [00:00<00:00, 64.48it/s, loss=5.5309]\n"
     ]
    },
    {
     "name": "stdout",
     "output_type": "stream",
     "text": [
      "[Epoch 134] Train Loss: 5.5568 | Val Loss: 5.5543\n",
      "  -> New best model saved at saved/best_sp.pt\n",
      "Epoch 135/300\n"
     ]
    },
    {
     "name": "stderr",
     "output_type": "stream",
     "text": [
      "🚀 Training: 100%|██████████| 13/13 [00:00<00:00, 20.13it/s, loss=5.4726]\n",
      "🚀 Validation: 100%|██████████| 2/2 [00:00<00:00, 69.21it/s, loss=5.5224]\n"
     ]
    },
    {
     "name": "stdout",
     "output_type": "stream",
     "text": [
      "[Epoch 135] Train Loss: 5.5447 | Val Loss: 5.5461\n",
      "  -> New best model saved at saved/best_sp.pt\n",
      "Epoch 136/300\n"
     ]
    },
    {
     "name": "stderr",
     "output_type": "stream",
     "text": [
      "🚀 Training: 100%|██████████| 13/13 [00:00<00:00, 20.13it/s, loss=5.5273]\n",
      "🚀 Validation: 100%|██████████| 2/2 [00:00<00:00, 68.22it/s, loss=5.5138]\n"
     ]
    },
    {
     "name": "stdout",
     "output_type": "stream",
     "text": [
      "[Epoch 136] Train Loss: 5.5401 | Val Loss: 5.5379\n",
      "  -> New best model saved at saved/best_sp.pt\n",
      "Epoch 137/300\n"
     ]
    },
    {
     "name": "stderr",
     "output_type": "stream",
     "text": [
      "🚀 Training: 100%|██████████| 13/13 [00:00<00:00, 20.00it/s, loss=5.5331]\n",
      "🚀 Validation: 100%|██████████| 2/2 [00:00<00:00, 66.47it/s, loss=5.5055]\n"
     ]
    },
    {
     "name": "stdout",
     "output_type": "stream",
     "text": [
      "[Epoch 137] Train Loss: 5.5321 | Val Loss: 5.5298\n",
      "  -> New best model saved at saved/best_sp.pt\n",
      "Epoch 138/300\n"
     ]
    },
    {
     "name": "stderr",
     "output_type": "stream",
     "text": [
      "🚀 Training: 100%|██████████| 13/13 [00:00<00:00, 20.18it/s, loss=5.4523]\n",
      "🚀 Validation: 100%|██████████| 2/2 [00:00<00:00, 65.51it/s, loss=5.4969]\n"
     ]
    },
    {
     "name": "stdout",
     "output_type": "stream",
     "text": [
      "[Epoch 138] Train Loss: 5.5221 | Val Loss: 5.5217\n",
      "  -> New best model saved at saved/best_sp.pt\n",
      "Epoch 139/300\n"
     ]
    },
    {
     "name": "stderr",
     "output_type": "stream",
     "text": [
      "🚀 Training: 100%|██████████| 13/13 [00:00<00:00, 19.77it/s, loss=5.4754]\n",
      "🚀 Validation: 100%|██████████| 2/2 [00:00<00:00, 67.92it/s, loss=5.4885]\n"
     ]
    },
    {
     "name": "stdout",
     "output_type": "stream",
     "text": [
      "[Epoch 139] Train Loss: 5.5134 | Val Loss: 5.5136\n",
      "  -> New best model saved at saved/best_sp.pt\n",
      "Epoch 140/300\n"
     ]
    },
    {
     "name": "stderr",
     "output_type": "stream",
     "text": [
      "🚀 Training: 100%|██████████| 13/13 [00:00<00:00, 19.92it/s, loss=5.4592]\n",
      "🚀 Validation: 100%|██████████| 2/2 [00:00<00:00, 65.16it/s, loss=5.4802]\n"
     ]
    },
    {
     "name": "stdout",
     "output_type": "stream",
     "text": [
      "[Epoch 140] Train Loss: 5.5086 | Val Loss: 5.5056\n",
      "  -> New best model saved at saved/best_sp.pt\n",
      "Epoch 141/300\n"
     ]
    },
    {
     "name": "stderr",
     "output_type": "stream",
     "text": [
      "🚀 Training: 100%|██████████| 13/13 [00:00<00:00, 19.78it/s, loss=5.4569]\n",
      "🚀 Validation: 100%|██████████| 2/2 [00:00<00:00, 59.70it/s, loss=5.4721]\n"
     ]
    },
    {
     "name": "stdout",
     "output_type": "stream",
     "text": [
      "[Epoch 141] Train Loss: 5.4989 | Val Loss: 5.4978\n",
      "  -> New best model saved at saved/best_sp.pt\n",
      "Epoch 142/300\n"
     ]
    },
    {
     "name": "stderr",
     "output_type": "stream",
     "text": [
      "🚀 Training: 100%|██████████| 13/13 [00:00<00:00, 19.26it/s, loss=5.4084]\n",
      "🚀 Validation: 100%|██████████| 2/2 [00:00<00:00, 61.79it/s, loss=5.4641]\n"
     ]
    },
    {
     "name": "stdout",
     "output_type": "stream",
     "text": [
      "[Epoch 142] Train Loss: 5.4889 | Val Loss: 5.4901\n",
      "  -> New best model saved at saved/best_sp.pt\n",
      "Epoch 143/300\n"
     ]
    },
    {
     "name": "stderr",
     "output_type": "stream",
     "text": [
      "🚀 Training: 100%|██████████| 13/13 [00:00<00:00, 19.69it/s, loss=5.4951]\n",
      "🚀 Validation: 100%|██████████| 2/2 [00:00<00:00, 67.44it/s, loss=5.4562]\n"
     ]
    },
    {
     "name": "stdout",
     "output_type": "stream",
     "text": [
      "[Epoch 143] Train Loss: 5.4853 | Val Loss: 5.4826\n",
      "  -> New best model saved at saved/best_sp.pt\n",
      "Epoch 144/300\n"
     ]
    },
    {
     "name": "stderr",
     "output_type": "stream",
     "text": [
      "🚀 Training: 100%|██████████| 13/13 [00:00<00:00, 19.87it/s, loss=5.5094]\n",
      "🚀 Validation: 100%|██████████| 2/2 [00:00<00:00, 64.24it/s, loss=5.4480]\n"
     ]
    },
    {
     "name": "stdout",
     "output_type": "stream",
     "text": [
      "[Epoch 144] Train Loss: 5.4773 | Val Loss: 5.4748\n",
      "  -> New best model saved at saved/best_sp.pt\n",
      "Epoch 145/300\n"
     ]
    },
    {
     "name": "stderr",
     "output_type": "stream",
     "text": [
      "🚀 Training: 100%|██████████| 13/13 [00:00<00:00, 19.87it/s, loss=5.4026]\n",
      "🚀 Validation: 100%|██████████| 2/2 [00:00<00:00, 63.69it/s, loss=5.4400]\n"
     ]
    },
    {
     "name": "stdout",
     "output_type": "stream",
     "text": [
      "[Epoch 145] Train Loss: 5.4648 | Val Loss: 5.4673\n",
      "  -> New best model saved at saved/best_sp.pt\n",
      "Epoch 146/300\n"
     ]
    },
    {
     "name": "stderr",
     "output_type": "stream",
     "text": [
      "🚀 Training: 100%|██████████| 13/13 [00:00<00:00, 20.03it/s, loss=5.4530]\n",
      "🚀 Validation: 100%|██████████| 2/2 [00:00<00:00, 66.90it/s, loss=5.4320]\n"
     ]
    },
    {
     "name": "stdout",
     "output_type": "stream",
     "text": [
      "[Epoch 146] Train Loss: 5.4598 | Val Loss: 5.4597\n",
      "  -> New best model saved at saved/best_sp.pt\n",
      "Epoch 147/300\n"
     ]
    },
    {
     "name": "stderr",
     "output_type": "stream",
     "text": [
      "🚀 Training: 100%|██████████| 13/13 [00:00<00:00, 20.05it/s, loss=5.4605]\n",
      "🚀 Validation: 100%|██████████| 2/2 [00:00<00:00, 64.95it/s, loss=5.4240]\n"
     ]
    },
    {
     "name": "stdout",
     "output_type": "stream",
     "text": [
      "[Epoch 147] Train Loss: 5.4537 | Val Loss: 5.4522\n",
      "  -> New best model saved at saved/best_sp.pt\n",
      "Epoch 148/300\n"
     ]
    },
    {
     "name": "stderr",
     "output_type": "stream",
     "text": [
      "🚀 Training: 100%|██████████| 13/13 [00:00<00:00, 20.20it/s, loss=5.4553]\n",
      "🚀 Validation: 100%|██████████| 2/2 [00:00<00:00, 59.98it/s, loss=5.4159]\n"
     ]
    },
    {
     "name": "stdout",
     "output_type": "stream",
     "text": [
      "[Epoch 148] Train Loss: 5.4454 | Val Loss: 5.4447\n",
      "  -> New best model saved at saved/best_sp.pt\n",
      "Epoch 149/300\n"
     ]
    },
    {
     "name": "stderr",
     "output_type": "stream",
     "text": [
      "🚀 Training: 100%|██████████| 13/13 [00:00<00:00, 20.03it/s, loss=5.4386]\n",
      "🚀 Validation: 100%|██████████| 2/2 [00:00<00:00, 65.20it/s, loss=5.4081]\n"
     ]
    },
    {
     "name": "stdout",
     "output_type": "stream",
     "text": [
      "[Epoch 149] Train Loss: 5.4385 | Val Loss: 5.4374\n",
      "  -> New best model saved at saved/best_sp.pt\n",
      "Epoch 150/300\n"
     ]
    },
    {
     "name": "stderr",
     "output_type": "stream",
     "text": [
      "🚀 Training: 100%|██████████| 13/13 [00:00<00:00, 19.69it/s, loss=5.4545]\n",
      "🚀 Validation: 100%|██████████| 2/2 [00:00<00:00, 64.13it/s, loss=5.4000]\n"
     ]
    },
    {
     "name": "stdout",
     "output_type": "stream",
     "text": [
      "[Epoch 150] Train Loss: 5.4317 | Val Loss: 5.4299\n",
      "  -> New best model saved at saved/best_sp.pt\n",
      "Epoch 151/300\n"
     ]
    },
    {
     "name": "stderr",
     "output_type": "stream",
     "text": [
      "🚀 Training: 100%|██████████| 13/13 [00:00<00:00, 20.05it/s, loss=5.4182]\n",
      "🚀 Validation: 100%|██████████| 2/2 [00:00<00:00, 66.69it/s, loss=5.3925]\n"
     ]
    },
    {
     "name": "stdout",
     "output_type": "stream",
     "text": [
      "[Epoch 151] Train Loss: 5.4228 | Val Loss: 5.4228\n",
      "  -> New best model saved at saved/best_sp.pt\n",
      "Epoch 152/300\n"
     ]
    },
    {
     "name": "stderr",
     "output_type": "stream",
     "text": [
      "🚀 Training: 100%|██████████| 13/13 [00:00<00:00, 20.08it/s, loss=5.3533]\n",
      "🚀 Validation: 100%|██████████| 2/2 [00:00<00:00, 68.14it/s, loss=5.3849]\n"
     ]
    },
    {
     "name": "stdout",
     "output_type": "stream",
     "text": [
      "[Epoch 152] Train Loss: 5.4123 | Val Loss: 5.4157\n",
      "  -> New best model saved at saved/best_sp.pt\n",
      "Epoch 153/300\n"
     ]
    },
    {
     "name": "stderr",
     "output_type": "stream",
     "text": [
      "🚀 Training: 100%|██████████| 13/13 [00:00<00:00, 20.21it/s, loss=5.4227]\n",
      "🚀 Validation: 100%|██████████| 2/2 [00:00<00:00, 67.32it/s, loss=5.3774]\n"
     ]
    },
    {
     "name": "stdout",
     "output_type": "stream",
     "text": [
      "[Epoch 153] Train Loss: 5.4086 | Val Loss: 5.4085\n",
      "  -> New best model saved at saved/best_sp.pt\n",
      "Epoch 154/300\n"
     ]
    },
    {
     "name": "stderr",
     "output_type": "stream",
     "text": [
      "🚀 Training: 100%|██████████| 13/13 [00:00<00:00, 19.95it/s, loss=5.4275]\n",
      "🚀 Validation: 100%|██████████| 2/2 [00:00<00:00, 66.71it/s, loss=5.3697]\n"
     ]
    },
    {
     "name": "stdout",
     "output_type": "stream",
     "text": [
      "[Epoch 154] Train Loss: 5.4026 | Val Loss: 5.4014\n",
      "  -> New best model saved at saved/best_sp.pt\n",
      "Epoch 155/300\n"
     ]
    },
    {
     "name": "stderr",
     "output_type": "stream",
     "text": [
      "🚀 Training: 100%|██████████| 13/13 [00:00<00:00, 19.74it/s, loss=5.4208]\n",
      "🚀 Validation: 100%|██████████| 2/2 [00:00<00:00, 64.02it/s, loss=5.3626]\n"
     ]
    },
    {
     "name": "stdout",
     "output_type": "stream",
     "text": [
      "[Epoch 155] Train Loss: 5.3952 | Val Loss: 5.3946\n",
      "  -> New best model saved at saved/best_sp.pt\n",
      "Epoch 156/300\n"
     ]
    },
    {
     "name": "stderr",
     "output_type": "stream",
     "text": [
      "🚀 Training: 100%|██████████| 13/13 [00:00<00:00, 19.89it/s, loss=5.3340]\n",
      "🚀 Validation: 100%|██████████| 2/2 [00:00<00:00, 65.59it/s, loss=5.3552]\n"
     ]
    },
    {
     "name": "stdout",
     "output_type": "stream",
     "text": [
      "[Epoch 156] Train Loss: 5.3867 | Val Loss: 5.3877\n",
      "  -> New best model saved at saved/best_sp.pt\n",
      "Epoch 157/300\n"
     ]
    },
    {
     "name": "stderr",
     "output_type": "stream",
     "text": [
      "🚀 Training: 100%|██████████| 13/13 [00:00<00:00, 20.11it/s, loss=5.3894]\n",
      "🚀 Validation: 100%|██████████| 2/2 [00:00<00:00, 67.68it/s, loss=5.3479]\n"
     ]
    },
    {
     "name": "stdout",
     "output_type": "stream",
     "text": [
      "[Epoch 157] Train Loss: 5.3802 | Val Loss: 5.3808\n",
      "  -> New best model saved at saved/best_sp.pt\n",
      "Epoch 158/300\n"
     ]
    },
    {
     "name": "stderr",
     "output_type": "stream",
     "text": [
      "🚀 Training: 100%|██████████| 13/13 [00:00<00:00, 19.97it/s, loss=5.3392]\n",
      "🚀 Validation: 100%|██████████| 2/2 [00:00<00:00, 66.87it/s, loss=5.3406]\n"
     ]
    },
    {
     "name": "stdout",
     "output_type": "stream",
     "text": [
      "[Epoch 158] Train Loss: 5.3710 | Val Loss: 5.3740\n",
      "  -> New best model saved at saved/best_sp.pt\n",
      "Epoch 159/300\n"
     ]
    },
    {
     "name": "stderr",
     "output_type": "stream",
     "text": [
      "🚀 Training: 100%|██████████| 13/13 [00:00<00:00, 20.17it/s, loss=5.3942]\n",
      "🚀 Validation: 100%|██████████| 2/2 [00:00<00:00, 69.19it/s, loss=5.3332]\n"
     ]
    },
    {
     "name": "stdout",
     "output_type": "stream",
     "text": [
      "[Epoch 159] Train Loss: 5.3680 | Val Loss: 5.3672\n",
      "  -> New best model saved at saved/best_sp.pt\n",
      "Epoch 160/300\n"
     ]
    },
    {
     "name": "stderr",
     "output_type": "stream",
     "text": [
      "🚀 Training: 100%|██████████| 13/13 [00:00<00:00, 20.04it/s, loss=5.4079]\n",
      "🚀 Validation: 100%|██████████| 2/2 [00:00<00:00, 71.39it/s, loss=5.3260]\n"
     ]
    },
    {
     "name": "stdout",
     "output_type": "stream",
     "text": [
      "[Epoch 160] Train Loss: 5.3627 | Val Loss: 5.3604\n",
      "  -> New best model saved at saved/best_sp.pt\n",
      "Epoch 161/300\n"
     ]
    },
    {
     "name": "stderr",
     "output_type": "stream",
     "text": [
      "🚀 Training: 100%|██████████| 13/13 [00:00<00:00, 20.09it/s, loss=5.3537]\n",
      "🚀 Validation: 100%|██████████| 2/2 [00:00<00:00, 65.78it/s, loss=5.3187]\n"
     ]
    },
    {
     "name": "stdout",
     "output_type": "stream",
     "text": [
      "[Epoch 161] Train Loss: 5.3526 | Val Loss: 5.3537\n",
      "  -> New best model saved at saved/best_sp.pt\n",
      "Epoch 162/300\n"
     ]
    },
    {
     "name": "stderr",
     "output_type": "stream",
     "text": [
      "🚀 Training: 100%|██████████| 13/13 [00:00<00:00, 20.00it/s, loss=5.3832]\n",
      "🚀 Validation: 100%|██████████| 2/2 [00:00<00:00, 68.26it/s, loss=5.3114]\n"
     ]
    },
    {
     "name": "stdout",
     "output_type": "stream",
     "text": [
      "[Epoch 162] Train Loss: 5.3481 | Val Loss: 5.3469\n",
      "  -> New best model saved at saved/best_sp.pt\n",
      "Epoch 163/300\n"
     ]
    },
    {
     "name": "stderr",
     "output_type": "stream",
     "text": [
      "🚀 Training: 100%|██████████| 13/13 [00:00<00:00, 20.09it/s, loss=5.3232]\n",
      "🚀 Validation: 100%|██████████| 2/2 [00:00<00:00, 63.13it/s, loss=5.3046]\n"
     ]
    },
    {
     "name": "stdout",
     "output_type": "stream",
     "text": [
      "[Epoch 163] Train Loss: 5.3375 | Val Loss: 5.3404\n",
      "  -> New best model saved at saved/best_sp.pt\n",
      "Epoch 164/300\n"
     ]
    },
    {
     "name": "stderr",
     "output_type": "stream",
     "text": [
      "🚀 Training: 100%|██████████| 13/13 [00:00<00:00, 20.01it/s, loss=5.3230]\n",
      "🚀 Validation: 100%|██████████| 2/2 [00:00<00:00, 67.36it/s, loss=5.2976]\n"
     ]
    },
    {
     "name": "stdout",
     "output_type": "stream",
     "text": [
      "[Epoch 164] Train Loss: 5.3316 | Val Loss: 5.3339\n",
      "  -> New best model saved at saved/best_sp.pt\n",
      "Epoch 165/300\n"
     ]
    },
    {
     "name": "stderr",
     "output_type": "stream",
     "text": [
      "🚀 Training: 100%|██████████| 13/13 [00:00<00:00, 20.02it/s, loss=5.3455]\n",
      "🚀 Validation: 100%|██████████| 2/2 [00:00<00:00, 64.54it/s, loss=5.2906]\n"
     ]
    },
    {
     "name": "stdout",
     "output_type": "stream",
     "text": [
      "[Epoch 165] Train Loss: 5.3257 | Val Loss: 5.3273\n",
      "  -> New best model saved at saved/best_sp.pt\n",
      "Epoch 166/300\n"
     ]
    },
    {
     "name": "stderr",
     "output_type": "stream",
     "text": [
      "🚀 Training: 100%|██████████| 13/13 [00:00<00:00, 19.82it/s, loss=5.2830]\n",
      "🚀 Validation: 100%|██████████| 2/2 [00:00<00:00, 64.96it/s, loss=5.2835]\n"
     ]
    },
    {
     "name": "stdout",
     "output_type": "stream",
     "text": [
      "[Epoch 166] Train Loss: 5.3187 | Val Loss: 5.3208\n",
      "  -> New best model saved at saved/best_sp.pt\n",
      "Epoch 167/300\n"
     ]
    },
    {
     "name": "stderr",
     "output_type": "stream",
     "text": [
      "🚀 Training: 100%|██████████| 13/13 [00:00<00:00, 20.14it/s, loss=5.4376]\n",
      "🚀 Validation: 100%|██████████| 2/2 [00:00<00:00, 67.38it/s, loss=5.2767]\n"
     ]
    },
    {
     "name": "stdout",
     "output_type": "stream",
     "text": [
      "[Epoch 167] Train Loss: 5.3182 | Val Loss: 5.3144\n",
      "  -> New best model saved at saved/best_sp.pt\n",
      "Epoch 168/300\n"
     ]
    },
    {
     "name": "stderr",
     "output_type": "stream",
     "text": [
      "🚀 Training: 100%|██████████| 13/13 [00:00<00:00, 20.03it/s, loss=5.1971]\n",
      "🚀 Validation: 100%|██████████| 2/2 [00:00<00:00, 68.65it/s, loss=5.2697]\n"
     ]
    },
    {
     "name": "stdout",
     "output_type": "stream",
     "text": [
      "[Epoch 168] Train Loss: 5.3030 | Val Loss: 5.3080\n",
      "  -> New best model saved at saved/best_sp.pt\n",
      "Epoch 169/300\n"
     ]
    },
    {
     "name": "stderr",
     "output_type": "stream",
     "text": [
      "🚀 Training: 100%|██████████| 13/13 [00:00<00:00, 20.09it/s, loss=5.2888]\n",
      "🚀 Validation: 100%|██████████| 2/2 [00:00<00:00, 67.10it/s, loss=5.2629]\n"
     ]
    },
    {
     "name": "stdout",
     "output_type": "stream",
     "text": [
      "[Epoch 169] Train Loss: 5.2992 | Val Loss: 5.3016\n",
      "  -> New best model saved at saved/best_sp.pt\n",
      "Epoch 170/300\n"
     ]
    },
    {
     "name": "stderr",
     "output_type": "stream",
     "text": [
      "🚀 Training: 100%|██████████| 13/13 [00:00<00:00, 20.09it/s, loss=5.3158]\n",
      "🚀 Validation: 100%|██████████| 2/2 [00:00<00:00, 65.88it/s, loss=5.2560]\n"
     ]
    },
    {
     "name": "stdout",
     "output_type": "stream",
     "text": [
      "[Epoch 170] Train Loss: 5.2943 | Val Loss: 5.2953\n",
      "  -> New best model saved at saved/best_sp.pt\n",
      "Epoch 171/300\n"
     ]
    },
    {
     "name": "stderr",
     "output_type": "stream",
     "text": [
      "🚀 Training: 100%|██████████| 13/13 [00:00<00:00, 20.19it/s, loss=5.2922]\n",
      "🚀 Validation: 100%|██████████| 2/2 [00:00<00:00, 69.47it/s, loss=5.2493]\n"
     ]
    },
    {
     "name": "stdout",
     "output_type": "stream",
     "text": [
      "[Epoch 171] Train Loss: 5.2884 | Val Loss: 5.2891\n",
      "  -> New best model saved at saved/best_sp.pt\n",
      "Epoch 172/300\n"
     ]
    },
    {
     "name": "stderr",
     "output_type": "stream",
     "text": [
      "🚀 Training: 100%|██████████| 13/13 [00:00<00:00, 20.16it/s, loss=5.2116]\n",
      "🚀 Validation: 100%|██████████| 2/2 [00:00<00:00, 68.13it/s, loss=5.2428]\n"
     ]
    },
    {
     "name": "stdout",
     "output_type": "stream",
     "text": [
      "[Epoch 172] Train Loss: 5.2773 | Val Loss: 5.2829\n",
      "  -> New best model saved at saved/best_sp.pt\n",
      "Epoch 173/300\n"
     ]
    },
    {
     "name": "stderr",
     "output_type": "stream",
     "text": [
      "🚀 Training: 100%|██████████| 13/13 [00:00<00:00, 19.96it/s, loss=5.3367]\n",
      "🚀 Validation: 100%|██████████| 2/2 [00:00<00:00, 63.88it/s, loss=5.2361]\n"
     ]
    },
    {
     "name": "stdout",
     "output_type": "stream",
     "text": [
      "[Epoch 173] Train Loss: 5.2765 | Val Loss: 5.2768\n",
      "  -> New best model saved at saved/best_sp.pt\n",
      "Epoch 174/300\n"
     ]
    },
    {
     "name": "stderr",
     "output_type": "stream",
     "text": [
      "🚀 Training: 100%|██████████| 13/13 [00:00<00:00, 20.06it/s, loss=5.2961]\n",
      "🚀 Validation: 100%|██████████| 2/2 [00:00<00:00, 70.48it/s, loss=5.2297]\n"
     ]
    },
    {
     "name": "stdout",
     "output_type": "stream",
     "text": [
      "[Epoch 174] Train Loss: 5.2709 | Val Loss: 5.2708\n",
      "  -> New best model saved at saved/best_sp.pt\n",
      "Epoch 175/300\n"
     ]
    },
    {
     "name": "stderr",
     "output_type": "stream",
     "text": [
      "🚀 Training: 100%|██████████| 13/13 [00:00<00:00, 20.03it/s, loss=5.2009]\n",
      "🚀 Validation: 100%|██████████| 2/2 [00:00<00:00, 66.29it/s, loss=5.2231]\n"
     ]
    },
    {
     "name": "stdout",
     "output_type": "stream",
     "text": [
      "[Epoch 175] Train Loss: 5.2597 | Val Loss: 5.2647\n",
      "  -> New best model saved at saved/best_sp.pt\n",
      "Epoch 176/300\n"
     ]
    },
    {
     "name": "stderr",
     "output_type": "stream",
     "text": [
      "🚀 Training: 100%|██████████| 13/13 [00:00<00:00, 20.05it/s, loss=5.2526]\n",
      "🚀 Validation: 100%|██████████| 2/2 [00:00<00:00, 63.86it/s, loss=5.2166]\n"
     ]
    },
    {
     "name": "stdout",
     "output_type": "stream",
     "text": [
      "[Epoch 176] Train Loss: 5.2544 | Val Loss: 5.2587\n",
      "  -> New best model saved at saved/best_sp.pt\n",
      "Epoch 177/300\n"
     ]
    },
    {
     "name": "stderr",
     "output_type": "stream",
     "text": [
      "🚀 Training: 100%|██████████| 13/13 [00:00<00:00, 20.08it/s, loss=5.2187]\n",
      "🚀 Validation: 100%|██████████| 2/2 [00:00<00:00, 65.00it/s, loss=5.2104]\n"
     ]
    },
    {
     "name": "stdout",
     "output_type": "stream",
     "text": [
      "[Epoch 177] Train Loss: 5.2495 | Val Loss: 5.2528\n",
      "  -> New best model saved at saved/best_sp.pt\n",
      "Epoch 178/300\n"
     ]
    },
    {
     "name": "stderr",
     "output_type": "stream",
     "text": [
      "🚀 Training: 100%|██████████| 13/13 [00:00<00:00, 19.76it/s, loss=5.2236]\n",
      "🚀 Validation: 100%|██████████| 2/2 [00:00<00:00, 67.23it/s, loss=5.2041]\n"
     ]
    },
    {
     "name": "stdout",
     "output_type": "stream",
     "text": [
      "[Epoch 178] Train Loss: 5.2437 | Val Loss: 5.2469\n",
      "  -> New best model saved at saved/best_sp.pt\n",
      "Epoch 179/300\n"
     ]
    },
    {
     "name": "stderr",
     "output_type": "stream",
     "text": [
      "🚀 Training: 100%|██████████| 13/13 [00:00<00:00, 20.06it/s, loss=5.2375]\n",
      "🚀 Validation: 100%|██████████| 2/2 [00:00<00:00, 69.57it/s, loss=5.1977]\n"
     ]
    },
    {
     "name": "stdout",
     "output_type": "stream",
     "text": [
      "[Epoch 179] Train Loss: 5.2392 | Val Loss: 5.2410\n",
      "  -> New best model saved at saved/best_sp.pt\n",
      "Epoch 180/300\n"
     ]
    },
    {
     "name": "stderr",
     "output_type": "stream",
     "text": [
      "🚀 Training: 100%|██████████| 13/13 [00:00<00:00, 20.03it/s, loss=5.1596]\n",
      "🚀 Validation: 100%|██████████| 2/2 [00:00<00:00, 61.72it/s, loss=5.1914]\n"
     ]
    },
    {
     "name": "stdout",
     "output_type": "stream",
     "text": [
      "[Epoch 180] Train Loss: 5.2292 | Val Loss: 5.2352\n",
      "  -> New best model saved at saved/best_sp.pt\n",
      "Epoch 181/300\n"
     ]
    },
    {
     "name": "stderr",
     "output_type": "stream",
     "text": [
      "🚀 Training: 100%|██████████| 13/13 [00:00<00:00, 20.07it/s, loss=5.3265]\n",
      "🚀 Validation: 100%|██████████| 2/2 [00:00<00:00, 68.99it/s, loss=5.1852]\n"
     ]
    },
    {
     "name": "stdout",
     "output_type": "stream",
     "text": [
      "[Epoch 181] Train Loss: 5.2311 | Val Loss: 5.2295\n",
      "  -> New best model saved at saved/best_sp.pt\n",
      "Epoch 182/300\n"
     ]
    },
    {
     "name": "stderr",
     "output_type": "stream",
     "text": [
      "🚀 Training: 100%|██████████| 13/13 [00:00<00:00, 20.17it/s, loss=5.2004]\n",
      "🚀 Validation: 100%|██████████| 2/2 [00:00<00:00, 66.33it/s, loss=5.1788]\n"
     ]
    },
    {
     "name": "stdout",
     "output_type": "stream",
     "text": [
      "[Epoch 182] Train Loss: 5.2192 | Val Loss: 5.2235\n",
      "  -> New best model saved at saved/best_sp.pt\n",
      "Epoch 183/300\n"
     ]
    },
    {
     "name": "stderr",
     "output_type": "stream",
     "text": [
      "🚀 Training: 100%|██████████| 13/13 [00:00<00:00, 19.66it/s, loss=5.1594]\n",
      "🚀 Validation: 100%|██████████| 2/2 [00:00<00:00, 62.65it/s, loss=5.1727]\n"
     ]
    },
    {
     "name": "stdout",
     "output_type": "stream",
     "text": [
      "[Epoch 183] Train Loss: 5.2136 | Val Loss: 5.2178\n",
      "  -> New best model saved at saved/best_sp.pt\n",
      "Epoch 184/300\n"
     ]
    },
    {
     "name": "stderr",
     "output_type": "stream",
     "text": [
      "🚀 Training: 100%|██████████| 13/13 [00:00<00:00, 19.76it/s, loss=5.2397]\n",
      "🚀 Validation: 100%|██████████| 2/2 [00:00<00:00, 61.57it/s, loss=5.1664]\n"
     ]
    },
    {
     "name": "stdout",
     "output_type": "stream",
     "text": [
      "[Epoch 184] Train Loss: 5.2096 | Val Loss: 5.2122\n",
      "  -> New best model saved at saved/best_sp.pt\n",
      "Epoch 185/300\n"
     ]
    },
    {
     "name": "stderr",
     "output_type": "stream",
     "text": [
      "🚀 Training: 100%|██████████| 13/13 [00:00<00:00, 19.80it/s, loss=5.1986]\n",
      "🚀 Validation: 100%|██████████| 2/2 [00:00<00:00, 63.47it/s, loss=5.1602]\n"
     ]
    },
    {
     "name": "stdout",
     "output_type": "stream",
     "text": [
      "[Epoch 185] Train Loss: 5.2012 | Val Loss: 5.2065\n",
      "  -> New best model saved at saved/best_sp.pt\n",
      "Epoch 186/300\n"
     ]
    },
    {
     "name": "stderr",
     "output_type": "stream",
     "text": [
      "🚀 Training: 100%|██████████| 13/13 [00:00<00:00, 20.22it/s, loss=5.2298]\n",
      "🚀 Validation: 100%|██████████| 2/2 [00:00<00:00, 69.21it/s, loss=5.1542]\n"
     ]
    },
    {
     "name": "stdout",
     "output_type": "stream",
     "text": [
      "[Epoch 186] Train Loss: 5.1974 | Val Loss: 5.2009\n",
      "  -> New best model saved at saved/best_sp.pt\n",
      "Epoch 187/300\n"
     ]
    },
    {
     "name": "stderr",
     "output_type": "stream",
     "text": [
      "🚀 Training: 100%|██████████| 13/13 [00:00<00:00, 19.71it/s, loss=5.1891]\n",
      "🚀 Validation: 100%|██████████| 2/2 [00:00<00:00, 66.09it/s, loss=5.1480]\n"
     ]
    },
    {
     "name": "stdout",
     "output_type": "stream",
     "text": [
      "[Epoch 187] Train Loss: 5.1902 | Val Loss: 5.1951\n",
      "  -> New best model saved at saved/best_sp.pt\n",
      "Epoch 188/300\n"
     ]
    },
    {
     "name": "stderr",
     "output_type": "stream",
     "text": [
      "🚀 Training: 100%|██████████| 13/13 [00:00<00:00, 19.70it/s, loss=5.2245]\n",
      "🚀 Validation: 100%|██████████| 2/2 [00:00<00:00, 64.37it/s, loss=5.1422]\n"
     ]
    },
    {
     "name": "stdout",
     "output_type": "stream",
     "text": [
      "[Epoch 188] Train Loss: 5.1855 | Val Loss: 5.1897\n",
      "  -> New best model saved at saved/best_sp.pt\n",
      "Epoch 189/300\n"
     ]
    },
    {
     "name": "stderr",
     "output_type": "stream",
     "text": [
      "🚀 Training: 100%|██████████| 13/13 [00:00<00:00, 19.93it/s, loss=5.1647]\n",
      "🚀 Validation: 100%|██████████| 2/2 [00:00<00:00, 65.34it/s, loss=5.1361]\n"
     ]
    },
    {
     "name": "stdout",
     "output_type": "stream",
     "text": [
      "[Epoch 189] Train Loss: 5.1791 | Val Loss: 5.1842\n",
      "  -> New best model saved at saved/best_sp.pt\n",
      "Epoch 190/300\n"
     ]
    },
    {
     "name": "stderr",
     "output_type": "stream",
     "text": [
      "🚀 Training: 100%|██████████| 13/13 [00:00<00:00, 20.19it/s, loss=5.1772]\n",
      "🚀 Validation: 100%|██████████| 2/2 [00:00<00:00, 66.87it/s, loss=5.1299]\n"
     ]
    },
    {
     "name": "stdout",
     "output_type": "stream",
     "text": [
      "[Epoch 190] Train Loss: 5.1745 | Val Loss: 5.1786\n",
      "  -> New best model saved at saved/best_sp.pt\n",
      "Epoch 191/300\n"
     ]
    },
    {
     "name": "stderr",
     "output_type": "stream",
     "text": [
      "🚀 Training: 100%|██████████| 13/13 [00:00<00:00, 20.04it/s, loss=5.1315]\n",
      "🚀 Validation: 100%|██████████| 2/2 [00:00<00:00, 66.63it/s, loss=5.1240]\n"
     ]
    },
    {
     "name": "stdout",
     "output_type": "stream",
     "text": [
      "[Epoch 191] Train Loss: 5.1670 | Val Loss: 5.1731\n",
      "  -> New best model saved at saved/best_sp.pt\n",
      "Epoch 192/300\n"
     ]
    },
    {
     "name": "stderr",
     "output_type": "stream",
     "text": [
      "🚀 Training: 100%|██████████| 13/13 [00:00<00:00, 20.10it/s, loss=5.1257]\n",
      "🚀 Validation: 100%|██████████| 2/2 [00:00<00:00, 70.14it/s, loss=5.1183]\n"
     ]
    },
    {
     "name": "stdout",
     "output_type": "stream",
     "text": [
      "[Epoch 192] Train Loss: 5.1624 | Val Loss: 5.1678\n",
      "  -> New best model saved at saved/best_sp.pt\n",
      "Epoch 193/300\n"
     ]
    },
    {
     "name": "stderr",
     "output_type": "stream",
     "text": [
      "🚀 Training: 100%|██████████| 13/13 [00:00<00:00, 19.67it/s, loss=5.1936]\n",
      "🚀 Validation: 100%|██████████| 2/2 [00:00<00:00, 64.05it/s, loss=5.1120]\n"
     ]
    },
    {
     "name": "stdout",
     "output_type": "stream",
     "text": [
      "[Epoch 193] Train Loss: 5.1586 | Val Loss: 5.1621\n",
      "  -> New best model saved at saved/best_sp.pt\n",
      "Epoch 194/300\n"
     ]
    },
    {
     "name": "stderr",
     "output_type": "stream",
     "text": [
      "🚀 Training: 100%|██████████| 13/13 [00:00<00:00, 19.89it/s, loss=5.1430]\n",
      "🚀 Validation: 100%|██████████| 2/2 [00:00<00:00, 69.32it/s, loss=5.1062]\n"
     ]
    },
    {
     "name": "stdout",
     "output_type": "stream",
     "text": [
      "[Epoch 194] Train Loss: 5.1503 | Val Loss: 5.1568\n",
      "  -> New best model saved at saved/best_sp.pt\n",
      "Epoch 195/300\n"
     ]
    },
    {
     "name": "stderr",
     "output_type": "stream",
     "text": [
      "🚀 Training: 100%|██████████| 13/13 [00:00<00:00, 20.06it/s, loss=5.1312]\n",
      "🚀 Validation: 100%|██████████| 2/2 [00:00<00:00, 65.39it/s, loss=5.1005]\n"
     ]
    },
    {
     "name": "stdout",
     "output_type": "stream",
     "text": [
      "[Epoch 195] Train Loss: 5.1441 | Val Loss: 5.1514\n",
      "  -> New best model saved at saved/best_sp.pt\n",
      "Epoch 196/300\n"
     ]
    },
    {
     "name": "stderr",
     "output_type": "stream",
     "text": [
      "🚀 Training: 100%|██████████| 13/13 [00:00<00:00, 20.03it/s, loss=5.1228]\n",
      "🚀 Validation: 100%|██████████| 2/2 [00:00<00:00, 64.21it/s, loss=5.0948]\n"
     ]
    },
    {
     "name": "stdout",
     "output_type": "stream",
     "text": [
      "[Epoch 196] Train Loss: 5.1402 | Val Loss: 5.1461\n",
      "  -> New best model saved at saved/best_sp.pt\n",
      "Epoch 197/300\n"
     ]
    },
    {
     "name": "stderr",
     "output_type": "stream",
     "text": [
      "🚀 Training: 100%|██████████| 13/13 [00:00<00:00, 19.57it/s, loss=5.0601]\n",
      "🚀 Validation: 100%|██████████| 2/2 [00:00<00:00, 60.04it/s, loss=5.0890]\n"
     ]
    },
    {
     "name": "stdout",
     "output_type": "stream",
     "text": [
      "[Epoch 197] Train Loss: 5.1335 | Val Loss: 5.1409\n",
      "  -> New best model saved at saved/best_sp.pt\n",
      "Epoch 198/300\n"
     ]
    },
    {
     "name": "stderr",
     "output_type": "stream",
     "text": [
      "🚀 Training: 100%|██████████| 13/13 [00:00<00:00, 19.74it/s, loss=5.1230]\n",
      "🚀 Validation: 100%|██████████| 2/2 [00:00<00:00, 66.04it/s, loss=5.0834]\n"
     ]
    },
    {
     "name": "stdout",
     "output_type": "stream",
     "text": [
      "[Epoch 198] Train Loss: 5.1281 | Val Loss: 5.1357\n",
      "  -> New best model saved at saved/best_sp.pt\n",
      "Epoch 199/300\n"
     ]
    },
    {
     "name": "stderr",
     "output_type": "stream",
     "text": [
      "🚀 Training: 100%|██████████| 13/13 [00:00<00:00, 19.65it/s, loss=5.1472]\n",
      "🚀 Validation: 100%|██████████| 2/2 [00:00<00:00, 64.09it/s, loss=5.0781]\n"
     ]
    },
    {
     "name": "stdout",
     "output_type": "stream",
     "text": [
      "[Epoch 199] Train Loss: 5.1264 | Val Loss: 5.1307\n",
      "  -> New best model saved at saved/best_sp.pt\n",
      "Epoch 200/300\n"
     ]
    },
    {
     "name": "stderr",
     "output_type": "stream",
     "text": [
      "🚀 Training: 100%|██████████| 13/13 [00:00<00:00, 19.81it/s, loss=5.1124]\n",
      "🚀 Validation: 100%|██████████| 2/2 [00:00<00:00, 64.05it/s, loss=5.0725]\n"
     ]
    },
    {
     "name": "stdout",
     "output_type": "stream",
     "text": [
      "[Epoch 200] Train Loss: 5.1180 | Val Loss: 5.1254\n",
      "  -> New best model saved at saved/best_sp.pt\n",
      "Epoch 201/300\n"
     ]
    },
    {
     "name": "stderr",
     "output_type": "stream",
     "text": [
      "🚀 Training: 100%|██████████| 13/13 [00:00<00:00, 19.72it/s, loss=5.1505]\n",
      "🚀 Validation: 100%|██████████| 2/2 [00:00<00:00, 66.91it/s, loss=5.0669]\n"
     ]
    },
    {
     "name": "stdout",
     "output_type": "stream",
     "text": [
      "[Epoch 201] Train Loss: 5.1157 | Val Loss: 5.1202\n",
      "  -> New best model saved at saved/best_sp.pt\n",
      "Epoch 202/300\n"
     ]
    },
    {
     "name": "stderr",
     "output_type": "stream",
     "text": [
      "🚀 Training: 100%|██████████| 13/13 [00:00<00:00, 19.86it/s, loss=5.1322]\n",
      "🚀 Validation: 100%|██████████| 2/2 [00:00<00:00, 66.77it/s, loss=5.0615]\n"
     ]
    },
    {
     "name": "stdout",
     "output_type": "stream",
     "text": [
      "[Epoch 202] Train Loss: 5.1098 | Val Loss: 5.1151\n",
      "  -> New best model saved at saved/best_sp.pt\n",
      "Epoch 203/300\n"
     ]
    },
    {
     "name": "stderr",
     "output_type": "stream",
     "text": [
      "🚀 Training: 100%|██████████| 13/13 [00:00<00:00, 19.90it/s, loss=5.0479]\n",
      "🚀 Validation: 100%|██████████| 2/2 [00:00<00:00, 64.15it/s, loss=5.0560]\n"
     ]
    },
    {
     "name": "stdout",
     "output_type": "stream",
     "text": [
      "[Epoch 203] Train Loss: 5.1015 | Val Loss: 5.1101\n",
      "  -> New best model saved at saved/best_sp.pt\n",
      "Epoch 204/300\n"
     ]
    },
    {
     "name": "stderr",
     "output_type": "stream",
     "text": [
      "🚀 Training: 100%|██████████| 13/13 [00:00<00:00, 19.93it/s, loss=5.0660]\n",
      "🚀 Validation: 100%|██████████| 2/2 [00:00<00:00, 62.51it/s, loss=5.0507]\n"
     ]
    },
    {
     "name": "stdout",
     "output_type": "stream",
     "text": [
      "[Epoch 204] Train Loss: 5.0967 | Val Loss: 5.1050\n",
      "  -> New best model saved at saved/best_sp.pt\n",
      "Epoch 205/300\n"
     ]
    },
    {
     "name": "stderr",
     "output_type": "stream",
     "text": [
      "🚀 Training: 100%|██████████| 13/13 [00:00<00:00, 19.85it/s, loss=5.0606]\n",
      "🚀 Validation: 100%|██████████| 2/2 [00:00<00:00, 68.60it/s, loss=5.0452]\n"
     ]
    },
    {
     "name": "stdout",
     "output_type": "stream",
     "text": [
      "[Epoch 205] Train Loss: 5.0925 | Val Loss: 5.1000\n",
      "  -> New best model saved at saved/best_sp.pt\n",
      "Epoch 206/300\n"
     ]
    },
    {
     "name": "stderr",
     "output_type": "stream",
     "text": [
      "🚀 Training: 100%|██████████| 13/13 [00:00<00:00, 20.08it/s, loss=5.1165]\n",
      "🚀 Validation: 100%|██████████| 2/2 [00:00<00:00, 68.19it/s, loss=5.0402]\n"
     ]
    },
    {
     "name": "stdout",
     "output_type": "stream",
     "text": [
      "[Epoch 206] Train Loss: 5.0909 | Val Loss: 5.0953\n",
      "  -> New best model saved at saved/best_sp.pt\n",
      "Epoch 207/300\n"
     ]
    },
    {
     "name": "stderr",
     "output_type": "stream",
     "text": [
      "🚀 Training: 100%|██████████| 13/13 [00:00<00:00, 19.95it/s, loss=5.0530]\n",
      "🚀 Validation: 100%|██████████| 2/2 [00:00<00:00, 63.30it/s, loss=5.0349]\n"
     ]
    },
    {
     "name": "stdout",
     "output_type": "stream",
     "text": [
      "[Epoch 207] Train Loss: 5.0841 | Val Loss: 5.0903\n",
      "  -> New best model saved at saved/best_sp.pt\n",
      "Epoch 208/300\n"
     ]
    },
    {
     "name": "stderr",
     "output_type": "stream",
     "text": [
      "🚀 Training: 100%|██████████| 13/13 [00:00<00:00, 19.96it/s, loss=5.0613]\n",
      "🚀 Validation: 100%|██████████| 2/2 [00:00<00:00, 62.02it/s, loss=5.0294]\n"
     ]
    },
    {
     "name": "stdout",
     "output_type": "stream",
     "text": [
      "[Epoch 208] Train Loss: 5.0781 | Val Loss: 5.0853\n",
      "  -> New best model saved at saved/best_sp.pt\n",
      "Epoch 209/300\n"
     ]
    },
    {
     "name": "stderr",
     "output_type": "stream",
     "text": [
      "🚀 Training: 100%|██████████| 13/13 [00:00<00:00, 20.15it/s, loss=5.0732]\n",
      "🚀 Validation: 100%|██████████| 2/2 [00:00<00:00, 68.92it/s, loss=5.0241]\n"
     ]
    },
    {
     "name": "stdout",
     "output_type": "stream",
     "text": [
      "[Epoch 209] Train Loss: 5.0740 | Val Loss: 5.0804\n",
      "  -> New best model saved at saved/best_sp.pt\n",
      "Epoch 210/300\n"
     ]
    },
    {
     "name": "stderr",
     "output_type": "stream",
     "text": [
      "🚀 Training: 100%|██████████| 13/13 [00:00<00:00, 19.93it/s, loss=5.0860]\n",
      "🚀 Validation: 100%|██████████| 2/2 [00:00<00:00, 69.68it/s, loss=5.0188]\n"
     ]
    },
    {
     "name": "stdout",
     "output_type": "stream",
     "text": [
      "[Epoch 210] Train Loss: 5.0687 | Val Loss: 5.0756\n",
      "  -> New best model saved at saved/best_sp.pt\n",
      "Epoch 211/300\n"
     ]
    },
    {
     "name": "stderr",
     "output_type": "stream",
     "text": [
      "🚀 Training: 100%|██████████| 13/13 [00:00<00:00, 20.12it/s, loss=5.1487]\n",
      "🚀 Validation: 100%|██████████| 2/2 [00:00<00:00, 67.48it/s, loss=5.0136]\n"
     ]
    },
    {
     "name": "stdout",
     "output_type": "stream",
     "text": [
      "[Epoch 211] Train Loss: 5.0664 | Val Loss: 5.0707\n",
      "  -> New best model saved at saved/best_sp.pt\n",
      "Epoch 212/300\n"
     ]
    },
    {
     "name": "stderr",
     "output_type": "stream",
     "text": [
      "🚀 Training: 100%|██████████| 13/13 [00:00<00:00, 20.06it/s, loss=5.0027]\n",
      "🚀 Validation: 100%|██████████| 2/2 [00:00<00:00, 65.56it/s, loss=5.0082]\n"
     ]
    },
    {
     "name": "stdout",
     "output_type": "stream",
     "text": [
      "[Epoch 212] Train Loss: 5.0568 | Val Loss: 5.0657\n",
      "  -> New best model saved at saved/best_sp.pt\n",
      "Epoch 213/300\n"
     ]
    },
    {
     "name": "stderr",
     "output_type": "stream",
     "text": [
      "🚀 Training: 100%|██████████| 13/13 [00:00<00:00, 19.99it/s, loss=4.9764]\n",
      "🚀 Validation: 100%|██████████| 2/2 [00:00<00:00, 66.12it/s, loss=5.0031]\n"
     ]
    },
    {
     "name": "stdout",
     "output_type": "stream",
     "text": [
      "[Epoch 213] Train Loss: 5.0501 | Val Loss: 5.0609\n",
      "  -> New best model saved at saved/best_sp.pt\n",
      "Epoch 214/300\n"
     ]
    },
    {
     "name": "stderr",
     "output_type": "stream",
     "text": [
      "🚀 Training: 100%|██████████| 13/13 [00:00<00:00, 20.08it/s, loss=5.1850]\n",
      "🚀 Validation: 100%|██████████| 2/2 [00:00<00:00, 65.04it/s, loss=4.9980]\n"
     ]
    },
    {
     "name": "stdout",
     "output_type": "stream",
     "text": [
      "[Epoch 214] Train Loss: 5.0530 | Val Loss: 5.0563\n",
      "  -> New best model saved at saved/best_sp.pt\n",
      "Epoch 215/300\n"
     ]
    },
    {
     "name": "stderr",
     "output_type": "stream",
     "text": [
      "🚀 Training: 100%|██████████| 13/13 [00:00<00:00, 20.12it/s, loss=5.0126]\n",
      "🚀 Validation: 100%|██████████| 2/2 [00:00<00:00, 68.26it/s, loss=4.9930]\n"
     ]
    },
    {
     "name": "stdout",
     "output_type": "stream",
     "text": [
      "[Epoch 215] Train Loss: 5.0409 | Val Loss: 5.0516\n",
      "  -> New best model saved at saved/best_sp.pt\n",
      "Epoch 216/300\n"
     ]
    },
    {
     "name": "stderr",
     "output_type": "stream",
     "text": [
      "🚀 Training: 100%|██████████| 13/13 [00:00<00:00, 19.92it/s, loss=5.0519]\n",
      "🚀 Validation: 100%|██████████| 2/2 [00:00<00:00, 68.09it/s, loss=4.9878]\n"
     ]
    },
    {
     "name": "stdout",
     "output_type": "stream",
     "text": [
      "[Epoch 216] Train Loss: 5.0390 | Val Loss: 5.0467\n",
      "  -> New best model saved at saved/best_sp.pt\n",
      "Epoch 217/300\n"
     ]
    },
    {
     "name": "stderr",
     "output_type": "stream",
     "text": [
      "🚀 Training: 100%|██████████| 13/13 [00:00<00:00, 19.94it/s, loss=5.1204]\n",
      "🚀 Validation: 100%|██████████| 2/2 [00:00<00:00, 65.75it/s, loss=4.9828]\n"
     ]
    },
    {
     "name": "stdout",
     "output_type": "stream",
     "text": [
      "[Epoch 217] Train Loss: 5.0390 | Val Loss: 5.0422\n",
      "  -> New best model saved at saved/best_sp.pt\n",
      "Epoch 218/300\n"
     ]
    },
    {
     "name": "stderr",
     "output_type": "stream",
     "text": [
      "🚀 Training: 100%|██████████| 13/13 [00:00<00:00, 19.81it/s, loss=5.0148]\n",
      "🚀 Validation: 100%|██████████| 2/2 [00:00<00:00, 63.52it/s, loss=4.9780]\n"
     ]
    },
    {
     "name": "stdout",
     "output_type": "stream",
     "text": [
      "[Epoch 218] Train Loss: 5.0284 | Val Loss: 5.0376\n",
      "  -> New best model saved at saved/best_sp.pt\n",
      "Epoch 219/300\n"
     ]
    },
    {
     "name": "stderr",
     "output_type": "stream",
     "text": [
      "🚀 Training: 100%|██████████| 13/13 [00:00<00:00, 20.09it/s, loss=5.0357]\n",
      "🚀 Validation: 100%|██████████| 2/2 [00:00<00:00, 66.25it/s, loss=4.9729]\n"
     ]
    },
    {
     "name": "stdout",
     "output_type": "stream",
     "text": [
      "[Epoch 219] Train Loss: 5.0238 | Val Loss: 5.0329\n",
      "  -> New best model saved at saved/best_sp.pt\n",
      "Epoch 220/300\n"
     ]
    },
    {
     "name": "stderr",
     "output_type": "stream",
     "text": [
      "🚀 Training: 100%|██████████| 13/13 [00:00<00:00, 20.15it/s, loss=4.9567]\n",
      "🚀 Validation: 100%|██████████| 2/2 [00:00<00:00, 70.71it/s, loss=4.9679]\n"
     ]
    },
    {
     "name": "stdout",
     "output_type": "stream",
     "text": [
      "[Epoch 220] Train Loss: 5.0169 | Val Loss: 5.0283\n",
      "  -> New best model saved at saved/best_sp.pt\n",
      "Epoch 221/300\n"
     ]
    },
    {
     "name": "stderr",
     "output_type": "stream",
     "text": [
      "🚀 Training: 100%|██████████| 13/13 [00:00<00:00, 19.90it/s, loss=5.0635]\n",
      "🚀 Validation: 100%|██████████| 2/2 [00:00<00:00, 60.73it/s, loss=4.9632]\n"
     ]
    },
    {
     "name": "stdout",
     "output_type": "stream",
     "text": [
      "[Epoch 221] Train Loss: 5.0152 | Val Loss: 5.0238\n",
      "  -> New best model saved at saved/best_sp.pt\n",
      "Epoch 222/300\n"
     ]
    },
    {
     "name": "stderr",
     "output_type": "stream",
     "text": [
      "🚀 Training: 100%|██████████| 13/13 [00:00<00:00, 19.75it/s, loss=5.1130]\n",
      "🚀 Validation: 100%|██████████| 2/2 [00:00<00:00, 66.81it/s, loss=4.9582]\n"
     ]
    },
    {
     "name": "stdout",
     "output_type": "stream",
     "text": [
      "[Epoch 222] Train Loss: 5.0138 | Val Loss: 5.0190\n",
      "  -> New best model saved at saved/best_sp.pt\n",
      "Epoch 223/300\n"
     ]
    },
    {
     "name": "stderr",
     "output_type": "stream",
     "text": [
      "🚀 Training: 100%|██████████| 13/13 [00:00<00:00, 20.12it/s, loss=5.0548]\n",
      "🚀 Validation: 100%|██████████| 2/2 [00:00<00:00, 67.81it/s, loss=4.9532]\n"
     ]
    },
    {
     "name": "stdout",
     "output_type": "stream",
     "text": [
      "[Epoch 223] Train Loss: 5.0051 | Val Loss: 5.0144\n",
      "  -> New best model saved at saved/best_sp.pt\n",
      "Epoch 224/300\n"
     ]
    },
    {
     "name": "stderr",
     "output_type": "stream",
     "text": [
      "🚀 Training: 100%|██████████| 13/13 [00:00<00:00, 19.82it/s, loss=4.9670]\n",
      "🚀 Validation: 100%|██████████| 2/2 [00:00<00:00, 66.11it/s, loss=4.9483]\n"
     ]
    },
    {
     "name": "stdout",
     "output_type": "stream",
     "text": [
      "[Epoch 224] Train Loss: 4.9996 | Val Loss: 5.0099\n",
      "  -> New best model saved at saved/best_sp.pt\n",
      "Epoch 225/300\n"
     ]
    },
    {
     "name": "stderr",
     "output_type": "stream",
     "text": [
      "🚀 Training: 100%|██████████| 13/13 [00:00<00:00, 20.05it/s, loss=4.9758]\n",
      "🚀 Validation: 100%|██████████| 2/2 [00:00<00:00, 69.59it/s, loss=4.9435]\n"
     ]
    },
    {
     "name": "stdout",
     "output_type": "stream",
     "text": [
      "[Epoch 225] Train Loss: 4.9923 | Val Loss: 5.0054\n",
      "  -> New best model saved at saved/best_sp.pt\n",
      "Epoch 226/300\n"
     ]
    },
    {
     "name": "stderr",
     "output_type": "stream",
     "text": [
      "🚀 Training: 100%|██████████| 13/13 [00:00<00:00, 20.08it/s, loss=5.0947]\n",
      "🚀 Validation: 100%|██████████| 2/2 [00:00<00:00, 67.98it/s, loss=4.9386]\n"
     ]
    },
    {
     "name": "stdout",
     "output_type": "stream",
     "text": [
      "[Epoch 226] Train Loss: 4.9953 | Val Loss: 5.0009\n",
      "  -> New best model saved at saved/best_sp.pt\n",
      "Epoch 227/300\n"
     ]
    },
    {
     "name": "stderr",
     "output_type": "stream",
     "text": [
      "🚀 Training: 100%|██████████| 13/13 [00:00<00:00, 20.01it/s, loss=5.0024]\n",
      "🚀 Validation: 100%|██████████| 2/2 [00:00<00:00, 65.73it/s, loss=4.9337]\n"
     ]
    },
    {
     "name": "stdout",
     "output_type": "stream",
     "text": [
      "[Epoch 227] Train Loss: 4.9854 | Val Loss: 4.9963\n",
      "  -> New best model saved at saved/best_sp.pt\n",
      "Epoch 228/300\n"
     ]
    },
    {
     "name": "stderr",
     "output_type": "stream",
     "text": [
      "🚀 Training: 100%|██████████| 13/13 [00:00<00:00, 19.90it/s, loss=4.9927]\n",
      "🚀 Validation: 100%|██████████| 2/2 [00:00<00:00, 63.39it/s, loss=4.9293]\n"
     ]
    },
    {
     "name": "stdout",
     "output_type": "stream",
     "text": [
      "[Epoch 228] Train Loss: 4.9815 | Val Loss: 4.9920\n",
      "  -> New best model saved at saved/best_sp.pt\n",
      "Epoch 229/300\n"
     ]
    },
    {
     "name": "stderr",
     "output_type": "stream",
     "text": [
      "🚀 Training: 100%|██████████| 13/13 [00:00<00:00, 19.83it/s, loss=4.9632]\n",
      "🚀 Validation: 100%|██████████| 2/2 [00:00<00:00, 64.86it/s, loss=4.9246]\n"
     ]
    },
    {
     "name": "stdout",
     "output_type": "stream",
     "text": [
      "[Epoch 229] Train Loss: 4.9750 | Val Loss: 4.9876\n",
      "  -> New best model saved at saved/best_sp.pt\n",
      "Epoch 230/300\n"
     ]
    },
    {
     "name": "stderr",
     "output_type": "stream",
     "text": [
      "🚀 Training: 100%|██████████| 13/13 [00:00<00:00, 19.92it/s, loss=4.8953]\n",
      "🚀 Validation: 100%|██████████| 2/2 [00:00<00:00, 66.05it/s, loss=4.9196]\n"
     ]
    },
    {
     "name": "stdout",
     "output_type": "stream",
     "text": [
      "[Epoch 230] Train Loss: 4.9693 | Val Loss: 4.9830\n",
      "  -> New best model saved at saved/best_sp.pt\n",
      "Epoch 231/300\n"
     ]
    },
    {
     "name": "stderr",
     "output_type": "stream",
     "text": [
      "🚀 Training: 100%|██████████| 13/13 [00:00<00:00, 19.75it/s, loss=4.9133]\n",
      "🚀 Validation: 100%|██████████| 2/2 [00:00<00:00, 65.70it/s, loss=4.9152]\n"
     ]
    },
    {
     "name": "stdout",
     "output_type": "stream",
     "text": [
      "[Epoch 231] Train Loss: 4.9655 | Val Loss: 4.9788\n",
      "  -> New best model saved at saved/best_sp.pt\n",
      "Epoch 232/300\n"
     ]
    },
    {
     "name": "stderr",
     "output_type": "stream",
     "text": [
      "🚀 Training: 100%|██████████| 13/13 [00:00<00:00, 20.12it/s, loss=4.9551]\n",
      "🚀 Validation: 100%|██████████| 2/2 [00:00<00:00, 66.31it/s, loss=4.9103]\n"
     ]
    },
    {
     "name": "stdout",
     "output_type": "stream",
     "text": [
      "[Epoch 232] Train Loss: 4.9621 | Val Loss: 4.9743\n",
      "  -> New best model saved at saved/best_sp.pt\n",
      "Epoch 233/300\n"
     ]
    },
    {
     "name": "stderr",
     "output_type": "stream",
     "text": [
      "🚀 Training: 100%|██████████| 13/13 [00:00<00:00, 20.17it/s, loss=4.8684]\n",
      "🚀 Validation: 100%|██████████| 2/2 [00:00<00:00, 67.96it/s, loss=4.9059]\n"
     ]
    },
    {
     "name": "stdout",
     "output_type": "stream",
     "text": [
      "[Epoch 233] Train Loss: 4.9535 | Val Loss: 4.9701\n",
      "  -> New best model saved at saved/best_sp.pt\n",
      "Epoch 234/300\n"
     ]
    },
    {
     "name": "stderr",
     "output_type": "stream",
     "text": [
      "🚀 Training: 100%|██████████| 13/13 [00:00<00:00, 19.84it/s, loss=5.0148]\n",
      "🚀 Validation: 100%|██████████| 2/2 [00:00<00:00, 65.39it/s, loss=4.9010]\n"
     ]
    },
    {
     "name": "stdout",
     "output_type": "stream",
     "text": [
      "[Epoch 234] Train Loss: 4.9563 | Val Loss: 4.9657\n",
      "  -> New best model saved at saved/best_sp.pt\n",
      "Epoch 235/300\n"
     ]
    },
    {
     "name": "stderr",
     "output_type": "stream",
     "text": [
      "🚀 Training: 100%|██████████| 13/13 [00:00<00:00, 19.90it/s, loss=4.8677]\n",
      "🚀 Validation: 100%|██████████| 2/2 [00:00<00:00, 64.31it/s, loss=4.8962]\n"
     ]
    },
    {
     "name": "stdout",
     "output_type": "stream",
     "text": [
      "[Epoch 235] Train Loss: 4.9461 | Val Loss: 4.9614\n",
      "  -> New best model saved at saved/best_sp.pt\n",
      "Epoch 236/300\n"
     ]
    },
    {
     "name": "stderr",
     "output_type": "stream",
     "text": [
      "🚀 Training: 100%|██████████| 13/13 [00:00<00:00, 19.97it/s, loss=4.9243]\n",
      "🚀 Validation: 100%|██████████| 2/2 [00:00<00:00, 64.68it/s, loss=4.8918]\n"
     ]
    },
    {
     "name": "stdout",
     "output_type": "stream",
     "text": [
      "[Epoch 236] Train Loss: 4.9416 | Val Loss: 4.9571\n",
      "  -> New best model saved at saved/best_sp.pt\n",
      "Epoch 237/300\n"
     ]
    },
    {
     "name": "stderr",
     "output_type": "stream",
     "text": [
      "🚀 Training: 100%|██████████| 13/13 [00:00<00:00, 19.89it/s, loss=4.9099]\n",
      "🚀 Validation: 100%|██████████| 2/2 [00:00<00:00, 68.10it/s, loss=4.8871]\n"
     ]
    },
    {
     "name": "stdout",
     "output_type": "stream",
     "text": [
      "[Epoch 237] Train Loss: 4.9367 | Val Loss: 4.9526\n",
      "  -> New best model saved at saved/best_sp.pt\n",
      "Epoch 238/300\n"
     ]
    },
    {
     "name": "stderr",
     "output_type": "stream",
     "text": [
      "🚀 Training: 100%|██████████| 13/13 [00:00<00:00, 19.03it/s, loss=4.9314]\n",
      "🚀 Validation: 100%|██████████| 2/2 [00:00<00:00, 60.64it/s, loss=4.8825]\n"
     ]
    },
    {
     "name": "stdout",
     "output_type": "stream",
     "text": [
      "[Epoch 238] Train Loss: 4.9346 | Val Loss: 4.9484\n",
      "  -> New best model saved at saved/best_sp.pt\n",
      "Epoch 239/300\n"
     ]
    },
    {
     "name": "stderr",
     "output_type": "stream",
     "text": [
      "🚀 Training: 100%|██████████| 13/13 [00:00<00:00, 19.71it/s, loss=4.9919]\n",
      "🚀 Validation: 100%|██████████| 2/2 [00:00<00:00, 67.03it/s, loss=4.8781]\n"
     ]
    },
    {
     "name": "stdout",
     "output_type": "stream",
     "text": [
      "[Epoch 239] Train Loss: 4.9343 | Val Loss: 4.9442\n",
      "  -> New best model saved at saved/best_sp.pt\n",
      "Epoch 240/300\n"
     ]
    },
    {
     "name": "stderr",
     "output_type": "stream",
     "text": [
      "🚀 Training: 100%|██████████| 13/13 [00:00<00:00, 19.95it/s, loss=4.8715]\n",
      "🚀 Validation: 100%|██████████| 2/2 [00:00<00:00, 66.69it/s, loss=4.8734]\n"
     ]
    },
    {
     "name": "stdout",
     "output_type": "stream",
     "text": [
      "[Epoch 240] Train Loss: 4.9250 | Val Loss: 4.9399\n",
      "  -> New best model saved at saved/best_sp.pt\n",
      "Epoch 241/300\n"
     ]
    },
    {
     "name": "stderr",
     "output_type": "stream",
     "text": [
      "🚀 Training: 100%|██████████| 13/13 [00:00<00:00, 20.01it/s, loss=4.8941]\n",
      "🚀 Validation: 100%|██████████| 2/2 [00:00<00:00, 66.11it/s, loss=4.8689]\n"
     ]
    },
    {
     "name": "stdout",
     "output_type": "stream",
     "text": [
      "[Epoch 241] Train Loss: 4.9189 | Val Loss: 4.9357\n",
      "  -> New best model saved at saved/best_sp.pt\n",
      "Epoch 242/300\n"
     ]
    },
    {
     "name": "stderr",
     "output_type": "stream",
     "text": [
      "🚀 Training: 100%|██████████| 13/13 [00:00<00:00, 20.05it/s, loss=4.9105]\n",
      "🚀 Validation: 100%|██████████| 2/2 [00:00<00:00, 68.05it/s, loss=4.8645]\n"
     ]
    },
    {
     "name": "stdout",
     "output_type": "stream",
     "text": [
      "[Epoch 242] Train Loss: 4.9162 | Val Loss: 4.9315\n",
      "  -> New best model saved at saved/best_sp.pt\n",
      "Epoch 243/300\n"
     ]
    },
    {
     "name": "stderr",
     "output_type": "stream",
     "text": [
      "🚀 Training: 100%|██████████| 13/13 [00:00<00:00, 20.09it/s, loss=4.9274]\n",
      "🚀 Validation: 100%|██████████| 2/2 [00:00<00:00, 70.23it/s, loss=4.8597]\n"
     ]
    },
    {
     "name": "stdout",
     "output_type": "stream",
     "text": [
      "[Epoch 243] Train Loss: 4.9146 | Val Loss: 4.9271\n",
      "  -> New best model saved at saved/best_sp.pt\n",
      "Epoch 244/300\n"
     ]
    },
    {
     "name": "stderr",
     "output_type": "stream",
     "text": [
      "🚀 Training: 100%|██████████| 13/13 [00:00<00:00, 20.04it/s, loss=5.0109]\n",
      "🚀 Validation: 100%|██████████| 2/2 [00:00<00:00, 69.11it/s, loss=4.8552]\n"
     ]
    },
    {
     "name": "stdout",
     "output_type": "stream",
     "text": [
      "[Epoch 244] Train Loss: 4.9114 | Val Loss: 4.9229\n",
      "  -> New best model saved at saved/best_sp.pt\n",
      "Epoch 245/300\n"
     ]
    },
    {
     "name": "stderr",
     "output_type": "stream",
     "text": [
      "🚀 Training: 100%|██████████| 13/13 [00:00<00:00, 20.16it/s, loss=4.8846]\n",
      "🚀 Validation: 100%|██████████| 2/2 [00:00<00:00, 68.90it/s, loss=4.8508]\n"
     ]
    },
    {
     "name": "stdout",
     "output_type": "stream",
     "text": [
      "[Epoch 245] Train Loss: 4.9028 | Val Loss: 4.9188\n",
      "  -> New best model saved at saved/best_sp.pt\n",
      "Epoch 246/300\n"
     ]
    },
    {
     "name": "stderr",
     "output_type": "stream",
     "text": [
      "🚀 Training: 100%|██████████| 13/13 [00:00<00:00, 19.52it/s, loss=4.9731]\n",
      "🚀 Validation: 100%|██████████| 2/2 [00:00<00:00, 62.00it/s, loss=4.8466]\n"
     ]
    },
    {
     "name": "stdout",
     "output_type": "stream",
     "text": [
      "[Epoch 246] Train Loss: 4.9019 | Val Loss: 4.9149\n",
      "  -> New best model saved at saved/best_sp.pt\n",
      "Epoch 247/300\n"
     ]
    },
    {
     "name": "stderr",
     "output_type": "stream",
     "text": [
      "🚀 Training: 100%|██████████| 13/13 [00:00<00:00, 19.51it/s, loss=4.8082]\n",
      "🚀 Validation: 100%|██████████| 2/2 [00:00<00:00, 66.40it/s, loss=4.8423]\n"
     ]
    },
    {
     "name": "stdout",
     "output_type": "stream",
     "text": [
      "[Epoch 247] Train Loss: 4.8903 | Val Loss: 4.9108\n",
      "  -> New best model saved at saved/best_sp.pt\n",
      "Epoch 248/300\n"
     ]
    },
    {
     "name": "stderr",
     "output_type": "stream",
     "text": [
      "🚀 Training: 100%|██████████| 13/13 [00:00<00:00, 19.91it/s, loss=4.8701]\n",
      "🚀 Validation: 100%|██████████| 2/2 [00:00<00:00, 66.00it/s, loss=4.8379]\n"
     ]
    },
    {
     "name": "stdout",
     "output_type": "stream",
     "text": [
      "[Epoch 248] Train Loss: 4.8927 | Val Loss: 4.9067\n",
      "  -> New best model saved at saved/best_sp.pt\n",
      "Epoch 249/300\n"
     ]
    },
    {
     "name": "stderr",
     "output_type": "stream",
     "text": [
      "🚀 Training: 100%|██████████| 13/13 [00:00<00:00, 20.12it/s, loss=4.8763]\n",
      "🚀 Validation: 100%|██████████| 2/2 [00:00<00:00, 67.54it/s, loss=4.8335]\n"
     ]
    },
    {
     "name": "stdout",
     "output_type": "stream",
     "text": [
      "[Epoch 249] Train Loss: 4.8860 | Val Loss: 4.9026\n",
      "  -> New best model saved at saved/best_sp.pt\n",
      "Epoch 250/300\n"
     ]
    },
    {
     "name": "stderr",
     "output_type": "stream",
     "text": [
      "🚀 Training: 100%|██████████| 13/13 [00:00<00:00, 19.83it/s, loss=4.8534]\n",
      "🚀 Validation: 100%|██████████| 2/2 [00:00<00:00, 64.45it/s, loss=4.8289]\n"
     ]
    },
    {
     "name": "stdout",
     "output_type": "stream",
     "text": [
      "[Epoch 250] Train Loss: 4.8805 | Val Loss: 4.8984\n",
      "  -> New best model saved at saved/best_sp.pt\n",
      "Epoch 251/300\n"
     ]
    },
    {
     "name": "stderr",
     "output_type": "stream",
     "text": [
      "🚀 Training: 100%|██████████| 13/13 [00:00<00:00, 20.05it/s, loss=4.8792]\n",
      "🚀 Validation: 100%|██████████| 2/2 [00:00<00:00, 65.53it/s, loss=4.8248]\n"
     ]
    },
    {
     "name": "stdout",
     "output_type": "stream",
     "text": [
      "[Epoch 251] Train Loss: 4.8770 | Val Loss: 4.8944\n",
      "  -> New best model saved at saved/best_sp.pt\n",
      "Epoch 252/300\n"
     ]
    },
    {
     "name": "stderr",
     "output_type": "stream",
     "text": [
      "🚀 Training: 100%|██████████| 13/13 [00:00<00:00, 19.76it/s, loss=4.8365]\n",
      "🚀 Validation: 100%|██████████| 2/2 [00:00<00:00, 65.33it/s, loss=4.8208]\n"
     ]
    },
    {
     "name": "stdout",
     "output_type": "stream",
     "text": [
      "[Epoch 252] Train Loss: 4.8733 | Val Loss: 4.8905\n",
      "  -> New best model saved at saved/best_sp.pt\n",
      "Epoch 253/300\n"
     ]
    },
    {
     "name": "stderr",
     "output_type": "stream",
     "text": [
      "🚀 Training: 100%|██████████| 13/13 [00:00<00:00, 19.97it/s, loss=4.8202]\n",
      "🚀 Validation: 100%|██████████| 2/2 [00:00<00:00, 67.94it/s, loss=4.8164]\n"
     ]
    },
    {
     "name": "stdout",
     "output_type": "stream",
     "text": [
      "[Epoch 253] Train Loss: 4.8681 | Val Loss: 4.8864\n",
      "  -> New best model saved at saved/best_sp.pt\n",
      "Epoch 254/300\n"
     ]
    },
    {
     "name": "stderr",
     "output_type": "stream",
     "text": [
      "🚀 Training: 100%|██████████| 13/13 [00:00<00:00, 19.90it/s, loss=4.8439]\n",
      "🚀 Validation: 100%|██████████| 2/2 [00:00<00:00, 68.65it/s, loss=4.8121]\n"
     ]
    },
    {
     "name": "stdout",
     "output_type": "stream",
     "text": [
      "[Epoch 254] Train Loss: 4.8636 | Val Loss: 4.8825\n",
      "  -> New best model saved at saved/best_sp.pt\n",
      "Epoch 255/300\n"
     ]
    },
    {
     "name": "stderr",
     "output_type": "stream",
     "text": [
      "🚀 Training: 100%|██████████| 13/13 [00:00<00:00, 19.90it/s, loss=4.8503]\n",
      "🚀 Validation: 100%|██████████| 2/2 [00:00<00:00, 64.53it/s, loss=4.8081]\n"
     ]
    },
    {
     "name": "stdout",
     "output_type": "stream",
     "text": [
      "[Epoch 255] Train Loss: 4.8604 | Val Loss: 4.8787\n",
      "  -> New best model saved at saved/best_sp.pt\n",
      "Epoch 256/300\n"
     ]
    },
    {
     "name": "stderr",
     "output_type": "stream",
     "text": [
      "🚀 Training: 100%|██████████| 13/13 [00:00<00:00, 19.72it/s, loss=4.8820]\n",
      "🚀 Validation: 100%|██████████| 2/2 [00:00<00:00, 65.84it/s, loss=4.8040]\n"
     ]
    },
    {
     "name": "stdout",
     "output_type": "stream",
     "text": [
      "[Epoch 256] Train Loss: 4.8589 | Val Loss: 4.8748\n",
      "  -> New best model saved at saved/best_sp.pt\n",
      "Epoch 257/300\n"
     ]
    },
    {
     "name": "stderr",
     "output_type": "stream",
     "text": [
      "🚀 Training: 100%|██████████| 13/13 [00:00<00:00, 19.81it/s, loss=4.8420]\n",
      "🚀 Validation: 100%|██████████| 2/2 [00:00<00:00, 65.75it/s, loss=4.7998]\n"
     ]
    },
    {
     "name": "stdout",
     "output_type": "stream",
     "text": [
      "[Epoch 257] Train Loss: 4.8517 | Val Loss: 4.8708\n",
      "  -> New best model saved at saved/best_sp.pt\n",
      "Epoch 258/300\n"
     ]
    },
    {
     "name": "stderr",
     "output_type": "stream",
     "text": [
      "🚀 Training: 100%|██████████| 13/13 [00:00<00:00, 19.51it/s, loss=4.8924]\n",
      "🚀 Validation: 100%|██████████| 2/2 [00:00<00:00, 64.99it/s, loss=4.7957]\n"
     ]
    },
    {
     "name": "stdout",
     "output_type": "stream",
     "text": [
      "[Epoch 258] Train Loss: 4.8498 | Val Loss: 4.8669\n",
      "  -> New best model saved at saved/best_sp.pt\n",
      "Epoch 259/300\n"
     ]
    },
    {
     "name": "stderr",
     "output_type": "stream",
     "text": [
      "🚀 Training: 100%|██████████| 13/13 [00:00<00:00, 19.75it/s, loss=4.8329]\n",
      "🚀 Validation: 100%|██████████| 2/2 [00:00<00:00, 63.39it/s, loss=4.7914]\n"
     ]
    },
    {
     "name": "stdout",
     "output_type": "stream",
     "text": [
      "[Epoch 259] Train Loss: 4.8446 | Val Loss: 4.8629\n",
      "  -> New best model saved at saved/best_sp.pt\n",
      "Epoch 260/300\n"
     ]
    },
    {
     "name": "stderr",
     "output_type": "stream",
     "text": [
      "🚀 Training: 100%|██████████| 13/13 [00:00<00:00, 19.85it/s, loss=4.8346]\n",
      "🚀 Validation: 100%|██████████| 2/2 [00:00<00:00, 66.80it/s, loss=4.7873]\n"
     ]
    },
    {
     "name": "stdout",
     "output_type": "stream",
     "text": [
      "[Epoch 260] Train Loss: 4.8384 | Val Loss: 4.8591\n",
      "  -> New best model saved at saved/best_sp.pt\n",
      "Epoch 261/300\n"
     ]
    },
    {
     "name": "stderr",
     "output_type": "stream",
     "text": [
      "🚀 Training: 100%|██████████| 13/13 [00:00<00:00, 19.83it/s, loss=4.9624]\n",
      "🚀 Validation: 100%|██████████| 2/2 [00:00<00:00, 64.86it/s, loss=4.7830]\n"
     ]
    },
    {
     "name": "stdout",
     "output_type": "stream",
     "text": [
      "[Epoch 261] Train Loss: 4.8397 | Val Loss: 4.8552\n",
      "  -> New best model saved at saved/best_sp.pt\n",
      "Epoch 262/300\n"
     ]
    },
    {
     "name": "stderr",
     "output_type": "stream",
     "text": [
      "🚀 Training: 100%|██████████| 13/13 [00:00<00:00, 20.02it/s, loss=4.8979]\n",
      "🚀 Validation: 100%|██████████| 2/2 [00:00<00:00, 68.47it/s, loss=4.7792]\n"
     ]
    },
    {
     "name": "stdout",
     "output_type": "stream",
     "text": [
      "[Epoch 262] Train Loss: 4.8344 | Val Loss: 4.8515\n",
      "  -> New best model saved at saved/best_sp.pt\n",
      "Epoch 263/300\n"
     ]
    },
    {
     "name": "stderr",
     "output_type": "stream",
     "text": [
      "🚀 Training: 100%|██████████| 13/13 [00:00<00:00, 19.82it/s, loss=4.8110]\n",
      "🚀 Validation: 100%|██████████| 2/2 [00:00<00:00, 58.51it/s, loss=4.7752]\n"
     ]
    },
    {
     "name": "stdout",
     "output_type": "stream",
     "text": [
      "[Epoch 263] Train Loss: 4.8264 | Val Loss: 4.8476\n",
      "  -> New best model saved at saved/best_sp.pt\n",
      "Epoch 264/300\n"
     ]
    },
    {
     "name": "stderr",
     "output_type": "stream",
     "text": [
      "🚀 Training: 100%|██████████| 13/13 [00:00<00:00, 19.79it/s, loss=4.7405]\n",
      "🚀 Validation: 100%|██████████| 2/2 [00:00<00:00, 67.17it/s, loss=4.7709]\n"
     ]
    },
    {
     "name": "stdout",
     "output_type": "stream",
     "text": [
      "[Epoch 264] Train Loss: 4.8187 | Val Loss: 4.8436\n",
      "  -> New best model saved at saved/best_sp.pt\n",
      "Epoch 265/300\n"
     ]
    },
    {
     "name": "stderr",
     "output_type": "stream",
     "text": [
      "🚀 Training: 100%|██████████| 13/13 [00:00<00:00, 19.64it/s, loss=4.7748]\n",
      "🚀 Validation: 100%|██████████| 2/2 [00:00<00:00, 63.03it/s, loss=4.7670]\n"
     ]
    },
    {
     "name": "stdout",
     "output_type": "stream",
     "text": [
      "[Epoch 265] Train Loss: 4.8180 | Val Loss: 4.8400\n",
      "  -> New best model saved at saved/best_sp.pt\n",
      "Epoch 266/300\n"
     ]
    },
    {
     "name": "stderr",
     "output_type": "stream",
     "text": [
      "🚀 Training: 100%|██████████| 13/13 [00:00<00:00, 19.71it/s, loss=4.6915]\n",
      "🚀 Validation: 100%|██████████| 2/2 [00:00<00:00, 64.26it/s, loss=4.7634]\n"
     ]
    },
    {
     "name": "stdout",
     "output_type": "stream",
     "text": [
      "[Epoch 266] Train Loss: 4.8114 | Val Loss: 4.8364\n",
      "  -> New best model saved at saved/best_sp.pt\n",
      "Epoch 267/300\n"
     ]
    },
    {
     "name": "stderr",
     "output_type": "stream",
     "text": [
      "🚀 Training: 100%|██████████| 13/13 [00:00<00:00, 19.68it/s, loss=4.8231]\n",
      "🚀 Validation: 100%|██████████| 2/2 [00:00<00:00, 67.16it/s, loss=4.7594]\n"
     ]
    },
    {
     "name": "stdout",
     "output_type": "stream",
     "text": [
      "[Epoch 267] Train Loss: 4.8103 | Val Loss: 4.8326\n",
      "  -> New best model saved at saved/best_sp.pt\n",
      "Epoch 268/300\n"
     ]
    },
    {
     "name": "stderr",
     "output_type": "stream",
     "text": [
      "🚀 Training: 100%|██████████| 13/13 [00:00<00:00, 19.88it/s, loss=4.8539]\n",
      "🚀 Validation: 100%|██████████| 2/2 [00:00<00:00, 64.89it/s, loss=4.7552]\n"
     ]
    },
    {
     "name": "stdout",
     "output_type": "stream",
     "text": [
      "[Epoch 268] Train Loss: 4.8089 | Val Loss: 4.8289\n",
      "  -> New best model saved at saved/best_sp.pt\n",
      "Epoch 269/300\n"
     ]
    },
    {
     "name": "stderr",
     "output_type": "stream",
     "text": [
      "🚀 Training: 100%|██████████| 13/13 [00:00<00:00, 19.90it/s, loss=4.7789]\n",
      "🚀 Validation: 100%|██████████| 2/2 [00:00<00:00, 62.14it/s, loss=4.7512]\n"
     ]
    },
    {
     "name": "stdout",
     "output_type": "stream",
     "text": [
      "[Epoch 269] Train Loss: 4.8016 | Val Loss: 4.8251\n",
      "  -> New best model saved at saved/best_sp.pt\n",
      "Epoch 270/300\n"
     ]
    },
    {
     "name": "stderr",
     "output_type": "stream",
     "text": [
      "🚀 Training: 100%|██████████| 13/13 [00:00<00:00, 19.58it/s, loss=4.7955]\n",
      "🚀 Validation: 100%|██████████| 2/2 [00:00<00:00, 64.28it/s, loss=4.7474]\n"
     ]
    },
    {
     "name": "stdout",
     "output_type": "stream",
     "text": [
      "[Epoch 270] Train Loss: 4.7969 | Val Loss: 4.8215\n",
      "  -> New best model saved at saved/best_sp.pt\n",
      "Epoch 271/300\n"
     ]
    },
    {
     "name": "stderr",
     "output_type": "stream",
     "text": [
      "🚀 Training: 100%|██████████| 13/13 [00:00<00:00, 19.96it/s, loss=4.7814]\n",
      "🚀 Validation: 100%|██████████| 2/2 [00:00<00:00, 65.77it/s, loss=4.7434]\n"
     ]
    },
    {
     "name": "stdout",
     "output_type": "stream",
     "text": [
      "[Epoch 271] Train Loss: 4.7952 | Val Loss: 4.8177\n",
      "  -> New best model saved at saved/best_sp.pt\n",
      "Epoch 272/300\n"
     ]
    },
    {
     "name": "stderr",
     "output_type": "stream",
     "text": [
      "🚀 Training: 100%|██████████| 13/13 [00:00<00:00, 19.92it/s, loss=4.7712]\n",
      "🚀 Validation: 100%|██████████| 2/2 [00:00<00:00, 64.77it/s, loss=4.7394]\n"
     ]
    },
    {
     "name": "stdout",
     "output_type": "stream",
     "text": [
      "[Epoch 272] Train Loss: 4.7896 | Val Loss: 4.8140\n",
      "  -> New best model saved at saved/best_sp.pt\n",
      "Epoch 273/300\n"
     ]
    },
    {
     "name": "stderr",
     "output_type": "stream",
     "text": [
      "🚀 Training: 100%|██████████| 13/13 [00:00<00:00, 19.96it/s, loss=4.9403]\n",
      "🚀 Validation: 100%|██████████| 2/2 [00:00<00:00, 60.99it/s, loss=4.7354]\n"
     ]
    },
    {
     "name": "stdout",
     "output_type": "stream",
     "text": [
      "[Epoch 273] Train Loss: 4.7970 | Val Loss: 4.8102\n",
      "  -> New best model saved at saved/best_sp.pt\n",
      "Epoch 274/300\n"
     ]
    },
    {
     "name": "stderr",
     "output_type": "stream",
     "text": [
      "🚀 Training: 100%|██████████| 13/13 [00:00<00:00, 19.89it/s, loss=4.8213]\n",
      "🚀 Validation: 100%|██████████| 2/2 [00:00<00:00, 66.68it/s, loss=4.7319]\n"
     ]
    },
    {
     "name": "stdout",
     "output_type": "stream",
     "text": [
      "[Epoch 274] Train Loss: 4.7829 | Val Loss: 4.8068\n",
      "  -> New best model saved at saved/best_sp.pt\n",
      "Epoch 275/300\n"
     ]
    },
    {
     "name": "stderr",
     "output_type": "stream",
     "text": [
      "🚀 Training: 100%|██████████| 13/13 [00:00<00:00, 19.87it/s, loss=4.7264]\n",
      "🚀 Validation: 100%|██████████| 2/2 [00:00<00:00, 66.98it/s, loss=4.7277]\n"
     ]
    },
    {
     "name": "stdout",
     "output_type": "stream",
     "text": [
      "[Epoch 275] Train Loss: 4.7765 | Val Loss: 4.8030\n",
      "  -> New best model saved at saved/best_sp.pt\n",
      "Epoch 276/300\n"
     ]
    },
    {
     "name": "stderr",
     "output_type": "stream",
     "text": [
      "🚀 Training: 100%|██████████| 13/13 [00:00<00:00, 19.87it/s, loss=4.7665]\n",
      "🚀 Validation: 100%|██████████| 2/2 [00:00<00:00, 60.73it/s, loss=4.7240]\n"
     ]
    },
    {
     "name": "stdout",
     "output_type": "stream",
     "text": [
      "[Epoch 276] Train Loss: 4.7744 | Val Loss: 4.7994\n",
      "  -> New best model saved at saved/best_sp.pt\n",
      "Epoch 277/300\n"
     ]
    },
    {
     "name": "stderr",
     "output_type": "stream",
     "text": [
      "🚀 Training: 100%|██████████| 13/13 [00:00<00:00, 19.66it/s, loss=4.7731]\n",
      "🚀 Validation: 100%|██████████| 2/2 [00:00<00:00, 67.51it/s, loss=4.7204]\n"
     ]
    },
    {
     "name": "stdout",
     "output_type": "stream",
     "text": [
      "[Epoch 277] Train Loss: 4.7699 | Val Loss: 4.7961\n",
      "  -> New best model saved at saved/best_sp.pt\n",
      "Epoch 278/300\n"
     ]
    },
    {
     "name": "stderr",
     "output_type": "stream",
     "text": [
      "🚀 Training: 100%|██████████| 13/13 [00:00<00:00, 19.84it/s, loss=4.8446]\n",
      "🚀 Validation: 100%|██████████| 2/2 [00:00<00:00, 65.44it/s, loss=4.7163]\n"
     ]
    },
    {
     "name": "stdout",
     "output_type": "stream",
     "text": [
      "[Epoch 278] Train Loss: 4.7704 | Val Loss: 4.7923\n",
      "  -> New best model saved at saved/best_sp.pt\n",
      "Epoch 279/300\n"
     ]
    },
    {
     "name": "stderr",
     "output_type": "stream",
     "text": [
      "🚀 Training: 100%|██████████| 13/13 [00:00<00:00, 19.94it/s, loss=4.7568]\n",
      "🚀 Validation: 100%|██████████| 2/2 [00:00<00:00, 66.20it/s, loss=4.7126]\n"
     ]
    },
    {
     "name": "stdout",
     "output_type": "stream",
     "text": [
      "[Epoch 279] Train Loss: 4.7618 | Val Loss: 4.7887\n",
      "  -> New best model saved at saved/best_sp.pt\n",
      "Epoch 280/300\n"
     ]
    },
    {
     "name": "stderr",
     "output_type": "stream",
     "text": [
      "🚀 Training: 100%|██████████| 13/13 [00:00<00:00, 19.71it/s, loss=4.7449]\n",
      "🚀 Validation: 100%|██████████| 2/2 [00:00<00:00, 65.61it/s, loss=4.7091]\n"
     ]
    },
    {
     "name": "stdout",
     "output_type": "stream",
     "text": [
      "[Epoch 280] Train Loss: 4.7614 | Val Loss: 4.7854\n",
      "  -> New best model saved at saved/best_sp.pt\n",
      "Epoch 281/300\n"
     ]
    },
    {
     "name": "stderr",
     "output_type": "stream",
     "text": [
      "🚀 Training: 100%|██████████| 13/13 [00:00<00:00, 19.91it/s, loss=4.7361]\n",
      "🚀 Validation: 100%|██████████| 2/2 [00:00<00:00, 66.70it/s, loss=4.7055]\n"
     ]
    },
    {
     "name": "stdout",
     "output_type": "stream",
     "text": [
      "[Epoch 281] Train Loss: 4.7558 | Val Loss: 4.7819\n",
      "  -> New best model saved at saved/best_sp.pt\n",
      "Epoch 282/300\n"
     ]
    },
    {
     "name": "stderr",
     "output_type": "stream",
     "text": [
      "🚀 Training: 100%|██████████| 13/13 [00:00<00:00, 19.94it/s, loss=4.6797]\n",
      "🚀 Validation: 100%|██████████| 2/2 [00:00<00:00, 67.36it/s, loss=4.7018]\n"
     ]
    },
    {
     "name": "stdout",
     "output_type": "stream",
     "text": [
      "[Epoch 282] Train Loss: 4.7507 | Val Loss: 4.7784\n",
      "  -> New best model saved at saved/best_sp.pt\n",
      "Epoch 283/300\n"
     ]
    },
    {
     "name": "stderr",
     "output_type": "stream",
     "text": [
      "🚀 Training: 100%|██████████| 13/13 [00:00<00:00, 19.92it/s, loss=4.6577]\n",
      "🚀 Validation: 100%|██████████| 2/2 [00:00<00:00, 63.65it/s, loss=4.6983]\n"
     ]
    },
    {
     "name": "stdout",
     "output_type": "stream",
     "text": [
      "[Epoch 283] Train Loss: 4.7457 | Val Loss: 4.7751\n",
      "  -> New best model saved at saved/best_sp.pt\n",
      "Epoch 284/300\n"
     ]
    },
    {
     "name": "stderr",
     "output_type": "stream",
     "text": [
      "🚀 Training: 100%|██████████| 13/13 [00:00<00:00, 19.71it/s, loss=4.7973]\n",
      "🚀 Validation: 100%|██████████| 2/2 [00:00<00:00, 65.18it/s, loss=4.6947]\n"
     ]
    },
    {
     "name": "stdout",
     "output_type": "stream",
     "text": [
      "[Epoch 284] Train Loss: 4.7462 | Val Loss: 4.7715\n",
      "  -> New best model saved at saved/best_sp.pt\n",
      "Epoch 285/300\n"
     ]
    },
    {
     "name": "stderr",
     "output_type": "stream",
     "text": [
      "🚀 Training: 100%|██████████| 13/13 [00:00<00:00, 19.84it/s, loss=4.8425]\n",
      "🚀 Validation: 100%|██████████| 2/2 [00:00<00:00, 67.63it/s, loss=4.6909]\n"
     ]
    },
    {
     "name": "stdout",
     "output_type": "stream",
     "text": [
      "[Epoch 285] Train Loss: 4.7452 | Val Loss: 4.7680\n",
      "  -> New best model saved at saved/best_sp.pt\n",
      "Epoch 286/300\n"
     ]
    },
    {
     "name": "stderr",
     "output_type": "stream",
     "text": [
      "🚀 Training: 100%|██████████| 13/13 [00:00<00:00, 19.78it/s, loss=4.8042]\n",
      "🚀 Validation: 100%|██████████| 2/2 [00:00<00:00, 64.98it/s, loss=4.6872]\n"
     ]
    },
    {
     "name": "stdout",
     "output_type": "stream",
     "text": [
      "[Epoch 286] Train Loss: 4.7395 | Val Loss: 4.7647\n",
      "  -> New best model saved at saved/best_sp.pt\n",
      "Epoch 287/300\n"
     ]
    },
    {
     "name": "stderr",
     "output_type": "stream",
     "text": [
      "🚀 Training: 100%|██████████| 13/13 [00:00<00:00, 19.75it/s, loss=4.7029]\n",
      "🚀 Validation: 100%|██████████| 2/2 [00:00<00:00, 65.84it/s, loss=4.6836]\n"
     ]
    },
    {
     "name": "stdout",
     "output_type": "stream",
     "text": [
      "[Epoch 287] Train Loss: 4.7314 | Val Loss: 4.7612\n",
      "  -> New best model saved at saved/best_sp.pt\n",
      "Epoch 288/300\n"
     ]
    },
    {
     "name": "stderr",
     "output_type": "stream",
     "text": [
      "🚀 Training: 100%|██████████| 13/13 [00:00<00:00, 19.83it/s, loss=4.8645]\n",
      "🚀 Validation: 100%|██████████| 2/2 [00:00<00:00, 66.74it/s, loss=4.6801]\n"
     ]
    },
    {
     "name": "stdout",
     "output_type": "stream",
     "text": [
      "[Epoch 288] Train Loss: 4.7326 | Val Loss: 4.7577\n",
      "  -> New best model saved at saved/best_sp.pt\n",
      "Epoch 289/300\n"
     ]
    },
    {
     "name": "stderr",
     "output_type": "stream",
     "text": [
      "🚀 Training: 100%|██████████| 13/13 [00:00<00:00, 19.95it/s, loss=4.5477]\n",
      "🚀 Validation: 100%|██████████| 2/2 [00:00<00:00, 67.39it/s, loss=4.6767]\n"
     ]
    },
    {
     "name": "stdout",
     "output_type": "stream",
     "text": [
      "[Epoch 289] Train Loss: 4.7189 | Val Loss: 4.7545\n",
      "  -> New best model saved at saved/best_sp.pt\n",
      "Epoch 290/300\n"
     ]
    },
    {
     "name": "stderr",
     "output_type": "stream",
     "text": [
      "🚀 Training: 100%|██████████| 13/13 [00:00<00:00, 19.76it/s, loss=4.7141]\n",
      "🚀 Validation: 100%|██████████| 2/2 [00:00<00:00, 67.22it/s, loss=4.6731]\n"
     ]
    },
    {
     "name": "stdout",
     "output_type": "stream",
     "text": [
      "[Epoch 290] Train Loss: 4.7212 | Val Loss: 4.7511\n",
      "  -> New best model saved at saved/best_sp.pt\n",
      "Epoch 291/300\n"
     ]
    },
    {
     "name": "stderr",
     "output_type": "stream",
     "text": [
      "🚀 Training: 100%|██████████| 13/13 [00:00<00:00, 19.95it/s, loss=4.7410]\n",
      "🚀 Validation: 100%|██████████| 2/2 [00:00<00:00, 67.40it/s, loss=4.6694]\n"
     ]
    },
    {
     "name": "stdout",
     "output_type": "stream",
     "text": [
      "[Epoch 291] Train Loss: 4.7188 | Val Loss: 4.7477\n",
      "  -> New best model saved at saved/best_sp.pt\n",
      "Epoch 292/300\n"
     ]
    },
    {
     "name": "stderr",
     "output_type": "stream",
     "text": [
      "🚀 Training: 100%|██████████| 13/13 [00:00<00:00, 19.97it/s, loss=4.7100]\n",
      "🚀 Validation: 100%|██████████| 2/2 [00:00<00:00, 69.33it/s, loss=4.6661]\n"
     ]
    },
    {
     "name": "stdout",
     "output_type": "stream",
     "text": [
      "[Epoch 292] Train Loss: 4.7140 | Val Loss: 4.7445\n",
      "  -> New best model saved at saved/best_sp.pt\n",
      "Epoch 293/300\n"
     ]
    },
    {
     "name": "stderr",
     "output_type": "stream",
     "text": [
      "🚀 Training: 100%|██████████| 13/13 [00:00<00:00, 19.88it/s, loss=4.6761]\n",
      "🚀 Validation: 100%|██████████| 2/2 [00:00<00:00, 67.41it/s, loss=4.6623]\n"
     ]
    },
    {
     "name": "stdout",
     "output_type": "stream",
     "text": [
      "[Epoch 293] Train Loss: 4.7095 | Val Loss: 4.7410\n",
      "  -> New best model saved at saved/best_sp.pt\n",
      "Epoch 294/300\n"
     ]
    },
    {
     "name": "stderr",
     "output_type": "stream",
     "text": [
      "🚀 Training: 100%|██████████| 13/13 [00:00<00:00, 19.86it/s, loss=4.7373]\n",
      "🚀 Validation: 100%|██████████| 2/2 [00:00<00:00, 65.47it/s, loss=4.6588]\n"
     ]
    },
    {
     "name": "stdout",
     "output_type": "stream",
     "text": [
      "[Epoch 294] Train Loss: 4.7079 | Val Loss: 4.7377\n",
      "  -> New best model saved at saved/best_sp.pt\n",
      "Epoch 295/300\n"
     ]
    },
    {
     "name": "stderr",
     "output_type": "stream",
     "text": [
      "🚀 Training: 100%|██████████| 13/13 [00:00<00:00, 20.12it/s, loss=4.6735]\n",
      "🚀 Validation: 100%|██████████| 2/2 [00:00<00:00, 70.68it/s, loss=4.6553]\n"
     ]
    },
    {
     "name": "stdout",
     "output_type": "stream",
     "text": [
      "[Epoch 295] Train Loss: 4.7019 | Val Loss: 4.7344\n",
      "  -> New best model saved at saved/best_sp.pt\n",
      "Epoch 296/300\n"
     ]
    },
    {
     "name": "stderr",
     "output_type": "stream",
     "text": [
      "🚀 Training: 100%|██████████| 13/13 [00:00<00:00, 20.31it/s, loss=4.6423]\n",
      "🚀 Validation: 100%|██████████| 2/2 [00:00<00:00, 68.12it/s, loss=4.6517]\n"
     ]
    },
    {
     "name": "stdout",
     "output_type": "stream",
     "text": [
      "[Epoch 296] Train Loss: 4.6974 | Val Loss: 4.7310\n",
      "  -> New best model saved at saved/best_sp.pt\n",
      "Epoch 297/300\n"
     ]
    },
    {
     "name": "stderr",
     "output_type": "stream",
     "text": [
      "🚀 Training: 100%|██████████| 13/13 [00:00<00:00, 20.08it/s, loss=4.5650]\n",
      "🚀 Validation: 100%|██████████| 2/2 [00:00<00:00, 70.39it/s, loss=4.6486]\n"
     ]
    },
    {
     "name": "stdout",
     "output_type": "stream",
     "text": [
      "[Epoch 297] Train Loss: 4.6902 | Val Loss: 4.7279\n",
      "  -> New best model saved at saved/best_sp.pt\n",
      "Epoch 298/300\n"
     ]
    },
    {
     "name": "stderr",
     "output_type": "stream",
     "text": [
      "🚀 Training: 100%|██████████| 13/13 [00:00<00:00, 20.15it/s, loss=4.7500]\n",
      "🚀 Validation: 100%|██████████| 2/2 [00:00<00:00, 63.40it/s, loss=4.6450]\n"
     ]
    },
    {
     "name": "stdout",
     "output_type": "stream",
     "text": [
      "[Epoch 298] Train Loss: 4.6929 | Val Loss: 4.7246\n",
      "  -> New best model saved at saved/best_sp.pt\n",
      "Epoch 299/300\n"
     ]
    },
    {
     "name": "stderr",
     "output_type": "stream",
     "text": [
      "🚀 Training: 100%|██████████| 13/13 [00:00<00:00, 19.55it/s, loss=4.7232]\n",
      "🚀 Validation: 100%|██████████| 2/2 [00:00<00:00, 63.12it/s, loss=4.6417]\n"
     ]
    },
    {
     "name": "stdout",
     "output_type": "stream",
     "text": [
      "[Epoch 299] Train Loss: 4.6898 | Val Loss: 4.7213\n",
      "  -> New best model saved at saved/best_sp.pt\n",
      "Epoch 300/300\n"
     ]
    },
    {
     "name": "stderr",
     "output_type": "stream",
     "text": [
      "🚀 Training: 100%|██████████| 13/13 [00:00<00:00, 19.39it/s, loss=4.5868]\n",
      "🚀 Validation: 100%|██████████| 2/2 [00:00<00:00, 63.09it/s, loss=4.6381]\n"
     ]
    },
    {
     "name": "stdout",
     "output_type": "stream",
     "text": [
      "[Epoch 300] Train Loss: 4.6816 | Val Loss: 4.7181\n",
      "  -> New best model saved at saved/best_sp.pt\n",
      "Loss plot saved to saved/loss_sp.png\n"
     ]
    }
   ],
   "source": [
    "import os\n",
    "import torch\n",
    "from tqdm import tqdm\n",
    "os.makedirs(SAVE_DIR, exist_ok=True)\n",
    "best_val_loss = float(\"inf\") \n",
    "best_model_path = None\n",
    "atl = {}\n",
    "avl = {}\n",
    "for epoch in range(1, EPOCHS + 1):\n",
    "    print(f\"Epoch {epoch}/{EPOCHS}\")\n",
    "    model.train()\n",
    "    total_train_loss = 0.0\n",
    "    train_bar = tqdm(train_loader, desc=\"🚀 Training\", \n",
    "                leave=True, total=len(train_loader))\n",
    "    for batch in train_bar:\n",
    "        optimizer.zero_grad()\n",
    "        src_batch = batch['src'].to(device)\n",
    "        tgt_batch = batch['tgt'].to(device)\n",
    "        \n",
    "        output, _ = model(src_batch, tgt_batch[:, :-1]) \n",
    "        output_dim = output.shape[-1]\n",
    "        output = output.reshape(-1, output_dim)\n",
    "        tgt_y = tgt_batch[:,1:].contiguous().view(-1)\n",
    "        loss = criterion(output, tgt_y)\n",
    "        loss.backward()\n",
    "        optimizer.step()\n",
    "        total_train_loss += loss.item()\n",
    "        train_bar.set_postfix(loss=f\"{loss.item():.4f}\")\n",
    "\n",
    "    avg_train_loss = total_train_loss / len(train_loader)\n",
    "    atl[epoch]=avg_train_loss\n",
    "    model.eval()\n",
    "    total_val_loss = 0.0\n",
    "    val_bar = tqdm(val_loader, desc=\"🚀 Validation\",\n",
    "              leave=True, total=len(val_loader))\n",
    "    with torch.no_grad():\n",
    "        for batch in val_bar:\n",
    "            src_batch = batch['src'].to(device)\n",
    "            tgt_batch = batch['tgt'].to(device)\n",
    "            \n",
    "            output, _ = model(src_batch, tgt_batch[:, :-1]) \n",
    "            output_dim = output.shape[-1]\n",
    "            output = output.reshape(-1, output_dim)\n",
    "            tgt_y = tgt_batch[:,1:].contiguous().view(-1)\n",
    "\n",
    "            loss = criterion(output, tgt_y)\n",
    "            total_val_loss += loss.item()\n",
    "            val_bar.set_postfix(loss=f\"{loss.item():.4f}\")\n",
    "    \n",
    "    avg_val_loss = total_val_loss / len(val_loader)\n",
    "    avl[epoch]=avg_val_loss\n",
    "    print(f\"[Epoch {epoch}] Train Loss: {avg_train_loss:.4f} | Val Loss: {avg_val_loss:.4f}\")\n",
    "    if avg_val_loss < best_val_loss:\n",
    "        if best_model_path and os.path.exists(best_model_path):\n",
    "            os.remove(best_model_path)\n",
    "        best_val_loss = avg_val_loss\n",
    "        best_model_path = os.path.join(SAVE_DIR, \"best_sp.pt\")\n",
    "        torch.save(model.state_dict(), best_model_path)\n",
    "        print(f\"  -> New best model saved at {best_model_path}\")\n",
    "\n",
    "utils.plot_loss(atl, avl, SAVE_DIR,\"loss_sp\")\n"
   ]
  },
  {
   "cell_type": "code",
   "execution_count": null,
   "metadata": {},
   "outputs": [],
   "source": []
  }
 ],
 "metadata": {
  "kernelspec": {
   "display_name": "torch_env",
   "language": "python",
   "name": "python3"
  },
  "language_info": {
   "codemirror_mode": {
    "name": "ipython",
    "version": 3
   },
   "file_extension": ".py",
   "mimetype": "text/x-python",
   "name": "python",
   "nbconvert_exporter": "python",
   "pygments_lexer": "ipython3",
   "version": "3.10.16"
  }
 },
 "nbformat": 4,
 "nbformat_minor": 2
}

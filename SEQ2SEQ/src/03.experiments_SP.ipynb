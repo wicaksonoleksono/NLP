{
 "cells": [
  {
   "cell_type": "code",
   "execution_count": 1,
   "metadata": {},
   "outputs": [
    {
     "name": "stderr",
     "output_type": "stream",
     "text": [
      "[nltk_data] Downloading package punkt to\n",
      "[nltk_data]     /home/wicaksonolxn/nltk_data...\n",
      "[nltk_data]   Package punkt is already up-to-date!\n"
     ]
    }
   ],
   "source": [
    "import os\n",
    "import torch\n",
    "import torch.nn as nn\n",
    "import torch.optim as optim\n",
    "from tqdm import tqdm\n",
    "from dataloader import get_dataloaders,get_dataloaders_subword\n",
    "from utils_subword import load_sentencepiece_model,sp_detokenize_with_specials\n",
    "import nltk\n",
    "from nltk.translate.bleu_score import sentence_bleu, SmoothingFunction\n",
    "from transformer import Transformer,TransformerEncoder,TransformerDecoder\n",
    "import utils\n",
    "import pickle\n",
    "nltk.download('punkt')  \n",
    "device = torch.device('cuda' if torch.cuda.is_available() else 'cpu')"
   ]
  },
  {
   "cell_type": "code",
   "execution_count": 2,
   "metadata": {},
   "outputs": [
    {
     "name": "stdout",
     "output_type": "stream",
     "text": [
      "SentencePiece model loaded from dataset/spm_files/spm_model.model\n",
      "TrainData - Max 'min' sentence length: 76\n",
      "TrainData - Max 'eng' sentence length: 107\n",
      "TestData - Max 'min' sentence length: 61\n",
      "TestData - Max 'eng' sentence length: 75\n",
      "ValidData - Max 'min' sentence length: 62\n",
      "ValidData - Max 'eng' sentence length: 81\n",
      "Number of examples in train_dataset: 799\n",
      "Number of examples in valid_dataset: 100\n",
      "Number of examples in test_dataset: 100\n",
      "Model initialized on: cuda\n"
     ]
    }
   ],
   "source": [
    "BATCH_SIZE = 32         #banyakupdate\n",
    "DATA_PATH = \"dataset/\"  \n",
    "DATA_PATH_SPM = \"dataset/spm_files\"  \n",
    "SAVE_DIR = \"saved\"\n",
    "SRC_VOCAB_SIZE = 5000     \n",
    "TGT_VOCAB_SIZE = 5000     \n",
    "N_LAYERS = 1             \n",
    "N_HEADS = 1\n",
    "D_MODEL =  128\n",
    "FFN_HIDDEN = D_MODEL * 4\n",
    "DROPOUT = 0.3\n",
    "EPOCHS = 150\n",
    "sp = load_sentencepiece_model(DATA_PATH_SPM, model_prefix=\"spm_model\")\n",
    "train_loader, val_loader, test_loader = get_dataloaders_subword(\n",
    "    sp=sp,\n",
    "    data_path=DATA_PATH, \n",
    "    source_lang=\"min\", \n",
    "    target_lang=\"eng\", \n",
    "    batch_size=BATCH_SIZE, \n",
    "    device=device\n",
    ")\n",
    "encoder = TransformerEncoder(SRC_VOCAB_SIZE,D_MODEL,N_LAYERS,N_HEADS,FFN_HIDDEN,DROPOUT,device)\n",
    "decoder = TransformerDecoder(TGT_VOCAB_SIZE,D_MODEL,N_LAYERS,N_HEADS,FFN_HIDDEN,DROPOUT,device)\n",
    "model = Transformer(encoder,decoder,device,utils.PAD_TOKEN).to(device)\n",
    "optimizer = optim.Adam(model.parameters(), lr=5e-4)\n",
    "criterion = nn.CrossEntropyLoss(ignore_index=utils.PAD_TOKEN) \n",
    "print(\"Model initialized on:\", device)\n"
   ]
  },
  {
   "cell_type": "code",
   "execution_count": 3,
   "metadata": {},
   "outputs": [
    {
     "name": "stdout",
     "output_type": "stream",
     "text": [
      "torch.Size([32, 107]) torch.Size([32, 107])\n",
      "Padding: 0\n",
      "Start of Sequence: 1\n",
      "End of Sequence: 2\n",
      "Unknown: 3\n"
     ]
    }
   ],
   "source": [
    "tokens = {\n",
    "    \"Padding\": utils.PAD_TOKEN,\n",
    "    \"Start of Sequence\": utils.SOS_TOKEN,\n",
    "    \"End of Sequence\": utils.EOS_TOKEN,\n",
    "    \"Unknown\": utils.UNK_TOKEN\n",
    "}\n",
    "for i, batch in enumerate(train_loader):\n",
    "    if i < 8:\n",
    "        src = batch[\"src\"]\n",
    "        tgt = batch[\"tgt\"]\n",
    "        ss,fss=src[0,:],src.shape\n",
    "        st,fst=tgt[0,:],tgt.shape\n",
    "        print(fss,fst)\n",
    "    for name, token in tokens.items():\n",
    "        print(f\"{name}: {token}\")\n",
    "    else:\n",
    "        break"
   ]
  },
  {
   "cell_type": "markdown",
   "metadata": {},
   "source": [
    "testing input , is it correct"
   ]
  },
  {
   "cell_type": "code",
   "execution_count": 4,
   "metadata": {},
   "outputs": [
    {
     "name": "stdout",
     "output_type": "stream",
     "text": [
      "tensor([[   1,  590, 1136,  ...,    0, 1379,  319],\n",
      "        [   1,  655,   50,  ...,  305, 4989,  209],\n",
      "        [   1,  177, 4996,  ...,    0,    0,    0],\n",
      "        ...,\n",
      "        [   1,   27,   23,  ...,    0,    0,    0],\n",
      "        [   1, 2024,  910,  ...,    0,    0,    0],\n",
      "        [   1,  396, 4980,  ...,    0,    0,    0]])\n"
     ]
    }
   ],
   "source": [
    "data_iter = iter(train_loader)\n",
    "for i in range(1):\n",
    "    batch = next(data_iter)\n",
    "    print(batch[\"tgt\"])\n"
   ]
  },
  {
   "cell_type": "code",
   "execution_count": 5,
   "metadata": {},
   "outputs": [
    {
     "name": "stdout",
     "output_type": "stream",
     "text": [
      "Example 1:\n",
      "Source: maaf indak nomer awak se nan baitu awak tanya ka sadolah nan pakai di daerah situ mangatoan hal nan samo masih indak nio ngaku jo kalau memang sinyalnyo nan buruak\n",
      "Target: ecuse me but its not just my number eperiencing that ive asked everyone who uses it in that area and they all said the same thing still dont wanna admit that your signal is just that bad \n",
      "--------------------------------------------------\n",
      "Example 2:\n",
      "Source: ha parahnyo jne  awak manalepon ndak diangkek tweet ndak dibaleh email ndak dibaleh pasan ndak dibaleh \n",
      "Target: wow jne is truly horrible  no calls picked up no tweets replied no emails replied no messages replied \n",
      "--------------------------------------------------\n",
      "Example 3:\n",
      "Source: tampek yang nyaman dan alami untuak mambaok keluarga relaks suasana kampuang alami  mengenalan anak pdo alam\n",
      "Target: a comfortable and natural place for family to rela in the rustic village atmosphere  getting kids to know nature \n",
      "--------------------------------------------------\n",
      "Example 4:\n",
      "Source: tampek nan sangaik alami jo menu nan variatif jo raso nan pas  awak suko jo bandrek jaguangnyo jaguang nan manih disajian sangaik angek  ado bamacam jajanan tradisional nan alah jarang disobokan \n",
      "Target: a very natural place with varied menu and spot on flavours  i especially love their bandrek jagung the sweet corn is served while still warm  theres also an assortment of traditional snacks that you dont see that much anymore \n",
      "--------------------------------------------------\n",
      "Example 5:\n",
      "Source: awak nio bali tiket untuak laga persebaya vs arema bisuak \n",
      "Target: id like to buy tickets for persebaya vs arema showdown tomorrow\n",
      "--------------------------------------------------\n"
     ]
    }
   ],
   "source": [
    "for i, batch in enumerate(train_loader):\n",
    "    if i < 1:\n",
    "        src_batch = batch['src'].to(device)  # shape: [batch_size, seq_len]\n",
    "        tgt_batch = batch['tgt'].to(device)  # shape: [batch_size, seq_len]\n",
    "        batch_size = src_batch.size(0)\n",
    "        num_examples = min(5, batch_size)\n",
    "        for j in range(num_examples):\n",
    "            src_tokens = src_batch[j].tolist()\n",
    "            tgt_tokens = tgt_batch[j].tolist()\n",
    "            src_sentence = sp_detokenize_with_specials(sp, src_tokens)\n",
    "            tgt_sentence = sp_detokenize_with_specials(sp, tgt_tokens)\n",
    "            print(f\"Example {j+1}:\")\n",
    "            print(\"Source:\", src_sentence)\n",
    "            print(\"Target:\", tgt_sentence)\n",
    "            print(\"-\" * 50)\n",
    "    break\n"
   ]
  },
  {
   "cell_type": "code",
   "execution_count": 6,
   "metadata": {},
   "outputs": [
    {
     "name": "stdout",
     "output_type": "stream",
     "text": [
      "Example 1:\n",
      "Source: sambanyo indak ado di tampek lain  raso tarasinyo khas sangaik asin manihnyo pas  ruangannyo emang kelas kadai tapi jan takajuik wakatu bayia haragonyo kelas resto tapi sabandiang jo kualitas makanannyo\n",
      "Target: you wont find this sambal anywhere else  the shrimp pastes flavour is very distinct the sweetness and saltiness are just right  the venue may look pedestrian but dont be shocked when you see the resto class price and it\n",
      "--------------------------------------------------\n",
      "Example 2:\n",
      "Source: restoran ko indak sakadar tampek makan biaso tapi bisa lo dijadian tampek wisata  lokasinyo sangaik dingin tampeknyo rancak lo nyaman jo pamandangan nan eye catching  menu nan disadioan juo baragam jo raso nan lamak  indak paralu manunggu lamo dalam panyajian makanannyo  harago relatif tajangkau pulo  untuak tampek bafoto ancak lo \n",
      "Target: this restaurant is not just a place to eat but also a tourist attraction  the location is very cold the place is good coy and has an eye catching scenery  the available menu also varies and tastes good  no need to wait long for the food  the price is also\n",
      "--------------------------------------------------\n",
      "Example 3:\n",
      "Source: mayoritas pangguno hak piliah di pamiliahan gubernur alah manantuan piliahan \n",
      "Target: most of the voters in the governor elections have casted their ballots \n",
      "--------------------------------------------------\n",
      "Example 4:\n",
      "Source: kupat tahu gempol marupoan salah ciek kupat tahu legendaris  tampeknyo ndak talampau gadang tapi cukuik mancolok jo warna merahnyo di partigoan pasa gempol  porsinyo pas bana untuak mahilangan lapa  ciri khas dari kupat tahu ko adolah tahunyo yang lembut jo kenyal samo kuah kacangnyo pas di lidah dipadu jo lontong tauge jo karupuak merah  lamak bana \n",
      "Target: kupat tahu gempol is one of the legendary kupat tahu restos  the place isnt that large but its red color is pretty eye catching near the three way junction at pasar gempol  the portion is just right to satisfy your hunger  the defining characteristics of this kupat\n",
      "--------------------------------------------------\n",
      "Example 5:\n",
      "Source: nikmati cicilan sampai bulan untuak pamasanan tiket pisawat air asia jo kartu kredit bni \n",
      "Target: enjoy instalment for up to months when ordering an air asia plane ticket with bni credit card \n",
      "--------------------------------------------------\n"
     ]
    }
   ],
   "source": [
    "for i, batch in enumerate(train_loader):\n",
    "    if i < 1:\n",
    "        src_batch = batch['src'].to(device)  # shape: [batch_size, seq_len]\n",
    "        tgt_batch = batch['tgt'].to(device)  # shape: [batch_size, seq_len]\n",
    "        batch_size = src_batch.size(0)\n",
    "        num_examples = min(5, batch_size)\n",
    "        for j in range(num_examples):\n",
    "            src_tokens = src_batch[j].tolist()\n",
    "            tgt_tokens = tgt_batch[j].tolist()\n",
    "            src_sentence = sp_detokenize_with_specials(sp, src_tokens)\n",
    "            tgt_sentence = sp_detokenize_with_specials(sp, tgt_tokens)\n",
    "            print(f\"Example {j+1}:\")\n",
    "            print(\"Source:\", src_sentence)\n",
    "            print(\"Target:\", tgt_sentence)\n",
    "            print(\"-\" * 50)\n",
    "    break\n"
   ]
  },
  {
   "cell_type": "code",
   "execution_count": 7,
   "metadata": {},
   "outputs": [
    {
     "name": "stdout",
     "output_type": "stream",
     "text": [
      "Epoch 1/150\n"
     ]
    },
    {
     "name": "stderr",
     "output_type": "stream",
     "text": [
      "🚀 Training: 100%|██████████| 25/25 [00:00<00:00, 40.56it/s, loss=6.5956]\n",
      "🚀 Validation: 100%|██████████| 4/4 [00:00<00:00, 169.90it/s, loss=6.2293]\n"
     ]
    },
    {
     "name": "stdout",
     "output_type": "stream",
     "text": [
      "[Epoch 1] Train Loss: 7.6275 | Val Loss: 6.2935\n",
      "  -> New best model saved at saved/best_sp.pt\n",
      "Epoch 2/150\n"
     ]
    },
    {
     "name": "stderr",
     "output_type": "stream",
     "text": [
      "🚀 Training: 100%|██████████| 25/25 [00:00<00:00, 53.61it/s, loss=5.4986]\n",
      "🚀 Validation: 100%|██████████| 4/4 [00:00<00:00, 153.59it/s, loss=5.2779]\n"
     ]
    },
    {
     "name": "stdout",
     "output_type": "stream",
     "text": [
      "[Epoch 2] Train Loss: 5.9046 | Val Loss: 5.3761\n",
      "  -> New best model saved at saved/best_sp.pt\n",
      "Epoch 3/150\n"
     ]
    },
    {
     "name": "stderr",
     "output_type": "stream",
     "text": [
      "🚀 Training: 100%|██████████| 25/25 [00:00<00:00, 52.56it/s, loss=5.3979]\n",
      "🚀 Validation: 100%|██████████| 4/4 [00:00<00:00, 141.55it/s, loss=5.1187]\n"
     ]
    },
    {
     "name": "stdout",
     "output_type": "stream",
     "text": [
      "[Epoch 3] Train Loss: 5.3826 | Val Loss: 5.2503\n",
      "  -> New best model saved at saved/best_sp.pt\n",
      "Epoch 4/150\n"
     ]
    },
    {
     "name": "stderr",
     "output_type": "stream",
     "text": [
      "🚀 Training: 100%|██████████| 25/25 [00:00<00:00, 52.64it/s, loss=5.2059]\n",
      "🚀 Validation: 100%|██████████| 4/4 [00:00<00:00, 169.52it/s, loss=4.9003]\n"
     ]
    },
    {
     "name": "stdout",
     "output_type": "stream",
     "text": [
      "[Epoch 4] Train Loss: 5.2503 | Val Loss: 5.0553\n",
      "  -> New best model saved at saved/best_sp.pt\n",
      "Epoch 5/150\n"
     ]
    },
    {
     "name": "stderr",
     "output_type": "stream",
     "text": [
      "🚀 Training: 100%|██████████| 25/25 [00:00<00:00, 52.49it/s, loss=5.0572]\n",
      "🚀 Validation: 100%|██████████| 4/4 [00:00<00:00, 171.68it/s, loss=4.6649]\n"
     ]
    },
    {
     "name": "stdout",
     "output_type": "stream",
     "text": [
      "[Epoch 5] Train Loss: 5.0846 | Val Loss: 4.8632\n",
      "  -> New best model saved at saved/best_sp.pt\n",
      "Epoch 6/150\n"
     ]
    },
    {
     "name": "stderr",
     "output_type": "stream",
     "text": [
      "🚀 Training: 100%|██████████| 25/25 [00:00<00:00, 52.89it/s, loss=4.8549]\n",
      "🚀 Validation: 100%|██████████| 4/4 [00:00<00:00, 167.24it/s, loss=4.4623]\n"
     ]
    },
    {
     "name": "stdout",
     "output_type": "stream",
     "text": [
      "[Epoch 6] Train Loss: 4.9093 | Val Loss: 4.6887\n",
      "  -> New best model saved at saved/best_sp.pt\n",
      "Epoch 7/150\n"
     ]
    },
    {
     "name": "stderr",
     "output_type": "stream",
     "text": [
      "🚀 Training: 100%|██████████| 25/25 [00:00<00:00, 52.97it/s, loss=4.6523]\n",
      "🚀 Validation: 100%|██████████| 4/4 [00:00<00:00, 165.62it/s, loss=4.2874]\n"
     ]
    },
    {
     "name": "stdout",
     "output_type": "stream",
     "text": [
      "[Epoch 7] Train Loss: 4.7453 | Val Loss: 4.5383\n",
      "  -> New best model saved at saved/best_sp.pt\n",
      "Epoch 8/150\n"
     ]
    },
    {
     "name": "stderr",
     "output_type": "stream",
     "text": [
      "🚀 Training: 100%|██████████| 25/25 [00:00<00:00, 52.57it/s, loss=4.6224]\n",
      "🚀 Validation: 100%|██████████| 4/4 [00:00<00:00, 171.16it/s, loss=4.1478]\n"
     ]
    },
    {
     "name": "stdout",
     "output_type": "stream",
     "text": [
      "[Epoch 8] Train Loss: 4.6036 | Val Loss: 4.4170\n",
      "  -> New best model saved at saved/best_sp.pt\n",
      "Epoch 9/150\n"
     ]
    },
    {
     "name": "stderr",
     "output_type": "stream",
     "text": [
      "🚀 Training: 100%|██████████| 25/25 [00:00<00:00, 52.40it/s, loss=4.5424]\n",
      "🚀 Validation: 100%|██████████| 4/4 [00:00<00:00, 151.43it/s, loss=4.0573]\n"
     ]
    },
    {
     "name": "stdout",
     "output_type": "stream",
     "text": [
      "[Epoch 9] Train Loss: 4.4792 | Val Loss: 4.3301\n",
      "  -> New best model saved at saved/best_sp.pt\n",
      "Epoch 10/150\n"
     ]
    },
    {
     "name": "stderr",
     "output_type": "stream",
     "text": [
      "🚀 Training: 100%|██████████| 25/25 [00:00<00:00, 53.49it/s, loss=4.3255]\n",
      "🚀 Validation: 100%|██████████| 4/4 [00:00<00:00, 172.72it/s, loss=3.9466]\n"
     ]
    },
    {
     "name": "stdout",
     "output_type": "stream",
     "text": [
      "[Epoch 10] Train Loss: 4.3748 | Val Loss: 4.2432\n",
      "  -> New best model saved at saved/best_sp.pt\n",
      "Epoch 11/150\n"
     ]
    },
    {
     "name": "stderr",
     "output_type": "stream",
     "text": [
      "🚀 Training: 100%|██████████| 25/25 [00:00<00:00, 52.12it/s, loss=4.3109]\n",
      "🚀 Validation: 100%|██████████| 4/4 [00:00<00:00, 166.51it/s, loss=3.8618]\n"
     ]
    },
    {
     "name": "stdout",
     "output_type": "stream",
     "text": [
      "[Epoch 11] Train Loss: 4.2894 | Val Loss: 4.1703\n",
      "  -> New best model saved at saved/best_sp.pt\n",
      "Epoch 12/150\n"
     ]
    },
    {
     "name": "stderr",
     "output_type": "stream",
     "text": [
      "🚀 Training: 100%|██████████| 25/25 [00:00<00:00, 52.72it/s, loss=4.1459]\n",
      "🚀 Validation: 100%|██████████| 4/4 [00:00<00:00, 162.07it/s, loss=3.7978]\n"
     ]
    },
    {
     "name": "stdout",
     "output_type": "stream",
     "text": [
      "[Epoch 12] Train Loss: 4.2016 | Val Loss: 4.1135\n",
      "  -> New best model saved at saved/best_sp.pt\n",
      "Epoch 13/150\n"
     ]
    },
    {
     "name": "stderr",
     "output_type": "stream",
     "text": [
      "🚀 Training: 100%|██████████| 25/25 [00:00<00:00, 51.55it/s, loss=4.1690]\n",
      "🚀 Validation: 100%|██████████| 4/4 [00:00<00:00, 164.22it/s, loss=3.7396]\n"
     ]
    },
    {
     "name": "stdout",
     "output_type": "stream",
     "text": [
      "[Epoch 13] Train Loss: 4.1353 | Val Loss: 4.0666\n",
      "  -> New best model saved at saved/best_sp.pt\n",
      "Epoch 14/150\n"
     ]
    },
    {
     "name": "stderr",
     "output_type": "stream",
     "text": [
      "🚀 Training: 100%|██████████| 25/25 [00:00<00:00, 52.29it/s, loss=4.0473]\n",
      "🚀 Validation: 100%|██████████| 4/4 [00:00<00:00, 163.73it/s, loss=3.6960]\n"
     ]
    },
    {
     "name": "stdout",
     "output_type": "stream",
     "text": [
      "[Epoch 14] Train Loss: 4.0730 | Val Loss: 4.0265\n",
      "  -> New best model saved at saved/best_sp.pt\n",
      "Epoch 15/150\n"
     ]
    },
    {
     "name": "stderr",
     "output_type": "stream",
     "text": [
      "🚀 Training: 100%|██████████| 25/25 [00:00<00:00, 52.10it/s, loss=3.9840]\n",
      "🚀 Validation: 100%|██████████| 4/4 [00:00<00:00, 163.51it/s, loss=3.6772]\n"
     ]
    },
    {
     "name": "stdout",
     "output_type": "stream",
     "text": [
      "[Epoch 15] Train Loss: 4.0168 | Val Loss: 3.9950\n",
      "  -> New best model saved at saved/best_sp.pt\n",
      "Epoch 16/150\n"
     ]
    },
    {
     "name": "stderr",
     "output_type": "stream",
     "text": [
      "🚀 Training: 100%|██████████| 25/25 [00:00<00:00, 51.49it/s, loss=3.9100]\n",
      "🚀 Validation: 100%|██████████| 4/4 [00:00<00:00, 161.88it/s, loss=3.6398]\n"
     ]
    },
    {
     "name": "stdout",
     "output_type": "stream",
     "text": [
      "[Epoch 16] Train Loss: 3.9676 | Val Loss: 3.9661\n",
      "  -> New best model saved at saved/best_sp.pt\n",
      "Epoch 17/150\n"
     ]
    },
    {
     "name": "stderr",
     "output_type": "stream",
     "text": [
      "🚀 Training: 100%|██████████| 25/25 [00:00<00:00, 52.70it/s, loss=3.8404]\n",
      "🚀 Validation: 100%|██████████| 4/4 [00:00<00:00, 170.19it/s, loss=3.6122]\n"
     ]
    },
    {
     "name": "stdout",
     "output_type": "stream",
     "text": [
      "[Epoch 17] Train Loss: 3.9226 | Val Loss: 3.9392\n",
      "  -> New best model saved at saved/best_sp.pt\n",
      "Epoch 18/150\n"
     ]
    },
    {
     "name": "stderr",
     "output_type": "stream",
     "text": [
      "🚀 Training: 100%|██████████| 25/25 [00:00<00:00, 51.97it/s, loss=3.7918]\n",
      "🚀 Validation: 100%|██████████| 4/4 [00:00<00:00, 165.90it/s, loss=3.6007]\n"
     ]
    },
    {
     "name": "stdout",
     "output_type": "stream",
     "text": [
      "[Epoch 18] Train Loss: 3.8840 | Val Loss: 3.9231\n",
      "  -> New best model saved at saved/best_sp.pt\n",
      "Epoch 19/150\n"
     ]
    },
    {
     "name": "stderr",
     "output_type": "stream",
     "text": [
      "🚀 Training: 100%|██████████| 25/25 [00:00<00:00, 52.75it/s, loss=3.9256]\n",
      "🚀 Validation: 100%|██████████| 4/4 [00:00<00:00, 167.72it/s, loss=3.5834]\n"
     ]
    },
    {
     "name": "stdout",
     "output_type": "stream",
     "text": [
      "[Epoch 19] Train Loss: 3.8535 | Val Loss: 3.9049\n",
      "  -> New best model saved at saved/best_sp.pt\n",
      "Epoch 20/150\n"
     ]
    },
    {
     "name": "stderr",
     "output_type": "stream",
     "text": [
      "🚀 Training: 100%|██████████| 25/25 [00:00<00:00, 51.97it/s, loss=3.7745]\n",
      "🚀 Validation: 100%|██████████| 4/4 [00:00<00:00, 170.05it/s, loss=3.5619]\n"
     ]
    },
    {
     "name": "stdout",
     "output_type": "stream",
     "text": [
      "[Epoch 20] Train Loss: 3.8171 | Val Loss: 3.8870\n",
      "  -> New best model saved at saved/best_sp.pt\n",
      "Epoch 21/150\n"
     ]
    },
    {
     "name": "stderr",
     "output_type": "stream",
     "text": [
      "🚀 Training: 100%|██████████| 25/25 [00:00<00:00, 51.82it/s, loss=3.7326]\n",
      "🚀 Validation: 100%|██████████| 4/4 [00:00<00:00, 146.09it/s, loss=3.5431]\n"
     ]
    },
    {
     "name": "stdout",
     "output_type": "stream",
     "text": [
      "[Epoch 21] Train Loss: 3.7866 | Val Loss: 3.8675\n",
      "  -> New best model saved at saved/best_sp.pt\n",
      "Epoch 22/150\n"
     ]
    },
    {
     "name": "stderr",
     "output_type": "stream",
     "text": [
      "🚀 Training: 100%|██████████| 25/25 [00:00<00:00, 52.02it/s, loss=3.7246]\n",
      "🚀 Validation: 100%|██████████| 4/4 [00:00<00:00, 166.57it/s, loss=3.5192]\n"
     ]
    },
    {
     "name": "stdout",
     "output_type": "stream",
     "text": [
      "[Epoch 22] Train Loss: 3.7616 | Val Loss: 3.8488\n",
      "  -> New best model saved at saved/best_sp.pt\n",
      "Epoch 23/150\n"
     ]
    },
    {
     "name": "stderr",
     "output_type": "stream",
     "text": [
      "🚀 Training: 100%|██████████| 25/25 [00:00<00:00, 52.11it/s, loss=3.7523]\n",
      "🚀 Validation: 100%|██████████| 4/4 [00:00<00:00, 171.39it/s, loss=3.5120]\n"
     ]
    },
    {
     "name": "stdout",
     "output_type": "stream",
     "text": [
      "[Epoch 23] Train Loss: 3.7326 | Val Loss: 3.8377\n",
      "  -> New best model saved at saved/best_sp.pt\n",
      "Epoch 24/150\n"
     ]
    },
    {
     "name": "stderr",
     "output_type": "stream",
     "text": [
      "🚀 Training: 100%|██████████| 25/25 [00:00<00:00, 52.15it/s, loss=3.6606]\n",
      "🚀 Validation: 100%|██████████| 4/4 [00:00<00:00, 163.66it/s, loss=3.5136]\n"
     ]
    },
    {
     "name": "stdout",
     "output_type": "stream",
     "text": [
      "[Epoch 24] Train Loss: 3.7068 | Val Loss: 3.8314\n",
      "  -> New best model saved at saved/best_sp.pt\n",
      "Epoch 25/150\n"
     ]
    },
    {
     "name": "stderr",
     "output_type": "stream",
     "text": [
      "🚀 Training: 100%|██████████| 25/25 [00:00<00:00, 51.02it/s, loss=3.6478]\n",
      "🚀 Validation: 100%|██████████| 4/4 [00:00<00:00, 172.86it/s, loss=3.4769]\n"
     ]
    },
    {
     "name": "stdout",
     "output_type": "stream",
     "text": [
      "[Epoch 25] Train Loss: 3.6863 | Val Loss: 3.8129\n",
      "  -> New best model saved at saved/best_sp.pt\n",
      "Epoch 26/150\n"
     ]
    },
    {
     "name": "stderr",
     "output_type": "stream",
     "text": [
      "🚀 Training: 100%|██████████| 25/25 [00:00<00:00, 52.30it/s, loss=3.7707]\n",
      "🚀 Validation: 100%|██████████| 4/4 [00:00<00:00, 168.01it/s, loss=3.4784]\n"
     ]
    },
    {
     "name": "stdout",
     "output_type": "stream",
     "text": [
      "[Epoch 26] Train Loss: 3.6682 | Val Loss: 3.8067\n",
      "  -> New best model saved at saved/best_sp.pt\n",
      "Epoch 27/150\n"
     ]
    },
    {
     "name": "stderr",
     "output_type": "stream",
     "text": [
      "🚀 Training: 100%|██████████| 25/25 [00:00<00:00, 51.25it/s, loss=3.6693]\n",
      "🚀 Validation: 100%|██████████| 4/4 [00:00<00:00, 163.83it/s, loss=3.4693]\n"
     ]
    },
    {
     "name": "stdout",
     "output_type": "stream",
     "text": [
      "[Epoch 27] Train Loss: 3.6457 | Val Loss: 3.7998\n",
      "  -> New best model saved at saved/best_sp.pt\n",
      "Epoch 28/150\n"
     ]
    },
    {
     "name": "stderr",
     "output_type": "stream",
     "text": [
      "🚀 Training: 100%|██████████| 25/25 [00:00<00:00, 51.83it/s, loss=3.6647]\n",
      "🚀 Validation: 100%|██████████| 4/4 [00:00<00:00, 124.73it/s, loss=3.4562]\n"
     ]
    },
    {
     "name": "stdout",
     "output_type": "stream",
     "text": [
      "[Epoch 28] Train Loss: 3.6313 | Val Loss: 3.7906\n",
      "  -> New best model saved at saved/best_sp.pt\n",
      "Epoch 29/150\n"
     ]
    },
    {
     "name": "stderr",
     "output_type": "stream",
     "text": [
      "🚀 Training: 100%|██████████| 25/25 [00:00<00:00, 52.40it/s, loss=3.5030]\n",
      "🚀 Validation: 100%|██████████| 4/4 [00:00<00:00, 162.30it/s, loss=3.4546]\n"
     ]
    },
    {
     "name": "stdout",
     "output_type": "stream",
     "text": [
      "[Epoch 29] Train Loss: 3.6078 | Val Loss: 3.7846\n",
      "  -> New best model saved at saved/best_sp.pt\n",
      "Epoch 30/150\n"
     ]
    },
    {
     "name": "stderr",
     "output_type": "stream",
     "text": [
      "🚀 Training: 100%|██████████| 25/25 [00:00<00:00, 49.37it/s, loss=3.5863]\n",
      "🚀 Validation: 100%|██████████| 4/4 [00:00<00:00, 158.17it/s, loss=3.4452]\n"
     ]
    },
    {
     "name": "stdout",
     "output_type": "stream",
     "text": [
      "[Epoch 30] Train Loss: 3.5911 | Val Loss: 3.7761\n",
      "  -> New best model saved at saved/best_sp.pt\n",
      "Epoch 31/150\n"
     ]
    },
    {
     "name": "stderr",
     "output_type": "stream",
     "text": [
      "🚀 Training: 100%|██████████| 25/25 [00:00<00:00, 51.82it/s, loss=3.6368]\n",
      "🚀 Validation: 100%|██████████| 4/4 [00:00<00:00, 163.97it/s, loss=3.4359]\n"
     ]
    },
    {
     "name": "stdout",
     "output_type": "stream",
     "text": [
      "[Epoch 31] Train Loss: 3.5736 | Val Loss: 3.7702\n",
      "  -> New best model saved at saved/best_sp.pt\n",
      "Epoch 32/150\n"
     ]
    },
    {
     "name": "stderr",
     "output_type": "stream",
     "text": [
      "🚀 Training: 100%|██████████| 25/25 [00:00<00:00, 52.10it/s, loss=3.5295]\n",
      "🚀 Validation: 100%|██████████| 4/4 [00:00<00:00, 159.90it/s, loss=3.4330]\n"
     ]
    },
    {
     "name": "stdout",
     "output_type": "stream",
     "text": [
      "[Epoch 32] Train Loss: 3.5584 | Val Loss: 3.7680\n",
      "  -> New best model saved at saved/best_sp.pt\n",
      "Epoch 33/150\n"
     ]
    },
    {
     "name": "stderr",
     "output_type": "stream",
     "text": [
      "🚀 Training: 100%|██████████| 25/25 [00:00<00:00, 52.22it/s, loss=3.4281]\n",
      "🚀 Validation: 100%|██████████| 4/4 [00:00<00:00, 174.81it/s, loss=3.4299]\n"
     ]
    },
    {
     "name": "stdout",
     "output_type": "stream",
     "text": [
      "[Epoch 33] Train Loss: 3.5474 | Val Loss: 3.7598\n",
      "  -> New best model saved at saved/best_sp.pt\n",
      "Epoch 34/150\n"
     ]
    },
    {
     "name": "stderr",
     "output_type": "stream",
     "text": [
      "🚀 Training: 100%|██████████| 25/25 [00:00<00:00, 53.00it/s, loss=3.6342]\n",
      "🚀 Validation: 100%|██████████| 4/4 [00:00<00:00, 173.58it/s, loss=3.4310]\n"
     ]
    },
    {
     "name": "stdout",
     "output_type": "stream",
     "text": [
      "[Epoch 34] Train Loss: 3.5337 | Val Loss: 3.7618\n",
      "Epoch 35/150\n"
     ]
    },
    {
     "name": "stderr",
     "output_type": "stream",
     "text": [
      "🚀 Training: 100%|██████████| 25/25 [00:00<00:00, 52.75it/s, loss=3.5804]\n",
      "🚀 Validation: 100%|██████████| 4/4 [00:00<00:00, 171.38it/s, loss=3.4350]\n"
     ]
    },
    {
     "name": "stdout",
     "output_type": "stream",
     "text": [
      "[Epoch 35] Train Loss: 3.5170 | Val Loss: 3.7552\n",
      "  -> New best model saved at saved/best_sp.pt\n",
      "Epoch 36/150\n"
     ]
    },
    {
     "name": "stderr",
     "output_type": "stream",
     "text": [
      "🚀 Training: 100%|██████████| 25/25 [00:00<00:00, 52.89it/s, loss=3.4798]\n",
      "🚀 Validation: 100%|██████████| 4/4 [00:00<00:00, 168.86it/s, loss=3.4154]\n"
     ]
    },
    {
     "name": "stdout",
     "output_type": "stream",
     "text": [
      "[Epoch 36] Train Loss: 3.5052 | Val Loss: 3.7493\n",
      "  -> New best model saved at saved/best_sp.pt\n",
      "Epoch 37/150\n"
     ]
    },
    {
     "name": "stderr",
     "output_type": "stream",
     "text": [
      "🚀 Training: 100%|██████████| 25/25 [00:00<00:00, 53.27it/s, loss=3.4882]\n",
      "🚀 Validation: 100%|██████████| 4/4 [00:00<00:00, 169.99it/s, loss=3.4085]\n"
     ]
    },
    {
     "name": "stdout",
     "output_type": "stream",
     "text": [
      "[Epoch 37] Train Loss: 3.4911 | Val Loss: 3.7433\n",
      "  -> New best model saved at saved/best_sp.pt\n",
      "Epoch 38/150\n"
     ]
    },
    {
     "name": "stderr",
     "output_type": "stream",
     "text": [
      "🚀 Training: 100%|██████████| 25/25 [00:00<00:00, 52.09it/s, loss=3.4209]\n",
      "🚀 Validation: 100%|██████████| 4/4 [00:00<00:00, 173.91it/s, loss=3.4153]\n"
     ]
    },
    {
     "name": "stdout",
     "output_type": "stream",
     "text": [
      "[Epoch 38] Train Loss: 3.4778 | Val Loss: 3.7460\n",
      "Epoch 39/150\n"
     ]
    },
    {
     "name": "stderr",
     "output_type": "stream",
     "text": [
      "🚀 Training: 100%|██████████| 25/25 [00:00<00:00, 52.73it/s, loss=3.5296]\n",
      "🚀 Validation: 100%|██████████| 4/4 [00:00<00:00, 165.02it/s, loss=3.4106]\n"
     ]
    },
    {
     "name": "stdout",
     "output_type": "stream",
     "text": [
      "[Epoch 39] Train Loss: 3.4654 | Val Loss: 3.7429\n",
      "  -> New best model saved at saved/best_sp.pt\n",
      "Epoch 40/150\n"
     ]
    },
    {
     "name": "stderr",
     "output_type": "stream",
     "text": [
      "🚀 Training: 100%|██████████| 25/25 [00:00<00:00, 52.40it/s, loss=3.4978]\n",
      "🚀 Validation: 100%|██████████| 4/4 [00:00<00:00, 171.97it/s, loss=3.4054]\n"
     ]
    },
    {
     "name": "stdout",
     "output_type": "stream",
     "text": [
      "[Epoch 40] Train Loss: 3.4550 | Val Loss: 3.7370\n",
      "  -> New best model saved at saved/best_sp.pt\n",
      "Epoch 41/150\n"
     ]
    },
    {
     "name": "stderr",
     "output_type": "stream",
     "text": [
      "🚀 Training: 100%|██████████| 25/25 [00:00<00:00, 52.82it/s, loss=3.5742]\n",
      "🚀 Validation: 100%|██████████| 4/4 [00:00<00:00, 165.40it/s, loss=3.4012]\n"
     ]
    },
    {
     "name": "stdout",
     "output_type": "stream",
     "text": [
      "[Epoch 41] Train Loss: 3.4476 | Val Loss: 3.7355\n",
      "  -> New best model saved at saved/best_sp.pt\n",
      "Epoch 42/150\n"
     ]
    },
    {
     "name": "stderr",
     "output_type": "stream",
     "text": [
      "🚀 Training: 100%|██████████| 25/25 [00:00<00:00, 52.75it/s, loss=3.4570]\n",
      "🚀 Validation: 100%|██████████| 4/4 [00:00<00:00, 175.83it/s, loss=3.3988]\n"
     ]
    },
    {
     "name": "stdout",
     "output_type": "stream",
     "text": [
      "[Epoch 42] Train Loss: 3.4315 | Val Loss: 3.7311\n",
      "  -> New best model saved at saved/best_sp.pt\n",
      "Epoch 43/150\n"
     ]
    },
    {
     "name": "stderr",
     "output_type": "stream",
     "text": [
      "🚀 Training: 100%|██████████| 25/25 [00:00<00:00, 53.07it/s, loss=3.3169]\n",
      "🚀 Validation: 100%|██████████| 4/4 [00:00<00:00, 167.92it/s, loss=3.3909]\n"
     ]
    },
    {
     "name": "stdout",
     "output_type": "stream",
     "text": [
      "[Epoch 43] Train Loss: 3.4184 | Val Loss: 3.7276\n",
      "  -> New best model saved at saved/best_sp.pt\n",
      "Epoch 44/150\n"
     ]
    },
    {
     "name": "stderr",
     "output_type": "stream",
     "text": [
      "🚀 Training: 100%|██████████| 25/25 [00:00<00:00, 52.66it/s, loss=3.4522]\n",
      "🚀 Validation: 100%|██████████| 4/4 [00:00<00:00, 169.62it/s, loss=3.3938]\n"
     ]
    },
    {
     "name": "stdout",
     "output_type": "stream",
     "text": [
      "[Epoch 44] Train Loss: 3.4125 | Val Loss: 3.7348\n",
      "Epoch 45/150\n"
     ]
    },
    {
     "name": "stderr",
     "output_type": "stream",
     "text": [
      "🚀 Training: 100%|██████████| 25/25 [00:00<00:00, 52.31it/s, loss=3.4272]\n",
      "🚀 Validation: 100%|██████████| 4/4 [00:00<00:00, 169.18it/s, loss=3.3872]\n"
     ]
    },
    {
     "name": "stdout",
     "output_type": "stream",
     "text": [
      "[Epoch 45] Train Loss: 3.4057 | Val Loss: 3.7276\n",
      "Epoch 46/150\n"
     ]
    },
    {
     "name": "stderr",
     "output_type": "stream",
     "text": [
      "🚀 Training: 100%|██████████| 25/25 [00:00<00:00, 52.71it/s, loss=3.4291]\n",
      "🚀 Validation: 100%|██████████| 4/4 [00:00<00:00, 172.30it/s, loss=3.3810]\n"
     ]
    },
    {
     "name": "stdout",
     "output_type": "stream",
     "text": [
      "[Epoch 46] Train Loss: 3.3944 | Val Loss: 3.7243\n",
      "  -> New best model saved at saved/best_sp.pt\n",
      "Epoch 47/150\n"
     ]
    },
    {
     "name": "stderr",
     "output_type": "stream",
     "text": [
      "🚀 Training: 100%|██████████| 25/25 [00:00<00:00, 48.94it/s, loss=3.4546]\n",
      "🚀 Validation: 100%|██████████| 4/4 [00:00<00:00, 156.73it/s, loss=3.3945]\n"
     ]
    },
    {
     "name": "stdout",
     "output_type": "stream",
     "text": [
      "[Epoch 47] Train Loss: 3.3855 | Val Loss: 3.7272\n",
      "Epoch 48/150\n"
     ]
    },
    {
     "name": "stderr",
     "output_type": "stream",
     "text": [
      "🚀 Training: 100%|██████████| 25/25 [00:00<00:00, 50.65it/s, loss=3.4135]\n",
      "🚀 Validation: 100%|██████████| 4/4 [00:00<00:00, 152.36it/s, loss=3.3987]\n"
     ]
    },
    {
     "name": "stdout",
     "output_type": "stream",
     "text": [
      "[Epoch 48] Train Loss: 3.3792 | Val Loss: 3.7281\n",
      "Epoch 49/150\n"
     ]
    },
    {
     "name": "stderr",
     "output_type": "stream",
     "text": [
      "🚀 Training: 100%|██████████| 25/25 [00:00<00:00, 51.06it/s, loss=3.4843]\n",
      "🚀 Validation: 100%|██████████| 4/4 [00:00<00:00, 158.22it/s, loss=3.3876]\n"
     ]
    },
    {
     "name": "stdout",
     "output_type": "stream",
     "text": [
      "[Epoch 49] Train Loss: 3.3694 | Val Loss: 3.7207\n",
      "  -> New best model saved at saved/best_sp.pt\n",
      "Epoch 50/150\n"
     ]
    },
    {
     "name": "stderr",
     "output_type": "stream",
     "text": [
      "🚀 Training: 100%|██████████| 25/25 [00:00<00:00, 51.38it/s, loss=3.4239]\n",
      "🚀 Validation: 100%|██████████| 4/4 [00:00<00:00, 125.97it/s, loss=3.3911]\n"
     ]
    },
    {
     "name": "stdout",
     "output_type": "stream",
     "text": [
      "[Epoch 50] Train Loss: 3.3553 | Val Loss: 3.7236\n",
      "Epoch 51/150\n"
     ]
    },
    {
     "name": "stderr",
     "output_type": "stream",
     "text": [
      "🚀 Training: 100%|██████████| 25/25 [00:00<00:00, 51.04it/s, loss=3.3869]\n",
      "🚀 Validation: 100%|██████████| 4/4 [00:00<00:00, 161.28it/s, loss=3.4011]\n"
     ]
    },
    {
     "name": "stdout",
     "output_type": "stream",
     "text": [
      "[Epoch 51] Train Loss: 3.3519 | Val Loss: 3.7274\n",
      "Epoch 52/150\n"
     ]
    },
    {
     "name": "stderr",
     "output_type": "stream",
     "text": [
      "🚀 Training: 100%|██████████| 25/25 [00:00<00:00, 51.19it/s, loss=3.2597]\n",
      "🚀 Validation: 100%|██████████| 4/4 [00:00<00:00, 120.38it/s, loss=3.3773]\n"
     ]
    },
    {
     "name": "stdout",
     "output_type": "stream",
     "text": [
      "[Epoch 52] Train Loss: 3.3455 | Val Loss: 3.7191\n",
      "  -> New best model saved at saved/best_sp.pt\n",
      "Epoch 53/150\n"
     ]
    },
    {
     "name": "stderr",
     "output_type": "stream",
     "text": [
      "🚀 Training: 100%|██████████| 25/25 [00:00<00:00, 50.36it/s, loss=3.3792]\n",
      "🚀 Validation: 100%|██████████| 4/4 [00:00<00:00, 161.94it/s, loss=3.3862]\n"
     ]
    },
    {
     "name": "stdout",
     "output_type": "stream",
     "text": [
      "[Epoch 53] Train Loss: 3.3331 | Val Loss: 3.7215\n",
      "Epoch 54/150\n"
     ]
    },
    {
     "name": "stderr",
     "output_type": "stream",
     "text": [
      "🚀 Training: 100%|██████████| 25/25 [00:00<00:00, 51.57it/s, loss=3.3021]\n",
      "🚀 Validation: 100%|██████████| 4/4 [00:00<00:00, 171.13it/s, loss=3.3874]\n"
     ]
    },
    {
     "name": "stdout",
     "output_type": "stream",
     "text": [
      "[Epoch 54] Train Loss: 3.3261 | Val Loss: 3.7278\n",
      "Epoch 55/150\n"
     ]
    },
    {
     "name": "stderr",
     "output_type": "stream",
     "text": [
      "🚀 Training: 100%|██████████| 25/25 [00:00<00:00, 50.34it/s, loss=3.2655]\n",
      "🚀 Validation: 100%|██████████| 4/4 [00:00<00:00, 163.90it/s, loss=3.3817]\n"
     ]
    },
    {
     "name": "stdout",
     "output_type": "stream",
     "text": [
      "[Epoch 55] Train Loss: 3.3173 | Val Loss: 3.7183\n",
      "  -> New best model saved at saved/best_sp.pt\n",
      "Epoch 56/150\n"
     ]
    },
    {
     "name": "stderr",
     "output_type": "stream",
     "text": [
      "🚀 Training: 100%|██████████| 25/25 [00:00<00:00, 51.31it/s, loss=3.2348]\n",
      "🚀 Validation: 100%|██████████| 4/4 [00:00<00:00, 139.16it/s, loss=3.3852]\n"
     ]
    },
    {
     "name": "stdout",
     "output_type": "stream",
     "text": [
      "[Epoch 56] Train Loss: 3.3117 | Val Loss: 3.7235\n",
      "Epoch 57/150\n"
     ]
    },
    {
     "name": "stderr",
     "output_type": "stream",
     "text": [
      "🚀 Training: 100%|██████████| 25/25 [00:00<00:00, 50.88it/s, loss=3.2228]\n",
      "🚀 Validation: 100%|██████████| 4/4 [00:00<00:00, 163.96it/s, loss=3.3818]\n"
     ]
    },
    {
     "name": "stdout",
     "output_type": "stream",
     "text": [
      "[Epoch 57] Train Loss: 3.3053 | Val Loss: 3.7196\n",
      "Epoch 58/150\n"
     ]
    },
    {
     "name": "stderr",
     "output_type": "stream",
     "text": [
      "🚀 Training: 100%|██████████| 25/25 [00:00<00:00, 52.43it/s, loss=3.2816]\n",
      "🚀 Validation: 100%|██████████| 4/4 [00:00<00:00, 164.92it/s, loss=3.3939]\n"
     ]
    },
    {
     "name": "stdout",
     "output_type": "stream",
     "text": [
      "[Epoch 58] Train Loss: 3.3061 | Val Loss: 3.7255\n",
      "Epoch 59/150\n"
     ]
    },
    {
     "name": "stderr",
     "output_type": "stream",
     "text": [
      "🚀 Training: 100%|██████████| 25/25 [00:00<00:00, 51.09it/s, loss=3.4476]\n",
      "🚀 Validation: 100%|██████████| 4/4 [00:00<00:00, 134.38it/s, loss=3.3727]\n"
     ]
    },
    {
     "name": "stdout",
     "output_type": "stream",
     "text": [
      "[Epoch 59] Train Loss: 3.2932 | Val Loss: 3.7173\n",
      "  -> New best model saved at saved/best_sp.pt\n",
      "Epoch 60/150\n"
     ]
    },
    {
     "name": "stderr",
     "output_type": "stream",
     "text": [
      "🚀 Training: 100%|██████████| 25/25 [00:00<00:00, 53.19it/s, loss=3.2864]\n",
      "🚀 Validation: 100%|██████████| 4/4 [00:00<00:00, 169.32it/s, loss=3.3909]\n"
     ]
    },
    {
     "name": "stdout",
     "output_type": "stream",
     "text": [
      "[Epoch 60] Train Loss: 3.2860 | Val Loss: 3.7241\n",
      "Epoch 61/150\n"
     ]
    },
    {
     "name": "stderr",
     "output_type": "stream",
     "text": [
      "🚀 Training: 100%|██████████| 25/25 [00:00<00:00, 51.36it/s, loss=3.2417]\n",
      "🚀 Validation: 100%|██████████| 4/4 [00:00<00:00, 166.82it/s, loss=3.4046]\n"
     ]
    },
    {
     "name": "stdout",
     "output_type": "stream",
     "text": [
      "[Epoch 61] Train Loss: 3.2791 | Val Loss: 3.7309\n",
      "Epoch 62/150\n"
     ]
    },
    {
     "name": "stderr",
     "output_type": "stream",
     "text": [
      "🚀 Training: 100%|██████████| 25/25 [00:00<00:00, 51.87it/s, loss=3.2865]\n",
      "🚀 Validation: 100%|██████████| 4/4 [00:00<00:00, 165.59it/s, loss=3.3953]\n"
     ]
    },
    {
     "name": "stdout",
     "output_type": "stream",
     "text": [
      "[Epoch 62] Train Loss: 3.2744 | Val Loss: 3.7290\n",
      "Epoch 63/150\n"
     ]
    },
    {
     "name": "stderr",
     "output_type": "stream",
     "text": [
      "🚀 Training: 100%|██████████| 25/25 [00:00<00:00, 52.03it/s, loss=3.1394]\n",
      "🚀 Validation: 100%|██████████| 4/4 [00:00<00:00, 156.61it/s, loss=3.4058]\n"
     ]
    },
    {
     "name": "stdout",
     "output_type": "stream",
     "text": [
      "[Epoch 63] Train Loss: 3.2693 | Val Loss: 3.7317\n",
      "Epoch 64/150\n"
     ]
    },
    {
     "name": "stderr",
     "output_type": "stream",
     "text": [
      "🚀 Training: 100%|██████████| 25/25 [00:00<00:00, 52.76it/s, loss=3.2192]\n",
      "🚀 Validation: 100%|██████████| 4/4 [00:00<00:00, 165.60it/s, loss=3.3976]\n"
     ]
    },
    {
     "name": "stdout",
     "output_type": "stream",
     "text": [
      "[Epoch 64] Train Loss: 3.2645 | Val Loss: 3.7278\n",
      "Epoch 65/150\n"
     ]
    },
    {
     "name": "stderr",
     "output_type": "stream",
     "text": [
      "🚀 Training: 100%|██████████| 25/25 [00:00<00:00, 52.07it/s, loss=3.2895]\n",
      "🚀 Validation: 100%|██████████| 4/4 [00:00<00:00, 169.80it/s, loss=3.4004]\n"
     ]
    },
    {
     "name": "stdout",
     "output_type": "stream",
     "text": [
      "[Epoch 65] Train Loss: 3.2604 | Val Loss: 3.7291\n",
      "Epoch 66/150\n"
     ]
    },
    {
     "name": "stderr",
     "output_type": "stream",
     "text": [
      "🚀 Training: 100%|██████████| 25/25 [00:00<00:00, 52.89it/s, loss=3.3228]\n",
      "🚀 Validation: 100%|██████████| 4/4 [00:00<00:00, 165.31it/s, loss=3.3930]\n"
     ]
    },
    {
     "name": "stdout",
     "output_type": "stream",
     "text": [
      "[Epoch 66] Train Loss: 3.2502 | Val Loss: 3.7263\n",
      "Epoch 67/150\n"
     ]
    },
    {
     "name": "stderr",
     "output_type": "stream",
     "text": [
      "🚀 Training: 100%|██████████| 25/25 [00:00<00:00, 52.08it/s, loss=3.2587]\n",
      "🚀 Validation: 100%|██████████| 4/4 [00:00<00:00, 176.99it/s, loss=3.3886]\n"
     ]
    },
    {
     "name": "stdout",
     "output_type": "stream",
     "text": [
      "[Epoch 67] Train Loss: 3.2381 | Val Loss: 3.7274\n",
      "Epoch 68/150\n"
     ]
    },
    {
     "name": "stderr",
     "output_type": "stream",
     "text": [
      "🚀 Training: 100%|██████████| 25/25 [00:00<00:00, 52.46it/s, loss=3.2613]\n",
      "🚀 Validation: 100%|██████████| 4/4 [00:00<00:00, 171.39it/s, loss=3.3773]\n"
     ]
    },
    {
     "name": "stdout",
     "output_type": "stream",
     "text": [
      "[Epoch 68] Train Loss: 3.2372 | Val Loss: 3.7248\n",
      "Epoch 69/150\n"
     ]
    },
    {
     "name": "stderr",
     "output_type": "stream",
     "text": [
      "🚀 Training: 100%|██████████| 25/25 [00:00<00:00, 51.11it/s, loss=3.2810]\n",
      "🚀 Validation: 100%|██████████| 4/4 [00:00<00:00, 168.43it/s, loss=3.3972]\n"
     ]
    },
    {
     "name": "stdout",
     "output_type": "stream",
     "text": [
      "[Epoch 69] Train Loss: 3.2345 | Val Loss: 3.7310\n",
      "Epoch 70/150\n"
     ]
    },
    {
     "name": "stderr",
     "output_type": "stream",
     "text": [
      "🚀 Training: 100%|██████████| 25/25 [00:00<00:00, 51.93it/s, loss=3.1621]\n",
      "🚀 Validation: 100%|██████████| 4/4 [00:00<00:00, 163.38it/s, loss=3.3866]\n"
     ]
    },
    {
     "name": "stdout",
     "output_type": "stream",
     "text": [
      "[Epoch 70] Train Loss: 3.2329 | Val Loss: 3.7297\n",
      "Epoch 71/150\n"
     ]
    },
    {
     "name": "stderr",
     "output_type": "stream",
     "text": [
      "🚀 Training: 100%|██████████| 25/25 [00:00<00:00, 50.90it/s, loss=3.3161]\n",
      "🚀 Validation: 100%|██████████| 4/4 [00:00<00:00, 164.59it/s, loss=3.3962]\n"
     ]
    },
    {
     "name": "stdout",
     "output_type": "stream",
     "text": [
      "[Epoch 71] Train Loss: 3.2236 | Val Loss: 3.7277\n",
      "Epoch 72/150\n"
     ]
    },
    {
     "name": "stderr",
     "output_type": "stream",
     "text": [
      "🚀 Training: 100%|██████████| 25/25 [00:00<00:00, 51.44it/s, loss=3.3418]\n",
      "🚀 Validation: 100%|██████████| 4/4 [00:00<00:00, 163.50it/s, loss=3.3939]\n"
     ]
    },
    {
     "name": "stdout",
     "output_type": "stream",
     "text": [
      "[Epoch 72] Train Loss: 3.2185 | Val Loss: 3.7330\n",
      "Epoch 73/150\n"
     ]
    },
    {
     "name": "stderr",
     "output_type": "stream",
     "text": [
      "🚀 Training: 100%|██████████| 25/25 [00:00<00:00, 51.38it/s, loss=3.2751]\n",
      "🚀 Validation: 100%|██████████| 4/4 [00:00<00:00, 170.15it/s, loss=3.3901]\n"
     ]
    },
    {
     "name": "stdout",
     "output_type": "stream",
     "text": [
      "[Epoch 73] Train Loss: 3.2162 | Val Loss: 3.7391\n",
      "Epoch 74/150\n"
     ]
    },
    {
     "name": "stderr",
     "output_type": "stream",
     "text": [
      "🚀 Training: 100%|██████████| 25/25 [00:00<00:00, 51.44it/s, loss=3.1301]\n",
      "🚀 Validation: 100%|██████████| 4/4 [00:00<00:00, 160.66it/s, loss=3.3833]\n"
     ]
    },
    {
     "name": "stdout",
     "output_type": "stream",
     "text": [
      "[Epoch 74] Train Loss: 3.2081 | Val Loss: 3.7271\n",
      "Epoch 75/150\n"
     ]
    },
    {
     "name": "stderr",
     "output_type": "stream",
     "text": [
      "🚀 Training: 100%|██████████| 25/25 [00:00<00:00, 50.99it/s, loss=3.2002]\n",
      "🚀 Validation: 100%|██████████| 4/4 [00:00<00:00, 164.62it/s, loss=3.3953]\n"
     ]
    },
    {
     "name": "stdout",
     "output_type": "stream",
     "text": [
      "[Epoch 75] Train Loss: 3.2031 | Val Loss: 3.7328\n",
      "Epoch 76/150\n"
     ]
    },
    {
     "name": "stderr",
     "output_type": "stream",
     "text": [
      "🚀 Training: 100%|██████████| 25/25 [00:00<00:00, 51.66it/s, loss=3.2540]\n",
      "🚀 Validation: 100%|██████████| 4/4 [00:00<00:00, 162.19it/s, loss=3.3956]\n"
     ]
    },
    {
     "name": "stdout",
     "output_type": "stream",
     "text": [
      "[Epoch 76] Train Loss: 3.1997 | Val Loss: 3.7305\n",
      "Epoch 77/150\n"
     ]
    },
    {
     "name": "stderr",
     "output_type": "stream",
     "text": [
      "🚀 Training: 100%|██████████| 25/25 [00:00<00:00, 51.61it/s, loss=3.2499]\n",
      "🚀 Validation: 100%|██████████| 4/4 [00:00<00:00, 167.85it/s, loss=3.3877]\n"
     ]
    },
    {
     "name": "stdout",
     "output_type": "stream",
     "text": [
      "[Epoch 77] Train Loss: 3.1945 | Val Loss: 3.7328\n",
      "Epoch 78/150\n"
     ]
    },
    {
     "name": "stderr",
     "output_type": "stream",
     "text": [
      "🚀 Training: 100%|██████████| 25/25 [00:00<00:00, 49.10it/s, loss=3.3067]\n",
      "🚀 Validation: 100%|██████████| 4/4 [00:00<00:00, 142.08it/s, loss=3.3874]\n"
     ]
    },
    {
     "name": "stdout",
     "output_type": "stream",
     "text": [
      "[Epoch 78] Train Loss: 3.1865 | Val Loss: 3.7299\n",
      "Epoch 79/150\n"
     ]
    },
    {
     "name": "stderr",
     "output_type": "stream",
     "text": [
      "🚀 Training: 100%|██████████| 25/25 [00:00<00:00, 49.22it/s, loss=3.1700]\n",
      "🚀 Validation: 100%|██████████| 4/4 [00:00<00:00, 164.12it/s, loss=3.3800]\n"
     ]
    },
    {
     "name": "stdout",
     "output_type": "stream",
     "text": [
      "[Epoch 79] Train Loss: 3.1801 | Val Loss: 3.7276\n",
      "Epoch 80/150\n"
     ]
    },
    {
     "name": "stderr",
     "output_type": "stream",
     "text": [
      "🚀 Training: 100%|██████████| 25/25 [00:00<00:00, 50.49it/s, loss=3.2073]\n",
      "🚀 Validation: 100%|██████████| 4/4 [00:00<00:00, 132.03it/s, loss=3.3961]\n"
     ]
    },
    {
     "name": "stdout",
     "output_type": "stream",
     "text": [
      "[Epoch 80] Train Loss: 3.1785 | Val Loss: 3.7343\n",
      "Epoch 81/150\n"
     ]
    },
    {
     "name": "stderr",
     "output_type": "stream",
     "text": [
      "🚀 Training: 100%|██████████| 25/25 [00:00<00:00, 51.32it/s, loss=3.2822]\n",
      "🚀 Validation: 100%|██████████| 4/4 [00:00<00:00, 162.50it/s, loss=3.4044]\n"
     ]
    },
    {
     "name": "stdout",
     "output_type": "stream",
     "text": [
      "[Epoch 81] Train Loss: 3.1783 | Val Loss: 3.7383\n",
      "Epoch 82/150\n"
     ]
    },
    {
     "name": "stderr",
     "output_type": "stream",
     "text": [
      "🚀 Training: 100%|██████████| 25/25 [00:00<00:00, 50.52it/s, loss=3.1880]\n",
      "🚀 Validation: 100%|██████████| 4/4 [00:00<00:00, 146.56it/s, loss=3.3995]\n"
     ]
    },
    {
     "name": "stdout",
     "output_type": "stream",
     "text": [
      "[Epoch 82] Train Loss: 3.1688 | Val Loss: 3.7341\n",
      "Epoch 83/150\n"
     ]
    },
    {
     "name": "stderr",
     "output_type": "stream",
     "text": [
      "🚀 Training: 100%|██████████| 25/25 [00:00<00:00, 50.66it/s, loss=3.1242]\n",
      "🚀 Validation: 100%|██████████| 4/4 [00:00<00:00, 156.17it/s, loss=3.3961]\n"
     ]
    },
    {
     "name": "stdout",
     "output_type": "stream",
     "text": [
      "[Epoch 83] Train Loss: 3.1650 | Val Loss: 3.7371\n",
      "Epoch 84/150\n"
     ]
    },
    {
     "name": "stderr",
     "output_type": "stream",
     "text": [
      "🚀 Training: 100%|██████████| 25/25 [00:00<00:00, 50.87it/s, loss=3.1689]\n",
      "🚀 Validation: 100%|██████████| 4/4 [00:00<00:00, 160.34it/s, loss=3.3974]\n"
     ]
    },
    {
     "name": "stdout",
     "output_type": "stream",
     "text": [
      "[Epoch 84] Train Loss: 3.1625 | Val Loss: 3.7366\n",
      "Epoch 85/150\n"
     ]
    },
    {
     "name": "stderr",
     "output_type": "stream",
     "text": [
      "🚀 Training: 100%|██████████| 25/25 [00:00<00:00, 51.05it/s, loss=3.1893]\n",
      "🚀 Validation: 100%|██████████| 4/4 [00:00<00:00, 162.34it/s, loss=3.4023]\n"
     ]
    },
    {
     "name": "stdout",
     "output_type": "stream",
     "text": [
      "[Epoch 85] Train Loss: 3.1571 | Val Loss: 3.7376\n",
      "Epoch 86/150\n"
     ]
    },
    {
     "name": "stderr",
     "output_type": "stream",
     "text": [
      "🚀 Training: 100%|██████████| 25/25 [00:00<00:00, 51.68it/s, loss=3.0530]\n",
      "🚀 Validation: 100%|██████████| 4/4 [00:00<00:00, 135.41it/s, loss=3.4134]\n"
     ]
    },
    {
     "name": "stdout",
     "output_type": "stream",
     "text": [
      "[Epoch 86] Train Loss: 3.1511 | Val Loss: 3.7440\n",
      "Epoch 87/150\n"
     ]
    },
    {
     "name": "stderr",
     "output_type": "stream",
     "text": [
      "🚀 Training: 100%|██████████| 25/25 [00:00<00:00, 51.34it/s, loss=3.1828]\n",
      "🚀 Validation: 100%|██████████| 4/4 [00:00<00:00, 161.57it/s, loss=3.4069]\n"
     ]
    },
    {
     "name": "stdout",
     "output_type": "stream",
     "text": [
      "[Epoch 87] Train Loss: 3.1509 | Val Loss: 3.7366\n",
      "Epoch 88/150\n"
     ]
    },
    {
     "name": "stderr",
     "output_type": "stream",
     "text": [
      "🚀 Training: 100%|██████████| 25/25 [00:00<00:00, 50.18it/s, loss=3.1597]\n",
      "🚀 Validation: 100%|██████████| 4/4 [00:00<00:00, 155.75it/s, loss=3.4017]\n"
     ]
    },
    {
     "name": "stdout",
     "output_type": "stream",
     "text": [
      "[Epoch 88] Train Loss: 3.1458 | Val Loss: 3.7416\n",
      "Epoch 89/150\n"
     ]
    },
    {
     "name": "stderr",
     "output_type": "stream",
     "text": [
      "🚀 Training: 100%|██████████| 25/25 [00:00<00:00, 50.60it/s, loss=3.0905]\n",
      "🚀 Validation: 100%|██████████| 4/4 [00:00<00:00, 167.88it/s, loss=3.4079]\n"
     ]
    },
    {
     "name": "stdout",
     "output_type": "stream",
     "text": [
      "[Epoch 89] Train Loss: 3.1386 | Val Loss: 3.7479\n",
      "Epoch 90/150\n"
     ]
    },
    {
     "name": "stderr",
     "output_type": "stream",
     "text": [
      "🚀 Training: 100%|██████████| 25/25 [00:00<00:00, 51.07it/s, loss=3.1711]\n",
      "🚀 Validation: 100%|██████████| 4/4 [00:00<00:00, 161.97it/s, loss=3.4235]\n"
     ]
    },
    {
     "name": "stdout",
     "output_type": "stream",
     "text": [
      "[Epoch 90] Train Loss: 3.1426 | Val Loss: 3.7529\n",
      "Epoch 91/150\n"
     ]
    },
    {
     "name": "stderr",
     "output_type": "stream",
     "text": [
      "🚀 Training: 100%|██████████| 25/25 [00:00<00:00, 49.16it/s, loss=3.1022]\n",
      "🚀 Validation: 100%|██████████| 4/4 [00:00<00:00, 145.52it/s, loss=3.4193]\n"
     ]
    },
    {
     "name": "stdout",
     "output_type": "stream",
     "text": [
      "[Epoch 91] Train Loss: 3.1292 | Val Loss: 3.7491\n",
      "Epoch 92/150\n"
     ]
    },
    {
     "name": "stderr",
     "output_type": "stream",
     "text": [
      "🚀 Training: 100%|██████████| 25/25 [00:00<00:00, 48.23it/s, loss=3.1408]\n",
      "🚀 Validation: 100%|██████████| 4/4 [00:00<00:00, 146.97it/s, loss=3.4082]\n"
     ]
    },
    {
     "name": "stdout",
     "output_type": "stream",
     "text": [
      "[Epoch 92] Train Loss: 3.1247 | Val Loss: 3.7505\n",
      "Epoch 93/150\n"
     ]
    },
    {
     "name": "stderr",
     "output_type": "stream",
     "text": [
      "🚀 Training: 100%|██████████| 25/25 [00:00<00:00, 49.14it/s, loss=3.1119]\n",
      "🚀 Validation: 100%|██████████| 4/4 [00:00<00:00, 129.68it/s, loss=3.4083]\n"
     ]
    },
    {
     "name": "stdout",
     "output_type": "stream",
     "text": [
      "[Epoch 93] Train Loss: 3.1275 | Val Loss: 3.7506\n",
      "Epoch 94/150\n"
     ]
    },
    {
     "name": "stderr",
     "output_type": "stream",
     "text": [
      "🚀 Training: 100%|██████████| 25/25 [00:00<00:00, 50.92it/s, loss=3.1620]\n",
      "🚀 Validation: 100%|██████████| 4/4 [00:00<00:00, 172.30it/s, loss=3.4140]\n"
     ]
    },
    {
     "name": "stdout",
     "output_type": "stream",
     "text": [
      "[Epoch 94] Train Loss: 3.1191 | Val Loss: 3.7520\n",
      "Epoch 95/150\n"
     ]
    },
    {
     "name": "stderr",
     "output_type": "stream",
     "text": [
      "🚀 Training: 100%|██████████| 25/25 [00:00<00:00, 51.26it/s, loss=2.9904]\n",
      "🚀 Validation: 100%|██████████| 4/4 [00:00<00:00, 145.31it/s, loss=3.4127]\n"
     ]
    },
    {
     "name": "stdout",
     "output_type": "stream",
     "text": [
      "[Epoch 95] Train Loss: 3.1196 | Val Loss: 3.7495\n",
      "Epoch 96/150\n"
     ]
    },
    {
     "name": "stderr",
     "output_type": "stream",
     "text": [
      "🚀 Training: 100%|██████████| 25/25 [00:00<00:00, 49.97it/s, loss=3.1306]\n",
      "🚀 Validation: 100%|██████████| 4/4 [00:00<00:00, 158.86it/s, loss=3.4178]\n"
     ]
    },
    {
     "name": "stdout",
     "output_type": "stream",
     "text": [
      "[Epoch 96] Train Loss: 3.1118 | Val Loss: 3.7558\n",
      "Epoch 97/150\n"
     ]
    },
    {
     "name": "stderr",
     "output_type": "stream",
     "text": [
      "🚀 Training: 100%|██████████| 25/25 [00:00<00:00, 50.71it/s, loss=3.0854]\n",
      "🚀 Validation: 100%|██████████| 4/4 [00:00<00:00, 149.78it/s, loss=3.4206]\n"
     ]
    },
    {
     "name": "stdout",
     "output_type": "stream",
     "text": [
      "[Epoch 97] Train Loss: 3.1082 | Val Loss: 3.7564\n",
      "Epoch 98/150\n"
     ]
    },
    {
     "name": "stderr",
     "output_type": "stream",
     "text": [
      "🚀 Training: 100%|██████████| 25/25 [00:00<00:00, 51.56it/s, loss=3.2053]\n",
      "🚀 Validation: 100%|██████████| 4/4 [00:00<00:00, 169.01it/s, loss=3.4135]\n"
     ]
    },
    {
     "name": "stdout",
     "output_type": "stream",
     "text": [
      "[Epoch 98] Train Loss: 3.1076 | Val Loss: 3.7551\n",
      "Epoch 99/150\n"
     ]
    },
    {
     "name": "stderr",
     "output_type": "stream",
     "text": [
      "🚀 Training: 100%|██████████| 25/25 [00:00<00:00, 50.89it/s, loss=3.1256]\n",
      "🚀 Validation: 100%|██████████| 4/4 [00:00<00:00, 151.11it/s, loss=3.4274]\n"
     ]
    },
    {
     "name": "stdout",
     "output_type": "stream",
     "text": [
      "[Epoch 99] Train Loss: 3.1057 | Val Loss: 3.7604\n",
      "Epoch 100/150\n"
     ]
    },
    {
     "name": "stderr",
     "output_type": "stream",
     "text": [
      "🚀 Training: 100%|██████████| 25/25 [00:00<00:00, 51.50it/s, loss=3.1766]\n",
      "🚀 Validation: 100%|██████████| 4/4 [00:00<00:00, 164.45it/s, loss=3.4255]\n"
     ]
    },
    {
     "name": "stdout",
     "output_type": "stream",
     "text": [
      "[Epoch 100] Train Loss: 3.0988 | Val Loss: 3.7605\n",
      "Epoch 101/150\n"
     ]
    },
    {
     "name": "stderr",
     "output_type": "stream",
     "text": [
      "🚀 Training: 100%|██████████| 25/25 [00:00<00:00, 50.97it/s, loss=3.1165]\n",
      "🚀 Validation: 100%|██████████| 4/4 [00:00<00:00, 161.60it/s, loss=3.4400]\n"
     ]
    },
    {
     "name": "stdout",
     "output_type": "stream",
     "text": [
      "[Epoch 101] Train Loss: 3.0942 | Val Loss: 3.7586\n",
      "Epoch 102/150\n"
     ]
    },
    {
     "name": "stderr",
     "output_type": "stream",
     "text": [
      "🚀 Training: 100%|██████████| 25/25 [00:00<00:00, 51.68it/s, loss=3.1492]\n",
      "🚀 Validation: 100%|██████████| 4/4 [00:00<00:00, 167.47it/s, loss=3.4239]\n"
     ]
    },
    {
     "name": "stdout",
     "output_type": "stream",
     "text": [
      "[Epoch 102] Train Loss: 3.0918 | Val Loss: 3.7533\n",
      "Epoch 103/150\n"
     ]
    },
    {
     "name": "stderr",
     "output_type": "stream",
     "text": [
      "🚀 Training: 100%|██████████| 25/25 [00:00<00:00, 51.17it/s, loss=3.0728]\n",
      "🚀 Validation: 100%|██████████| 4/4 [00:00<00:00, 164.32it/s, loss=3.4226]\n"
     ]
    },
    {
     "name": "stdout",
     "output_type": "stream",
     "text": [
      "[Epoch 103] Train Loss: 3.0804 | Val Loss: 3.7533\n",
      "Epoch 104/150\n"
     ]
    },
    {
     "name": "stderr",
     "output_type": "stream",
     "text": [
      "🚀 Training: 100%|██████████| 25/25 [00:00<00:00, 51.98it/s, loss=3.1030]\n",
      "🚀 Validation: 100%|██████████| 4/4 [00:00<00:00, 164.81it/s, loss=3.4384]\n"
     ]
    },
    {
     "name": "stdout",
     "output_type": "stream",
     "text": [
      "[Epoch 104] Train Loss: 3.0863 | Val Loss: 3.7613\n",
      "Epoch 105/150\n"
     ]
    },
    {
     "name": "stderr",
     "output_type": "stream",
     "text": [
      "🚀 Training: 100%|██████████| 25/25 [00:00<00:00, 50.70it/s, loss=3.1214]\n",
      "🚀 Validation: 100%|██████████| 4/4 [00:00<00:00, 160.98it/s, loss=3.4334]\n"
     ]
    },
    {
     "name": "stdout",
     "output_type": "stream",
     "text": [
      "[Epoch 105] Train Loss: 3.0794 | Val Loss: 3.7634\n",
      "Epoch 106/150\n"
     ]
    },
    {
     "name": "stderr",
     "output_type": "stream",
     "text": [
      "🚀 Training: 100%|██████████| 25/25 [00:00<00:00, 51.88it/s, loss=3.0020]\n",
      "🚀 Validation: 100%|██████████| 4/4 [00:00<00:00, 161.44it/s, loss=3.4367]\n"
     ]
    },
    {
     "name": "stdout",
     "output_type": "stream",
     "text": [
      "[Epoch 106] Train Loss: 3.0781 | Val Loss: 3.7635\n",
      "Epoch 107/150\n"
     ]
    },
    {
     "name": "stderr",
     "output_type": "stream",
     "text": [
      "🚀 Training: 100%|██████████| 25/25 [00:00<00:00, 51.12it/s, loss=3.1960]\n",
      "🚀 Validation: 100%|██████████| 4/4 [00:00<00:00, 166.57it/s, loss=3.4395]\n"
     ]
    },
    {
     "name": "stdout",
     "output_type": "stream",
     "text": [
      "[Epoch 107] Train Loss: 3.0750 | Val Loss: 3.7670\n",
      "Epoch 108/150\n"
     ]
    },
    {
     "name": "stderr",
     "output_type": "stream",
     "text": [
      "🚀 Training: 100%|██████████| 25/25 [00:00<00:00, 51.56it/s, loss=3.1011]\n",
      "🚀 Validation: 100%|██████████| 4/4 [00:00<00:00, 160.92it/s, loss=3.4366]\n"
     ]
    },
    {
     "name": "stdout",
     "output_type": "stream",
     "text": [
      "[Epoch 108] Train Loss: 3.0699 | Val Loss: 3.7663\n",
      "Epoch 109/150\n"
     ]
    },
    {
     "name": "stderr",
     "output_type": "stream",
     "text": [
      "🚀 Training: 100%|██████████| 25/25 [00:00<00:00, 50.87it/s, loss=3.0529]\n",
      "🚀 Validation: 100%|██████████| 4/4 [00:00<00:00, 164.77it/s, loss=3.4360]\n"
     ]
    },
    {
     "name": "stdout",
     "output_type": "stream",
     "text": [
      "[Epoch 109] Train Loss: 3.0620 | Val Loss: 3.7667\n",
      "Epoch 110/150\n"
     ]
    },
    {
     "name": "stderr",
     "output_type": "stream",
     "text": [
      "🚀 Training: 100%|██████████| 25/25 [00:00<00:00, 51.40it/s, loss=2.9905]\n",
      "🚀 Validation: 100%|██████████| 4/4 [00:00<00:00, 170.75it/s, loss=3.4265]\n"
     ]
    },
    {
     "name": "stdout",
     "output_type": "stream",
     "text": [
      "[Epoch 110] Train Loss: 3.0704 | Val Loss: 3.7591\n",
      "Epoch 111/150\n"
     ]
    },
    {
     "name": "stderr",
     "output_type": "stream",
     "text": [
      "🚀 Training: 100%|██████████| 25/25 [00:00<00:00, 50.87it/s, loss=3.0034]\n",
      "🚀 Validation: 100%|██████████| 4/4 [00:00<00:00, 162.67it/s, loss=3.4568]\n"
     ]
    },
    {
     "name": "stdout",
     "output_type": "stream",
     "text": [
      "[Epoch 111] Train Loss: 3.0554 | Val Loss: 3.7752\n",
      "Epoch 112/150\n"
     ]
    },
    {
     "name": "stderr",
     "output_type": "stream",
     "text": [
      "🚀 Training: 100%|██████████| 25/25 [00:00<00:00, 51.69it/s, loss=3.1334]\n",
      "🚀 Validation: 100%|██████████| 4/4 [00:00<00:00, 165.52it/s, loss=3.4428]\n"
     ]
    },
    {
     "name": "stdout",
     "output_type": "stream",
     "text": [
      "[Epoch 112] Train Loss: 3.0560 | Val Loss: 3.7659\n",
      "Epoch 113/150\n"
     ]
    },
    {
     "name": "stderr",
     "output_type": "stream",
     "text": [
      "🚀 Training: 100%|██████████| 25/25 [00:00<00:00, 50.54it/s, loss=2.9992]\n",
      "🚀 Validation: 100%|██████████| 4/4 [00:00<00:00, 169.98it/s, loss=3.4569]\n"
     ]
    },
    {
     "name": "stdout",
     "output_type": "stream",
     "text": [
      "[Epoch 113] Train Loss: 3.0495 | Val Loss: 3.7745\n",
      "Epoch 114/150\n"
     ]
    },
    {
     "name": "stderr",
     "output_type": "stream",
     "text": [
      "🚀 Training: 100%|██████████| 25/25 [00:00<00:00, 51.76it/s, loss=3.0491]\n",
      "🚀 Validation: 100%|██████████| 4/4 [00:00<00:00, 163.26it/s, loss=3.4573]\n"
     ]
    },
    {
     "name": "stdout",
     "output_type": "stream",
     "text": [
      "[Epoch 114] Train Loss: 3.0573 | Val Loss: 3.7740\n",
      "Epoch 115/150\n"
     ]
    },
    {
     "name": "stderr",
     "output_type": "stream",
     "text": [
      "🚀 Training: 100%|██████████| 25/25 [00:00<00:00, 51.17it/s, loss=3.1000]\n",
      "🚀 Validation: 100%|██████████| 4/4 [00:00<00:00, 169.34it/s, loss=3.4421]\n"
     ]
    },
    {
     "name": "stdout",
     "output_type": "stream",
     "text": [
      "[Epoch 115] Train Loss: 3.0486 | Val Loss: 3.7675\n",
      "Epoch 116/150\n"
     ]
    },
    {
     "name": "stderr",
     "output_type": "stream",
     "text": [
      "🚀 Training: 100%|██████████| 25/25 [00:00<00:00, 52.12it/s, loss=3.0177]\n",
      "🚀 Validation: 100%|██████████| 4/4 [00:00<00:00, 171.22it/s, loss=3.4473]\n"
     ]
    },
    {
     "name": "stdout",
     "output_type": "stream",
     "text": [
      "[Epoch 116] Train Loss: 3.0469 | Val Loss: 3.7697\n",
      "Epoch 117/150\n"
     ]
    },
    {
     "name": "stderr",
     "output_type": "stream",
     "text": [
      "🚀 Training: 100%|██████████| 25/25 [00:00<00:00, 50.61it/s, loss=2.9792]\n",
      "🚀 Validation: 100%|██████████| 4/4 [00:00<00:00, 165.61it/s, loss=3.4546]\n"
     ]
    },
    {
     "name": "stdout",
     "output_type": "stream",
     "text": [
      "[Epoch 117] Train Loss: 3.0439 | Val Loss: 3.7790\n",
      "Epoch 118/150\n"
     ]
    },
    {
     "name": "stderr",
     "output_type": "stream",
     "text": [
      "🚀 Training: 100%|██████████| 25/25 [00:00<00:00, 51.84it/s, loss=3.1340]\n",
      "🚀 Validation: 100%|██████████| 4/4 [00:00<00:00, 142.79it/s, loss=3.4312]\n"
     ]
    },
    {
     "name": "stdout",
     "output_type": "stream",
     "text": [
      "[Epoch 118] Train Loss: 3.0357 | Val Loss: 3.7693\n",
      "Epoch 119/150\n"
     ]
    },
    {
     "name": "stderr",
     "output_type": "stream",
     "text": [
      "🚀 Training: 100%|██████████| 25/25 [00:00<00:00, 49.71it/s, loss=3.0338]\n",
      "🚀 Validation: 100%|██████████| 4/4 [00:00<00:00, 136.98it/s, loss=3.4437]\n"
     ]
    },
    {
     "name": "stdout",
     "output_type": "stream",
     "text": [
      "[Epoch 119] Train Loss: 3.0337 | Val Loss: 3.7707\n",
      "Epoch 120/150\n"
     ]
    },
    {
     "name": "stderr",
     "output_type": "stream",
     "text": [
      "🚀 Training: 100%|██████████| 25/25 [00:00<00:00, 45.40it/s, loss=3.0960]\n",
      "🚀 Validation: 100%|██████████| 4/4 [00:00<00:00, 140.42it/s, loss=3.4505]\n"
     ]
    },
    {
     "name": "stdout",
     "output_type": "stream",
     "text": [
      "[Epoch 120] Train Loss: 3.0278 | Val Loss: 3.7773\n",
      "Epoch 121/150\n"
     ]
    },
    {
     "name": "stderr",
     "output_type": "stream",
     "text": [
      "🚀 Training: 100%|██████████| 25/25 [00:00<00:00, 49.44it/s, loss=2.9527]\n",
      "🚀 Validation: 100%|██████████| 4/4 [00:00<00:00, 148.43it/s, loss=3.4597]\n"
     ]
    },
    {
     "name": "stdout",
     "output_type": "stream",
     "text": [
      "[Epoch 121] Train Loss: 3.0271 | Val Loss: 3.7798\n",
      "Epoch 122/150\n"
     ]
    },
    {
     "name": "stderr",
     "output_type": "stream",
     "text": [
      "🚀 Training: 100%|██████████| 25/25 [00:00<00:00, 49.46it/s, loss=3.0217]\n",
      "🚀 Validation: 100%|██████████| 4/4 [00:00<00:00, 155.22it/s, loss=3.4534]\n"
     ]
    },
    {
     "name": "stdout",
     "output_type": "stream",
     "text": [
      "[Epoch 122] Train Loss: 3.0203 | Val Loss: 3.7830\n",
      "Epoch 123/150\n"
     ]
    },
    {
     "name": "stderr",
     "output_type": "stream",
     "text": [
      "🚀 Training: 100%|██████████| 25/25 [00:00<00:00, 49.75it/s, loss=3.1495]\n",
      "🚀 Validation: 100%|██████████| 4/4 [00:00<00:00, 143.03it/s, loss=3.4646]\n"
     ]
    },
    {
     "name": "stdout",
     "output_type": "stream",
     "text": [
      "[Epoch 123] Train Loss: 3.0193 | Val Loss: 3.7865\n",
      "Epoch 124/150\n"
     ]
    },
    {
     "name": "stderr",
     "output_type": "stream",
     "text": [
      "🚀 Training: 100%|██████████| 25/25 [00:00<00:00, 49.36it/s, loss=3.0384]\n",
      "🚀 Validation: 100%|██████████| 4/4 [00:00<00:00, 158.60it/s, loss=3.4606]\n"
     ]
    },
    {
     "name": "stdout",
     "output_type": "stream",
     "text": [
      "[Epoch 124] Train Loss: 3.0234 | Val Loss: 3.7817\n",
      "Epoch 125/150\n"
     ]
    },
    {
     "name": "stderr",
     "output_type": "stream",
     "text": [
      "🚀 Training: 100%|██████████| 25/25 [00:00<00:00, 49.44it/s, loss=2.9263]\n",
      "🚀 Validation: 100%|██████████| 4/4 [00:00<00:00, 149.79it/s, loss=3.4418]\n"
     ]
    },
    {
     "name": "stdout",
     "output_type": "stream",
     "text": [
      "[Epoch 125] Train Loss: 3.0148 | Val Loss: 3.7790\n",
      "Epoch 126/150\n"
     ]
    },
    {
     "name": "stderr",
     "output_type": "stream",
     "text": [
      "🚀 Training: 100%|██████████| 25/25 [00:00<00:00, 50.17it/s, loss=3.0671]\n",
      "🚀 Validation: 100%|██████████| 4/4 [00:00<00:00, 156.88it/s, loss=3.4527]\n"
     ]
    },
    {
     "name": "stdout",
     "output_type": "stream",
     "text": [
      "[Epoch 126] Train Loss: 3.0165 | Val Loss: 3.7824\n",
      "Epoch 127/150\n"
     ]
    },
    {
     "name": "stderr",
     "output_type": "stream",
     "text": [
      "🚀 Training: 100%|██████████| 25/25 [00:00<00:00, 49.28it/s, loss=2.9108]\n",
      "🚀 Validation: 100%|██████████| 4/4 [00:00<00:00, 155.93it/s, loss=3.4551]\n"
     ]
    },
    {
     "name": "stdout",
     "output_type": "stream",
     "text": [
      "[Epoch 127] Train Loss: 3.0065 | Val Loss: 3.7855\n",
      "Epoch 128/150\n"
     ]
    },
    {
     "name": "stderr",
     "output_type": "stream",
     "text": [
      "🚀 Training: 100%|██████████| 25/25 [00:00<00:00, 49.53it/s, loss=3.0527]\n",
      "🚀 Validation: 100%|██████████| 4/4 [00:00<00:00, 133.06it/s, loss=3.4567]\n"
     ]
    },
    {
     "name": "stdout",
     "output_type": "stream",
     "text": [
      "[Epoch 128] Train Loss: 3.0062 | Val Loss: 3.7837\n",
      "Epoch 129/150\n"
     ]
    },
    {
     "name": "stderr",
     "output_type": "stream",
     "text": [
      "🚀 Training: 100%|██████████| 25/25 [00:00<00:00, 48.19it/s, loss=2.9982]\n",
      "🚀 Validation: 100%|██████████| 4/4 [00:00<00:00, 151.25it/s, loss=3.4681]\n"
     ]
    },
    {
     "name": "stdout",
     "output_type": "stream",
     "text": [
      "[Epoch 129] Train Loss: 2.9988 | Val Loss: 3.7927\n",
      "Epoch 130/150\n"
     ]
    },
    {
     "name": "stderr",
     "output_type": "stream",
     "text": [
      "🚀 Training: 100%|██████████| 25/25 [00:00<00:00, 49.74it/s, loss=3.0421]\n",
      "🚀 Validation: 100%|██████████| 4/4 [00:00<00:00, 138.75it/s, loss=3.4650]\n"
     ]
    },
    {
     "name": "stdout",
     "output_type": "stream",
     "text": [
      "[Epoch 130] Train Loss: 3.0000 | Val Loss: 3.7896\n",
      "Epoch 131/150\n"
     ]
    },
    {
     "name": "stderr",
     "output_type": "stream",
     "text": [
      "🚀 Training: 100%|██████████| 25/25 [00:00<00:00, 48.88it/s, loss=2.9793]\n",
      "🚀 Validation: 100%|██████████| 4/4 [00:00<00:00, 157.70it/s, loss=3.4611]\n"
     ]
    },
    {
     "name": "stdout",
     "output_type": "stream",
     "text": [
      "[Epoch 131] Train Loss: 3.0024 | Val Loss: 3.7894\n",
      "Epoch 132/150\n"
     ]
    },
    {
     "name": "stderr",
     "output_type": "stream",
     "text": [
      "🚀 Training: 100%|██████████| 25/25 [00:00<00:00, 49.24it/s, loss=3.0369]\n",
      "🚀 Validation: 100%|██████████| 4/4 [00:00<00:00, 147.55it/s, loss=3.4643]\n"
     ]
    },
    {
     "name": "stdout",
     "output_type": "stream",
     "text": [
      "[Epoch 132] Train Loss: 2.9943 | Val Loss: 3.7887\n",
      "Epoch 133/150\n"
     ]
    },
    {
     "name": "stderr",
     "output_type": "stream",
     "text": [
      "🚀 Training: 100%|██████████| 25/25 [00:00<00:00, 49.69it/s, loss=3.0166]\n",
      "🚀 Validation: 100%|██████████| 4/4 [00:00<00:00, 138.15it/s, loss=3.4695]\n"
     ]
    },
    {
     "name": "stdout",
     "output_type": "stream",
     "text": [
      "[Epoch 133] Train Loss: 2.9872 | Val Loss: 3.7910\n",
      "Epoch 134/150\n"
     ]
    },
    {
     "name": "stderr",
     "output_type": "stream",
     "text": [
      "🚀 Training: 100%|██████████| 25/25 [00:00<00:00, 48.85it/s, loss=3.0724]\n",
      "🚀 Validation: 100%|██████████| 4/4 [00:00<00:00, 150.90it/s, loss=3.4536]\n"
     ]
    },
    {
     "name": "stdout",
     "output_type": "stream",
     "text": [
      "[Epoch 134] Train Loss: 2.9919 | Val Loss: 3.7896\n",
      "Epoch 135/150\n"
     ]
    },
    {
     "name": "stderr",
     "output_type": "stream",
     "text": [
      "🚀 Training: 100%|██████████| 25/25 [00:00<00:00, 49.90it/s, loss=2.9268]\n",
      "🚀 Validation: 100%|██████████| 4/4 [00:00<00:00, 139.41it/s, loss=3.4632]\n"
     ]
    },
    {
     "name": "stdout",
     "output_type": "stream",
     "text": [
      "[Epoch 135] Train Loss: 2.9848 | Val Loss: 3.7884\n",
      "Epoch 136/150\n"
     ]
    },
    {
     "name": "stderr",
     "output_type": "stream",
     "text": [
      "🚀 Training: 100%|██████████| 25/25 [00:00<00:00, 49.32it/s, loss=2.9859]\n",
      "🚀 Validation: 100%|██████████| 4/4 [00:00<00:00, 155.34it/s, loss=3.4704]\n"
     ]
    },
    {
     "name": "stdout",
     "output_type": "stream",
     "text": [
      "[Epoch 136] Train Loss: 2.9812 | Val Loss: 3.7876\n",
      "Epoch 137/150\n"
     ]
    },
    {
     "name": "stderr",
     "output_type": "stream",
     "text": [
      "🚀 Training: 100%|██████████| 25/25 [00:00<00:00, 49.47it/s, loss=3.0245]\n",
      "🚀 Validation: 100%|██████████| 4/4 [00:00<00:00, 146.70it/s, loss=3.4754]\n"
     ]
    },
    {
     "name": "stdout",
     "output_type": "stream",
     "text": [
      "[Epoch 137] Train Loss: 2.9803 | Val Loss: 3.7949\n",
      "Epoch 138/150\n"
     ]
    },
    {
     "name": "stderr",
     "output_type": "stream",
     "text": [
      "🚀 Training: 100%|██████████| 25/25 [00:00<00:00, 49.41it/s, loss=3.0270]\n",
      "🚀 Validation: 100%|██████████| 4/4 [00:00<00:00, 153.94it/s, loss=3.4740]\n"
     ]
    },
    {
     "name": "stdout",
     "output_type": "stream",
     "text": [
      "[Epoch 138] Train Loss: 2.9725 | Val Loss: 3.7914\n",
      "Epoch 139/150\n"
     ]
    },
    {
     "name": "stderr",
     "output_type": "stream",
     "text": [
      "🚀 Training: 100%|██████████| 25/25 [00:00<00:00, 49.54it/s, loss=2.9541]\n",
      "🚀 Validation: 100%|██████████| 4/4 [00:00<00:00, 140.20it/s, loss=3.4645]\n"
     ]
    },
    {
     "name": "stdout",
     "output_type": "stream",
     "text": [
      "[Epoch 139] Train Loss: 2.9800 | Val Loss: 3.7913\n",
      "Epoch 140/150\n"
     ]
    },
    {
     "name": "stderr",
     "output_type": "stream",
     "text": [
      "🚀 Training: 100%|██████████| 25/25 [00:00<00:00, 49.63it/s, loss=2.9591]\n",
      "🚀 Validation: 100%|██████████| 4/4 [00:00<00:00, 148.20it/s, loss=3.4609]\n"
     ]
    },
    {
     "name": "stdout",
     "output_type": "stream",
     "text": [
      "[Epoch 140] Train Loss: 2.9716 | Val Loss: 3.7912\n",
      "Epoch 141/150\n"
     ]
    },
    {
     "name": "stderr",
     "output_type": "stream",
     "text": [
      "🚀 Training: 100%|██████████| 25/25 [00:00<00:00, 48.96it/s, loss=3.0102]\n",
      "🚀 Validation: 100%|██████████| 4/4 [00:00<00:00, 152.01it/s, loss=3.4612]\n"
     ]
    },
    {
     "name": "stdout",
     "output_type": "stream",
     "text": [
      "[Epoch 141] Train Loss: 2.9676 | Val Loss: 3.7894\n",
      "Epoch 142/150\n"
     ]
    },
    {
     "name": "stderr",
     "output_type": "stream",
     "text": [
      "🚀 Training: 100%|██████████| 25/25 [00:00<00:00, 48.72it/s, loss=3.0545]\n",
      "🚀 Validation: 100%|██████████| 4/4 [00:00<00:00, 136.05it/s, loss=3.4827]\n"
     ]
    },
    {
     "name": "stdout",
     "output_type": "stream",
     "text": [
      "[Epoch 142] Train Loss: 2.9660 | Val Loss: 3.7985\n",
      "Epoch 143/150\n"
     ]
    },
    {
     "name": "stderr",
     "output_type": "stream",
     "text": [
      "🚀 Training: 100%|██████████| 25/25 [00:00<00:00, 49.07it/s, loss=2.9763]\n",
      "🚀 Validation: 100%|██████████| 4/4 [00:00<00:00, 142.51it/s, loss=3.4797]\n"
     ]
    },
    {
     "name": "stdout",
     "output_type": "stream",
     "text": [
      "[Epoch 143] Train Loss: 2.9621 | Val Loss: 3.7974\n",
      "Epoch 144/150\n"
     ]
    },
    {
     "name": "stderr",
     "output_type": "stream",
     "text": [
      "🚀 Training: 100%|██████████| 25/25 [00:00<00:00, 48.36it/s, loss=3.0177]\n",
      "🚀 Validation: 100%|██████████| 4/4 [00:00<00:00, 145.10it/s, loss=3.4762]\n"
     ]
    },
    {
     "name": "stdout",
     "output_type": "stream",
     "text": [
      "[Epoch 144] Train Loss: 2.9568 | Val Loss: 3.7965\n",
      "Epoch 145/150\n"
     ]
    },
    {
     "name": "stderr",
     "output_type": "stream",
     "text": [
      "🚀 Training: 100%|██████████| 25/25 [00:00<00:00, 49.03it/s, loss=3.0045]\n",
      "🚀 Validation: 100%|██████████| 4/4 [00:00<00:00, 158.87it/s, loss=3.4920]\n"
     ]
    },
    {
     "name": "stdout",
     "output_type": "stream",
     "text": [
      "[Epoch 145] Train Loss: 2.9566 | Val Loss: 3.8061\n",
      "Epoch 146/150\n"
     ]
    },
    {
     "name": "stderr",
     "output_type": "stream",
     "text": [
      "🚀 Training: 100%|██████████| 25/25 [00:00<00:00, 48.88it/s, loss=2.9859]\n",
      "🚀 Validation: 100%|██████████| 4/4 [00:00<00:00, 155.42it/s, loss=3.4800]\n"
     ]
    },
    {
     "name": "stdout",
     "output_type": "stream",
     "text": [
      "[Epoch 146] Train Loss: 2.9590 | Val Loss: 3.7985\n",
      "Epoch 147/150\n"
     ]
    },
    {
     "name": "stderr",
     "output_type": "stream",
     "text": [
      "🚀 Training: 100%|██████████| 25/25 [00:00<00:00, 49.38it/s, loss=2.9081]\n",
      "🚀 Validation: 100%|██████████| 4/4 [00:00<00:00, 133.01it/s, loss=3.4688]\n"
     ]
    },
    {
     "name": "stdout",
     "output_type": "stream",
     "text": [
      "[Epoch 147] Train Loss: 2.9551 | Val Loss: 3.7952\n",
      "Epoch 148/150\n"
     ]
    },
    {
     "name": "stderr",
     "output_type": "stream",
     "text": [
      "🚀 Training: 100%|██████████| 25/25 [00:00<00:00, 49.40it/s, loss=3.1190]\n",
      "🚀 Validation: 100%|██████████| 4/4 [00:00<00:00, 149.80it/s, loss=3.4909]\n"
     ]
    },
    {
     "name": "stdout",
     "output_type": "stream",
     "text": [
      "[Epoch 148] Train Loss: 2.9526 | Val Loss: 3.8024\n",
      "Epoch 149/150\n"
     ]
    },
    {
     "name": "stderr",
     "output_type": "stream",
     "text": [
      "🚀 Training: 100%|██████████| 25/25 [00:00<00:00, 49.20it/s, loss=2.9197]\n",
      "🚀 Validation: 100%|██████████| 4/4 [00:00<00:00, 149.55it/s, loss=3.4795]\n"
     ]
    },
    {
     "name": "stdout",
     "output_type": "stream",
     "text": [
      "[Epoch 149] Train Loss: 2.9465 | Val Loss: 3.8033\n",
      "Epoch 150/150\n"
     ]
    },
    {
     "name": "stderr",
     "output_type": "stream",
     "text": [
      "🚀 Training: 100%|██████████| 25/25 [00:00<00:00, 49.55it/s, loss=2.9471]\n",
      "🚀 Validation: 100%|██████████| 4/4 [00:00<00:00, 154.26it/s, loss=3.4875]\n"
     ]
    },
    {
     "name": "stdout",
     "output_type": "stream",
     "text": [
      "[Epoch 150] Train Loss: 2.9487 | Val Loss: 3.8052\n",
      "Loss plot saved to saved/loss_sp.png\n"
     ]
    }
   ],
   "source": [
    "import os\n",
    "import torch\n",
    "from tqdm import tqdm\n",
    "os.makedirs(SAVE_DIR, exist_ok=True)\n",
    "best_val_loss = float(\"inf\") \n",
    "best_model_path = None\n",
    "atl = {}\n",
    "avl = {}\n",
    "for epoch in range(1, EPOCHS + 1):\n",
    "    print(f\"Epoch {epoch}/{EPOCHS}\")\n",
    "    model.train()\n",
    "    total_train_loss = 0.0\n",
    "    train_bar = tqdm(train_loader, desc=\"🚀 Training\", \n",
    "                leave=True, total=len(train_loader))\n",
    "    for batch in train_bar:\n",
    "        optimizer.zero_grad()\n",
    "        src_batch = batch['src'].to(device)\n",
    "        tgt_batch = batch['tgt'].to(device)\n",
    "        \n",
    "        output, _ = model(src_batch, tgt_batch[:, :-1]) \n",
    "        output_dim = output.shape[-1]\n",
    "        output = output.reshape(-1, output_dim)\n",
    "        tgt_y = tgt_batch[:,1:].contiguous().view(-1)\n",
    "        loss = criterion(output, tgt_y)\n",
    "        loss.backward()\n",
    "        optimizer.step()\n",
    "        total_train_loss += loss.item()\n",
    "        train_bar.set_postfix(loss=f\"{loss.item():.4f}\")\n",
    "\n",
    "    avg_train_loss = total_train_loss / len(train_loader)\n",
    "    atl[epoch]=avg_train_loss\n",
    "    model.eval()\n",
    "    total_val_loss = 0.0\n",
    "    val_bar = tqdm(val_loader, desc=\"🚀 Validation\",\n",
    "              leave=True, total=len(val_loader))\n",
    "    with torch.no_grad():\n",
    "        for batch in val_bar:\n",
    "            src_batch = batch['src'].to(device)\n",
    "            tgt_batch = batch['tgt'].to(device)\n",
    "            \n",
    "            output, _ = model(src_batch, tgt_batch[:, :-1]) \n",
    "            output_dim = output.shape[-1]\n",
    "            output = output.reshape(-1, output_dim)\n",
    "            tgt_y = tgt_batch[:,1:].contiguous().view(-1)\n",
    "\n",
    "            loss = criterion(output, tgt_y)\n",
    "            total_val_loss += loss.item()\n",
    "            val_bar.set_postfix(loss=f\"{loss.item():.4f}\")\n",
    "    \n",
    "    avg_val_loss = total_val_loss / len(val_loader)\n",
    "    avl[epoch]=avg_val_loss\n",
    "    print(f\"[Epoch {epoch}] Train Loss: {avg_train_loss:.4f} | Val Loss: {avg_val_loss:.4f}\")\n",
    "    if avg_val_loss < best_val_loss:\n",
    "        if best_model_path and os.path.exists(best_model_path):\n",
    "            os.remove(best_model_path)\n",
    "        best_val_loss = avg_val_loss\n",
    "        best_model_path = os.path.join(SAVE_DIR, \"best_sp.pt\")\n",
    "        torch.save(model.state_dict(), best_model_path)\n",
    "        print(f\"  -> New best model saved at {best_model_path}\")\n",
    "\n",
    "utils.plot_loss(atl, avl, SAVE_DIR,\"loss_sp\")\n"
   ]
  },
  {
   "cell_type": "code",
   "execution_count": null,
   "metadata": {},
   "outputs": [],
   "source": []
  }
 ],
 "metadata": {
  "kernelspec": {
   "display_name": "torch_env",
   "language": "python",
   "name": "python3"
  },
  "language_info": {
   "codemirror_mode": {
    "name": "ipython",
    "version": 3
   },
   "file_extension": ".py",
   "mimetype": "text/x-python",
   "name": "python",
   "nbconvert_exporter": "python",
   "pygments_lexer": "ipython3",
   "version": "3.10.16"
  }
 },
 "nbformat": 4,
 "nbformat_minor": 2
}

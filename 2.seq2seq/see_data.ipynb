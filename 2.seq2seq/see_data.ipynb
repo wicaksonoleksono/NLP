{
 "cells": [
  {
   "cell_type": "code",
   "execution_count": 3,
   "metadata": {},
   "outputs": [],
   "source": [
    "import pandas as pd"
   ]
  },
  {
   "cell_type": "code",
   "execution_count": 5,
   "metadata": {},
   "outputs": [],
   "source": [
    "t=pd.read_csv(\"dataset/eng_min/train.csv\")"
   ]
  },
  {
   "cell_type": "code",
   "execution_count": 7,
   "metadata": {},
   "outputs": [
    {
     "data": {
      "text/html": [
       "<div>\n",
       "<style scoped>\n",
       "    .dataframe tbody tr th:only-of-type {\n",
       "        vertical-align: middle;\n",
       "    }\n",
       "\n",
       "    .dataframe tbody tr th {\n",
       "        vertical-align: top;\n",
       "    }\n",
       "\n",
       "    .dataframe thead th {\n",
       "        text-align: right;\n",
       "    }\n",
       "</style>\n",
       "<table border=\"1\" class=\"dataframe\">\n",
       "  <thead>\n",
       "    <tr style=\"text-align: right;\">\n",
       "      <th></th>\n",
       "      <th>id</th>\n",
       "      <th>eng</th>\n",
       "      <th>min</th>\n",
       "    </tr>\n",
       "  </thead>\n",
       "  <tbody>\n",
       "    <tr>\n",
       "      <th>0</th>\n",
       "      <td>25500</td>\n",
       "      <td>Enjoy 0% instalment for up to 12 months when o...</td>\n",
       "      <td>Nikmati cicilan 0% sampai 12 bulan untuak pama...</td>\n",
       "    </tr>\n",
       "    <tr>\n",
       "      <th>1</th>\n",
       "      <td>25501</td>\n",
       "      <td>The cakes give me massive nostalgia. Everythin...</td>\n",
       "      <td>Kue-kue nan disajian mambuek awak takana masa ...</td>\n",
       "    </tr>\n",
       "    <tr>\n",
       "      <th>2</th>\n",
       "      <td>25502</td>\n",
       "      <td>Mom once worked for grab indonesia.</td>\n",
       "      <td>Ibu pernah bakarajo di grab indonesia</td>\n",
       "    </tr>\n",
       "    <tr>\n",
       "      <th>3</th>\n",
       "      <td>25503</td>\n",
       "      <td>I love having lunch here the most, thanks to t...</td>\n",
       "      <td>Paliang suko bana makan siang di siko ayam jo ...</td>\n",
       "    </tr>\n",
       "    <tr>\n",
       "      <th>4</th>\n",
       "      <td>25504</td>\n",
       "      <td>The DAMRI Bus service is really good</td>\n",
       "      <td>Palayanan bus DAMRI sangaik elok</td>\n",
       "    </tr>\n",
       "  </tbody>\n",
       "</table>\n",
       "</div>"
      ],
      "text/plain": [
       "      id                                                eng  \\\n",
       "0  25500  Enjoy 0% instalment for up to 12 months when o...   \n",
       "1  25501  The cakes give me massive nostalgia. Everythin...   \n",
       "2  25502                Mom once worked for grab indonesia.   \n",
       "3  25503  I love having lunch here the most, thanks to t...   \n",
       "4  25504               The DAMRI Bus service is really good   \n",
       "\n",
       "                                                 min  \n",
       "0  Nikmati cicilan 0% sampai 12 bulan untuak pama...  \n",
       "1  Kue-kue nan disajian mambuek awak takana masa ...  \n",
       "2              Ibu pernah bakarajo di grab indonesia  \n",
       "3  Paliang suko bana makan siang di siko ayam jo ...  \n",
       "4                   Palayanan bus DAMRI sangaik elok  "
      ]
     },
     "execution_count": 7,
     "metadata": {},
     "output_type": "execute_result"
    }
   ],
   "source": [
    "t.head()"
   ]
  },
  {
   "cell_type": "code",
   "execution_count": null,
   "metadata": {},
   "outputs": [],
   "source": []
  }
 ],
 "metadata": {
  "kernelspec": {
   "display_name": "torch_env",
   "language": "python",
   "name": "python3"
  },
  "language_info": {
   "codemirror_mode": {
    "name": "ipython",
    "version": 3
   },
   "file_extension": ".py",
   "mimetype": "text/x-python",
   "name": "python",
   "nbconvert_exporter": "python",
   "pygments_lexer": "ipython3",
   "version": "3.10.16"
  }
 },
 "nbformat": 4,
 "nbformat_minor": 2
}

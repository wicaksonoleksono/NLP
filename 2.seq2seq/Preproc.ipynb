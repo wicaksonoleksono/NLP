{
 "cells": [
  {
   "cell_type": "code",
   "execution_count": null,
   "metadata": {},
   "outputs": [
    {
     "name": "stderr",
     "output_type": "stream",
     "text": [
      "/home/wicaksonolxn/miniconda3/envs/torch_env/lib/python3.10/site-packages/torchtext/vocab/__init__.py:4: UserWarning: \n",
      "/!\\ IMPORTANT WARNING ABOUT TORCHTEXT STATUS /!\\ \n",
      "Torchtext is deprecated and the last released version will be 0.18 (this one). You can silence this warning by calling the following at the beginnign of your scripts: `import torchtext; torchtext.disable_torchtext_deprecation_warning()`\n",
      "  warnings.warn(torchtext._TORCHTEXT_DEPRECATION_MSG)\n",
      "/home/wicaksonolxn/miniconda3/envs/torch_env/lib/python3.10/site-packages/torchtext/utils.py:4: UserWarning: \n",
      "/!\\ IMPORTANT WARNING ABOUT TORCHTEXT STATUS /!\\ \n",
      "Torchtext is deprecated and the last released version will be 0.18 (this one). You can silence this warning by calling the following at the beginnign of your scripts: `import torchtext; torchtext.disable_torchtext_deprecation_warning()`\n",
      "  warnings.warn(torchtext._TORCHTEXT_DEPRECATION_MSG)\n"
     ]
    },
    {
     "name": "stdout",
     "output_type": "stream",
     "text": [
      "[INFO] Preprocessed data saved to dataset/eng_min/preprocessed_data.pkl\n"
     ]
    }
   ],
   "source": [
    "from datasets import load_dataset\n",
    "from preprocessing import Aggregate,Tokenize\n",
    "import os\n",
    "dataset = load_dataset(\"indonlp/NusaX-MT\")\n",
    "pth = \"dataset\"\n",
    "l_1=\"min\"\n",
    "l_2=\"eng\"\n",
    "pth_t = os.path.join(pth, f\"{l_1}_{l_2}\")\n",
    "agg = Aggregate(pth,dataset)\n",
    "saved_folder = agg(l_1,l_2)\n",
    "t = Tokenize(path=\"dataset\", src_lang=l_1, tgt_lang=l_2)\n",
    "t.build_vocab()\n",
    "t.save_vocab()\n",
    "t.preprocess_and_save(\"preprocessed_data.pkl\")"
   ]
  }
 ],
 "metadata": {
  "kernelspec": {
   "display_name": "torch_env",
   "language": "python",
   "name": "python3"
  },
  "language_info": {
   "codemirror_mode": {
    "name": "ipython",
    "version": 3
   },
   "file_extension": ".py",
   "mimetype": "text/x-python",
   "name": "python",
   "nbconvert_exporter": "python",
   "pygments_lexer": "ipython3",
   "version": "3.10.16"
  }
 },
 "nbformat": 4,
 "nbformat_minor": 2
}

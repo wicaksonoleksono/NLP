{
 "cells": [
  {
   "cell_type": "code",
   "execution_count": 1,
   "metadata": {},
   "outputs": [],
   "source": [
    "from datasets import load_dataset\n",
    "from preprocessing import Aggregate,Tokenize\n",
    "import os\n",
    "dataset = load_dataset(\"indonlp/NusaX-MT\")"
   ]
  },
  {
   "cell_type": "code",
   "execution_count": null,
   "metadata": {},
   "outputs": [
    {
     "name": "stderr",
     "output_type": "stream",
     "text": [
      "You are using the default legacy behaviour of the <class 'transformers.models.t5.tokenization_t5.T5Tokenizer'>. This is expected, and simply means that the `legacy` (previous) behavior will be used so nothing changes for you. If you want to use the new behaviour, set `legacy=False`. This should only be set if you understand what it means, and thoroughly read the reason why this was added as explained in https://github.com/huggingface/transformers/pull/24565\n"
     ]
    },
    {
     "name": "stdout",
     "output_type": "stream",
     "text": [
      "Tokenizing 'train' split with 1000 examples...\n"
     ]
    },
    {
     "name": "stderr",
     "output_type": "stream",
     "text": [
      "/home/wicaksonolxn/miniconda3/envs/torch_env/lib/python3.10/site-packages/transformers/tokenization_utils_base.py:3953: UserWarning: `as_target_tokenizer` is deprecated and will be removed in v5 of Transformers. You can tokenize your labels by using the argument `text_target` of the regular `__call__` method (either in the same call as your input texts if you use the same keyword arguments, or in a separate call.\n",
      "  warnings.warn(\n"
     ]
    },
    {
     "name": "stdout",
     "output_type": "stream",
     "text": [
      "  -> 1000 examples tokenized.\n",
      "Tokenizing 'validation' split with 200 examples...\n",
      "  -> 200 examples tokenized.\n",
      "Tokenizing 'test' split with 800 examples...\n",
      "  -> 800 examples tokenized.\n",
      "Tokenized dataset saved to: dataset/eng_min/tokenized.pkl\n"
     ]
    }
   ],
   "source": [
    "pth = \"dataset\"\n",
    "l_1=\"eng\"\n",
    "l_2=\"min\"\n",
    "pth_t = os.path.join(pth, f\"{l_1}_{l_2}\")\n",
    "agg = Aggregate(pth,dataset,l_1,l_2)\n",
    "saved_folder = agg()\n",
    "s  = Tokenize(pth_t,l_1,l_2)\n",
    "s.process_and_save(\"tokenized.pkl\")"
   ]
  }
 ],
 "metadata": {
  "kernelspec": {
   "display_name": "torch_env",
   "language": "python",
   "name": "python3"
  },
  "language_info": {
   "codemirror_mode": {
    "name": "ipython",
    "version": 3
   },
   "file_extension": ".py",
   "mimetype": "text/x-python",
   "name": "python",
   "nbconvert_exporter": "python",
   "pygments_lexer": "ipython3",
   "version": "3.10.16"
  }
 },
 "nbformat": 4,
 "nbformat_minor": 2
}

{
 "cells": [
  {
   "cell_type": "code",
   "execution_count": 34,
   "metadata": {},
   "outputs": [],
   "source": [
    "from util import api_hook as ap\n",
    "import nest_asyncio\n",
    "nest_asyncio.apply()  # Allo\n",
    "api_key=\"362de69bbf9e42f7b9e41b6563dee0a2\"\n",
    "api=\"https://newsapi.org/v2/everything?q=tesla&from=2025-02-09&sortBy=publishedAt&apiKey=\""
   ]
  },
  {
   "cell_type": "code",
   "execution_count": 35,
   "metadata": {},
   "outputs": [
    {
     "name": "stdout",
     "output_type": "stream",
     "text": [
      "HTTP error occurred: 426, message='Upgrade Required', url='https://newsapi.org/v2/everything?q=tesla&from=2025-02-09&sortBy=publishedAt&apiKey=362de69bbf9e42f7b9e41b6563dee0a2'\n",
      "Failed to fetch data.\n"
     ]
    }
   ],
   "source": [
    "fetch =ap(output_path=\"fetched_data.json\")\n",
    "fetch.run(f\"{api}{api_key}\")"
   ]
  },
  {
   "cell_type": "markdown",
   "metadata": {},
   "source": [
    "# WORD"
   ]
  },
  {
   "cell_type": "code",
   "execution_count": 36,
   "metadata": {},
   "outputs": [
    {
     "data": {
      "text/html": [
       "<div>\n",
       "<style scoped>\n",
       "    .dataframe tbody tr th:only-of-type {\n",
       "        vertical-align: middle;\n",
       "    }\n",
       "\n",
       "    .dataframe tbody tr th {\n",
       "        vertical-align: top;\n",
       "    }\n",
       "\n",
       "    .dataframe thead th {\n",
       "        text-align: right;\n",
       "    }\n",
       "</style>\n",
       "<table border=\"1\" class=\"dataframe\">\n",
       "  <thead>\n",
       "    <tr style=\"text-align: right;\">\n",
       "      <th></th>\n",
       "      <th>author</th>\n",
       "      <th>title</th>\n",
       "      <th>description</th>\n",
       "      <th>url</th>\n",
       "      <th>urlToImage</th>\n",
       "      <th>publishedAt</th>\n",
       "      <th>content</th>\n",
       "      <th>source.id</th>\n",
       "      <th>source.name</th>\n",
       "    </tr>\n",
       "  </thead>\n",
       "  <tbody>\n",
       "    <tr>\n",
       "      <th>0</th>\n",
       "      <td>Frode Wikesjö</td>\n",
       "      <td>Årets STCC-säsong läggs på is</td>\n",
       "      <td>Siktar på comeback 2026\\n\\n\\n\\n\\n\\n\\nDen klass...</td>\n",
       "      <td>https://feber.se/samhalle/arets-stcc-sasong-la...</td>\n",
       "      <td>https://static.feber.se/article_images/61/28/5...</td>\n",
       "      <td>2025-03-08T08:00:00Z</td>\n",
       "      <td>4 idag\\r\\nVälkommen till Feber\\r\\nSkaffa Feber...</td>\n",
       "      <td>None</td>\n",
       "      <td>Feber.se</td>\n",
       "    </tr>\n",
       "  </tbody>\n",
       "</table>\n",
       "</div>"
      ],
      "text/plain": [
       "          author                          title  \\\n",
       "0  Frode Wikesjö  Årets STCC-säsong läggs på is   \n",
       "\n",
       "                                         description  \\\n",
       "0  Siktar på comeback 2026\\n\\n\\n\\n\\n\\n\\nDen klass...   \n",
       "\n",
       "                                                 url  \\\n",
       "0  https://feber.se/samhalle/arets-stcc-sasong-la...   \n",
       "\n",
       "                                          urlToImage           publishedAt  \\\n",
       "0  https://static.feber.se/article_images/61/28/5...  2025-03-08T08:00:00Z   \n",
       "\n",
       "                                             content source.id source.name  \n",
       "0  4 idag\\r\\nVälkommen till Feber\\r\\nSkaffa Feber...      None    Feber.se  "
      ]
     },
     "execution_count": 36,
     "metadata": {},
     "output_type": "execute_result"
    }
   ],
   "source": [
    "import json\n",
    "import pandas as pd\n",
    "from model import SkipGramModel\n",
    "from util import createPairs\n",
    "import nltk\n",
    "import numpy as np\n",
    "from tqdm import tqdm\n",
    "import pickle\n",
    "from sklearn.metrics.pairwise import cosine_similarity\n",
    "import matplotlib.pyplot as plt\n",
    "from sklearn.manifold import TSNE\n",
    "import matplotlib.pyplot as plt\n",
    "import random\n",
    "with open(\"fetched_data.json\", \"r\") as file:\n",
    "    json_data = json.load(file)\n",
    "df = pd.json_normalize(json_data['articles'])\n",
    "df.head(1)"
   ]
  },
  {
   "cell_type": "code",
   "execution_count": 37,
   "metadata": {},
   "outputs": [],
   "source": [
    "df.drop(labels=['urlToImage','publishedAt','source.id','source.name','url','author'],axis=1,inplace=True)"
   ]
  },
  {
   "cell_type": "code",
   "execution_count": 38,
   "metadata": {},
   "outputs": [],
   "source": [
    "pairs =  createPairs(df,drop=True)\n",
    "vocab,word_pairs = pairs.get_vocab_and_pairs(column='title')"
   ]
  },
  {
   "cell_type": "code",
   "execution_count": 39,
   "metadata": {},
   "outputs": [
    {
     "data": {
      "text/plain": [
       "([('rep', 'gilbert'),\n",
       "  ('gilbert', 'rep'),\n",
       "  ('gilbert', 'ray'),\n",
       "  ('ray', 'gilbert'),\n",
       "  ('ray', 'cisneros'),\n",
       "  ('cisneros', 'ray'),\n",
       "  ('cisneros', 'jr'),\n",
       "  ('jr', 'cisneros'),\n",
       "  ('jr', 'purchases'),\n",
       "  ('purchases', 'jr'),\n",
       "  ('purchases', 'shares'),\n",
       "  ('shares', 'purchases'),\n",
       "  ('shares', 'tesla'),\n",
       "  ('tesla', 'shares'),\n",
       "  ('tesla', 'inc'),\n",
       "  ('inc', 'tesla'),\n",
       "  ('inc', 'nasdaqtsla'),\n",
       "  ('nasdaqtsla', 'inc'),\n",
       "  ('best', 'energy'),\n",
       "  ('energy', 'best'),\n",
       "  ('energy', 'stocks'),\n",
       "  ('stocks', 'energy'),\n",
       "  ('stocks', 'watch'),\n",
       "  ('watch', 'stocks'),\n",
       "  ('watch', 'today'),\n",
       "  ('today', 'watch'),\n",
       "  ('today', 'march'),\n",
       "  ('march', 'today'),\n",
       "  ('march', 'th'),\n",
       "  ('th', 'march'),\n",
       "  ('industrial', 'stocks'),\n",
       "  ('stocks', 'industrial'),\n",
       "  ('stocks', 'worth'),\n",
       "  ('worth', 'stocks'),\n",
       "  ('worth', 'watching'),\n",
       "  ('watching', 'worth'),\n",
       "  ('watching', 'march'),\n",
       "  ('march', 'watching'),\n",
       "  ('march', 'th'),\n",
       "  ('th', 'march'),\n",
       "  ('trump', 'tariff'),\n",
       "  ('tariff', 'trump'),\n",
       "  ('tariff', 'threat'),\n",
       "  ('threat', 'tariff'),\n",
       "  ('threat', 'means'),\n",
       "  ('means', 'threat'),\n",
       "  ('means', 'stock'),\n",
       "  ('stock', 'means'),\n",
       "  ('stock', 'market'),\n",
       "  ('market', 'stock'),\n",
       "  ('market', 'investors'),\n",
       "  ('investors', 'market'),\n",
       "  ('investors', 'india'),\n",
       "  ('india', 'investors'),\n",
       "  ('rep', 'gilbert'),\n",
       "  ('gilbert', 'rep'),\n",
       "  ('gilbert', 'ray'),\n",
       "  ('ray', 'gilbert'),\n",
       "  ('ray', 'cisneros'),\n",
       "  ('cisneros', 'ray'),\n",
       "  ('cisneros', 'jr'),\n",
       "  ('jr', 'cisneros'),\n",
       "  ('jr', 'sells'),\n",
       "  ('sells', 'jr'),\n",
       "  ('sells', 'unitedhealth'),\n",
       "  ('unitedhealth', 'sells'),\n",
       "  ('unitedhealth', 'group'),\n",
       "  ('group', 'unitedhealth'),\n",
       "  ('group', 'incorporated'),\n",
       "  ('incorporated', 'group'),\n",
       "  ('incorporated', 'nyseunh'),\n",
       "  ('nyseunh', 'incorporated'),\n",
       "  ('nyseunh', 'shares'),\n",
       "  ('shares', 'nyseunh'),\n",
       "  ('danaher', 'nysedhr'),\n",
       "  ('nysedhr', 'danaher'),\n",
       "  ('nysedhr', 'stock'),\n",
       "  ('stock', 'nysedhr'),\n",
       "  ('stock', 'unloaded'),\n",
       "  ('unloaded', 'stock'),\n",
       "  ('unloaded', 'rep'),\n",
       "  ('rep', 'unloaded'),\n",
       "  ('rep', 'gilbert'),\n",
       "  ('gilbert', 'rep'),\n",
       "  ('gilbert', 'ray'),\n",
       "  ('ray', 'gilbert'),\n",
       "  ('ray', 'cisneros'),\n",
       "  ('cisneros', 'ray'),\n",
       "  ('cisneros', 'jr'),\n",
       "  ('jr', 'cisneros'),\n",
       "  ('rep', 'gilbert'),\n",
       "  ('gilbert', 'rep'),\n",
       "  ('gilbert', 'ray'),\n",
       "  ('ray', 'gilbert'),\n",
       "  ('ray', 'cisneros'),\n",
       "  ('cisneros', 'ray'),\n",
       "  ('cisneros', 'jr'),\n",
       "  ('jr', 'cisneros'),\n",
       "  ('jr', 'sells'),\n",
       "  ('sells', 'jr'),\n",
       "  ('sells', 'walgreens'),\n",
       "  ('walgreens', 'sells'),\n",
       "  ('walgreens', 'boots'),\n",
       "  ('boots', 'walgreens'),\n",
       "  ('boots', 'alliance'),\n",
       "  ('alliance', 'boots'),\n",
       "  ('alliance', 'inc'),\n",
       "  ('inc', 'alliance'),\n",
       "  ('inc', 'nasdaqwba'),\n",
       "  ('nasdaqwba', 'inc'),\n",
       "  ('nasdaqwba', 'shares'),\n",
       "  ('shares', 'nasdaqwba'),\n",
       "  ('rep', 'gilbert'),\n",
       "  ('gilbert', 'rep'),\n",
       "  ('gilbert', 'ray'),\n",
       "  ('ray', 'gilbert'),\n",
       "  ('ray', 'cisneros'),\n",
       "  ('cisneros', 'ray'),\n",
       "  ('cisneros', 'jr'),\n",
       "  ('jr', 'cisneros'),\n",
       "  ('jr', 'purchases'),\n",
       "  ('purchases', 'jr'),\n",
       "  ('purchases', 'shares'),\n",
       "  ('shares', 'purchases'),\n",
       "  ('shares', 'pfizer'),\n",
       "  ('pfizer', 'shares'),\n",
       "  ('pfizer', 'inc'),\n",
       "  ('inc', 'pfizer'),\n",
       "  ('inc', 'nysepfe'),\n",
       "  ('nysepfe', 'inc'),\n",
       "  ('rep', 'gilbert'),\n",
       "  ('gilbert', 'rep'),\n",
       "  ('gilbert', 'ray'),\n",
       "  ('ray', 'gilbert'),\n",
       "  ('ray', 'cisneros'),\n",
       "  ('cisneros', 'ray'),\n",
       "  ('cisneros', 'jr'),\n",
       "  ('jr', 'cisneros'),\n",
       "  ('jr', 'purchases'),\n",
       "  ('purchases', 'jr'),\n",
       "  ('purchases', 'shares'),\n",
       "  ('shares', 'purchases'),\n",
       "  ('shares', 'willis'),\n",
       "  ('willis', 'shares'),\n",
       "  ('willis', 'towers'),\n",
       "  ('towers', 'willis'),\n",
       "  ('towers', 'watson'),\n",
       "  ('watson', 'towers'),\n",
       "  ('watson', 'public'),\n",
       "  ('public', 'watson'),\n",
       "  ('public', 'limited'),\n",
       "  ('limited', 'public'),\n",
       "  ('limited', 'nasdaqwtw'),\n",
       "  ('nasdaqwtw', 'limited'),\n",
       "  ('rep', 'gilbert'),\n",
       "  ('gilbert', 'rep'),\n",
       "  ('gilbert', 'ray'),\n",
       "  ('ray', 'gilbert'),\n",
       "  ('ray', 'cisneros'),\n",
       "  ('cisneros', 'ray'),\n",
       "  ('cisneros', 'jr'),\n",
       "  ('jr', 'cisneros'),\n",
       "  ('jr', 'sells'),\n",
       "  ('sells', 'jr'),\n",
       "  ('sells', 'shares'),\n",
       "  ('shares', 'sells'),\n",
       "  ('shares', 'cadence'),\n",
       "  ('cadence', 'shares'),\n",
       "  ('cadence', 'design'),\n",
       "  ('design', 'cadence'),\n",
       "  ('design', 'systems'),\n",
       "  ('systems', 'design'),\n",
       "  ('systems', 'inc'),\n",
       "  ('inc', 'systems'),\n",
       "  ('inc', 'nasdaqcdns'),\n",
       "  ('nasdaqcdns', 'inc'),\n",
       "  ('ansys', 'nasdaqanss'),\n",
       "  ('nasdaqanss', 'ansys'),\n",
       "  ('nasdaqanss', 'shares'),\n",
       "  ('shares', 'nasdaqanss'),\n",
       "  ('shares', 'unloaded'),\n",
       "  ('unloaded', 'shares'),\n",
       "  ('unloaded', 'rep'),\n",
       "  ('rep', 'unloaded'),\n",
       "  ('rep', 'gilbert'),\n",
       "  ('gilbert', 'rep'),\n",
       "  ('gilbert', 'ray'),\n",
       "  ('ray', 'gilbert'),\n",
       "  ('ray', 'cisneros'),\n",
       "  ('cisneros', 'ray'),\n",
       "  ('cisneros', 'jr'),\n",
       "  ('jr', 'cisneros'),\n",
       "  ('top', 'automotive'),\n",
       "  ('automotive', 'top'),\n",
       "  ('automotive', 'stocks'),\n",
       "  ('stocks', 'automotive'),\n",
       "  ('stocks', 'worth'),\n",
       "  ('worth', 'stocks'),\n",
       "  ('worth', 'watching'),\n",
       "  ('watching', 'worth'),\n",
       "  ('watching', 'march'),\n",
       "  ('march', 'watching'),\n",
       "  ('march', 'th'),\n",
       "  ('th', 'march'),\n",
       "  ('donald', 'trumps'),\n",
       "  ('trumps', 'donald'),\n",
       "  ('trumps', 'tariffs'),\n",
       "  ('tariffs', 'trumps'),\n",
       "  ('tariffs', 'could'),\n",
       "  ('could', 'tariffs'),\n",
       "  ('could', 'help'),\n",
       "  ('help', 'could'),\n",
       "  ('help', 'tesla'),\n",
       "  ('tesla', 'help'),\n",
       "  ('tesla', 'hurting'),\n",
       "  ('hurting', 'tesla'),\n",
       "  ('hurting', 'rivals'),\n",
       "  ('rivals', 'hurting'),\n",
       "  ('us', 'economic'),\n",
       "  ('economic', 'us'),\n",
       "  ('economic', 'worries'),\n",
       "  ('worries', 'economic'),\n",
       "  ('worries', 'mount'),\n",
       "  ('mount', 'worries'),\n",
       "  ('mount', 'trump'),\n",
       "  ('trump', 'mount'),\n",
       "  ('trump', 'implements'),\n",
       "  ('implements', 'trump'),\n",
       "  ('implements', 'tariffs'),\n",
       "  ('tariffs', 'implements'),\n",
       "  ('tariffs', 'cuts'),\n",
       "  ('cuts', 'tariffs'),\n",
       "  ('cuts', 'workforce'),\n",
       "  ('workforce', 'cuts'),\n",
       "  ('workforce', 'freezes'),\n",
       "  ('freezes', 'workforce'),\n",
       "  ('freezes', 'spending'),\n",
       "  ('spending', 'freezes'),\n",
       "  ('elon', 'musks'),\n",
       "  ('musks', 'elon'),\n",
       "  ('musks', 'doge'),\n",
       "  ('doge', 'musks'),\n",
       "  ('doge', 'era'),\n",
       "  ('era', 'doge'),\n",
       "  ('era', 'puts'),\n",
       "  ('puts', 'era'),\n",
       "  ('puts', 'tesla'),\n",
       "  ('tesla', 'puts'),\n",
       "  ('tesla', 'doghouse'),\n",
       "  ('doghouse', 'tesla'),\n",
       "  ('trumps', 'tariffs'),\n",
       "  ('tariffs', 'trumps'),\n",
       "  ('tariffs', 'could'),\n",
       "  ('could', 'tariffs'),\n",
       "  ('could', 'help'),\n",
       "  ('help', 'could'),\n",
       "  ('help', 'tesla'),\n",
       "  ('tesla', 'help'),\n",
       "  ('tesla', 'hurting'),\n",
       "  ('hurting', 'tesla'),\n",
       "  ('hurting', 'rivals'),\n",
       "  ('rivals', 'hurting'),\n",
       "  ('us', 'economic'),\n",
       "  ('economic', 'us'),\n",
       "  ('economic', 'worries'),\n",
       "  ('worries', 'economic'),\n",
       "  ('worries', 'mount'),\n",
       "  ('mount', 'worries'),\n",
       "  ('mount', 'trump'),\n",
       "  ('trump', 'mount'),\n",
       "  ('trump', 'implements'),\n",
       "  ('implements', 'trump'),\n",
       "  ('implements', 'tariffs'),\n",
       "  ('tariffs', 'implements'),\n",
       "  ('tariffs', 'cuts'),\n",
       "  ('cuts', 'tariffs'),\n",
       "  ('cuts', 'workforce'),\n",
       "  ('workforce', 'cuts'),\n",
       "  ('workforce', 'freezes'),\n",
       "  ('freezes', 'workforce'),\n",
       "  ('freezes', 'spending'),\n",
       "  ('spending', 'freezes'),\n",
       "  ('trumps', 'tariffs'),\n",
       "  ('tariffs', 'trumps'),\n",
       "  ('tariffs', 'could'),\n",
       "  ('could', 'tariffs'),\n",
       "  ('could', 'help'),\n",
       "  ('help', 'could'),\n",
       "  ('help', 'tesla'),\n",
       "  ('tesla', 'help'),\n",
       "  ('tesla', 'hurting'),\n",
       "  ('hurting', 'tesla'),\n",
       "  ('hurting', 'rivals'),\n",
       "  ('rivals', 'hurting'),\n",
       "  ('us', 'economic'),\n",
       "  ('economic', 'us'),\n",
       "  ('economic', 'worries'),\n",
       "  ('worries', 'economic'),\n",
       "  ('worries', 'mount'),\n",
       "  ('mount', 'worries'),\n",
       "  ('mount', 'trump'),\n",
       "  ('trump', 'mount'),\n",
       "  ('trump', 'implements'),\n",
       "  ('implements', 'trump'),\n",
       "  ('implements', 'tariffs'),\n",
       "  ('tariffs', 'implements'),\n",
       "  ('tariffs', 'cuts'),\n",
       "  ('cuts', 'tariffs'),\n",
       "  ('cuts', 'workforce'),\n",
       "  ('workforce', 'cuts'),\n",
       "  ('workforce', 'freezes'),\n",
       "  ('freezes', 'workforce'),\n",
       "  ('freezes', 'spending'),\n",
       "  ('spending', 'freezes'),\n",
       "  ('enel', 'x'),\n",
       "  ('x', 'enel'),\n",
       "  ('x', 'juicebox'),\n",
       "  ('juicebox', 'x'),\n",
       "  ('juicebox', 'amp'),\n",
       "  ('amp', 'juicebox'),\n",
       "  ('amp', 'electric'),\n",
       "  ('electric', 'amp'),\n",
       "  ('electric', 'vehicle'),\n",
       "  ('vehicle', 'electric'),\n",
       "  ('vehicle', 'level'),\n",
       "  ('level', 'vehicle'),\n",
       "  ('level', 'v'),\n",
       "  ('v', 'level'),\n",
       "  ('v', 'ev'),\n",
       "  ('ev', 'v'),\n",
       "  ('ev', 'charger'),\n",
       "  ('charger', 'ev'),\n",
       "  ('charger', 'station'),\n",
       "  ('station', 'charger'),\n",
       "  ('station', 'closeout'),\n",
       "  ('closeout', 'station'),\n",
       "  ('closeout', 'deal'),\n",
       "  ('deal', 'closeout'),\n",
       "  ('deal', 'free'),\n",
       "  ('free', 'deal'),\n",
       "  ('free', 'shipping'),\n",
       "  ('shipping', 'free'),\n",
       "  ('shipping', 'replies'),\n",
       "  ('replies', 'shipping'),\n",
       "  ('enel', 'x'),\n",
       "  ('x', 'enel'),\n",
       "  ('x', 'juicebox'),\n",
       "  ('juicebox', 'x'),\n",
       "  ('juicebox', 'amp'),\n",
       "  ('amp', 'juicebox'),\n",
       "  ('amp', 'electric'),\n",
       "  ('electric', 'amp'),\n",
       "  ('electric', 'vehicle'),\n",
       "  ('vehicle', 'electric'),\n",
       "  ('vehicle', 'level'),\n",
       "  ('level', 'vehicle'),\n",
       "  ('level', 'v'),\n",
       "  ('v', 'level'),\n",
       "  ('v', 'ev'),\n",
       "  ('ev', 'v'),\n",
       "  ('ev', 'charger'),\n",
       "  ('charger', 'ev'),\n",
       "  ('charger', 'station'),\n",
       "  ('station', 'charger'),\n",
       "  ('station', 'closeout'),\n",
       "  ('closeout', 'station'),\n",
       "  ('closeout', 'deal'),\n",
       "  ('deal', 'closeout'),\n",
       "  ('deal', 'free'),\n",
       "  ('free', 'deal'),\n",
       "  ('free', 'shipping'),\n",
       "  ('shipping', 'free'),\n",
       "  ('real', 'times'),\n",
       "  ('times', 'real'),\n",
       "  ('times', 'bill'),\n",
       "  ('bill', 'times'),\n",
       "  ('bill', 'maher'),\n",
       "  ('maher', 'bill'),\n",
       "  ('maher', 'takes'),\n",
       "  ('takes', 'maher'),\n",
       "  ('takes', 'swipe'),\n",
       "  ('swipe', 'takes'),\n",
       "  ('swipe', 'taylor'),\n",
       "  ('taylor', 'swipe'),\n",
       "  ('taylor', 'swift'),\n",
       "  ('swift', 'taylor'),\n",
       "  ('swift', 'makes'),\n",
       "  ('makes', 'swift'),\n",
       "  ('makes', 'punchline'),\n",
       "  ('punchline', 'makes'),\n",
       "  ('punchline', 'donald'),\n",
       "  ('donald', 'punchline'),\n",
       "  ('donald', 'trump'),\n",
       "  ('trump', 'donald'),\n",
       "  ('trump', 'joke'),\n",
       "  ('joke', 'trump'),\n",
       "  ('trump', 'reining'),\n",
       "  ('reining', 'trump'),\n",
       "  ('reining', 'elon'),\n",
       "  ('elon', 'reining'),\n",
       "  ('elon', 'musk'),\n",
       "  ('musk', 'elon'),\n",
       "  ('musk', 'cabinet'),\n",
       "  ('cabinet', 'musk'),\n",
       "  ('cabinet', 'showdown'),\n",
       "  ('showdown', 'cabinet'),\n",
       "  ('showdown', 'secretaries'),\n",
       "  ('secretaries', 'showdown'),\n",
       "  ('trump', 'reining'),\n",
       "  ('reining', 'trump'),\n",
       "  ('reining', 'musk'),\n",
       "  ('musk', 'reining'),\n",
       "  ('musk', 'cabinet'),\n",
       "  ('cabinet', 'musk'),\n",
       "  ('cabinet', 'showdown'),\n",
       "  ('showdown', 'cabinet'),\n",
       "  ('showdown', 'secretaries'),\n",
       "  ('secretaries', 'showdown'),\n",
       "  ('ai', 'xai'),\n",
       "  ('xai', 'ai'),\n",
       "  ('tesla', 'sales'),\n",
       "  ('sales', 'tesla'),\n",
       "  ('sales', 'crash'),\n",
       "  ('crash', 'sales'),\n",
       "  ('crash', 'hard'),\n",
       "  ('hard', 'crash'),\n",
       "  ('hard', 'australia'),\n",
       "  ('australia', 'hard'),\n",
       "  ('donald', 'trump'),\n",
       "  ('trump', 'donald'),\n",
       "  ('trump', 'responds'),\n",
       "  ('responds', 'trump'),\n",
       "  ('responds', 'reported'),\n",
       "  ('reported', 'responds'),\n",
       "  ('reported', 'clash'),\n",
       "  ('clash', 'reported'),\n",
       "  ('clash', 'elon'),\n",
       "  ('elon', 'clash'),\n",
       "  ('elon', 'musk'),\n",
       "  ('musk', 'elon'),\n",
       "  ('musk', 'marco'),\n",
       "  ('marco', 'musk'),\n",
       "  ('marco', 'rubio'),\n",
       "  ('rubio', 'marco'),\n",
       "  ('elon', 'musk'),\n",
       "  ('musk', 'elon'),\n",
       "  ('musk', 'vs'),\n",
       "  ('vs', 'musk'),\n",
       "  ('vs', 'marco'),\n",
       "  ('marco', 'vs'),\n",
       "  ('marco', 'rubio'),\n",
       "  ('rubio', 'marco'),\n",
       "  ('rubio', 'happened'),\n",
       "  ('happened', 'rubio'),\n",
       "  ('happened', 'explosive'),\n",
       "  ('explosive', 'happened'),\n",
       "  ('explosive', 'trump'),\n",
       "  ('trump', 'explosive'),\n",
       "  ('trump', 'cabinet'),\n",
       "  ('cabinet', 'trump'),\n",
       "  ('cabinet', 'showdown'),\n",
       "  ('showdown', 'cabinet'),\n",
       "  ('youre', 'supposed'),\n",
       "  ('supposed', 'youre'),\n",
       "  ('supposed', 'asking'),\n",
       "  ('asking', 'supposed'),\n",
       "  ('asking', 'trump'),\n",
       "  ('trump', 'asking'),\n",
       "  ('trump', 'refuses'),\n",
       "  ('refuses', 'trump'),\n",
       "  ('refuses', 'answer'),\n",
       "  ('answer', 'refuses'),\n",
       "  ('answer', 'questions'),\n",
       "  ('questions', 'answer'),\n",
       "  ('questions', 'musk'),\n",
       "  ('musk', 'questions'),\n",
       "  ('believe', 'see'),\n",
       "  ('see', 'believe'),\n",
       "  ('see', 'federal'),\n",
       "  ('federal', 'see'),\n",
       "  ('federal', 'workers'),\n",
       "  ('workers', 'federal'),\n",
       "  ('workers', 'zero'),\n",
       "  ('zero', 'workers'),\n",
       "  ('zero', 'optimism'),\n",
       "  ('optimism', 'zero'),\n",
       "  ('optimism', 'trump'),\n",
       "  ('trump', 'optimism'),\n",
       "  ('trump', 'rein'),\n",
       "  ('rein', 'trump'),\n",
       "  ('rein', 'musk'),\n",
       "  ('musk', 'rein'),\n",
       "  ('elon', 'musks'),\n",
       "  ('musks', 'elon'),\n",
       "  ('musks', 'starlink'),\n",
       "  ('starlink', 'musks'),\n",
       "  ('starlink', 'growing'),\n",
       "  ('growing', 'starlink'),\n",
       "  ('growing', 'footprint'),\n",
       "  ('footprint', 'growing'),\n",
       "  ('footprint', 'federal'),\n",
       "  ('federal', 'footprint'),\n",
       "  ('federal', 'government'),\n",
       "  ('government', 'federal'),\n",
       "  ('donald', 'trump'),\n",
       "  ('trump', 'donald'),\n",
       "  ('trump', 'claims'),\n",
       "  ('claims', 'trump'),\n",
       "  ('claims', 'india'),\n",
       "  ('india', 'claims'),\n",
       "  ('india', 'agreed'),\n",
       "  ('agreed', 'india'),\n",
       "  ('agreed', 'slash'),\n",
       "  ('slash', 'agreed'),\n",
       "  ('slash', 'tariffs'),\n",
       "  ('tariffs', 'slash'),\n",
       "  ('tariffs', 'exposed'),\n",
       "  ('exposed', 'tariffs'),\n",
       "  ('massachusetts', 'launches'),\n",
       "  ('launches', 'massachusetts'),\n",
       "  ('launches', 'website'),\n",
       "  ('website', 'launches'),\n",
       "  ('website', 'fired'),\n",
       "  ('fired', 'website'),\n",
       "  ('fired', 'federal'),\n",
       "  ('federal', 'fired'),\n",
       "  ('federal', 'workers'),\n",
       "  ('workers', 'federal'),\n",
       "  ('workers', 'elected'),\n",
       "  ('elected', 'workers'),\n",
       "  ('elected', 'official'),\n",
       "  ('official', 'elected'),\n",
       "  ('official', 'suggests'),\n",
       "  ('suggests', 'official'),\n",
       "  ('suggests', 'tesla'),\n",
       "  ('tesla', 'suggests'),\n",
       "  ('tesla', 'ban'),\n",
       "  ('ban', 'tesla'),\n",
       "  ('massachusetts', 'launches'),\n",
       "  ('launches', 'massachusetts'),\n",
       "  ('launches', 'website'),\n",
       "  ('website', 'launches'),\n",
       "  ('website', 'fired'),\n",
       "  ('fired', 'website'),\n",
       "  ('fired', 'federal'),\n",
       "  ('federal', 'fired'),\n",
       "  ('federal', 'workers'),\n",
       "  ('workers', 'federal'),\n",
       "  ('workers', 'elected'),\n",
       "  ('elected', 'workers'),\n",
       "  ('elected', 'official'),\n",
       "  ('official', 'elected'),\n",
       "  ('official', 'suggests'),\n",
       "  ('suggests', 'official'),\n",
       "  ('suggests', 'tesla'),\n",
       "  ('tesla', 'suggests'),\n",
       "  ('tesla', 'ban'),\n",
       "  ('ban', 'tesla'),\n",
       "  ('science', 'crossroads'),\n",
       "  ('crossroads', 'science'),\n",
       "  ('crossroads', 'dispatches'),\n",
       "  ('dispatches', 'crossroads'),\n",
       "  ('dispatches', 'fridays'),\n",
       "  ('fridays', 'dispatches'),\n",
       "  ('fridays', 'stand'),\n",
       "  ('stand', 'fridays'),\n",
       "  ('stand', 'science'),\n",
       "  ('science', 'stand'),\n",
       "  ('science', 'rallies'),\n",
       "  ('rallies', 'science'),\n",
       "  ('rallies', 'across'),\n",
       "  ('across', 'rallies'),\n",
       "  ('across', 'us'),\n",
       "  ('us', 'across'),\n",
       "  ('troubling', 'tesla'),\n",
       "  ('tesla', 'troubling'),\n",
       "  ('tesla', 'dealership'),\n",
       "  ('dealership', 'tesla'),\n",
       "  ('dealership', 'attacked'),\n",
       "  ('attacked', 'dealership'),\n",
       "  ('attacked', 'th'),\n",
       "  ('th', 'attacked'),\n",
       "  ('th', 'time'),\n",
       "  ('time', 'th'),\n",
       "  ('time', 'time'),\n",
       "  ('time', 'time'),\n",
       "  ('time', 'incendiary'),\n",
       "  ('incendiary', 'time'),\n",
       "  ('incendiary', 'devices'),\n",
       "  ('devices', 'incendiary'),\n",
       "  ('musk', 'backpedals'),\n",
       "  ('backpedals', 'musk'),\n",
       "  ('backpedals', 'doge'),\n",
       "  ('doge', 'backpedals'),\n",
       "  ('doge', 'responsibility'),\n",
       "  ('responsibility', 'doge'),\n",
       "  ('responsibility', 'tesla'),\n",
       "  ('tesla', 'responsibility'),\n",
       "  ('tesla', 'tanks'),\n",
       "  ('tanks', 'tesla'),\n",
       "  ('doge', 'deployed'),\n",
       "  ('deployed', 'doge'),\n",
       "  ('deployed', 'gsai'),\n",
       "  ('gsai', 'deployed'),\n",
       "  ('gsai', 'custom'),\n",
       "  ('custom', 'gsai'),\n",
       "  ('custom', 'chatbot'),\n",
       "  ('chatbot', 'custom'),\n",
       "  ('chatbot', 'federal'),\n",
       "  ('federal', 'chatbot'),\n",
       "  ('federal', 'workers'),\n",
       "  ('workers', 'federal'),\n",
       "  ('xiaomi', 'outperforms'),\n",
       "  ('outperforms', 'xiaomi'),\n",
       "  ('outperforms', 'tesla'),\n",
       "  ('tesla', 'outperforms'),\n",
       "  ('tesla', 'ev'),\n",
       "  ('ev', 'tesla'),\n",
       "  ('ev', 'resale'),\n",
       "  ('resale', 'ev'),\n",
       "  ('resale', 'market'),\n",
       "  ('market', 'resale'),\n",
       "  ('elon', 'musks'),\n",
       "  ('musks', 'elon'),\n",
       "  ('musks', 'generous'),\n",
       "  ('generous', 'musks'),\n",
       "  ('generous', 'gesture'),\n",
       "  ('gesture', 'generous'),\n",
       "  ('gesture', 'towards'),\n",
       "  ('towards', 'gesture'),\n",
       "  ('towards', 'cancer'),\n",
       "  ('cancer', 'towards'),\n",
       "  ('cancer', 'stricken'),\n",
       "  ('stricken', 'cancer'),\n",
       "  ('stricken', 'dj'),\n",
       "  ('dj', 'stricken'),\n",
       "  ('dj', 'daniel'),\n",
       "  ('daniel', 'dj'),\n",
       "  ('daniel', 'became'),\n",
       "  ('became', 'daniel'),\n",
       "  ('became', 'target'),\n",
       "  ('target', 'became'),\n",
       "  ('target', 'odious'),\n",
       "  ('odious', 'target'),\n",
       "  ('odious', 'msnbc'),\n",
       "  ('msnbc', 'odious'),\n",
       "  ('incendiary', 'device'),\n",
       "  ('device', 'incendiary'),\n",
       "  ('device', 'found'),\n",
       "  ('found', 'device'),\n",
       "  ('found', 'arson'),\n",
       "  ('arson', 'found'),\n",
       "  ('arson', 'northern'),\n",
       "  ('northern', 'arson'),\n",
       "  ('northern', 'colorado'),\n",
       "  ('colorado', 'northern'),\n",
       "  ('colorado', 'tesla'),\n",
       "  ('tesla', 'colorado'),\n",
       "  ('tesla', 'store'),\n",
       "  ('store', 'tesla'),\n",
       "  ('store', 'police'),\n",
       "  ('police', 'store'),\n",
       "  ('police', 'say'),\n",
       "  ('say', 'police'),\n",
       "  ('shocking', 'bots'),\n",
       "  ('bots', 'shocking'),\n",
       "  ('bots', 'top'),\n",
       "  ('top', 'bots'),\n",
       "  ('top', 'bots'),\n",
       "  ('bots', 'top'),\n",
       "  ('bots', 'battle'),\n",
       "  ('battle', 'bots'),\n",
       "  ('battle', 'humanoid'),\n",
       "  ('humanoid', 'battle'),\n",
       "  ('humanoid', 'bots'),\n",
       "  ('bots', 'humanoid'),\n",
       "  ('antielon', 'musk'),\n",
       "  ('musk', 'antielon'),\n",
       "  ('musk', 'group'),\n",
       "  ('group', 'musk'),\n",
       "  ('group', 'plasters'),\n",
       "  ('plasters', 'group'),\n",
       "  ('plasters', 'elons'),\n",
       "  ('elons', 'plasters'),\n",
       "  ('elons', 'musk'),\n",
       "  ('musk', 'elons'),\n",
       "  ('musk', 'perfume'),\n",
       "  ('perfume', 'musk'),\n",
       "  ('perfume', 'ad'),\n",
       "  ('ad', 'perfume'),\n",
       "  ('ad', 'london'),\n",
       "  ('london', 'ad'),\n",
       "  ('london', 'pour'),\n",
       "  ('pour', 'london'),\n",
       "  ('pour', 'wankers'),\n",
       "  ('wankers', 'pour'),\n",
       "  ('cheapest', 'evs'),\n",
       "  ('evs', 'cheapest'),\n",
       "  ('evs', 'lease'),\n",
       "  ('lease', 'evs'),\n",
       "  ('lease', 'march'),\n",
       "  ('march', 'lease'),\n",
       "  ('march', 'month'),\n",
       "  ('month', 'march'),\n",
       "  ('volkswagen', 'bringing'),\n",
       "  ('bringing', 'volkswagen'),\n",
       "  ('bringing', 'back'),\n",
       "  ('back', 'bringing'),\n",
       "  ('back', 'physical'),\n",
       "  ('physical', 'back'),\n",
       "  ('physical', 'buttons'),\n",
       "  ('buttons', 'physical'),\n",
       "  ('nissan', 'eyes'),\n",
       "  ('eyes', 'nissan'),\n",
       "  ('eyes', 'replacing'),\n",
       "  ('replacing', 'eyes'),\n",
       "  ('replacing', 'ceo'),\n",
       "  ('ceo', 'replacing'),\n",
       "  ('ceo', 'uchida'),\n",
       "  ('uchida', 'ceo'),\n",
       "  ('uchida', 'source'),\n",
       "  ('source', 'uchida'),\n",
       "  ('doge', 'drags'),\n",
       "  ('drags', 'doge'),\n",
       "  ('drags', 'ikea'),\n",
       "  ('ikea', 'drags'),\n",
       "  ('ikea', 'beds'),\n",
       "  ('beds', 'ikea'),\n",
       "  ('beds', 'federal'),\n",
       "  ('federal', 'beds'),\n",
       "  ('federal', 'office'),\n",
       "  ('office', 'federal'),\n",
       "  ('office', 'buildings'),\n",
       "  ('buildings', 'office'),\n",
       "  ('buildings', 'young'),\n",
       "  ('young', 'buildings'),\n",
       "  ('young', 'team'),\n",
       "  ('team', 'young'),\n",
       "  ('team', 'sets'),\n",
       "  ('sets', 'team'),\n",
       "  ('sets', 'camp'),\n",
       "  ('camp', 'sets'),\n",
       "  ('trump', 'put'),\n",
       "  ('put', 'trump'),\n",
       "  ('put', 'undercut'),\n",
       "  ('undercut', 'put'),\n",
       "  ('undercut', 'tariff'),\n",
       "  ('tariff', 'undercut'),\n",
       "  ('tariff', 'flipflops'),\n",
       "  ('flipflops', 'tariff'),\n",
       "  ('flipflops', 'frazzle'),\n",
       "  ('frazzle', 'flipflops'),\n",
       "  ('frazzle', 'stock'),\n",
       "  ('stock', 'frazzle'),\n",
       "  ('stock', 'traders'),\n",
       "  ('traders', 'stock'),\n",
       "  ('xiaomis', 'striking'),\n",
       "  ('striking', 'xiaomis'),\n",
       "  ('striking', 'su'),\n",
       "  ('su', 'striking'),\n",
       "  ('su', 'ultra'),\n",
       "  ('ultra', 'su'),\n",
       "  ('ultra', 'track'),\n",
       "  ('track', 'ultra'),\n",
       "  ('track', 'global'),\n",
       "  ('global', 'track'),\n",
       "  ('global', 'ev'),\n",
       "  ('ev', 'global'),\n",
       "  ('ev', 'success'),\n",
       "  ('success', 'ev'),\n",
       "  ('tesla', 'shares'),\n",
       "  ('shares', 'tesla'),\n",
       "  ('shares', 'declined'),\n",
       "  ('declined', 'shares'),\n",
       "  ('declined', 'every'),\n",
       "  ('every', 'declined'),\n",
       "  ('every', 'week'),\n",
       "  ('week', 'every'),\n",
       "  ('week', 'since'),\n",
       "  ('since', 'week'),\n",
       "  ('since', 'elon'),\n",
       "  ('elon', 'since'),\n",
       "  ('elon', 'musk'),\n",
       "  ('musk', 'elon'),\n",
       "  ('musk', 'went'),\n",
       "  ('went', 'musk'),\n",
       "  ('went', 'washington'),\n",
       "  ('washington', 'went'),\n",
       "  ('better', 'balance'),\n",
       "  ('balance', 'better'),\n",
       "  ('balance', 'time'),\n",
       "  ('time', 'balance'),\n",
       "  ('time', 'doge'),\n",
       "  ('doge', 'time'),\n",
       "  ('doge', 'tesla'),\n",
       "  ('tesla', 'doge'),\n",
       "  ('tesla', 'spacex'),\n",
       "  ('spacex', 'tesla'),\n",
       "  ('spacex', 'elon'),\n",
       "  ('elon', 'spacex'),\n",
       "  ('elon', 'musks'),\n",
       "  ('musks', 'elon'),\n",
       "  ('musks', 'net'),\n",
       "  ('net', 'musks'),\n",
       "  ('net', 'worth'),\n",
       "  ('worth', 'net'),\n",
       "  ('worth', 'dropped'),\n",
       "  ('dropped', 'worth'),\n",
       "  ('dropped', 'billion'),\n",
       "  ('billion', 'dropped'),\n",
       "  ('billion', 'year'),\n",
       "  ('year', 'billion'),\n",
       "  ('tesla', 'shares'),\n",
       "  ('shares', 'tesla'),\n",
       "  ('shares', 'declined'),\n",
       "  ('declined', 'shares'),\n",
       "  ('declined', 'every'),\n",
       "  ('every', 'declined'),\n",
       "  ('every', 'week'),\n",
       "  ('week', 'every'),\n",
       "  ('week', 'since'),\n",
       "  ('since', 'week'),\n",
       "  ('since', 'elon'),\n",
       "  ('elon', 'since'),\n",
       "  ('elon', 'musk'),\n",
       "  ('musk', 'elon'),\n",
       "  ('musk', 'went'),\n",
       "  ('went', 'musk'),\n",
       "  ('went', 'washington'),\n",
       "  ('washington', 'went'),\n",
       "  ('elon', 'musks'),\n",
       "  ('musks', 'elon'),\n",
       "  ('musks', 'doge'),\n",
       "  ('doge', 'musks'),\n",
       "  ('doge', 'tried'),\n",
       "  ('tried', 'doge'),\n",
       "  ('tried', 'fire'),\n",
       "  ('fire', 'tried'),\n",
       "  ('fire', 'air'),\n",
       "  ('air', 'fire'),\n",
       "  ('air', 'traffic'),\n",
       "  ('traffic', 'air'),\n",
       "  ('traffic', 'controllers'),\n",
       "  ('controllers', 'traffic'),\n",
       "  ('controllers', 'report'),\n",
       "  ('report', 'controllers'),\n",
       "  ('wall', 'street'),\n",
       "  ('street', 'wall'),\n",
       "  ('stocks', 'suffer'),\n",
       "  ('suffer', 'stocks'),\n",
       "  ('suffer', 'worst'),\n",
       "  ('worst', 'suffer'),\n",
       "  ('worst', 'week'),\n",
       "  ('week', 'worst'),\n",
       "  ('week', 'monthsdespite'),\n",
       "  ('monthsdespite', 'week'),\n",
       "  ('monthsdespite', 'friday'),\n",
       "  ('friday', 'monthsdespite'),\n",
       "  ('friday', 'bounce'),\n",
       "  ('bounce', 'friday'),\n",
       "  ('top', 'democrats'),\n",
       "  ('democrats', 'top'),\n",
       "  ('democrats', 'ask'),\n",
       "  ('ask', 'democrats'),\n",
       "  ('ask', 'rubio'),\n",
       "  ('rubio', 'ask'),\n",
       "  ('rubio', 'answers'),\n",
       "  ('answers', 'rubio'),\n",
       "  ('answers', 'nowcanceled'),\n",
       "  ('nowcanceled', 'answers'),\n",
       "  ('nowcanceled', 'million'),\n",
       "  ('million', 'nowcanceled'),\n",
       "  ('million', 'tesla'),\n",
       "  ('tesla', 'million'),\n",
       "  ('tesla', 'plan'),\n",
       "  ('plan', 'tesla'),\n",
       "  ('top', 'democrats'),\n",
       "  ('democrats', 'top'),\n",
       "  ('democrats', 'ask'),\n",
       "  ('ask', 'democrats'),\n",
       "  ('ask', 'rubio'),\n",
       "  ('rubio', 'ask'),\n",
       "  ('rubio', 'answers'),\n",
       "  ('answers', 'rubio'),\n",
       "  ('answers', 'nowcanceled'),\n",
       "  ('nowcanceled', 'answers'),\n",
       "  ('nowcanceled', 'million'),\n",
       "  ('million', 'nowcanceled'),\n",
       "  ('million', 'tesla'),\n",
       "  ('tesla', 'million'),\n",
       "  ('tesla', 'plan'),\n",
       "  ('plan', 'tesla'),\n",
       "  ('tanking', 'tesla'),\n",
       "  ('tesla', 'tanking'),\n",
       "  ('elon', 'musks'),\n",
       "  ('musks', 'elon'),\n",
       "  ('musks', 'xai'),\n",
       "  ('xai', 'musks'),\n",
       "  ('xai', 'buys'),\n",
       "  ('buys', 'xai'),\n",
       "  ('buys', 'new'),\n",
       "  ('new', 'buys'),\n",
       "  ('new', 'property'),\n",
       "  ('property', 'new'),\n",
       "  ('property', 'memphis'),\n",
       "  ('memphis', 'property'),\n",
       "  ('memphis', 'amid'),\n",
       "  ('amid', 'memphis'),\n",
       "  ('amid', 'supercomputer'),\n",
       "  ('supercomputer', 'amid'),\n",
       "  ('supercomputer', 'expansion'),\n",
       "  ('expansion', 'supercomputer'),\n",
       "  ('protests', 'elon'),\n",
       "  ('elon', 'protests'),\n",
       "  ('elon', 'musk'),\n",
       "  ('musk', 'elon'),\n",
       "  ('musk', 'target'),\n",
       "  ('target', 'musk'),\n",
       "  ('target', 'tesla'),\n",
       "  ('tesla', 'target'),\n",
       "  ('tesla', 'ev'),\n",
       "  ('ev', 'tesla'),\n",
       "  ('ev', 'buyers'),\n",
       "  ('buyers', 'ev'),\n",
       "  ('buyers', 'respond'),\n",
       "  ('respond', 'buyers'),\n",
       "  ('protests', 'elon'),\n",
       "  ('elon', 'protests'),\n",
       "  ('elon', 'musk'),\n",
       "  ('musk', 'elon'),\n",
       "  ('musk', 'target'),\n",
       "  ('target', 'musk'),\n",
       "  ('target', 'tesla'),\n",
       "  ('tesla', 'target'),\n",
       "  ('tesla', 'ev'),\n",
       "  ('ev', 'tesla'),\n",
       "  ('ev', 'buyers'),\n",
       "  ('buyers', 'ev'),\n",
       "  ('buyers', 'respond'),\n",
       "  ('respond', 'buyers'),\n",
       "  ('trumps', 'tariffs'),\n",
       "  ('tariffs', 'trumps'),\n",
       "  ('tariffs', 'economic'),\n",
       "  ('economic', 'tariffs'),\n",
       "  ('economic', 'environmental'),\n",
       "  ('environmental', 'economic'),\n",
       "  ('environmental', 'boomerang'),\n",
       "  ('boomerang', 'environmental'),\n",
       "  ('parenting', 'really'),\n",
       "  ('really', 'parenting'),\n",
       "  ('really', 'harder'),\n",
       "  ('harder', 'really'),\n",
       "  ('harder', 'days'),\n",
       "  ('days', 'harder'),\n",
       "  ('days', 'everything'),\n",
       "  ('everything', 'days'),\n",
       "  ('everything', 'else'),\n",
       "  ('else', 'everything'),\n",
       "  ('podcast', 'tesla'),\n",
       "  ('tesla', 'podcast'),\n",
       "  ('tesla', 'sales'),\n",
       "  ('sales', 'tesla'),\n",
       "  ('sales', 'keep'),\n",
       "  ('keep', 'sales'),\n",
       "  ('keep', 'crashing'),\n",
       "  ('crashing', 'keep'),\n",
       "  ('crashing', 'cadillac'),\n",
       "  ('cadillac', 'crashing'),\n",
       "  ('cadillac', 'escalade'),\n",
       "  ('escalade', 'cadillac'),\n",
       "  ('escalade', 'iql'),\n",
       "  ('iql', 'escalade'),\n",
       "  ('iql', 'volvo'),\n",
       "  ('volvo', 'iql'),\n",
       "  ('volvo', 'es'),\n",
       "  ('es', 'volvo'),\n",
       "  ('es', 'ioniq'),\n",
       "  ('ioniq', 'es'),\n",
       "  ('ioniq', 'unveils'),\n",
       "  ('unveils', 'ioniq'),\n",
       "  ('numbers', 'show'),\n",
       "  ('show', 'numbers'),\n",
       "  ('show', 'massive'),\n",
       "  ('massive', 'show'),\n",
       "  ('massive', 'numbers'),\n",
       "  ('numbers', 'massive'),\n",
       "  ('numbers', 'consumers'),\n",
       "  ('consumers', 'numbers'),\n",
       "  ('consumers', 'turning'),\n",
       "  ('turning', 'consumers'),\n",
       "  ('turning', 'tesla'),\n",
       "  ('tesla', 'turning'),\n",
       "  ('teslas', 'postelection'),\n",
       "  ('postelection', 'teslas'),\n",
       "  ('postelection', 'stock'),\n",
       "  ('stock', 'postelection'),\n",
       "  ('stock', 'gains'),\n",
       "  ('gains', 'stock'),\n",
       "  ('gains', 'vanish'),\n",
       "  ('vanish', 'gains'),\n",
       "  ...],\n",
       " ['across',\n",
       "  'ad',\n",
       "  'agreed',\n",
       "  'ai',\n",
       "  'air',\n",
       "  'alliance',\n",
       "  'amid',\n",
       "  'amp',\n",
       "  'answer',\n",
       "  'answers',\n",
       "  'ansys',\n",
       "  'anticybertruck',\n",
       "  'antielon',\n",
       "  'arson',\n",
       "  'ask',\n",
       "  'asking',\n",
       "  'attacked',\n",
       "  'australia',\n",
       "  'automotive',\n",
       "  'back',\n",
       "  'backpedals',\n",
       "  'balance',\n",
       "  'ban',\n",
       "  'battle',\n",
       "  'became',\n",
       "  'beds',\n",
       "  'believe',\n",
       "  'best',\n",
       "  'better',\n",
       "  'bill',\n",
       "  'billion',\n",
       "  'boomerang',\n",
       "  'boots',\n",
       "  'bots',\n",
       "  'bounce',\n",
       "  'bringing',\n",
       "  'buildings',\n",
       "  'buttons',\n",
       "  'buyers',\n",
       "  'buys',\n",
       "  'cabinet',\n",
       "  'cadence',\n",
       "  'cadillac',\n",
       "  'camp',\n",
       "  'cancer',\n",
       "  'ceo',\n",
       "  'charger',\n",
       "  'chatbot',\n",
       "  'cheapest',\n",
       "  'cisneros',\n",
       "  'claims',\n",
       "  'clash',\n",
       "  'closeout',\n",
       "  'colorado',\n",
       "  'consumers',\n",
       "  'controllers',\n",
       "  'could',\n",
       "  'crash',\n",
       "  'crashing',\n",
       "  'crossroads',\n",
       "  'custom',\n",
       "  'cutest',\n",
       "  'cuts',\n",
       "  'danaher',\n",
       "  'daniel',\n",
       "  'days',\n",
       "  'deal',\n",
       "  'dealership',\n",
       "  'declined',\n",
       "  'democrats',\n",
       "  'deployed',\n",
       "  'design',\n",
       "  'device',\n",
       "  'devices',\n",
       "  'dip',\n",
       "  'dispatches',\n",
       "  'dj',\n",
       "  'doge',\n",
       "  'doghouse',\n",
       "  'donald',\n",
       "  'drags',\n",
       "  'dropped',\n",
       "  'economic',\n",
       "  'elected',\n",
       "  'electric',\n",
       "  'elon',\n",
       "  'elons',\n",
       "  'else',\n",
       "  'enel',\n",
       "  'energy',\n",
       "  'environmental',\n",
       "  'era',\n",
       "  'es',\n",
       "  'escalade',\n",
       "  'ev',\n",
       "  'every',\n",
       "  'everything',\n",
       "  'evs',\n",
       "  'expansion',\n",
       "  'explosive',\n",
       "  'exposed',\n",
       "  'eyes',\n",
       "  'federal',\n",
       "  'fire',\n",
       "  'fired',\n",
       "  'flipflops',\n",
       "  'footprint',\n",
       "  'found',\n",
       "  'frazzle',\n",
       "  'free',\n",
       "  'freezes',\n",
       "  'friday',\n",
       "  'fridays',\n",
       "  'gains',\n",
       "  'gear',\n",
       "  'generous',\n",
       "  'gesture',\n",
       "  'gilbert',\n",
       "  'global',\n",
       "  'government',\n",
       "  'group',\n",
       "  'growing',\n",
       "  'gsai',\n",
       "  'happened',\n",
       "  'hard',\n",
       "  'harder',\n",
       "  'haul',\n",
       "  'help',\n",
       "  'humanoid',\n",
       "  'hurting',\n",
       "  'ikea',\n",
       "  'implements',\n",
       "  'inc',\n",
       "  'incendiary',\n",
       "  'incorporated',\n",
       "  'india',\n",
       "  'industrial',\n",
       "  'investors',\n",
       "  'ioniq',\n",
       "  'iql',\n",
       "  'joke',\n",
       "  'jr',\n",
       "  'juicebox',\n",
       "  'keep',\n",
       "  'launches',\n",
       "  'lease',\n",
       "  'level',\n",
       "  'limited',\n",
       "  'london',\n",
       "  'lowest',\n",
       "  'maher',\n",
       "  'makes',\n",
       "  'march',\n",
       "  'marco',\n",
       "  'market',\n",
       "  'massachusetts',\n",
       "  'massive',\n",
       "  'means',\n",
       "  'memphis',\n",
       "  'million',\n",
       "  'mini',\n",
       "  'month',\n",
       "  'monthsdespite',\n",
       "  'mount',\n",
       "  'msnbc',\n",
       "  'musk',\n",
       "  'musks',\n",
       "  'nasdaqanss',\n",
       "  'nasdaqcdns',\n",
       "  'nasdaqtsla',\n",
       "  'nasdaqwba',\n",
       "  'nasdaqwtw',\n",
       "  'net',\n",
       "  'new',\n",
       "  'nissan',\n",
       "  'northern',\n",
       "  'nowcanceled',\n",
       "  'numbers',\n",
       "  'nysedhr',\n",
       "  'nysepfe',\n",
       "  'nyseunh',\n",
       "  'odious',\n",
       "  'office',\n",
       "  'official',\n",
       "  'optimism',\n",
       "  'outperforms',\n",
       "  'parenting',\n",
       "  'perfume',\n",
       "  'pfizer',\n",
       "  'physical',\n",
       "  'pickup',\n",
       "  'plan',\n",
       "  'plasters',\n",
       "  'podcast',\n",
       "  'police',\n",
       "  'postelection',\n",
       "  'pour',\n",
       "  'property',\n",
       "  'protests',\n",
       "  'public',\n",
       "  'punchline',\n",
       "  'purchases',\n",
       "  'put',\n",
       "  'puts',\n",
       "  'questions',\n",
       "  'rallies',\n",
       "  'ray',\n",
       "  'real',\n",
       "  'really',\n",
       "  'refuses',\n",
       "  'rein',\n",
       "  'reining',\n",
       "  'rep',\n",
       "  'replacing',\n",
       "  'replies',\n",
       "  'report',\n",
       "  'reported',\n",
       "  'resale',\n",
       "  'respond',\n",
       "  'responds',\n",
       "  'responsibility',\n",
       "  'rivals',\n",
       "  'rubio',\n",
       "  'sales',\n",
       "  'say',\n",
       "  'science',\n",
       "  'secretaries',\n",
       "  'see',\n",
       "  'sells',\n",
       "  'sets',\n",
       "  'shares',\n",
       "  'shipping',\n",
       "  'shocking',\n",
       "  'show',\n",
       "  'showdown',\n",
       "  'since',\n",
       "  'size',\n",
       "  'slash',\n",
       "  'source',\n",
       "  'spacex',\n",
       "  'spending',\n",
       "  'stand',\n",
       "  'starlink',\n",
       "  'station',\n",
       "  'stock',\n",
       "  'stocks',\n",
       "  'store',\n",
       "  'street',\n",
       "  'stricken',\n",
       "  'striking',\n",
       "  'su',\n",
       "  'success',\n",
       "  'suffer',\n",
       "  'suggests',\n",
       "  'supercomputer',\n",
       "  'supposed',\n",
       "  'swift',\n",
       "  'swipe',\n",
       "  'systems',\n",
       "  'takes',\n",
       "  'tanking',\n",
       "  'tanks',\n",
       "  'target',\n",
       "  'tariff',\n",
       "  'tariffs',\n",
       "  'taylor',\n",
       "  'team',\n",
       "  'tesla',\n",
       "  'teslas',\n",
       "  'th',\n",
       "  'threat',\n",
       "  'time',\n",
       "  'times',\n",
       "  'today',\n",
       "  'top',\n",
       "  'towards',\n",
       "  'towers',\n",
       "  'track',\n",
       "  'traders',\n",
       "  'traffic',\n",
       "  'tried',\n",
       "  'troubling',\n",
       "  'trump',\n",
       "  'trumps',\n",
       "  'turning',\n",
       "  'uchida',\n",
       "  'ultra',\n",
       "  'undercut',\n",
       "  'unitedhealth',\n",
       "  'unloaded',\n",
       "  'unveils',\n",
       "  'us',\n",
       "  'v',\n",
       "  'vanish',\n",
       "  'vehicle',\n",
       "  'victory',\n",
       "  'volkswagen',\n",
       "  'volvo',\n",
       "  'vs',\n",
       "  'walgreens',\n",
       "  'wall',\n",
       "  'wankers',\n",
       "  'washington',\n",
       "  'watch',\n",
       "  'watching',\n",
       "  'watson',\n",
       "  'way',\n",
       "  'website',\n",
       "  'week',\n",
       "  'went',\n",
       "  'willis',\n",
       "  'workers',\n",
       "  'workforce',\n",
       "  'worries',\n",
       "  'worst',\n",
       "  'worth',\n",
       "  'x',\n",
       "  'xai',\n",
       "  'xiaomi',\n",
       "  'xiaomis',\n",
       "  'year',\n",
       "  'young',\n",
       "  'youre',\n",
       "  'zero'])"
      ]
     },
     "execution_count": 39,
     "metadata": {},
     "output_type": "execute_result"
    }
   ],
   "source": [
    "word_pairs,vocab"
   ]
  },
  {
   "cell_type": "code",
   "execution_count": 40,
   "metadata": {},
   "outputs": [],
   "source": [
    "model =SkipGramModel(vocab_size=len(vocab),embedding_dim=300)"
   ]
  },
  {
   "cell_type": "code",
   "execution_count": 63,
   "metadata": {},
   "outputs": [],
   "source": [
    "import numpy as np\n",
    "import random\n",
    "import matplotlib.pyplot as plt\n",
    "from sklearn.manifold import TSNE\n",
    "\n",
    "def plot_embeddings_tsne(embeddings, words_to_plot=None, max_display=10):\n",
    "    # Pilih embedding yang akan diplot\n",
    "    if words_to_plot:\n",
    "        selected_embeddings = {word: embeddings[word] for word in words_to_plot if word in embeddings}\n",
    "    else:\n",
    "        selected_embeddings = embeddings\n",
    "\n",
    "    total_words = len(selected_embeddings)\n",
    "    \n",
    "    # Jika jumlah kata melebihi batas max_display, ambil sampel acak\n",
    "    if total_words > max_display:\n",
    "        sampled_items = random.sample(list(selected_embeddings.items()), max_display)\n",
    "        selected_embeddings = dict(sampled_items)\n",
    "        total_words = len(selected_embeddings)\n",
    "    \n",
    "    # Ambil daftar kata dan susun vektor embedding dalam array\n",
    "    words = list(selected_embeddings.keys())\n",
    "    vectors = np.array([selected_embeddings[word] for word in words])\n",
    "    perplexity_value = min(30, total_words - 1)\n",
    "    tsne = TSNE(n_components=2, perplexity=perplexity_value, random_state=42)\n",
    "    reduced_vectors = tsne.fit_transform(vectors)\n",
    "    plt.figure(figsize=(10, 10))\n",
    "    plt.scatter(reduced_vectors[:, 0], reduced_vectors[:, 1], edgecolors='k', c='r')\n",
    "    for i, word in enumerate(words):\n",
    "        plt.annotate(word, (reduced_vectors[i, 0], reduced_vectors[i, 1]),\n",
    "                     textcoords=\"offset points\", xytext=(5, 2), ha=\"right\", fontsize=9)\n",
    "    plt.title(f'Visualisasi Word Embeddings dengan t-SNE (Menampilkan {len(words)}  kata)')\n",
    "    plt.xlabel('Dimensi 1')\n",
    "    plt.ylabel('Dimensi 2')\n",
    "    plt.grid(True)\n",
    "    plt.show()\n",
    "\n",
    "\n",
    "    \n",
    "def compute_cosine_similarity(embeddings):\n",
    "    words = list(embeddings.keys())\n",
    "    vectors = np.array([embeddings[word] for word in words])\n",
    "    similarity_matrix = cosine_similarity(vectors)\n",
    "    similarity_df = pd.DataFrame(similarity_matrix, index=words, columns=words)\n",
    "    return similarity_df\n",
    "def get_all_similarity_lists(similarity_df, word, top_n=5):\n",
    "\n",
    "    if word not in similarity_df.columns:\n",
    "        raise ValueError(f\"Word '{word}' not found in similarity matrix.\")\n",
    "    similarities = similarity_df[word].drop(labels=[word])\n",
    "    sorted_desc = similarities.sort_values(ascending=False)\n",
    "    top_similar = sorted_desc.head(top_n)\n",
    "    sorted_asc = similarities.sort_values(ascending=True)\n",
    "    top_dissimilar = sorted_asc.head(top_n)\n",
    "    negative_similarities = similarities[similarities < 0]\n",
    "    if negative_similarities.empty:\n",
    "        top_negative = []\n",
    "    else:\n",
    "        top_negative = negative_similarities.sort_values(ascending=True).head(top_n)\n",
    "    return {\n",
    "        \"similar\": list(zip(top_similar.index, top_similar.values)),\n",
    "        \"dissimilar\": list(zip(top_dissimilar.index, top_dissimilar.values)),\n",
    "        \"negative\": list(zip(top_negative.index, top_negative.values))\n",
    "    }\n",
    "\n",
    "\n",
    "def extract_embeddings(model, word2idx):\n",
    "    embeddings = {}\n",
    "    for word, idx in word2idx.items():\n",
    "        embeddings[word] = model.W1[idx]\n",
    "    return embeddings\n",
    "\n",
    "\n"
   ]
  },
  {
   "cell_type": "code",
   "execution_count": 42,
   "metadata": {},
   "outputs": [],
   "source": [
    "def train(vocab, training_pairs, epochs, learning_rate=0.01):\n",
    "    # Membuat kamus (dictionary) yang memetakan setiap kata ke indeks unik berdasarkan vocab\n",
    "    word2idx = {word: idx for idx, word in enumerate(vocab)}\n",
    "    # Membuat instance dari SkipGramModel dengan ukuran vocabulary dan dimensi embedding  \"lookup table\" 20 dimensi\n",
    "    model = SkipGramModel(vocab_size=len(vocab), embedding_dim=20)  \n",
    "    # Menyimpan history loss per epoch\n",
    "    loss_history = []\n",
    "    # Pastikan training_pairs berbentuk list agar dapat diiterasi dengan benar\n",
    "    if not isinstance(training_pairs, list):\n",
    "        training_pairs = list(training_pairs)\n",
    "    # Mendapatkan total jumlah pasangan training\n",
    "    total_pairs = len(training_pairs)\n",
    "    # Melakukan iterasi untuk setiap epoch\n",
    "    for epoch in range(1, epochs + 1):\n",
    "        total_loss = 0  # Reset total loss pada awal setiap epoch\n",
    "        \n",
    "        # Menggunakan tqdm untuk menampilkan progress bar selama epoch\n",
    "        with tqdm(total=total_pairs, desc=f\"Epoch {epoch}/{epochs}\", unit=\"pair\") as pbar:\n",
    "            # Iterasi setiap pasangan (target_word, context_word) pada training_pairs\n",
    "            for i, (target_word, context_word) in enumerate(training_pairs, start=1):\n",
    "                # Membuat one-hot encoding untuk kata target\n",
    "                target_vector = np.zeros(len(vocab))  # Membuat vector dengan panjang sama dengan vocab\n",
    "                target_vector[word2idx[target_word]] = 1  # Set indeks kata target menjadi 1\n",
    "                # Membuat one-hot encoding untuk kata konteks\n",
    "                context_vector = np.zeros(len(vocab))\n",
    "                context_vector[word2idx[context_word]] = 1  # Set indeks kata konteks menjadi 1\n",
    "                # Melakukan forward propagation melalui model dengan one-hot vector target\n",
    "                hidden, output = model.forward(target_vector)\n",
    "                # Menambahkan nilai kecil untuk menghindari log(0)\n",
    "                epsilon = 1e-10 \n",
    "                # Menghitung loss menggunakan negative log likelihood untuk probabilitas kata konteks\n",
    "                loss = -np.log(output[word2idx[context_word]] + epsilon)\n",
    "                # Melakukan backward propagation untuk update bobot model\n",
    "                model.backward(target_vector, context_vector, learning_rate=learning_rate)\n",
    "                # Menambahkan loss dari pasangan ini ke total loss epoch\n",
    "                total_loss += loss\n",
    "                # Update progress bar setiap 20 pasangan\n",
    "                if i % 20 == 0:\n",
    "                    pbar.update(20)  \n",
    "                    pbar.set_postfix(loss=loss)\n",
    "            # Jika total pasangan tidak habis dibagi 20, update sisa pasangan\n",
    "            remainder = total_pairs % 20\n",
    "            if remainder != 0:\n",
    "                pbar.update(remainder)\n",
    "                pbar.set_postfix(loss=loss)\n",
    "        \n",
    "        # Menghitung rata-rata loss per pasangan untuk epoch ini\n",
    "        average_loss = total_loss / total_pairs\n",
    "        loss_history.append(average_loss)\n",
    "        print(f\"Epoch {epoch}/{epochs}, Average Loss: {average_loss:.6f}\")\n",
    "    \n",
    "    # Plot grafik training loss per epoch\n",
    "    plt.figure(figsize=(10, 5))\n",
    "    plt.plot(range(1, epochs + 1), loss_history, marker='o')\n",
    "    plt.title('Training Loss over Epochs')\n",
    "    plt.xlabel('Epoch')\n",
    "    plt.ylabel('Average Loss')\n",
    "    plt.grid(True)\n",
    "    plt.show()\n",
    "    \n",
    "    # Mengembalikan model yang telah dilatih beserta mapping word-to-index\n",
    "    return model, word2idx\n"
   ]
  },
  {
   "cell_type": "code",
   "execution_count": 43,
   "metadata": {},
   "outputs": [
    {
     "name": "stderr",
     "output_type": "stream",
     "text": [
      "Epoch 1/100: 100%|██████████| 1032/1032 [00:00<00:00, 10158.23pair/s, loss=5.78]\n"
     ]
    },
    {
     "name": "stdout",
     "output_type": "stream",
     "text": [
      "Epoch 1/100, Average Loss: 5.780669\n"
     ]
    },
    {
     "name": "stderr",
     "output_type": "stream",
     "text": [
      "Epoch 2/100: 100%|██████████| 1032/1032 [00:00<00:00, 13194.86pair/s, loss=5.78]\n"
     ]
    },
    {
     "name": "stdout",
     "output_type": "stream",
     "text": [
      "Epoch 2/100, Average Loss: 5.779866\n"
     ]
    },
    {
     "name": "stderr",
     "output_type": "stream",
     "text": [
      "Epoch 3/100: 100%|██████████| 1032/1032 [00:00<00:00, 11238.04pair/s, loss=5.78]\n"
     ]
    },
    {
     "name": "stdout",
     "output_type": "stream",
     "text": [
      "Epoch 3/100, Average Loss: 5.772797\n"
     ]
    },
    {
     "name": "stderr",
     "output_type": "stream",
     "text": [
      "Epoch 4/100: 100%|██████████| 1032/1032 [00:00<00:00, 13450.38pair/s, loss=5.78]\n"
     ]
    },
    {
     "name": "stdout",
     "output_type": "stream",
     "text": [
      "Epoch 4/100, Average Loss: 5.694370\n"
     ]
    },
    {
     "name": "stderr",
     "output_type": "stream",
     "text": [
      "Epoch 5/100: 100%|██████████| 1032/1032 [00:00<00:00, 11940.16pair/s, loss=5.78]\n"
     ]
    },
    {
     "name": "stdout",
     "output_type": "stream",
     "text": [
      "Epoch 5/100, Average Loss: 5.457691\n"
     ]
    },
    {
     "name": "stderr",
     "output_type": "stream",
     "text": [
      "Epoch 6/100: 100%|██████████| 1032/1032 [00:00<00:00, 11394.38pair/s, loss=5.78]\n"
     ]
    },
    {
     "name": "stdout",
     "output_type": "stream",
     "text": [
      "Epoch 6/100, Average Loss: 5.253898\n"
     ]
    },
    {
     "name": "stderr",
     "output_type": "stream",
     "text": [
      "Epoch 7/100: 100%|██████████| 1032/1032 [00:00<00:00, 13768.61pair/s, loss=5.78]\n"
     ]
    },
    {
     "name": "stdout",
     "output_type": "stream",
     "text": [
      "Epoch 7/100, Average Loss: 5.022366\n"
     ]
    },
    {
     "name": "stderr",
     "output_type": "stream",
     "text": [
      "Epoch 8/100: 100%|██████████| 1032/1032 [00:00<00:00, 11347.34pair/s, loss=5.78]\n"
     ]
    },
    {
     "name": "stdout",
     "output_type": "stream",
     "text": [
      "Epoch 8/100, Average Loss: 4.759136\n"
     ]
    },
    {
     "name": "stderr",
     "output_type": "stream",
     "text": [
      "Epoch 9/100: 100%|██████████| 1032/1032 [00:00<00:00, 12966.56pair/s, loss=5.77]\n"
     ]
    },
    {
     "name": "stdout",
     "output_type": "stream",
     "text": [
      "Epoch 9/100, Average Loss: 4.511938\n"
     ]
    },
    {
     "name": "stderr",
     "output_type": "stream",
     "text": [
      "Epoch 10/100: 100%|██████████| 1032/1032 [00:00<00:00, 9654.64pair/s, loss=5.77] \n"
     ]
    },
    {
     "name": "stdout",
     "output_type": "stream",
     "text": [
      "Epoch 10/100, Average Loss: 4.295631\n"
     ]
    },
    {
     "name": "stderr",
     "output_type": "stream",
     "text": [
      "Epoch 11/100: 100%|██████████| 1032/1032 [00:00<00:00, 11572.10pair/s, loss=5.76]\n"
     ]
    },
    {
     "name": "stdout",
     "output_type": "stream",
     "text": [
      "Epoch 11/100, Average Loss: 4.086470\n"
     ]
    },
    {
     "name": "stderr",
     "output_type": "stream",
     "text": [
      "Epoch 12/100: 100%|██████████| 1032/1032 [00:00<00:00, 10100.22pair/s, loss=5.76]\n"
     ]
    },
    {
     "name": "stdout",
     "output_type": "stream",
     "text": [
      "Epoch 12/100, Average Loss: 3.878201\n"
     ]
    },
    {
     "name": "stderr",
     "output_type": "stream",
     "text": [
      "Epoch 13/100: 100%|██████████| 1032/1032 [00:00<00:00, 13237.80pair/s, loss=5.75]\n"
     ]
    },
    {
     "name": "stdout",
     "output_type": "stream",
     "text": [
      "Epoch 13/100, Average Loss: 3.657198\n"
     ]
    },
    {
     "name": "stderr",
     "output_type": "stream",
     "text": [
      "Epoch 14/100: 100%|██████████| 1032/1032 [00:00<00:00, 11540.23pair/s, loss=5.74]\n"
     ]
    },
    {
     "name": "stdout",
     "output_type": "stream",
     "text": [
      "Epoch 14/100, Average Loss: 3.444718\n"
     ]
    },
    {
     "name": "stderr",
     "output_type": "stream",
     "text": [
      "Epoch 15/100: 100%|██████████| 1032/1032 [00:00<00:00, 12001.37pair/s, loss=5.73]\n"
     ]
    },
    {
     "name": "stdout",
     "output_type": "stream",
     "text": [
      "Epoch 15/100, Average Loss: 3.265745\n"
     ]
    },
    {
     "name": "stderr",
     "output_type": "stream",
     "text": [
      "Epoch 16/100: 100%|██████████| 1032/1032 [00:00<00:00, 9798.22pair/s, loss=5.71] \n"
     ]
    },
    {
     "name": "stdout",
     "output_type": "stream",
     "text": [
      "Epoch 16/100, Average Loss: 3.120262\n"
     ]
    },
    {
     "name": "stderr",
     "output_type": "stream",
     "text": [
      "Epoch 17/100: 100%|██████████| 1032/1032 [00:00<00:00, 10949.88pair/s, loss=5.7] \n"
     ]
    },
    {
     "name": "stdout",
     "output_type": "stream",
     "text": [
      "Epoch 17/100, Average Loss: 2.997871\n"
     ]
    },
    {
     "name": "stderr",
     "output_type": "stream",
     "text": [
      "Epoch 18/100: 100%|██████████| 1032/1032 [00:00<00:00, 11724.53pair/s, loss=5.67]\n"
     ]
    },
    {
     "name": "stdout",
     "output_type": "stream",
     "text": [
      "Epoch 18/100, Average Loss: 2.890222\n"
     ]
    },
    {
     "name": "stderr",
     "output_type": "stream",
     "text": [
      "Epoch 19/100: 100%|██████████| 1032/1032 [00:00<00:00, 13759.47pair/s, loss=5.65]\n"
     ]
    },
    {
     "name": "stdout",
     "output_type": "stream",
     "text": [
      "Epoch 19/100, Average Loss: 2.793076\n"
     ]
    },
    {
     "name": "stderr",
     "output_type": "stream",
     "text": [
      "Epoch 20/100: 100%|██████████| 1032/1032 [00:00<00:00, 11877.38pair/s, loss=5.61]\n"
     ]
    },
    {
     "name": "stdout",
     "output_type": "stream",
     "text": [
      "Epoch 20/100, Average Loss: 2.703394\n"
     ]
    },
    {
     "name": "stderr",
     "output_type": "stream",
     "text": [
      "Epoch 21/100: 100%|██████████| 1032/1032 [00:00<00:00, 12186.77pair/s, loss=5.56]\n"
     ]
    },
    {
     "name": "stdout",
     "output_type": "stream",
     "text": [
      "Epoch 21/100, Average Loss: 2.618968\n"
     ]
    },
    {
     "name": "stderr",
     "output_type": "stream",
     "text": [
      "Epoch 22/100: 100%|██████████| 1032/1032 [00:00<00:00, 11565.45pair/s, loss=5.5]  \n"
     ]
    },
    {
     "name": "stdout",
     "output_type": "stream",
     "text": [
      "Epoch 22/100, Average Loss: 2.538753\n"
     ]
    },
    {
     "name": "stderr",
     "output_type": "stream",
     "text": [
      "Epoch 23/100: 100%|██████████| 1032/1032 [00:00<00:00, 12756.01pair/s, loss=5.43] \n"
     ]
    },
    {
     "name": "stdout",
     "output_type": "stream",
     "text": [
      "Epoch 23/100, Average Loss: 2.462056\n"
     ]
    },
    {
     "name": "stderr",
     "output_type": "stream",
     "text": [
      "Epoch 24/100: 100%|██████████| 1032/1032 [00:00<00:00, 11885.44pair/s, loss=5.33] \n"
     ]
    },
    {
     "name": "stdout",
     "output_type": "stream",
     "text": [
      "Epoch 24/100, Average Loss: 2.387456\n"
     ]
    },
    {
     "name": "stderr",
     "output_type": "stream",
     "text": [
      "Epoch 25/100: 100%|██████████| 1032/1032 [00:00<00:00, 13796.09pair/s, loss=5.21] \n"
     ]
    },
    {
     "name": "stdout",
     "output_type": "stream",
     "text": [
      "Epoch 25/100, Average Loss: 2.313502\n"
     ]
    },
    {
     "name": "stderr",
     "output_type": "stream",
     "text": [
      "Epoch 26/100: 100%|██████████| 1032/1032 [00:00<00:00, 11711.91pair/s, loss=5.05] \n"
     ]
    },
    {
     "name": "stdout",
     "output_type": "stream",
     "text": [
      "Epoch 26/100, Average Loss: 2.239713\n"
     ]
    },
    {
     "name": "stderr",
     "output_type": "stream",
     "text": [
      "Epoch 27/100: 100%|██████████| 1032/1032 [00:00<00:00, 13209.40pair/s, loss=4.85] \n"
     ]
    },
    {
     "name": "stdout",
     "output_type": "stream",
     "text": [
      "Epoch 27/100, Average Loss: 2.166659\n"
     ]
    },
    {
     "name": "stderr",
     "output_type": "stream",
     "text": [
      "Epoch 28/100: 100%|██████████| 1032/1032 [00:00<00:00, 11816.26pair/s, loss=4.59] \n"
     ]
    },
    {
     "name": "stdout",
     "output_type": "stream",
     "text": [
      "Epoch 28/100, Average Loss: 2.095069\n"
     ]
    },
    {
     "name": "stderr",
     "output_type": "stream",
     "text": [
      "Epoch 29/100: 100%|██████████| 1032/1032 [00:00<00:00, 10423.12pair/s, loss=4.27] \n"
     ]
    },
    {
     "name": "stdout",
     "output_type": "stream",
     "text": [
      "Epoch 29/100, Average Loss: 2.025856\n"
     ]
    },
    {
     "name": "stderr",
     "output_type": "stream",
     "text": [
      "Epoch 30/100: 100%|██████████| 1032/1032 [00:00<00:00, 12071.49pair/s, loss=3.87] \n"
     ]
    },
    {
     "name": "stdout",
     "output_type": "stream",
     "text": [
      "Epoch 30/100, Average Loss: 1.961129\n"
     ]
    },
    {
     "name": "stderr",
     "output_type": "stream",
     "text": [
      "Epoch 31/100: 100%|██████████| 1032/1032 [00:00<00:00, 12357.25pair/s, loss=3.4]  \n"
     ]
    },
    {
     "name": "stdout",
     "output_type": "stream",
     "text": [
      "Epoch 31/100, Average Loss: 1.902917\n"
     ]
    },
    {
     "name": "stderr",
     "output_type": "stream",
     "text": [
      "Epoch 32/100: 100%|██████████| 1032/1032 [00:00<00:00, 10648.58pair/s, loss=2.88] \n"
     ]
    },
    {
     "name": "stdout",
     "output_type": "stream",
     "text": [
      "Epoch 32/100, Average Loss: 1.852207\n"
     ]
    },
    {
     "name": "stderr",
     "output_type": "stream",
     "text": [
      "Epoch 33/100: 100%|██████████| 1032/1032 [00:00<00:00, 10849.59pair/s, loss=2.34] \n"
     ]
    },
    {
     "name": "stdout",
     "output_type": "stream",
     "text": [
      "Epoch 33/100, Average Loss: 1.809663\n"
     ]
    },
    {
     "name": "stderr",
     "output_type": "stream",
     "text": [
      "Epoch 34/100: 100%|██████████| 1032/1032 [00:00<00:00, 11938.64pair/s, loss=1.85] \n"
     ]
    },
    {
     "name": "stdout",
     "output_type": "stream",
     "text": [
      "Epoch 34/100, Average Loss: 1.775210\n"
     ]
    },
    {
     "name": "stderr",
     "output_type": "stream",
     "text": [
      "Epoch 35/100: 100%|██████████| 1032/1032 [00:00<00:00, 11648.62pair/s, loss=1.45] \n"
     ]
    },
    {
     "name": "stdout",
     "output_type": "stream",
     "text": [
      "Epoch 35/100, Average Loss: 1.747758\n"
     ]
    },
    {
     "name": "stderr",
     "output_type": "stream",
     "text": [
      "Epoch 36/100: 100%|██████████| 1032/1032 [00:00<00:00, 13490.16pair/s, loss=1.15] \n"
     ]
    },
    {
     "name": "stdout",
     "output_type": "stream",
     "text": [
      "Epoch 36/100, Average Loss: 1.725800\n"
     ]
    },
    {
     "name": "stderr",
     "output_type": "stream",
     "text": [
      "Epoch 37/100: 100%|██████████| 1032/1032 [00:00<00:00, 11510.31pair/s, loss=0.935]\n"
     ]
    },
    {
     "name": "stdout",
     "output_type": "stream",
     "text": [
      "Epoch 37/100, Average Loss: 1.708056\n"
     ]
    },
    {
     "name": "stderr",
     "output_type": "stream",
     "text": [
      "Epoch 38/100: 100%|██████████| 1032/1032 [00:00<00:00, 12427.14pair/s, loss=0.776]\n"
     ]
    },
    {
     "name": "stdout",
     "output_type": "stream",
     "text": [
      "Epoch 38/100, Average Loss: 1.693671\n"
     ]
    },
    {
     "name": "stderr",
     "output_type": "stream",
     "text": [
      "Epoch 39/100: 100%|██████████| 1032/1032 [00:00<00:00, 9611.35pair/s, loss=0.657] \n"
     ]
    },
    {
     "name": "stdout",
     "output_type": "stream",
     "text": [
      "Epoch 39/100, Average Loss: 1.682087\n"
     ]
    },
    {
     "name": "stderr",
     "output_type": "stream",
     "text": [
      "Epoch 40/100: 100%|██████████| 1032/1032 [00:00<00:00, 11586.91pair/s, loss=0.566]\n"
     ]
    },
    {
     "name": "stdout",
     "output_type": "stream",
     "text": [
      "Epoch 40/100, Average Loss: 1.672865\n"
     ]
    },
    {
     "name": "stderr",
     "output_type": "stream",
     "text": [
      "Epoch 41/100: 100%|██████████| 1032/1032 [00:00<00:00, 11542.20pair/s, loss=0.493]\n"
     ]
    },
    {
     "name": "stdout",
     "output_type": "stream",
     "text": [
      "Epoch 41/100, Average Loss: 1.665623\n"
     ]
    },
    {
     "name": "stderr",
     "output_type": "stream",
     "text": [
      "Epoch 42/100: 100%|██████████| 1032/1032 [00:00<00:00, 12996.65pair/s, loss=0.435]\n"
     ]
    },
    {
     "name": "stdout",
     "output_type": "stream",
     "text": [
      "Epoch 42/100, Average Loss: 1.659972\n"
     ]
    },
    {
     "name": "stderr",
     "output_type": "stream",
     "text": [
      "Epoch 43/100: 100%|██████████| 1032/1032 [00:00<00:00, 11489.69pair/s, loss=0.386]\n"
     ]
    },
    {
     "name": "stdout",
     "output_type": "stream",
     "text": [
      "Epoch 43/100, Average Loss: 1.655581\n"
     ]
    },
    {
     "name": "stderr",
     "output_type": "stream",
     "text": [
      "Epoch 44/100: 100%|██████████| 1032/1032 [00:00<00:00, 13146.65pair/s, loss=0.346]\n"
     ]
    },
    {
     "name": "stdout",
     "output_type": "stream",
     "text": [
      "Epoch 44/100, Average Loss: 1.652139\n"
     ]
    },
    {
     "name": "stderr",
     "output_type": "stream",
     "text": [
      "Epoch 45/100: 100%|██████████| 1032/1032 [00:00<00:00, 11980.51pair/s, loss=0.312]\n"
     ]
    },
    {
     "name": "stdout",
     "output_type": "stream",
     "text": [
      "Epoch 45/100, Average Loss: 1.649445\n"
     ]
    },
    {
     "name": "stderr",
     "output_type": "stream",
     "text": [
      "Epoch 46/100: 100%|██████████| 1032/1032 [00:00<00:00, 13437.98pair/s, loss=0.284]\n"
     ]
    },
    {
     "name": "stdout",
     "output_type": "stream",
     "text": [
      "Epoch 46/100, Average Loss: 1.647389\n"
     ]
    },
    {
     "name": "stderr",
     "output_type": "stream",
     "text": [
      "Epoch 47/100: 100%|██████████| 1032/1032 [00:00<00:00, 10496.72pair/s, loss=0.259]\n"
     ]
    },
    {
     "name": "stdout",
     "output_type": "stream",
     "text": [
      "Epoch 47/100, Average Loss: 1.645866\n"
     ]
    },
    {
     "name": "stderr",
     "output_type": "stream",
     "text": [
      "Epoch 48/100: 100%|██████████| 1032/1032 [00:00<00:00, 12673.73pair/s, loss=0.238]\n"
     ]
    },
    {
     "name": "stdout",
     "output_type": "stream",
     "text": [
      "Epoch 48/100, Average Loss: 1.644775\n"
     ]
    },
    {
     "name": "stderr",
     "output_type": "stream",
     "text": [
      "Epoch 49/100: 100%|██████████| 1032/1032 [00:00<00:00, 10842.07pair/s, loss=0.22] \n"
     ]
    },
    {
     "name": "stdout",
     "output_type": "stream",
     "text": [
      "Epoch 49/100, Average Loss: 1.644063\n"
     ]
    },
    {
     "name": "stderr",
     "output_type": "stream",
     "text": [
      "Epoch 50/100: 100%|██████████| 1032/1032 [00:00<00:00, 13511.85pair/s, loss=0.204]\n"
     ]
    },
    {
     "name": "stdout",
     "output_type": "stream",
     "text": [
      "Epoch 50/100, Average Loss: 1.643667\n"
     ]
    },
    {
     "name": "stderr",
     "output_type": "stream",
     "text": [
      "Epoch 51/100: 100%|██████████| 1032/1032 [00:00<00:00, 12297.95pair/s, loss=0.19] \n"
     ]
    },
    {
     "name": "stdout",
     "output_type": "stream",
     "text": [
      "Epoch 51/100, Average Loss: 1.643525\n"
     ]
    },
    {
     "name": "stderr",
     "output_type": "stream",
     "text": [
      "Epoch 52/100: 100%|██████████| 1032/1032 [00:00<00:00, 11410.51pair/s, loss=0.177]\n"
     ]
    },
    {
     "name": "stdout",
     "output_type": "stream",
     "text": [
      "Epoch 52/100, Average Loss: 1.643590\n"
     ]
    },
    {
     "name": "stderr",
     "output_type": "stream",
     "text": [
      "Epoch 53/100: 100%|██████████| 1032/1032 [00:00<00:00, 11961.80pair/s, loss=0.167]\n"
     ]
    },
    {
     "name": "stdout",
     "output_type": "stream",
     "text": [
      "Epoch 53/100, Average Loss: 1.643841\n"
     ]
    },
    {
     "name": "stderr",
     "output_type": "stream",
     "text": [
      "Epoch 54/100: 100%|██████████| 1032/1032 [00:00<00:00, 12555.36pair/s, loss=0.157]\n"
     ]
    },
    {
     "name": "stdout",
     "output_type": "stream",
     "text": [
      "Epoch 54/100, Average Loss: 1.644216\n"
     ]
    },
    {
     "name": "stderr",
     "output_type": "stream",
     "text": [
      "Epoch 55/100: 100%|██████████| 1032/1032 [00:00<00:00, 12115.65pair/s, loss=0.148]\n"
     ]
    },
    {
     "name": "stdout",
     "output_type": "stream",
     "text": [
      "Epoch 55/100, Average Loss: 1.644633\n"
     ]
    },
    {
     "name": "stderr",
     "output_type": "stream",
     "text": [
      "Epoch 56/100: 100%|██████████| 1032/1032 [00:00<00:00, 11923.32pair/s, loss=0.14] \n"
     ]
    },
    {
     "name": "stdout",
     "output_type": "stream",
     "text": [
      "Epoch 56/100, Average Loss: 1.645062\n"
     ]
    },
    {
     "name": "stderr",
     "output_type": "stream",
     "text": [
      "Epoch 57/100: 100%|██████████| 1032/1032 [00:00<00:00, 12890.45pair/s, loss=0.133]\n"
     ]
    },
    {
     "name": "stdout",
     "output_type": "stream",
     "text": [
      "Epoch 57/100, Average Loss: 1.645563\n"
     ]
    },
    {
     "name": "stderr",
     "output_type": "stream",
     "text": [
      "Epoch 58/100: 100%|██████████| 1032/1032 [00:00<00:00, 9633.75pair/s, loss=0.127]\n"
     ]
    },
    {
     "name": "stdout",
     "output_type": "stream",
     "text": [
      "Epoch 58/100, Average Loss: 1.646161\n"
     ]
    },
    {
     "name": "stderr",
     "output_type": "stream",
     "text": [
      "Epoch 59/100: 100%|██████████| 1032/1032 [00:00<00:00, 12521.90pair/s, loss=0.121]\n"
     ]
    },
    {
     "name": "stdout",
     "output_type": "stream",
     "text": [
      "Epoch 59/100, Average Loss: 1.646813\n"
     ]
    },
    {
     "name": "stderr",
     "output_type": "stream",
     "text": [
      "Epoch 60/100: 100%|██████████| 1032/1032 [00:00<00:00, 10060.88pair/s, loss=0.116]\n"
     ]
    },
    {
     "name": "stdout",
     "output_type": "stream",
     "text": [
      "Epoch 60/100, Average Loss: 1.647483\n"
     ]
    },
    {
     "name": "stderr",
     "output_type": "stream",
     "text": [
      "Epoch 61/100: 100%|██████████| 1032/1032 [00:00<00:00, 12691.71pair/s, loss=0.111]\n"
     ]
    },
    {
     "name": "stdout",
     "output_type": "stream",
     "text": [
      "Epoch 61/100, Average Loss: 1.648187\n"
     ]
    },
    {
     "name": "stderr",
     "output_type": "stream",
     "text": [
      "Epoch 62/100: 100%|██████████| 1032/1032 [00:00<00:00, 12104.06pair/s, loss=0.106]\n"
     ]
    },
    {
     "name": "stdout",
     "output_type": "stream",
     "text": [
      "Epoch 62/100, Average Loss: 1.648945\n"
     ]
    },
    {
     "name": "stderr",
     "output_type": "stream",
     "text": [
      "Epoch 63/100: 100%|██████████| 1032/1032 [00:00<00:00, 10046.07pair/s, loss=0.102]\n"
     ]
    },
    {
     "name": "stdout",
     "output_type": "stream",
     "text": [
      "Epoch 63/100, Average Loss: 1.649778\n"
     ]
    },
    {
     "name": "stderr",
     "output_type": "stream",
     "text": [
      "Epoch 64/100: 100%|██████████| 1032/1032 [00:00<00:00, 13109.78pair/s, loss=0.0982]\n"
     ]
    },
    {
     "name": "stdout",
     "output_type": "stream",
     "text": [
      "Epoch 64/100, Average Loss: 1.650686\n"
     ]
    },
    {
     "name": "stderr",
     "output_type": "stream",
     "text": [
      "Epoch 65/100: 100%|██████████| 1032/1032 [00:00<00:00, 12281.27pair/s, loss=0.0947]\n"
     ]
    },
    {
     "name": "stdout",
     "output_type": "stream",
     "text": [
      "Epoch 65/100, Average Loss: 1.651698\n"
     ]
    },
    {
     "name": "stderr",
     "output_type": "stream",
     "text": [
      "Epoch 66/100: 100%|██████████| 1032/1032 [00:00<00:00, 13650.98pair/s, loss=0.0915]\n"
     ]
    },
    {
     "name": "stdout",
     "output_type": "stream",
     "text": [
      "Epoch 66/100, Average Loss: 1.652834\n"
     ]
    },
    {
     "name": "stderr",
     "output_type": "stream",
     "text": [
      "Epoch 67/100: 100%|██████████| 1032/1032 [00:00<00:00, 11654.77pair/s, loss=0.0884]\n"
     ]
    },
    {
     "name": "stdout",
     "output_type": "stream",
     "text": [
      "Epoch 67/100, Average Loss: 1.654100\n"
     ]
    },
    {
     "name": "stderr",
     "output_type": "stream",
     "text": [
      "Epoch 68/100: 100%|██████████| 1032/1032 [00:00<00:00, 13064.71pair/s, loss=0.0856]\n"
     ]
    },
    {
     "name": "stdout",
     "output_type": "stream",
     "text": [
      "Epoch 68/100, Average Loss: 1.655490\n"
     ]
    },
    {
     "name": "stderr",
     "output_type": "stream",
     "text": [
      "Epoch 69/100: 100%|██████████| 1032/1032 [00:00<00:00, 12109.92pair/s, loss=0.083]\n"
     ]
    },
    {
     "name": "stdout",
     "output_type": "stream",
     "text": [
      "Epoch 69/100, Average Loss: 1.656983\n"
     ]
    },
    {
     "name": "stderr",
     "output_type": "stream",
     "text": [
      "Epoch 70/100: 100%|██████████| 1032/1032 [00:00<00:00, 11259.14pair/s, loss=0.0806]\n"
     ]
    },
    {
     "name": "stdout",
     "output_type": "stream",
     "text": [
      "Epoch 70/100, Average Loss: 1.658581\n"
     ]
    },
    {
     "name": "stderr",
     "output_type": "stream",
     "text": [
      "Epoch 71/100: 100%|██████████| 1032/1032 [00:00<00:00, 11696.34pair/s, loss=0.0783]\n"
     ]
    },
    {
     "name": "stdout",
     "output_type": "stream",
     "text": [
      "Epoch 71/100, Average Loss: 1.660294\n"
     ]
    },
    {
     "name": "stderr",
     "output_type": "stream",
     "text": [
      "Epoch 72/100: 100%|██████████| 1032/1032 [00:00<00:00, 11192.45pair/s, loss=0.0762]\n"
     ]
    },
    {
     "name": "stdout",
     "output_type": "stream",
     "text": [
      "Epoch 72/100, Average Loss: 1.662129\n"
     ]
    },
    {
     "name": "stderr",
     "output_type": "stream",
     "text": [
      "Epoch 73/100: 100%|██████████| 1032/1032 [00:00<00:00, 12015.66pair/s, loss=0.0742]\n"
     ]
    },
    {
     "name": "stdout",
     "output_type": "stream",
     "text": [
      "Epoch 73/100, Average Loss: 1.664118\n"
     ]
    },
    {
     "name": "stderr",
     "output_type": "stream",
     "text": [
      "Epoch 74/100: 100%|██████████| 1032/1032 [00:00<00:00, 10808.23pair/s, loss=0.0723]\n"
     ]
    },
    {
     "name": "stdout",
     "output_type": "stream",
     "text": [
      "Epoch 74/100, Average Loss: 1.666228\n"
     ]
    },
    {
     "name": "stderr",
     "output_type": "stream",
     "text": [
      "Epoch 75/100: 100%|██████████| 1032/1032 [00:00<00:00, 11440.92pair/s, loss=0.0706]\n"
     ]
    },
    {
     "name": "stdout",
     "output_type": "stream",
     "text": [
      "Epoch 75/100, Average Loss: 1.668406\n"
     ]
    },
    {
     "name": "stderr",
     "output_type": "stream",
     "text": [
      "Epoch 76/100: 100%|██████████| 1032/1032 [00:00<00:00, 12558.31pair/s, loss=0.0689]\n"
     ]
    },
    {
     "name": "stdout",
     "output_type": "stream",
     "text": [
      "Epoch 76/100, Average Loss: 1.670654\n"
     ]
    },
    {
     "name": "stderr",
     "output_type": "stream",
     "text": [
      "Epoch 77/100: 100%|██████████| 1032/1032 [00:00<00:00, 12533.00pair/s, loss=0.0674]\n"
     ]
    },
    {
     "name": "stdout",
     "output_type": "stream",
     "text": [
      "Epoch 77/100, Average Loss: 1.672967\n"
     ]
    },
    {
     "name": "stderr",
     "output_type": "stream",
     "text": [
      "Epoch 78/100: 100%|██████████| 1032/1032 [00:00<00:00, 10924.98pair/s, loss=0.0659]\n"
     ]
    },
    {
     "name": "stdout",
     "output_type": "stream",
     "text": [
      "Epoch 78/100, Average Loss: 1.675312\n"
     ]
    },
    {
     "name": "stderr",
     "output_type": "stream",
     "text": [
      "Epoch 79/100: 100%|██████████| 1032/1032 [00:00<00:00, 12093.55pair/s, loss=0.0646]\n"
     ]
    },
    {
     "name": "stdout",
     "output_type": "stream",
     "text": [
      "Epoch 79/100, Average Loss: 1.677610\n"
     ]
    },
    {
     "name": "stderr",
     "output_type": "stream",
     "text": [
      "Epoch 80/100: 100%|██████████| 1032/1032 [00:00<00:00, 11284.86pair/s, loss=0.0632]\n"
     ]
    },
    {
     "name": "stdout",
     "output_type": "stream",
     "text": [
      "Epoch 80/100, Average Loss: 1.679797\n"
     ]
    },
    {
     "name": "stderr",
     "output_type": "stream",
     "text": [
      "Epoch 81/100: 100%|██████████| 1032/1032 [00:00<00:00, 12536.48pair/s, loss=0.062]\n"
     ]
    },
    {
     "name": "stdout",
     "output_type": "stream",
     "text": [
      "Epoch 81/100, Average Loss: 1.681859\n"
     ]
    },
    {
     "name": "stderr",
     "output_type": "stream",
     "text": [
      "Epoch 82/100: 100%|██████████| 1032/1032 [00:00<00:00, 10783.86pair/s, loss=0.0608]\n"
     ]
    },
    {
     "name": "stdout",
     "output_type": "stream",
     "text": [
      "Epoch 82/100, Average Loss: 1.683776\n"
     ]
    },
    {
     "name": "stderr",
     "output_type": "stream",
     "text": [
      "Epoch 83/100: 100%|██████████| 1032/1032 [00:00<00:00, 9823.97pair/s, loss=0.0596]\n"
     ]
    },
    {
     "name": "stdout",
     "output_type": "stream",
     "text": [
      "Epoch 83/100, Average Loss: 1.685529\n"
     ]
    },
    {
     "name": "stderr",
     "output_type": "stream",
     "text": [
      "Epoch 84/100: 100%|██████████| 1032/1032 [00:00<00:00, 12205.67pair/s, loss=0.0585]\n"
     ]
    },
    {
     "name": "stdout",
     "output_type": "stream",
     "text": [
      "Epoch 84/100, Average Loss: 1.687121\n"
     ]
    },
    {
     "name": "stderr",
     "output_type": "stream",
     "text": [
      "Epoch 85/100: 100%|██████████| 1032/1032 [00:00<00:00, 12259.11pair/s, loss=0.0574]\n"
     ]
    },
    {
     "name": "stdout",
     "output_type": "stream",
     "text": [
      "Epoch 85/100, Average Loss: 1.688535\n"
     ]
    },
    {
     "name": "stderr",
     "output_type": "stream",
     "text": [
      "Epoch 86/100: 100%|██████████| 1032/1032 [00:00<00:00, 10121.05pair/s, loss=0.0564]\n"
     ]
    },
    {
     "name": "stdout",
     "output_type": "stream",
     "text": [
      "Epoch 86/100, Average Loss: 1.689774\n"
     ]
    },
    {
     "name": "stderr",
     "output_type": "stream",
     "text": [
      "Epoch 87/100: 100%|██████████| 1032/1032 [00:00<00:00, 11883.48pair/s, loss=0.0554]\n"
     ]
    },
    {
     "name": "stdout",
     "output_type": "stream",
     "text": [
      "Epoch 87/100, Average Loss: 1.690835\n"
     ]
    },
    {
     "name": "stderr",
     "output_type": "stream",
     "text": [
      "Epoch 88/100: 100%|██████████| 1032/1032 [00:00<00:00, 10423.72pair/s, loss=0.0544]\n"
     ]
    },
    {
     "name": "stdout",
     "output_type": "stream",
     "text": [
      "Epoch 88/100, Average Loss: 1.691789\n"
     ]
    },
    {
     "name": "stderr",
     "output_type": "stream",
     "text": [
      "Epoch 89/100: 100%|██████████| 1032/1032 [00:00<00:00, 10891.06pair/s, loss=0.0534]\n"
     ]
    },
    {
     "name": "stdout",
     "output_type": "stream",
     "text": [
      "Epoch 89/100, Average Loss: 1.692658\n"
     ]
    },
    {
     "name": "stderr",
     "output_type": "stream",
     "text": [
      "Epoch 90/100: 100%|██████████| 1032/1032 [00:00<00:00, 10097.73pair/s, loss=0.0525]\n"
     ]
    },
    {
     "name": "stdout",
     "output_type": "stream",
     "text": [
      "Epoch 90/100, Average Loss: 1.693541\n"
     ]
    },
    {
     "name": "stderr",
     "output_type": "stream",
     "text": [
      "Epoch 91/100: 100%|██████████| 1032/1032 [00:00<00:00, 12177.24pair/s, loss=0.0516]\n"
     ]
    },
    {
     "name": "stdout",
     "output_type": "stream",
     "text": [
      "Epoch 91/100, Average Loss: 1.694467\n"
     ]
    },
    {
     "name": "stderr",
     "output_type": "stream",
     "text": [
      "Epoch 92/100: 100%|██████████| 1032/1032 [00:00<00:00, 9595.78pair/s, loss=0.0507]\n"
     ]
    },
    {
     "name": "stdout",
     "output_type": "stream",
     "text": [
      "Epoch 92/100, Average Loss: 1.695438\n"
     ]
    },
    {
     "name": "stderr",
     "output_type": "stream",
     "text": [
      "Epoch 93/100: 100%|██████████| 1032/1032 [00:00<00:00, 11415.66pair/s, loss=0.0499]\n"
     ]
    },
    {
     "name": "stdout",
     "output_type": "stream",
     "text": [
      "Epoch 93/100, Average Loss: 1.696472\n"
     ]
    },
    {
     "name": "stderr",
     "output_type": "stream",
     "text": [
      "Epoch 94/100: 100%|██████████| 1032/1032 [00:00<00:00, 11091.27pair/s, loss=0.049]\n"
     ]
    },
    {
     "name": "stdout",
     "output_type": "stream",
     "text": [
      "Epoch 94/100, Average Loss: 1.697508\n"
     ]
    },
    {
     "name": "stderr",
     "output_type": "stream",
     "text": [
      "Epoch 95/100: 100%|██████████| 1032/1032 [00:00<00:00, 12053.94pair/s, loss=0.0482]\n"
     ]
    },
    {
     "name": "stdout",
     "output_type": "stream",
     "text": [
      "Epoch 95/100, Average Loss: 1.698515\n"
     ]
    },
    {
     "name": "stderr",
     "output_type": "stream",
     "text": [
      "Epoch 96/100: 100%|██████████| 1032/1032 [00:00<00:00, 11239.53pair/s, loss=0.0474]\n"
     ]
    },
    {
     "name": "stdout",
     "output_type": "stream",
     "text": [
      "Epoch 96/100, Average Loss: 1.699477\n"
     ]
    },
    {
     "name": "stderr",
     "output_type": "stream",
     "text": [
      "Epoch 97/100: 100%|██████████| 1032/1032 [00:00<00:00, 12500.93pair/s, loss=0.0467]\n"
     ]
    },
    {
     "name": "stdout",
     "output_type": "stream",
     "text": [
      "Epoch 97/100, Average Loss: 1.700389\n"
     ]
    },
    {
     "name": "stderr",
     "output_type": "stream",
     "text": [
      "Epoch 98/100: 100%|██████████| 1032/1032 [00:00<00:00, 12964.42pair/s, loss=0.046]\n"
     ]
    },
    {
     "name": "stdout",
     "output_type": "stream",
     "text": [
      "Epoch 98/100, Average Loss: 1.701269\n"
     ]
    },
    {
     "name": "stderr",
     "output_type": "stream",
     "text": [
      "Epoch 99/100: 100%|██████████| 1032/1032 [00:00<00:00, 10350.07pair/s, loss=0.0453]\n"
     ]
    },
    {
     "name": "stdout",
     "output_type": "stream",
     "text": [
      "Epoch 99/100, Average Loss: 1.702121\n"
     ]
    },
    {
     "name": "stderr",
     "output_type": "stream",
     "text": [
      "Epoch 100/100: 100%|██████████| 1032/1032 [00:00<00:00, 11690.62pair/s, loss=0.0446]\n"
     ]
    },
    {
     "name": "stdout",
     "output_type": "stream",
     "text": [
      "Epoch 100/100, Average Loss: 1.702965\n"
     ]
    },
    {
     "data": {
      "image/png": "[encoded data removed]",
      "text/plain": [
       "<Figure size 1000x500 with 1 Axes>"
      ]
     },
     "metadata": {},
     "output_type": "display_data"
    }
   ],
   "source": [
    "model,word2idx=train(vocab=vocab,training_pairs=word_pairs,epochs=100,learning_rate=0.1)"
   ]
  },
  {
   "cell_type": "code",
   "execution_count": 44,
   "metadata": {},
   "outputs": [],
   "source": [
    "import pickle\n",
    "embeddings = extract_embeddings(model, word2idx)\n",
    "with open('word_embeddings.pkl', 'wb') as f:\n",
    "    pickle.dump(embeddings, f)\n",
    "with open('skipgram_model.pkl', 'wb') as f:\n",
    "    pickle.dump(model, f)"
   ]
  },
  {
   "cell_type": "code",
   "execution_count": null,
   "metadata": {},
   "outputs": [
    {
     "name": "stdout",
     "output_type": "stream",
     "text": [
      "Top 5 kata paling mirip dengan 'musk':\n",
      "  protests: 0.8066\n",
      "  spacex: 0.7682\n",
      "  clash: 0.7167\n",
      "  musks: 0.6262\n",
      "  reining: 0.5845\n",
      "\n",
      "Top 5 kata paling tidak mirip (orthogonal) dengan 'musk':\n",
      "  across: -0.5895\n",
      "  found: -0.5250\n",
      "  cheapest: -0.4982\n",
      "  iql: -0.4901\n",
      "  enel: -0.4696\n",
      "\n",
      "Top 5 kata dengan similarity negatif terhadap 'musk':\n",
      "  across: -0.5895\n",
      "  found: -0.5250\n",
      "  cheapest: -0.4982\n",
      "  iql: -0.4901\n",
      "  enel: -0.4696\n"
     ]
    }
   ],
   "source": [
    "# Asumsikan Anda sudah memiliki similarity_df dari fungsi compute_cosine_similarity\n",
    "similarity_df = compute_cosine_similarity(embeddings)\n",
    "\n",
    "word = 'musk'\n",
    "top_n = 5\n",
    "\n",
    "# Panggil fungsi untuk mendapatkan semua daftar\n",
    "results = get_all_similarity_lists(similarity_df, word, top_n=top_n)\n",
    "\n",
    "print(f\"Top {top_n} kata paling mirip dengan '{word}':\")\n",
    "for similar_word, score in results[\"similar\"]:\n",
    "    print(f\"  {similar_word}: {score:.4f}\")\n",
    "\n",
    "print(f\"\\nTop {top_n} kata paling tidak mirip (orthogonal) dengan '{word}':\")\n",
    "for dissimilar_word, score in results[\"dissimilar\"]:\n",
    "    print(f\"  {dissimilar_word}: {score:.4f}\")\n",
    "\n",
    "print(f\"\\nTop {top_n} kata dengan similarity negatif terhadap '{word}':\")\n",
    "if results[\"negative\"]:\n",
    "    for neg_word, score in results[\"negative\"]:\n",
    "        print(f\"  {neg_word}: {score:.4f}\")\n",
    "else:\n",
    "    print(\"  Tidak ada kata dengan nilai similarity negatif.\")\n",
    "\n"
   ]
  },
  {
   "cell_type": "code",
   "execution_count": 66,
   "metadata": {},
   "outputs": [
    {
     "data": {
      "image/png": "[encoded data removed]",
      "text/plain": [
       "<Figure size 1000x1000 with 1 Axes>"
      ]
     },
     "metadata": {},
     "output_type": "display_data"
    }
   ],
   "source": [
    "plot_embeddings_tsne(embeddings,max_display=40)"
   ]
  },
  {
   "cell_type": "code",
   "execution_count": null,
   "metadata": {},
   "outputs": [],
   "source": []
  }
 ],
 "metadata": {
  "kernelspec": {
   "display_name": "torch_env",
   "language": "python",
   "name": "python3"
  },
  "language_info": {
   "codemirror_mode": {
    "name": "ipython",
    "version": 3
   },
   "file_extension": ".py",
   "mimetype": "text/x-python",
   "name": "python",
   "nbconvert_exporter": "python",
   "pygments_lexer": "ipython3",
   "version": "3.10.16"
  }
 },
 "nbformat": 4,
 "nbformat_minor": 2
}
